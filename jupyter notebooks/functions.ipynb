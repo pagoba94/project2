{
 "cells": [
  {
   "cell_type": "code",
   "execution_count": 1,
   "id": "93239031",
   "metadata": {},
   "outputs": [],
   "source": [
    "import pandas as pd\n",
    "import re\n",
    "import seaborn as sns\n",
    "import os\n",
    "import matplotlib.pyplot as plt\n",
    "import requests\n",
    "from lxml import html"
   ]
  },
  {
   "cell_type": "code",
   "execution_count": 2,
   "id": "4e6440d7",
   "metadata": {},
   "outputs": [],
   "source": [
    "def downloading_csv(path):\n",
    "    \"\"\"This function downloads from a raw link and saves the dataframe locally.\n",
    "    args:\n",
    "        :path: string.\n",
    "    returns: \n",
    "        :df: pandas Dataframe\n",
    "    \"\"\"\n",
    "    df=pd.read_csv(path, encoding='latin')\n",
    "    return df"
   ]
  },
  {
   "cell_type": "code",
   "execution_count": 3,
   "id": "9d7f5620",
   "metadata": {},
   "outputs": [],
   "source": [
    "path1= 'data/happiness-2015.csv'\n",
    "path2='data/happiness-2017.csv'\n",
    "path3='data/happiness-2019.csv'\n",
    "path4='data/happiness-2021.csv'"
   ]
  },
  {
   "cell_type": "code",
   "execution_count": 4,
   "id": "84158c36",
   "metadata": {},
   "outputs": [
    {
     "data": {
      "text/html": [
       "<div>\n",
       "<style scoped>\n",
       "    .dataframe tbody tr th:only-of-type {\n",
       "        vertical-align: middle;\n",
       "    }\n",
       "\n",
       "    .dataframe tbody tr th {\n",
       "        vertical-align: top;\n",
       "    }\n",
       "\n",
       "    .dataframe thead th {\n",
       "        text-align: right;\n",
       "    }\n",
       "</style>\n",
       "<table border=\"1\" class=\"dataframe\">\n",
       "  <thead>\n",
       "    <tr style=\"text-align: right;\">\n",
       "      <th></th>\n",
       "      <th>Country</th>\n",
       "      <th>Region</th>\n",
       "      <th>Happiness Rank</th>\n",
       "      <th>Happiness Score</th>\n",
       "      <th>Standard Error</th>\n",
       "      <th>Economy (GDP per Capita)</th>\n",
       "      <th>Family</th>\n",
       "      <th>Health (Life Expectancy)</th>\n",
       "      <th>Freedom</th>\n",
       "      <th>Trust (Government Corruption)</th>\n",
       "      <th>Generosity</th>\n",
       "      <th>Dystopia Residual</th>\n",
       "    </tr>\n",
       "  </thead>\n",
       "  <tbody>\n",
       "    <tr>\n",
       "      <th>0</th>\n",
       "      <td>Switzerland</td>\n",
       "      <td>Western Europe</td>\n",
       "      <td>1</td>\n",
       "      <td>7.587</td>\n",
       "      <td>0.03411</td>\n",
       "      <td>1.39651</td>\n",
       "      <td>1.34951</td>\n",
       "      <td>0.94143</td>\n",
       "      <td>0.66557</td>\n",
       "      <td>0.41978</td>\n",
       "      <td>0.29678</td>\n",
       "      <td>2.51738</td>\n",
       "    </tr>\n",
       "    <tr>\n",
       "      <th>1</th>\n",
       "      <td>Iceland</td>\n",
       "      <td>Western Europe</td>\n",
       "      <td>2</td>\n",
       "      <td>7.561</td>\n",
       "      <td>0.04884</td>\n",
       "      <td>1.30232</td>\n",
       "      <td>1.40223</td>\n",
       "      <td>0.94784</td>\n",
       "      <td>0.62877</td>\n",
       "      <td>0.14145</td>\n",
       "      <td>0.43630</td>\n",
       "      <td>2.70201</td>\n",
       "    </tr>\n",
       "    <tr>\n",
       "      <th>2</th>\n",
       "      <td>Denmark</td>\n",
       "      <td>Western Europe</td>\n",
       "      <td>3</td>\n",
       "      <td>7.527</td>\n",
       "      <td>0.03328</td>\n",
       "      <td>1.32548</td>\n",
       "      <td>1.36058</td>\n",
       "      <td>0.87464</td>\n",
       "      <td>0.64938</td>\n",
       "      <td>0.48357</td>\n",
       "      <td>0.34139</td>\n",
       "      <td>2.49204</td>\n",
       "    </tr>\n",
       "    <tr>\n",
       "      <th>3</th>\n",
       "      <td>Norway</td>\n",
       "      <td>Western Europe</td>\n",
       "      <td>4</td>\n",
       "      <td>7.522</td>\n",
       "      <td>0.03880</td>\n",
       "      <td>1.45900</td>\n",
       "      <td>1.33095</td>\n",
       "      <td>0.88521</td>\n",
       "      <td>0.66973</td>\n",
       "      <td>0.36503</td>\n",
       "      <td>0.34699</td>\n",
       "      <td>2.46531</td>\n",
       "    </tr>\n",
       "    <tr>\n",
       "      <th>4</th>\n",
       "      <td>Canada</td>\n",
       "      <td>North America</td>\n",
       "      <td>5</td>\n",
       "      <td>7.427</td>\n",
       "      <td>0.03553</td>\n",
       "      <td>1.32629</td>\n",
       "      <td>1.32261</td>\n",
       "      <td>0.90563</td>\n",
       "      <td>0.63297</td>\n",
       "      <td>0.32957</td>\n",
       "      <td>0.45811</td>\n",
       "      <td>2.45176</td>\n",
       "    </tr>\n",
       "  </tbody>\n",
       "</table>\n",
       "</div>"
      ],
      "text/plain": [
       "       Country          Region  Happiness Rank  Happiness Score   \n",
       "0  Switzerland  Western Europe               1            7.587  \\\n",
       "1      Iceland  Western Europe               2            7.561   \n",
       "2      Denmark  Western Europe               3            7.527   \n",
       "3       Norway  Western Europe               4            7.522   \n",
       "4       Canada   North America               5            7.427   \n",
       "\n",
       "   Standard Error  Economy (GDP per Capita)   Family   \n",
       "0         0.03411                   1.39651  1.34951  \\\n",
       "1         0.04884                   1.30232  1.40223   \n",
       "2         0.03328                   1.32548  1.36058   \n",
       "3         0.03880                   1.45900  1.33095   \n",
       "4         0.03553                   1.32629  1.32261   \n",
       "\n",
       "   Health (Life Expectancy)  Freedom  Trust (Government Corruption)   \n",
       "0                   0.94143  0.66557                        0.41978  \\\n",
       "1                   0.94784  0.62877                        0.14145   \n",
       "2                   0.87464  0.64938                        0.48357   \n",
       "3                   0.88521  0.66973                        0.36503   \n",
       "4                   0.90563  0.63297                        0.32957   \n",
       "\n",
       "   Generosity  Dystopia Residual  \n",
       "0     0.29678            2.51738  \n",
       "1     0.43630            2.70201  \n",
       "2     0.34139            2.49204  \n",
       "3     0.34699            2.46531  \n",
       "4     0.45811            2.45176  "
      ]
     },
     "execution_count": 4,
     "metadata": {},
     "output_type": "execute_result"
    }
   ],
   "source": [
    "df= downloading_csv('data/happiness-2015.csv')\n",
    "df.head()"
   ]
  },
  {
   "cell_type": "code",
   "execution_count": 5,
   "id": "82f44cc0",
   "metadata": {},
   "outputs": [
    {
     "data": {
      "text/html": [
       "<div>\n",
       "<style scoped>\n",
       "    .dataframe tbody tr th:only-of-type {\n",
       "        vertical-align: middle;\n",
       "    }\n",
       "\n",
       "    .dataframe tbody tr th {\n",
       "        vertical-align: top;\n",
       "    }\n",
       "\n",
       "    .dataframe thead th {\n",
       "        text-align: right;\n",
       "    }\n",
       "</style>\n",
       "<table border=\"1\" class=\"dataframe\">\n",
       "  <thead>\n",
       "    <tr style=\"text-align: right;\">\n",
       "      <th></th>\n",
       "      <th>Country</th>\n",
       "      <th>Region</th>\n",
       "      <th>Happiness Rank</th>\n",
       "      <th>Happiness Score</th>\n",
       "      <th>Standard Error</th>\n",
       "      <th>Economy (GDP per Capita)</th>\n",
       "      <th>Family</th>\n",
       "      <th>Health (Life Expectancy)</th>\n",
       "      <th>Freedom</th>\n",
       "      <th>Trust (Government Corruption)</th>\n",
       "      <th>Generosity</th>\n",
       "      <th>Dystopia Residual</th>\n",
       "    </tr>\n",
       "  </thead>\n",
       "  <tbody>\n",
       "    <tr>\n",
       "      <th>114</th>\n",
       "      <td>Zimbabwe</td>\n",
       "      <td>Sub-Saharan Africa</td>\n",
       "      <td>115</td>\n",
       "      <td>4.61</td>\n",
       "      <td>0.0429</td>\n",
       "      <td>0.271</td>\n",
       "      <td>1.03276</td>\n",
       "      <td>0.33475</td>\n",
       "      <td>0.25861</td>\n",
       "      <td>0.08079</td>\n",
       "      <td>0.18987</td>\n",
       "      <td>2.44191</td>\n",
       "    </tr>\n",
       "  </tbody>\n",
       "</table>\n",
       "</div>"
      ],
      "text/plain": [
       "      Country              Region  Happiness Rank  Happiness Score   \n",
       "114  Zimbabwe  Sub-Saharan Africa             115             4.61  \\\n",
       "\n",
       "     Standard Error  Economy (GDP per Capita)   Family   \n",
       "114          0.0429                     0.271  1.03276  \\\n",
       "\n",
       "     Health (Life Expectancy)  Freedom  Trust (Government Corruption)   \n",
       "114                   0.33475  0.25861                        0.08079  \\\n",
       "\n",
       "     Generosity  Dystopia Residual  \n",
       "114     0.18987            2.44191  "
      ]
     },
     "execution_count": 5,
     "metadata": {},
     "output_type": "execute_result"
    }
   ],
   "source": [
    "df2017= downloading_csv('data/happiness-2017.csv')\n",
    "df.sample()"
   ]
  },
  {
   "cell_type": "code",
   "execution_count": 6,
   "id": "2d53a729",
   "metadata": {},
   "outputs": [
    {
     "data": {
      "text/html": [
       "<div>\n",
       "<style scoped>\n",
       "    .dataframe tbody tr th:only-of-type {\n",
       "        vertical-align: middle;\n",
       "    }\n",
       "\n",
       "    .dataframe tbody tr th {\n",
       "        vertical-align: top;\n",
       "    }\n",
       "\n",
       "    .dataframe thead th {\n",
       "        text-align: right;\n",
       "    }\n",
       "</style>\n",
       "<table border=\"1\" class=\"dataframe\">\n",
       "  <thead>\n",
       "    <tr style=\"text-align: right;\">\n",
       "      <th></th>\n",
       "      <th>Country</th>\n",
       "      <th>Region</th>\n",
       "      <th>Happiness Rank</th>\n",
       "      <th>Happiness Score</th>\n",
       "      <th>Standard Error</th>\n",
       "      <th>Economy (GDP per Capita)</th>\n",
       "      <th>Family</th>\n",
       "      <th>Health (Life Expectancy)</th>\n",
       "      <th>Freedom</th>\n",
       "      <th>Trust (Government Corruption)</th>\n",
       "      <th>Generosity</th>\n",
       "      <th>Dystopia Residual</th>\n",
       "    </tr>\n",
       "  </thead>\n",
       "  <tbody>\n",
       "    <tr>\n",
       "      <th>73</th>\n",
       "      <td>Indonesia</td>\n",
       "      <td>Southeastern Asia</td>\n",
       "      <td>74</td>\n",
       "      <td>5.399</td>\n",
       "      <td>0.02596</td>\n",
       "      <td>0.82827</td>\n",
       "      <td>1.08708</td>\n",
       "      <td>0.63793</td>\n",
       "      <td>0.46611</td>\n",
       "      <td>0.0</td>\n",
       "      <td>0.51535</td>\n",
       "      <td>1.86399</td>\n",
       "    </tr>\n",
       "  </tbody>\n",
       "</table>\n",
       "</div>"
      ],
      "text/plain": [
       "      Country             Region  Happiness Rank  Happiness Score   \n",
       "73  Indonesia  Southeastern Asia              74            5.399  \\\n",
       "\n",
       "    Standard Error  Economy (GDP per Capita)   Family   \n",
       "73         0.02596                   0.82827  1.08708  \\\n",
       "\n",
       "    Health (Life Expectancy)  Freedom  Trust (Government Corruption)   \n",
       "73                   0.63793  0.46611                            0.0  \\\n",
       "\n",
       "    Generosity  Dystopia Residual  \n",
       "73     0.51535            1.86399  "
      ]
     },
     "execution_count": 6,
     "metadata": {},
     "output_type": "execute_result"
    }
   ],
   "source": [
    "df2019= downloading_csv('data/happiness-2019.csv')\n",
    "df.sample()"
   ]
  },
  {
   "cell_type": "code",
   "execution_count": 7,
   "id": "cf63f7cb",
   "metadata": {},
   "outputs": [
    {
     "data": {
      "text/html": [
       "<div>\n",
       "<style scoped>\n",
       "    .dataframe tbody tr th:only-of-type {\n",
       "        vertical-align: middle;\n",
       "    }\n",
       "\n",
       "    .dataframe tbody tr th {\n",
       "        vertical-align: top;\n",
       "    }\n",
       "\n",
       "    .dataframe thead th {\n",
       "        text-align: right;\n",
       "    }\n",
       "</style>\n",
       "<table border=\"1\" class=\"dataframe\">\n",
       "  <thead>\n",
       "    <tr style=\"text-align: right;\">\n",
       "      <th></th>\n",
       "      <th>Country</th>\n",
       "      <th>Region</th>\n",
       "      <th>Happiness Rank</th>\n",
       "      <th>Happiness Score</th>\n",
       "      <th>Standard Error</th>\n",
       "      <th>Economy (GDP per Capita)</th>\n",
       "      <th>Family</th>\n",
       "      <th>Health (Life Expectancy)</th>\n",
       "      <th>Freedom</th>\n",
       "      <th>Trust (Government Corruption)</th>\n",
       "      <th>Generosity</th>\n",
       "      <th>Dystopia Residual</th>\n",
       "    </tr>\n",
       "  </thead>\n",
       "  <tbody>\n",
       "    <tr>\n",
       "      <th>153</th>\n",
       "      <td>Rwanda</td>\n",
       "      <td>Sub-Saharan Africa</td>\n",
       "      <td>154</td>\n",
       "      <td>3.465</td>\n",
       "      <td>0.03464</td>\n",
       "      <td>0.22208</td>\n",
       "      <td>0.7737</td>\n",
       "      <td>0.42864</td>\n",
       "      <td>0.59201</td>\n",
       "      <td>0.55191</td>\n",
       "      <td>0.22628</td>\n",
       "      <td>0.67042</td>\n",
       "    </tr>\n",
       "  </tbody>\n",
       "</table>\n",
       "</div>"
      ],
      "text/plain": [
       "    Country              Region  Happiness Rank  Happiness Score   \n",
       "153  Rwanda  Sub-Saharan Africa             154            3.465  \\\n",
       "\n",
       "     Standard Error  Economy (GDP per Capita)  Family   \n",
       "153         0.03464                   0.22208  0.7737  \\\n",
       "\n",
       "     Health (Life Expectancy)  Freedom  Trust (Government Corruption)   \n",
       "153                   0.42864  0.59201                        0.55191  \\\n",
       "\n",
       "     Generosity  Dystopia Residual  \n",
       "153     0.22628            0.67042  "
      ]
     },
     "execution_count": 7,
     "metadata": {},
     "output_type": "execute_result"
    }
   ],
   "source": [
    "df2021= downloading_csv('data/happiness-2021.csv')\n",
    "df.sample()"
   ]
  },
  {
   "cell_type": "code",
   "execution_count": 8,
   "id": "ad2d3398",
   "metadata": {},
   "outputs": [],
   "source": [
    "def downloading_html(path): \n",
    "    \"\"\" This function downloads the HTML content from a specified path, reads it into a pandas dataframe and returns the first table \n",
    "    in the HTML content.\n",
    "    args:\n",
    "        :path: string. the link\n",
    "    returns: \n",
    "        :df: pandas Dataframe\n",
    "    \"\"\"\n",
    "    \n",
    "    headers = {\"User-agent\": 'Mozilla/5.0 (Windows NT 10.0; Win64; x64) AppleWebKit/537.36 (KHTML, like Gecko) Chrome/79.0.3945.130 Safari/537.36'}\n",
    "    res = requests.get(path, headers=headers)\n",
    "    table = pd.read_html(res.content, encoding = 'utf8')\n",
    "    df = table[0]\n",
    "    return df"
   ]
  },
  {
   "cell_type": "code",
   "execution_count": 9,
   "id": "0fba8907",
   "metadata": {},
   "outputs": [
    {
     "data": {
      "text/html": [
       "<div>\n",
       "<style scoped>\n",
       "    .dataframe tbody tr th:only-of-type {\n",
       "        vertical-align: middle;\n",
       "    }\n",
       "\n",
       "    .dataframe tbody tr th {\n",
       "        vertical-align: top;\n",
       "    }\n",
       "\n",
       "    .dataframe thead th {\n",
       "        text-align: right;\n",
       "    }\n",
       "</style>\n",
       "<table border=\"1\" class=\"dataframe\">\n",
       "  <thead>\n",
       "    <tr style=\"text-align: right;\">\n",
       "      <th></th>\n",
       "      <th>Country</th>\n",
       "      <th>Average yearly temperature (1961–1990 Celsius)</th>\n",
       "    </tr>\n",
       "  </thead>\n",
       "  <tbody>\n",
       "    <tr>\n",
       "      <th>22</th>\n",
       "      <td>Brunei</td>\n",
       "      <td>26.85</td>\n",
       "    </tr>\n",
       "  </tbody>\n",
       "</table>\n",
       "</div>"
      ],
      "text/plain": [
       "   Country Average yearly temperature (1961–1990 Celsius)\n",
       "22  Brunei                                          26.85"
      ]
     },
     "execution_count": 9,
     "metadata": {},
     "output_type": "execute_result"
    }
   ],
   "source": [
    "df2=downloading_html('https://en.wikipedia.org/wiki/List_of_countries_by_average_yearly_temperature')\n",
    "df2.sample()"
   ]
  },
  {
   "cell_type": "code",
   "execution_count": 10,
   "id": "4bedb3f1",
   "metadata": {},
   "outputs": [],
   "source": [
    "def cleaning_df2015(df, df2):\n",
    "    \"\"\"This function cleans and merges two dataframes based on a dictionary of country names and specific cleaning operations. \n",
    "    Args:\n",
    "        :df: A pandas DataFrame with columns \"Country\", \"Economy (GDP per Capita)\",  and other columns that are not needed in \n",
    "        the final result.\n",
    "        :df2: A pandas DataFrame with columns \"Country\", \"Average yearly temperature (1961–1990 Celsius)\".\n",
    "\n",
    "    Returns:\n",
    "        df: A merged DataFrame with the cleaned and renamed columns of both input dataframes.\n",
    "    \"\"\"\n",
    "    \n",
    "    countries_dict={'Denmark':'Denmark',\n",
    "                    'Cyprus': 'Cyprus',\n",
    "                    'Norway': 'Norway',\n",
    "                    'Somalia': 'Somalia|Somaliland',\n",
    "                    'Macedonia':'Macedonia',\n",
    "                    'Swaziland': 'Eswatini',\n",
    "                    'Democratic Republic of the Congo': 'Kinshasa', \n",
    "                    'Republic of the Congo':'Brazzaville'             \n",
    "    }\n",
    "    \n",
    "    # Iterate over each element of the species2 column of the dataframe and replace the values for the keys\n",
    "    for key, value in countries_dict.items():\n",
    "        mask= df2['Country'].str.contains(value, case=False)\n",
    "        df2.loc[mask, 'Country'] = key\n",
    "    \n",
    "    df2['Average yearly temperature (1961–1990 Celsius)'] = df2['Average yearly temperature (1961–1990 Celsius)'].str.replace('−', '-').astype(float)\n",
    "    \n",
    "    mask_Democratic = df['Country'].str.contains('Kinshasa', case=False)\n",
    "    df.loc[mask_Democratic, 'Country'] = 'Democratic Republic of the Congo'\n",
    "    \n",
    "    mask_Congo = df['Country'].str.contains('Brazzaville', case=False)\n",
    "    df.loc[mask_Congo, 'Country'] = 'Republic of the Congo'    \n",
    "    \n",
    "    mask_Somalia = df['Country'].str.contains('Somaliland', case=False)\n",
    "    df.loc[mask_Somalia, 'Country'] = 'Somalia'\n",
    "    \n",
    "    df = pd.merge(df, df2, on='Country', how='outer')\n",
    "    df = df.add_suffix(' 2015')\n",
    "    df.rename(columns = {\"Economy (GDP per Capita) 2015\":\"GDP per Capita 2015\" ,\n",
    "                         \"Average yearly temperature (1961–1990 Celsius) 2015\": \"Average yearly temperature\", \n",
    "                         \"Country 2015\": \"Country\", \"Region 2015\": \"Region\"}, inplace=True)\n",
    "    \n",
    "    df.drop(columns=[\"Region\", \"Standard Error 2015\", \"Family 2015\", \"Health (Life Expectancy) 2015\", \"Freedom 2015\", \n",
    "                     \"Trust (Government Corruption) 2015\", \"Generosity 2015\", \"Dystopia Residual 2015\"], axis=1, inplace=True)\n",
    "    \n",
    "    \n",
    "    return df\n",
    "    "
   ]
  },
  {
   "cell_type": "code",
   "execution_count": 11,
   "id": "2eb3d7ea",
   "metadata": {},
   "outputs": [
    {
     "data": {
      "text/html": [
       "<div>\n",
       "<style scoped>\n",
       "    .dataframe tbody tr th:only-of-type {\n",
       "        vertical-align: middle;\n",
       "    }\n",
       "\n",
       "    .dataframe tbody tr th {\n",
       "        vertical-align: top;\n",
       "    }\n",
       "\n",
       "    .dataframe thead th {\n",
       "        text-align: right;\n",
       "    }\n",
       "</style>\n",
       "<table border=\"1\" class=\"dataframe\">\n",
       "  <thead>\n",
       "    <tr style=\"text-align: right;\">\n",
       "      <th></th>\n",
       "      <th>Country</th>\n",
       "      <th>Happiness Rank 2015</th>\n",
       "      <th>Happiness Score 2015</th>\n",
       "      <th>GDP per Capita 2015</th>\n",
       "      <th>Average yearly temperature</th>\n",
       "    </tr>\n",
       "  </thead>\n",
       "  <tbody>\n",
       "    <tr>\n",
       "      <th>194</th>\n",
       "      <td>Liechtenstein</td>\n",
       "      <td>NaN</td>\n",
       "      <td>NaN</td>\n",
       "      <td>NaN</td>\n",
       "      <td>5.8</td>\n",
       "    </tr>\n",
       "  </tbody>\n",
       "</table>\n",
       "</div>"
      ],
      "text/plain": [
       "           Country  Happiness Rank 2015  Happiness Score 2015   \n",
       "194  Liechtenstein                  NaN                   NaN  \\\n",
       "\n",
       "     GDP per Capita 2015  Average yearly temperature  \n",
       "194                  NaN                         5.8  "
      ]
     },
     "execution_count": 11,
     "metadata": {},
     "output_type": "execute_result"
    }
   ],
   "source": [
    "df = cleaning_df2015(df, df2)\n",
    "df.sample()"
   ]
  },
  {
   "cell_type": "code",
   "execution_count": 12,
   "id": "f4f81143",
   "metadata": {},
   "outputs": [],
   "source": [
    "def cleaning_df2017(df):\n",
    "    \"\"\"This function cleans and renames columns of a dataframe of the 2017 happiness report and replaces some country names.\n",
    "    \n",
    "    Args:\n",
    "        :df: A pandas DataFrame with columns \"Country\", \"Happiness.Rank\", \"Happiness.Score\", \"Economy..GDP.per.Capita.\" and \n",
    "        other columns that are not needed in the final result.\n",
    "\n",
    "    Returns:\n",
    "        :df: A cleaned and renamed DataFrame with the specified columns for the 2017 happiness report. \"\"\"\n",
    "    \n",
    "    df = df.add_suffix(' 2017')\n",
    "    df.rename(columns = {\"Country 2017\" : \"Country\", \n",
    "                             \"Happiness.Rank 2017\" :\"Happiness Rank 2017\", \n",
    "                             \"Happiness.Score 2017\" : \"Happiness Score 2017\", \n",
    "                             \"Economy..GDP.per.Capita. 2017\": \"GDP per Capita 2017\"}, inplace=True)\n",
    "    \n",
    "    df.drop(columns=[\"Whisker.high 2017\", \"Whisker.low 2017\", \"Family 2017\", \"Health..Life.Expectancy. 2017\", \"Freedom 2017\", \n",
    "                         \"Generosity 2017\", \"Trust..Government.Corruption. 2017\", \"Dystopia.Residual 2017\"], axis=1, inplace=True)\n",
    "    \n",
    "    mask_Taiwan = df['Country'].str.contains('Taiwan', case=False)\n",
    "    df.loc[mask_Taiwan, 'Country'] = 'Taiwan'\n",
    "\n",
    "    mask_HongKong = df['Country'].str.contains('Hong Kong', case=False)\n",
    "    df.loc[mask_HongKong, 'Country'] = 'Hong Kong'\n",
    "\n",
    "    mask_Democratic = df['Country'].str.contains('Kinshasa', case=False)\n",
    "    df.loc[mask_Democratic, 'Country'] = 'Democratic Republic of the Congo'\n",
    "\n",
    "    mask_Congo = df['Country'].str.contains('Brazzaville', case=False)\n",
    "    df.loc[mask_Congo, 'Country'] = 'Republic of the Congo'\n",
    "\n",
    "    return df\n",
    "    "
   ]
  },
  {
   "cell_type": "code",
   "execution_count": 13,
   "id": "fa3feef4",
   "metadata": {},
   "outputs": [
    {
     "data": {
      "text/html": [
       "<div>\n",
       "<style scoped>\n",
       "    .dataframe tbody tr th:only-of-type {\n",
       "        vertical-align: middle;\n",
       "    }\n",
       "\n",
       "    .dataframe tbody tr th {\n",
       "        vertical-align: top;\n",
       "    }\n",
       "\n",
       "    .dataframe thead th {\n",
       "        text-align: right;\n",
       "    }\n",
       "</style>\n",
       "<table border=\"1\" class=\"dataframe\">\n",
       "  <thead>\n",
       "    <tr style=\"text-align: right;\">\n",
       "      <th></th>\n",
       "      <th>Country</th>\n",
       "      <th>Happiness Rank 2017</th>\n",
       "      <th>Happiness Score 2017</th>\n",
       "      <th>GDP per Capita 2017</th>\n",
       "    </tr>\n",
       "  </thead>\n",
       "  <tbody>\n",
       "    <tr>\n",
       "      <th>73</th>\n",
       "      <td>Jordan</td>\n",
       "      <td>74</td>\n",
       "      <td>5.336</td>\n",
       "      <td>0.991012</td>\n",
       "    </tr>\n",
       "  </tbody>\n",
       "</table>\n",
       "</div>"
      ],
      "text/plain": [
       "   Country  Happiness Rank 2017  Happiness Score 2017  GDP per Capita 2017\n",
       "73  Jordan                   74                 5.336             0.991012"
      ]
     },
     "execution_count": 13,
     "metadata": {},
     "output_type": "execute_result"
    }
   ],
   "source": [
    "df2017=cleaning_df2017(df2017)\n",
    "df2017.sample()"
   ]
  },
  {
   "cell_type": "code",
   "execution_count": 14,
   "id": "f449fe2b",
   "metadata": {},
   "outputs": [],
   "source": [
    "def cleaning_df2019(df):\n",
    "    \"\"\"This function cleans and renames columns of a dataframe of the 2019 happiness report and replaces some country names.\n",
    "    \n",
    "    Args:\n",
    "        :df: A pandas DataFrame with columns \"Country or region\", \"Overall rank\", \"Score\", \"GDP per Capita\" and \n",
    "        other columns that are not needed in the final result.\n",
    "\n",
    "    Returns:\n",
    "        :df: A cleaned and renamed DataFrame with the specified columns for the 2019 happiness report. \"\"\"\n",
    "    \n",
    "    \n",
    "    df = df.add_suffix(' 2019')\n",
    "    df.rename(columns = {\"Country or region 2019\" : \"Country\", \n",
    "                             \"Overall rank 2019\":\"Happiness Rank 2019\", \n",
    "                             \"Score 2019\": \"Happiness Score 2019\", \n",
    "                             \"GDP per capita 2019\":\"GDP per Capita 2019\" }, inplace=True)\n",
    "    \n",
    "    df.drop(columns=[\"Social support 2019\", \"Freedom to make life choices 2019\", \"Generosity 2019\", \n",
    "                         \"Perceptions of corruption 2019\",\"Healthy life expectancy 2019\"], axis=1, inplace=True)\n",
    "    \n",
    "    countries_dict={'Sudan':'Sudan',\n",
    "                    'Cyprus': 'Cyprus',\n",
    "                    'Somalia': 'Somalia|Somaliland',\n",
    "                    'Macedonia':'Macedonia',\n",
    "                    'Trinidad and Tobago': 'Trinidad & Tobago',\n",
    "                    'Swaziland': 'Eswatini',\n",
    "                    'Democratic Republic of the Congo': 'Kinshasa', \n",
    "                    'Republic of the Congo':'Brazzaville'     \n",
    "    }\n",
    "    \n",
    "    # Iterate over each element of the species2 column of the dataframe and replace the values for the keys\n",
    "    for key, value in countries_dict.items():\n",
    "        mask= df['Country'].str.contains(value, case=False)\n",
    "        df.loc[mask, 'Country'] = key\n",
    "    \n",
    "    return df"
   ]
  },
  {
   "cell_type": "code",
   "execution_count": 15,
   "id": "55f9eb59",
   "metadata": {},
   "outputs": [
    {
     "data": {
      "text/html": [
       "<div>\n",
       "<style scoped>\n",
       "    .dataframe tbody tr th:only-of-type {\n",
       "        vertical-align: middle;\n",
       "    }\n",
       "\n",
       "    .dataframe tbody tr th {\n",
       "        vertical-align: top;\n",
       "    }\n",
       "\n",
       "    .dataframe thead th {\n",
       "        text-align: right;\n",
       "    }\n",
       "</style>\n",
       "<table border=\"1\" class=\"dataframe\">\n",
       "  <thead>\n",
       "    <tr style=\"text-align: right;\">\n",
       "      <th></th>\n",
       "      <th>Happiness Rank 2019</th>\n",
       "      <th>Country</th>\n",
       "      <th>Happiness Score 2019</th>\n",
       "      <th>GDP per Capita 2019</th>\n",
       "    </tr>\n",
       "  </thead>\n",
       "  <tbody>\n",
       "    <tr>\n",
       "      <th>108</th>\n",
       "      <td>109</td>\n",
       "      <td>Cambodia</td>\n",
       "      <td>4.7</td>\n",
       "      <td>0.574</td>\n",
       "    </tr>\n",
       "  </tbody>\n",
       "</table>\n",
       "</div>"
      ],
      "text/plain": [
       "     Happiness Rank 2019   Country  Happiness Score 2019  GDP per Capita 2019\n",
       "108                  109  Cambodia                   4.7                0.574"
      ]
     },
     "execution_count": 15,
     "metadata": {},
     "output_type": "execute_result"
    }
   ],
   "source": [
    "df2019=cleaning_df2019(df2019)\n",
    "df2019.sample()"
   ]
  },
  {
   "cell_type": "code",
   "execution_count": 16,
   "id": "323f59c2",
   "metadata": {},
   "outputs": [],
   "source": [
    "def cleaning_df2021(df):\n",
    "    \"\"\"This function cleans and renames columns of a dataframe of the 2021 happiness report and replaces some country names.\n",
    "    It also creates a new column called \"Happiness Rank 2021\" with the rank of column \"Ladder score\".\n",
    "    \n",
    "    Args:\n",
    "        :df: A pandas DataFrame with columns \"ï»¿Country name\", \"Ladder score\", \"Explained by: Log GDP per capita 2021\" and \n",
    "        other columns that are not needed in the final result.\n",
    "\n",
    "    Returns:\n",
    "        :df: A cleaned and renamed DataFrame with the specified columns for the 2021 happiness report. \"\"\"\n",
    "    \n",
    "    df = df.add_suffix(' 2021')\n",
    "    df.rename(columns = {\"ï»¿Country name 2021\" : \"Country\", \n",
    "                             \"Ladder score 2021\": \"Happiness Score 2021\", \n",
    "                             \"Explained by: Log GDP per capita 2021\":\"GDP per Capita 2021\"}, inplace=True)\n",
    "    \n",
    "    df.drop(columns=[\"Regional indicator 2021\", \"Standard error of ladder score 2021\", \"upperwhisker 2021\", \n",
    "                         \"lowerwhisker 2021\",\"Social support 2021\",\"Healthy life expectancy 2021\", \"Freedom to make life choices 2021\", \n",
    "                         \"Generosity 2021\", \"Perceptions of corruption 2021\", \"Ladder score in Dystopia 2021\", \n",
    "                         \"Explained by: Social support 2021\", \"Explained by: Healthy life expectancy 2021\", \n",
    "                         \"Explained by: Perceptions of corruption 2021\", \"Dystopia + residual 2021\", \"Explained by: Generosity 2021\", \n",
    "                         \"Explained by: Freedom to make life choices 2021\",\"Logged GDP per capita 2021\"  ], axis=1, inplace=True)\n",
    "    \n",
    "    mask_Taiwan = df['Country'].str.contains('Taiwan', case=False)\n",
    "    df.loc[mask_Taiwan, 'Country'] = 'Taiwan'\n",
    "\n",
    "    mask_Congo = df['Country'].str.contains('Brazzaville', case=False)\n",
    "    df.loc[mask_Congo, 'Country'] = 'Republic of the Congo'\n",
    "\n",
    "    mask_HongKong = df['Country'].str.contains('Hong Kong', case=False)\n",
    "    df.loc[mask_HongKong, 'Country'] = 'Hong Kong'\n",
    "\n",
    "    mask_Macedonia = df['Country'].str.contains('Macedonia', case=False)\n",
    "    df.loc[mask_Macedonia, 'Country'] = 'Macedonia'\n",
    "    \n",
    "    df['Happiness Rank 2021'] = df['Happiness Score 2021'].rank(method='dense', ascending=False).astype(int)\n",
    "    \n",
    "    return df"
   ]
  },
  {
   "cell_type": "code",
   "execution_count": 17,
   "id": "2ed698ad",
   "metadata": {},
   "outputs": [
    {
     "data": {
      "text/html": [
       "<div>\n",
       "<style scoped>\n",
       "    .dataframe tbody tr th:only-of-type {\n",
       "        vertical-align: middle;\n",
       "    }\n",
       "\n",
       "    .dataframe tbody tr th {\n",
       "        vertical-align: top;\n",
       "    }\n",
       "\n",
       "    .dataframe thead th {\n",
       "        text-align: right;\n",
       "    }\n",
       "</style>\n",
       "<table border=\"1\" class=\"dataframe\">\n",
       "  <thead>\n",
       "    <tr style=\"text-align: right;\">\n",
       "      <th></th>\n",
       "      <th>Country</th>\n",
       "      <th>Happiness Score 2021</th>\n",
       "      <th>GDP per Capita 2021</th>\n",
       "      <th>Happiness Rank 2021</th>\n",
       "    </tr>\n",
       "  </thead>\n",
       "  <tbody>\n",
       "    <tr>\n",
       "      <th>53</th>\n",
       "      <td>Thailand</td>\n",
       "      <td>5.985</td>\n",
       "      <td>1.107</td>\n",
       "      <td>54</td>\n",
       "    </tr>\n",
       "  </tbody>\n",
       "</table>\n",
       "</div>"
      ],
      "text/plain": [
       "     Country  Happiness Score 2021  GDP per Capita 2021  Happiness Rank 2021\n",
       "53  Thailand                 5.985                1.107                   54"
      ]
     },
     "execution_count": 17,
     "metadata": {},
     "output_type": "execute_result"
    }
   ],
   "source": [
    "df2021=cleaning_df2021(df2021)\n",
    "df2021.sample()"
   ]
  },
  {
   "cell_type": "code",
   "execution_count": 18,
   "id": "5cdeef74",
   "metadata": {},
   "outputs": [],
   "source": [
    "def merging_df(df,df1,df2,df3):\n",
    "    \"\"\"This function merges four pandas DataFrames by country name.\n",
    "    Args:\n",
    "        :df: A pandas DataFrame with columns \"Country\" and other columns to be merged.\n",
    "        :df1, df2, df3: Other pandas DataFrames with \"Country\" column and other columns to be merged.\n",
    "\n",
    "    Returns:\n",
    "        :df: A merged DataFrame with all the columns from the four input DataFrames, merged by country name. \n",
    "    \n",
    "    \"\"\"\n",
    "    merged_df = pd.merge(df, df1, on='Country', how='outer')\n",
    "    merged_df2 = pd.merge(merged_df, df2, on='Country', how='outer')\n",
    "    merged_df3 = pd.merge(merged_df2, df3, on='Country', how='outer')\n",
    "    df=merged_df3\n",
    "    \n",
    "    return df"
   ]
  },
  {
   "cell_type": "code",
   "execution_count": 19,
   "id": "f861d063",
   "metadata": {},
   "outputs": [
    {
     "data": {
      "text/html": [
       "<div>\n",
       "<style scoped>\n",
       "    .dataframe tbody tr th:only-of-type {\n",
       "        vertical-align: middle;\n",
       "    }\n",
       "\n",
       "    .dataframe tbody tr th {\n",
       "        vertical-align: top;\n",
       "    }\n",
       "\n",
       "    .dataframe thead th {\n",
       "        text-align: right;\n",
       "    }\n",
       "</style>\n",
       "<table border=\"1\" class=\"dataframe\">\n",
       "  <thead>\n",
       "    <tr style=\"text-align: right;\">\n",
       "      <th></th>\n",
       "      <th>Country</th>\n",
       "      <th>Happiness Rank 2015</th>\n",
       "      <th>Happiness Score 2015</th>\n",
       "      <th>GDP per Capita 2015</th>\n",
       "      <th>Average yearly temperature</th>\n",
       "      <th>Happiness Rank 2017</th>\n",
       "      <th>Happiness Score 2017</th>\n",
       "      <th>GDP per Capita 2017</th>\n",
       "      <th>Happiness Rank 2019</th>\n",
       "      <th>Happiness Score 2019</th>\n",
       "      <th>GDP per Capita 2019</th>\n",
       "      <th>Happiness Score 2021</th>\n",
       "      <th>GDP per Capita 2021</th>\n",
       "      <th>Happiness Rank 2021</th>\n",
       "    </tr>\n",
       "  </thead>\n",
       "  <tbody>\n",
       "    <tr>\n",
       "      <th>100</th>\n",
       "      <td>Mongolia</td>\n",
       "      <td>100.0</td>\n",
       "      <td>4.874</td>\n",
       "      <td>0.82819</td>\n",
       "      <td>1.7</td>\n",
       "      <td>100.0</td>\n",
       "      <td>4.955</td>\n",
       "      <td>1.027236</td>\n",
       "      <td>83.0</td>\n",
       "      <td>5.285</td>\n",
       "      <td>0.948</td>\n",
       "      <td>5.677</td>\n",
       "      <td>0.966</td>\n",
       "      <td>69.0</td>\n",
       "    </tr>\n",
       "  </tbody>\n",
       "</table>\n",
       "</div>"
      ],
      "text/plain": [
       "      Country  Happiness Rank 2015  Happiness Score 2015  GDP per Capita 2015   \n",
       "100  Mongolia                100.0                 4.874              0.82819  \\\n",
       "\n",
       "     Average yearly temperature  Happiness Rank 2017  Happiness Score 2017   \n",
       "100                         1.7                100.0                 4.955  \\\n",
       "\n",
       "     GDP per Capita 2017  Happiness Rank 2019  Happiness Score 2019   \n",
       "100             1.027236                 83.0                 5.285  \\\n",
       "\n",
       "     GDP per Capita 2019  Happiness Score 2021  GDP per Capita 2021   \n",
       "100                0.948                 5.677                0.966  \\\n",
       "\n",
       "     Happiness Rank 2021  \n",
       "100                 69.0  "
      ]
     },
     "execution_count": 19,
     "metadata": {},
     "output_type": "execute_result"
    }
   ],
   "source": [
    "df=merging_df(df,df2017,df2019,df2021)\n",
    "df.sample()"
   ]
  },
  {
   "cell_type": "code",
   "execution_count": 20,
   "id": "2aa56501",
   "metadata": {},
   "outputs": [],
   "source": [
    "def mean_columns(df):\n",
    "    \"\"\" This functions addes a mean score of happiness and GDP per capita to a dataframe, eliminates rows with incomplete data \n",
    "    or irrelevant countries, and fills in missing values for temperature.\n",
    "\n",
    "    Args:\n",
    "        :df: a pandas Dataframe with happiness and GDP data\n",
    "\n",
    "    Returns:\n",
    "        :df: a pandas Dataframe with additional columns for mean happiness score and mean GDP per capita, as well as cleaned \n",
    "        and filled data.\"\"\"\n",
    "    \n",
    "    df_score=df[['Country', 'Happiness Score 2015', 'Happiness Score 2017', 'Happiness Score 2019', 'Happiness Score 2021']]\n",
    "    df_mean = df_score.loc[:, ['Happiness Score 2015', 'Happiness Score 2017', 'Happiness Score 2019', 'Happiness Score 2021']].mean(axis=1).round(2)\n",
    "    df_score[\"Mean Score\"]= df_mean\n",
    "    df = df.dropna(subset=[\"Happiness Score 2015\",\n",
    "                       \"Happiness Score 2017\",\"Happiness Score 2019\", \n",
    "                       \"Happiness Score 2021\"], how=\"all\")\n",
    "    \n",
    "    eliminated_rows=['North Cyprus','Oman', 'Suriname', 'Belize', 'South Sudan', 'Maldives', 'Djibouti' ]\n",
    "    for i in eliminated_rows:\n",
    "        df = df.drop(df.loc[df['Country'] == i].index)\n",
    "        \n",
    "    df.loc[df['Country'] == 'Taiwan', 'Average yearly temperature'] = 27.0\n",
    "    df.loc[df['Country'] == 'Kosovo', 'Average yearly temperature'] = 15.0\n",
    "    df.loc[df['Country'] == 'Palestinian Territories', 'Average yearly temperature'] = 20\n",
    "    \n",
    "    df['Mean Happiness Score'] = df[['Happiness Score 2015', 'Happiness Score 2017', 'Happiness Score 2019', \n",
    "                                     'Happiness Score 2021']].mean(axis=1).round(3)\n",
    "    \n",
    "    df['Mean GDP per Capita'] = df[['GDP per Capita 2015', 'GDP per Capita 2017', 'GDP per Capita 2019', \n",
    "                                    'GDP per Capita 2021']].mean(axis=1).round(2)\n",
    "    \n",
    "    return df"
   ]
  },
  {
   "cell_type": "code",
   "execution_count": 21,
   "id": "da6e11d5",
   "metadata": {},
   "outputs": [
    {
     "name": "stderr",
     "output_type": "stream",
     "text": [
      "C:\\Users\\pagob\\AppData\\Local\\Temp\\ipykernel_19532\\3582105330.py:14: SettingWithCopyWarning: \n",
      "A value is trying to be set on a copy of a slice from a DataFrame.\n",
      "Try using .loc[row_indexer,col_indexer] = value instead\n",
      "\n",
      "See the caveats in the documentation: https://pandas.pydata.org/pandas-docs/stable/user_guide/indexing.html#returning-a-view-versus-a-copy\n",
      "  df_score[\"Mean Score\"]= df_mean\n"
     ]
    },
    {
     "data": {
      "text/html": [
       "<div>\n",
       "<style scoped>\n",
       "    .dataframe tbody tr th:only-of-type {\n",
       "        vertical-align: middle;\n",
       "    }\n",
       "\n",
       "    .dataframe tbody tr th {\n",
       "        vertical-align: top;\n",
       "    }\n",
       "\n",
       "    .dataframe thead th {\n",
       "        text-align: right;\n",
       "    }\n",
       "</style>\n",
       "<table border=\"1\" class=\"dataframe\">\n",
       "  <thead>\n",
       "    <tr style=\"text-align: right;\">\n",
       "      <th></th>\n",
       "      <th>Country</th>\n",
       "      <th>Happiness Rank 2015</th>\n",
       "      <th>Happiness Score 2015</th>\n",
       "      <th>GDP per Capita 2015</th>\n",
       "      <th>Average yearly temperature</th>\n",
       "      <th>Happiness Rank 2017</th>\n",
       "      <th>Happiness Score 2017</th>\n",
       "      <th>GDP per Capita 2017</th>\n",
       "      <th>Happiness Rank 2019</th>\n",
       "      <th>Happiness Score 2019</th>\n",
       "      <th>GDP per Capita 2019</th>\n",
       "      <th>Happiness Score 2021</th>\n",
       "      <th>GDP per Capita 2021</th>\n",
       "      <th>Happiness Rank 2021</th>\n",
       "      <th>Mean Happiness Score</th>\n",
       "      <th>Mean GDP per Capita</th>\n",
       "    </tr>\n",
       "  </thead>\n",
       "  <tbody>\n",
       "    <tr>\n",
       "      <th>135</th>\n",
       "      <td>Egypt</td>\n",
       "      <td>135.0</td>\n",
       "      <td>4.194</td>\n",
       "      <td>0.8818</td>\n",
       "      <td>22.1</td>\n",
       "      <td>104.0</td>\n",
       "      <td>4.735</td>\n",
       "      <td>0.989702</td>\n",
       "      <td>137.0</td>\n",
       "      <td>4.166</td>\n",
       "      <td>0.913</td>\n",
       "      <td>4.283</td>\n",
       "      <td>0.954</td>\n",
       "      <td>130.0</td>\n",
       "      <td>4.345</td>\n",
       "      <td>0.93</td>\n",
       "    </tr>\n",
       "  </tbody>\n",
       "</table>\n",
       "</div>"
      ],
      "text/plain": [
       "    Country  Happiness Rank 2015  Happiness Score 2015  GDP per Capita 2015   \n",
       "135   Egypt                135.0                 4.194               0.8818  \\\n",
       "\n",
       "     Average yearly temperature  Happiness Rank 2017  Happiness Score 2017   \n",
       "135                        22.1                104.0                 4.735  \\\n",
       "\n",
       "     GDP per Capita 2017  Happiness Rank 2019  Happiness Score 2019   \n",
       "135             0.989702                137.0                 4.166  \\\n",
       "\n",
       "     GDP per Capita 2019  Happiness Score 2021  GDP per Capita 2021   \n",
       "135                0.913                 4.283                0.954  \\\n",
       "\n",
       "     Happiness Rank 2021  Mean Happiness Score  Mean GDP per Capita  \n",
       "135                130.0                 4.345                 0.93  "
      ]
     },
     "execution_count": 21,
     "metadata": {},
     "output_type": "execute_result"
    }
   ],
   "source": [
    "df= mean_columns(df)\n",
    "df.sample()"
   ]
  },
  {
   "cell_type": "code",
   "execution_count": 22,
   "id": "215e1411",
   "metadata": {},
   "outputs": [],
   "source": [
    "def population_df(df):\n",
    "    \"\"\" This function retrieves the population data for a given list of countries from the World Bank API and merge it with a \n",
    "    dataframe of happiness scores. The merged dataframe will be sorted by the mean happiness score in descending order, and a \n",
    "    column for mean rank will be added.\n",
    "\n",
    "    Args:\n",
    "        :df: A pandas Dataframe of happiness scores for a list of countries.\n",
    "\n",
    "    Returns:\n",
    "        :df: A merged dataframe of happiness scores and population data, sorted by mean happiness score in descending order.\n",
    "    \"\"\"\n",
    "    \n",
    "    import wbdata\n",
    "\n",
    "    # Define the indicators we want to retrieve\n",
    "    indicators = {\"SP.POP.TOTL\": \"Population\"}\n",
    "\n",
    "    # Define the countries we want to retrieve data for\n",
    "    countries = ['FI', 'DK', 'CH', 'IS', 'NO', 'NL', 'SE', 'NZ', 'CA', 'AU', 'IL', 'AT', 'CR', 'LU', 'IE', 'US', 'DE', 'GB', \n",
    "             'BE', 'CZ', 'AE', 'MX', 'FR', 'BR', 'MT', 'SG', 'CL', 'QA', 'TW', 'PA', 'UY', 'SA', 'ES', 'GT', 'AR', 'CO', \n",
    "             'BH', 'TH', 'TT', 'SK', 'IT', 'KW', 'SV', 'UZ', 'SI', 'PL', 'LT', 'NI', 'EC', 'JP', 'KZ', 'KR', 'CY', 'XK', \n",
    "             'BO', 'JM', 'RO', 'EE', 'PE', 'MD', 'MU', 'LV', 'RU', 'PY', 'MY', 'HR', 'BY', 'RS', 'LY', 'PH', 'PT', 'HU', \n",
    "             'HK', 'HN', 'TM', 'VE', 'DZ', 'ME', 'BA', 'KG', 'ID', 'TR', 'GR', 'DO', 'PK', 'VN', 'CN', 'AZ', 'MN', 'TJ', \n",
    "             'MK', 'BT', 'NG', 'MA', 'JO', 'SO', 'LB', 'NP', 'LA', 'AL', 'BG', 'ZA', 'CM', 'GM', 'GH', 'MZ', 'BD', 'PS', \n",
    "             'IR', 'TN', 'AM', 'IQ', 'CG', 'NA', 'SN', 'KE', 'CI', 'UA', 'GE', 'GA', 'SZ', 'ZM', 'CD', 'MM', 'NE', 'KH', \n",
    "             'ET', 'MR', 'SL', 'LK', 'EG', 'ML', 'BF', 'BJ', 'UG', 'LR', 'IN', 'GN', 'TD', 'KM', 'LS', 'AO', 'MG', 'SD', \n",
    "             'HT', 'MW', 'ZW', 'BW', 'YE', 'TG', 'TZ', 'RW', 'BI', 'SY', 'AF', 'CF'\n",
    "    ]\n",
    "\n",
    "    # Retrieve the data from the API and store it in a dataframe\n",
    "    df2= wbdata.get_dataframe(indicators, country=countries)\n",
    "    df2= df2.loc[df2.index.get_level_values(\"date\") == \"2019\"]\n",
    "    df2.reset_index(inplace=True)\n",
    "    df2=df2.drop(columns=['date'])\n",
    "    df2 = df2.rename(columns={'country': 'Country'})\n",
    "    \n",
    "    countries_dict={'Czech Republic':'Czechia',\n",
    "                'Slovakia':'Slovak Republic',\n",
    "                'South Korea':'Korea, Rep',\n",
    "                'Russia':'Russian Federation',\n",
    "                'Hong Kong':'Hong Kong SAR, China',\n",
    "                'Venezuela':'Venezuela, RB',\n",
    "                'Kyrgyzstan':'Kyrgyz Republic',\n",
    "                'Turkey':'Turkiye',\n",
    "                'Macedonia':'North Macedonia',\n",
    "                'Laos':'Lao PDR',\n",
    "                'Gambia':'Gambia, The',\n",
    "                'Iran':'Iran, Islamic Rep.',\n",
    "                'Republic of the Congo':'Congo, Rep.',\n",
    "                'Ivory Coast':\"Cote d'Ivoire\" ,\n",
    "                'Swaziland':'Eswatini',\n",
    "                'Democratic Republic of the Congo': 'Congo, Dem. Rep.',\n",
    "                'Egypt':'Egypt',\n",
    "                'Yemen':'Yemen, Rep.',\n",
    "                'Syria':'Syrian Arab Republic',\n",
    "                'Palestinian Territories': 'West Bank and Gaza'\n",
    "    }\n",
    "\n",
    "    for key, value in countries_dict.items():\n",
    "        mask= df2['Country'].str.contains(value, case=False)\n",
    "        df2.loc[mask, 'Country'] = key\n",
    "    \n",
    "    merged_df = pd.merge(df, df2, on='Country', how='outer')\n",
    "    merged_df.loc[merged_df['Country'] == 'Taiwan', 'Population'] = 23733876\n",
    "    df=merged_df\n",
    "    \n",
    "    df['Mean Rank'] = df['Mean Happiness Score'].rank(method='dense', ascending=False).astype(int)\n",
    "    \n",
    "    df= df.sort_values(\"Mean Rank\", ascending=True)\n",
    "    df = df.reset_index(drop=True)\n",
    "    \n",
    "    return df"
   ]
  },
  {
   "cell_type": "code",
   "execution_count": 23,
   "id": "cf625165",
   "metadata": {},
   "outputs": [],
   "source": [
    "df=population_df(df)"
   ]
  },
  {
   "cell_type": "code",
   "execution_count": null,
   "id": "5c99553b",
   "metadata": {},
   "outputs": [],
   "source": []
  },
  {
   "cell_type": "code",
   "execution_count": null,
   "id": "94048ea7",
   "metadata": {},
   "outputs": [],
   "source": []
  },
  {
   "cell_type": "code",
   "execution_count": 33,
   "id": "0ea88b6f",
   "metadata": {},
   "outputs": [],
   "source": [
    "import plotly.graph_objects as go\n",
    "import plotly.offline as opy\n",
    "import plotly.express as px\n",
    "import plotly.graph_objects as go\n",
    "import kaleido\n",
    "import chart_studio\n",
    "import plotly.io as pio"
   ]
  },
  {
   "cell_type": "code",
   "execution_count": 36,
   "id": "ea4960ea",
   "metadata": {},
   "outputs": [],
   "source": [
    "def happiness_temperature_scatter(df):\n",
    "    \"\"\"Creates a scatter plot using Plotly Express that shows the relationship between the mean happiness score and \n",
    "    the average yearly temperature for each country in the given dataframe.\n",
    "\n",
    "    Args:\n",
    "        :df: A pandas dataframe containing the data to be plotted. The dataframe has the columns named 'Mean Happiness Score', \n",
    "        'Average yearly temperature', and 'Country'.\n",
    "\n",
    "    Returns:\n",
    "        None. Displays the resulting plot in the output cell using Plotly.\n",
    "    \"\"\"\n",
    "    \n",
    "    fig = px.scatter(df, x=\"Mean Happiness Score\", y=\"Average yearly temperature\", \n",
    "                     color=\"Average yearly temperature\", hover_name=\"Country\", title=\"Countries happiness Score and their temperature\")\n",
    "    \n",
    "    #fig.write_image('figures/happiness_temperature.png')\n",
    "    pio.write_html(fig, file='figures/happiness_temperature_scatter.html', auto_open=True)\n",
    "    fig.show()\n"
   ]
  },
  {
   "cell_type": "code",
   "execution_count": 37,
   "id": "899c661d",
   "metadata": {},
   "outputs": [
    {
     "data": {
      "application/vnd.plotly.v1+json": {
       "config": {
        "plotlyServerURL": "https://plot.ly"
       },
       "data": [
        {
         "hovertemplate": "<b>%{hovertext}</b><br><br>Mean Happiness Score=%{x}<br>Average yearly temperature=%{marker.color}<extra></extra>",
         "hovertext": [
          "Finland",
          "Denmark",
          "Switzerland",
          "Iceland",
          "Norway",
          "Netherlands",
          "Sweden",
          "New Zealand",
          "Canada",
          "Australia",
          "Israel",
          "Austria",
          "Costa Rica",
          "Luxembourg",
          "Ireland",
          "United States",
          "Germany",
          "United Kingdom",
          "Belgium",
          "United Arab Emirates",
          "Czech Republic",
          "Mexico",
          "France",
          "Brazil",
          "Malta",
          "Singapore",
          "Chile",
          "Qatar",
          "Taiwan",
          "Panama",
          "Uruguay",
          "Saudi Arabia",
          "Spain",
          "Guatemala",
          "Argentina",
          "Colombia",
          "Bahrain",
          "Thailand",
          "Trinidad and Tobago",
          "Slovakia",
          "Italy",
          "Kuwait",
          "El Salvador",
          "Uzbekistan",
          "Slovenia",
          "Lithuania",
          "Poland",
          "Nicaragua",
          "Ecuador",
          "Japan",
          "Kazakhstan",
          "Cyprus",
          "South Korea",
          "Kosovo",
          "Cyprus",
          "Jamaica",
          "Bolivia",
          "Romania",
          "Estonia",
          "Peru",
          "Mauritius",
          "Moldova",
          "Latvia",
          "Russia",
          "Paraguay",
          "Malaysia",
          "Croatia",
          "Belarus",
          "Libya",
          "Serbia",
          "Philippines",
          "Portugal",
          "Hungary",
          "Hong Kong",
          "Honduras",
          "Turkmenistan",
          "Venezuela",
          "Algeria",
          "Montenegro",
          "Bosnia and Herzegovina",
          "Kyrgyzstan",
          "Indonesia",
          "Turkey",
          "Greece",
          "Dominican Republic",
          "Pakistan",
          "Vietnam",
          "China",
          "Azerbaijan",
          "Mongolia",
          "Tajikistan",
          "Macedonia",
          "Bhutan",
          "Morocco",
          "Nigeria",
          "Lebanon",
          "Somalia",
          "Jordan",
          "Nepal",
          "Laos",
          "Albania",
          "Bulgaria",
          "South Africa",
          "Gambia",
          "Cameroon",
          "Ghana",
          "Bangladesh",
          "Mozambique",
          "Palestinian Territories",
          "Iran",
          "Tunisia",
          "Armenia",
          "Iraq",
          "Republic of the Congo",
          "Namibia",
          "Senegal",
          "Kenya",
          "Ivory Coast",
          "Gabon",
          "Georgia",
          "Ukraine",
          "Swaziland",
          "Zambia",
          "Myanmar",
          "Democratic Republic of the Congo",
          "Niger",
          "Ethiopia",
          "Cambodia",
          "Mauritania",
          "Sierra Leone",
          "Sri Lanka",
          "Egypt",
          "Mali",
          "Burkina Faso",
          "Benin",
          "Uganda",
          "India",
          "Liberia",
          "Guinea",
          "Chad",
          "Comoros",
          "Lesotho",
          "Angola",
          "Madagascar",
          "Sudan",
          "Haiti",
          "Zimbabwe",
          "Malawi",
          "Botswana",
          "Yemen",
          "Togo",
          "Tanzania",
          "Rwanda",
          "Burundi",
          "Syria",
          "Afghanistan",
          "Central African Republic"
         ],
         "legendgroup": "",
         "marker": {
          "color": [
           1.55,
           -3.7,
           5.1,
           -0.7,
           1.5,
           9.25,
           1.75,
           10.55,
           -5.1,
           21.65,
           19.2,
           6.35,
           24.8,
           8.65,
           9.3,
           8.55,
           8.4,
           8.45,
           9.55,
           26.65,
           7.55,
           21,
           10.7,
           24.95,
           19.2,
           26.45,
           8.45,
           27.15,
           27,
           25.4,
           17.55,
           24.65,
           13.3,
           23.45,
           14.8,
           24.5,
           26.8,
           26.3,
           25.75,
           6.8,
           13.45,
           27.15,
           24.45,
           12.05,
           8.9,
           6.2,
           7.85,
           24.9,
           21.85,
           11.15,
           5.5,
           18.45,
           11.5,
           15,
           18.45,
           24.95,
           21.55,
           8.8,
           2,
           19.6,
           22.4,
           9.45,
           5.6,
           -5.35,
           23.55,
           25.4,
           10.9,
           6.15,
           21.8,
           10.55,
           25.55,
           15.15,
           9.75,
           21.45,
           23.5,
           15.1,
           25.35,
           22.5,
           10.55,
           9.85,
           2.1,
           25.85,
           9.9,
           15.4,
           24.55,
           20.2,
           24.45,
           7.5,
           11.95,
           1.7,
           6.4,
           9.8,
           7.4,
           17.1,
           27,
           15,
           27.05,
           18.3,
           8.1,
           22.8,
           11.4,
           10.55,
           17.75,
           27.5,
           24.6,
           27.2,
           25,
           23.8,
           20,
           17.25,
           19.2,
           7.15,
           21.4,
           24.55,
           19.95,
           27.85,
           24.75,
           26.35,
           25.05,
           5.65,
           8.3,
           21.4,
           21.4,
           13.05,
           24,
           27.15,
           22.2,
           26.8,
           27.65,
           26.05,
           26.95,
           22.1,
           28.25,
           28.29,
           27.55,
           22.8,
           23.65,
           25.3,
           25.7,
           26.55,
           25.3,
           11.85,
           21.55,
           22.65,
           26.9,
           24.9,
           21,
           21.9,
           21.5,
           23.85,
           27.15,
           22.35,
           17.85,
           19.8,
           17.75,
           12.6,
           24.9
          ],
          "coloraxis": "coloraxis",
          "symbol": "circle"
         },
         "mode": "markers",
         "name": "",
         "orientation": "v",
         "showlegend": false,
         "type": "scatter",
         "x": [
          7.621,
          7.567,
          7.533,
          7.528,
          7.501,
          7.427,
          7.338,
          7.296,
          7.281,
          7.245,
          7.197,
          7.18,
          7.135,
          7.056,
          7.006,
          6.989,
          6.96,
          6.925,
          6.896,
          6.734,
          6.733,
          6.669,
          6.575,
          6.562,
          6.539,
          6.502,
          6.484,
          6.453,
          6.437,
          6.435,
          6.416,
          6.406,
          6.394,
          6.362,
          6.297,
          6.243,
          6.223,
          6.218,
          6.176,
          6.156,
          6.155,
          6.132,
          6.112,
          6.082,
          6.046,
          6.035,
          6.028,
          5.994,
          5.944,
          5.933,
          5.909,
          5.895,
          5.89,
          5.835,
          5.813,
          5.805,
          5.802,
          5.79,
          5.781,
          5.769,
          5.761,
          5.755,
          5.73,
          5.701,
          5.692,
          5.644,
          5.592,
          5.56,
          5.554,
          5.55,
          5.503,
          5.48,
          5.468,
          5.463,
          5.437,
          5.421,
          5.415,
          5.394,
          5.383,
          5.333,
          5.324,
          5.3,
          5.288,
          5.274,
          5.271,
          5.263,
          5.255,
          5.236,
          5.206,
          5.198,
          5.19,
          5.139,
          5.115,
          5.094,
          5.091,
          4.961,
          4.959,
          4.957,
          4.914,
          4.901,
          4.86,
          4.802,
          4.787,
          4.784,
          4.783,
          4.709,
          4.696,
          4.695,
          4.676,
          4.662,
          4.65,
          4.642,
          4.616,
          4.608,
          4.596,
          4.563,
          4.522,
          4.521,
          4.503,
          4.498,
          4.496,
          4.462,
          4.456,
          4.41,
          4.405,
          4.394,
          4.383,
          4.379,
          4.361,
          4.36,
          4.351,
          4.345,
          4.325,
          4.26,
          4.231,
          4.209,
          4.179,
          4.176,
          4.17,
          4.077,
          4.073,
          4.005,
          3.914,
          3.867,
          3.847,
          3.833,
          3.823,
          3.818,
          3.763,
          3.677,
          3.631,
          3.496,
          3.421,
          3.34,
          3.31,
          3.274,
          3.151
         ],
         "xaxis": "x",
         "y": [
          1.55,
          -3.7,
          5.1,
          -0.7,
          1.5,
          9.25,
          1.75,
          10.55,
          -5.1,
          21.65,
          19.2,
          6.35,
          24.8,
          8.65,
          9.3,
          8.55,
          8.4,
          8.45,
          9.55,
          26.65,
          7.55,
          21,
          10.7,
          24.95,
          19.2,
          26.45,
          8.45,
          27.15,
          27,
          25.4,
          17.55,
          24.65,
          13.3,
          23.45,
          14.8,
          24.5,
          26.8,
          26.3,
          25.75,
          6.8,
          13.45,
          27.15,
          24.45,
          12.05,
          8.9,
          6.2,
          7.85,
          24.9,
          21.85,
          11.15,
          5.5,
          18.45,
          11.5,
          15,
          18.45,
          24.95,
          21.55,
          8.8,
          2,
          19.6,
          22.4,
          9.45,
          5.6,
          -5.35,
          23.55,
          25.4,
          10.9,
          6.15,
          21.8,
          10.55,
          25.55,
          15.15,
          9.75,
          21.45,
          23.5,
          15.1,
          25.35,
          22.5,
          10.55,
          9.85,
          2.1,
          25.85,
          9.9,
          15.4,
          24.55,
          20.2,
          24.45,
          7.5,
          11.95,
          1.7,
          6.4,
          9.8,
          7.4,
          17.1,
          27,
          15,
          27.05,
          18.3,
          8.1,
          22.8,
          11.4,
          10.55,
          17.75,
          27.5,
          24.6,
          27.2,
          25,
          23.8,
          20,
          17.25,
          19.2,
          7.15,
          21.4,
          24.55,
          19.95,
          27.85,
          24.75,
          26.35,
          25.05,
          5.65,
          8.3,
          21.4,
          21.4,
          13.05,
          24,
          27.15,
          22.2,
          26.8,
          27.65,
          26.05,
          26.95,
          22.1,
          28.25,
          28.29,
          27.55,
          22.8,
          23.65,
          25.3,
          25.7,
          26.55,
          25.3,
          11.85,
          21.55,
          22.65,
          26.9,
          24.9,
          21,
          21.9,
          21.5,
          23.85,
          27.15,
          22.35,
          17.85,
          19.8,
          17.75,
          12.6,
          24.9
         ],
         "yaxis": "y"
        }
       ],
       "layout": {
        "coloraxis": {
         "colorbar": {
          "title": {
           "text": "Average yearly temperature"
          }
         },
         "colorscale": [
          [
           0,
           "#0d0887"
          ],
          [
           0.1111111111111111,
           "#46039f"
          ],
          [
           0.2222222222222222,
           "#7201a8"
          ],
          [
           0.3333333333333333,
           "#9c179e"
          ],
          [
           0.4444444444444444,
           "#bd3786"
          ],
          [
           0.5555555555555556,
           "#d8576b"
          ],
          [
           0.6666666666666666,
           "#ed7953"
          ],
          [
           0.7777777777777778,
           "#fb9f3a"
          ],
          [
           0.8888888888888888,
           "#fdca26"
          ],
          [
           1,
           "#f0f921"
          ]
         ]
        },
        "legend": {
         "tracegroupgap": 0
        },
        "template": {
         "data": {
          "bar": [
           {
            "error_x": {
             "color": "#2a3f5f"
            },
            "error_y": {
             "color": "#2a3f5f"
            },
            "marker": {
             "line": {
              "color": "#E5ECF6",
              "width": 0.5
             },
             "pattern": {
              "fillmode": "overlay",
              "size": 10,
              "solidity": 0.2
             }
            },
            "type": "bar"
           }
          ],
          "barpolar": [
           {
            "marker": {
             "line": {
              "color": "#E5ECF6",
              "width": 0.5
             },
             "pattern": {
              "fillmode": "overlay",
              "size": 10,
              "solidity": 0.2
             }
            },
            "type": "barpolar"
           }
          ],
          "carpet": [
           {
            "aaxis": {
             "endlinecolor": "#2a3f5f",
             "gridcolor": "white",
             "linecolor": "white",
             "minorgridcolor": "white",
             "startlinecolor": "#2a3f5f"
            },
            "baxis": {
             "endlinecolor": "#2a3f5f",
             "gridcolor": "white",
             "linecolor": "white",
             "minorgridcolor": "white",
             "startlinecolor": "#2a3f5f"
            },
            "type": "carpet"
           }
          ],
          "choropleth": [
           {
            "colorbar": {
             "outlinewidth": 0,
             "ticks": ""
            },
            "type": "choropleth"
           }
          ],
          "contour": [
           {
            "colorbar": {
             "outlinewidth": 0,
             "ticks": ""
            },
            "colorscale": [
             [
              0,
              "#0d0887"
             ],
             [
              0.1111111111111111,
              "#46039f"
             ],
             [
              0.2222222222222222,
              "#7201a8"
             ],
             [
              0.3333333333333333,
              "#9c179e"
             ],
             [
              0.4444444444444444,
              "#bd3786"
             ],
             [
              0.5555555555555556,
              "#d8576b"
             ],
             [
              0.6666666666666666,
              "#ed7953"
             ],
             [
              0.7777777777777778,
              "#fb9f3a"
             ],
             [
              0.8888888888888888,
              "#fdca26"
             ],
             [
              1,
              "#f0f921"
             ]
            ],
            "type": "contour"
           }
          ],
          "contourcarpet": [
           {
            "colorbar": {
             "outlinewidth": 0,
             "ticks": ""
            },
            "type": "contourcarpet"
           }
          ],
          "heatmap": [
           {
            "colorbar": {
             "outlinewidth": 0,
             "ticks": ""
            },
            "colorscale": [
             [
              0,
              "#0d0887"
             ],
             [
              0.1111111111111111,
              "#46039f"
             ],
             [
              0.2222222222222222,
              "#7201a8"
             ],
             [
              0.3333333333333333,
              "#9c179e"
             ],
             [
              0.4444444444444444,
              "#bd3786"
             ],
             [
              0.5555555555555556,
              "#d8576b"
             ],
             [
              0.6666666666666666,
              "#ed7953"
             ],
             [
              0.7777777777777778,
              "#fb9f3a"
             ],
             [
              0.8888888888888888,
              "#fdca26"
             ],
             [
              1,
              "#f0f921"
             ]
            ],
            "type": "heatmap"
           }
          ],
          "heatmapgl": [
           {
            "colorbar": {
             "outlinewidth": 0,
             "ticks": ""
            },
            "colorscale": [
             [
              0,
              "#0d0887"
             ],
             [
              0.1111111111111111,
              "#46039f"
             ],
             [
              0.2222222222222222,
              "#7201a8"
             ],
             [
              0.3333333333333333,
              "#9c179e"
             ],
             [
              0.4444444444444444,
              "#bd3786"
             ],
             [
              0.5555555555555556,
              "#d8576b"
             ],
             [
              0.6666666666666666,
              "#ed7953"
             ],
             [
              0.7777777777777778,
              "#fb9f3a"
             ],
             [
              0.8888888888888888,
              "#fdca26"
             ],
             [
              1,
              "#f0f921"
             ]
            ],
            "type": "heatmapgl"
           }
          ],
          "histogram": [
           {
            "marker": {
             "pattern": {
              "fillmode": "overlay",
              "size": 10,
              "solidity": 0.2
             }
            },
            "type": "histogram"
           }
          ],
          "histogram2d": [
           {
            "colorbar": {
             "outlinewidth": 0,
             "ticks": ""
            },
            "colorscale": [
             [
              0,
              "#0d0887"
             ],
             [
              0.1111111111111111,
              "#46039f"
             ],
             [
              0.2222222222222222,
              "#7201a8"
             ],
             [
              0.3333333333333333,
              "#9c179e"
             ],
             [
              0.4444444444444444,
              "#bd3786"
             ],
             [
              0.5555555555555556,
              "#d8576b"
             ],
             [
              0.6666666666666666,
              "#ed7953"
             ],
             [
              0.7777777777777778,
              "#fb9f3a"
             ],
             [
              0.8888888888888888,
              "#fdca26"
             ],
             [
              1,
              "#f0f921"
             ]
            ],
            "type": "histogram2d"
           }
          ],
          "histogram2dcontour": [
           {
            "colorbar": {
             "outlinewidth": 0,
             "ticks": ""
            },
            "colorscale": [
             [
              0,
              "#0d0887"
             ],
             [
              0.1111111111111111,
              "#46039f"
             ],
             [
              0.2222222222222222,
              "#7201a8"
             ],
             [
              0.3333333333333333,
              "#9c179e"
             ],
             [
              0.4444444444444444,
              "#bd3786"
             ],
             [
              0.5555555555555556,
              "#d8576b"
             ],
             [
              0.6666666666666666,
              "#ed7953"
             ],
             [
              0.7777777777777778,
              "#fb9f3a"
             ],
             [
              0.8888888888888888,
              "#fdca26"
             ],
             [
              1,
              "#f0f921"
             ]
            ],
            "type": "histogram2dcontour"
           }
          ],
          "mesh3d": [
           {
            "colorbar": {
             "outlinewidth": 0,
             "ticks": ""
            },
            "type": "mesh3d"
           }
          ],
          "parcoords": [
           {
            "line": {
             "colorbar": {
              "outlinewidth": 0,
              "ticks": ""
             }
            },
            "type": "parcoords"
           }
          ],
          "pie": [
           {
            "automargin": true,
            "type": "pie"
           }
          ],
          "scatter": [
           {
            "fillpattern": {
             "fillmode": "overlay",
             "size": 10,
             "solidity": 0.2
            },
            "type": "scatter"
           }
          ],
          "scatter3d": [
           {
            "line": {
             "colorbar": {
              "outlinewidth": 0,
              "ticks": ""
             }
            },
            "marker": {
             "colorbar": {
              "outlinewidth": 0,
              "ticks": ""
             }
            },
            "type": "scatter3d"
           }
          ],
          "scattercarpet": [
           {
            "marker": {
             "colorbar": {
              "outlinewidth": 0,
              "ticks": ""
             }
            },
            "type": "scattercarpet"
           }
          ],
          "scattergeo": [
           {
            "marker": {
             "colorbar": {
              "outlinewidth": 0,
              "ticks": ""
             }
            },
            "type": "scattergeo"
           }
          ],
          "scattergl": [
           {
            "marker": {
             "colorbar": {
              "outlinewidth": 0,
              "ticks": ""
             }
            },
            "type": "scattergl"
           }
          ],
          "scattermapbox": [
           {
            "marker": {
             "colorbar": {
              "outlinewidth": 0,
              "ticks": ""
             }
            },
            "type": "scattermapbox"
           }
          ],
          "scatterpolar": [
           {
            "marker": {
             "colorbar": {
              "outlinewidth": 0,
              "ticks": ""
             }
            },
            "type": "scatterpolar"
           }
          ],
          "scatterpolargl": [
           {
            "marker": {
             "colorbar": {
              "outlinewidth": 0,
              "ticks": ""
             }
            },
            "type": "scatterpolargl"
           }
          ],
          "scatterternary": [
           {
            "marker": {
             "colorbar": {
              "outlinewidth": 0,
              "ticks": ""
             }
            },
            "type": "scatterternary"
           }
          ],
          "surface": [
           {
            "colorbar": {
             "outlinewidth": 0,
             "ticks": ""
            },
            "colorscale": [
             [
              0,
              "#0d0887"
             ],
             [
              0.1111111111111111,
              "#46039f"
             ],
             [
              0.2222222222222222,
              "#7201a8"
             ],
             [
              0.3333333333333333,
              "#9c179e"
             ],
             [
              0.4444444444444444,
              "#bd3786"
             ],
             [
              0.5555555555555556,
              "#d8576b"
             ],
             [
              0.6666666666666666,
              "#ed7953"
             ],
             [
              0.7777777777777778,
              "#fb9f3a"
             ],
             [
              0.8888888888888888,
              "#fdca26"
             ],
             [
              1,
              "#f0f921"
             ]
            ],
            "type": "surface"
           }
          ],
          "table": [
           {
            "cells": {
             "fill": {
              "color": "#EBF0F8"
             },
             "line": {
              "color": "white"
             }
            },
            "header": {
             "fill": {
              "color": "#C8D4E3"
             },
             "line": {
              "color": "white"
             }
            },
            "type": "table"
           }
          ]
         },
         "layout": {
          "annotationdefaults": {
           "arrowcolor": "#2a3f5f",
           "arrowhead": 0,
           "arrowwidth": 1
          },
          "autotypenumbers": "strict",
          "coloraxis": {
           "colorbar": {
            "outlinewidth": 0,
            "ticks": ""
           }
          },
          "colorscale": {
           "diverging": [
            [
             0,
             "#8e0152"
            ],
            [
             0.1,
             "#c51b7d"
            ],
            [
             0.2,
             "#de77ae"
            ],
            [
             0.3,
             "#f1b6da"
            ],
            [
             0.4,
             "#fde0ef"
            ],
            [
             0.5,
             "#f7f7f7"
            ],
            [
             0.6,
             "#e6f5d0"
            ],
            [
             0.7,
             "#b8e186"
            ],
            [
             0.8,
             "#7fbc41"
            ],
            [
             0.9,
             "#4d9221"
            ],
            [
             1,
             "#276419"
            ]
           ],
           "sequential": [
            [
             0,
             "#0d0887"
            ],
            [
             0.1111111111111111,
             "#46039f"
            ],
            [
             0.2222222222222222,
             "#7201a8"
            ],
            [
             0.3333333333333333,
             "#9c179e"
            ],
            [
             0.4444444444444444,
             "#bd3786"
            ],
            [
             0.5555555555555556,
             "#d8576b"
            ],
            [
             0.6666666666666666,
             "#ed7953"
            ],
            [
             0.7777777777777778,
             "#fb9f3a"
            ],
            [
             0.8888888888888888,
             "#fdca26"
            ],
            [
             1,
             "#f0f921"
            ]
           ],
           "sequentialminus": [
            [
             0,
             "#0d0887"
            ],
            [
             0.1111111111111111,
             "#46039f"
            ],
            [
             0.2222222222222222,
             "#7201a8"
            ],
            [
             0.3333333333333333,
             "#9c179e"
            ],
            [
             0.4444444444444444,
             "#bd3786"
            ],
            [
             0.5555555555555556,
             "#d8576b"
            ],
            [
             0.6666666666666666,
             "#ed7953"
            ],
            [
             0.7777777777777778,
             "#fb9f3a"
            ],
            [
             0.8888888888888888,
             "#fdca26"
            ],
            [
             1,
             "#f0f921"
            ]
           ]
          },
          "colorway": [
           "#636efa",
           "#EF553B",
           "#00cc96",
           "#ab63fa",
           "#FFA15A",
           "#19d3f3",
           "#FF6692",
           "#B6E880",
           "#FF97FF",
           "#FECB52"
          ],
          "font": {
           "color": "#2a3f5f"
          },
          "geo": {
           "bgcolor": "white",
           "lakecolor": "white",
           "landcolor": "#E5ECF6",
           "showlakes": true,
           "showland": true,
           "subunitcolor": "white"
          },
          "hoverlabel": {
           "align": "left"
          },
          "hovermode": "closest",
          "mapbox": {
           "style": "light"
          },
          "paper_bgcolor": "white",
          "plot_bgcolor": "#E5ECF6",
          "polar": {
           "angularaxis": {
            "gridcolor": "white",
            "linecolor": "white",
            "ticks": ""
           },
           "bgcolor": "#E5ECF6",
           "radialaxis": {
            "gridcolor": "white",
            "linecolor": "white",
            "ticks": ""
           }
          },
          "scene": {
           "xaxis": {
            "backgroundcolor": "#E5ECF6",
            "gridcolor": "white",
            "gridwidth": 2,
            "linecolor": "white",
            "showbackground": true,
            "ticks": "",
            "zerolinecolor": "white"
           },
           "yaxis": {
            "backgroundcolor": "#E5ECF6",
            "gridcolor": "white",
            "gridwidth": 2,
            "linecolor": "white",
            "showbackground": true,
            "ticks": "",
            "zerolinecolor": "white"
           },
           "zaxis": {
            "backgroundcolor": "#E5ECF6",
            "gridcolor": "white",
            "gridwidth": 2,
            "linecolor": "white",
            "showbackground": true,
            "ticks": "",
            "zerolinecolor": "white"
           }
          },
          "shapedefaults": {
           "line": {
            "color": "#2a3f5f"
           }
          },
          "ternary": {
           "aaxis": {
            "gridcolor": "white",
            "linecolor": "white",
            "ticks": ""
           },
           "baxis": {
            "gridcolor": "white",
            "linecolor": "white",
            "ticks": ""
           },
           "bgcolor": "#E5ECF6",
           "caxis": {
            "gridcolor": "white",
            "linecolor": "white",
            "ticks": ""
           }
          },
          "title": {
           "x": 0.05
          },
          "xaxis": {
           "automargin": true,
           "gridcolor": "white",
           "linecolor": "white",
           "ticks": "",
           "title": {
            "standoff": 15
           },
           "zerolinecolor": "white",
           "zerolinewidth": 2
          },
          "yaxis": {
           "automargin": true,
           "gridcolor": "white",
           "linecolor": "white",
           "ticks": "",
           "title": {
            "standoff": 15
           },
           "zerolinecolor": "white",
           "zerolinewidth": 2
          }
         }
        },
        "title": {
         "text": "Countries happiness Score and their temperature"
        },
        "xaxis": {
         "anchor": "y",
         "domain": [
          0,
          1
         ],
         "title": {
          "text": "Mean Happiness Score"
         }
        },
        "yaxis": {
         "anchor": "x",
         "domain": [
          0,
          1
         ],
         "title": {
          "text": "Average yearly temperature"
         }
        }
       }
      },
      "text/html": [
       "<div>                            <div id=\"4131ab29-26e4-41ae-b458-ec3c74b28296\" class=\"plotly-graph-div\" style=\"height:525px; width:100%;\"></div>            <script type=\"text/javascript\">                require([\"plotly\"], function(Plotly) {                    window.PLOTLYENV=window.PLOTLYENV || {};                                    if (document.getElementById(\"4131ab29-26e4-41ae-b458-ec3c74b28296\")) {                    Plotly.newPlot(                        \"4131ab29-26e4-41ae-b458-ec3c74b28296\",                        [{\"hovertemplate\":\"<b>%{hovertext}</b><br><br>Mean Happiness Score=%{x}<br>Average yearly temperature=%{marker.color}<extra></extra>\",\"hovertext\":[\"Finland\",\"Denmark\",\"Switzerland\",\"Iceland\",\"Norway\",\"Netherlands\",\"Sweden\",\"New Zealand\",\"Canada\",\"Australia\",\"Israel\",\"Austria\",\"Costa Rica\",\"Luxembourg\",\"Ireland\",\"United States\",\"Germany\",\"United Kingdom\",\"Belgium\",\"United Arab Emirates\",\"Czech Republic\",\"Mexico\",\"France\",\"Brazil\",\"Malta\",\"Singapore\",\"Chile\",\"Qatar\",\"Taiwan\",\"Panama\",\"Uruguay\",\"Saudi Arabia\",\"Spain\",\"Guatemala\",\"Argentina\",\"Colombia\",\"Bahrain\",\"Thailand\",\"Trinidad and Tobago\",\"Slovakia\",\"Italy\",\"Kuwait\",\"El Salvador\",\"Uzbekistan\",\"Slovenia\",\"Lithuania\",\"Poland\",\"Nicaragua\",\"Ecuador\",\"Japan\",\"Kazakhstan\",\"Cyprus\",\"South Korea\",\"Kosovo\",\"Cyprus\",\"Jamaica\",\"Bolivia\",\"Romania\",\"Estonia\",\"Peru\",\"Mauritius\",\"Moldova\",\"Latvia\",\"Russia\",\"Paraguay\",\"Malaysia\",\"Croatia\",\"Belarus\",\"Libya\",\"Serbia\",\"Philippines\",\"Portugal\",\"Hungary\",\"Hong Kong\",\"Honduras\",\"Turkmenistan\",\"Venezuela\",\"Algeria\",\"Montenegro\",\"Bosnia and Herzegovina\",\"Kyrgyzstan\",\"Indonesia\",\"Turkey\",\"Greece\",\"Dominican Republic\",\"Pakistan\",\"Vietnam\",\"China\",\"Azerbaijan\",\"Mongolia\",\"Tajikistan\",\"Macedonia\",\"Bhutan\",\"Morocco\",\"Nigeria\",\"Lebanon\",\"Somalia\",\"Jordan\",\"Nepal\",\"Laos\",\"Albania\",\"Bulgaria\",\"South Africa\",\"Gambia\",\"Cameroon\",\"Ghana\",\"Bangladesh\",\"Mozambique\",\"Palestinian Territories\",\"Iran\",\"Tunisia\",\"Armenia\",\"Iraq\",\"Republic of the Congo\",\"Namibia\",\"Senegal\",\"Kenya\",\"Ivory Coast\",\"Gabon\",\"Georgia\",\"Ukraine\",\"Swaziland\",\"Zambia\",\"Myanmar\",\"Democratic Republic of the Congo\",\"Niger\",\"Ethiopia\",\"Cambodia\",\"Mauritania\",\"Sierra Leone\",\"Sri Lanka\",\"Egypt\",\"Mali\",\"Burkina Faso\",\"Benin\",\"Uganda\",\"India\",\"Liberia\",\"Guinea\",\"Chad\",\"Comoros\",\"Lesotho\",\"Angola\",\"Madagascar\",\"Sudan\",\"Haiti\",\"Zimbabwe\",\"Malawi\",\"Botswana\",\"Yemen\",\"Togo\",\"Tanzania\",\"Rwanda\",\"Burundi\",\"Syria\",\"Afghanistan\",\"Central African Republic\"],\"legendgroup\":\"\",\"marker\":{\"color\":[1.55,-3.7,5.1,-0.7,1.5,9.25,1.75,10.55,-5.1,21.65,19.2,6.35,24.8,8.65,9.3,8.55,8.4,8.45,9.55,26.65,7.55,21.0,10.7,24.95,19.2,26.45,8.45,27.15,27.0,25.4,17.55,24.65,13.3,23.45,14.8,24.5,26.8,26.3,25.75,6.8,13.45,27.15,24.45,12.05,8.9,6.2,7.85,24.9,21.85,11.15,5.5,18.45,11.5,15.0,18.45,24.95,21.55,8.8,2.0,19.6,22.4,9.45,5.6,-5.35,23.55,25.4,10.9,6.15,21.8,10.55,25.55,15.15,9.75,21.45,23.5,15.1,25.35,22.5,10.55,9.85,2.1,25.85,9.9,15.4,24.55,20.2,24.45,7.5,11.95,1.7,6.4,9.8,7.4,17.1,27.0,15.0,27.05,18.3,8.1,22.8,11.4,10.55,17.75,27.5,24.6,27.2,25.0,23.8,20.0,17.25,19.2,7.15,21.4,24.55,19.95,27.85,24.75,26.35,25.05,5.65,8.3,21.4,21.4,13.05,24.0,27.15,22.2,26.8,27.65,26.05,26.95,22.1,28.25,28.29,27.55,22.8,23.65,25.3,25.7,26.55,25.3,11.85,21.55,22.65,26.9,24.9,21.0,21.9,21.5,23.85,27.15,22.35,17.85,19.8,17.75,12.6,24.9],\"coloraxis\":\"coloraxis\",\"symbol\":\"circle\"},\"mode\":\"markers\",\"name\":\"\",\"orientation\":\"v\",\"showlegend\":false,\"x\":[7.621,7.567,7.533,7.528,7.501,7.427,7.338,7.296,7.281,7.245,7.197,7.18,7.135,7.056,7.006,6.989,6.96,6.925,6.896,6.734,6.733,6.669,6.575,6.562,6.539,6.502,6.484,6.453,6.437,6.435,6.416,6.406,6.394,6.362,6.297,6.243,6.223,6.218,6.176,6.156,6.155,6.132,6.112,6.082,6.046,6.035,6.028,5.994,5.944,5.933,5.909,5.895,5.89,5.835,5.813,5.805,5.802,5.79,5.781,5.769,5.761,5.755,5.73,5.701,5.692,5.644,5.592,5.56,5.554,5.55,5.503,5.48,5.468,5.463,5.437,5.421,5.415,5.394,5.383,5.333,5.324,5.3,5.288,5.274,5.271,5.263,5.255,5.236,5.206,5.198,5.19,5.139,5.115,5.094,5.091,4.961,4.959,4.957,4.914,4.901,4.86,4.802,4.787,4.784,4.783,4.709,4.696,4.695,4.676,4.662,4.65,4.642,4.616,4.608,4.596,4.563,4.522,4.521,4.503,4.498,4.496,4.462,4.456,4.41,4.405,4.394,4.383,4.379,4.361,4.36,4.351,4.345,4.325,4.26,4.231,4.209,4.179,4.176,4.17,4.077,4.073,4.005,3.914,3.867,3.847,3.833,3.823,3.818,3.763,3.677,3.631,3.496,3.421,3.34,3.31,3.274,3.151],\"xaxis\":\"x\",\"y\":[1.55,-3.7,5.1,-0.7,1.5,9.25,1.75,10.55,-5.1,21.65,19.2,6.35,24.8,8.65,9.3,8.55,8.4,8.45,9.55,26.65,7.55,21.0,10.7,24.95,19.2,26.45,8.45,27.15,27.0,25.4,17.55,24.65,13.3,23.45,14.8,24.5,26.8,26.3,25.75,6.8,13.45,27.15,24.45,12.05,8.9,6.2,7.85,24.9,21.85,11.15,5.5,18.45,11.5,15.0,18.45,24.95,21.55,8.8,2.0,19.6,22.4,9.45,5.6,-5.35,23.55,25.4,10.9,6.15,21.8,10.55,25.55,15.15,9.75,21.45,23.5,15.1,25.35,22.5,10.55,9.85,2.1,25.85,9.9,15.4,24.55,20.2,24.45,7.5,11.95,1.7,6.4,9.8,7.4,17.1,27.0,15.0,27.05,18.3,8.1,22.8,11.4,10.55,17.75,27.5,24.6,27.2,25.0,23.8,20.0,17.25,19.2,7.15,21.4,24.55,19.95,27.85,24.75,26.35,25.05,5.65,8.3,21.4,21.4,13.05,24.0,27.15,22.2,26.8,27.65,26.05,26.95,22.1,28.25,28.29,27.55,22.8,23.65,25.3,25.7,26.55,25.3,11.85,21.55,22.65,26.9,24.9,21.0,21.9,21.5,23.85,27.15,22.35,17.85,19.8,17.75,12.6,24.9],\"yaxis\":\"y\",\"type\":\"scatter\"}],                        {\"template\":{\"data\":{\"histogram2dcontour\":[{\"type\":\"histogram2dcontour\",\"colorbar\":{\"outlinewidth\":0,\"ticks\":\"\"},\"colorscale\":[[0.0,\"#0d0887\"],[0.1111111111111111,\"#46039f\"],[0.2222222222222222,\"#7201a8\"],[0.3333333333333333,\"#9c179e\"],[0.4444444444444444,\"#bd3786\"],[0.5555555555555556,\"#d8576b\"],[0.6666666666666666,\"#ed7953\"],[0.7777777777777778,\"#fb9f3a\"],[0.8888888888888888,\"#fdca26\"],[1.0,\"#f0f921\"]]}],\"choropleth\":[{\"type\":\"choropleth\",\"colorbar\":{\"outlinewidth\":0,\"ticks\":\"\"}}],\"histogram2d\":[{\"type\":\"histogram2d\",\"colorbar\":{\"outlinewidth\":0,\"ticks\":\"\"},\"colorscale\":[[0.0,\"#0d0887\"],[0.1111111111111111,\"#46039f\"],[0.2222222222222222,\"#7201a8\"],[0.3333333333333333,\"#9c179e\"],[0.4444444444444444,\"#bd3786\"],[0.5555555555555556,\"#d8576b\"],[0.6666666666666666,\"#ed7953\"],[0.7777777777777778,\"#fb9f3a\"],[0.8888888888888888,\"#fdca26\"],[1.0,\"#f0f921\"]]}],\"heatmap\":[{\"type\":\"heatmap\",\"colorbar\":{\"outlinewidth\":0,\"ticks\":\"\"},\"colorscale\":[[0.0,\"#0d0887\"],[0.1111111111111111,\"#46039f\"],[0.2222222222222222,\"#7201a8\"],[0.3333333333333333,\"#9c179e\"],[0.4444444444444444,\"#bd3786\"],[0.5555555555555556,\"#d8576b\"],[0.6666666666666666,\"#ed7953\"],[0.7777777777777778,\"#fb9f3a\"],[0.8888888888888888,\"#fdca26\"],[1.0,\"#f0f921\"]]}],\"heatmapgl\":[{\"type\":\"heatmapgl\",\"colorbar\":{\"outlinewidth\":0,\"ticks\":\"\"},\"colorscale\":[[0.0,\"#0d0887\"],[0.1111111111111111,\"#46039f\"],[0.2222222222222222,\"#7201a8\"],[0.3333333333333333,\"#9c179e\"],[0.4444444444444444,\"#bd3786\"],[0.5555555555555556,\"#d8576b\"],[0.6666666666666666,\"#ed7953\"],[0.7777777777777778,\"#fb9f3a\"],[0.8888888888888888,\"#fdca26\"],[1.0,\"#f0f921\"]]}],\"contourcarpet\":[{\"type\":\"contourcarpet\",\"colorbar\":{\"outlinewidth\":0,\"ticks\":\"\"}}],\"contour\":[{\"type\":\"contour\",\"colorbar\":{\"outlinewidth\":0,\"ticks\":\"\"},\"colorscale\":[[0.0,\"#0d0887\"],[0.1111111111111111,\"#46039f\"],[0.2222222222222222,\"#7201a8\"],[0.3333333333333333,\"#9c179e\"],[0.4444444444444444,\"#bd3786\"],[0.5555555555555556,\"#d8576b\"],[0.6666666666666666,\"#ed7953\"],[0.7777777777777778,\"#fb9f3a\"],[0.8888888888888888,\"#fdca26\"],[1.0,\"#f0f921\"]]}],\"surface\":[{\"type\":\"surface\",\"colorbar\":{\"outlinewidth\":0,\"ticks\":\"\"},\"colorscale\":[[0.0,\"#0d0887\"],[0.1111111111111111,\"#46039f\"],[0.2222222222222222,\"#7201a8\"],[0.3333333333333333,\"#9c179e\"],[0.4444444444444444,\"#bd3786\"],[0.5555555555555556,\"#d8576b\"],[0.6666666666666666,\"#ed7953\"],[0.7777777777777778,\"#fb9f3a\"],[0.8888888888888888,\"#fdca26\"],[1.0,\"#f0f921\"]]}],\"mesh3d\":[{\"type\":\"mesh3d\",\"colorbar\":{\"outlinewidth\":0,\"ticks\":\"\"}}],\"scatter\":[{\"fillpattern\":{\"fillmode\":\"overlay\",\"size\":10,\"solidity\":0.2},\"type\":\"scatter\"}],\"parcoords\":[{\"type\":\"parcoords\",\"line\":{\"colorbar\":{\"outlinewidth\":0,\"ticks\":\"\"}}}],\"scatterpolargl\":[{\"type\":\"scatterpolargl\",\"marker\":{\"colorbar\":{\"outlinewidth\":0,\"ticks\":\"\"}}}],\"bar\":[{\"error_x\":{\"color\":\"#2a3f5f\"},\"error_y\":{\"color\":\"#2a3f5f\"},\"marker\":{\"line\":{\"color\":\"#E5ECF6\",\"width\":0.5},\"pattern\":{\"fillmode\":\"overlay\",\"size\":10,\"solidity\":0.2}},\"type\":\"bar\"}],\"scattergeo\":[{\"type\":\"scattergeo\",\"marker\":{\"colorbar\":{\"outlinewidth\":0,\"ticks\":\"\"}}}],\"scatterpolar\":[{\"type\":\"scatterpolar\",\"marker\":{\"colorbar\":{\"outlinewidth\":0,\"ticks\":\"\"}}}],\"histogram\":[{\"marker\":{\"pattern\":{\"fillmode\":\"overlay\",\"size\":10,\"solidity\":0.2}},\"type\":\"histogram\"}],\"scattergl\":[{\"type\":\"scattergl\",\"marker\":{\"colorbar\":{\"outlinewidth\":0,\"ticks\":\"\"}}}],\"scatter3d\":[{\"type\":\"scatter3d\",\"line\":{\"colorbar\":{\"outlinewidth\":0,\"ticks\":\"\"}},\"marker\":{\"colorbar\":{\"outlinewidth\":0,\"ticks\":\"\"}}}],\"scattermapbox\":[{\"type\":\"scattermapbox\",\"marker\":{\"colorbar\":{\"outlinewidth\":0,\"ticks\":\"\"}}}],\"scatterternary\":[{\"type\":\"scatterternary\",\"marker\":{\"colorbar\":{\"outlinewidth\":0,\"ticks\":\"\"}}}],\"scattercarpet\":[{\"type\":\"scattercarpet\",\"marker\":{\"colorbar\":{\"outlinewidth\":0,\"ticks\":\"\"}}}],\"carpet\":[{\"aaxis\":{\"endlinecolor\":\"#2a3f5f\",\"gridcolor\":\"white\",\"linecolor\":\"white\",\"minorgridcolor\":\"white\",\"startlinecolor\":\"#2a3f5f\"},\"baxis\":{\"endlinecolor\":\"#2a3f5f\",\"gridcolor\":\"white\",\"linecolor\":\"white\",\"minorgridcolor\":\"white\",\"startlinecolor\":\"#2a3f5f\"},\"type\":\"carpet\"}],\"table\":[{\"cells\":{\"fill\":{\"color\":\"#EBF0F8\"},\"line\":{\"color\":\"white\"}},\"header\":{\"fill\":{\"color\":\"#C8D4E3\"},\"line\":{\"color\":\"white\"}},\"type\":\"table\"}],\"barpolar\":[{\"marker\":{\"line\":{\"color\":\"#E5ECF6\",\"width\":0.5},\"pattern\":{\"fillmode\":\"overlay\",\"size\":10,\"solidity\":0.2}},\"type\":\"barpolar\"}],\"pie\":[{\"automargin\":true,\"type\":\"pie\"}]},\"layout\":{\"autotypenumbers\":\"strict\",\"colorway\":[\"#636efa\",\"#EF553B\",\"#00cc96\",\"#ab63fa\",\"#FFA15A\",\"#19d3f3\",\"#FF6692\",\"#B6E880\",\"#FF97FF\",\"#FECB52\"],\"font\":{\"color\":\"#2a3f5f\"},\"hovermode\":\"closest\",\"hoverlabel\":{\"align\":\"left\"},\"paper_bgcolor\":\"white\",\"plot_bgcolor\":\"#E5ECF6\",\"polar\":{\"bgcolor\":\"#E5ECF6\",\"angularaxis\":{\"gridcolor\":\"white\",\"linecolor\":\"white\",\"ticks\":\"\"},\"radialaxis\":{\"gridcolor\":\"white\",\"linecolor\":\"white\",\"ticks\":\"\"}},\"ternary\":{\"bgcolor\":\"#E5ECF6\",\"aaxis\":{\"gridcolor\":\"white\",\"linecolor\":\"white\",\"ticks\":\"\"},\"baxis\":{\"gridcolor\":\"white\",\"linecolor\":\"white\",\"ticks\":\"\"},\"caxis\":{\"gridcolor\":\"white\",\"linecolor\":\"white\",\"ticks\":\"\"}},\"coloraxis\":{\"colorbar\":{\"outlinewidth\":0,\"ticks\":\"\"}},\"colorscale\":{\"sequential\":[[0.0,\"#0d0887\"],[0.1111111111111111,\"#46039f\"],[0.2222222222222222,\"#7201a8\"],[0.3333333333333333,\"#9c179e\"],[0.4444444444444444,\"#bd3786\"],[0.5555555555555556,\"#d8576b\"],[0.6666666666666666,\"#ed7953\"],[0.7777777777777778,\"#fb9f3a\"],[0.8888888888888888,\"#fdca26\"],[1.0,\"#f0f921\"]],\"sequentialminus\":[[0.0,\"#0d0887\"],[0.1111111111111111,\"#46039f\"],[0.2222222222222222,\"#7201a8\"],[0.3333333333333333,\"#9c179e\"],[0.4444444444444444,\"#bd3786\"],[0.5555555555555556,\"#d8576b\"],[0.6666666666666666,\"#ed7953\"],[0.7777777777777778,\"#fb9f3a\"],[0.8888888888888888,\"#fdca26\"],[1.0,\"#f0f921\"]],\"diverging\":[[0,\"#8e0152\"],[0.1,\"#c51b7d\"],[0.2,\"#de77ae\"],[0.3,\"#f1b6da\"],[0.4,\"#fde0ef\"],[0.5,\"#f7f7f7\"],[0.6,\"#e6f5d0\"],[0.7,\"#b8e186\"],[0.8,\"#7fbc41\"],[0.9,\"#4d9221\"],[1,\"#276419\"]]},\"xaxis\":{\"gridcolor\":\"white\",\"linecolor\":\"white\",\"ticks\":\"\",\"title\":{\"standoff\":15},\"zerolinecolor\":\"white\",\"automargin\":true,\"zerolinewidth\":2},\"yaxis\":{\"gridcolor\":\"white\",\"linecolor\":\"white\",\"ticks\":\"\",\"title\":{\"standoff\":15},\"zerolinecolor\":\"white\",\"automargin\":true,\"zerolinewidth\":2},\"scene\":{\"xaxis\":{\"backgroundcolor\":\"#E5ECF6\",\"gridcolor\":\"white\",\"linecolor\":\"white\",\"showbackground\":true,\"ticks\":\"\",\"zerolinecolor\":\"white\",\"gridwidth\":2},\"yaxis\":{\"backgroundcolor\":\"#E5ECF6\",\"gridcolor\":\"white\",\"linecolor\":\"white\",\"showbackground\":true,\"ticks\":\"\",\"zerolinecolor\":\"white\",\"gridwidth\":2},\"zaxis\":{\"backgroundcolor\":\"#E5ECF6\",\"gridcolor\":\"white\",\"linecolor\":\"white\",\"showbackground\":true,\"ticks\":\"\",\"zerolinecolor\":\"white\",\"gridwidth\":2}},\"shapedefaults\":{\"line\":{\"color\":\"#2a3f5f\"}},\"annotationdefaults\":{\"arrowcolor\":\"#2a3f5f\",\"arrowhead\":0,\"arrowwidth\":1},\"geo\":{\"bgcolor\":\"white\",\"landcolor\":\"#E5ECF6\",\"subunitcolor\":\"white\",\"showland\":true,\"showlakes\":true,\"lakecolor\":\"white\"},\"title\":{\"x\":0.05},\"mapbox\":{\"style\":\"light\"}}},\"xaxis\":{\"anchor\":\"y\",\"domain\":[0.0,1.0],\"title\":{\"text\":\"Mean Happiness Score\"}},\"yaxis\":{\"anchor\":\"x\",\"domain\":[0.0,1.0],\"title\":{\"text\":\"Average yearly temperature\"}},\"coloraxis\":{\"colorbar\":{\"title\":{\"text\":\"Average yearly temperature\"}},\"colorscale\":[[0.0,\"#0d0887\"],[0.1111111111111111,\"#46039f\"],[0.2222222222222222,\"#7201a8\"],[0.3333333333333333,\"#9c179e\"],[0.4444444444444444,\"#bd3786\"],[0.5555555555555556,\"#d8576b\"],[0.6666666666666666,\"#ed7953\"],[0.7777777777777778,\"#fb9f3a\"],[0.8888888888888888,\"#fdca26\"],[1.0,\"#f0f921\"]]},\"legend\":{\"tracegroupgap\":0},\"title\":{\"text\":\"Countries happiness Score and their temperature\"}},                        {\"responsive\": true}                    ).then(function(){\n",
       "                            \n",
       "var gd = document.getElementById('4131ab29-26e4-41ae-b458-ec3c74b28296');\n",
       "var x = new MutationObserver(function (mutations, observer) {{\n",
       "        var display = window.getComputedStyle(gd).display;\n",
       "        if (!display || display === 'none') {{\n",
       "            console.log([gd, 'removed!']);\n",
       "            Plotly.purge(gd);\n",
       "            observer.disconnect();\n",
       "        }}\n",
       "}});\n",
       "\n",
       "// Listen for the removal of the full notebook cells\n",
       "var notebookContainer = gd.closest('#notebook-container');\n",
       "if (notebookContainer) {{\n",
       "    x.observe(notebookContainer, {childList: true});\n",
       "}}\n",
       "\n",
       "// Listen for the clearing of the current output cell\n",
       "var outputEl = gd.closest('.output');\n",
       "if (outputEl) {{\n",
       "    x.observe(outputEl, {childList: true});\n",
       "}}\n",
       "\n",
       "                        })                };                });            </script>        </div>"
      ]
     },
     "metadata": {},
     "output_type": "display_data"
    }
   ],
   "source": [
    "happiness_temperature_scatter(df)"
   ]
  },
  {
   "cell_type": "code",
   "execution_count": 27,
   "id": "2284602c",
   "metadata": {},
   "outputs": [],
   "source": [
    "def happiness_temperature(df):\n",
    "    \"\"\"Creates a line plot using Plotly Express to visualize the relationship between the mean happiness score \n",
    "    and the average yearly temperature of different countries in the input DataFrame `df`.\n",
    "    \n",
    "    Args:\n",
    "        :df: A pandas dataframe containing the following columns:\n",
    "        - 'Country': the name of the country (str)\n",
    "        - 'Mean Happiness Score': the mean happiness score of the country (float)\n",
    "        - 'Average yearly temperature': the average yearly temperature of the country in Celsius (float)\n",
    "\n",
    "    Return:\n",
    "    None\n",
    "        Displays the Plotly figure object containing the line plot of the mean happiness score and \n",
    "        the average yearly temperature of each country in the input DataFrame `df`. \"\"\" \n",
    "\n",
    "    fig = px.line(df, x=\"Mean Happiness Score\", y=\"Average yearly temperature\", hover_name=\"Country\", color_discrete_sequence=['#00BFFF'])\n",
    "    fig.update_layout(title='Countries happiness Score and their temperature', xaxis=dict(tickfont=dict(size=12)), yaxis=dict(tickfont=dict(size=12)))\n",
    "    fig.update_traces(mode='markers+lines', marker=dict(size=8))\n",
    "    \n",
    "    fig.show()"
   ]
  },
  {
   "cell_type": "code",
   "execution_count": 28,
   "id": "a9033a06",
   "metadata": {
    "scrolled": true
   },
   "outputs": [
    {
     "data": {
      "application/vnd.plotly.v1+json": {
       "config": {
        "plotlyServerURL": "https://plot.ly"
       },
       "data": [
        {
         "hovertemplate": "<b>%{hovertext}</b><br><br>Mean Happiness Score=%{x}<br>Average yearly temperature=%{y}<extra></extra>",
         "hovertext": [
          "Finland",
          "Denmark",
          "Switzerland",
          "Iceland",
          "Norway",
          "Netherlands",
          "Sweden",
          "New Zealand",
          "Canada",
          "Australia",
          "Israel",
          "Austria",
          "Costa Rica",
          "Luxembourg",
          "Ireland",
          "United States",
          "Germany",
          "United Kingdom",
          "Belgium",
          "United Arab Emirates",
          "Czech Republic",
          "Mexico",
          "France",
          "Brazil",
          "Malta",
          "Singapore",
          "Chile",
          "Qatar",
          "Taiwan",
          "Panama",
          "Uruguay",
          "Saudi Arabia",
          "Spain",
          "Guatemala",
          "Argentina",
          "Colombia",
          "Bahrain",
          "Thailand",
          "Trinidad and Tobago",
          "Slovakia",
          "Italy",
          "Kuwait",
          "El Salvador",
          "Uzbekistan",
          "Slovenia",
          "Lithuania",
          "Poland",
          "Nicaragua",
          "Ecuador",
          "Japan",
          "Kazakhstan",
          "Cyprus",
          "South Korea",
          "Kosovo",
          "Cyprus",
          "Jamaica",
          "Bolivia",
          "Romania",
          "Estonia",
          "Peru",
          "Mauritius",
          "Moldova",
          "Latvia",
          "Russia",
          "Paraguay",
          "Malaysia",
          "Croatia",
          "Belarus",
          "Libya",
          "Serbia",
          "Philippines",
          "Portugal",
          "Hungary",
          "Hong Kong",
          "Honduras",
          "Turkmenistan",
          "Venezuela",
          "Algeria",
          "Montenegro",
          "Bosnia and Herzegovina",
          "Kyrgyzstan",
          "Indonesia",
          "Turkey",
          "Greece",
          "Dominican Republic",
          "Pakistan",
          "Vietnam",
          "China",
          "Azerbaijan",
          "Mongolia",
          "Tajikistan",
          "Macedonia",
          "Bhutan",
          "Morocco",
          "Nigeria",
          "Lebanon",
          "Somalia",
          "Jordan",
          "Nepal",
          "Laos",
          "Albania",
          "Bulgaria",
          "South Africa",
          "Gambia",
          "Cameroon",
          "Ghana",
          "Bangladesh",
          "Mozambique",
          "Palestinian Territories",
          "Iran",
          "Tunisia",
          "Armenia",
          "Iraq",
          "Republic of the Congo",
          "Namibia",
          "Senegal",
          "Kenya",
          "Ivory Coast",
          "Gabon",
          "Georgia",
          "Ukraine",
          "Swaziland",
          "Zambia",
          "Myanmar",
          "Democratic Republic of the Congo",
          "Niger",
          "Ethiopia",
          "Cambodia",
          "Mauritania",
          "Sierra Leone",
          "Sri Lanka",
          "Egypt",
          "Mali",
          "Burkina Faso",
          "Benin",
          "Uganda",
          "India",
          "Liberia",
          "Guinea",
          "Chad",
          "Comoros",
          "Lesotho",
          "Angola",
          "Madagascar",
          "Sudan",
          "Haiti",
          "Zimbabwe",
          "Malawi",
          "Botswana",
          "Yemen",
          "Togo",
          "Tanzania",
          "Rwanda",
          "Burundi",
          "Syria",
          "Afghanistan",
          "Central African Republic"
         ],
         "legendgroup": "",
         "line": {
          "color": "#00BFFF",
          "dash": "solid"
         },
         "marker": {
          "size": 8,
          "symbol": "circle"
         },
         "mode": "markers+lines",
         "name": "",
         "orientation": "v",
         "showlegend": false,
         "type": "scatter",
         "x": [
          7.621,
          7.567,
          7.533,
          7.528,
          7.501,
          7.427,
          7.338,
          7.296,
          7.281,
          7.245,
          7.197,
          7.18,
          7.135,
          7.056,
          7.006,
          6.989,
          6.96,
          6.925,
          6.896,
          6.734,
          6.733,
          6.669,
          6.575,
          6.562,
          6.539,
          6.502,
          6.484,
          6.453,
          6.437,
          6.435,
          6.416,
          6.406,
          6.394,
          6.362,
          6.297,
          6.243,
          6.223,
          6.218,
          6.176,
          6.156,
          6.155,
          6.132,
          6.112,
          6.082,
          6.046,
          6.035,
          6.028,
          5.994,
          5.944,
          5.933,
          5.909,
          5.895,
          5.89,
          5.835,
          5.813,
          5.805,
          5.802,
          5.79,
          5.781,
          5.769,
          5.761,
          5.755,
          5.73,
          5.701,
          5.692,
          5.644,
          5.592,
          5.56,
          5.554,
          5.55,
          5.503,
          5.48,
          5.468,
          5.463,
          5.437,
          5.421,
          5.415,
          5.394,
          5.383,
          5.333,
          5.324,
          5.3,
          5.288,
          5.274,
          5.271,
          5.263,
          5.255,
          5.236,
          5.206,
          5.198,
          5.19,
          5.139,
          5.115,
          5.094,
          5.091,
          4.961,
          4.959,
          4.957,
          4.914,
          4.901,
          4.86,
          4.802,
          4.787,
          4.784,
          4.783,
          4.709,
          4.696,
          4.695,
          4.676,
          4.662,
          4.65,
          4.642,
          4.616,
          4.608,
          4.596,
          4.563,
          4.522,
          4.521,
          4.503,
          4.498,
          4.496,
          4.462,
          4.456,
          4.41,
          4.405,
          4.394,
          4.383,
          4.379,
          4.361,
          4.36,
          4.351,
          4.345,
          4.325,
          4.26,
          4.231,
          4.209,
          4.179,
          4.176,
          4.17,
          4.077,
          4.073,
          4.005,
          3.914,
          3.867,
          3.847,
          3.833,
          3.823,
          3.818,
          3.763,
          3.677,
          3.631,
          3.496,
          3.421,
          3.34,
          3.31,
          3.274,
          3.151
         ],
         "xaxis": "x",
         "y": [
          1.55,
          -3.7,
          5.1,
          -0.7,
          1.5,
          9.25,
          1.75,
          10.55,
          -5.1,
          21.65,
          19.2,
          6.35,
          24.8,
          8.65,
          9.3,
          8.55,
          8.4,
          8.45,
          9.55,
          26.65,
          7.55,
          21,
          10.7,
          24.95,
          19.2,
          26.45,
          8.45,
          27.15,
          27,
          25.4,
          17.55,
          24.65,
          13.3,
          23.45,
          14.8,
          24.5,
          26.8,
          26.3,
          25.75,
          6.8,
          13.45,
          27.15,
          24.45,
          12.05,
          8.9,
          6.2,
          7.85,
          24.9,
          21.85,
          11.15,
          5.5,
          18.45,
          11.5,
          15,
          18.45,
          24.95,
          21.55,
          8.8,
          2,
          19.6,
          22.4,
          9.45,
          5.6,
          -5.35,
          23.55,
          25.4,
          10.9,
          6.15,
          21.8,
          10.55,
          25.55,
          15.15,
          9.75,
          21.45,
          23.5,
          15.1,
          25.35,
          22.5,
          10.55,
          9.85,
          2.1,
          25.85,
          9.9,
          15.4,
          24.55,
          20.2,
          24.45,
          7.5,
          11.95,
          1.7,
          6.4,
          9.8,
          7.4,
          17.1,
          27,
          15,
          27.05,
          18.3,
          8.1,
          22.8,
          11.4,
          10.55,
          17.75,
          27.5,
          24.6,
          27.2,
          25,
          23.8,
          20,
          17.25,
          19.2,
          7.15,
          21.4,
          24.55,
          19.95,
          27.85,
          24.75,
          26.35,
          25.05,
          5.65,
          8.3,
          21.4,
          21.4,
          13.05,
          24,
          27.15,
          22.2,
          26.8,
          27.65,
          26.05,
          26.95,
          22.1,
          28.25,
          28.29,
          27.55,
          22.8,
          23.65,
          25.3,
          25.7,
          26.55,
          25.3,
          11.85,
          21.55,
          22.65,
          26.9,
          24.9,
          21,
          21.9,
          21.5,
          23.85,
          27.15,
          22.35,
          17.85,
          19.8,
          17.75,
          12.6,
          24.9
         ],
         "yaxis": "y"
        }
       ],
       "layout": {
        "legend": {
         "tracegroupgap": 0
        },
        "margin": {
         "t": 60
        },
        "template": {
         "data": {
          "bar": [
           {
            "error_x": {
             "color": "#2a3f5f"
            },
            "error_y": {
             "color": "#2a3f5f"
            },
            "marker": {
             "line": {
              "color": "#E5ECF6",
              "width": 0.5
             },
             "pattern": {
              "fillmode": "overlay",
              "size": 10,
              "solidity": 0.2
             }
            },
            "type": "bar"
           }
          ],
          "barpolar": [
           {
            "marker": {
             "line": {
              "color": "#E5ECF6",
              "width": 0.5
             },
             "pattern": {
              "fillmode": "overlay",
              "size": 10,
              "solidity": 0.2
             }
            },
            "type": "barpolar"
           }
          ],
          "carpet": [
           {
            "aaxis": {
             "endlinecolor": "#2a3f5f",
             "gridcolor": "white",
             "linecolor": "white",
             "minorgridcolor": "white",
             "startlinecolor": "#2a3f5f"
            },
            "baxis": {
             "endlinecolor": "#2a3f5f",
             "gridcolor": "white",
             "linecolor": "white",
             "minorgridcolor": "white",
             "startlinecolor": "#2a3f5f"
            },
            "type": "carpet"
           }
          ],
          "choropleth": [
           {
            "colorbar": {
             "outlinewidth": 0,
             "ticks": ""
            },
            "type": "choropleth"
           }
          ],
          "contour": [
           {
            "colorbar": {
             "outlinewidth": 0,
             "ticks": ""
            },
            "colorscale": [
             [
              0,
              "#0d0887"
             ],
             [
              0.1111111111111111,
              "#46039f"
             ],
             [
              0.2222222222222222,
              "#7201a8"
             ],
             [
              0.3333333333333333,
              "#9c179e"
             ],
             [
              0.4444444444444444,
              "#bd3786"
             ],
             [
              0.5555555555555556,
              "#d8576b"
             ],
             [
              0.6666666666666666,
              "#ed7953"
             ],
             [
              0.7777777777777778,
              "#fb9f3a"
             ],
             [
              0.8888888888888888,
              "#fdca26"
             ],
             [
              1,
              "#f0f921"
             ]
            ],
            "type": "contour"
           }
          ],
          "contourcarpet": [
           {
            "colorbar": {
             "outlinewidth": 0,
             "ticks": ""
            },
            "type": "contourcarpet"
           }
          ],
          "heatmap": [
           {
            "colorbar": {
             "outlinewidth": 0,
             "ticks": ""
            },
            "colorscale": [
             [
              0,
              "#0d0887"
             ],
             [
              0.1111111111111111,
              "#46039f"
             ],
             [
              0.2222222222222222,
              "#7201a8"
             ],
             [
              0.3333333333333333,
              "#9c179e"
             ],
             [
              0.4444444444444444,
              "#bd3786"
             ],
             [
              0.5555555555555556,
              "#d8576b"
             ],
             [
              0.6666666666666666,
              "#ed7953"
             ],
             [
              0.7777777777777778,
              "#fb9f3a"
             ],
             [
              0.8888888888888888,
              "#fdca26"
             ],
             [
              1,
              "#f0f921"
             ]
            ],
            "type": "heatmap"
           }
          ],
          "heatmapgl": [
           {
            "colorbar": {
             "outlinewidth": 0,
             "ticks": ""
            },
            "colorscale": [
             [
              0,
              "#0d0887"
             ],
             [
              0.1111111111111111,
              "#46039f"
             ],
             [
              0.2222222222222222,
              "#7201a8"
             ],
             [
              0.3333333333333333,
              "#9c179e"
             ],
             [
              0.4444444444444444,
              "#bd3786"
             ],
             [
              0.5555555555555556,
              "#d8576b"
             ],
             [
              0.6666666666666666,
              "#ed7953"
             ],
             [
              0.7777777777777778,
              "#fb9f3a"
             ],
             [
              0.8888888888888888,
              "#fdca26"
             ],
             [
              1,
              "#f0f921"
             ]
            ],
            "type": "heatmapgl"
           }
          ],
          "histogram": [
           {
            "marker": {
             "pattern": {
              "fillmode": "overlay",
              "size": 10,
              "solidity": 0.2
             }
            },
            "type": "histogram"
           }
          ],
          "histogram2d": [
           {
            "colorbar": {
             "outlinewidth": 0,
             "ticks": ""
            },
            "colorscale": [
             [
              0,
              "#0d0887"
             ],
             [
              0.1111111111111111,
              "#46039f"
             ],
             [
              0.2222222222222222,
              "#7201a8"
             ],
             [
              0.3333333333333333,
              "#9c179e"
             ],
             [
              0.4444444444444444,
              "#bd3786"
             ],
             [
              0.5555555555555556,
              "#d8576b"
             ],
             [
              0.6666666666666666,
              "#ed7953"
             ],
             [
              0.7777777777777778,
              "#fb9f3a"
             ],
             [
              0.8888888888888888,
              "#fdca26"
             ],
             [
              1,
              "#f0f921"
             ]
            ],
            "type": "histogram2d"
           }
          ],
          "histogram2dcontour": [
           {
            "colorbar": {
             "outlinewidth": 0,
             "ticks": ""
            },
            "colorscale": [
             [
              0,
              "#0d0887"
             ],
             [
              0.1111111111111111,
              "#46039f"
             ],
             [
              0.2222222222222222,
              "#7201a8"
             ],
             [
              0.3333333333333333,
              "#9c179e"
             ],
             [
              0.4444444444444444,
              "#bd3786"
             ],
             [
              0.5555555555555556,
              "#d8576b"
             ],
             [
              0.6666666666666666,
              "#ed7953"
             ],
             [
              0.7777777777777778,
              "#fb9f3a"
             ],
             [
              0.8888888888888888,
              "#fdca26"
             ],
             [
              1,
              "#f0f921"
             ]
            ],
            "type": "histogram2dcontour"
           }
          ],
          "mesh3d": [
           {
            "colorbar": {
             "outlinewidth": 0,
             "ticks": ""
            },
            "type": "mesh3d"
           }
          ],
          "parcoords": [
           {
            "line": {
             "colorbar": {
              "outlinewidth": 0,
              "ticks": ""
             }
            },
            "type": "parcoords"
           }
          ],
          "pie": [
           {
            "automargin": true,
            "type": "pie"
           }
          ],
          "scatter": [
           {
            "fillpattern": {
             "fillmode": "overlay",
             "size": 10,
             "solidity": 0.2
            },
            "type": "scatter"
           }
          ],
          "scatter3d": [
           {
            "line": {
             "colorbar": {
              "outlinewidth": 0,
              "ticks": ""
             }
            },
            "marker": {
             "colorbar": {
              "outlinewidth": 0,
              "ticks": ""
             }
            },
            "type": "scatter3d"
           }
          ],
          "scattercarpet": [
           {
            "marker": {
             "colorbar": {
              "outlinewidth": 0,
              "ticks": ""
             }
            },
            "type": "scattercarpet"
           }
          ],
          "scattergeo": [
           {
            "marker": {
             "colorbar": {
              "outlinewidth": 0,
              "ticks": ""
             }
            },
            "type": "scattergeo"
           }
          ],
          "scattergl": [
           {
            "marker": {
             "colorbar": {
              "outlinewidth": 0,
              "ticks": ""
             }
            },
            "type": "scattergl"
           }
          ],
          "scattermapbox": [
           {
            "marker": {
             "colorbar": {
              "outlinewidth": 0,
              "ticks": ""
             }
            },
            "type": "scattermapbox"
           }
          ],
          "scatterpolar": [
           {
            "marker": {
             "colorbar": {
              "outlinewidth": 0,
              "ticks": ""
             }
            },
            "type": "scatterpolar"
           }
          ],
          "scatterpolargl": [
           {
            "marker": {
             "colorbar": {
              "outlinewidth": 0,
              "ticks": ""
             }
            },
            "type": "scatterpolargl"
           }
          ],
          "scatterternary": [
           {
            "marker": {
             "colorbar": {
              "outlinewidth": 0,
              "ticks": ""
             }
            },
            "type": "scatterternary"
           }
          ],
          "surface": [
           {
            "colorbar": {
             "outlinewidth": 0,
             "ticks": ""
            },
            "colorscale": [
             [
              0,
              "#0d0887"
             ],
             [
              0.1111111111111111,
              "#46039f"
             ],
             [
              0.2222222222222222,
              "#7201a8"
             ],
             [
              0.3333333333333333,
              "#9c179e"
             ],
             [
              0.4444444444444444,
              "#bd3786"
             ],
             [
              0.5555555555555556,
              "#d8576b"
             ],
             [
              0.6666666666666666,
              "#ed7953"
             ],
             [
              0.7777777777777778,
              "#fb9f3a"
             ],
             [
              0.8888888888888888,
              "#fdca26"
             ],
             [
              1,
              "#f0f921"
             ]
            ],
            "type": "surface"
           }
          ],
          "table": [
           {
            "cells": {
             "fill": {
              "color": "#EBF0F8"
             },
             "line": {
              "color": "white"
             }
            },
            "header": {
             "fill": {
              "color": "#C8D4E3"
             },
             "line": {
              "color": "white"
             }
            },
            "type": "table"
           }
          ]
         },
         "layout": {
          "annotationdefaults": {
           "arrowcolor": "#2a3f5f",
           "arrowhead": 0,
           "arrowwidth": 1
          },
          "autotypenumbers": "strict",
          "coloraxis": {
           "colorbar": {
            "outlinewidth": 0,
            "ticks": ""
           }
          },
          "colorscale": {
           "diverging": [
            [
             0,
             "#8e0152"
            ],
            [
             0.1,
             "#c51b7d"
            ],
            [
             0.2,
             "#de77ae"
            ],
            [
             0.3,
             "#f1b6da"
            ],
            [
             0.4,
             "#fde0ef"
            ],
            [
             0.5,
             "#f7f7f7"
            ],
            [
             0.6,
             "#e6f5d0"
            ],
            [
             0.7,
             "#b8e186"
            ],
            [
             0.8,
             "#7fbc41"
            ],
            [
             0.9,
             "#4d9221"
            ],
            [
             1,
             "#276419"
            ]
           ],
           "sequential": [
            [
             0,
             "#0d0887"
            ],
            [
             0.1111111111111111,
             "#46039f"
            ],
            [
             0.2222222222222222,
             "#7201a8"
            ],
            [
             0.3333333333333333,
             "#9c179e"
            ],
            [
             0.4444444444444444,
             "#bd3786"
            ],
            [
             0.5555555555555556,
             "#d8576b"
            ],
            [
             0.6666666666666666,
             "#ed7953"
            ],
            [
             0.7777777777777778,
             "#fb9f3a"
            ],
            [
             0.8888888888888888,
             "#fdca26"
            ],
            [
             1,
             "#f0f921"
            ]
           ],
           "sequentialminus": [
            [
             0,
             "#0d0887"
            ],
            [
             0.1111111111111111,
             "#46039f"
            ],
            [
             0.2222222222222222,
             "#7201a8"
            ],
            [
             0.3333333333333333,
             "#9c179e"
            ],
            [
             0.4444444444444444,
             "#bd3786"
            ],
            [
             0.5555555555555556,
             "#d8576b"
            ],
            [
             0.6666666666666666,
             "#ed7953"
            ],
            [
             0.7777777777777778,
             "#fb9f3a"
            ],
            [
             0.8888888888888888,
             "#fdca26"
            ],
            [
             1,
             "#f0f921"
            ]
           ]
          },
          "colorway": [
           "#636efa",
           "#EF553B",
           "#00cc96",
           "#ab63fa",
           "#FFA15A",
           "#19d3f3",
           "#FF6692",
           "#B6E880",
           "#FF97FF",
           "#FECB52"
          ],
          "font": {
           "color": "#2a3f5f"
          },
          "geo": {
           "bgcolor": "white",
           "lakecolor": "white",
           "landcolor": "#E5ECF6",
           "showlakes": true,
           "showland": true,
           "subunitcolor": "white"
          },
          "hoverlabel": {
           "align": "left"
          },
          "hovermode": "closest",
          "mapbox": {
           "style": "light"
          },
          "paper_bgcolor": "white",
          "plot_bgcolor": "#E5ECF6",
          "polar": {
           "angularaxis": {
            "gridcolor": "white",
            "linecolor": "white",
            "ticks": ""
           },
           "bgcolor": "#E5ECF6",
           "radialaxis": {
            "gridcolor": "white",
            "linecolor": "white",
            "ticks": ""
           }
          },
          "scene": {
           "xaxis": {
            "backgroundcolor": "#E5ECF6",
            "gridcolor": "white",
            "gridwidth": 2,
            "linecolor": "white",
            "showbackground": true,
            "ticks": "",
            "zerolinecolor": "white"
           },
           "yaxis": {
            "backgroundcolor": "#E5ECF6",
            "gridcolor": "white",
            "gridwidth": 2,
            "linecolor": "white",
            "showbackground": true,
            "ticks": "",
            "zerolinecolor": "white"
           },
           "zaxis": {
            "backgroundcolor": "#E5ECF6",
            "gridcolor": "white",
            "gridwidth": 2,
            "linecolor": "white",
            "showbackground": true,
            "ticks": "",
            "zerolinecolor": "white"
           }
          },
          "shapedefaults": {
           "line": {
            "color": "#2a3f5f"
           }
          },
          "ternary": {
           "aaxis": {
            "gridcolor": "white",
            "linecolor": "white",
            "ticks": ""
           },
           "baxis": {
            "gridcolor": "white",
            "linecolor": "white",
            "ticks": ""
           },
           "bgcolor": "#E5ECF6",
           "caxis": {
            "gridcolor": "white",
            "linecolor": "white",
            "ticks": ""
           }
          },
          "title": {
           "x": 0.05
          },
          "xaxis": {
           "automargin": true,
           "gridcolor": "white",
           "linecolor": "white",
           "ticks": "",
           "title": {
            "standoff": 15
           },
           "zerolinecolor": "white",
           "zerolinewidth": 2
          },
          "yaxis": {
           "automargin": true,
           "gridcolor": "white",
           "linecolor": "white",
           "ticks": "",
           "title": {
            "standoff": 15
           },
           "zerolinecolor": "white",
           "zerolinewidth": 2
          }
         }
        },
        "title": {
         "text": "Countries happiness Score and their temperature"
        },
        "xaxis": {
         "anchor": "y",
         "domain": [
          0,
          1
         ],
         "tickfont": {
          "size": 12
         },
         "title": {
          "text": "Mean Happiness Score"
         }
        },
        "yaxis": {
         "anchor": "x",
         "domain": [
          0,
          1
         ],
         "tickfont": {
          "size": 12
         },
         "title": {
          "text": "Average yearly temperature"
         }
        }
       }
      },
      "text/html": [
       "<div>                            <div id=\"caecf312-1a23-4a86-b92b-d7fa34dac6e8\" class=\"plotly-graph-div\" style=\"height:525px; width:100%;\"></div>            <script type=\"text/javascript\">                require([\"plotly\"], function(Plotly) {                    window.PLOTLYENV=window.PLOTLYENV || {};                                    if (document.getElementById(\"caecf312-1a23-4a86-b92b-d7fa34dac6e8\")) {                    Plotly.newPlot(                        \"caecf312-1a23-4a86-b92b-d7fa34dac6e8\",                        [{\"hovertemplate\":\"<b>%{hovertext}</b><br><br>Mean Happiness Score=%{x}<br>Average yearly temperature=%{y}<extra></extra>\",\"hovertext\":[\"Finland\",\"Denmark\",\"Switzerland\",\"Iceland\",\"Norway\",\"Netherlands\",\"Sweden\",\"New Zealand\",\"Canada\",\"Australia\",\"Israel\",\"Austria\",\"Costa Rica\",\"Luxembourg\",\"Ireland\",\"United States\",\"Germany\",\"United Kingdom\",\"Belgium\",\"United Arab Emirates\",\"Czech Republic\",\"Mexico\",\"France\",\"Brazil\",\"Malta\",\"Singapore\",\"Chile\",\"Qatar\",\"Taiwan\",\"Panama\",\"Uruguay\",\"Saudi Arabia\",\"Spain\",\"Guatemala\",\"Argentina\",\"Colombia\",\"Bahrain\",\"Thailand\",\"Trinidad and Tobago\",\"Slovakia\",\"Italy\",\"Kuwait\",\"El Salvador\",\"Uzbekistan\",\"Slovenia\",\"Lithuania\",\"Poland\",\"Nicaragua\",\"Ecuador\",\"Japan\",\"Kazakhstan\",\"Cyprus\",\"South Korea\",\"Kosovo\",\"Cyprus\",\"Jamaica\",\"Bolivia\",\"Romania\",\"Estonia\",\"Peru\",\"Mauritius\",\"Moldova\",\"Latvia\",\"Russia\",\"Paraguay\",\"Malaysia\",\"Croatia\",\"Belarus\",\"Libya\",\"Serbia\",\"Philippines\",\"Portugal\",\"Hungary\",\"Hong Kong\",\"Honduras\",\"Turkmenistan\",\"Venezuela\",\"Algeria\",\"Montenegro\",\"Bosnia and Herzegovina\",\"Kyrgyzstan\",\"Indonesia\",\"Turkey\",\"Greece\",\"Dominican Republic\",\"Pakistan\",\"Vietnam\",\"China\",\"Azerbaijan\",\"Mongolia\",\"Tajikistan\",\"Macedonia\",\"Bhutan\",\"Morocco\",\"Nigeria\",\"Lebanon\",\"Somalia\",\"Jordan\",\"Nepal\",\"Laos\",\"Albania\",\"Bulgaria\",\"South Africa\",\"Gambia\",\"Cameroon\",\"Ghana\",\"Bangladesh\",\"Mozambique\",\"Palestinian Territories\",\"Iran\",\"Tunisia\",\"Armenia\",\"Iraq\",\"Republic of the Congo\",\"Namibia\",\"Senegal\",\"Kenya\",\"Ivory Coast\",\"Gabon\",\"Georgia\",\"Ukraine\",\"Swaziland\",\"Zambia\",\"Myanmar\",\"Democratic Republic of the Congo\",\"Niger\",\"Ethiopia\",\"Cambodia\",\"Mauritania\",\"Sierra Leone\",\"Sri Lanka\",\"Egypt\",\"Mali\",\"Burkina Faso\",\"Benin\",\"Uganda\",\"India\",\"Liberia\",\"Guinea\",\"Chad\",\"Comoros\",\"Lesotho\",\"Angola\",\"Madagascar\",\"Sudan\",\"Haiti\",\"Zimbabwe\",\"Malawi\",\"Botswana\",\"Yemen\",\"Togo\",\"Tanzania\",\"Rwanda\",\"Burundi\",\"Syria\",\"Afghanistan\",\"Central African Republic\"],\"legendgroup\":\"\",\"line\":{\"color\":\"#00BFFF\",\"dash\":\"solid\"},\"marker\":{\"symbol\":\"circle\",\"size\":8},\"mode\":\"markers+lines\",\"name\":\"\",\"orientation\":\"v\",\"showlegend\":false,\"x\":[7.621,7.567,7.533,7.528,7.501,7.427,7.338,7.296,7.281,7.245,7.197,7.18,7.135,7.056,7.006,6.989,6.96,6.925,6.896,6.734,6.733,6.669,6.575,6.562,6.539,6.502,6.484,6.453,6.437,6.435,6.416,6.406,6.394,6.362,6.297,6.243,6.223,6.218,6.176,6.156,6.155,6.132,6.112,6.082,6.046,6.035,6.028,5.994,5.944,5.933,5.909,5.895,5.89,5.835,5.813,5.805,5.802,5.79,5.781,5.769,5.761,5.755,5.73,5.701,5.692,5.644,5.592,5.56,5.554,5.55,5.503,5.48,5.468,5.463,5.437,5.421,5.415,5.394,5.383,5.333,5.324,5.3,5.288,5.274,5.271,5.263,5.255,5.236,5.206,5.198,5.19,5.139,5.115,5.094,5.091,4.961,4.959,4.957,4.914,4.901,4.86,4.802,4.787,4.784,4.783,4.709,4.696,4.695,4.676,4.662,4.65,4.642,4.616,4.608,4.596,4.563,4.522,4.521,4.503,4.498,4.496,4.462,4.456,4.41,4.405,4.394,4.383,4.379,4.361,4.36,4.351,4.345,4.325,4.26,4.231,4.209,4.179,4.176,4.17,4.077,4.073,4.005,3.914,3.867,3.847,3.833,3.823,3.818,3.763,3.677,3.631,3.496,3.421,3.34,3.31,3.274,3.151],\"xaxis\":\"x\",\"y\":[1.55,-3.7,5.1,-0.7,1.5,9.25,1.75,10.55,-5.1,21.65,19.2,6.35,24.8,8.65,9.3,8.55,8.4,8.45,9.55,26.65,7.55,21.0,10.7,24.95,19.2,26.45,8.45,27.15,27.0,25.4,17.55,24.65,13.3,23.45,14.8,24.5,26.8,26.3,25.75,6.8,13.45,27.15,24.45,12.05,8.9,6.2,7.85,24.9,21.85,11.15,5.5,18.45,11.5,15.0,18.45,24.95,21.55,8.8,2.0,19.6,22.4,9.45,5.6,-5.35,23.55,25.4,10.9,6.15,21.8,10.55,25.55,15.15,9.75,21.45,23.5,15.1,25.35,22.5,10.55,9.85,2.1,25.85,9.9,15.4,24.55,20.2,24.45,7.5,11.95,1.7,6.4,9.8,7.4,17.1,27.0,15.0,27.05,18.3,8.1,22.8,11.4,10.55,17.75,27.5,24.6,27.2,25.0,23.8,20.0,17.25,19.2,7.15,21.4,24.55,19.95,27.85,24.75,26.35,25.05,5.65,8.3,21.4,21.4,13.05,24.0,27.15,22.2,26.8,27.65,26.05,26.95,22.1,28.25,28.29,27.55,22.8,23.65,25.3,25.7,26.55,25.3,11.85,21.55,22.65,26.9,24.9,21.0,21.9,21.5,23.85,27.15,22.35,17.85,19.8,17.75,12.6,24.9],\"yaxis\":\"y\",\"type\":\"scatter\"}],                        {\"template\":{\"data\":{\"histogram2dcontour\":[{\"type\":\"histogram2dcontour\",\"colorbar\":{\"outlinewidth\":0,\"ticks\":\"\"},\"colorscale\":[[0.0,\"#0d0887\"],[0.1111111111111111,\"#46039f\"],[0.2222222222222222,\"#7201a8\"],[0.3333333333333333,\"#9c179e\"],[0.4444444444444444,\"#bd3786\"],[0.5555555555555556,\"#d8576b\"],[0.6666666666666666,\"#ed7953\"],[0.7777777777777778,\"#fb9f3a\"],[0.8888888888888888,\"#fdca26\"],[1.0,\"#f0f921\"]]}],\"choropleth\":[{\"type\":\"choropleth\",\"colorbar\":{\"outlinewidth\":0,\"ticks\":\"\"}}],\"histogram2d\":[{\"type\":\"histogram2d\",\"colorbar\":{\"outlinewidth\":0,\"ticks\":\"\"},\"colorscale\":[[0.0,\"#0d0887\"],[0.1111111111111111,\"#46039f\"],[0.2222222222222222,\"#7201a8\"],[0.3333333333333333,\"#9c179e\"],[0.4444444444444444,\"#bd3786\"],[0.5555555555555556,\"#d8576b\"],[0.6666666666666666,\"#ed7953\"],[0.7777777777777778,\"#fb9f3a\"],[0.8888888888888888,\"#fdca26\"],[1.0,\"#f0f921\"]]}],\"heatmap\":[{\"type\":\"heatmap\",\"colorbar\":{\"outlinewidth\":0,\"ticks\":\"\"},\"colorscale\":[[0.0,\"#0d0887\"],[0.1111111111111111,\"#46039f\"],[0.2222222222222222,\"#7201a8\"],[0.3333333333333333,\"#9c179e\"],[0.4444444444444444,\"#bd3786\"],[0.5555555555555556,\"#d8576b\"],[0.6666666666666666,\"#ed7953\"],[0.7777777777777778,\"#fb9f3a\"],[0.8888888888888888,\"#fdca26\"],[1.0,\"#f0f921\"]]}],\"heatmapgl\":[{\"type\":\"heatmapgl\",\"colorbar\":{\"outlinewidth\":0,\"ticks\":\"\"},\"colorscale\":[[0.0,\"#0d0887\"],[0.1111111111111111,\"#46039f\"],[0.2222222222222222,\"#7201a8\"],[0.3333333333333333,\"#9c179e\"],[0.4444444444444444,\"#bd3786\"],[0.5555555555555556,\"#d8576b\"],[0.6666666666666666,\"#ed7953\"],[0.7777777777777778,\"#fb9f3a\"],[0.8888888888888888,\"#fdca26\"],[1.0,\"#f0f921\"]]}],\"contourcarpet\":[{\"type\":\"contourcarpet\",\"colorbar\":{\"outlinewidth\":0,\"ticks\":\"\"}}],\"contour\":[{\"type\":\"contour\",\"colorbar\":{\"outlinewidth\":0,\"ticks\":\"\"},\"colorscale\":[[0.0,\"#0d0887\"],[0.1111111111111111,\"#46039f\"],[0.2222222222222222,\"#7201a8\"],[0.3333333333333333,\"#9c179e\"],[0.4444444444444444,\"#bd3786\"],[0.5555555555555556,\"#d8576b\"],[0.6666666666666666,\"#ed7953\"],[0.7777777777777778,\"#fb9f3a\"],[0.8888888888888888,\"#fdca26\"],[1.0,\"#f0f921\"]]}],\"surface\":[{\"type\":\"surface\",\"colorbar\":{\"outlinewidth\":0,\"ticks\":\"\"},\"colorscale\":[[0.0,\"#0d0887\"],[0.1111111111111111,\"#46039f\"],[0.2222222222222222,\"#7201a8\"],[0.3333333333333333,\"#9c179e\"],[0.4444444444444444,\"#bd3786\"],[0.5555555555555556,\"#d8576b\"],[0.6666666666666666,\"#ed7953\"],[0.7777777777777778,\"#fb9f3a\"],[0.8888888888888888,\"#fdca26\"],[1.0,\"#f0f921\"]]}],\"mesh3d\":[{\"type\":\"mesh3d\",\"colorbar\":{\"outlinewidth\":0,\"ticks\":\"\"}}],\"scatter\":[{\"fillpattern\":{\"fillmode\":\"overlay\",\"size\":10,\"solidity\":0.2},\"type\":\"scatter\"}],\"parcoords\":[{\"type\":\"parcoords\",\"line\":{\"colorbar\":{\"outlinewidth\":0,\"ticks\":\"\"}}}],\"scatterpolargl\":[{\"type\":\"scatterpolargl\",\"marker\":{\"colorbar\":{\"outlinewidth\":0,\"ticks\":\"\"}}}],\"bar\":[{\"error_x\":{\"color\":\"#2a3f5f\"},\"error_y\":{\"color\":\"#2a3f5f\"},\"marker\":{\"line\":{\"color\":\"#E5ECF6\",\"width\":0.5},\"pattern\":{\"fillmode\":\"overlay\",\"size\":10,\"solidity\":0.2}},\"type\":\"bar\"}],\"scattergeo\":[{\"type\":\"scattergeo\",\"marker\":{\"colorbar\":{\"outlinewidth\":0,\"ticks\":\"\"}}}],\"scatterpolar\":[{\"type\":\"scatterpolar\",\"marker\":{\"colorbar\":{\"outlinewidth\":0,\"ticks\":\"\"}}}],\"histogram\":[{\"marker\":{\"pattern\":{\"fillmode\":\"overlay\",\"size\":10,\"solidity\":0.2}},\"type\":\"histogram\"}],\"scattergl\":[{\"type\":\"scattergl\",\"marker\":{\"colorbar\":{\"outlinewidth\":0,\"ticks\":\"\"}}}],\"scatter3d\":[{\"type\":\"scatter3d\",\"line\":{\"colorbar\":{\"outlinewidth\":0,\"ticks\":\"\"}},\"marker\":{\"colorbar\":{\"outlinewidth\":0,\"ticks\":\"\"}}}],\"scattermapbox\":[{\"type\":\"scattermapbox\",\"marker\":{\"colorbar\":{\"outlinewidth\":0,\"ticks\":\"\"}}}],\"scatterternary\":[{\"type\":\"scatterternary\",\"marker\":{\"colorbar\":{\"outlinewidth\":0,\"ticks\":\"\"}}}],\"scattercarpet\":[{\"type\":\"scattercarpet\",\"marker\":{\"colorbar\":{\"outlinewidth\":0,\"ticks\":\"\"}}}],\"carpet\":[{\"aaxis\":{\"endlinecolor\":\"#2a3f5f\",\"gridcolor\":\"white\",\"linecolor\":\"white\",\"minorgridcolor\":\"white\",\"startlinecolor\":\"#2a3f5f\"},\"baxis\":{\"endlinecolor\":\"#2a3f5f\",\"gridcolor\":\"white\",\"linecolor\":\"white\",\"minorgridcolor\":\"white\",\"startlinecolor\":\"#2a3f5f\"},\"type\":\"carpet\"}],\"table\":[{\"cells\":{\"fill\":{\"color\":\"#EBF0F8\"},\"line\":{\"color\":\"white\"}},\"header\":{\"fill\":{\"color\":\"#C8D4E3\"},\"line\":{\"color\":\"white\"}},\"type\":\"table\"}],\"barpolar\":[{\"marker\":{\"line\":{\"color\":\"#E5ECF6\",\"width\":0.5},\"pattern\":{\"fillmode\":\"overlay\",\"size\":10,\"solidity\":0.2}},\"type\":\"barpolar\"}],\"pie\":[{\"automargin\":true,\"type\":\"pie\"}]},\"layout\":{\"autotypenumbers\":\"strict\",\"colorway\":[\"#636efa\",\"#EF553B\",\"#00cc96\",\"#ab63fa\",\"#FFA15A\",\"#19d3f3\",\"#FF6692\",\"#B6E880\",\"#FF97FF\",\"#FECB52\"],\"font\":{\"color\":\"#2a3f5f\"},\"hovermode\":\"closest\",\"hoverlabel\":{\"align\":\"left\"},\"paper_bgcolor\":\"white\",\"plot_bgcolor\":\"#E5ECF6\",\"polar\":{\"bgcolor\":\"#E5ECF6\",\"angularaxis\":{\"gridcolor\":\"white\",\"linecolor\":\"white\",\"ticks\":\"\"},\"radialaxis\":{\"gridcolor\":\"white\",\"linecolor\":\"white\",\"ticks\":\"\"}},\"ternary\":{\"bgcolor\":\"#E5ECF6\",\"aaxis\":{\"gridcolor\":\"white\",\"linecolor\":\"white\",\"ticks\":\"\"},\"baxis\":{\"gridcolor\":\"white\",\"linecolor\":\"white\",\"ticks\":\"\"},\"caxis\":{\"gridcolor\":\"white\",\"linecolor\":\"white\",\"ticks\":\"\"}},\"coloraxis\":{\"colorbar\":{\"outlinewidth\":0,\"ticks\":\"\"}},\"colorscale\":{\"sequential\":[[0.0,\"#0d0887\"],[0.1111111111111111,\"#46039f\"],[0.2222222222222222,\"#7201a8\"],[0.3333333333333333,\"#9c179e\"],[0.4444444444444444,\"#bd3786\"],[0.5555555555555556,\"#d8576b\"],[0.6666666666666666,\"#ed7953\"],[0.7777777777777778,\"#fb9f3a\"],[0.8888888888888888,\"#fdca26\"],[1.0,\"#f0f921\"]],\"sequentialminus\":[[0.0,\"#0d0887\"],[0.1111111111111111,\"#46039f\"],[0.2222222222222222,\"#7201a8\"],[0.3333333333333333,\"#9c179e\"],[0.4444444444444444,\"#bd3786\"],[0.5555555555555556,\"#d8576b\"],[0.6666666666666666,\"#ed7953\"],[0.7777777777777778,\"#fb9f3a\"],[0.8888888888888888,\"#fdca26\"],[1.0,\"#f0f921\"]],\"diverging\":[[0,\"#8e0152\"],[0.1,\"#c51b7d\"],[0.2,\"#de77ae\"],[0.3,\"#f1b6da\"],[0.4,\"#fde0ef\"],[0.5,\"#f7f7f7\"],[0.6,\"#e6f5d0\"],[0.7,\"#b8e186\"],[0.8,\"#7fbc41\"],[0.9,\"#4d9221\"],[1,\"#276419\"]]},\"xaxis\":{\"gridcolor\":\"white\",\"linecolor\":\"white\",\"ticks\":\"\",\"title\":{\"standoff\":15},\"zerolinecolor\":\"white\",\"automargin\":true,\"zerolinewidth\":2},\"yaxis\":{\"gridcolor\":\"white\",\"linecolor\":\"white\",\"ticks\":\"\",\"title\":{\"standoff\":15},\"zerolinecolor\":\"white\",\"automargin\":true,\"zerolinewidth\":2},\"scene\":{\"xaxis\":{\"backgroundcolor\":\"#E5ECF6\",\"gridcolor\":\"white\",\"linecolor\":\"white\",\"showbackground\":true,\"ticks\":\"\",\"zerolinecolor\":\"white\",\"gridwidth\":2},\"yaxis\":{\"backgroundcolor\":\"#E5ECF6\",\"gridcolor\":\"white\",\"linecolor\":\"white\",\"showbackground\":true,\"ticks\":\"\",\"zerolinecolor\":\"white\",\"gridwidth\":2},\"zaxis\":{\"backgroundcolor\":\"#E5ECF6\",\"gridcolor\":\"white\",\"linecolor\":\"white\",\"showbackground\":true,\"ticks\":\"\",\"zerolinecolor\":\"white\",\"gridwidth\":2}},\"shapedefaults\":{\"line\":{\"color\":\"#2a3f5f\"}},\"annotationdefaults\":{\"arrowcolor\":\"#2a3f5f\",\"arrowhead\":0,\"arrowwidth\":1},\"geo\":{\"bgcolor\":\"white\",\"landcolor\":\"#E5ECF6\",\"subunitcolor\":\"white\",\"showland\":true,\"showlakes\":true,\"lakecolor\":\"white\"},\"title\":{\"x\":0.05},\"mapbox\":{\"style\":\"light\"}}},\"xaxis\":{\"anchor\":\"y\",\"domain\":[0.0,1.0],\"title\":{\"text\":\"Mean Happiness Score\"},\"tickfont\":{\"size\":12}},\"yaxis\":{\"anchor\":\"x\",\"domain\":[0.0,1.0],\"title\":{\"text\":\"Average yearly temperature\"},\"tickfont\":{\"size\":12}},\"legend\":{\"tracegroupgap\":0},\"margin\":{\"t\":60},\"title\":{\"text\":\"Countries happiness Score and their temperature\"}},                        {\"responsive\": true}                    ).then(function(){\n",
       "                            \n",
       "var gd = document.getElementById('caecf312-1a23-4a86-b92b-d7fa34dac6e8');\n",
       "var x = new MutationObserver(function (mutations, observer) {{\n",
       "        var display = window.getComputedStyle(gd).display;\n",
       "        if (!display || display === 'none') {{\n",
       "            console.log([gd, 'removed!']);\n",
       "            Plotly.purge(gd);\n",
       "            observer.disconnect();\n",
       "        }}\n",
       "}});\n",
       "\n",
       "// Listen for the removal of the full notebook cells\n",
       "var notebookContainer = gd.closest('#notebook-container');\n",
       "if (notebookContainer) {{\n",
       "    x.observe(notebookContainer, {childList: true});\n",
       "}}\n",
       "\n",
       "// Listen for the clearing of the current output cell\n",
       "var outputEl = gd.closest('.output');\n",
       "if (outputEl) {{\n",
       "    x.observe(outputEl, {childList: true});\n",
       "}}\n",
       "\n",
       "                        })                };                });            </script>        </div>"
      ]
     },
     "metadata": {},
     "output_type": "display_data"
    }
   ],
   "source": [
    "happiness_temperature(df)"
   ]
  },
  {
   "cell_type": "code",
   "execution_count": 29,
   "id": "f71c6657",
   "metadata": {},
   "outputs": [],
   "source": [
    "def happiness_worldmap(df):\n",
    "    \"\"\"Creates a choropleth map using Plotly to visualize the happiness rank and GDP per capita of different countries \n",
    "    in the input DataFrame `df`.\n",
    "\n",
    "    Args:\n",
    "        :df: A pandas dataframe containing the following columns:\n",
    "        - 'Country': the name of the country (str)\n",
    "        - 'Mean Rank': the mean happiness rank of the country (float)\n",
    "        - 'Mean GDP per Capita': the mean GDP per capita of the country in US dollars (float)\n",
    "\n",
    "    Return\n",
    "    \"\"\"\n",
    "    import plotly.graph_objects as go\n",
    "    import plotly.offline as opy\n",
    "\n",
    "    fig = go.Figure(go.Choropleth(\n",
    "        locations = df['Country'],\n",
    "        locationmode = \"country names\",\n",
    "        z = df['Mean Rank'],\n",
    "        text = df['Mean GDP per Capita'],\n",
    "        colorscale = 'bluyl',\n",
    "        autocolorscale = False,\n",
    "        reversescale = False,\n",
    "        marker_line_color = '#efefef',\n",
    "        marker_line_width = 0.5,\n",
    "        colorbar_title = 'Happiness Rank',       \n",
    "        )\n",
    "    )\n",
    "    fig.update_layout(\n",
    "        title_text = 'Happiness Rank and GDP per capita',\n",
    "        showlegend = False,\n",
    "        geo = dict(\n",
    "            scope = 'world',\n",
    "            resolution = 50,\n",
    "            projection_type = 'miller',\n",
    "            showcoastlines = True,\n",
    "            showocean = True,\n",
    "            showcountries = True,\n",
    "            oceancolor = '#eaeaea',\n",
    "            lakecolor = '#eaeaea',\n",
    "            coastlinecolor = '#dadada'\n",
    "        )\n",
    "    )\n",
    "    fig.show()"
   ]
  },
  {
   "cell_type": "code",
   "execution_count": 30,
   "id": "75e59ce4",
   "metadata": {},
   "outputs": [
    {
     "data": {
      "application/vnd.plotly.v1+json": {
       "config": {
        "plotlyServerURL": "https://plot.ly"
       },
       "data": [
        {
         "autocolorscale": false,
         "colorbar": {
          "title": {
           "text": "Happiness Rank"
          }
         },
         "colorscale": [
          [
           0,
           "rgb(247, 254, 174)"
          ],
          [
           0.16666666666666666,
           "rgb(183, 230, 165)"
          ],
          [
           0.3333333333333333,
           "rgb(124, 203, 162)"
          ],
          [
           0.5,
           "rgb(70, 174, 160)"
          ],
          [
           0.6666666666666666,
           "rgb(8, 144, 153)"
          ],
          [
           0.8333333333333334,
           "rgb(0, 113, 139)"
          ],
          [
           1,
           "rgb(4, 82, 117)"
          ]
         ],
         "locationmode": "country names",
         "locations": [
          "Finland",
          "Denmark",
          "Switzerland",
          "Iceland",
          "Norway",
          "Netherlands",
          "Sweden",
          "New Zealand",
          "Canada",
          "Australia",
          "Israel",
          "Austria",
          "Costa Rica",
          "Luxembourg",
          "Ireland",
          "United States",
          "Germany",
          "United Kingdom",
          "Belgium",
          "United Arab Emirates",
          "Czech Republic",
          "Mexico",
          "France",
          "Brazil",
          "Malta",
          "Singapore",
          "Chile",
          "Qatar",
          "Taiwan",
          "Panama",
          "Uruguay",
          "Saudi Arabia",
          "Spain",
          "Guatemala",
          "Argentina",
          "Colombia",
          "Bahrain",
          "Thailand",
          "Trinidad and Tobago",
          "Slovakia",
          "Italy",
          "Kuwait",
          "El Salvador",
          "Uzbekistan",
          "Slovenia",
          "Lithuania",
          "Poland",
          "Nicaragua",
          "Ecuador",
          "Japan",
          "Kazakhstan",
          "Cyprus",
          "South Korea",
          "Kosovo",
          "Cyprus",
          "Jamaica",
          "Bolivia",
          "Romania",
          "Estonia",
          "Peru",
          "Mauritius",
          "Moldova",
          "Latvia",
          "Russia",
          "Paraguay",
          "Malaysia",
          "Croatia",
          "Belarus",
          "Libya",
          "Serbia",
          "Philippines",
          "Portugal",
          "Hungary",
          "Hong Kong",
          "Honduras",
          "Turkmenistan",
          "Venezuela",
          "Algeria",
          "Montenegro",
          "Bosnia and Herzegovina",
          "Kyrgyzstan",
          "Indonesia",
          "Turkey",
          "Greece",
          "Dominican Republic",
          "Pakistan",
          "Vietnam",
          "China",
          "Azerbaijan",
          "Mongolia",
          "Tajikistan",
          "Macedonia",
          "Bhutan",
          "Morocco",
          "Nigeria",
          "Lebanon",
          "Somalia",
          "Jordan",
          "Nepal",
          "Laos",
          "Albania",
          "Bulgaria",
          "South Africa",
          "Gambia",
          "Cameroon",
          "Ghana",
          "Bangladesh",
          "Mozambique",
          "Palestinian Territories",
          "Iran",
          "Tunisia",
          "Armenia",
          "Iraq",
          "Republic of the Congo",
          "Namibia",
          "Senegal",
          "Kenya",
          "Ivory Coast",
          "Gabon",
          "Georgia",
          "Ukraine",
          "Swaziland",
          "Zambia",
          "Myanmar",
          "Democratic Republic of the Congo",
          "Niger",
          "Ethiopia",
          "Cambodia",
          "Mauritania",
          "Sierra Leone",
          "Sri Lanka",
          "Egypt",
          "Mali",
          "Burkina Faso",
          "Benin",
          "Uganda",
          "India",
          "Liberia",
          "Guinea",
          "Chad",
          "Comoros",
          "Lesotho",
          "Angola",
          "Madagascar",
          "Sudan",
          "Haiti",
          "Zimbabwe",
          "Malawi",
          "Botswana",
          "Yemen",
          "Togo",
          "Tanzania",
          "Rwanda",
          "Burundi",
          "Syria",
          "Afghanistan",
          "Central African Republic"
         ],
         "marker": {
          "line": {
           "color": "#efefef",
           "width": 0.5
          }
         },
         "reversescale": false,
         "text": [
          1.38,
          1.42,
          1.49,
          1.41,
          1.53,
          1.43,
          1.42,
          1.34,
          1.4,
          1.41,
          1.31,
          1.42,
          1.06,
          1.67,
          1.5,
          1.48,
          1.42,
          1.37,
          1.4,
          1.53,
          1.29,
          1.09,
          1.36,
          1.03,
          1.32,
          1.62,
          1.18,
          1.75,
          1.39,
          1.19,
          1.14,
          1.44,
          1.32,
          0.82,
          1.12,
          1,
          1.4,
          1.06,
          1.27,
          1.26,
          1.33,
          1.54,
          0.83,
          0.73,
          1.29,
          1.26,
          1.23,
          0.68,
          0.93,
          1.35,
          1.2,
          1.3,
          1.34,
          0.89,
          1.3,
          0.86,
          0.78,
          1.17,
          1.26,
          0.97,
          1.12,
          0.75,
          1.21,
          1.21,
          0.88,
          1.22,
          1.18,
          1.09,
          1.08,
          1.02,
          0.81,
          1.25,
          1.23,
          1.48,
          0.67,
          1.05,
          1,
          0.99,
          1.08,
          0.95,
          0.57,
          0.93,
          1.18,
          1.22,
          1.02,
          0.66,
          0.74,
          1.02,
          1.06,
          0.94,
          0.48,
          1.01,
          0.82,
          0.8,
          0.7,
          1.03,
          0.07,
          0.9,
          0.45,
          0.72,
          0.96,
          1.11,
          0.98,
          0.34,
          0.52,
          0.63,
          0.55,
          0.18,
          0.65,
          1.07,
          0.93,
          0.88,
          1.01,
          0.67,
          0.91,
          0.45,
          0.51,
          0.58,
          1.09,
          0.9,
          0.87,
          0.79,
          0.55,
          0.5,
          0.06,
          0.13,
          0.31,
          0.56,
          0.58,
          0.31,
          0.95,
          0.93,
          0.38,
          0.33,
          0.4,
          0.32,
          0.73,
          0.12,
          0.3,
          0.35,
          0.33,
          0.46,
          0.81,
          0.26,
          0.5,
          0.31,
          0.37,
          0.14,
          1.06,
          0.44,
          0.26,
          0.43,
          0.33,
          0.04,
          0.69,
          0.36,
          0.03
         ],
         "type": "choropleth",
         "z": [
          1,
          2,
          3,
          4,
          5,
          6,
          7,
          8,
          9,
          10,
          11,
          12,
          13,
          14,
          15,
          16,
          17,
          18,
          19,
          20,
          21,
          22,
          23,
          24,
          25,
          26,
          27,
          28,
          29,
          30,
          31,
          32,
          33,
          34,
          35,
          36,
          37,
          38,
          39,
          40,
          41,
          42,
          43,
          44,
          45,
          46,
          47,
          48,
          49,
          50,
          51,
          52,
          53,
          54,
          55,
          56,
          57,
          58,
          59,
          60,
          61,
          62,
          63,
          64,
          65,
          66,
          67,
          68,
          69,
          70,
          71,
          72,
          73,
          74,
          75,
          76,
          77,
          78,
          79,
          80,
          81,
          82,
          83,
          84,
          85,
          86,
          87,
          88,
          89,
          90,
          91,
          92,
          93,
          94,
          95,
          96,
          97,
          98,
          99,
          100,
          101,
          102,
          103,
          104,
          105,
          106,
          107,
          108,
          109,
          110,
          111,
          112,
          113,
          114,
          115,
          116,
          117,
          118,
          119,
          120,
          121,
          122,
          123,
          124,
          125,
          126,
          127,
          128,
          129,
          130,
          131,
          132,
          133,
          134,
          135,
          136,
          137,
          138,
          139,
          140,
          141,
          142,
          143,
          144,
          145,
          146,
          147,
          148,
          149,
          150,
          151,
          152,
          153,
          154,
          155,
          156,
          157
         ]
        }
       ],
       "layout": {
        "geo": {
         "coastlinecolor": "#dadada",
         "lakecolor": "#eaeaea",
         "oceancolor": "#eaeaea",
         "projection": {
          "type": "miller"
         },
         "resolution": 50,
         "scope": "world",
         "showcoastlines": true,
         "showcountries": true,
         "showocean": true
        },
        "showlegend": false,
        "template": {
         "data": {
          "bar": [
           {
            "error_x": {
             "color": "#2a3f5f"
            },
            "error_y": {
             "color": "#2a3f5f"
            },
            "marker": {
             "line": {
              "color": "#E5ECF6",
              "width": 0.5
             },
             "pattern": {
              "fillmode": "overlay",
              "size": 10,
              "solidity": 0.2
             }
            },
            "type": "bar"
           }
          ],
          "barpolar": [
           {
            "marker": {
             "line": {
              "color": "#E5ECF6",
              "width": 0.5
             },
             "pattern": {
              "fillmode": "overlay",
              "size": 10,
              "solidity": 0.2
             }
            },
            "type": "barpolar"
           }
          ],
          "carpet": [
           {
            "aaxis": {
             "endlinecolor": "#2a3f5f",
             "gridcolor": "white",
             "linecolor": "white",
             "minorgridcolor": "white",
             "startlinecolor": "#2a3f5f"
            },
            "baxis": {
             "endlinecolor": "#2a3f5f",
             "gridcolor": "white",
             "linecolor": "white",
             "minorgridcolor": "white",
             "startlinecolor": "#2a3f5f"
            },
            "type": "carpet"
           }
          ],
          "choropleth": [
           {
            "colorbar": {
             "outlinewidth": 0,
             "ticks": ""
            },
            "type": "choropleth"
           }
          ],
          "contour": [
           {
            "colorbar": {
             "outlinewidth": 0,
             "ticks": ""
            },
            "colorscale": [
             [
              0,
              "#0d0887"
             ],
             [
              0.1111111111111111,
              "#46039f"
             ],
             [
              0.2222222222222222,
              "#7201a8"
             ],
             [
              0.3333333333333333,
              "#9c179e"
             ],
             [
              0.4444444444444444,
              "#bd3786"
             ],
             [
              0.5555555555555556,
              "#d8576b"
             ],
             [
              0.6666666666666666,
              "#ed7953"
             ],
             [
              0.7777777777777778,
              "#fb9f3a"
             ],
             [
              0.8888888888888888,
              "#fdca26"
             ],
             [
              1,
              "#f0f921"
             ]
            ],
            "type": "contour"
           }
          ],
          "contourcarpet": [
           {
            "colorbar": {
             "outlinewidth": 0,
             "ticks": ""
            },
            "type": "contourcarpet"
           }
          ],
          "heatmap": [
           {
            "colorbar": {
             "outlinewidth": 0,
             "ticks": ""
            },
            "colorscale": [
             [
              0,
              "#0d0887"
             ],
             [
              0.1111111111111111,
              "#46039f"
             ],
             [
              0.2222222222222222,
              "#7201a8"
             ],
             [
              0.3333333333333333,
              "#9c179e"
             ],
             [
              0.4444444444444444,
              "#bd3786"
             ],
             [
              0.5555555555555556,
              "#d8576b"
             ],
             [
              0.6666666666666666,
              "#ed7953"
             ],
             [
              0.7777777777777778,
              "#fb9f3a"
             ],
             [
              0.8888888888888888,
              "#fdca26"
             ],
             [
              1,
              "#f0f921"
             ]
            ],
            "type": "heatmap"
           }
          ],
          "heatmapgl": [
           {
            "colorbar": {
             "outlinewidth": 0,
             "ticks": ""
            },
            "colorscale": [
             [
              0,
              "#0d0887"
             ],
             [
              0.1111111111111111,
              "#46039f"
             ],
             [
              0.2222222222222222,
              "#7201a8"
             ],
             [
              0.3333333333333333,
              "#9c179e"
             ],
             [
              0.4444444444444444,
              "#bd3786"
             ],
             [
              0.5555555555555556,
              "#d8576b"
             ],
             [
              0.6666666666666666,
              "#ed7953"
             ],
             [
              0.7777777777777778,
              "#fb9f3a"
             ],
             [
              0.8888888888888888,
              "#fdca26"
             ],
             [
              1,
              "#f0f921"
             ]
            ],
            "type": "heatmapgl"
           }
          ],
          "histogram": [
           {
            "marker": {
             "pattern": {
              "fillmode": "overlay",
              "size": 10,
              "solidity": 0.2
             }
            },
            "type": "histogram"
           }
          ],
          "histogram2d": [
           {
            "colorbar": {
             "outlinewidth": 0,
             "ticks": ""
            },
            "colorscale": [
             [
              0,
              "#0d0887"
             ],
             [
              0.1111111111111111,
              "#46039f"
             ],
             [
              0.2222222222222222,
              "#7201a8"
             ],
             [
              0.3333333333333333,
              "#9c179e"
             ],
             [
              0.4444444444444444,
              "#bd3786"
             ],
             [
              0.5555555555555556,
              "#d8576b"
             ],
             [
              0.6666666666666666,
              "#ed7953"
             ],
             [
              0.7777777777777778,
              "#fb9f3a"
             ],
             [
              0.8888888888888888,
              "#fdca26"
             ],
             [
              1,
              "#f0f921"
             ]
            ],
            "type": "histogram2d"
           }
          ],
          "histogram2dcontour": [
           {
            "colorbar": {
             "outlinewidth": 0,
             "ticks": ""
            },
            "colorscale": [
             [
              0,
              "#0d0887"
             ],
             [
              0.1111111111111111,
              "#46039f"
             ],
             [
              0.2222222222222222,
              "#7201a8"
             ],
             [
              0.3333333333333333,
              "#9c179e"
             ],
             [
              0.4444444444444444,
              "#bd3786"
             ],
             [
              0.5555555555555556,
              "#d8576b"
             ],
             [
              0.6666666666666666,
              "#ed7953"
             ],
             [
              0.7777777777777778,
              "#fb9f3a"
             ],
             [
              0.8888888888888888,
              "#fdca26"
             ],
             [
              1,
              "#f0f921"
             ]
            ],
            "type": "histogram2dcontour"
           }
          ],
          "mesh3d": [
           {
            "colorbar": {
             "outlinewidth": 0,
             "ticks": ""
            },
            "type": "mesh3d"
           }
          ],
          "parcoords": [
           {
            "line": {
             "colorbar": {
              "outlinewidth": 0,
              "ticks": ""
             }
            },
            "type": "parcoords"
           }
          ],
          "pie": [
           {
            "automargin": true,
            "type": "pie"
           }
          ],
          "scatter": [
           {
            "fillpattern": {
             "fillmode": "overlay",
             "size": 10,
             "solidity": 0.2
            },
            "type": "scatter"
           }
          ],
          "scatter3d": [
           {
            "line": {
             "colorbar": {
              "outlinewidth": 0,
              "ticks": ""
             }
            },
            "marker": {
             "colorbar": {
              "outlinewidth": 0,
              "ticks": ""
             }
            },
            "type": "scatter3d"
           }
          ],
          "scattercarpet": [
           {
            "marker": {
             "colorbar": {
              "outlinewidth": 0,
              "ticks": ""
             }
            },
            "type": "scattercarpet"
           }
          ],
          "scattergeo": [
           {
            "marker": {
             "colorbar": {
              "outlinewidth": 0,
              "ticks": ""
             }
            },
            "type": "scattergeo"
           }
          ],
          "scattergl": [
           {
            "marker": {
             "colorbar": {
              "outlinewidth": 0,
              "ticks": ""
             }
            },
            "type": "scattergl"
           }
          ],
          "scattermapbox": [
           {
            "marker": {
             "colorbar": {
              "outlinewidth": 0,
              "ticks": ""
             }
            },
            "type": "scattermapbox"
           }
          ],
          "scatterpolar": [
           {
            "marker": {
             "colorbar": {
              "outlinewidth": 0,
              "ticks": ""
             }
            },
            "type": "scatterpolar"
           }
          ],
          "scatterpolargl": [
           {
            "marker": {
             "colorbar": {
              "outlinewidth": 0,
              "ticks": ""
             }
            },
            "type": "scatterpolargl"
           }
          ],
          "scatterternary": [
           {
            "marker": {
             "colorbar": {
              "outlinewidth": 0,
              "ticks": ""
             }
            },
            "type": "scatterternary"
           }
          ],
          "surface": [
           {
            "colorbar": {
             "outlinewidth": 0,
             "ticks": ""
            },
            "colorscale": [
             [
              0,
              "#0d0887"
             ],
             [
              0.1111111111111111,
              "#46039f"
             ],
             [
              0.2222222222222222,
              "#7201a8"
             ],
             [
              0.3333333333333333,
              "#9c179e"
             ],
             [
              0.4444444444444444,
              "#bd3786"
             ],
             [
              0.5555555555555556,
              "#d8576b"
             ],
             [
              0.6666666666666666,
              "#ed7953"
             ],
             [
              0.7777777777777778,
              "#fb9f3a"
             ],
             [
              0.8888888888888888,
              "#fdca26"
             ],
             [
              1,
              "#f0f921"
             ]
            ],
            "type": "surface"
           }
          ],
          "table": [
           {
            "cells": {
             "fill": {
              "color": "#EBF0F8"
             },
             "line": {
              "color": "white"
             }
            },
            "header": {
             "fill": {
              "color": "#C8D4E3"
             },
             "line": {
              "color": "white"
             }
            },
            "type": "table"
           }
          ]
         },
         "layout": {
          "annotationdefaults": {
           "arrowcolor": "#2a3f5f",
           "arrowhead": 0,
           "arrowwidth": 1
          },
          "autotypenumbers": "strict",
          "coloraxis": {
           "colorbar": {
            "outlinewidth": 0,
            "ticks": ""
           }
          },
          "colorscale": {
           "diverging": [
            [
             0,
             "#8e0152"
            ],
            [
             0.1,
             "#c51b7d"
            ],
            [
             0.2,
             "#de77ae"
            ],
            [
             0.3,
             "#f1b6da"
            ],
            [
             0.4,
             "#fde0ef"
            ],
            [
             0.5,
             "#f7f7f7"
            ],
            [
             0.6,
             "#e6f5d0"
            ],
            [
             0.7,
             "#b8e186"
            ],
            [
             0.8,
             "#7fbc41"
            ],
            [
             0.9,
             "#4d9221"
            ],
            [
             1,
             "#276419"
            ]
           ],
           "sequential": [
            [
             0,
             "#0d0887"
            ],
            [
             0.1111111111111111,
             "#46039f"
            ],
            [
             0.2222222222222222,
             "#7201a8"
            ],
            [
             0.3333333333333333,
             "#9c179e"
            ],
            [
             0.4444444444444444,
             "#bd3786"
            ],
            [
             0.5555555555555556,
             "#d8576b"
            ],
            [
             0.6666666666666666,
             "#ed7953"
            ],
            [
             0.7777777777777778,
             "#fb9f3a"
            ],
            [
             0.8888888888888888,
             "#fdca26"
            ],
            [
             1,
             "#f0f921"
            ]
           ],
           "sequentialminus": [
            [
             0,
             "#0d0887"
            ],
            [
             0.1111111111111111,
             "#46039f"
            ],
            [
             0.2222222222222222,
             "#7201a8"
            ],
            [
             0.3333333333333333,
             "#9c179e"
            ],
            [
             0.4444444444444444,
             "#bd3786"
            ],
            [
             0.5555555555555556,
             "#d8576b"
            ],
            [
             0.6666666666666666,
             "#ed7953"
            ],
            [
             0.7777777777777778,
             "#fb9f3a"
            ],
            [
             0.8888888888888888,
             "#fdca26"
            ],
            [
             1,
             "#f0f921"
            ]
           ]
          },
          "colorway": [
           "#636efa",
           "#EF553B",
           "#00cc96",
           "#ab63fa",
           "#FFA15A",
           "#19d3f3",
           "#FF6692",
           "#B6E880",
           "#FF97FF",
           "#FECB52"
          ],
          "font": {
           "color": "#2a3f5f"
          },
          "geo": {
           "bgcolor": "white",
           "lakecolor": "white",
           "landcolor": "#E5ECF6",
           "showlakes": true,
           "showland": true,
           "subunitcolor": "white"
          },
          "hoverlabel": {
           "align": "left"
          },
          "hovermode": "closest",
          "mapbox": {
           "style": "light"
          },
          "paper_bgcolor": "white",
          "plot_bgcolor": "#E5ECF6",
          "polar": {
           "angularaxis": {
            "gridcolor": "white",
            "linecolor": "white",
            "ticks": ""
           },
           "bgcolor": "#E5ECF6",
           "radialaxis": {
            "gridcolor": "white",
            "linecolor": "white",
            "ticks": ""
           }
          },
          "scene": {
           "xaxis": {
            "backgroundcolor": "#E5ECF6",
            "gridcolor": "white",
            "gridwidth": 2,
            "linecolor": "white",
            "showbackground": true,
            "ticks": "",
            "zerolinecolor": "white"
           },
           "yaxis": {
            "backgroundcolor": "#E5ECF6",
            "gridcolor": "white",
            "gridwidth": 2,
            "linecolor": "white",
            "showbackground": true,
            "ticks": "",
            "zerolinecolor": "white"
           },
           "zaxis": {
            "backgroundcolor": "#E5ECF6",
            "gridcolor": "white",
            "gridwidth": 2,
            "linecolor": "white",
            "showbackground": true,
            "ticks": "",
            "zerolinecolor": "white"
           }
          },
          "shapedefaults": {
           "line": {
            "color": "#2a3f5f"
           }
          },
          "ternary": {
           "aaxis": {
            "gridcolor": "white",
            "linecolor": "white",
            "ticks": ""
           },
           "baxis": {
            "gridcolor": "white",
            "linecolor": "white",
            "ticks": ""
           },
           "bgcolor": "#E5ECF6",
           "caxis": {
            "gridcolor": "white",
            "linecolor": "white",
            "ticks": ""
           }
          },
          "title": {
           "x": 0.05
          },
          "xaxis": {
           "automargin": true,
           "gridcolor": "white",
           "linecolor": "white",
           "ticks": "",
           "title": {
            "standoff": 15
           },
           "zerolinecolor": "white",
           "zerolinewidth": 2
          },
          "yaxis": {
           "automargin": true,
           "gridcolor": "white",
           "linecolor": "white",
           "ticks": "",
           "title": {
            "standoff": 15
           },
           "zerolinecolor": "white",
           "zerolinewidth": 2
          }
         }
        },
        "title": {
         "text": "Happiness Rank and GDP per capita"
        }
       }
      },
      "text/html": [
       "<div>                            <div id=\"060541c0-68e1-4ded-a17e-12fd85119aa2\" class=\"plotly-graph-div\" style=\"height:525px; width:100%;\"></div>            <script type=\"text/javascript\">                require([\"plotly\"], function(Plotly) {                    window.PLOTLYENV=window.PLOTLYENV || {};                                    if (document.getElementById(\"060541c0-68e1-4ded-a17e-12fd85119aa2\")) {                    Plotly.newPlot(                        \"060541c0-68e1-4ded-a17e-12fd85119aa2\",                        [{\"autocolorscale\":false,\"colorbar\":{\"title\":{\"text\":\"Happiness Rank\"}},\"colorscale\":[[0.0,\"rgb(247, 254, 174)\"],[0.16666666666666666,\"rgb(183, 230, 165)\"],[0.3333333333333333,\"rgb(124, 203, 162)\"],[0.5,\"rgb(70, 174, 160)\"],[0.6666666666666666,\"rgb(8, 144, 153)\"],[0.8333333333333334,\"rgb(0, 113, 139)\"],[1.0,\"rgb(4, 82, 117)\"]],\"locationmode\":\"country names\",\"locations\":[\"Finland\",\"Denmark\",\"Switzerland\",\"Iceland\",\"Norway\",\"Netherlands\",\"Sweden\",\"New Zealand\",\"Canada\",\"Australia\",\"Israel\",\"Austria\",\"Costa Rica\",\"Luxembourg\",\"Ireland\",\"United States\",\"Germany\",\"United Kingdom\",\"Belgium\",\"United Arab Emirates\",\"Czech Republic\",\"Mexico\",\"France\",\"Brazil\",\"Malta\",\"Singapore\",\"Chile\",\"Qatar\",\"Taiwan\",\"Panama\",\"Uruguay\",\"Saudi Arabia\",\"Spain\",\"Guatemala\",\"Argentina\",\"Colombia\",\"Bahrain\",\"Thailand\",\"Trinidad and Tobago\",\"Slovakia\",\"Italy\",\"Kuwait\",\"El Salvador\",\"Uzbekistan\",\"Slovenia\",\"Lithuania\",\"Poland\",\"Nicaragua\",\"Ecuador\",\"Japan\",\"Kazakhstan\",\"Cyprus\",\"South Korea\",\"Kosovo\",\"Cyprus\",\"Jamaica\",\"Bolivia\",\"Romania\",\"Estonia\",\"Peru\",\"Mauritius\",\"Moldova\",\"Latvia\",\"Russia\",\"Paraguay\",\"Malaysia\",\"Croatia\",\"Belarus\",\"Libya\",\"Serbia\",\"Philippines\",\"Portugal\",\"Hungary\",\"Hong Kong\",\"Honduras\",\"Turkmenistan\",\"Venezuela\",\"Algeria\",\"Montenegro\",\"Bosnia and Herzegovina\",\"Kyrgyzstan\",\"Indonesia\",\"Turkey\",\"Greece\",\"Dominican Republic\",\"Pakistan\",\"Vietnam\",\"China\",\"Azerbaijan\",\"Mongolia\",\"Tajikistan\",\"Macedonia\",\"Bhutan\",\"Morocco\",\"Nigeria\",\"Lebanon\",\"Somalia\",\"Jordan\",\"Nepal\",\"Laos\",\"Albania\",\"Bulgaria\",\"South Africa\",\"Gambia\",\"Cameroon\",\"Ghana\",\"Bangladesh\",\"Mozambique\",\"Palestinian Territories\",\"Iran\",\"Tunisia\",\"Armenia\",\"Iraq\",\"Republic of the Congo\",\"Namibia\",\"Senegal\",\"Kenya\",\"Ivory Coast\",\"Gabon\",\"Georgia\",\"Ukraine\",\"Swaziland\",\"Zambia\",\"Myanmar\",\"Democratic Republic of the Congo\",\"Niger\",\"Ethiopia\",\"Cambodia\",\"Mauritania\",\"Sierra Leone\",\"Sri Lanka\",\"Egypt\",\"Mali\",\"Burkina Faso\",\"Benin\",\"Uganda\",\"India\",\"Liberia\",\"Guinea\",\"Chad\",\"Comoros\",\"Lesotho\",\"Angola\",\"Madagascar\",\"Sudan\",\"Haiti\",\"Zimbabwe\",\"Malawi\",\"Botswana\",\"Yemen\",\"Togo\",\"Tanzania\",\"Rwanda\",\"Burundi\",\"Syria\",\"Afghanistan\",\"Central African Republic\"],\"marker\":{\"line\":{\"color\":\"#efefef\",\"width\":0.5}},\"reversescale\":false,\"text\":[1.38,1.42,1.49,1.41,1.53,1.43,1.42,1.34,1.4,1.41,1.31,1.42,1.06,1.67,1.5,1.48,1.42,1.37,1.4,1.53,1.29,1.09,1.36,1.03,1.32,1.62,1.18,1.75,1.39,1.19,1.14,1.44,1.32,0.82,1.12,1.0,1.4,1.06,1.27,1.26,1.33,1.54,0.83,0.73,1.29,1.26,1.23,0.68,0.93,1.35,1.2,1.3,1.34,0.89,1.3,0.86,0.78,1.17,1.26,0.97,1.12,0.75,1.21,1.21,0.88,1.22,1.18,1.09,1.08,1.02,0.81,1.25,1.23,1.48,0.67,1.05,1.0,0.99,1.08,0.95,0.57,0.93,1.18,1.22,1.02,0.66,0.74,1.02,1.06,0.94,0.48,1.01,0.82,0.8,0.7,1.03,0.07,0.9,0.45,0.72,0.96,1.11,0.98,0.34,0.52,0.63,0.55,0.18,0.65,1.07,0.93,0.88,1.01,0.67,0.91,0.45,0.51,0.58,1.09,0.9,0.87,0.79,0.55,0.5,0.06,0.13,0.31,0.56,0.58,0.31,0.95,0.93,0.38,0.33,0.4,0.32,0.73,0.12,0.3,0.35,0.33,0.46,0.81,0.26,0.5,0.31,0.37,0.14,1.06,0.44,0.26,0.43,0.33,0.04,0.69,0.36,0.03],\"z\":[1,2,3,4,5,6,7,8,9,10,11,12,13,14,15,16,17,18,19,20,21,22,23,24,25,26,27,28,29,30,31,32,33,34,35,36,37,38,39,40,41,42,43,44,45,46,47,48,49,50,51,52,53,54,55,56,57,58,59,60,61,62,63,64,65,66,67,68,69,70,71,72,73,74,75,76,77,78,79,80,81,82,83,84,85,86,87,88,89,90,91,92,93,94,95,96,97,98,99,100,101,102,103,104,105,106,107,108,109,110,111,112,113,114,115,116,117,118,119,120,121,122,123,124,125,126,127,128,129,130,131,132,133,134,135,136,137,138,139,140,141,142,143,144,145,146,147,148,149,150,151,152,153,154,155,156,157],\"type\":\"choropleth\"}],                        {\"template\":{\"data\":{\"histogram2dcontour\":[{\"type\":\"histogram2dcontour\",\"colorbar\":{\"outlinewidth\":0,\"ticks\":\"\"},\"colorscale\":[[0.0,\"#0d0887\"],[0.1111111111111111,\"#46039f\"],[0.2222222222222222,\"#7201a8\"],[0.3333333333333333,\"#9c179e\"],[0.4444444444444444,\"#bd3786\"],[0.5555555555555556,\"#d8576b\"],[0.6666666666666666,\"#ed7953\"],[0.7777777777777778,\"#fb9f3a\"],[0.8888888888888888,\"#fdca26\"],[1.0,\"#f0f921\"]]}],\"choropleth\":[{\"type\":\"choropleth\",\"colorbar\":{\"outlinewidth\":0,\"ticks\":\"\"}}],\"histogram2d\":[{\"type\":\"histogram2d\",\"colorbar\":{\"outlinewidth\":0,\"ticks\":\"\"},\"colorscale\":[[0.0,\"#0d0887\"],[0.1111111111111111,\"#46039f\"],[0.2222222222222222,\"#7201a8\"],[0.3333333333333333,\"#9c179e\"],[0.4444444444444444,\"#bd3786\"],[0.5555555555555556,\"#d8576b\"],[0.6666666666666666,\"#ed7953\"],[0.7777777777777778,\"#fb9f3a\"],[0.8888888888888888,\"#fdca26\"],[1.0,\"#f0f921\"]]}],\"heatmap\":[{\"type\":\"heatmap\",\"colorbar\":{\"outlinewidth\":0,\"ticks\":\"\"},\"colorscale\":[[0.0,\"#0d0887\"],[0.1111111111111111,\"#46039f\"],[0.2222222222222222,\"#7201a8\"],[0.3333333333333333,\"#9c179e\"],[0.4444444444444444,\"#bd3786\"],[0.5555555555555556,\"#d8576b\"],[0.6666666666666666,\"#ed7953\"],[0.7777777777777778,\"#fb9f3a\"],[0.8888888888888888,\"#fdca26\"],[1.0,\"#f0f921\"]]}],\"heatmapgl\":[{\"type\":\"heatmapgl\",\"colorbar\":{\"outlinewidth\":0,\"ticks\":\"\"},\"colorscale\":[[0.0,\"#0d0887\"],[0.1111111111111111,\"#46039f\"],[0.2222222222222222,\"#7201a8\"],[0.3333333333333333,\"#9c179e\"],[0.4444444444444444,\"#bd3786\"],[0.5555555555555556,\"#d8576b\"],[0.6666666666666666,\"#ed7953\"],[0.7777777777777778,\"#fb9f3a\"],[0.8888888888888888,\"#fdca26\"],[1.0,\"#f0f921\"]]}],\"contourcarpet\":[{\"type\":\"contourcarpet\",\"colorbar\":{\"outlinewidth\":0,\"ticks\":\"\"}}],\"contour\":[{\"type\":\"contour\",\"colorbar\":{\"outlinewidth\":0,\"ticks\":\"\"},\"colorscale\":[[0.0,\"#0d0887\"],[0.1111111111111111,\"#46039f\"],[0.2222222222222222,\"#7201a8\"],[0.3333333333333333,\"#9c179e\"],[0.4444444444444444,\"#bd3786\"],[0.5555555555555556,\"#d8576b\"],[0.6666666666666666,\"#ed7953\"],[0.7777777777777778,\"#fb9f3a\"],[0.8888888888888888,\"#fdca26\"],[1.0,\"#f0f921\"]]}],\"surface\":[{\"type\":\"surface\",\"colorbar\":{\"outlinewidth\":0,\"ticks\":\"\"},\"colorscale\":[[0.0,\"#0d0887\"],[0.1111111111111111,\"#46039f\"],[0.2222222222222222,\"#7201a8\"],[0.3333333333333333,\"#9c179e\"],[0.4444444444444444,\"#bd3786\"],[0.5555555555555556,\"#d8576b\"],[0.6666666666666666,\"#ed7953\"],[0.7777777777777778,\"#fb9f3a\"],[0.8888888888888888,\"#fdca26\"],[1.0,\"#f0f921\"]]}],\"mesh3d\":[{\"type\":\"mesh3d\",\"colorbar\":{\"outlinewidth\":0,\"ticks\":\"\"}}],\"scatter\":[{\"fillpattern\":{\"fillmode\":\"overlay\",\"size\":10,\"solidity\":0.2},\"type\":\"scatter\"}],\"parcoords\":[{\"type\":\"parcoords\",\"line\":{\"colorbar\":{\"outlinewidth\":0,\"ticks\":\"\"}}}],\"scatterpolargl\":[{\"type\":\"scatterpolargl\",\"marker\":{\"colorbar\":{\"outlinewidth\":0,\"ticks\":\"\"}}}],\"bar\":[{\"error_x\":{\"color\":\"#2a3f5f\"},\"error_y\":{\"color\":\"#2a3f5f\"},\"marker\":{\"line\":{\"color\":\"#E5ECF6\",\"width\":0.5},\"pattern\":{\"fillmode\":\"overlay\",\"size\":10,\"solidity\":0.2}},\"type\":\"bar\"}],\"scattergeo\":[{\"type\":\"scattergeo\",\"marker\":{\"colorbar\":{\"outlinewidth\":0,\"ticks\":\"\"}}}],\"scatterpolar\":[{\"type\":\"scatterpolar\",\"marker\":{\"colorbar\":{\"outlinewidth\":0,\"ticks\":\"\"}}}],\"histogram\":[{\"marker\":{\"pattern\":{\"fillmode\":\"overlay\",\"size\":10,\"solidity\":0.2}},\"type\":\"histogram\"}],\"scattergl\":[{\"type\":\"scattergl\",\"marker\":{\"colorbar\":{\"outlinewidth\":0,\"ticks\":\"\"}}}],\"scatter3d\":[{\"type\":\"scatter3d\",\"line\":{\"colorbar\":{\"outlinewidth\":0,\"ticks\":\"\"}},\"marker\":{\"colorbar\":{\"outlinewidth\":0,\"ticks\":\"\"}}}],\"scattermapbox\":[{\"type\":\"scattermapbox\",\"marker\":{\"colorbar\":{\"outlinewidth\":0,\"ticks\":\"\"}}}],\"scatterternary\":[{\"type\":\"scatterternary\",\"marker\":{\"colorbar\":{\"outlinewidth\":0,\"ticks\":\"\"}}}],\"scattercarpet\":[{\"type\":\"scattercarpet\",\"marker\":{\"colorbar\":{\"outlinewidth\":0,\"ticks\":\"\"}}}],\"carpet\":[{\"aaxis\":{\"endlinecolor\":\"#2a3f5f\",\"gridcolor\":\"white\",\"linecolor\":\"white\",\"minorgridcolor\":\"white\",\"startlinecolor\":\"#2a3f5f\"},\"baxis\":{\"endlinecolor\":\"#2a3f5f\",\"gridcolor\":\"white\",\"linecolor\":\"white\",\"minorgridcolor\":\"white\",\"startlinecolor\":\"#2a3f5f\"},\"type\":\"carpet\"}],\"table\":[{\"cells\":{\"fill\":{\"color\":\"#EBF0F8\"},\"line\":{\"color\":\"white\"}},\"header\":{\"fill\":{\"color\":\"#C8D4E3\"},\"line\":{\"color\":\"white\"}},\"type\":\"table\"}],\"barpolar\":[{\"marker\":{\"line\":{\"color\":\"#E5ECF6\",\"width\":0.5},\"pattern\":{\"fillmode\":\"overlay\",\"size\":10,\"solidity\":0.2}},\"type\":\"barpolar\"}],\"pie\":[{\"automargin\":true,\"type\":\"pie\"}]},\"layout\":{\"autotypenumbers\":\"strict\",\"colorway\":[\"#636efa\",\"#EF553B\",\"#00cc96\",\"#ab63fa\",\"#FFA15A\",\"#19d3f3\",\"#FF6692\",\"#B6E880\",\"#FF97FF\",\"#FECB52\"],\"font\":{\"color\":\"#2a3f5f\"},\"hovermode\":\"closest\",\"hoverlabel\":{\"align\":\"left\"},\"paper_bgcolor\":\"white\",\"plot_bgcolor\":\"#E5ECF6\",\"polar\":{\"bgcolor\":\"#E5ECF6\",\"angularaxis\":{\"gridcolor\":\"white\",\"linecolor\":\"white\",\"ticks\":\"\"},\"radialaxis\":{\"gridcolor\":\"white\",\"linecolor\":\"white\",\"ticks\":\"\"}},\"ternary\":{\"bgcolor\":\"#E5ECF6\",\"aaxis\":{\"gridcolor\":\"white\",\"linecolor\":\"white\",\"ticks\":\"\"},\"baxis\":{\"gridcolor\":\"white\",\"linecolor\":\"white\",\"ticks\":\"\"},\"caxis\":{\"gridcolor\":\"white\",\"linecolor\":\"white\",\"ticks\":\"\"}},\"coloraxis\":{\"colorbar\":{\"outlinewidth\":0,\"ticks\":\"\"}},\"colorscale\":{\"sequential\":[[0.0,\"#0d0887\"],[0.1111111111111111,\"#46039f\"],[0.2222222222222222,\"#7201a8\"],[0.3333333333333333,\"#9c179e\"],[0.4444444444444444,\"#bd3786\"],[0.5555555555555556,\"#d8576b\"],[0.6666666666666666,\"#ed7953\"],[0.7777777777777778,\"#fb9f3a\"],[0.8888888888888888,\"#fdca26\"],[1.0,\"#f0f921\"]],\"sequentialminus\":[[0.0,\"#0d0887\"],[0.1111111111111111,\"#46039f\"],[0.2222222222222222,\"#7201a8\"],[0.3333333333333333,\"#9c179e\"],[0.4444444444444444,\"#bd3786\"],[0.5555555555555556,\"#d8576b\"],[0.6666666666666666,\"#ed7953\"],[0.7777777777777778,\"#fb9f3a\"],[0.8888888888888888,\"#fdca26\"],[1.0,\"#f0f921\"]],\"diverging\":[[0,\"#8e0152\"],[0.1,\"#c51b7d\"],[0.2,\"#de77ae\"],[0.3,\"#f1b6da\"],[0.4,\"#fde0ef\"],[0.5,\"#f7f7f7\"],[0.6,\"#e6f5d0\"],[0.7,\"#b8e186\"],[0.8,\"#7fbc41\"],[0.9,\"#4d9221\"],[1,\"#276419\"]]},\"xaxis\":{\"gridcolor\":\"white\",\"linecolor\":\"white\",\"ticks\":\"\",\"title\":{\"standoff\":15},\"zerolinecolor\":\"white\",\"automargin\":true,\"zerolinewidth\":2},\"yaxis\":{\"gridcolor\":\"white\",\"linecolor\":\"white\",\"ticks\":\"\",\"title\":{\"standoff\":15},\"zerolinecolor\":\"white\",\"automargin\":true,\"zerolinewidth\":2},\"scene\":{\"xaxis\":{\"backgroundcolor\":\"#E5ECF6\",\"gridcolor\":\"white\",\"linecolor\":\"white\",\"showbackground\":true,\"ticks\":\"\",\"zerolinecolor\":\"white\",\"gridwidth\":2},\"yaxis\":{\"backgroundcolor\":\"#E5ECF6\",\"gridcolor\":\"white\",\"linecolor\":\"white\",\"showbackground\":true,\"ticks\":\"\",\"zerolinecolor\":\"white\",\"gridwidth\":2},\"zaxis\":{\"backgroundcolor\":\"#E5ECF6\",\"gridcolor\":\"white\",\"linecolor\":\"white\",\"showbackground\":true,\"ticks\":\"\",\"zerolinecolor\":\"white\",\"gridwidth\":2}},\"shapedefaults\":{\"line\":{\"color\":\"#2a3f5f\"}},\"annotationdefaults\":{\"arrowcolor\":\"#2a3f5f\",\"arrowhead\":0,\"arrowwidth\":1},\"geo\":{\"bgcolor\":\"white\",\"landcolor\":\"#E5ECF6\",\"subunitcolor\":\"white\",\"showland\":true,\"showlakes\":true,\"lakecolor\":\"white\"},\"title\":{\"x\":0.05},\"mapbox\":{\"style\":\"light\"}}},\"title\":{\"text\":\"Happiness Rank and GDP per capita\"},\"geo\":{\"projection\":{\"type\":\"miller\"},\"scope\":\"world\",\"resolution\":50,\"showcoastlines\":true,\"showocean\":true,\"showcountries\":true,\"oceancolor\":\"#eaeaea\",\"lakecolor\":\"#eaeaea\",\"coastlinecolor\":\"#dadada\"},\"showlegend\":false},                        {\"responsive\": true}                    ).then(function(){\n",
       "                            \n",
       "var gd = document.getElementById('060541c0-68e1-4ded-a17e-12fd85119aa2');\n",
       "var x = new MutationObserver(function (mutations, observer) {{\n",
       "        var display = window.getComputedStyle(gd).display;\n",
       "        if (!display || display === 'none') {{\n",
       "            console.log([gd, 'removed!']);\n",
       "            Plotly.purge(gd);\n",
       "            observer.disconnect();\n",
       "        }}\n",
       "}});\n",
       "\n",
       "// Listen for the removal of the full notebook cells\n",
       "var notebookContainer = gd.closest('#notebook-container');\n",
       "if (notebookContainer) {{\n",
       "    x.observe(notebookContainer, {childList: true});\n",
       "}}\n",
       "\n",
       "// Listen for the clearing of the current output cell\n",
       "var outputEl = gd.closest('.output');\n",
       "if (outputEl) {{\n",
       "    x.observe(outputEl, {childList: true});\n",
       "}}\n",
       "\n",
       "                        })                };                });            </script>        </div>"
      ]
     },
     "metadata": {},
     "output_type": "display_data"
    }
   ],
   "source": [
    "happiness_worldmap(df)"
   ]
  },
  {
   "cell_type": "code",
   "execution_count": null,
   "id": "f41518d8",
   "metadata": {},
   "outputs": [],
   "source": []
  },
  {
   "cell_type": "code",
   "execution_count": 31,
   "id": "a5284940",
   "metadata": {},
   "outputs": [],
   "source": [
    "def happiness_GDP(df):\n",
    "    # Ordenar DataFrame según 'Mean GDP per Capita'\n",
    "    df_sorted = df.sort_values(by='Mean GDP per Capita')\n",
    "\n",
    "    # Crear gráfica con DataFrame ordenado\n",
    "    fig = px.scatter(df_sorted, x='Mean Happiness Score', y='Mean GDP per Capita', size='Population', \n",
    "                 color='Average yearly temperature', hover_name='Country', log_x=True, size_max=60)\n",
    "\n",
    "    fig.update_layout(title='Relation between Happiness, Population and GDP per Capita',\n",
    "                  xaxis_title='Mean Happiness Score',\n",
    "                  yaxis_title='Mean GDP per Capita',\n",
    "                  legend_title='Country')\n",
    "    fig.show()\n"
   ]
  },
  {
   "cell_type": "code",
   "execution_count": 32,
   "id": "a1f986ac",
   "metadata": {},
   "outputs": [
    {
     "data": {
      "application/vnd.plotly.v1+json": {
       "config": {
        "plotlyServerURL": "https://plot.ly"
       },
       "data": [
        {
         "hovertemplate": "<b>%{hovertext}</b><br><br>Mean Happiness Score=%{x}<br>Mean GDP per Capita=%{y}<br>Population=%{marker.size}<br>Average yearly temperature=%{marker.color}<extra></extra>",
         "hovertext": [
          "Central African Republic",
          "Burundi",
          "Democratic Republic of the Congo",
          "Somalia",
          "Liberia",
          "Niger",
          "Malawi",
          "Mozambique",
          "Togo",
          "Madagascar",
          "Guinea",
          "Sierra Leone",
          "Haiti",
          "Ethiopia",
          "Uganda",
          "Comoros",
          "Rwanda",
          "Burkina Faso",
          "Gambia",
          "Chad",
          "Afghanistan",
          "Zimbabwe",
          "Mali",
          "Benin",
          "Tanzania",
          "Yemen",
          "Nepal",
          "Senegal",
          "Lesotho",
          "Tajikistan",
          "Sudan",
          "Myanmar",
          "Kenya",
          "Cameroon",
          "Bangladesh",
          "Zambia",
          "Cambodia",
          "Kyrgyzstan",
          "Mauritania",
          "Ivory Coast",
          "Ghana",
          "Palestinian Territories",
          "Pakistan",
          "Honduras",
          "Republic of the Congo",
          "Nicaragua",
          "Syria",
          "Nigeria",
          "Laos",
          "India",
          "Uzbekistan",
          "Vietnam",
          "Moldova",
          "Bolivia",
          "Swaziland",
          "Morocco",
          "Angola",
          "Philippines",
          "Bhutan",
          "Guatemala",
          "El Salvador",
          "Jamaica",
          "Ukraine",
          "Armenia",
          "Paraguay",
          "Kosovo",
          "Jordan",
          "Georgia",
          "Namibia",
          "Egypt",
          "Tunisia",
          "Ecuador",
          "Indonesia",
          "Mongolia",
          "Sri Lanka",
          "Bosnia and Herzegovina",
          "Albania",
          "Peru",
          "South Africa",
          "Algeria",
          "Colombia",
          "Venezuela",
          "Macedonia",
          "Iraq",
          "Dominican Republic",
          "China",
          "Serbia",
          "Lebanon",
          "Brazil",
          "Turkmenistan",
          "Costa Rica",
          "Botswana",
          "Azerbaijan",
          "Thailand",
          "Iran",
          "Montenegro",
          "Libya",
          "Belarus",
          "Gabon",
          "Mexico",
          "Bulgaria",
          "Mauritius",
          "Argentina",
          "Uruguay",
          "Romania",
          "Turkey",
          "Chile",
          "Croatia",
          "Panama",
          "Kazakhstan",
          "Russia",
          "Latvia",
          "Greece",
          "Malaysia",
          "Poland",
          "Hungary",
          "Portugal",
          "Estonia",
          "Lithuania",
          "Slovakia",
          "Trinidad and Tobago",
          "Czech Republic",
          "Slovenia",
          "Cyprus",
          "Cyprus",
          "Israel",
          "Malta",
          "Spain",
          "Italy",
          "South Korea",
          "New Zealand",
          "Japan",
          "France",
          "United Kingdom",
          "Finland",
          "Taiwan",
          "Belgium",
          "Bahrain",
          "Canada",
          "Iceland",
          "Australia",
          "Sweden",
          "Austria",
          "Denmark",
          "Germany",
          "Netherlands",
          "Saudi Arabia",
          "United States",
          "Hong Kong",
          "Switzerland",
          "Ireland",
          "United Arab Emirates",
          "Norway",
          "Kuwait",
          "Singapore",
          "Luxembourg",
          "Qatar"
         ],
         "legendgroup": "",
         "marker": {
          "color": [
           24.9,
           19.8,
           24,
           27.05,
           25.3,
           27.15,
           21.9,
           23.8,
           27.15,
           22.65,
           25.7,
           26.05,
           24.9,
           22.2,
           22.8,
           25.3,
           17.85,
           28.29,
           27.5,
           26.55,
           12.6,
           21,
           28.25,
           27.55,
           22.35,
           23.85,
           8.1,
           27.85,
           11.85,
           6.4,
           26.9,
           13.05,
           24.75,
           24.6,
           25,
           21.4,
           26.8,
           2.1,
           27.65,
           26.35,
           27.2,
           20,
           20.2,
           23.5,
           24.55,
           24.9,
           17.75,
           27,
           22.8,
           23.65,
           12.05,
           24.45,
           9.45,
           21.55,
           21.4,
           17.1,
           21.55,
           25.55,
           7.4,
           23.45,
           24.45,
           24.95,
           8.3,
           7.15,
           23.55,
           15,
           18.3,
           5.65,
           19.95,
           22.1,
           19.2,
           21.85,
           25.85,
           1.7,
           26.95,
           9.85,
           11.4,
           19.6,
           17.75,
           22.5,
           24.5,
           25.35,
           9.8,
           21.4,
           24.55,
           7.5,
           10.55,
           15,
           24.95,
           15.1,
           24.8,
           21.5,
           11.95,
           26.3,
           17.25,
           10.55,
           21.8,
           6.15,
           25.05,
           21,
           10.55,
           22.4,
           14.8,
           17.55,
           8.8,
           9.9,
           8.45,
           10.9,
           25.4,
           5.5,
           -5.35,
           5.6,
           15.4,
           25.4,
           7.85,
           9.75,
           15.15,
           2,
           6.2,
           6.8,
           25.75,
           7.55,
           8.9,
           18.45,
           18.45,
           19.2,
           19.2,
           13.3,
           13.45,
           11.5,
           10.55,
           11.15,
           10.7,
           8.45,
           1.55,
           27,
           9.55,
           26.8,
           -5.1,
           -0.7,
           21.65,
           1.75,
           6.35,
           -3.7,
           8.4,
           9.25,
           24.65,
           8.55,
           21.45,
           5.1,
           9.3,
           26.65,
           1.5,
           27.15,
           26.45,
           8.65,
           27.15
          ],
          "coloraxis": "coloraxis",
          "size": [
           5209324,
           11874838,
           89906890,
           15981300,
           4985289,
           23443393,
           18867337,
           30285595,
           8243094,
           27533134,
           12877539,
           8046828,
           11160438,
           114120594,
           42949080,
           790986,
           12835028,
           20951639,
           2508883,
           16126866,
           37769499,
           15354608,
           20567424,
           12290444,
           59872579,
           31546691,
           28832496,
           16000781,
           2225702,
           9337003,
           43232093,
           53040212,
           50951450,
           25782341,
           165516222,
           18380477,
           16207746,
           6456200,
           4383849,
           26147551,
           31522290,
           4685306,
           223293280,
           9958829,
           5570733,
           6663924,
           20098251,
           203304492,
           7212053,
           1383112050,
           33580350,
           95776716,
           2664224,
           11777315,
           1169613,
           36304408,
           32353588,
           110380804,
           767459,
           16604026,
           6280217,
           2813773,
           44386203,
           2820602,
           6530026,
           1788878,
           10698683,
           3720161,
           2446644,
           105618671,
           12049314,
           17343740,
           269582878,
           3232430,
           21803000,
           3360711,
           2854191,
           32824861,
           58087055,
           42705368,
           50187406,
           28971683,
           2076694,
           41563520,
           10881882,
           1407745000,
           6945235,
           5781907,
           211782878,
           6158420,
           5084532,
           2499702,
           10024283,
           71307763,
           86564202,
           622028,
           6569088,
           9419758,
           2242785,
           125085311,
           6975761,
           1265711,
           44938712,
           3428409,
           19371648,
           83481684,
           19039485,
           4065253,
           4232532,
           18513673,
           144406261,
           1913822,
           10721582,
           32804020,
           37965475,
           9771141,
           10286263,
           1326898,
           2794137,
           5454147,
           1519955,
           10671870,
           2088385,
           1228836,
           1228836,
           9054000,
           504062,
           47134837,
           59729081,
           51764822,
           4979200,
           126633000,
           67388001,
           66836327,
           5521606,
           23733876,
           11488980,
           1494188,
           37601230,
           360563,
           25340217,
           10278887,
           8879920,
           5814422,
           83092962,
           17344874,
           35827362,
           328329953,
           7507900,
           8575280,
           4934340,
           9211657,
           5347896,
           4441100,
           5703569,
           620001,
           2807235
          ],
          "sizemode": "area",
          "sizeref": 391040.27777777775,
          "symbol": "circle"
         },
         "mode": "markers",
         "name": "",
         "orientation": "v",
         "showlegend": false,
         "type": "scatter",
         "x": [
          3.151,
          3.34,
          4.405,
          4.959,
          4.176,
          4.394,
          3.818,
          4.695,
          3.631,
          3.867,
          4.17,
          4.36,
          3.833,
          4.383,
          4.209,
          4.073,
          3.421,
          4.26,
          4.784,
          4.077,
          3.274,
          3.823,
          4.325,
          4.231,
          3.496,
          3.677,
          4.914,
          4.563,
          4.005,
          5.19,
          3.847,
          4.41,
          4.522,
          4.783,
          4.696,
          4.456,
          4.379,
          5.324,
          4.361,
          4.521,
          4.709,
          4.676,
          5.263,
          5.437,
          4.608,
          5.994,
          3.31,
          5.091,
          4.901,
          4.179,
          6.082,
          5.255,
          5.755,
          5.802,
          4.462,
          5.094,
          3.914,
          5.503,
          5.115,
          6.362,
          6.112,
          5.805,
          4.496,
          4.642,
          5.692,
          5.835,
          4.957,
          4.498,
          4.596,
          4.345,
          4.65,
          5.944,
          5.3,
          5.198,
          4.351,
          5.333,
          4.86,
          5.769,
          4.787,
          5.394,
          6.243,
          5.415,
          5.139,
          4.616,
          5.271,
          5.236,
          5.55,
          4.961,
          6.562,
          5.421,
          7.135,
          3.763,
          5.206,
          6.218,
          4.662,
          5.383,
          5.554,
          5.56,
          4.503,
          6.669,
          4.802,
          5.761,
          6.297,
          6.416,
          5.79,
          5.288,
          6.484,
          5.592,
          6.435,
          5.909,
          5.701,
          5.73,
          5.274,
          5.644,
          6.028,
          5.468,
          5.48,
          5.781,
          6.035,
          6.156,
          6.176,
          6.733,
          6.046,
          5.895,
          5.813,
          7.197,
          6.539,
          6.394,
          6.155,
          5.89,
          7.296,
          5.933,
          6.575,
          6.925,
          7.621,
          6.437,
          6.896,
          6.223,
          7.281,
          7.528,
          7.245,
          7.338,
          7.18,
          7.567,
          6.96,
          7.427,
          6.406,
          6.989,
          5.463,
          7.533,
          7.006,
          6.734,
          7.501,
          6.132,
          6.502,
          7.056,
          6.453
         ],
         "xaxis": "x",
         "y": [
          0.03,
          0.04,
          0.06,
          0.07,
          0.12,
          0.13,
          0.14,
          0.18,
          0.26,
          0.26,
          0.3,
          0.31,
          0.31,
          0.31,
          0.32,
          0.33,
          0.33,
          0.33,
          0.34,
          0.35,
          0.36,
          0.37,
          0.38,
          0.4,
          0.43,
          0.44,
          0.45,
          0.45,
          0.46,
          0.48,
          0.5,
          0.5,
          0.51,
          0.52,
          0.55,
          0.55,
          0.56,
          0.57,
          0.58,
          0.58,
          0.63,
          0.65,
          0.66,
          0.67,
          0.67,
          0.68,
          0.69,
          0.7,
          0.72,
          0.73,
          0.73,
          0.74,
          0.75,
          0.78,
          0.79,
          0.8,
          0.81,
          0.81,
          0.82,
          0.82,
          0.83,
          0.86,
          0.87,
          0.88,
          0.88,
          0.89,
          0.9,
          0.9,
          0.91,
          0.93,
          0.93,
          0.93,
          0.93,
          0.94,
          0.95,
          0.95,
          0.96,
          0.97,
          0.98,
          0.99,
          1,
          1,
          1.01,
          1.01,
          1.02,
          1.02,
          1.02,
          1.03,
          1.03,
          1.05,
          1.06,
          1.06,
          1.06,
          1.06,
          1.07,
          1.08,
          1.08,
          1.09,
          1.09,
          1.09,
          1.11,
          1.12,
          1.12,
          1.14,
          1.17,
          1.18,
          1.18,
          1.18,
          1.19,
          1.2,
          1.21,
          1.21,
          1.22,
          1.22,
          1.23,
          1.23,
          1.25,
          1.26,
          1.26,
          1.26,
          1.27,
          1.29,
          1.29,
          1.3,
          1.3,
          1.31,
          1.32,
          1.32,
          1.33,
          1.34,
          1.34,
          1.35,
          1.36,
          1.37,
          1.38,
          1.39,
          1.4,
          1.4,
          1.4,
          1.41,
          1.41,
          1.42,
          1.42,
          1.42,
          1.42,
          1.43,
          1.44,
          1.48,
          1.48,
          1.49,
          1.5,
          1.53,
          1.53,
          1.54,
          1.62,
          1.67,
          1.75
         ],
         "yaxis": "y"
        }
       ],
       "layout": {
        "coloraxis": {
         "colorbar": {
          "title": {
           "text": "Average yearly temperature"
          }
         },
         "colorscale": [
          [
           0,
           "#0d0887"
          ],
          [
           0.1111111111111111,
           "#46039f"
          ],
          [
           0.2222222222222222,
           "#7201a8"
          ],
          [
           0.3333333333333333,
           "#9c179e"
          ],
          [
           0.4444444444444444,
           "#bd3786"
          ],
          [
           0.5555555555555556,
           "#d8576b"
          ],
          [
           0.6666666666666666,
           "#ed7953"
          ],
          [
           0.7777777777777778,
           "#fb9f3a"
          ],
          [
           0.8888888888888888,
           "#fdca26"
          ],
          [
           1,
           "#f0f921"
          ]
         ]
        },
        "legend": {
         "itemsizing": "constant",
         "title": {
          "text": "Country"
         },
         "tracegroupgap": 0
        },
        "margin": {
         "t": 60
        },
        "template": {
         "data": {
          "bar": [
           {
            "error_x": {
             "color": "#2a3f5f"
            },
            "error_y": {
             "color": "#2a3f5f"
            },
            "marker": {
             "line": {
              "color": "#E5ECF6",
              "width": 0.5
             },
             "pattern": {
              "fillmode": "overlay",
              "size": 10,
              "solidity": 0.2
             }
            },
            "type": "bar"
           }
          ],
          "barpolar": [
           {
            "marker": {
             "line": {
              "color": "#E5ECF6",
              "width": 0.5
             },
             "pattern": {
              "fillmode": "overlay",
              "size": 10,
              "solidity": 0.2
             }
            },
            "type": "barpolar"
           }
          ],
          "carpet": [
           {
            "aaxis": {
             "endlinecolor": "#2a3f5f",
             "gridcolor": "white",
             "linecolor": "white",
             "minorgridcolor": "white",
             "startlinecolor": "#2a3f5f"
            },
            "baxis": {
             "endlinecolor": "#2a3f5f",
             "gridcolor": "white",
             "linecolor": "white",
             "minorgridcolor": "white",
             "startlinecolor": "#2a3f5f"
            },
            "type": "carpet"
           }
          ],
          "choropleth": [
           {
            "colorbar": {
             "outlinewidth": 0,
             "ticks": ""
            },
            "type": "choropleth"
           }
          ],
          "contour": [
           {
            "colorbar": {
             "outlinewidth": 0,
             "ticks": ""
            },
            "colorscale": [
             [
              0,
              "#0d0887"
             ],
             [
              0.1111111111111111,
              "#46039f"
             ],
             [
              0.2222222222222222,
              "#7201a8"
             ],
             [
              0.3333333333333333,
              "#9c179e"
             ],
             [
              0.4444444444444444,
              "#bd3786"
             ],
             [
              0.5555555555555556,
              "#d8576b"
             ],
             [
              0.6666666666666666,
              "#ed7953"
             ],
             [
              0.7777777777777778,
              "#fb9f3a"
             ],
             [
              0.8888888888888888,
              "#fdca26"
             ],
             [
              1,
              "#f0f921"
             ]
            ],
            "type": "contour"
           }
          ],
          "contourcarpet": [
           {
            "colorbar": {
             "outlinewidth": 0,
             "ticks": ""
            },
            "type": "contourcarpet"
           }
          ],
          "heatmap": [
           {
            "colorbar": {
             "outlinewidth": 0,
             "ticks": ""
            },
            "colorscale": [
             [
              0,
              "#0d0887"
             ],
             [
              0.1111111111111111,
              "#46039f"
             ],
             [
              0.2222222222222222,
              "#7201a8"
             ],
             [
              0.3333333333333333,
              "#9c179e"
             ],
             [
              0.4444444444444444,
              "#bd3786"
             ],
             [
              0.5555555555555556,
              "#d8576b"
             ],
             [
              0.6666666666666666,
              "#ed7953"
             ],
             [
              0.7777777777777778,
              "#fb9f3a"
             ],
             [
              0.8888888888888888,
              "#fdca26"
             ],
             [
              1,
              "#f0f921"
             ]
            ],
            "type": "heatmap"
           }
          ],
          "heatmapgl": [
           {
            "colorbar": {
             "outlinewidth": 0,
             "ticks": ""
            },
            "colorscale": [
             [
              0,
              "#0d0887"
             ],
             [
              0.1111111111111111,
              "#46039f"
             ],
             [
              0.2222222222222222,
              "#7201a8"
             ],
             [
              0.3333333333333333,
              "#9c179e"
             ],
             [
              0.4444444444444444,
              "#bd3786"
             ],
             [
              0.5555555555555556,
              "#d8576b"
             ],
             [
              0.6666666666666666,
              "#ed7953"
             ],
             [
              0.7777777777777778,
              "#fb9f3a"
             ],
             [
              0.8888888888888888,
              "#fdca26"
             ],
             [
              1,
              "#f0f921"
             ]
            ],
            "type": "heatmapgl"
           }
          ],
          "histogram": [
           {
            "marker": {
             "pattern": {
              "fillmode": "overlay",
              "size": 10,
              "solidity": 0.2
             }
            },
            "type": "histogram"
           }
          ],
          "histogram2d": [
           {
            "colorbar": {
             "outlinewidth": 0,
             "ticks": ""
            },
            "colorscale": [
             [
              0,
              "#0d0887"
             ],
             [
              0.1111111111111111,
              "#46039f"
             ],
             [
              0.2222222222222222,
              "#7201a8"
             ],
             [
              0.3333333333333333,
              "#9c179e"
             ],
             [
              0.4444444444444444,
              "#bd3786"
             ],
             [
              0.5555555555555556,
              "#d8576b"
             ],
             [
              0.6666666666666666,
              "#ed7953"
             ],
             [
              0.7777777777777778,
              "#fb9f3a"
             ],
             [
              0.8888888888888888,
              "#fdca26"
             ],
             [
              1,
              "#f0f921"
             ]
            ],
            "type": "histogram2d"
           }
          ],
          "histogram2dcontour": [
           {
            "colorbar": {
             "outlinewidth": 0,
             "ticks": ""
            },
            "colorscale": [
             [
              0,
              "#0d0887"
             ],
             [
              0.1111111111111111,
              "#46039f"
             ],
             [
              0.2222222222222222,
              "#7201a8"
             ],
             [
              0.3333333333333333,
              "#9c179e"
             ],
             [
              0.4444444444444444,
              "#bd3786"
             ],
             [
              0.5555555555555556,
              "#d8576b"
             ],
             [
              0.6666666666666666,
              "#ed7953"
             ],
             [
              0.7777777777777778,
              "#fb9f3a"
             ],
             [
              0.8888888888888888,
              "#fdca26"
             ],
             [
              1,
              "#f0f921"
             ]
            ],
            "type": "histogram2dcontour"
           }
          ],
          "mesh3d": [
           {
            "colorbar": {
             "outlinewidth": 0,
             "ticks": ""
            },
            "type": "mesh3d"
           }
          ],
          "parcoords": [
           {
            "line": {
             "colorbar": {
              "outlinewidth": 0,
              "ticks": ""
             }
            },
            "type": "parcoords"
           }
          ],
          "pie": [
           {
            "automargin": true,
            "type": "pie"
           }
          ],
          "scatter": [
           {
            "fillpattern": {
             "fillmode": "overlay",
             "size": 10,
             "solidity": 0.2
            },
            "type": "scatter"
           }
          ],
          "scatter3d": [
           {
            "line": {
             "colorbar": {
              "outlinewidth": 0,
              "ticks": ""
             }
            },
            "marker": {
             "colorbar": {
              "outlinewidth": 0,
              "ticks": ""
             }
            },
            "type": "scatter3d"
           }
          ],
          "scattercarpet": [
           {
            "marker": {
             "colorbar": {
              "outlinewidth": 0,
              "ticks": ""
             }
            },
            "type": "scattercarpet"
           }
          ],
          "scattergeo": [
           {
            "marker": {
             "colorbar": {
              "outlinewidth": 0,
              "ticks": ""
             }
            },
            "type": "scattergeo"
           }
          ],
          "scattergl": [
           {
            "marker": {
             "colorbar": {
              "outlinewidth": 0,
              "ticks": ""
             }
            },
            "type": "scattergl"
           }
          ],
          "scattermapbox": [
           {
            "marker": {
             "colorbar": {
              "outlinewidth": 0,
              "ticks": ""
             }
            },
            "type": "scattermapbox"
           }
          ],
          "scatterpolar": [
           {
            "marker": {
             "colorbar": {
              "outlinewidth": 0,
              "ticks": ""
             }
            },
            "type": "scatterpolar"
           }
          ],
          "scatterpolargl": [
           {
            "marker": {
             "colorbar": {
              "outlinewidth": 0,
              "ticks": ""
             }
            },
            "type": "scatterpolargl"
           }
          ],
          "scatterternary": [
           {
            "marker": {
             "colorbar": {
              "outlinewidth": 0,
              "ticks": ""
             }
            },
            "type": "scatterternary"
           }
          ],
          "surface": [
           {
            "colorbar": {
             "outlinewidth": 0,
             "ticks": ""
            },
            "colorscale": [
             [
              0,
              "#0d0887"
             ],
             [
              0.1111111111111111,
              "#46039f"
             ],
             [
              0.2222222222222222,
              "#7201a8"
             ],
             [
              0.3333333333333333,
              "#9c179e"
             ],
             [
              0.4444444444444444,
              "#bd3786"
             ],
             [
              0.5555555555555556,
              "#d8576b"
             ],
             [
              0.6666666666666666,
              "#ed7953"
             ],
             [
              0.7777777777777778,
              "#fb9f3a"
             ],
             [
              0.8888888888888888,
              "#fdca26"
             ],
             [
              1,
              "#f0f921"
             ]
            ],
            "type": "surface"
           }
          ],
          "table": [
           {
            "cells": {
             "fill": {
              "color": "#EBF0F8"
             },
             "line": {
              "color": "white"
             }
            },
            "header": {
             "fill": {
              "color": "#C8D4E3"
             },
             "line": {
              "color": "white"
             }
            },
            "type": "table"
           }
          ]
         },
         "layout": {
          "annotationdefaults": {
           "arrowcolor": "#2a3f5f",
           "arrowhead": 0,
           "arrowwidth": 1
          },
          "autotypenumbers": "strict",
          "coloraxis": {
           "colorbar": {
            "outlinewidth": 0,
            "ticks": ""
           }
          },
          "colorscale": {
           "diverging": [
            [
             0,
             "#8e0152"
            ],
            [
             0.1,
             "#c51b7d"
            ],
            [
             0.2,
             "#de77ae"
            ],
            [
             0.3,
             "#f1b6da"
            ],
            [
             0.4,
             "#fde0ef"
            ],
            [
             0.5,
             "#f7f7f7"
            ],
            [
             0.6,
             "#e6f5d0"
            ],
            [
             0.7,
             "#b8e186"
            ],
            [
             0.8,
             "#7fbc41"
            ],
            [
             0.9,
             "#4d9221"
            ],
            [
             1,
             "#276419"
            ]
           ],
           "sequential": [
            [
             0,
             "#0d0887"
            ],
            [
             0.1111111111111111,
             "#46039f"
            ],
            [
             0.2222222222222222,
             "#7201a8"
            ],
            [
             0.3333333333333333,
             "#9c179e"
            ],
            [
             0.4444444444444444,
             "#bd3786"
            ],
            [
             0.5555555555555556,
             "#d8576b"
            ],
            [
             0.6666666666666666,
             "#ed7953"
            ],
            [
             0.7777777777777778,
             "#fb9f3a"
            ],
            [
             0.8888888888888888,
             "#fdca26"
            ],
            [
             1,
             "#f0f921"
            ]
           ],
           "sequentialminus": [
            [
             0,
             "#0d0887"
            ],
            [
             0.1111111111111111,
             "#46039f"
            ],
            [
             0.2222222222222222,
             "#7201a8"
            ],
            [
             0.3333333333333333,
             "#9c179e"
            ],
            [
             0.4444444444444444,
             "#bd3786"
            ],
            [
             0.5555555555555556,
             "#d8576b"
            ],
            [
             0.6666666666666666,
             "#ed7953"
            ],
            [
             0.7777777777777778,
             "#fb9f3a"
            ],
            [
             0.8888888888888888,
             "#fdca26"
            ],
            [
             1,
             "#f0f921"
            ]
           ]
          },
          "colorway": [
           "#636efa",
           "#EF553B",
           "#00cc96",
           "#ab63fa",
           "#FFA15A",
           "#19d3f3",
           "#FF6692",
           "#B6E880",
           "#FF97FF",
           "#FECB52"
          ],
          "font": {
           "color": "#2a3f5f"
          },
          "geo": {
           "bgcolor": "white",
           "lakecolor": "white",
           "landcolor": "#E5ECF6",
           "showlakes": true,
           "showland": true,
           "subunitcolor": "white"
          },
          "hoverlabel": {
           "align": "left"
          },
          "hovermode": "closest",
          "mapbox": {
           "style": "light"
          },
          "paper_bgcolor": "white",
          "plot_bgcolor": "#E5ECF6",
          "polar": {
           "angularaxis": {
            "gridcolor": "white",
            "linecolor": "white",
            "ticks": ""
           },
           "bgcolor": "#E5ECF6",
           "radialaxis": {
            "gridcolor": "white",
            "linecolor": "white",
            "ticks": ""
           }
          },
          "scene": {
           "xaxis": {
            "backgroundcolor": "#E5ECF6",
            "gridcolor": "white",
            "gridwidth": 2,
            "linecolor": "white",
            "showbackground": true,
            "ticks": "",
            "zerolinecolor": "white"
           },
           "yaxis": {
            "backgroundcolor": "#E5ECF6",
            "gridcolor": "white",
            "gridwidth": 2,
            "linecolor": "white",
            "showbackground": true,
            "ticks": "",
            "zerolinecolor": "white"
           },
           "zaxis": {
            "backgroundcolor": "#E5ECF6",
            "gridcolor": "white",
            "gridwidth": 2,
            "linecolor": "white",
            "showbackground": true,
            "ticks": "",
            "zerolinecolor": "white"
           }
          },
          "shapedefaults": {
           "line": {
            "color": "#2a3f5f"
           }
          },
          "ternary": {
           "aaxis": {
            "gridcolor": "white",
            "linecolor": "white",
            "ticks": ""
           },
           "baxis": {
            "gridcolor": "white",
            "linecolor": "white",
            "ticks": ""
           },
           "bgcolor": "#E5ECF6",
           "caxis": {
            "gridcolor": "white",
            "linecolor": "white",
            "ticks": ""
           }
          },
          "title": {
           "x": 0.05
          },
          "xaxis": {
           "automargin": true,
           "gridcolor": "white",
           "linecolor": "white",
           "ticks": "",
           "title": {
            "standoff": 15
           },
           "zerolinecolor": "white",
           "zerolinewidth": 2
          },
          "yaxis": {
           "automargin": true,
           "gridcolor": "white",
           "linecolor": "white",
           "ticks": "",
           "title": {
            "standoff": 15
           },
           "zerolinecolor": "white",
           "zerolinewidth": 2
          }
         }
        },
        "title": {
         "text": "Relation between Happiness, Population and GDP per Capita"
        },
        "xaxis": {
         "anchor": "y",
         "domain": [
          0,
          1
         ],
         "title": {
          "text": "Mean Happiness Score"
         },
         "type": "log"
        },
        "yaxis": {
         "anchor": "x",
         "domain": [
          0,
          1
         ],
         "title": {
          "text": "Mean GDP per Capita"
         }
        }
       }
      },
      "text/html": [
       "<div>                            <div id=\"56ee933e-9c93-4a5b-b40c-704e3aabc714\" class=\"plotly-graph-div\" style=\"height:525px; width:100%;\"></div>            <script type=\"text/javascript\">                require([\"plotly\"], function(Plotly) {                    window.PLOTLYENV=window.PLOTLYENV || {};                                    if (document.getElementById(\"56ee933e-9c93-4a5b-b40c-704e3aabc714\")) {                    Plotly.newPlot(                        \"56ee933e-9c93-4a5b-b40c-704e3aabc714\",                        [{\"hovertemplate\":\"<b>%{hovertext}</b><br><br>Mean Happiness Score=%{x}<br>Mean GDP per Capita=%{y}<br>Population=%{marker.size}<br>Average yearly temperature=%{marker.color}<extra></extra>\",\"hovertext\":[\"Central African Republic\",\"Burundi\",\"Democratic Republic of the Congo\",\"Somalia\",\"Liberia\",\"Niger\",\"Malawi\",\"Mozambique\",\"Togo\",\"Madagascar\",\"Guinea\",\"Sierra Leone\",\"Haiti\",\"Ethiopia\",\"Uganda\",\"Comoros\",\"Rwanda\",\"Burkina Faso\",\"Gambia\",\"Chad\",\"Afghanistan\",\"Zimbabwe\",\"Mali\",\"Benin\",\"Tanzania\",\"Yemen\",\"Nepal\",\"Senegal\",\"Lesotho\",\"Tajikistan\",\"Sudan\",\"Myanmar\",\"Kenya\",\"Cameroon\",\"Bangladesh\",\"Zambia\",\"Cambodia\",\"Kyrgyzstan\",\"Mauritania\",\"Ivory Coast\",\"Ghana\",\"Palestinian Territories\",\"Pakistan\",\"Honduras\",\"Republic of the Congo\",\"Nicaragua\",\"Syria\",\"Nigeria\",\"Laos\",\"India\",\"Uzbekistan\",\"Vietnam\",\"Moldova\",\"Bolivia\",\"Swaziland\",\"Morocco\",\"Angola\",\"Philippines\",\"Bhutan\",\"Guatemala\",\"El Salvador\",\"Jamaica\",\"Ukraine\",\"Armenia\",\"Paraguay\",\"Kosovo\",\"Jordan\",\"Georgia\",\"Namibia\",\"Egypt\",\"Tunisia\",\"Ecuador\",\"Indonesia\",\"Mongolia\",\"Sri Lanka\",\"Bosnia and Herzegovina\",\"Albania\",\"Peru\",\"South Africa\",\"Algeria\",\"Colombia\",\"Venezuela\",\"Macedonia\",\"Iraq\",\"Dominican Republic\",\"China\",\"Serbia\",\"Lebanon\",\"Brazil\",\"Turkmenistan\",\"Costa Rica\",\"Botswana\",\"Azerbaijan\",\"Thailand\",\"Iran\",\"Montenegro\",\"Libya\",\"Belarus\",\"Gabon\",\"Mexico\",\"Bulgaria\",\"Mauritius\",\"Argentina\",\"Uruguay\",\"Romania\",\"Turkey\",\"Chile\",\"Croatia\",\"Panama\",\"Kazakhstan\",\"Russia\",\"Latvia\",\"Greece\",\"Malaysia\",\"Poland\",\"Hungary\",\"Portugal\",\"Estonia\",\"Lithuania\",\"Slovakia\",\"Trinidad and Tobago\",\"Czech Republic\",\"Slovenia\",\"Cyprus\",\"Cyprus\",\"Israel\",\"Malta\",\"Spain\",\"Italy\",\"South Korea\",\"New Zealand\",\"Japan\",\"France\",\"United Kingdom\",\"Finland\",\"Taiwan\",\"Belgium\",\"Bahrain\",\"Canada\",\"Iceland\",\"Australia\",\"Sweden\",\"Austria\",\"Denmark\",\"Germany\",\"Netherlands\",\"Saudi Arabia\",\"United States\",\"Hong Kong\",\"Switzerland\",\"Ireland\",\"United Arab Emirates\",\"Norway\",\"Kuwait\",\"Singapore\",\"Luxembourg\",\"Qatar\"],\"legendgroup\":\"\",\"marker\":{\"color\":[24.9,19.8,24.0,27.05,25.3,27.15,21.9,23.8,27.15,22.65,25.7,26.05,24.9,22.2,22.8,25.3,17.85,28.29,27.5,26.55,12.6,21.0,28.25,27.55,22.35,23.85,8.1,27.85,11.85,6.4,26.9,13.05,24.75,24.6,25.0,21.4,26.8,2.1,27.65,26.35,27.2,20.0,20.2,23.5,24.55,24.9,17.75,27.0,22.8,23.65,12.05,24.45,9.45,21.55,21.4,17.1,21.55,25.55,7.4,23.45,24.45,24.95,8.3,7.15,23.55,15.0,18.3,5.65,19.95,22.1,19.2,21.85,25.85,1.7,26.95,9.85,11.4,19.6,17.75,22.5,24.5,25.35,9.8,21.4,24.55,7.5,10.55,15.0,24.95,15.1,24.8,21.5,11.95,26.3,17.25,10.55,21.8,6.15,25.05,21.0,10.55,22.4,14.8,17.55,8.8,9.9,8.45,10.9,25.4,5.5,-5.35,5.6,15.4,25.4,7.85,9.75,15.15,2.0,6.2,6.8,25.75,7.55,8.9,18.45,18.45,19.2,19.2,13.3,13.45,11.5,10.55,11.15,10.7,8.45,1.55,27.0,9.55,26.8,-5.1,-0.7,21.65,1.75,6.35,-3.7,8.4,9.25,24.65,8.55,21.45,5.1,9.3,26.65,1.5,27.15,26.45,8.65,27.15],\"coloraxis\":\"coloraxis\",\"size\":[5209324.0,11874838.0,89906890.0,15981300.0,4985289.0,23443393.0,18867337.0,30285595.0,8243094.0,27533134.0,12877539.0,8046828.0,11160438.0,114120594.0,42949080.0,790986.0,12835028.0,20951639.0,2508883.0,16126866.0,37769499.0,15354608.0,20567424.0,12290444.0,59872579.0,31546691.0,28832496.0,16000781.0,2225702.0,9337003.0,43232093.0,53040212.0,50951450.0,25782341.0,165516222.0,18380477.0,16207746.0,6456200.0,4383849.0,26147551.0,31522290.0,4685306.0,223293280.0,9958829.0,5570733.0,6663924.0,20098251.0,203304492.0,7212053.0,1383112050.0,33580350.0,95776716.0,2664224.0,11777315.0,1169613.0,36304408.0,32353588.0,110380804.0,767459.0,16604026.0,6280217.0,2813773.0,44386203.0,2820602.0,6530026.0,1788878.0,10698683.0,3720161.0,2446644.0,105618671.0,12049314.0,17343740.0,269582878.0,3232430.0,21803000.0,3360711.0,2854191.0,32824861.0,58087055.0,42705368.0,50187406.0,28971683.0,2076694.0,41563520.0,10881882.0,1407745000.0,6945235.0,5781907.0,211782878.0,6158420.0,5084532.0,2499702.0,10024283.0,71307763.0,86564202.0,622028.0,6569088.0,9419758.0,2242785.0,125085311.0,6975761.0,1265711.0,44938712.0,3428409.0,19371648.0,83481684.0,19039485.0,4065253.0,4232532.0,18513673.0,144406261.0,1913822.0,10721582.0,32804020.0,37965475.0,9771141.0,10286263.0,1326898.0,2794137.0,5454147.0,1519955.0,10671870.0,2088385.0,1228836.0,1228836.0,9054000.0,504062.0,47134837.0,59729081.0,51764822.0,4979200.0,126633000.0,67388001.0,66836327.0,5521606.0,23733876.0,11488980.0,1494188.0,37601230.0,360563.0,25340217.0,10278887.0,8879920.0,5814422.0,83092962.0,17344874.0,35827362.0,328329953.0,7507900.0,8575280.0,4934340.0,9211657.0,5347896.0,4441100.0,5703569.0,620001.0,2807235.0],\"sizemode\":\"area\",\"sizeref\":391040.27777777775,\"symbol\":\"circle\"},\"mode\":\"markers\",\"name\":\"\",\"orientation\":\"v\",\"showlegend\":false,\"x\":[3.151,3.34,4.405,4.959,4.176,4.394,3.818,4.695,3.631,3.867,4.17,4.36,3.833,4.383,4.209,4.073,3.421,4.26,4.784,4.077,3.274,3.823,4.325,4.231,3.496,3.677,4.914,4.563,4.005,5.19,3.847,4.41,4.522,4.783,4.696,4.456,4.379,5.324,4.361,4.521,4.709,4.676,5.263,5.437,4.608,5.994,3.31,5.091,4.901,4.179,6.082,5.255,5.755,5.802,4.462,5.094,3.914,5.503,5.115,6.362,6.112,5.805,4.496,4.642,5.692,5.835,4.957,4.498,4.596,4.345,4.65,5.944,5.3,5.198,4.351,5.333,4.86,5.769,4.787,5.394,6.243,5.415,5.139,4.616,5.271,5.236,5.55,4.961,6.562,5.421,7.135,3.763,5.206,6.218,4.662,5.383,5.554,5.56,4.503,6.669,4.802,5.761,6.297,6.416,5.79,5.288,6.484,5.592,6.435,5.909,5.701,5.73,5.274,5.644,6.028,5.468,5.48,5.781,6.035,6.156,6.176,6.733,6.046,5.895,5.813,7.197,6.539,6.394,6.155,5.89,7.296,5.933,6.575,6.925,7.621,6.437,6.896,6.223,7.281,7.528,7.245,7.338,7.18,7.567,6.96,7.427,6.406,6.989,5.463,7.533,7.006,6.734,7.501,6.132,6.502,7.056,6.453],\"xaxis\":\"x\",\"y\":[0.03,0.04,0.06,0.07,0.12,0.13,0.14,0.18,0.26,0.26,0.3,0.31,0.31,0.31,0.32,0.33,0.33,0.33,0.34,0.35,0.36,0.37,0.38,0.4,0.43,0.44,0.45,0.45,0.46,0.48,0.5,0.5,0.51,0.52,0.55,0.55,0.56,0.57,0.58,0.58,0.63,0.65,0.66,0.67,0.67,0.68,0.69,0.7,0.72,0.73,0.73,0.74,0.75,0.78,0.79,0.8,0.81,0.81,0.82,0.82,0.83,0.86,0.87,0.88,0.88,0.89,0.9,0.9,0.91,0.93,0.93,0.93,0.93,0.94,0.95,0.95,0.96,0.97,0.98,0.99,1.0,1.0,1.01,1.01,1.02,1.02,1.02,1.03,1.03,1.05,1.06,1.06,1.06,1.06,1.07,1.08,1.08,1.09,1.09,1.09,1.11,1.12,1.12,1.14,1.17,1.18,1.18,1.18,1.19,1.2,1.21,1.21,1.22,1.22,1.23,1.23,1.25,1.26,1.26,1.26,1.27,1.29,1.29,1.3,1.3,1.31,1.32,1.32,1.33,1.34,1.34,1.35,1.36,1.37,1.38,1.39,1.4,1.4,1.4,1.41,1.41,1.42,1.42,1.42,1.42,1.43,1.44,1.48,1.48,1.49,1.5,1.53,1.53,1.54,1.62,1.67,1.75],\"yaxis\":\"y\",\"type\":\"scatter\"}],                        {\"template\":{\"data\":{\"histogram2dcontour\":[{\"type\":\"histogram2dcontour\",\"colorbar\":{\"outlinewidth\":0,\"ticks\":\"\"},\"colorscale\":[[0.0,\"#0d0887\"],[0.1111111111111111,\"#46039f\"],[0.2222222222222222,\"#7201a8\"],[0.3333333333333333,\"#9c179e\"],[0.4444444444444444,\"#bd3786\"],[0.5555555555555556,\"#d8576b\"],[0.6666666666666666,\"#ed7953\"],[0.7777777777777778,\"#fb9f3a\"],[0.8888888888888888,\"#fdca26\"],[1.0,\"#f0f921\"]]}],\"choropleth\":[{\"type\":\"choropleth\",\"colorbar\":{\"outlinewidth\":0,\"ticks\":\"\"}}],\"histogram2d\":[{\"type\":\"histogram2d\",\"colorbar\":{\"outlinewidth\":0,\"ticks\":\"\"},\"colorscale\":[[0.0,\"#0d0887\"],[0.1111111111111111,\"#46039f\"],[0.2222222222222222,\"#7201a8\"],[0.3333333333333333,\"#9c179e\"],[0.4444444444444444,\"#bd3786\"],[0.5555555555555556,\"#d8576b\"],[0.6666666666666666,\"#ed7953\"],[0.7777777777777778,\"#fb9f3a\"],[0.8888888888888888,\"#fdca26\"],[1.0,\"#f0f921\"]]}],\"heatmap\":[{\"type\":\"heatmap\",\"colorbar\":{\"outlinewidth\":0,\"ticks\":\"\"},\"colorscale\":[[0.0,\"#0d0887\"],[0.1111111111111111,\"#46039f\"],[0.2222222222222222,\"#7201a8\"],[0.3333333333333333,\"#9c179e\"],[0.4444444444444444,\"#bd3786\"],[0.5555555555555556,\"#d8576b\"],[0.6666666666666666,\"#ed7953\"],[0.7777777777777778,\"#fb9f3a\"],[0.8888888888888888,\"#fdca26\"],[1.0,\"#f0f921\"]]}],\"heatmapgl\":[{\"type\":\"heatmapgl\",\"colorbar\":{\"outlinewidth\":0,\"ticks\":\"\"},\"colorscale\":[[0.0,\"#0d0887\"],[0.1111111111111111,\"#46039f\"],[0.2222222222222222,\"#7201a8\"],[0.3333333333333333,\"#9c179e\"],[0.4444444444444444,\"#bd3786\"],[0.5555555555555556,\"#d8576b\"],[0.6666666666666666,\"#ed7953\"],[0.7777777777777778,\"#fb9f3a\"],[0.8888888888888888,\"#fdca26\"],[1.0,\"#f0f921\"]]}],\"contourcarpet\":[{\"type\":\"contourcarpet\",\"colorbar\":{\"outlinewidth\":0,\"ticks\":\"\"}}],\"contour\":[{\"type\":\"contour\",\"colorbar\":{\"outlinewidth\":0,\"ticks\":\"\"},\"colorscale\":[[0.0,\"#0d0887\"],[0.1111111111111111,\"#46039f\"],[0.2222222222222222,\"#7201a8\"],[0.3333333333333333,\"#9c179e\"],[0.4444444444444444,\"#bd3786\"],[0.5555555555555556,\"#d8576b\"],[0.6666666666666666,\"#ed7953\"],[0.7777777777777778,\"#fb9f3a\"],[0.8888888888888888,\"#fdca26\"],[1.0,\"#f0f921\"]]}],\"surface\":[{\"type\":\"surface\",\"colorbar\":{\"outlinewidth\":0,\"ticks\":\"\"},\"colorscale\":[[0.0,\"#0d0887\"],[0.1111111111111111,\"#46039f\"],[0.2222222222222222,\"#7201a8\"],[0.3333333333333333,\"#9c179e\"],[0.4444444444444444,\"#bd3786\"],[0.5555555555555556,\"#d8576b\"],[0.6666666666666666,\"#ed7953\"],[0.7777777777777778,\"#fb9f3a\"],[0.8888888888888888,\"#fdca26\"],[1.0,\"#f0f921\"]]}],\"mesh3d\":[{\"type\":\"mesh3d\",\"colorbar\":{\"outlinewidth\":0,\"ticks\":\"\"}}],\"scatter\":[{\"fillpattern\":{\"fillmode\":\"overlay\",\"size\":10,\"solidity\":0.2},\"type\":\"scatter\"}],\"parcoords\":[{\"type\":\"parcoords\",\"line\":{\"colorbar\":{\"outlinewidth\":0,\"ticks\":\"\"}}}],\"scatterpolargl\":[{\"type\":\"scatterpolargl\",\"marker\":{\"colorbar\":{\"outlinewidth\":0,\"ticks\":\"\"}}}],\"bar\":[{\"error_x\":{\"color\":\"#2a3f5f\"},\"error_y\":{\"color\":\"#2a3f5f\"},\"marker\":{\"line\":{\"color\":\"#E5ECF6\",\"width\":0.5},\"pattern\":{\"fillmode\":\"overlay\",\"size\":10,\"solidity\":0.2}},\"type\":\"bar\"}],\"scattergeo\":[{\"type\":\"scattergeo\",\"marker\":{\"colorbar\":{\"outlinewidth\":0,\"ticks\":\"\"}}}],\"scatterpolar\":[{\"type\":\"scatterpolar\",\"marker\":{\"colorbar\":{\"outlinewidth\":0,\"ticks\":\"\"}}}],\"histogram\":[{\"marker\":{\"pattern\":{\"fillmode\":\"overlay\",\"size\":10,\"solidity\":0.2}},\"type\":\"histogram\"}],\"scattergl\":[{\"type\":\"scattergl\",\"marker\":{\"colorbar\":{\"outlinewidth\":0,\"ticks\":\"\"}}}],\"scatter3d\":[{\"type\":\"scatter3d\",\"line\":{\"colorbar\":{\"outlinewidth\":0,\"ticks\":\"\"}},\"marker\":{\"colorbar\":{\"outlinewidth\":0,\"ticks\":\"\"}}}],\"scattermapbox\":[{\"type\":\"scattermapbox\",\"marker\":{\"colorbar\":{\"outlinewidth\":0,\"ticks\":\"\"}}}],\"scatterternary\":[{\"type\":\"scatterternary\",\"marker\":{\"colorbar\":{\"outlinewidth\":0,\"ticks\":\"\"}}}],\"scattercarpet\":[{\"type\":\"scattercarpet\",\"marker\":{\"colorbar\":{\"outlinewidth\":0,\"ticks\":\"\"}}}],\"carpet\":[{\"aaxis\":{\"endlinecolor\":\"#2a3f5f\",\"gridcolor\":\"white\",\"linecolor\":\"white\",\"minorgridcolor\":\"white\",\"startlinecolor\":\"#2a3f5f\"},\"baxis\":{\"endlinecolor\":\"#2a3f5f\",\"gridcolor\":\"white\",\"linecolor\":\"white\",\"minorgridcolor\":\"white\",\"startlinecolor\":\"#2a3f5f\"},\"type\":\"carpet\"}],\"table\":[{\"cells\":{\"fill\":{\"color\":\"#EBF0F8\"},\"line\":{\"color\":\"white\"}},\"header\":{\"fill\":{\"color\":\"#C8D4E3\"},\"line\":{\"color\":\"white\"}},\"type\":\"table\"}],\"barpolar\":[{\"marker\":{\"line\":{\"color\":\"#E5ECF6\",\"width\":0.5},\"pattern\":{\"fillmode\":\"overlay\",\"size\":10,\"solidity\":0.2}},\"type\":\"barpolar\"}],\"pie\":[{\"automargin\":true,\"type\":\"pie\"}]},\"layout\":{\"autotypenumbers\":\"strict\",\"colorway\":[\"#636efa\",\"#EF553B\",\"#00cc96\",\"#ab63fa\",\"#FFA15A\",\"#19d3f3\",\"#FF6692\",\"#B6E880\",\"#FF97FF\",\"#FECB52\"],\"font\":{\"color\":\"#2a3f5f\"},\"hovermode\":\"closest\",\"hoverlabel\":{\"align\":\"left\"},\"paper_bgcolor\":\"white\",\"plot_bgcolor\":\"#E5ECF6\",\"polar\":{\"bgcolor\":\"#E5ECF6\",\"angularaxis\":{\"gridcolor\":\"white\",\"linecolor\":\"white\",\"ticks\":\"\"},\"radialaxis\":{\"gridcolor\":\"white\",\"linecolor\":\"white\",\"ticks\":\"\"}},\"ternary\":{\"bgcolor\":\"#E5ECF6\",\"aaxis\":{\"gridcolor\":\"white\",\"linecolor\":\"white\",\"ticks\":\"\"},\"baxis\":{\"gridcolor\":\"white\",\"linecolor\":\"white\",\"ticks\":\"\"},\"caxis\":{\"gridcolor\":\"white\",\"linecolor\":\"white\",\"ticks\":\"\"}},\"coloraxis\":{\"colorbar\":{\"outlinewidth\":0,\"ticks\":\"\"}},\"colorscale\":{\"sequential\":[[0.0,\"#0d0887\"],[0.1111111111111111,\"#46039f\"],[0.2222222222222222,\"#7201a8\"],[0.3333333333333333,\"#9c179e\"],[0.4444444444444444,\"#bd3786\"],[0.5555555555555556,\"#d8576b\"],[0.6666666666666666,\"#ed7953\"],[0.7777777777777778,\"#fb9f3a\"],[0.8888888888888888,\"#fdca26\"],[1.0,\"#f0f921\"]],\"sequentialminus\":[[0.0,\"#0d0887\"],[0.1111111111111111,\"#46039f\"],[0.2222222222222222,\"#7201a8\"],[0.3333333333333333,\"#9c179e\"],[0.4444444444444444,\"#bd3786\"],[0.5555555555555556,\"#d8576b\"],[0.6666666666666666,\"#ed7953\"],[0.7777777777777778,\"#fb9f3a\"],[0.8888888888888888,\"#fdca26\"],[1.0,\"#f0f921\"]],\"diverging\":[[0,\"#8e0152\"],[0.1,\"#c51b7d\"],[0.2,\"#de77ae\"],[0.3,\"#f1b6da\"],[0.4,\"#fde0ef\"],[0.5,\"#f7f7f7\"],[0.6,\"#e6f5d0\"],[0.7,\"#b8e186\"],[0.8,\"#7fbc41\"],[0.9,\"#4d9221\"],[1,\"#276419\"]]},\"xaxis\":{\"gridcolor\":\"white\",\"linecolor\":\"white\",\"ticks\":\"\",\"title\":{\"standoff\":15},\"zerolinecolor\":\"white\",\"automargin\":true,\"zerolinewidth\":2},\"yaxis\":{\"gridcolor\":\"white\",\"linecolor\":\"white\",\"ticks\":\"\",\"title\":{\"standoff\":15},\"zerolinecolor\":\"white\",\"automargin\":true,\"zerolinewidth\":2},\"scene\":{\"xaxis\":{\"backgroundcolor\":\"#E5ECF6\",\"gridcolor\":\"white\",\"linecolor\":\"white\",\"showbackground\":true,\"ticks\":\"\",\"zerolinecolor\":\"white\",\"gridwidth\":2},\"yaxis\":{\"backgroundcolor\":\"#E5ECF6\",\"gridcolor\":\"white\",\"linecolor\":\"white\",\"showbackground\":true,\"ticks\":\"\",\"zerolinecolor\":\"white\",\"gridwidth\":2},\"zaxis\":{\"backgroundcolor\":\"#E5ECF6\",\"gridcolor\":\"white\",\"linecolor\":\"white\",\"showbackground\":true,\"ticks\":\"\",\"zerolinecolor\":\"white\",\"gridwidth\":2}},\"shapedefaults\":{\"line\":{\"color\":\"#2a3f5f\"}},\"annotationdefaults\":{\"arrowcolor\":\"#2a3f5f\",\"arrowhead\":0,\"arrowwidth\":1},\"geo\":{\"bgcolor\":\"white\",\"landcolor\":\"#E5ECF6\",\"subunitcolor\":\"white\",\"showland\":true,\"showlakes\":true,\"lakecolor\":\"white\"},\"title\":{\"x\":0.05},\"mapbox\":{\"style\":\"light\"}}},\"xaxis\":{\"anchor\":\"y\",\"domain\":[0.0,1.0],\"title\":{\"text\":\"Mean Happiness Score\"},\"type\":\"log\"},\"yaxis\":{\"anchor\":\"x\",\"domain\":[0.0,1.0],\"title\":{\"text\":\"Mean GDP per Capita\"}},\"coloraxis\":{\"colorbar\":{\"title\":{\"text\":\"Average yearly temperature\"}},\"colorscale\":[[0.0,\"#0d0887\"],[0.1111111111111111,\"#46039f\"],[0.2222222222222222,\"#7201a8\"],[0.3333333333333333,\"#9c179e\"],[0.4444444444444444,\"#bd3786\"],[0.5555555555555556,\"#d8576b\"],[0.6666666666666666,\"#ed7953\"],[0.7777777777777778,\"#fb9f3a\"],[0.8888888888888888,\"#fdca26\"],[1.0,\"#f0f921\"]]},\"legend\":{\"tracegroupgap\":0,\"itemsizing\":\"constant\",\"title\":{\"text\":\"Country\"}},\"margin\":{\"t\":60},\"title\":{\"text\":\"Relation between Happiness, Population and GDP per Capita\"}},                        {\"responsive\": true}                    ).then(function(){\n",
       "                            \n",
       "var gd = document.getElementById('56ee933e-9c93-4a5b-b40c-704e3aabc714');\n",
       "var x = new MutationObserver(function (mutations, observer) {{\n",
       "        var display = window.getComputedStyle(gd).display;\n",
       "        if (!display || display === 'none') {{\n",
       "            console.log([gd, 'removed!']);\n",
       "            Plotly.purge(gd);\n",
       "            observer.disconnect();\n",
       "        }}\n",
       "}});\n",
       "\n",
       "// Listen for the removal of the full notebook cells\n",
       "var notebookContainer = gd.closest('#notebook-container');\n",
       "if (notebookContainer) {{\n",
       "    x.observe(notebookContainer, {childList: true});\n",
       "}}\n",
       "\n",
       "// Listen for the clearing of the current output cell\n",
       "var outputEl = gd.closest('.output');\n",
       "if (outputEl) {{\n",
       "    x.observe(outputEl, {childList: true});\n",
       "}}\n",
       "\n",
       "                        })                };                });            </script>        </div>"
      ]
     },
     "metadata": {},
     "output_type": "display_data"
    }
   ],
   "source": [
    "happiness_GDP(df)"
   ]
  },
  {
   "cell_type": "code",
   "execution_count": null,
   "id": "0484ce36",
   "metadata": {},
   "outputs": [],
   "source": []
  },
  {
   "cell_type": "code",
   "execution_count": null,
   "id": "8ede35af",
   "metadata": {},
   "outputs": [],
   "source": []
  },
  {
   "cell_type": "code",
   "execution_count": null,
   "id": "ced60a50",
   "metadata": {},
   "outputs": [],
   "source": []
  }
 ],
 "metadata": {
  "kernelspec": {
   "display_name": "ironhack",
   "language": "python",
   "name": "ironhack"
  },
  "language_info": {
   "codemirror_mode": {
    "name": "ipython",
    "version": 3
   },
   "file_extension": ".py",
   "mimetype": "text/x-python",
   "name": "python",
   "nbconvert_exporter": "python",
   "pygments_lexer": "ipython3",
   "version": "3.10.9"
  }
 },
 "nbformat": 4,
 "nbformat_minor": 5
}
