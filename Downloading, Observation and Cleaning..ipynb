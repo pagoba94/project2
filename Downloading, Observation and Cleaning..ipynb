{
 "cells": [
  {
   "cell_type": "code",
   "execution_count": 1,
   "id": "fe5f91b1",
   "metadata": {},
   "outputs": [],
   "source": [
    "import pandas as pd\n",
    "import re\n",
    "import seaborn as sns\n",
    "import os\n",
    "import matplotlib.pyplot as plt\n",
    "import requests\n",
    "from lxml import html"
   ]
  },
  {
   "cell_type": "markdown",
   "id": "e6d83a43",
   "metadata": {},
   "source": [
    "The World Happiness Report is a landmark survey of the state of global happiness that ranks 156 countries by how happy their citizens perceive themselves to be. The World Happiness Report 2020 for the first time ranks cities around the world by their subjective well-being and digs more deeply into how the social, urban and natural environments combine to affect our happiness."
   ]
  },
  {
   "cell_type": "markdown",
   "id": "c63af4a1",
   "metadata": {},
   "source": [
    "https://www.kaggle.com/datasets/mathurinache/world-happiness-report?resource=download&select=2022.csv\n",
    "\n",
    "https://datosmacro.expansion.com/ipc-paises\n",
    "\n",
    "\n",
    "a136dfe125d4c622d671e5c904689ced    https://fredaccount.stlouisfed.org/apikey"
   ]
  },
  {
   "cell_type": "code",
   "execution_count": 2,
   "id": "2c6d7c85",
   "metadata": {},
   "outputs": [],
   "source": [
    "def downloading(path):\n",
    "    \"\"\"This function downloads from a raw link and saves the dataframe locally.\n",
    "    args:\n",
    "    :url: string. the link\n",
    "    :name: string. name to save the file\n",
    "    \"\"\"\n",
    "    df=pd.read_csv(path, encoding='latin')\n",
    "    return df\n",
    "    pass"
   ]
  },
  {
   "cell_type": "code",
   "execution_count": 3,
   "id": "a85c3bee",
   "metadata": {},
   "outputs": [],
   "source": [
    "df=pd.read_csv('data/happiness-2015.csv', encoding='latin')\n",
    "df2017=pd.read_csv('data/happiness-2017.csv', encoding='latin')\n",
    "df2019=pd.read_csv('data/happiness-2019.csv', encoding='latin')\n",
    "df2021=pd.read_csv('data/happiness-2021.csv', encoding='latin')\n",
    "df2022=pd.read_csv('data/happiness-2022.csv', encoding='latin')"
   ]
  },
  {
   "cell_type": "code",
   "execution_count": 4,
   "id": "7dcfaa92",
   "metadata": {},
   "outputs": [
    {
     "data": {
      "text/html": [
       "<div>\n",
       "<style scoped>\n",
       "    .dataframe tbody tr th:only-of-type {\n",
       "        vertical-align: middle;\n",
       "    }\n",
       "\n",
       "    .dataframe tbody tr th {\n",
       "        vertical-align: top;\n",
       "    }\n",
       "\n",
       "    .dataframe thead th {\n",
       "        text-align: right;\n",
       "    }\n",
       "</style>\n",
       "<table border=\"1\" class=\"dataframe\">\n",
       "  <thead>\n",
       "    <tr style=\"text-align: right;\">\n",
       "      <th></th>\n",
       "      <th>Country</th>\n",
       "      <th>Region</th>\n",
       "      <th>Happiness Rank</th>\n",
       "      <th>Happiness Score</th>\n",
       "      <th>Standard Error</th>\n",
       "      <th>Economy (GDP per Capita)</th>\n",
       "      <th>Family</th>\n",
       "      <th>Health (Life Expectancy)</th>\n",
       "      <th>Freedom</th>\n",
       "      <th>Trust (Government Corruption)</th>\n",
       "      <th>Generosity</th>\n",
       "      <th>Dystopia Residual</th>\n",
       "    </tr>\n",
       "  </thead>\n",
       "  <tbody>\n",
       "    <tr>\n",
       "      <th>68</th>\n",
       "      <td>Kosovo</td>\n",
       "      <td>Central and Eastern Europe</td>\n",
       "      <td>69</td>\n",
       "      <td>5.589</td>\n",
       "      <td>0.05018</td>\n",
       "      <td>0.80148</td>\n",
       "      <td>0.81198</td>\n",
       "      <td>0.63132</td>\n",
       "      <td>0.24749</td>\n",
       "      <td>0.04741</td>\n",
       "      <td>0.2831</td>\n",
       "      <td>2.76579</td>\n",
       "    </tr>\n",
       "  </tbody>\n",
       "</table>\n",
       "</div>"
      ],
      "text/plain": [
       "   Country                      Region  Happiness Rank  Happiness Score   \n",
       "68  Kosovo  Central and Eastern Europe              69            5.589  \\\n",
       "\n",
       "    Standard Error  Economy (GDP per Capita)   Family   \n",
       "68         0.05018                   0.80148  0.81198  \\\n",
       "\n",
       "    Health (Life Expectancy)  Freedom  Trust (Government Corruption)   \n",
       "68                   0.63132  0.24749                        0.04741  \\\n",
       "\n",
       "    Generosity  Dystopia Residual  \n",
       "68      0.2831            2.76579  "
      ]
     },
     "execution_count": 4,
     "metadata": {},
     "output_type": "execute_result"
    }
   ],
   "source": [
    "df.sample()"
   ]
  },
  {
   "cell_type": "code",
   "execution_count": 5,
   "id": "5a23a0de",
   "metadata": {},
   "outputs": [
    {
     "name": "stdout",
     "output_type": "stream",
     "text": [
      "<class 'pandas.core.frame.DataFrame'>\n",
      "RangeIndex: 158 entries, 0 to 157\n",
      "Data columns (total 12 columns):\n",
      " #   Column                         Non-Null Count  Dtype  \n",
      "---  ------                         --------------  -----  \n",
      " 0   Country                        158 non-null    object \n",
      " 1   Region                         158 non-null    object \n",
      " 2   Happiness Rank                 158 non-null    int64  \n",
      " 3   Happiness Score                158 non-null    float64\n",
      " 4   Standard Error                 158 non-null    float64\n",
      " 5   Economy (GDP per Capita)       158 non-null    float64\n",
      " 6   Family                         158 non-null    float64\n",
      " 7   Health (Life Expectancy)       158 non-null    float64\n",
      " 8   Freedom                        158 non-null    float64\n",
      " 9   Trust (Government Corruption)  158 non-null    float64\n",
      " 10  Generosity                     158 non-null    float64\n",
      " 11  Dystopia Residual              158 non-null    float64\n",
      "dtypes: float64(9), int64(1), object(2)\n",
      "memory usage: 14.9+ KB\n"
     ]
    }
   ],
   "source": [
    "df.info()"
   ]
  },
  {
   "cell_type": "code",
   "execution_count": 6,
   "id": "02a92538",
   "metadata": {},
   "outputs": [],
   "source": [
    "url = 'https://en.wikipedia.org/wiki/List_of_countries_by_average_yearly_temperature'"
   ]
  },
  {
   "cell_type": "code",
   "execution_count": 7,
   "id": "553a6cc6",
   "metadata": {},
   "outputs": [],
   "source": [
    "headers = {\"User-agent\": 'Mozilla/5.0 (Windows NT 10.0; Win64; x64) AppleWebKit/537.36 (KHTML, like Gecko) Chrome/79.0.3945.130 Safari/537.36'}\n",
    "res = requests.get(url, headers=headers)"
   ]
  },
  {
   "cell_type": "code",
   "execution_count": 8,
   "id": "96eeeb19",
   "metadata": {},
   "outputs": [
    {
     "name": "stdout",
     "output_type": "stream",
     "text": [
      "<Response [200]>\n"
     ]
    }
   ],
   "source": [
    "print(res)"
   ]
  },
  {
   "cell_type": "code",
   "execution_count": 9,
   "id": "c56f59f3",
   "metadata": {},
   "outputs": [],
   "source": [
    "table = pd.read_html(res.content, encoding = 'utf8')"
   ]
  },
  {
   "cell_type": "code",
   "execution_count": 10,
   "id": "9367e7e8",
   "metadata": {},
   "outputs": [],
   "source": [
    "df2 = table[0]"
   ]
  },
  {
   "cell_type": "code",
   "execution_count": 11,
   "id": "e7d7aa03",
   "metadata": {},
   "outputs": [
    {
     "data": {
      "text/html": [
       "<div>\n",
       "<style scoped>\n",
       "    .dataframe tbody tr th:only-of-type {\n",
       "        vertical-align: middle;\n",
       "    }\n",
       "\n",
       "    .dataframe tbody tr th {\n",
       "        vertical-align: top;\n",
       "    }\n",
       "\n",
       "    .dataframe thead th {\n",
       "        text-align: right;\n",
       "    }\n",
       "</style>\n",
       "<table border=\"1\" class=\"dataframe\">\n",
       "  <thead>\n",
       "    <tr style=\"text-align: right;\">\n",
       "      <th></th>\n",
       "      <th>Country</th>\n",
       "      <th>Average yearly temperature (1961–1990 Celsius)</th>\n",
       "    </tr>\n",
       "  </thead>\n",
       "  <tbody>\n",
       "    <tr>\n",
       "      <th>144</th>\n",
       "      <td>Montenegro</td>\n",
       "      <td>10.55</td>\n",
       "    </tr>\n",
       "  </tbody>\n",
       "</table>\n",
       "</div>"
      ],
      "text/plain": [
       "        Country Average yearly temperature (1961–1990 Celsius)\n",
       "144  Montenegro                                          10.55"
      ]
     },
     "execution_count": 11,
     "metadata": {},
     "output_type": "execute_result"
    }
   ],
   "source": [
    "df2.sample()"
   ]
  },
  {
   "cell_type": "code",
   "execution_count": 12,
   "id": "7d55315b",
   "metadata": {},
   "outputs": [
    {
     "name": "stdout",
     "output_type": "stream",
     "text": [
      "<class 'pandas.core.frame.DataFrame'>\n",
      "RangeIndex: 192 entries, 0 to 191\n",
      "Data columns (total 2 columns):\n",
      " #   Column                                          Non-Null Count  Dtype \n",
      "---  ------                                          --------------  ----- \n",
      " 0   Country                                         192 non-null    object\n",
      " 1   Average yearly temperature (1961–1990 Celsius)  192 non-null    object\n",
      "dtypes: object(2)\n",
      "memory usage: 3.1+ KB\n"
     ]
    }
   ],
   "source": [
    "df2.info()"
   ]
  },
  {
   "cell_type": "code",
   "execution_count": 13,
   "id": "f5d1cff5",
   "metadata": {},
   "outputs": [
    {
     "data": {
      "text/html": [
       "<div>\n",
       "<style scoped>\n",
       "    .dataframe tbody tr th:only-of-type {\n",
       "        vertical-align: middle;\n",
       "    }\n",
       "\n",
       "    .dataframe tbody tr th {\n",
       "        vertical-align: top;\n",
       "    }\n",
       "\n",
       "    .dataframe thead th {\n",
       "        text-align: right;\n",
       "    }\n",
       "</style>\n",
       "<table border=\"1\" class=\"dataframe\">\n",
       "  <thead>\n",
       "    <tr style=\"text-align: right;\">\n",
       "      <th></th>\n",
       "      <th>Country</th>\n",
       "      <th>Average yearly temperature (1961–1990 Celsius)</th>\n",
       "    </tr>\n",
       "  </thead>\n",
       "  <tbody>\n",
       "    <tr>\n",
       "      <th>count</th>\n",
       "      <td>192</td>\n",
       "      <td>192</td>\n",
       "    </tr>\n",
       "    <tr>\n",
       "      <th>unique</th>\n",
       "      <td>192</td>\n",
       "      <td>152</td>\n",
       "    </tr>\n",
       "    <tr>\n",
       "      <th>top</th>\n",
       "      <td>Burkina Faso</td>\n",
       "      <td>27.15</td>\n",
       "    </tr>\n",
       "    <tr>\n",
       "      <th>freq</th>\n",
       "      <td>1</td>\n",
       "      <td>5</td>\n",
       "    </tr>\n",
       "  </tbody>\n",
       "</table>\n",
       "</div>"
      ],
      "text/plain": [
       "             Country Average yearly temperature (1961–1990 Celsius)\n",
       "count            192                                            192\n",
       "unique           192                                            152\n",
       "top     Burkina Faso                                          27.15\n",
       "freq               1                                              5"
      ]
     },
     "execution_count": 13,
     "metadata": {},
     "output_type": "execute_result"
    }
   ],
   "source": [
    "df2.describe()"
   ]
  },
  {
   "cell_type": "code",
   "execution_count": 14,
   "id": "b924aae3",
   "metadata": {},
   "outputs": [
    {
     "name": "stdout",
     "output_type": "stream",
     "text": [
      "['Switzerland', 'Iceland', 'Denmark', 'Norway', 'Canada', 'Finland', 'Netherlands', 'Sweden', 'New Zealand', 'Australia', 'Israel', 'Costa Rica', 'Austria', 'Mexico', 'United States', 'Brazil', 'Luxembourg', 'Ireland', 'Belgium', 'United Arab Emirates', 'United Kingdom', 'Oman', 'Venezuela', 'Singapore', 'Panama', 'Germany', 'Chile', 'Qatar', 'France', 'Argentina', 'Czech Republic', 'Uruguay', 'Colombia', 'Thailand', 'Saudi Arabia', 'Spain', 'Malta', 'Taiwan', 'Kuwait', 'Suriname', 'Trinidad and Tobago', 'El Salvador', 'Guatemala', 'Uzbekistan', 'Slovakia', 'Japan', 'South Korea', 'Ecuador', 'Bahrain', 'Italy', 'Bolivia', 'Moldova', 'Paraguay', 'Kazakhstan', 'Slovenia', 'Lithuania', 'Nicaragua', 'Peru', 'Belarus', 'Poland', 'Malaysia', 'Croatia', 'Libya', 'Russia', 'Jamaica', 'North Cyprus', 'Cyprus', 'Algeria', 'Kosovo', 'Turkmenistan', 'Mauritius', 'Hong Kong', 'Estonia', 'Indonesia', 'Vietnam', 'Turkey', 'Kyrgyzstan', 'Nigeria', 'Bhutan', 'Azerbaijan', 'Pakistan', 'Jordan', 'Montenegro', 'China', 'Zambia', 'Romania', 'Serbia', 'Portugal', 'Latvia', 'Philippines', 'Somaliland region', 'Morocco', 'Macedonia', 'Mozambique', 'Albania', 'Bosnia and Herzegovina', 'Lesotho', 'Dominican Republic', 'Laos', 'Mongolia', 'Swaziland', 'Greece', 'Lebanon', 'Hungary', 'Honduras', 'Tajikistan', 'Tunisia', 'Palestinian Territories', 'Bangladesh', 'Iran', 'Ukraine', 'Iraq', 'South Africa', 'Ghana', 'Zimbabwe', 'Liberia', 'India', 'Sudan', 'Haiti', 'Congo (Kinshasa)', 'Nepal', 'Ethiopia', 'Sierra Leone', 'Mauritania', 'Kenya', 'Djibouti', 'Armenia', 'Botswana', 'Myanmar', 'Georgia', 'Malawi', 'Sri Lanka', 'Cameroon', 'Bulgaria', 'Egypt', 'Yemen', 'Angola', 'Mali', 'Congo (Brazzaville)', 'Comoros', 'Uganda', 'Senegal', 'Gabon', 'Niger', 'Cambodia', 'Tanzania', 'Madagascar', 'Central African Republic', 'Chad', 'Guinea', 'Ivory Coast', 'Burkina Faso', 'Afghanistan', 'Rwanda', 'Benin', 'Syria', 'Burundi', 'Togo']\n"
     ]
    }
   ],
   "source": [
    "df_countries = list(df['Country'].values)\n",
    "print(df_countries)"
   ]
  },
  {
   "cell_type": "code",
   "execution_count": 15,
   "id": "6f53cb70",
   "metadata": {},
   "outputs": [],
   "source": [
    "df2_countries = list(df2['Country'].values)"
   ]
  },
  {
   "cell_type": "code",
   "execution_count": 16,
   "id": "1b2e95e9",
   "metadata": {},
   "outputs": [
    {
     "name": "stdout",
     "output_type": "stream",
     "text": [
      "['Denmark', 'Norway', 'Taiwan', 'North Cyprus', 'Kosovo', 'Somaliland region', 'Macedonia', 'Swaziland', 'Palestinian Territories', 'Congo (Kinshasa)', 'Congo (Brazzaville)']\n"
     ]
    }
   ],
   "source": [
    "df_remaining_countries=[]\n",
    "df2_remaining_countries=[]\n",
    "\n",
    "for i in df_countries:\n",
    "    if i not in df2_countries:\n",
    "        df_remaining_countries.append(i)\n",
    "        \n",
    "for i in df2_countries:\n",
    "    if i not in df_countries:\n",
    "        df2_remaining_countries.append(i)\n",
    "        \n",
    "print(df_remaining_countries)"
   ]
  },
  {
   "cell_type": "code",
   "execution_count": 17,
   "id": "3a44d1fa",
   "metadata": {},
   "outputs": [
    {
     "name": "stdout",
     "output_type": "stream",
     "text": [
      "['Kiribati', 'Maldives', 'Tuvalu', 'Palau', 'Gambia', 'Marshall Islands', 'Seychelles', 'Somalia', 'Brunei', 'Saint Vincent and the Grenadines', 'Guinea-Bissau', 'Samoa', 'Grenada', 'Barbados', 'Guyana', 'Federated States of Micronesia', 'Antigua and Barbuda', 'Solomon Islands', 'Eritrea', 'Saint Lucia', 'Belize', 'Timor-Leste', 'Papua New Guinea', 'Tonga', 'Cuba', 'Bahamas', 'Republic of the Congo', 'Equatorial Guinea', 'Saint Kitts and Nevis', 'Fiji', 'Democratic Republic of the Congo', 'Vanuatu', 'São Tomé and Príncipe', 'Cape Verde', 'Dominica', 'Eswatini', 'Namibia', 'Monaco', 'San Marino', 'North Macedonia', 'Andorra', 'Liechtenstein', 'North Korea', 'Norway [note 1]', 'Denmark [note 2]']\n"
     ]
    }
   ],
   "source": [
    "print(df2_remaining_countries)"
   ]
  },
  {
   "cell_type": "code",
   "execution_count": 18,
   "id": "c0a24e72",
   "metadata": {},
   "outputs": [],
   "source": [
    "mask_Denmark = df2['Country'].str.contains('Denmark', case=False)\n",
    "\n",
    "df2.loc[mask_Denmark, 'Country'] = 'Denmark'"
   ]
  },
  {
   "cell_type": "code",
   "execution_count": 19,
   "id": "63bd6a3e",
   "metadata": {},
   "outputs": [],
   "source": [
    "mask_Cyprus = df2['Country'].str.contains('Cyprus', case=False)\n",
    "df2.loc[mask_Cyprus, 'Country'] = 'Cyprus'"
   ]
  },
  {
   "cell_type": "code",
   "execution_count": 20,
   "id": "2e18ea7f",
   "metadata": {},
   "outputs": [],
   "source": [
    "mask_Norway = df2['Country'].str.contains('Norway', case=False)\n",
    "df2.loc[mask_Norway, 'Country'] = 'Norway'"
   ]
  },
  {
   "cell_type": "code",
   "execution_count": 21,
   "id": "81eeedd7",
   "metadata": {},
   "outputs": [],
   "source": [
    "mask_Somalia = df2['Country'].str.contains('Somaliland', case=False)\n",
    "df2.loc[mask_Somalia, 'Country'] = 'Somalia'"
   ]
  },
  {
   "cell_type": "code",
   "execution_count": 22,
   "id": "ee07d548",
   "metadata": {},
   "outputs": [],
   "source": [
    "mask_Somalia = df['Country'].str.contains('Somaliland', case=False)\n",
    "df.loc[mask_Somalia, 'Country'] = 'Somalia'"
   ]
  },
  {
   "cell_type": "code",
   "execution_count": 23,
   "id": "7cb95ac4",
   "metadata": {},
   "outputs": [],
   "source": [
    "mask_Macedonia = df2['Country'].str.contains('Macedonia', case=False)\n",
    "df2.loc[mask_Macedonia, 'Country'] = 'Macedonia'"
   ]
  },
  {
   "cell_type": "code",
   "execution_count": 24,
   "id": "e78e471f",
   "metadata": {},
   "outputs": [],
   "source": [
    "mask_Swaziland = df2['Country'].str.contains('Eswatini', case=False)\n",
    "df2.loc[mask_Swaziland, 'Country'] = 'Swaziland'"
   ]
  },
  {
   "cell_type": "code",
   "execution_count": 25,
   "id": "fa1a6ddb",
   "metadata": {},
   "outputs": [],
   "source": [
    "mask_Democratic = df['Country'].str.contains('Kinshasa', case=False)\n",
    "df.loc[mask_Democratic, 'Country'] = 'Democratic Republic of the Congo'"
   ]
  },
  {
   "cell_type": "code",
   "execution_count": 26,
   "id": "c08e2a4b",
   "metadata": {},
   "outputs": [],
   "source": [
    "mask_Congo = df['Country'].str.contains('Brazzaville', case=False)\n",
    "df.loc[mask_Congo, 'Country'] = 'Republic of the Congo'"
   ]
  },
  {
   "cell_type": "code",
   "execution_count": 27,
   "id": "82457a95",
   "metadata": {},
   "outputs": [],
   "source": [
    "df2_countries = list(df2['Country'].values)\n",
    "df_countries = list(df['Country'].values)"
   ]
  },
  {
   "cell_type": "code",
   "execution_count": 28,
   "id": "a976d8c0",
   "metadata": {},
   "outputs": [
    {
     "name": "stdout",
     "output_type": "stream",
     "text": [
      "['Taiwan', 'North Cyprus', 'Kosovo', 'Palestinian Territories']\n"
     ]
    }
   ],
   "source": [
    "df_remaining_countries=[]\n",
    "df2_remaining_countries=[]\n",
    "\n",
    "for i in df_countries:\n",
    "    if i not in df2_countries:\n",
    "        df_remaining_countries.append(i)\n",
    "        \n",
    "for i in df2_countries:\n",
    "    if i not in df_countries:\n",
    "        df2_remaining_countries.append(i)\n",
    "        \n",
    "print(df_remaining_countries)"
   ]
  },
  {
   "cell_type": "code",
   "execution_count": 29,
   "id": "12b88901",
   "metadata": {},
   "outputs": [],
   "source": [
    "df = pd.merge(df, df2, on='Country', how='outer')"
   ]
  },
  {
   "cell_type": "code",
   "execution_count": 30,
   "id": "06e59264",
   "metadata": {
    "scrolled": true
   },
   "outputs": [
    {
     "data": {
      "text/plain": [
       "Country                                            0\n",
       "Region                                            38\n",
       "Happiness Rank                                    38\n",
       "Happiness Score                                   38\n",
       "Standard Error                                    38\n",
       "Economy (GDP per Capita)                          38\n",
       "Family                                            38\n",
       "Health (Life Expectancy)                          38\n",
       "Freedom                                           38\n",
       "Trust (Government Corruption)                     38\n",
       "Generosity                                        38\n",
       "Dystopia Residual                                 38\n",
       "Average yearly temperature (1961–1990 Celsius)     4\n",
       "dtype: int64"
      ]
     },
     "execution_count": 30,
     "metadata": {},
     "output_type": "execute_result"
    }
   ],
   "source": [
    "pd.isna(df).sum()"
   ]
  },
  {
   "cell_type": "code",
   "execution_count": 31,
   "id": "29b5b5d7",
   "metadata": {},
   "outputs": [],
   "source": [
    "df = df.add_suffix(' 2015')\n"
   ]
  },
  {
   "cell_type": "code",
   "execution_count": 32,
   "id": "57f06b9c",
   "metadata": {},
   "outputs": [],
   "source": [
    "df.rename(columns = {\"Economy (GDP per Capita) 2015\":\"GDP per Capita 2015\" , \"Average yearly temperature (1961–1990 Celsius) 2015\": \"Average yearly temperature\", \"Country 2015\": \"Country\", \"Region 2015\": \"Region\"}, inplace=True)"
   ]
  },
  {
   "cell_type": "code",
   "execution_count": null,
   "id": "96b6d9ba",
   "metadata": {},
   "outputs": [],
   "source": []
  },
  {
   "cell_type": "code",
   "execution_count": 33,
   "id": "6da314bc",
   "metadata": {},
   "outputs": [
    {
     "data": {
      "text/html": [
       "<div>\n",
       "<style scoped>\n",
       "    .dataframe tbody tr th:only-of-type {\n",
       "        vertical-align: middle;\n",
       "    }\n",
       "\n",
       "    .dataframe tbody tr th {\n",
       "        vertical-align: top;\n",
       "    }\n",
       "\n",
       "    .dataframe thead th {\n",
       "        text-align: right;\n",
       "    }\n",
       "</style>\n",
       "<table border=\"1\" class=\"dataframe\">\n",
       "  <thead>\n",
       "    <tr style=\"text-align: right;\">\n",
       "      <th></th>\n",
       "      <th>Overall rank</th>\n",
       "      <th>Country or region</th>\n",
       "      <th>Score</th>\n",
       "      <th>GDP per capita</th>\n",
       "      <th>Social support</th>\n",
       "      <th>Healthy life expectancy</th>\n",
       "      <th>Freedom to make life choices</th>\n",
       "      <th>Generosity</th>\n",
       "      <th>Perceptions of corruption</th>\n",
       "    </tr>\n",
       "  </thead>\n",
       "  <tbody>\n",
       "    <tr>\n",
       "      <th>0</th>\n",
       "      <td>1</td>\n",
       "      <td>Finland</td>\n",
       "      <td>7.769</td>\n",
       "      <td>1.340</td>\n",
       "      <td>1.587</td>\n",
       "      <td>0.986</td>\n",
       "      <td>0.596</td>\n",
       "      <td>0.153</td>\n",
       "      <td>0.393</td>\n",
       "    </tr>\n",
       "    <tr>\n",
       "      <th>1</th>\n",
       "      <td>2</td>\n",
       "      <td>Denmark</td>\n",
       "      <td>7.600</td>\n",
       "      <td>1.383</td>\n",
       "      <td>1.573</td>\n",
       "      <td>0.996</td>\n",
       "      <td>0.592</td>\n",
       "      <td>0.252</td>\n",
       "      <td>0.410</td>\n",
       "    </tr>\n",
       "    <tr>\n",
       "      <th>2</th>\n",
       "      <td>3</td>\n",
       "      <td>Norway</td>\n",
       "      <td>7.554</td>\n",
       "      <td>1.488</td>\n",
       "      <td>1.582</td>\n",
       "      <td>1.028</td>\n",
       "      <td>0.603</td>\n",
       "      <td>0.271</td>\n",
       "      <td>0.341</td>\n",
       "    </tr>\n",
       "    <tr>\n",
       "      <th>3</th>\n",
       "      <td>4</td>\n",
       "      <td>Iceland</td>\n",
       "      <td>7.494</td>\n",
       "      <td>1.380</td>\n",
       "      <td>1.624</td>\n",
       "      <td>1.026</td>\n",
       "      <td>0.591</td>\n",
       "      <td>0.354</td>\n",
       "      <td>0.118</td>\n",
       "    </tr>\n",
       "    <tr>\n",
       "      <th>4</th>\n",
       "      <td>5</td>\n",
       "      <td>Netherlands</td>\n",
       "      <td>7.488</td>\n",
       "      <td>1.396</td>\n",
       "      <td>1.522</td>\n",
       "      <td>0.999</td>\n",
       "      <td>0.557</td>\n",
       "      <td>0.322</td>\n",
       "      <td>0.298</td>\n",
       "    </tr>\n",
       "    <tr>\n",
       "      <th>...</th>\n",
       "      <td>...</td>\n",
       "      <td>...</td>\n",
       "      <td>...</td>\n",
       "      <td>...</td>\n",
       "      <td>...</td>\n",
       "      <td>...</td>\n",
       "      <td>...</td>\n",
       "      <td>...</td>\n",
       "      <td>...</td>\n",
       "    </tr>\n",
       "    <tr>\n",
       "      <th>151</th>\n",
       "      <td>152</td>\n",
       "      <td>Rwanda</td>\n",
       "      <td>3.334</td>\n",
       "      <td>0.359</td>\n",
       "      <td>0.711</td>\n",
       "      <td>0.614</td>\n",
       "      <td>0.555</td>\n",
       "      <td>0.217</td>\n",
       "      <td>0.411</td>\n",
       "    </tr>\n",
       "    <tr>\n",
       "      <th>152</th>\n",
       "      <td>153</td>\n",
       "      <td>Tanzania</td>\n",
       "      <td>3.231</td>\n",
       "      <td>0.476</td>\n",
       "      <td>0.885</td>\n",
       "      <td>0.499</td>\n",
       "      <td>0.417</td>\n",
       "      <td>0.276</td>\n",
       "      <td>0.147</td>\n",
       "    </tr>\n",
       "    <tr>\n",
       "      <th>153</th>\n",
       "      <td>154</td>\n",
       "      <td>Afghanistan</td>\n",
       "      <td>3.203</td>\n",
       "      <td>0.350</td>\n",
       "      <td>0.517</td>\n",
       "      <td>0.361</td>\n",
       "      <td>0.000</td>\n",
       "      <td>0.158</td>\n",
       "      <td>0.025</td>\n",
       "    </tr>\n",
       "    <tr>\n",
       "      <th>154</th>\n",
       "      <td>155</td>\n",
       "      <td>Central African Republic</td>\n",
       "      <td>3.083</td>\n",
       "      <td>0.026</td>\n",
       "      <td>0.000</td>\n",
       "      <td>0.105</td>\n",
       "      <td>0.225</td>\n",
       "      <td>0.235</td>\n",
       "      <td>0.035</td>\n",
       "    </tr>\n",
       "    <tr>\n",
       "      <th>155</th>\n",
       "      <td>156</td>\n",
       "      <td>South Sudan</td>\n",
       "      <td>2.853</td>\n",
       "      <td>0.306</td>\n",
       "      <td>0.575</td>\n",
       "      <td>0.295</td>\n",
       "      <td>0.010</td>\n",
       "      <td>0.202</td>\n",
       "      <td>0.091</td>\n",
       "    </tr>\n",
       "  </tbody>\n",
       "</table>\n",
       "<p>156 rows × 9 columns</p>\n",
       "</div>"
      ],
      "text/plain": [
       "     Overall rank         Country or region  Score  GDP per capita   \n",
       "0               1                   Finland  7.769           1.340  \\\n",
       "1               2                   Denmark  7.600           1.383   \n",
       "2               3                    Norway  7.554           1.488   \n",
       "3               4                   Iceland  7.494           1.380   \n",
       "4               5               Netherlands  7.488           1.396   \n",
       "..            ...                       ...    ...             ...   \n",
       "151           152                    Rwanda  3.334           0.359   \n",
       "152           153                  Tanzania  3.231           0.476   \n",
       "153           154               Afghanistan  3.203           0.350   \n",
       "154           155  Central African Republic  3.083           0.026   \n",
       "155           156               South Sudan  2.853           0.306   \n",
       "\n",
       "     Social support  Healthy life expectancy  Freedom to make life choices   \n",
       "0             1.587                    0.986                         0.596  \\\n",
       "1             1.573                    0.996                         0.592   \n",
       "2             1.582                    1.028                         0.603   \n",
       "3             1.624                    1.026                         0.591   \n",
       "4             1.522                    0.999                         0.557   \n",
       "..              ...                      ...                           ...   \n",
       "151           0.711                    0.614                         0.555   \n",
       "152           0.885                    0.499                         0.417   \n",
       "153           0.517                    0.361                         0.000   \n",
       "154           0.000                    0.105                         0.225   \n",
       "155           0.575                    0.295                         0.010   \n",
       "\n",
       "     Generosity  Perceptions of corruption  \n",
       "0         0.153                      0.393  \n",
       "1         0.252                      0.410  \n",
       "2         0.271                      0.341  \n",
       "3         0.354                      0.118  \n",
       "4         0.322                      0.298  \n",
       "..          ...                        ...  \n",
       "151       0.217                      0.411  \n",
       "152       0.276                      0.147  \n",
       "153       0.158                      0.025  \n",
       "154       0.235                      0.035  \n",
       "155       0.202                      0.091  \n",
       "\n",
       "[156 rows x 9 columns]"
      ]
     },
     "execution_count": 33,
     "metadata": {},
     "output_type": "execute_result"
    }
   ],
   "source": [
    "df2019"
   ]
  },
  {
   "cell_type": "code",
   "execution_count": 34,
   "id": "7987b347",
   "metadata": {},
   "outputs": [],
   "source": [
    "df2019 = df2019.add_suffix(' 2019')"
   ]
  },
  {
   "cell_type": "code",
   "execution_count": 35,
   "id": "81f68a67",
   "metadata": {},
   "outputs": [],
   "source": [
    "df2019.rename(columns = {\"Country or region 2019\" : \"Country\", \"Overall rank 2019\":\"Happiness Rank 2019\", \"Score 2019\": \"Happiness Score 2019\", \"GDP per capita 2019\":\"GDP per Capita 2019\" }, inplace=True)"
   ]
  },
  {
   "cell_type": "code",
   "execution_count": 36,
   "id": "22be429c",
   "metadata": {},
   "outputs": [
    {
     "data": {
      "text/html": [
       "<div>\n",
       "<style scoped>\n",
       "    .dataframe tbody tr th:only-of-type {\n",
       "        vertical-align: middle;\n",
       "    }\n",
       "\n",
       "    .dataframe tbody tr th {\n",
       "        vertical-align: top;\n",
       "    }\n",
       "\n",
       "    .dataframe thead th {\n",
       "        text-align: right;\n",
       "    }\n",
       "</style>\n",
       "<table border=\"1\" class=\"dataframe\">\n",
       "  <thead>\n",
       "    <tr style=\"text-align: right;\">\n",
       "      <th></th>\n",
       "      <th>Happiness Rank 2019</th>\n",
       "      <th>Country</th>\n",
       "      <th>Happiness Score 2019</th>\n",
       "      <th>GDP per Capita 2019</th>\n",
       "      <th>Social support 2019</th>\n",
       "      <th>Healthy life expectancy 2019</th>\n",
       "      <th>Freedom to make life choices 2019</th>\n",
       "      <th>Generosity 2019</th>\n",
       "      <th>Perceptions of corruption 2019</th>\n",
       "    </tr>\n",
       "  </thead>\n",
       "  <tbody>\n",
       "    <tr>\n",
       "      <th>0</th>\n",
       "      <td>1</td>\n",
       "      <td>Finland</td>\n",
       "      <td>7.769</td>\n",
       "      <td>1.340</td>\n",
       "      <td>1.587</td>\n",
       "      <td>0.986</td>\n",
       "      <td>0.596</td>\n",
       "      <td>0.153</td>\n",
       "      <td>0.393</td>\n",
       "    </tr>\n",
       "    <tr>\n",
       "      <th>1</th>\n",
       "      <td>2</td>\n",
       "      <td>Denmark</td>\n",
       "      <td>7.600</td>\n",
       "      <td>1.383</td>\n",
       "      <td>1.573</td>\n",
       "      <td>0.996</td>\n",
       "      <td>0.592</td>\n",
       "      <td>0.252</td>\n",
       "      <td>0.410</td>\n",
       "    </tr>\n",
       "    <tr>\n",
       "      <th>2</th>\n",
       "      <td>3</td>\n",
       "      <td>Norway</td>\n",
       "      <td>7.554</td>\n",
       "      <td>1.488</td>\n",
       "      <td>1.582</td>\n",
       "      <td>1.028</td>\n",
       "      <td>0.603</td>\n",
       "      <td>0.271</td>\n",
       "      <td>0.341</td>\n",
       "    </tr>\n",
       "    <tr>\n",
       "      <th>3</th>\n",
       "      <td>4</td>\n",
       "      <td>Iceland</td>\n",
       "      <td>7.494</td>\n",
       "      <td>1.380</td>\n",
       "      <td>1.624</td>\n",
       "      <td>1.026</td>\n",
       "      <td>0.591</td>\n",
       "      <td>0.354</td>\n",
       "      <td>0.118</td>\n",
       "    </tr>\n",
       "    <tr>\n",
       "      <th>4</th>\n",
       "      <td>5</td>\n",
       "      <td>Netherlands</td>\n",
       "      <td>7.488</td>\n",
       "      <td>1.396</td>\n",
       "      <td>1.522</td>\n",
       "      <td>0.999</td>\n",
       "      <td>0.557</td>\n",
       "      <td>0.322</td>\n",
       "      <td>0.298</td>\n",
       "    </tr>\n",
       "    <tr>\n",
       "      <th>...</th>\n",
       "      <td>...</td>\n",
       "      <td>...</td>\n",
       "      <td>...</td>\n",
       "      <td>...</td>\n",
       "      <td>...</td>\n",
       "      <td>...</td>\n",
       "      <td>...</td>\n",
       "      <td>...</td>\n",
       "      <td>...</td>\n",
       "    </tr>\n",
       "    <tr>\n",
       "      <th>151</th>\n",
       "      <td>152</td>\n",
       "      <td>Rwanda</td>\n",
       "      <td>3.334</td>\n",
       "      <td>0.359</td>\n",
       "      <td>0.711</td>\n",
       "      <td>0.614</td>\n",
       "      <td>0.555</td>\n",
       "      <td>0.217</td>\n",
       "      <td>0.411</td>\n",
       "    </tr>\n",
       "    <tr>\n",
       "      <th>152</th>\n",
       "      <td>153</td>\n",
       "      <td>Tanzania</td>\n",
       "      <td>3.231</td>\n",
       "      <td>0.476</td>\n",
       "      <td>0.885</td>\n",
       "      <td>0.499</td>\n",
       "      <td>0.417</td>\n",
       "      <td>0.276</td>\n",
       "      <td>0.147</td>\n",
       "    </tr>\n",
       "    <tr>\n",
       "      <th>153</th>\n",
       "      <td>154</td>\n",
       "      <td>Afghanistan</td>\n",
       "      <td>3.203</td>\n",
       "      <td>0.350</td>\n",
       "      <td>0.517</td>\n",
       "      <td>0.361</td>\n",
       "      <td>0.000</td>\n",
       "      <td>0.158</td>\n",
       "      <td>0.025</td>\n",
       "    </tr>\n",
       "    <tr>\n",
       "      <th>154</th>\n",
       "      <td>155</td>\n",
       "      <td>Central African Republic</td>\n",
       "      <td>3.083</td>\n",
       "      <td>0.026</td>\n",
       "      <td>0.000</td>\n",
       "      <td>0.105</td>\n",
       "      <td>0.225</td>\n",
       "      <td>0.235</td>\n",
       "      <td>0.035</td>\n",
       "    </tr>\n",
       "    <tr>\n",
       "      <th>155</th>\n",
       "      <td>156</td>\n",
       "      <td>South Sudan</td>\n",
       "      <td>2.853</td>\n",
       "      <td>0.306</td>\n",
       "      <td>0.575</td>\n",
       "      <td>0.295</td>\n",
       "      <td>0.010</td>\n",
       "      <td>0.202</td>\n",
       "      <td>0.091</td>\n",
       "    </tr>\n",
       "  </tbody>\n",
       "</table>\n",
       "<p>156 rows × 9 columns</p>\n",
       "</div>"
      ],
      "text/plain": [
       "     Happiness Rank 2019                   Country  Happiness Score 2019   \n",
       "0                      1                   Finland                 7.769  \\\n",
       "1                      2                   Denmark                 7.600   \n",
       "2                      3                    Norway                 7.554   \n",
       "3                      4                   Iceland                 7.494   \n",
       "4                      5               Netherlands                 7.488   \n",
       "..                   ...                       ...                   ...   \n",
       "151                  152                    Rwanda                 3.334   \n",
       "152                  153                  Tanzania                 3.231   \n",
       "153                  154               Afghanistan                 3.203   \n",
       "154                  155  Central African Republic                 3.083   \n",
       "155                  156               South Sudan                 2.853   \n",
       "\n",
       "     GDP per Capita 2019  Social support 2019  Healthy life expectancy 2019   \n",
       "0                  1.340                1.587                         0.986  \\\n",
       "1                  1.383                1.573                         0.996   \n",
       "2                  1.488                1.582                         1.028   \n",
       "3                  1.380                1.624                         1.026   \n",
       "4                  1.396                1.522                         0.999   \n",
       "..                   ...                  ...                           ...   \n",
       "151                0.359                0.711                         0.614   \n",
       "152                0.476                0.885                         0.499   \n",
       "153                0.350                0.517                         0.361   \n",
       "154                0.026                0.000                         0.105   \n",
       "155                0.306                0.575                         0.295   \n",
       "\n",
       "     Freedom to make life choices 2019  Generosity 2019   \n",
       "0                                0.596            0.153  \\\n",
       "1                                0.592            0.252   \n",
       "2                                0.603            0.271   \n",
       "3                                0.591            0.354   \n",
       "4                                0.557            0.322   \n",
       "..                                 ...              ...   \n",
       "151                              0.555            0.217   \n",
       "152                              0.417            0.276   \n",
       "153                              0.000            0.158   \n",
       "154                              0.225            0.235   \n",
       "155                              0.010            0.202   \n",
       "\n",
       "     Perceptions of corruption 2019  \n",
       "0                             0.393  \n",
       "1                             0.410  \n",
       "2                             0.341  \n",
       "3                             0.118  \n",
       "4                             0.298  \n",
       "..                              ...  \n",
       "151                           0.411  \n",
       "152                           0.147  \n",
       "153                           0.025  \n",
       "154                           0.035  \n",
       "155                           0.091  \n",
       "\n",
       "[156 rows x 9 columns]"
      ]
     },
     "execution_count": 36,
     "metadata": {},
     "output_type": "execute_result"
    }
   ],
   "source": [
    "df2019"
   ]
  },
  {
   "cell_type": "code",
   "execution_count": 37,
   "id": "d24451da",
   "metadata": {},
   "outputs": [],
   "source": [
    "df2019_countries = list(df2019['Country'].values)\n",
    "df_countries = list(df['Country'].values)"
   ]
  },
  {
   "cell_type": "code",
   "execution_count": 38,
   "id": "0a2589e5",
   "metadata": {},
   "outputs": [
    {
     "name": "stdout",
     "output_type": "stream",
     "text": [
      "['Oman', 'Suriname', 'Trinidad and Tobago', 'North Cyprus', 'Macedonia', 'Sudan', 'Democratic Republic of the Congo', 'Djibouti', 'Angola', 'Republic of the Congo', 'Kiribati', 'Maldives', 'Tuvalu', 'Palau', 'Marshall Islands', 'Seychelles', 'Brunei', 'Saint Vincent and the Grenadines', 'Guinea-Bissau', 'Samoa', 'Grenada', 'Barbados', 'Guyana', 'Federated States of Micronesia', 'Antigua and Barbuda', 'Solomon Islands', 'Eritrea', 'Saint Lucia', 'Belize', 'Timor-Leste', 'Papua New Guinea', 'Tonga', 'Cuba', 'Bahamas', 'Equatorial Guinea', 'Saint Kitts and Nevis', 'Fiji', 'Vanuatu', 'São Tomé and Príncipe', 'Cape Verde', 'Dominica', 'Monaco', 'San Marino', 'Andorra', 'Liechtenstein', 'North Korea']\n"
     ]
    }
   ],
   "source": [
    "df_remaining_countries=[]\n",
    "df2019_remaining_countries=[]\n",
    "\n",
    "for i in df_countries:\n",
    "    if i not in df2019_countries:\n",
    "        df_remaining_countries.append(i)\n",
    "        \n",
    "for i in df2019_countries:\n",
    "    if i not in df_countries:\n",
    "        df2019_remaining_countries.append(i)\n",
    "        \n",
    "print(df_remaining_countries)"
   ]
  },
  {
   "cell_type": "code",
   "execution_count": 39,
   "id": "1b2d7766",
   "metadata": {},
   "outputs": [
    {
     "name": "stdout",
     "output_type": "stream",
     "text": [
      "['Trinidad & Tobago', 'Northern Cyprus', 'North Macedonia', 'Congo (Brazzaville)', 'Congo (Kinshasa)', 'South Sudan']\n"
     ]
    }
   ],
   "source": [
    "print(df2019_remaining_countries)"
   ]
  },
  {
   "cell_type": "markdown",
   "id": "f07be232",
   "metadata": {},
   "source": [
    "mask_Cyprus = df2019['Country'].str.contains('Northern Cyprus', case=False)\n",
    "df2019.loc[mask_Cyprus, 'Country'] = 'North Cyprus'"
   ]
  },
  {
   "cell_type": "code",
   "execution_count": 40,
   "id": "527f7bd6",
   "metadata": {},
   "outputs": [],
   "source": [
    "mask_Congo = df2019['Country'].str.contains('Brazzaville', case=False)\n",
    "df2019.loc[mask_Congo, 'Country'] = 'Republic of the Congo'"
   ]
  },
  {
   "cell_type": "code",
   "execution_count": 41,
   "id": "4a0e94bb",
   "metadata": {},
   "outputs": [],
   "source": [
    "mask_Sudan = df2019['Country'].str.contains('Sudan', case=False)\n",
    "df2019.loc[mask_Sudan, 'Country'] = 'Sudan'"
   ]
  },
  {
   "cell_type": "code",
   "execution_count": 42,
   "id": "1d7568a8",
   "metadata": {},
   "outputs": [],
   "source": [
    "mask_Democratic = df2019['Country'].str.contains('Kinshasa', case=False)\n",
    "df2019.loc[mask_Democratic, 'Country'] = 'Democratic Republic of the Congo'"
   ]
  },
  {
   "cell_type": "code",
   "execution_count": 43,
   "id": "719a80a1",
   "metadata": {},
   "outputs": [],
   "source": [
    "mask_Trinidad = df2019['Country'].str.contains('Trinidad & Tobago', case=False)\n",
    "df2019.loc[mask_Trinidad, 'Country'] = 'Trinidad and Tobago'"
   ]
  },
  {
   "cell_type": "code",
   "execution_count": 44,
   "id": "805a054c",
   "metadata": {},
   "outputs": [],
   "source": [
    "mask_Macedonia = df2019['Country'].str.contains('Macedonia', case=False)\n",
    "df2019.loc[mask_Macedonia, 'Country'] = 'Macedonia'"
   ]
  },
  {
   "cell_type": "code",
   "execution_count": 45,
   "id": "e43dce57",
   "metadata": {},
   "outputs": [],
   "source": [
    "mask_Somalia = df2019['Country'].str.contains('Somaliland', case=False)\n",
    "df2019.loc[mask_Somalia, 'Country'] = 'Somalia'"
   ]
  },
  {
   "cell_type": "code",
   "execution_count": 46,
   "id": "029d2ff3",
   "metadata": {},
   "outputs": [],
   "source": [
    "mask_Cyprus = df2019['Country'].str.contains('Northern Cyprus', case=False)\n",
    "df2019.loc[mask_Cyprus, 'Country'] = 'North Cyprus'\n"
   ]
  },
  {
   "cell_type": "code",
   "execution_count": 47,
   "id": "e68268e4",
   "metadata": {},
   "outputs": [
    {
     "data": {
      "text/html": [
       "<div>\n",
       "<style scoped>\n",
       "    .dataframe tbody tr th:only-of-type {\n",
       "        vertical-align: middle;\n",
       "    }\n",
       "\n",
       "    .dataframe tbody tr th {\n",
       "        vertical-align: top;\n",
       "    }\n",
       "\n",
       "    .dataframe thead th {\n",
       "        text-align: right;\n",
       "    }\n",
       "</style>\n",
       "<table border=\"1\" class=\"dataframe\">\n",
       "  <thead>\n",
       "    <tr style=\"text-align: right;\">\n",
       "      <th></th>\n",
       "      <th>Country</th>\n",
       "      <th>Happiness.Rank</th>\n",
       "      <th>Happiness.Score</th>\n",
       "      <th>Whisker.high</th>\n",
       "      <th>Whisker.low</th>\n",
       "      <th>Economy..GDP.per.Capita.</th>\n",
       "      <th>Family</th>\n",
       "      <th>Health..Life.Expectancy.</th>\n",
       "      <th>Freedom</th>\n",
       "      <th>Generosity</th>\n",
       "      <th>Trust..Government.Corruption.</th>\n",
       "      <th>Dystopia.Residual</th>\n",
       "    </tr>\n",
       "  </thead>\n",
       "  <tbody>\n",
       "    <tr>\n",
       "      <th>48</th>\n",
       "      <td>Russia</td>\n",
       "      <td>49</td>\n",
       "      <td>5.963</td>\n",
       "      <td>6.030275</td>\n",
       "      <td>5.895725</td>\n",
       "      <td>1.281778</td>\n",
       "      <td>1.469282</td>\n",
       "      <td>0.547349</td>\n",
       "      <td>0.373783</td>\n",
       "      <td>0.052264</td>\n",
       "      <td>0.032963</td>\n",
       "      <td>2.205607</td>\n",
       "    </tr>\n",
       "  </tbody>\n",
       "</table>\n",
       "</div>"
      ],
      "text/plain": [
       "   Country  Happiness.Rank  Happiness.Score  Whisker.high  Whisker.low   \n",
       "48  Russia              49            5.963      6.030275     5.895725  \\\n",
       "\n",
       "    Economy..GDP.per.Capita.    Family  Health..Life.Expectancy.   Freedom   \n",
       "48                  1.281778  1.469282                  0.547349  0.373783  \\\n",
       "\n",
       "    Generosity  Trust..Government.Corruption.  Dystopia.Residual  \n",
       "48    0.052264                       0.032963           2.205607  "
      ]
     },
     "execution_count": 47,
     "metadata": {},
     "output_type": "execute_result"
    }
   ],
   "source": [
    "df2017.sample()"
   ]
  },
  {
   "cell_type": "code",
   "execution_count": 48,
   "id": "11a8b7b1",
   "metadata": {},
   "outputs": [],
   "source": [
    "df2017 = df2017.add_suffix(' 2017')"
   ]
  },
  {
   "cell_type": "code",
   "execution_count": 49,
   "id": "a9db7283",
   "metadata": {},
   "outputs": [],
   "source": [
    "df2017.rename(columns = {\"Country 2017\" : \"Country\", \"Happiness.Rank 2017\" :\"Happiness Rank 2017\", \"Happiness.Score 2017\" : \"Happiness Score 2017\", \"Economy..GDP.per.Capita. 2017\": \"GDP per Capita 2017\"}, inplace=True)"
   ]
  },
  {
   "cell_type": "code",
   "execution_count": 50,
   "id": "a5587857",
   "metadata": {},
   "outputs": [],
   "source": [
    "df2017_countries = list(df2017['Country'].values)\n",
    "df_countries = list(df['Country'].values)"
   ]
  },
  {
   "cell_type": "code",
   "execution_count": 51,
   "id": "c1fcb031",
   "metadata": {},
   "outputs": [
    {
     "name": "stdout",
     "output_type": "stream",
     "text": [
      "['Oman', 'Taiwan', 'Suriname', 'Hong Kong', 'Laos', 'Swaziland', 'Democratic Republic of the Congo', 'Djibouti', 'Republic of the Congo', 'Comoros', 'Kiribati', 'Maldives', 'Tuvalu', 'Palau', 'Gambia', 'Marshall Islands', 'Seychelles', 'Brunei', 'Saint Vincent and the Grenadines', 'Guinea-Bissau', 'Samoa', 'Grenada', 'Barbados', 'Guyana', 'Federated States of Micronesia', 'Antigua and Barbuda', 'Solomon Islands', 'Eritrea', 'Saint Lucia', 'Timor-Leste', 'Papua New Guinea', 'Tonga', 'Cuba', 'Bahamas', 'Equatorial Guinea', 'Saint Kitts and Nevis', 'Fiji', 'Vanuatu', 'São Tomé and Príncipe', 'Cape Verde', 'Dominica', 'Monaco', 'San Marino', 'Andorra', 'Liechtenstein', 'North Korea']\n"
     ]
    }
   ],
   "source": [
    "df_remaining_countries=[]\n",
    "df2017_remaining_countries=[]\n",
    "\n",
    "for i in df_countries:\n",
    "    if i not in df2017_countries:\n",
    "        df_remaining_countries.append(i)\n",
    "        \n",
    "for i in df2017_countries:\n",
    "    if i not in df_countries:\n",
    "        df2017_remaining_countries.append(i)\n",
    "        \n",
    "print(df_remaining_countries)"
   ]
  },
  {
   "cell_type": "code",
   "execution_count": 52,
   "id": "73e287cd",
   "metadata": {},
   "outputs": [
    {
     "name": "stdout",
     "output_type": "stream",
     "text": [
      "['Taiwan Province of China', 'Hong Kong S.A.R., China', 'Congo (Brazzaville)', 'Congo (Kinshasa)', 'South Sudan']\n"
     ]
    }
   ],
   "source": [
    "print(df2017_remaining_countries)"
   ]
  },
  {
   "cell_type": "code",
   "execution_count": 53,
   "id": "871f515b",
   "metadata": {},
   "outputs": [],
   "source": [
    "mask_Taiwan = df2017['Country'].str.contains('Taiwan', case=False)\n",
    "df2017.loc[mask_Taiwan, 'Country'] = 'Taiwan'"
   ]
  },
  {
   "cell_type": "code",
   "execution_count": 54,
   "id": "70c89209",
   "metadata": {},
   "outputs": [],
   "source": [
    "mask_HongKong = df2017['Country'].str.contains('Hong Kong', case=False)\n",
    "df2017.loc[mask_HongKong, 'Country'] = 'Hong Kong'"
   ]
  },
  {
   "cell_type": "code",
   "execution_count": 55,
   "id": "5f04ed71",
   "metadata": {},
   "outputs": [],
   "source": [
    "mask_Democratic = df2017['Country'].str.contains('Kinshasa', case=False)\n",
    "df2017.loc[mask_Democratic, 'Country'] = 'Democratic Republic of the Congo'"
   ]
  },
  {
   "cell_type": "code",
   "execution_count": 56,
   "id": "a4e653a9",
   "metadata": {},
   "outputs": [],
   "source": [
    "mask_Congo = df2017['Country'].str.contains('Brazzaville', case=False)\n",
    "df2017.loc[mask_Congo, 'Country'] = 'Republic of the Congo'"
   ]
  },
  {
   "cell_type": "code",
   "execution_count": 57,
   "id": "d6732a35",
   "metadata": {},
   "outputs": [
    {
     "data": {
      "text/html": [
       "<div>\n",
       "<style scoped>\n",
       "    .dataframe tbody tr th:only-of-type {\n",
       "        vertical-align: middle;\n",
       "    }\n",
       "\n",
       "    .dataframe tbody tr th {\n",
       "        vertical-align: top;\n",
       "    }\n",
       "\n",
       "    .dataframe thead th {\n",
       "        text-align: right;\n",
       "    }\n",
       "</style>\n",
       "<table border=\"1\" class=\"dataframe\">\n",
       "  <thead>\n",
       "    <tr style=\"text-align: right;\">\n",
       "      <th></th>\n",
       "      <th>ï»¿Country name</th>\n",
       "      <th>Regional indicator</th>\n",
       "      <th>Ladder score</th>\n",
       "      <th>Standard error of ladder score</th>\n",
       "      <th>upperwhisker</th>\n",
       "      <th>lowerwhisker</th>\n",
       "      <th>Logged GDP per capita</th>\n",
       "      <th>Social support</th>\n",
       "      <th>Healthy life expectancy</th>\n",
       "      <th>Freedom to make life choices</th>\n",
       "      <th>Generosity</th>\n",
       "      <th>Perceptions of corruption</th>\n",
       "      <th>Ladder score in Dystopia</th>\n",
       "      <th>Explained by: Log GDP per capita</th>\n",
       "      <th>Explained by: Social support</th>\n",
       "      <th>Explained by: Healthy life expectancy</th>\n",
       "      <th>Explained by: Freedom to make life choices</th>\n",
       "      <th>Explained by: Generosity</th>\n",
       "      <th>Explained by: Perceptions of corruption</th>\n",
       "      <th>Dystopia + residual</th>\n",
       "    </tr>\n",
       "  </thead>\n",
       "  <tbody>\n",
       "    <tr>\n",
       "      <th>51</th>\n",
       "      <td>Colombia</td>\n",
       "      <td>Latin America and Caribbean</td>\n",
       "      <td>6.012</td>\n",
       "      <td>0.061</td>\n",
       "      <td>6.132</td>\n",
       "      <td>5.892</td>\n",
       "      <td>9.557</td>\n",
       "      <td>0.847</td>\n",
       "      <td>68.001</td>\n",
       "      <td>0.837</td>\n",
       "      <td>-0.135</td>\n",
       "      <td>0.841</td>\n",
       "      <td>2.43</td>\n",
       "      <td>1.021</td>\n",
       "      <td>0.866</td>\n",
       "      <td>0.615</td>\n",
       "      <td>0.554</td>\n",
       "      <td>0.1</td>\n",
       "      <td>0.063</td>\n",
       "      <td>2.794</td>\n",
       "    </tr>\n",
       "  </tbody>\n",
       "</table>\n",
       "</div>"
      ],
      "text/plain": [
       "   ï»¿Country name           Regional indicator  Ladder score   \n",
       "51        Colombia  Latin America and Caribbean         6.012  \\\n",
       "\n",
       "    Standard error of ladder score  upperwhisker  lowerwhisker   \n",
       "51                           0.061         6.132         5.892  \\\n",
       "\n",
       "    Logged GDP per capita  Social support  Healthy life expectancy   \n",
       "51                  9.557           0.847                   68.001  \\\n",
       "\n",
       "    Freedom to make life choices  Generosity  Perceptions of corruption   \n",
       "51                         0.837      -0.135                      0.841  \\\n",
       "\n",
       "    Ladder score in Dystopia  Explained by: Log GDP per capita   \n",
       "51                      2.43                             1.021  \\\n",
       "\n",
       "    Explained by: Social support  Explained by: Healthy life expectancy   \n",
       "51                         0.866                                  0.615  \\\n",
       "\n",
       "    Explained by: Freedom to make life choices  Explained by: Generosity   \n",
       "51                                       0.554                       0.1  \\\n",
       "\n",
       "    Explained by: Perceptions of corruption  Dystopia + residual  \n",
       "51                                    0.063                2.794  "
      ]
     },
     "execution_count": 57,
     "metadata": {},
     "output_type": "execute_result"
    }
   ],
   "source": [
    "df2021.sample()"
   ]
  },
  {
   "cell_type": "code",
   "execution_count": null,
   "id": "b58ab5fa",
   "metadata": {},
   "outputs": [],
   "source": []
  },
  {
   "cell_type": "code",
   "execution_count": 58,
   "id": "65e78f29",
   "metadata": {},
   "outputs": [],
   "source": [
    "df2021 = df2021.add_suffix(' 2021')"
   ]
  },
  {
   "cell_type": "code",
   "execution_count": 59,
   "id": "7c2d1f9a",
   "metadata": {},
   "outputs": [
    {
     "data": {
      "text/plain": [
       "Index(['ï»¿Country name 2021', 'Regional indicator 2021', 'Ladder score 2021',\n",
       "       'Standard error of ladder score 2021', 'upperwhisker 2021',\n",
       "       'lowerwhisker 2021', 'Logged GDP per capita 2021',\n",
       "       'Social support 2021', 'Healthy life expectancy 2021',\n",
       "       'Freedom to make life choices 2021', 'Generosity 2021',\n",
       "       'Perceptions of corruption 2021', 'Ladder score in Dystopia 2021',\n",
       "       'Explained by: Log GDP per capita 2021',\n",
       "       'Explained by: Social support 2021',\n",
       "       'Explained by: Healthy life expectancy 2021',\n",
       "       'Explained by: Freedom to make life choices 2021',\n",
       "       'Explained by: Generosity 2021',\n",
       "       'Explained by: Perceptions of corruption 2021',\n",
       "       'Dystopia + residual 2021'],\n",
       "      dtype='object')"
      ]
     },
     "execution_count": 59,
     "metadata": {},
     "output_type": "execute_result"
    }
   ],
   "source": [
    "df2021.columns"
   ]
  },
  {
   "cell_type": "code",
   "execution_count": 60,
   "id": "4ee31ca6",
   "metadata": {},
   "outputs": [],
   "source": [
    "df2021.rename(columns = {\"ï»¿Country name 2021\" : \"Country\", \"Ladder score 2021\": \"Happiness Score 2021\", \"Explained by: Log GDP per capita 2021\":\"GDP per Capita 2021\"}, inplace=True)"
   ]
  },
  {
   "cell_type": "code",
   "execution_count": 61,
   "id": "d28b378d",
   "metadata": {},
   "outputs": [],
   "source": [
    "df2021_countries = list(df2021['Country'].values)\n",
    "df_countries = list(df['Country'].values)"
   ]
  },
  {
   "cell_type": "code",
   "execution_count": 62,
   "id": "55534df2",
   "metadata": {},
   "outputs": [
    {
     "name": "stdout",
     "output_type": "stream",
     "text": [
      "['Oman', 'Qatar', 'Taiwan', 'Suriname', 'Trinidad and Tobago', 'Hong Kong', 'Bhutan', 'Somalia', 'Macedonia', 'Sudan', 'Democratic Republic of the Congo', 'Djibouti', 'Angola', 'Republic of the Congo', 'Central African Republic', 'Syria', 'Kiribati', 'Tuvalu', 'Palau', 'Marshall Islands', 'Seychelles', 'Brunei', 'Saint Vincent and the Grenadines', 'Guinea-Bissau', 'Samoa', 'Grenada', 'Barbados', 'Guyana', 'Federated States of Micronesia', 'Antigua and Barbuda', 'Solomon Islands', 'Eritrea', 'Saint Lucia', 'Belize', 'Timor-Leste', 'Papua New Guinea', 'Tonga', 'Cuba', 'Bahamas', 'Equatorial Guinea', 'Saint Kitts and Nevis', 'Fiji', 'Vanuatu', 'São Tomé and Príncipe', 'Cape Verde', 'Dominica', 'Monaco', 'San Marino', 'Andorra', 'Liechtenstein', 'North Korea']\n"
     ]
    }
   ],
   "source": [
    "df_remaining_countries=[]\n",
    "df2021_remaining_countries=[]\n",
    "\n",
    "for i in df_countries:\n",
    "    if i not in df2021_countries:\n",
    "        df_remaining_countries.append(i)\n",
    "        \n",
    "for i in df2021_countries:\n",
    "    if i not in df_countries:\n",
    "        df2021_remaining_countries.append(i)\n",
    "        \n",
    "print(df_remaining_countries)"
   ]
  },
  {
   "cell_type": "code",
   "execution_count": 63,
   "id": "e8357ca8",
   "metadata": {},
   "outputs": [
    {
     "name": "stdout",
     "output_type": "stream",
     "text": [
      "['Taiwan Province of China', 'Hong Kong S.A.R. of China', 'Congo (Brazzaville)', 'North Macedonia']\n"
     ]
    }
   ],
   "source": [
    "print(df2021_remaining_countries)"
   ]
  },
  {
   "cell_type": "code",
   "execution_count": 64,
   "id": "0849b47f",
   "metadata": {},
   "outputs": [],
   "source": [
    "mask_Taiwan = df2021['Country'].str.contains('Taiwan', case=False)\n",
    "df2021.loc[mask_Taiwan, 'Country'] = 'Taiwan'"
   ]
  },
  {
   "cell_type": "code",
   "execution_count": 65,
   "id": "f23430d3",
   "metadata": {},
   "outputs": [],
   "source": [
    "mask_Congo = df2021['Country'].str.contains('Brazzaville', case=False)\n",
    "df2021.loc[mask_Congo, 'Country'] = 'Republic of the Congo'"
   ]
  },
  {
   "cell_type": "code",
   "execution_count": 66,
   "id": "a0a054ff",
   "metadata": {},
   "outputs": [],
   "source": [
    "mask_HongKong = df2021['Country'].str.contains('Hong Kong', case=False)\n",
    "df2021.loc[mask_HongKong, 'Country'] = 'Hong Kong'"
   ]
  },
  {
   "cell_type": "code",
   "execution_count": 67,
   "id": "1aa3a2d5",
   "metadata": {},
   "outputs": [],
   "source": [
    "mask_Macedonia = df2021['Country'].str.contains('Macedonia', case=False)\n",
    "df2021.loc[mask_Macedonia, 'Country'] = 'Macedonia'"
   ]
  },
  {
   "cell_type": "code",
   "execution_count": 68,
   "id": "c56a5846",
   "metadata": {},
   "outputs": [],
   "source": [
    "df.drop(columns=[\"Region\", \"Standard Error 2015\", \"Family 2015\", \"Health (Life Expectancy) 2015\", \"Freedom 2015\", \"Trust (Government Corruption) 2015\", \"Generosity 2015\", \"Dystopia Residual 2015\"], axis=1, inplace=True)"
   ]
  },
  {
   "cell_type": "code",
   "execution_count": 69,
   "id": "8d5184df",
   "metadata": {},
   "outputs": [
    {
     "data": {
      "text/html": [
       "<div>\n",
       "<style scoped>\n",
       "    .dataframe tbody tr th:only-of-type {\n",
       "        vertical-align: middle;\n",
       "    }\n",
       "\n",
       "    .dataframe tbody tr th {\n",
       "        vertical-align: top;\n",
       "    }\n",
       "\n",
       "    .dataframe thead th {\n",
       "        text-align: right;\n",
       "    }\n",
       "</style>\n",
       "<table border=\"1\" class=\"dataframe\">\n",
       "  <thead>\n",
       "    <tr style=\"text-align: right;\">\n",
       "      <th></th>\n",
       "      <th>Country</th>\n",
       "      <th>Happiness Rank 2015</th>\n",
       "      <th>Happiness Score 2015</th>\n",
       "      <th>GDP per Capita 2015</th>\n",
       "      <th>Average yearly temperature</th>\n",
       "    </tr>\n",
       "  </thead>\n",
       "  <tbody>\n",
       "    <tr>\n",
       "      <th>0</th>\n",
       "      <td>Switzerland</td>\n",
       "      <td>1.0</td>\n",
       "      <td>7.587</td>\n",
       "      <td>1.39651</td>\n",
       "      <td>05.10</td>\n",
       "    </tr>\n",
       "    <tr>\n",
       "      <th>1</th>\n",
       "      <td>Iceland</td>\n",
       "      <td>2.0</td>\n",
       "      <td>7.561</td>\n",
       "      <td>1.30232</td>\n",
       "      <td>−0.70</td>\n",
       "    </tr>\n",
       "    <tr>\n",
       "      <th>2</th>\n",
       "      <td>Denmark</td>\n",
       "      <td>3.0</td>\n",
       "      <td>7.527</td>\n",
       "      <td>1.32548</td>\n",
       "      <td>−3.70</td>\n",
       "    </tr>\n",
       "    <tr>\n",
       "      <th>3</th>\n",
       "      <td>Norway</td>\n",
       "      <td>4.0</td>\n",
       "      <td>7.522</td>\n",
       "      <td>1.45900</td>\n",
       "      <td>01.50</td>\n",
       "    </tr>\n",
       "    <tr>\n",
       "      <th>4</th>\n",
       "      <td>Canada</td>\n",
       "      <td>5.0</td>\n",
       "      <td>7.427</td>\n",
       "      <td>1.32629</td>\n",
       "      <td>−5.10</td>\n",
       "    </tr>\n",
       "  </tbody>\n",
       "</table>\n",
       "</div>"
      ],
      "text/plain": [
       "       Country  Happiness Rank 2015  Happiness Score 2015   \n",
       "0  Switzerland                  1.0                 7.587  \\\n",
       "1      Iceland                  2.0                 7.561   \n",
       "2      Denmark                  3.0                 7.527   \n",
       "3       Norway                  4.0                 7.522   \n",
       "4       Canada                  5.0                 7.427   \n",
       "\n",
       "   GDP per Capita 2015 Average yearly temperature  \n",
       "0              1.39651                      05.10  \n",
       "1              1.30232                      −0.70  \n",
       "2              1.32548                      −3.70  \n",
       "3              1.45900                      01.50  \n",
       "4              1.32629                      −5.10  "
      ]
     },
     "execution_count": 69,
     "metadata": {},
     "output_type": "execute_result"
    }
   ],
   "source": [
    "df.head()"
   ]
  },
  {
   "cell_type": "code",
   "execution_count": 70,
   "id": "215b23ab",
   "metadata": {},
   "outputs": [],
   "source": [
    "df2017.drop(columns=[\"Whisker.high 2017\", \"Whisker.low 2017\", \"Family 2017\", \"Health..Life.Expectancy. 2017\", \"Freedom 2017\", \"Generosity 2017\", \"Trust..Government.Corruption. 2017\", \"Dystopia.Residual 2017\"], axis=1, inplace=True)"
   ]
  },
  {
   "cell_type": "code",
   "execution_count": 71,
   "id": "8d308692",
   "metadata": {},
   "outputs": [
    {
     "data": {
      "text/html": [
       "<div>\n",
       "<style scoped>\n",
       "    .dataframe tbody tr th:only-of-type {\n",
       "        vertical-align: middle;\n",
       "    }\n",
       "\n",
       "    .dataframe tbody tr th {\n",
       "        vertical-align: top;\n",
       "    }\n",
       "\n",
       "    .dataframe thead th {\n",
       "        text-align: right;\n",
       "    }\n",
       "</style>\n",
       "<table border=\"1\" class=\"dataframe\">\n",
       "  <thead>\n",
       "    <tr style=\"text-align: right;\">\n",
       "      <th></th>\n",
       "      <th>Country</th>\n",
       "      <th>Happiness Rank 2017</th>\n",
       "      <th>Happiness Score 2017</th>\n",
       "      <th>GDP per Capita 2017</th>\n",
       "    </tr>\n",
       "  </thead>\n",
       "  <tbody>\n",
       "    <tr>\n",
       "      <th>0</th>\n",
       "      <td>Norway</td>\n",
       "      <td>1</td>\n",
       "      <td>7.537</td>\n",
       "      <td>1.616463</td>\n",
       "    </tr>\n",
       "    <tr>\n",
       "      <th>1</th>\n",
       "      <td>Denmark</td>\n",
       "      <td>2</td>\n",
       "      <td>7.522</td>\n",
       "      <td>1.482383</td>\n",
       "    </tr>\n",
       "    <tr>\n",
       "      <th>2</th>\n",
       "      <td>Iceland</td>\n",
       "      <td>3</td>\n",
       "      <td>7.504</td>\n",
       "      <td>1.480633</td>\n",
       "    </tr>\n",
       "    <tr>\n",
       "      <th>3</th>\n",
       "      <td>Switzerland</td>\n",
       "      <td>4</td>\n",
       "      <td>7.494</td>\n",
       "      <td>1.564980</td>\n",
       "    </tr>\n",
       "    <tr>\n",
       "      <th>4</th>\n",
       "      <td>Finland</td>\n",
       "      <td>5</td>\n",
       "      <td>7.469</td>\n",
       "      <td>1.443572</td>\n",
       "    </tr>\n",
       "  </tbody>\n",
       "</table>\n",
       "</div>"
      ],
      "text/plain": [
       "       Country  Happiness Rank 2017  Happiness Score 2017  GDP per Capita 2017\n",
       "0       Norway                    1                 7.537             1.616463\n",
       "1      Denmark                    2                 7.522             1.482383\n",
       "2      Iceland                    3                 7.504             1.480633\n",
       "3  Switzerland                    4                 7.494             1.564980\n",
       "4      Finland                    5                 7.469             1.443572"
      ]
     },
     "execution_count": 71,
     "metadata": {},
     "output_type": "execute_result"
    }
   ],
   "source": [
    "df2017.head()"
   ]
  },
  {
   "cell_type": "code",
   "execution_count": 72,
   "id": "1b474791",
   "metadata": {},
   "outputs": [],
   "source": [
    "df2019.drop(columns=[\"Social support 2019\", \"Freedom to make life choices 2019\", \"Generosity 2019\", \"Perceptions of corruption 2019\",\"Healthy life expectancy 2019\"], axis=1, inplace=True)"
   ]
  },
  {
   "cell_type": "code",
   "execution_count": 73,
   "id": "2500741d",
   "metadata": {},
   "outputs": [
    {
     "data": {
      "text/html": [
       "<div>\n",
       "<style scoped>\n",
       "    .dataframe tbody tr th:only-of-type {\n",
       "        vertical-align: middle;\n",
       "    }\n",
       "\n",
       "    .dataframe tbody tr th {\n",
       "        vertical-align: top;\n",
       "    }\n",
       "\n",
       "    .dataframe thead th {\n",
       "        text-align: right;\n",
       "    }\n",
       "</style>\n",
       "<table border=\"1\" class=\"dataframe\">\n",
       "  <thead>\n",
       "    <tr style=\"text-align: right;\">\n",
       "      <th></th>\n",
       "      <th>Happiness Rank 2019</th>\n",
       "      <th>Country</th>\n",
       "      <th>Happiness Score 2019</th>\n",
       "      <th>GDP per Capita 2019</th>\n",
       "    </tr>\n",
       "  </thead>\n",
       "  <tbody>\n",
       "    <tr>\n",
       "      <th>0</th>\n",
       "      <td>1</td>\n",
       "      <td>Finland</td>\n",
       "      <td>7.769</td>\n",
       "      <td>1.340</td>\n",
       "    </tr>\n",
       "    <tr>\n",
       "      <th>1</th>\n",
       "      <td>2</td>\n",
       "      <td>Denmark</td>\n",
       "      <td>7.600</td>\n",
       "      <td>1.383</td>\n",
       "    </tr>\n",
       "    <tr>\n",
       "      <th>2</th>\n",
       "      <td>3</td>\n",
       "      <td>Norway</td>\n",
       "      <td>7.554</td>\n",
       "      <td>1.488</td>\n",
       "    </tr>\n",
       "    <tr>\n",
       "      <th>3</th>\n",
       "      <td>4</td>\n",
       "      <td>Iceland</td>\n",
       "      <td>7.494</td>\n",
       "      <td>1.380</td>\n",
       "    </tr>\n",
       "    <tr>\n",
       "      <th>4</th>\n",
       "      <td>5</td>\n",
       "      <td>Netherlands</td>\n",
       "      <td>7.488</td>\n",
       "      <td>1.396</td>\n",
       "    </tr>\n",
       "  </tbody>\n",
       "</table>\n",
       "</div>"
      ],
      "text/plain": [
       "   Happiness Rank 2019      Country  Happiness Score 2019  GDP per Capita 2019\n",
       "0                    1      Finland                 7.769                1.340\n",
       "1                    2      Denmark                 7.600                1.383\n",
       "2                    3       Norway                 7.554                1.488\n",
       "3                    4      Iceland                 7.494                1.380\n",
       "4                    5  Netherlands                 7.488                1.396"
      ]
     },
     "execution_count": 73,
     "metadata": {},
     "output_type": "execute_result"
    }
   ],
   "source": [
    "df2019.head()"
   ]
  },
  {
   "cell_type": "code",
   "execution_count": 74,
   "id": "621c6247",
   "metadata": {},
   "outputs": [],
   "source": [
    "df2021.drop(columns=[\"Regional indicator 2021\", \"Standard error of ladder score 2021\", \"upperwhisker 2021\", \"lowerwhisker 2021\",\"Social support 2021\",\"Healthy life expectancy 2021\", \"Freedom to make life choices 2021\", \"Generosity 2021\", \"Perceptions of corruption 2021\", \"Ladder score in Dystopia 2021\", \"Explained by: Social support 2021\", \"Explained by: Healthy life expectancy 2021\", \"Explained by: Perceptions of corruption 2021\", \"Dystopia + residual 2021\" ], axis=1, inplace=True)"
   ]
  },
  {
   "cell_type": "code",
   "execution_count": 75,
   "id": "14ec197a",
   "metadata": {},
   "outputs": [],
   "source": [
    "df2021.drop(columns=[\"Explained by: Generosity 2021\", \"Explained by: Freedom to make life choices 2021\",\"Logged GDP per capita 2021\" ], axis=1, inplace=True)"
   ]
  },
  {
   "cell_type": "code",
   "execution_count": 76,
   "id": "b7d929ff",
   "metadata": {},
   "outputs": [
    {
     "data": {
      "text/html": [
       "<div>\n",
       "<style scoped>\n",
       "    .dataframe tbody tr th:only-of-type {\n",
       "        vertical-align: middle;\n",
       "    }\n",
       "\n",
       "    .dataframe tbody tr th {\n",
       "        vertical-align: top;\n",
       "    }\n",
       "\n",
       "    .dataframe thead th {\n",
       "        text-align: right;\n",
       "    }\n",
       "</style>\n",
       "<table border=\"1\" class=\"dataframe\">\n",
       "  <thead>\n",
       "    <tr style=\"text-align: right;\">\n",
       "      <th></th>\n",
       "      <th>Country</th>\n",
       "      <th>Happiness Score 2021</th>\n",
       "      <th>GDP per Capita 2021</th>\n",
       "    </tr>\n",
       "  </thead>\n",
       "  <tbody>\n",
       "    <tr>\n",
       "      <th>101</th>\n",
       "      <td>Guinea</td>\n",
       "      <td>4.984</td>\n",
       "      <td>0.42</td>\n",
       "    </tr>\n",
       "  </tbody>\n",
       "</table>\n",
       "</div>"
      ],
      "text/plain": [
       "    Country  Happiness Score 2021  GDP per Capita 2021\n",
       "101  Guinea                 4.984                 0.42"
      ]
     },
     "execution_count": 76,
     "metadata": {},
     "output_type": "execute_result"
    }
   ],
   "source": [
    "df2021.sample()"
   ]
  },
  {
   "cell_type": "code",
   "execution_count": 77,
   "id": "fa7c84f8",
   "metadata": {},
   "outputs": [],
   "source": [
    "df2021['Happiness Rank 2021'] = df2021['Happiness Score 2021'].rank(method='dense', ascending=False).astype(int)"
   ]
  },
  {
   "cell_type": "code",
   "execution_count": 78,
   "id": "19428f3f",
   "metadata": {},
   "outputs": [
    {
     "data": {
      "text/html": [
       "<div>\n",
       "<style scoped>\n",
       "    .dataframe tbody tr th:only-of-type {\n",
       "        vertical-align: middle;\n",
       "    }\n",
       "\n",
       "    .dataframe tbody tr th {\n",
       "        vertical-align: top;\n",
       "    }\n",
       "\n",
       "    .dataframe thead th {\n",
       "        text-align: right;\n",
       "    }\n",
       "</style>\n",
       "<table border=\"1\" class=\"dataframe\">\n",
       "  <thead>\n",
       "    <tr style=\"text-align: right;\">\n",
       "      <th></th>\n",
       "      <th>Country</th>\n",
       "      <th>Happiness Score 2021</th>\n",
       "      <th>GDP per Capita 2021</th>\n",
       "      <th>Happiness Rank 2021</th>\n",
       "    </tr>\n",
       "  </thead>\n",
       "  <tbody>\n",
       "    <tr>\n",
       "      <th>0</th>\n",
       "      <td>Finland</td>\n",
       "      <td>7.842</td>\n",
       "      <td>1.446</td>\n",
       "      <td>1</td>\n",
       "    </tr>\n",
       "    <tr>\n",
       "      <th>1</th>\n",
       "      <td>Denmark</td>\n",
       "      <td>7.620</td>\n",
       "      <td>1.502</td>\n",
       "      <td>2</td>\n",
       "    </tr>\n",
       "    <tr>\n",
       "      <th>2</th>\n",
       "      <td>Switzerland</td>\n",
       "      <td>7.571</td>\n",
       "      <td>1.566</td>\n",
       "      <td>3</td>\n",
       "    </tr>\n",
       "    <tr>\n",
       "      <th>3</th>\n",
       "      <td>Iceland</td>\n",
       "      <td>7.554</td>\n",
       "      <td>1.482</td>\n",
       "      <td>4</td>\n",
       "    </tr>\n",
       "    <tr>\n",
       "      <th>4</th>\n",
       "      <td>Netherlands</td>\n",
       "      <td>7.464</td>\n",
       "      <td>1.501</td>\n",
       "      <td>5</td>\n",
       "    </tr>\n",
       "  </tbody>\n",
       "</table>\n",
       "</div>"
      ],
      "text/plain": [
       "       Country  Happiness Score 2021  GDP per Capita 2021  Happiness Rank 2021\n",
       "0      Finland                 7.842                1.446                    1\n",
       "1      Denmark                 7.620                1.502                    2\n",
       "2  Switzerland                 7.571                1.566                    3\n",
       "3      Iceland                 7.554                1.482                    4\n",
       "4  Netherlands                 7.464                1.501                    5"
      ]
     },
     "execution_count": 78,
     "metadata": {},
     "output_type": "execute_result"
    }
   ],
   "source": [
    "df2021.head()"
   ]
  },
  {
   "cell_type": "code",
   "execution_count": null,
   "id": "35913800",
   "metadata": {},
   "outputs": [],
   "source": []
  },
  {
   "cell_type": "code",
   "execution_count": 79,
   "id": "a89c54a1",
   "metadata": {},
   "outputs": [],
   "source": [
    "merged_df = pd.merge(df, df2017, on='Country', how='outer')"
   ]
  },
  {
   "cell_type": "code",
   "execution_count": 80,
   "id": "0b054672",
   "metadata": {},
   "outputs": [],
   "source": [
    "merged_df2 = pd.merge(merged_df, df2019, on='Country', how='outer')"
   ]
  },
  {
   "cell_type": "code",
   "execution_count": 81,
   "id": "93c1d9e7",
   "metadata": {},
   "outputs": [],
   "source": [
    "merged_df3 = pd.merge(merged_df2, df2021, on='Country', how='outer')"
   ]
  },
  {
   "cell_type": "code",
   "execution_count": 82,
   "id": "ed6170d2",
   "metadata": {},
   "outputs": [
    {
     "data": {
      "text/html": [
       "<div>\n",
       "<style scoped>\n",
       "    .dataframe tbody tr th:only-of-type {\n",
       "        vertical-align: middle;\n",
       "    }\n",
       "\n",
       "    .dataframe tbody tr th {\n",
       "        vertical-align: top;\n",
       "    }\n",
       "\n",
       "    .dataframe thead th {\n",
       "        text-align: right;\n",
       "    }\n",
       "</style>\n",
       "<table border=\"1\" class=\"dataframe\">\n",
       "  <thead>\n",
       "    <tr style=\"text-align: right;\">\n",
       "      <th></th>\n",
       "      <th>Country</th>\n",
       "      <th>Happiness Rank 2015</th>\n",
       "      <th>Happiness Score 2015</th>\n",
       "      <th>GDP per Capita 2015</th>\n",
       "      <th>Average yearly temperature</th>\n",
       "      <th>Happiness Rank 2017</th>\n",
       "      <th>Happiness Score 2017</th>\n",
       "      <th>GDP per Capita 2017</th>\n",
       "      <th>Happiness Rank 2019</th>\n",
       "      <th>Happiness Score 2019</th>\n",
       "      <th>GDP per Capita 2019</th>\n",
       "      <th>Happiness Score 2021</th>\n",
       "      <th>GDP per Capita 2021</th>\n",
       "      <th>Happiness Rank 2021</th>\n",
       "    </tr>\n",
       "  </thead>\n",
       "  <tbody>\n",
       "    <tr>\n",
       "      <th>0</th>\n",
       "      <td>Switzerland</td>\n",
       "      <td>1.0</td>\n",
       "      <td>7.587</td>\n",
       "      <td>1.39651</td>\n",
       "      <td>05.10</td>\n",
       "      <td>4.0</td>\n",
       "      <td>7.494</td>\n",
       "      <td>1.564980</td>\n",
       "      <td>6.0</td>\n",
       "      <td>7.480</td>\n",
       "      <td>1.452</td>\n",
       "      <td>7.571</td>\n",
       "      <td>1.566</td>\n",
       "      <td>3.0</td>\n",
       "    </tr>\n",
       "    <tr>\n",
       "      <th>1</th>\n",
       "      <td>Iceland</td>\n",
       "      <td>2.0</td>\n",
       "      <td>7.561</td>\n",
       "      <td>1.30232</td>\n",
       "      <td>−0.70</td>\n",
       "      <td>3.0</td>\n",
       "      <td>7.504</td>\n",
       "      <td>1.480633</td>\n",
       "      <td>4.0</td>\n",
       "      <td>7.494</td>\n",
       "      <td>1.380</td>\n",
       "      <td>7.554</td>\n",
       "      <td>1.482</td>\n",
       "      <td>4.0</td>\n",
       "    </tr>\n",
       "    <tr>\n",
       "      <th>2</th>\n",
       "      <td>Denmark</td>\n",
       "      <td>3.0</td>\n",
       "      <td>7.527</td>\n",
       "      <td>1.32548</td>\n",
       "      <td>−3.70</td>\n",
       "      <td>2.0</td>\n",
       "      <td>7.522</td>\n",
       "      <td>1.482383</td>\n",
       "      <td>2.0</td>\n",
       "      <td>7.600</td>\n",
       "      <td>1.383</td>\n",
       "      <td>7.620</td>\n",
       "      <td>1.502</td>\n",
       "      <td>2.0</td>\n",
       "    </tr>\n",
       "    <tr>\n",
       "      <th>3</th>\n",
       "      <td>Norway</td>\n",
       "      <td>4.0</td>\n",
       "      <td>7.522</td>\n",
       "      <td>1.45900</td>\n",
       "      <td>01.50</td>\n",
       "      <td>1.0</td>\n",
       "      <td>7.537</td>\n",
       "      <td>1.616463</td>\n",
       "      <td>3.0</td>\n",
       "      <td>7.554</td>\n",
       "      <td>1.488</td>\n",
       "      <td>7.392</td>\n",
       "      <td>1.543</td>\n",
       "      <td>6.0</td>\n",
       "    </tr>\n",
       "    <tr>\n",
       "      <th>4</th>\n",
       "      <td>Canada</td>\n",
       "      <td>5.0</td>\n",
       "      <td>7.427</td>\n",
       "      <td>1.32629</td>\n",
       "      <td>−5.10</td>\n",
       "      <td>7.0</td>\n",
       "      <td>7.316</td>\n",
       "      <td>1.479204</td>\n",
       "      <td>9.0</td>\n",
       "      <td>7.278</td>\n",
       "      <td>1.365</td>\n",
       "      <td>7.103</td>\n",
       "      <td>1.447</td>\n",
       "      <td>14.0</td>\n",
       "    </tr>\n",
       "    <tr>\n",
       "      <th>...</th>\n",
       "      <td>...</td>\n",
       "      <td>...</td>\n",
       "      <td>...</td>\n",
       "      <td>...</td>\n",
       "      <td>...</td>\n",
       "      <td>...</td>\n",
       "      <td>...</td>\n",
       "      <td>...</td>\n",
       "      <td>...</td>\n",
       "      <td>...</td>\n",
       "      <td>...</td>\n",
       "      <td>...</td>\n",
       "      <td>...</td>\n",
       "      <td>...</td>\n",
       "    </tr>\n",
       "    <tr>\n",
       "      <th>192</th>\n",
       "      <td>San Marino</td>\n",
       "      <td>NaN</td>\n",
       "      <td>NaN</td>\n",
       "      <td>NaN</td>\n",
       "      <td>11.85</td>\n",
       "      <td>NaN</td>\n",
       "      <td>NaN</td>\n",
       "      <td>NaN</td>\n",
       "      <td>NaN</td>\n",
       "      <td>NaN</td>\n",
       "      <td>NaN</td>\n",
       "      <td>NaN</td>\n",
       "      <td>NaN</td>\n",
       "      <td>NaN</td>\n",
       "    </tr>\n",
       "    <tr>\n",
       "      <th>193</th>\n",
       "      <td>Andorra</td>\n",
       "      <td>NaN</td>\n",
       "      <td>NaN</td>\n",
       "      <td>NaN</td>\n",
       "      <td>07.60</td>\n",
       "      <td>NaN</td>\n",
       "      <td>NaN</td>\n",
       "      <td>NaN</td>\n",
       "      <td>NaN</td>\n",
       "      <td>NaN</td>\n",
       "      <td>NaN</td>\n",
       "      <td>NaN</td>\n",
       "      <td>NaN</td>\n",
       "      <td>NaN</td>\n",
       "    </tr>\n",
       "    <tr>\n",
       "      <th>194</th>\n",
       "      <td>Liechtenstein</td>\n",
       "      <td>NaN</td>\n",
       "      <td>NaN</td>\n",
       "      <td>NaN</td>\n",
       "      <td>05.80</td>\n",
       "      <td>NaN</td>\n",
       "      <td>NaN</td>\n",
       "      <td>NaN</td>\n",
       "      <td>NaN</td>\n",
       "      <td>NaN</td>\n",
       "      <td>NaN</td>\n",
       "      <td>NaN</td>\n",
       "      <td>NaN</td>\n",
       "      <td>NaN</td>\n",
       "    </tr>\n",
       "    <tr>\n",
       "      <th>195</th>\n",
       "      <td>North Korea</td>\n",
       "      <td>NaN</td>\n",
       "      <td>NaN</td>\n",
       "      <td>NaN</td>\n",
       "      <td>05.70</td>\n",
       "      <td>NaN</td>\n",
       "      <td>NaN</td>\n",
       "      <td>NaN</td>\n",
       "      <td>NaN</td>\n",
       "      <td>NaN</td>\n",
       "      <td>NaN</td>\n",
       "      <td>NaN</td>\n",
       "      <td>NaN</td>\n",
       "      <td>NaN</td>\n",
       "    </tr>\n",
       "    <tr>\n",
       "      <th>196</th>\n",
       "      <td>South Sudan</td>\n",
       "      <td>NaN</td>\n",
       "      <td>NaN</td>\n",
       "      <td>NaN</td>\n",
       "      <td>NaN</td>\n",
       "      <td>147.0</td>\n",
       "      <td>3.591</td>\n",
       "      <td>0.397249</td>\n",
       "      <td>NaN</td>\n",
       "      <td>NaN</td>\n",
       "      <td>NaN</td>\n",
       "      <td>NaN</td>\n",
       "      <td>NaN</td>\n",
       "      <td>NaN</td>\n",
       "    </tr>\n",
       "  </tbody>\n",
       "</table>\n",
       "<p>197 rows × 14 columns</p>\n",
       "</div>"
      ],
      "text/plain": [
       "           Country  Happiness Rank 2015  Happiness Score 2015   \n",
       "0      Switzerland                  1.0                 7.587  \\\n",
       "1          Iceland                  2.0                 7.561   \n",
       "2          Denmark                  3.0                 7.527   \n",
       "3           Norway                  4.0                 7.522   \n",
       "4           Canada                  5.0                 7.427   \n",
       "..             ...                  ...                   ...   \n",
       "192     San Marino                  NaN                   NaN   \n",
       "193        Andorra                  NaN                   NaN   \n",
       "194  Liechtenstein                  NaN                   NaN   \n",
       "195    North Korea                  NaN                   NaN   \n",
       "196    South Sudan                  NaN                   NaN   \n",
       "\n",
       "     GDP per Capita 2015 Average yearly temperature  Happiness Rank 2017   \n",
       "0                1.39651                      05.10                  4.0  \\\n",
       "1                1.30232                      −0.70                  3.0   \n",
       "2                1.32548                      −3.70                  2.0   \n",
       "3                1.45900                      01.50                  1.0   \n",
       "4                1.32629                      −5.10                  7.0   \n",
       "..                   ...                        ...                  ...   \n",
       "192                  NaN                      11.85                  NaN   \n",
       "193                  NaN                      07.60                  NaN   \n",
       "194                  NaN                      05.80                  NaN   \n",
       "195                  NaN                      05.70                  NaN   \n",
       "196                  NaN                        NaN                147.0   \n",
       "\n",
       "     Happiness Score 2017  GDP per Capita 2017  Happiness Rank 2019   \n",
       "0                   7.494             1.564980                  6.0  \\\n",
       "1                   7.504             1.480633                  4.0   \n",
       "2                   7.522             1.482383                  2.0   \n",
       "3                   7.537             1.616463                  3.0   \n",
       "4                   7.316             1.479204                  9.0   \n",
       "..                    ...                  ...                  ...   \n",
       "192                   NaN                  NaN                  NaN   \n",
       "193                   NaN                  NaN                  NaN   \n",
       "194                   NaN                  NaN                  NaN   \n",
       "195                   NaN                  NaN                  NaN   \n",
       "196                 3.591             0.397249                  NaN   \n",
       "\n",
       "     Happiness Score 2019  GDP per Capita 2019  Happiness Score 2021   \n",
       "0                   7.480                1.452                 7.571  \\\n",
       "1                   7.494                1.380                 7.554   \n",
       "2                   7.600                1.383                 7.620   \n",
       "3                   7.554                1.488                 7.392   \n",
       "4                   7.278                1.365                 7.103   \n",
       "..                    ...                  ...                   ...   \n",
       "192                   NaN                  NaN                   NaN   \n",
       "193                   NaN                  NaN                   NaN   \n",
       "194                   NaN                  NaN                   NaN   \n",
       "195                   NaN                  NaN                   NaN   \n",
       "196                   NaN                  NaN                   NaN   \n",
       "\n",
       "     GDP per Capita 2021  Happiness Rank 2021  \n",
       "0                  1.566                  3.0  \n",
       "1                  1.482                  4.0  \n",
       "2                  1.502                  2.0  \n",
       "3                  1.543                  6.0  \n",
       "4                  1.447                 14.0  \n",
       "..                   ...                  ...  \n",
       "192                  NaN                  NaN  \n",
       "193                  NaN                  NaN  \n",
       "194                  NaN                  NaN  \n",
       "195                  NaN                  NaN  \n",
       "196                  NaN                  NaN  \n",
       "\n",
       "[197 rows x 14 columns]"
      ]
     },
     "execution_count": 82,
     "metadata": {},
     "output_type": "execute_result"
    }
   ],
   "source": [
    "df=merged_df3\n",
    "df"
   ]
  },
  {
   "cell_type": "code",
   "execution_count": null,
   "id": "4ed924ea",
   "metadata": {},
   "outputs": [],
   "source": []
  },
  {
   "cell_type": "code",
   "execution_count": 83,
   "id": "bd0d7a80",
   "metadata": {},
   "outputs": [],
   "source": [
    "df_rank=df[[\"Country\", \"Happiness Rank 2015\", \"Happiness Rank 2017\", \"Happiness Rank 2019\",\"Happiness Rank 2021\"]]"
   ]
  },
  {
   "cell_type": "code",
   "execution_count": 84,
   "id": "e9303a8b",
   "metadata": {},
   "outputs": [
    {
     "data": {
      "text/html": [
       "<div>\n",
       "<style scoped>\n",
       "    .dataframe tbody tr th:only-of-type {\n",
       "        vertical-align: middle;\n",
       "    }\n",
       "\n",
       "    .dataframe tbody tr th {\n",
       "        vertical-align: top;\n",
       "    }\n",
       "\n",
       "    .dataframe thead th {\n",
       "        text-align: right;\n",
       "    }\n",
       "</style>\n",
       "<table border=\"1\" class=\"dataframe\">\n",
       "  <thead>\n",
       "    <tr style=\"text-align: right;\">\n",
       "      <th></th>\n",
       "      <th>Country</th>\n",
       "      <th>Happiness Score 2015</th>\n",
       "      <th>Happiness Score 2017</th>\n",
       "      <th>Happiness Score 2019</th>\n",
       "      <th>Happiness Score 2021</th>\n",
       "    </tr>\n",
       "  </thead>\n",
       "  <tbody>\n",
       "    <tr>\n",
       "      <th>61</th>\n",
       "      <td>Croatia</td>\n",
       "      <td>5.759</td>\n",
       "      <td>5.293</td>\n",
       "      <td>5.432</td>\n",
       "      <td>5.882</td>\n",
       "    </tr>\n",
       "  </tbody>\n",
       "</table>\n",
       "</div>"
      ],
      "text/plain": [
       "    Country  Happiness Score 2015  Happiness Score 2017  Happiness Score 2019   \n",
       "61  Croatia                 5.759                 5.293                 5.432  \\\n",
       "\n",
       "    Happiness Score 2021  \n",
       "61                 5.882  "
      ]
     },
     "execution_count": 84,
     "metadata": {},
     "output_type": "execute_result"
    }
   ],
   "source": [
    "df_score=df[['Country', 'Happiness Score 2015', 'Happiness Score 2017', 'Happiness Score 2019', 'Happiness Score 2021']]\n",
    "df_score.sample()"
   ]
  },
  {
   "cell_type": "code",
   "execution_count": 85,
   "id": "e1e8df9a",
   "metadata": {},
   "outputs": [],
   "source": [
    "df_mean = df_score.loc[:, ['Happiness Score 2015', 'Happiness Score 2017', 'Happiness Score 2019', 'Happiness Score 2021']].mean(axis=1).round(2)"
   ]
  },
  {
   "cell_type": "code",
   "execution_count": 86,
   "id": "41a9fb3c",
   "metadata": {},
   "outputs": [
    {
     "name": "stderr",
     "output_type": "stream",
     "text": [
      "C:\\Users\\pagob\\AppData\\Local\\Temp\\ipykernel_14056\\522279541.py:1: SettingWithCopyWarning: \n",
      "A value is trying to be set on a copy of a slice from a DataFrame.\n",
      "Try using .loc[row_indexer,col_indexer] = value instead\n",
      "\n",
      "See the caveats in the documentation: https://pandas.pydata.org/pandas-docs/stable/user_guide/indexing.html#returning-a-view-versus-a-copy\n",
      "  df_score[\"Mean Score\"]= df_mean\n"
     ]
    }
   ],
   "source": [
    "df_score[\"Mean Score\"]= df_mean"
   ]
  },
  {
   "cell_type": "code",
   "execution_count": 87,
   "id": "4fba6fdc",
   "metadata": {},
   "outputs": [],
   "source": [
    "df = df.dropna(subset=[\"Happiness Score 2015\",\n",
    "                       \"Happiness Score 2017\",\"Happiness Score 2019\", \n",
    "                       \"Happiness Score 2021\"], how=\"all\")"
   ]
  },
  {
   "cell_type": "code",
   "execution_count": 88,
   "id": "54bd7cfb",
   "metadata": {},
   "outputs": [],
   "source": [
    "eliminated_rows=['North Cyprus','Oman', 'Suriname', 'Belize', 'South Sudan', 'Maldives', 'Djibouti' ]\n",
    "for i in eliminated_rows:\n",
    "    df = df.drop(df.loc[df['Country'] == i].index)\n",
    "    "
   ]
  },
  {
   "cell_type": "code",
   "execution_count": 89,
   "id": "4dd80050",
   "metadata": {},
   "outputs": [],
   "source": [
    "df.loc[df['Country'] == 'Taiwan', 'Average yearly temperature'] = 27.0\n",
    "df.loc[df['Country'] == 'Kosovo', 'Average yearly temperature'] = 15.0\n",
    "df.loc[df['Country'] == 'Palestinian Territories', 'Average yearly temperature'] = 20\n"
   ]
  },
  {
   "cell_type": "code",
   "execution_count": 90,
   "id": "c3e9bc39",
   "metadata": {},
   "outputs": [],
   "source": [
    "df['Mean Happiness Score'] = df[['Happiness Score 2015', 'Happiness Score 2017', 'Happiness Score 2019', 'Happiness Score 2021']].mean(axis=1).round(2)\n"
   ]
  },
  {
   "cell_type": "code",
   "execution_count": 93,
   "id": "f293b8d8",
   "metadata": {},
   "outputs": [],
   "source": [
    "df['Mean GDP per Capita'] = df[['GDP per Capita 2015', 'GDP per Capita 2017', 'GDP per Capita 2019', 'GDP per Capita 2021']].mean(axis=1).round(2)"
   ]
  },
  {
   "cell_type": "code",
   "execution_count": 94,
   "id": "d176dcbc",
   "metadata": {
    "scrolled": true
   },
   "outputs": [
    {
     "data": {
      "text/html": [
       "<div>\n",
       "<style scoped>\n",
       "    .dataframe tbody tr th:only-of-type {\n",
       "        vertical-align: middle;\n",
       "    }\n",
       "\n",
       "    .dataframe tbody tr th {\n",
       "        vertical-align: top;\n",
       "    }\n",
       "\n",
       "    .dataframe thead th {\n",
       "        text-align: right;\n",
       "    }\n",
       "</style>\n",
       "<table border=\"1\" class=\"dataframe\">\n",
       "  <thead>\n",
       "    <tr style=\"text-align: right;\">\n",
       "      <th></th>\n",
       "      <th>Country</th>\n",
       "      <th>Happiness Rank 2015</th>\n",
       "      <th>Happiness Score 2015</th>\n",
       "      <th>GDP per Capita 2015</th>\n",
       "      <th>Average yearly temperature</th>\n",
       "      <th>Happiness Rank 2017</th>\n",
       "      <th>Happiness Score 2017</th>\n",
       "      <th>GDP per Capita 2017</th>\n",
       "      <th>Happiness Rank 2019</th>\n",
       "      <th>Happiness Score 2019</th>\n",
       "      <th>GDP per Capita 2019</th>\n",
       "      <th>Happiness Score 2021</th>\n",
       "      <th>GDP per Capita 2021</th>\n",
       "      <th>Happiness Rank 2021</th>\n",
       "      <th>Mean Happiness Score</th>\n",
       "      <th>Mean GDP per Capita</th>\n",
       "    </tr>\n",
       "  </thead>\n",
       "  <tbody>\n",
       "    <tr>\n",
       "      <th>27</th>\n",
       "      <td>Qatar</td>\n",
       "      <td>28.0</td>\n",
       "      <td>6.611</td>\n",
       "      <td>1.69042</td>\n",
       "      <td>27.15</td>\n",
       "      <td>35.0</td>\n",
       "      <td>6.375</td>\n",
       "      <td>1.870766</td>\n",
       "      <td>29.0</td>\n",
       "      <td>6.374</td>\n",
       "      <td>1.684</td>\n",
       "      <td>NaN</td>\n",
       "      <td>NaN</td>\n",
       "      <td>NaN</td>\n",
       "      <td>6.45</td>\n",
       "      <td>1.75</td>\n",
       "    </tr>\n",
       "    <tr>\n",
       "      <th>40</th>\n",
       "      <td>Trinidad and Tobago</td>\n",
       "      <td>41.0</td>\n",
       "      <td>6.168</td>\n",
       "      <td>1.21183</td>\n",
       "      <td>25.75</td>\n",
       "      <td>38.0</td>\n",
       "      <td>6.168</td>\n",
       "      <td>1.361356</td>\n",
       "      <td>39.0</td>\n",
       "      <td>6.192</td>\n",
       "      <td>1.231</td>\n",
       "      <td>NaN</td>\n",
       "      <td>NaN</td>\n",
       "      <td>NaN</td>\n",
       "      <td>6.18</td>\n",
       "      <td>1.27</td>\n",
       "    </tr>\n",
       "    <tr>\n",
       "      <th>78</th>\n",
       "      <td>Bhutan</td>\n",
       "      <td>79.0</td>\n",
       "      <td>5.253</td>\n",
       "      <td>0.77042</td>\n",
       "      <td>07.40</td>\n",
       "      <td>97.0</td>\n",
       "      <td>5.011</td>\n",
       "      <td>0.885416</td>\n",
       "      <td>95.0</td>\n",
       "      <td>5.082</td>\n",
       "      <td>0.813</td>\n",
       "      <td>NaN</td>\n",
       "      <td>NaN</td>\n",
       "      <td>NaN</td>\n",
       "      <td>5.12</td>\n",
       "      <td>0.82</td>\n",
       "    </tr>\n",
       "    <tr>\n",
       "      <th>90</th>\n",
       "      <td>Somalia</td>\n",
       "      <td>91.0</td>\n",
       "      <td>5.057</td>\n",
       "      <td>0.18847</td>\n",
       "      <td>27.05</td>\n",
       "      <td>93.0</td>\n",
       "      <td>5.151</td>\n",
       "      <td>0.022643</td>\n",
       "      <td>112.0</td>\n",
       "      <td>4.668</td>\n",
       "      <td>0.000</td>\n",
       "      <td>NaN</td>\n",
       "      <td>NaN</td>\n",
       "      <td>NaN</td>\n",
       "      <td>4.96</td>\n",
       "      <td>0.07</td>\n",
       "    </tr>\n",
       "    <tr>\n",
       "      <th>98</th>\n",
       "      <td>Laos</td>\n",
       "      <td>99.0</td>\n",
       "      <td>4.876</td>\n",
       "      <td>0.59066</td>\n",
       "      <td>22.80</td>\n",
       "      <td>NaN</td>\n",
       "      <td>NaN</td>\n",
       "      <td>NaN</td>\n",
       "      <td>105.0</td>\n",
       "      <td>4.796</td>\n",
       "      <td>0.764</td>\n",
       "      <td>5.030</td>\n",
       "      <td>0.808</td>\n",
       "      <td>98.0</td>\n",
       "      <td>4.90</td>\n",
       "      <td>0.72</td>\n",
       "    </tr>\n",
       "    <tr>\n",
       "      <th>100</th>\n",
       "      <td>Swaziland</td>\n",
       "      <td>101.0</td>\n",
       "      <td>4.867</td>\n",
       "      <td>0.71206</td>\n",
       "      <td>21.40</td>\n",
       "      <td>NaN</td>\n",
       "      <td>NaN</td>\n",
       "      <td>NaN</td>\n",
       "      <td>135.0</td>\n",
       "      <td>4.212</td>\n",
       "      <td>0.811</td>\n",
       "      <td>4.308</td>\n",
       "      <td>0.849</td>\n",
       "      <td>128.0</td>\n",
       "      <td>4.46</td>\n",
       "      <td>0.79</td>\n",
       "    </tr>\n",
       "    <tr>\n",
       "      <th>117</th>\n",
       "      <td>Sudan</td>\n",
       "      <td>118.0</td>\n",
       "      <td>4.550</td>\n",
       "      <td>0.52107</td>\n",
       "      <td>26.90</td>\n",
       "      <td>130.0</td>\n",
       "      <td>4.139</td>\n",
       "      <td>0.659517</td>\n",
       "      <td>156.0</td>\n",
       "      <td>2.853</td>\n",
       "      <td>0.306</td>\n",
       "      <td>NaN</td>\n",
       "      <td>NaN</td>\n",
       "      <td>NaN</td>\n",
       "      <td>3.85</td>\n",
       "      <td>0.50</td>\n",
       "    </tr>\n",
       "    <tr>\n",
       "      <th>119</th>\n",
       "      <td>Democratic Republic of the Congo</td>\n",
       "      <td>120.0</td>\n",
       "      <td>4.517</td>\n",
       "      <td>0.00000</td>\n",
       "      <td>24.00</td>\n",
       "      <td>126.0</td>\n",
       "      <td>4.280</td>\n",
       "      <td>0.092102</td>\n",
       "      <td>127.0</td>\n",
       "      <td>4.418</td>\n",
       "      <td>0.094</td>\n",
       "      <td>NaN</td>\n",
       "      <td>NaN</td>\n",
       "      <td>NaN</td>\n",
       "      <td>4.41</td>\n",
       "      <td>0.06</td>\n",
       "    </tr>\n",
       "    <tr>\n",
       "      <th>136</th>\n",
       "      <td>Angola</td>\n",
       "      <td>137.0</td>\n",
       "      <td>4.033</td>\n",
       "      <td>0.75778</td>\n",
       "      <td>21.55</td>\n",
       "      <td>140.0</td>\n",
       "      <td>3.795</td>\n",
       "      <td>0.858428</td>\n",
       "      <td>NaN</td>\n",
       "      <td>NaN</td>\n",
       "      <td>NaN</td>\n",
       "      <td>NaN</td>\n",
       "      <td>NaN</td>\n",
       "      <td>NaN</td>\n",
       "      <td>3.91</td>\n",
       "      <td>0.81</td>\n",
       "    </tr>\n",
       "    <tr>\n",
       "      <th>139</th>\n",
       "      <td>Comoros</td>\n",
       "      <td>140.0</td>\n",
       "      <td>3.956</td>\n",
       "      <td>0.23906</td>\n",
       "      <td>25.30</td>\n",
       "      <td>NaN</td>\n",
       "      <td>NaN</td>\n",
       "      <td>NaN</td>\n",
       "      <td>142.0</td>\n",
       "      <td>3.973</td>\n",
       "      <td>0.274</td>\n",
       "      <td>4.289</td>\n",
       "      <td>0.488</td>\n",
       "      <td>129.0</td>\n",
       "      <td>4.07</td>\n",
       "      <td>0.33</td>\n",
       "    </tr>\n",
       "    <tr>\n",
       "      <th>147</th>\n",
       "      <td>Central African Republic</td>\n",
       "      <td>148.0</td>\n",
       "      <td>3.678</td>\n",
       "      <td>0.07850</td>\n",
       "      <td>24.90</td>\n",
       "      <td>155.0</td>\n",
       "      <td>2.693</td>\n",
       "      <td>0.000000</td>\n",
       "      <td>155.0</td>\n",
       "      <td>3.083</td>\n",
       "      <td>0.026</td>\n",
       "      <td>NaN</td>\n",
       "      <td>NaN</td>\n",
       "      <td>NaN</td>\n",
       "      <td>3.15</td>\n",
       "      <td>0.03</td>\n",
       "    </tr>\n",
       "    <tr>\n",
       "      <th>155</th>\n",
       "      <td>Syria</td>\n",
       "      <td>156.0</td>\n",
       "      <td>3.006</td>\n",
       "      <td>0.66320</td>\n",
       "      <td>17.75</td>\n",
       "      <td>152.0</td>\n",
       "      <td>3.462</td>\n",
       "      <td>0.777153</td>\n",
       "      <td>149.0</td>\n",
       "      <td>3.462</td>\n",
       "      <td>0.619</td>\n",
       "      <td>NaN</td>\n",
       "      <td>NaN</td>\n",
       "      <td>NaN</td>\n",
       "      <td>3.31</td>\n",
       "      <td>0.69</td>\n",
       "    </tr>\n",
       "    <tr>\n",
       "      <th>162</th>\n",
       "      <td>Gambia</td>\n",
       "      <td>NaN</td>\n",
       "      <td>NaN</td>\n",
       "      <td>NaN</td>\n",
       "      <td>27.50</td>\n",
       "      <td>NaN</td>\n",
       "      <td>NaN</td>\n",
       "      <td>NaN</td>\n",
       "      <td>120.0</td>\n",
       "      <td>4.516</td>\n",
       "      <td>0.308</td>\n",
       "      <td>5.051</td>\n",
       "      <td>0.367</td>\n",
       "      <td>96.0</td>\n",
       "      <td>4.78</td>\n",
       "      <td>0.34</td>\n",
       "    </tr>\n",
       "    <tr>\n",
       "      <th>190</th>\n",
       "      <td>Namibia</td>\n",
       "      <td>NaN</td>\n",
       "      <td>NaN</td>\n",
       "      <td>NaN</td>\n",
       "      <td>19.95</td>\n",
       "      <td>111.0</td>\n",
       "      <td>4.574</td>\n",
       "      <td>0.964434</td>\n",
       "      <td>113.0</td>\n",
       "      <td>4.639</td>\n",
       "      <td>0.879</td>\n",
       "      <td>4.574</td>\n",
       "      <td>0.882</td>\n",
       "      <td>122.0</td>\n",
       "      <td>4.60</td>\n",
       "      <td>0.91</td>\n",
       "    </tr>\n",
       "  </tbody>\n",
       "</table>\n",
       "</div>"
      ],
      "text/plain": [
       "                              Country  Happiness Rank 2015   \n",
       "27                              Qatar                 28.0  \\\n",
       "40                Trinidad and Tobago                 41.0   \n",
       "78                             Bhutan                 79.0   \n",
       "90                            Somalia                 91.0   \n",
       "98                               Laos                 99.0   \n",
       "100                         Swaziland                101.0   \n",
       "117                             Sudan                118.0   \n",
       "119  Democratic Republic of the Congo                120.0   \n",
       "136                            Angola                137.0   \n",
       "139                           Comoros                140.0   \n",
       "147          Central African Republic                148.0   \n",
       "155                             Syria                156.0   \n",
       "162                            Gambia                  NaN   \n",
       "190                           Namibia                  NaN   \n",
       "\n",
       "     Happiness Score 2015  GDP per Capita 2015 Average yearly temperature   \n",
       "27                  6.611              1.69042                      27.15  \\\n",
       "40                  6.168              1.21183                      25.75   \n",
       "78                  5.253              0.77042                      07.40   \n",
       "90                  5.057              0.18847                      27.05   \n",
       "98                  4.876              0.59066                      22.80   \n",
       "100                 4.867              0.71206                      21.40   \n",
       "117                 4.550              0.52107                      26.90   \n",
       "119                 4.517              0.00000                      24.00   \n",
       "136                 4.033              0.75778                      21.55   \n",
       "139                 3.956              0.23906                      25.30   \n",
       "147                 3.678              0.07850                      24.90   \n",
       "155                 3.006              0.66320                      17.75   \n",
       "162                   NaN                  NaN                      27.50   \n",
       "190                   NaN                  NaN                      19.95   \n",
       "\n",
       "     Happiness Rank 2017  Happiness Score 2017  GDP per Capita 2017   \n",
       "27                  35.0                 6.375             1.870766  \\\n",
       "40                  38.0                 6.168             1.361356   \n",
       "78                  97.0                 5.011             0.885416   \n",
       "90                  93.0                 5.151             0.022643   \n",
       "98                   NaN                   NaN                  NaN   \n",
       "100                  NaN                   NaN                  NaN   \n",
       "117                130.0                 4.139             0.659517   \n",
       "119                126.0                 4.280             0.092102   \n",
       "136                140.0                 3.795             0.858428   \n",
       "139                  NaN                   NaN                  NaN   \n",
       "147                155.0                 2.693             0.000000   \n",
       "155                152.0                 3.462             0.777153   \n",
       "162                  NaN                   NaN                  NaN   \n",
       "190                111.0                 4.574             0.964434   \n",
       "\n",
       "     Happiness Rank 2019  Happiness Score 2019  GDP per Capita 2019   \n",
       "27                  29.0                 6.374                1.684  \\\n",
       "40                  39.0                 6.192                1.231   \n",
       "78                  95.0                 5.082                0.813   \n",
       "90                 112.0                 4.668                0.000   \n",
       "98                 105.0                 4.796                0.764   \n",
       "100                135.0                 4.212                0.811   \n",
       "117                156.0                 2.853                0.306   \n",
       "119                127.0                 4.418                0.094   \n",
       "136                  NaN                   NaN                  NaN   \n",
       "139                142.0                 3.973                0.274   \n",
       "147                155.0                 3.083                0.026   \n",
       "155                149.0                 3.462                0.619   \n",
       "162                120.0                 4.516                0.308   \n",
       "190                113.0                 4.639                0.879   \n",
       "\n",
       "     Happiness Score 2021  GDP per Capita 2021  Happiness Rank 2021   \n",
       "27                    NaN                  NaN                  NaN  \\\n",
       "40                    NaN                  NaN                  NaN   \n",
       "78                    NaN                  NaN                  NaN   \n",
       "90                    NaN                  NaN                  NaN   \n",
       "98                  5.030                0.808                 98.0   \n",
       "100                 4.308                0.849                128.0   \n",
       "117                   NaN                  NaN                  NaN   \n",
       "119                   NaN                  NaN                  NaN   \n",
       "136                   NaN                  NaN                  NaN   \n",
       "139                 4.289                0.488                129.0   \n",
       "147                   NaN                  NaN                  NaN   \n",
       "155                   NaN                  NaN                  NaN   \n",
       "162                 5.051                0.367                 96.0   \n",
       "190                 4.574                0.882                122.0   \n",
       "\n",
       "     Mean Happiness Score  Mean GDP per Capita  \n",
       "27                   6.45                 1.75  \n",
       "40                   6.18                 1.27  \n",
       "78                   5.12                 0.82  \n",
       "90                   4.96                 0.07  \n",
       "98                   4.90                 0.72  \n",
       "100                  4.46                 0.79  \n",
       "117                  3.85                 0.50  \n",
       "119                  4.41                 0.06  \n",
       "136                  3.91                 0.81  \n",
       "139                  4.07                 0.33  \n",
       "147                  3.15                 0.03  \n",
       "155                  3.31                 0.69  \n",
       "162                  4.78                 0.34  \n",
       "190                  4.60                 0.91  "
      ]
     },
     "execution_count": 94,
     "metadata": {},
     "output_type": "execute_result"
    }
   ],
   "source": [
    "df[df.isna().any(axis=1)]"
   ]
  },
  {
   "cell_type": "code",
   "execution_count": 95,
   "id": "6cb50fbf",
   "metadata": {},
   "outputs": [],
   "source": [
    "#df_score['Mean Rank'] = df_score['Mean Score'].rank(method='dense', ascending=False).astype(int)"
   ]
  },
  {
   "cell_type": "code",
   "execution_count": null,
   "id": "a187cfe6",
   "metadata": {},
   "outputs": [],
   "source": [
    "#df_score = df_score.sort_values(\"Mean Rank\", ascending=True)"
   ]
  },
  {
   "cell_type": "code",
   "execution_count": null,
   "id": "ca205d1d",
   "metadata": {},
   "outputs": [],
   "source": [
    "#df_score = df_score.set_index(\"Mean Rank\")"
   ]
  },
  {
   "cell_type": "code",
   "execution_count": null,
   "id": "b91dd91c",
   "metadata": {},
   "outputs": [],
   "source": [
    "#df_mean_score = df_score[[\"Country\", \"Mean score\"]]"
   ]
  },
  {
   "cell_type": "code",
   "execution_count": null,
   "id": "fc5ee744",
   "metadata": {},
   "outputs": [],
   "source": [
    "#df_mean_score"
   ]
  },
  {
   "cell_type": "code",
   "execution_count": 96,
   "id": "543e3c96",
   "metadata": {},
   "outputs": [],
   "source": [
    "df['Mean Rank'] = df['Mean Happiness Score'].rank(method='dense', ascending=False).astype(int)\n",
    "df= df.sort_values(\"Mean Rank\", ascending=True)"
   ]
  },
  {
   "cell_type": "code",
   "execution_count": 101,
   "id": "da7decb2",
   "metadata": {},
   "outputs": [],
   "source": [
    "df = df.reset_index(drop=True)"
   ]
  },
  {
   "cell_type": "code",
   "execution_count": 102,
   "id": "4b1b958a",
   "metadata": {},
   "outputs": [
    {
     "data": {
      "text/html": [
       "<div>\n",
       "<style scoped>\n",
       "    .dataframe tbody tr th:only-of-type {\n",
       "        vertical-align: middle;\n",
       "    }\n",
       "\n",
       "    .dataframe tbody tr th {\n",
       "        vertical-align: top;\n",
       "    }\n",
       "\n",
       "    .dataframe thead th {\n",
       "        text-align: right;\n",
       "    }\n",
       "</style>\n",
       "<table border=\"1\" class=\"dataframe\">\n",
       "  <thead>\n",
       "    <tr style=\"text-align: right;\">\n",
       "      <th></th>\n",
       "      <th>Country</th>\n",
       "      <th>Mean Rank</th>\n",
       "      <th>Mean Happiness Score</th>\n",
       "      <th>Mean GDP per Capita</th>\n",
       "      <th>Average yearly temperature</th>\n",
       "    </tr>\n",
       "  </thead>\n",
       "  <tbody>\n",
       "    <tr>\n",
       "      <th>0</th>\n",
       "      <td>Finland</td>\n",
       "      <td>1</td>\n",
       "      <td>7.62</td>\n",
       "      <td>1.38</td>\n",
       "      <td>01.55</td>\n",
       "    </tr>\n",
       "    <tr>\n",
       "      <th>1</th>\n",
       "      <td>Denmark</td>\n",
       "      <td>2</td>\n",
       "      <td>7.57</td>\n",
       "      <td>1.42</td>\n",
       "      <td>−3.70</td>\n",
       "    </tr>\n",
       "    <tr>\n",
       "      <th>2</th>\n",
       "      <td>Switzerland</td>\n",
       "      <td>3</td>\n",
       "      <td>7.53</td>\n",
       "      <td>1.49</td>\n",
       "      <td>05.10</td>\n",
       "    </tr>\n",
       "    <tr>\n",
       "      <th>3</th>\n",
       "      <td>Iceland</td>\n",
       "      <td>3</td>\n",
       "      <td>7.53</td>\n",
       "      <td>1.41</td>\n",
       "      <td>−0.70</td>\n",
       "    </tr>\n",
       "    <tr>\n",
       "      <th>4</th>\n",
       "      <td>Norway</td>\n",
       "      <td>4</td>\n",
       "      <td>7.50</td>\n",
       "      <td>1.53</td>\n",
       "      <td>01.50</td>\n",
       "    </tr>\n",
       "  </tbody>\n",
       "</table>\n",
       "</div>"
      ],
      "text/plain": [
       "       Country  Mean Rank  Mean Happiness Score  Mean GDP per Capita   \n",
       "0      Finland          1                  7.62                 1.38  \\\n",
       "1      Denmark          2                  7.57                 1.42   \n",
       "2  Switzerland          3                  7.53                 1.49   \n",
       "3      Iceland          3                  7.53                 1.41   \n",
       "4       Norway          4                  7.50                 1.53   \n",
       "\n",
       "  Average yearly temperature  \n",
       "0                      01.55  \n",
       "1                      −3.70  \n",
       "2                      05.10  \n",
       "3                      −0.70  \n",
       "4                      01.50  "
      ]
     },
     "execution_count": 102,
     "metadata": {},
     "output_type": "execute_result"
    }
   ],
   "source": [
    "df_mean=df[[\"Country\", \"Mean Rank\", \"Mean Happiness Score\", \"Mean GDP per Capita\", \"Average yearly temperature\"]]\n",
    "df_mean.head()"
   ]
  },
  {
   "cell_type": "code",
   "execution_count": 109,
   "id": "b2859e41",
   "metadata": {},
   "outputs": [
    {
     "data": {
      "text/html": [
       "<div>\n",
       "<style scoped>\n",
       "    .dataframe tbody tr th:only-of-type {\n",
       "        vertical-align: middle;\n",
       "    }\n",
       "\n",
       "    .dataframe tbody tr th {\n",
       "        vertical-align: top;\n",
       "    }\n",
       "\n",
       "    .dataframe thead th {\n",
       "        text-align: right;\n",
       "    }\n",
       "</style>\n",
       "<table border=\"1\" class=\"dataframe\">\n",
       "  <thead>\n",
       "    <tr style=\"text-align: right;\">\n",
       "      <th></th>\n",
       "      <th>Country</th>\n",
       "      <th>Mean Rank</th>\n",
       "      <th>Mean Happiness Score</th>\n",
       "      <th>Mean GDP per Capita</th>\n",
       "      <th>Average yearly temperature</th>\n",
       "    </tr>\n",
       "  </thead>\n",
       "  <tbody>\n",
       "    <tr>\n",
       "      <th>151</th>\n",
       "      <td>Rwanda</td>\n",
       "      <td>129</td>\n",
       "      <td>3.42</td>\n",
       "      <td>0.33</td>\n",
       "      <td>17.85</td>\n",
       "    </tr>\n",
       "    <tr>\n",
       "      <th>152</th>\n",
       "      <td>Burundi</td>\n",
       "      <td>130</td>\n",
       "      <td>3.34</td>\n",
       "      <td>0.04</td>\n",
       "      <td>19.80</td>\n",
       "    </tr>\n",
       "    <tr>\n",
       "      <th>153</th>\n",
       "      <td>Syria</td>\n",
       "      <td>131</td>\n",
       "      <td>3.31</td>\n",
       "      <td>0.69</td>\n",
       "      <td>17.75</td>\n",
       "    </tr>\n",
       "    <tr>\n",
       "      <th>154</th>\n",
       "      <td>Afghanistan</td>\n",
       "      <td>132</td>\n",
       "      <td>3.27</td>\n",
       "      <td>0.36</td>\n",
       "      <td>12.60</td>\n",
       "    </tr>\n",
       "    <tr>\n",
       "      <th>155</th>\n",
       "      <td>Central African Republic</td>\n",
       "      <td>133</td>\n",
       "      <td>3.15</td>\n",
       "      <td>0.03</td>\n",
       "      <td>24.90</td>\n",
       "    </tr>\n",
       "  </tbody>\n",
       "</table>\n",
       "</div>"
      ],
      "text/plain": [
       "                      Country  Mean Rank  Mean Happiness Score   \n",
       "151                    Rwanda        129                  3.42  \\\n",
       "152                   Burundi        130                  3.34   \n",
       "153                     Syria        131                  3.31   \n",
       "154               Afghanistan        132                  3.27   \n",
       "155  Central African Republic        133                  3.15   \n",
       "\n",
       "     Mean GDP per Capita Average yearly temperature  \n",
       "151                 0.33                      17.85  \n",
       "152                 0.04                      19.80  \n",
       "153                 0.69                      17.75  \n",
       "154                 0.36                      12.60  \n",
       "155                 0.03                      24.90  "
      ]
     },
     "execution_count": 109,
     "metadata": {},
     "output_type": "execute_result"
    }
   ],
   "source": [
    "df_mean.tail()"
   ]
  },
  {
   "cell_type": "code",
   "execution_count": 103,
   "id": "eb1db454",
   "metadata": {},
   "outputs": [],
   "source": [
    "import plotly.express as px"
   ]
  },
  {
   "cell_type": "code",
   "execution_count": 112,
   "id": "e9765f22",
   "metadata": {},
   "outputs": [
    {
     "data": {
      "application/vnd.plotly.v1+json": {
       "config": {
        "plotlyServerURL": "https://plot.ly"
       },
       "data": [
        {
         "hovertemplate": "Mean Happiness Score=%{x}<br>Average yearly temperature=%{y}<extra></extra>",
         "legendgroup": "",
         "line": {
          "color": "#636efa",
          "dash": "solid"
         },
         "marker": {
          "symbol": "circle"
         },
         "mode": "lines",
         "name": "",
         "orientation": "h",
         "showlegend": false,
         "type": "scatter",
         "x": [
          7.62,
          7.57,
          7.53,
          7.53,
          7.5,
          7.43,
          7.34,
          7.3,
          7.28,
          7.24,
          7.2,
          7.18,
          7.14,
          7.06,
          7.01,
          6.99,
          6.96,
          6.92,
          6.9,
          6.73,
          6.73,
          6.67,
          6.57,
          6.56,
          6.54,
          6.5,
          6.48,
          6.45,
          6.44,
          6.43,
          6.42,
          6.41,
          6.39,
          6.36,
          6.3,
          6.24,
          6.22,
          6.22,
          6.18,
          6.16,
          6.15,
          6.13,
          6.11,
          6.08,
          6.05,
          6.03,
          6.03,
          5.99,
          5.94,
          5.93,
          5.91,
          5.89,
          5.89,
          5.83,
          5.8,
          5.8,
          5.79,
          5.78,
          5.77,
          5.76,
          5.76,
          5.73,
          5.7,
          5.69,
          5.64,
          5.59,
          5.56,
          5.55,
          5.55,
          5.5,
          5.48,
          5.47,
          5.46,
          5.44,
          5.42,
          5.41,
          5.39,
          5.38,
          5.33,
          5.32,
          5.3,
          5.29,
          5.27,
          5.27,
          5.26,
          5.25,
          5.24,
          5.21,
          5.2,
          5.19,
          5.14,
          5.12,
          5.09,
          5.09,
          4.96,
          4.96,
          4.96,
          4.91,
          4.9,
          4.86,
          4.8,
          4.79,
          4.78,
          4.78,
          4.71,
          4.7,
          4.7,
          4.68,
          4.66,
          4.65,
          4.64,
          4.62,
          4.61,
          4.6,
          4.56,
          4.52,
          4.52,
          4.5,
          4.5,
          4.5,
          4.46,
          4.46,
          4.41,
          4.41,
          4.39,
          4.38,
          4.38,
          4.36,
          4.36,
          4.35,
          4.34,
          4.32,
          4.26,
          4.23,
          4.21,
          4.18,
          4.18,
          4.17,
          4.08,
          4.07,
          4.01,
          3.91,
          3.87,
          3.85,
          3.83,
          3.82,
          3.82,
          3.76,
          3.68,
          3.63,
          3.5,
          3.42,
          3.34,
          3.31,
          3.27,
          3.15
         ],
         "xaxis": "x",
         "y": [
          "01.55",
          "−3.70",
          "05.10",
          "−0.70",
          "01.50",
          "09.25",
          "01.75",
          "10.55",
          "−5.10",
          "21.65",
          "19.20",
          "06.35",
          "24.80",
          "08.65",
          "09.30",
          "08.55",
          "08.40",
          "08.45",
          "09.55",
          "07.55",
          "26.65",
          "21.00",
          "10.70",
          "24.95",
          "19.20",
          "26.45",
          "08.45",
          "27.15",
          27,
          "25.40",
          "17.55",
          "24.65",
          "13.30",
          "23.45",
          "14.80",
          "24.50",
          "26.80",
          "26.30",
          "25.75",
          "06.80",
          "13.45",
          "27.15",
          "24.45",
          "12.05",
          "08.90",
          "07.85",
          "06.20",
          "24.90",
          "21.85",
          "11.15",
          "05.50",
          "11.50",
          "18.45",
          15,
          "21.55",
          "24.95",
          "08.80",
          "02.00",
          "19.60",
          "09.45",
          "22.40",
          "05.60",
          "−5.35",
          "23.55",
          "25.40",
          "10.90",
          "06.15",
          "10.55",
          "21.80",
          "25.55",
          "15.15",
          "09.75",
          "21.45",
          "23.50",
          "15.10",
          "25.35",
          "22.50",
          "10.55",
          "09.85",
          "02.10",
          "25.85",
          "09.90",
          "15.40",
          "24.55",
          "20.20",
          "24.45",
          "07.50",
          "11.95",
          "01.70",
          "06.40",
          "09.80",
          "07.40",
          "27.00",
          "17.10",
          "18.30",
          "27.05",
          "15.00",
          "08.10",
          "22.80",
          "11.40",
          "10.55",
          "17.75",
          "24.60",
          "27.50",
          "27.20",
          "23.80",
          "25.00",
          20,
          "17.25",
          "19.20",
          "07.15",
          "21.40",
          "24.55",
          "19.95",
          "27.85",
          "24.75",
          "26.35",
          "08.30",
          "05.65",
          "25.05",
          "21.40",
          "21.40",
          "24.00",
          "13.05",
          "27.15",
          "26.80",
          "22.20",
          "27.65",
          "26.05",
          "26.95",
          "22.10",
          "28.25",
          "28.29",
          "27.55",
          "22.80",
          "25.30",
          "23.65",
          "25.70",
          "26.55",
          "25.30",
          "11.85",
          "21.55",
          "22.65",
          "26.90",
          "24.90",
          "21.90",
          "21.00",
          "21.50",
          "23.85",
          "27.15",
          "22.35",
          "17.85",
          "19.80",
          "17.75",
          "12.60",
          "24.90"
         ],
         "yaxis": "y"
        }
       ],
       "layout": {
        "legend": {
         "tracegroupgap": 0
        },
        "margin": {
         "t": 60
        },
        "template": {
         "data": {
          "bar": [
           {
            "error_x": {
             "color": "#2a3f5f"
            },
            "error_y": {
             "color": "#2a3f5f"
            },
            "marker": {
             "line": {
              "color": "#E5ECF6",
              "width": 0.5
             },
             "pattern": {
              "fillmode": "overlay",
              "size": 10,
              "solidity": 0.2
             }
            },
            "type": "bar"
           }
          ],
          "barpolar": [
           {
            "marker": {
             "line": {
              "color": "#E5ECF6",
              "width": 0.5
             },
             "pattern": {
              "fillmode": "overlay",
              "size": 10,
              "solidity": 0.2
             }
            },
            "type": "barpolar"
           }
          ],
          "carpet": [
           {
            "aaxis": {
             "endlinecolor": "#2a3f5f",
             "gridcolor": "white",
             "linecolor": "white",
             "minorgridcolor": "white",
             "startlinecolor": "#2a3f5f"
            },
            "baxis": {
             "endlinecolor": "#2a3f5f",
             "gridcolor": "white",
             "linecolor": "white",
             "minorgridcolor": "white",
             "startlinecolor": "#2a3f5f"
            },
            "type": "carpet"
           }
          ],
          "choropleth": [
           {
            "colorbar": {
             "outlinewidth": 0,
             "ticks": ""
            },
            "type": "choropleth"
           }
          ],
          "contour": [
           {
            "colorbar": {
             "outlinewidth": 0,
             "ticks": ""
            },
            "colorscale": [
             [
              0,
              "#0d0887"
             ],
             [
              0.1111111111111111,
              "#46039f"
             ],
             [
              0.2222222222222222,
              "#7201a8"
             ],
             [
              0.3333333333333333,
              "#9c179e"
             ],
             [
              0.4444444444444444,
              "#bd3786"
             ],
             [
              0.5555555555555556,
              "#d8576b"
             ],
             [
              0.6666666666666666,
              "#ed7953"
             ],
             [
              0.7777777777777778,
              "#fb9f3a"
             ],
             [
              0.8888888888888888,
              "#fdca26"
             ],
             [
              1,
              "#f0f921"
             ]
            ],
            "type": "contour"
           }
          ],
          "contourcarpet": [
           {
            "colorbar": {
             "outlinewidth": 0,
             "ticks": ""
            },
            "type": "contourcarpet"
           }
          ],
          "heatmap": [
           {
            "colorbar": {
             "outlinewidth": 0,
             "ticks": ""
            },
            "colorscale": [
             [
              0,
              "#0d0887"
             ],
             [
              0.1111111111111111,
              "#46039f"
             ],
             [
              0.2222222222222222,
              "#7201a8"
             ],
             [
              0.3333333333333333,
              "#9c179e"
             ],
             [
              0.4444444444444444,
              "#bd3786"
             ],
             [
              0.5555555555555556,
              "#d8576b"
             ],
             [
              0.6666666666666666,
              "#ed7953"
             ],
             [
              0.7777777777777778,
              "#fb9f3a"
             ],
             [
              0.8888888888888888,
              "#fdca26"
             ],
             [
              1,
              "#f0f921"
             ]
            ],
            "type": "heatmap"
           }
          ],
          "heatmapgl": [
           {
            "colorbar": {
             "outlinewidth": 0,
             "ticks": ""
            },
            "colorscale": [
             [
              0,
              "#0d0887"
             ],
             [
              0.1111111111111111,
              "#46039f"
             ],
             [
              0.2222222222222222,
              "#7201a8"
             ],
             [
              0.3333333333333333,
              "#9c179e"
             ],
             [
              0.4444444444444444,
              "#bd3786"
             ],
             [
              0.5555555555555556,
              "#d8576b"
             ],
             [
              0.6666666666666666,
              "#ed7953"
             ],
             [
              0.7777777777777778,
              "#fb9f3a"
             ],
             [
              0.8888888888888888,
              "#fdca26"
             ],
             [
              1,
              "#f0f921"
             ]
            ],
            "type": "heatmapgl"
           }
          ],
          "histogram": [
           {
            "marker": {
             "pattern": {
              "fillmode": "overlay",
              "size": 10,
              "solidity": 0.2
             }
            },
            "type": "histogram"
           }
          ],
          "histogram2d": [
           {
            "colorbar": {
             "outlinewidth": 0,
             "ticks": ""
            },
            "colorscale": [
             [
              0,
              "#0d0887"
             ],
             [
              0.1111111111111111,
              "#46039f"
             ],
             [
              0.2222222222222222,
              "#7201a8"
             ],
             [
              0.3333333333333333,
              "#9c179e"
             ],
             [
              0.4444444444444444,
              "#bd3786"
             ],
             [
              0.5555555555555556,
              "#d8576b"
             ],
             [
              0.6666666666666666,
              "#ed7953"
             ],
             [
              0.7777777777777778,
              "#fb9f3a"
             ],
             [
              0.8888888888888888,
              "#fdca26"
             ],
             [
              1,
              "#f0f921"
             ]
            ],
            "type": "histogram2d"
           }
          ],
          "histogram2dcontour": [
           {
            "colorbar": {
             "outlinewidth": 0,
             "ticks": ""
            },
            "colorscale": [
             [
              0,
              "#0d0887"
             ],
             [
              0.1111111111111111,
              "#46039f"
             ],
             [
              0.2222222222222222,
              "#7201a8"
             ],
             [
              0.3333333333333333,
              "#9c179e"
             ],
             [
              0.4444444444444444,
              "#bd3786"
             ],
             [
              0.5555555555555556,
              "#d8576b"
             ],
             [
              0.6666666666666666,
              "#ed7953"
             ],
             [
              0.7777777777777778,
              "#fb9f3a"
             ],
             [
              0.8888888888888888,
              "#fdca26"
             ],
             [
              1,
              "#f0f921"
             ]
            ],
            "type": "histogram2dcontour"
           }
          ],
          "mesh3d": [
           {
            "colorbar": {
             "outlinewidth": 0,
             "ticks": ""
            },
            "type": "mesh3d"
           }
          ],
          "parcoords": [
           {
            "line": {
             "colorbar": {
              "outlinewidth": 0,
              "ticks": ""
             }
            },
            "type": "parcoords"
           }
          ],
          "pie": [
           {
            "automargin": true,
            "type": "pie"
           }
          ],
          "scatter": [
           {
            "fillpattern": {
             "fillmode": "overlay",
             "size": 10,
             "solidity": 0.2
            },
            "type": "scatter"
           }
          ],
          "scatter3d": [
           {
            "line": {
             "colorbar": {
              "outlinewidth": 0,
              "ticks": ""
             }
            },
            "marker": {
             "colorbar": {
              "outlinewidth": 0,
              "ticks": ""
             }
            },
            "type": "scatter3d"
           }
          ],
          "scattercarpet": [
           {
            "marker": {
             "colorbar": {
              "outlinewidth": 0,
              "ticks": ""
             }
            },
            "type": "scattercarpet"
           }
          ],
          "scattergeo": [
           {
            "marker": {
             "colorbar": {
              "outlinewidth": 0,
              "ticks": ""
             }
            },
            "type": "scattergeo"
           }
          ],
          "scattergl": [
           {
            "marker": {
             "colorbar": {
              "outlinewidth": 0,
              "ticks": ""
             }
            },
            "type": "scattergl"
           }
          ],
          "scattermapbox": [
           {
            "marker": {
             "colorbar": {
              "outlinewidth": 0,
              "ticks": ""
             }
            },
            "type": "scattermapbox"
           }
          ],
          "scatterpolar": [
           {
            "marker": {
             "colorbar": {
              "outlinewidth": 0,
              "ticks": ""
             }
            },
            "type": "scatterpolar"
           }
          ],
          "scatterpolargl": [
           {
            "marker": {
             "colorbar": {
              "outlinewidth": 0,
              "ticks": ""
             }
            },
            "type": "scatterpolargl"
           }
          ],
          "scatterternary": [
           {
            "marker": {
             "colorbar": {
              "outlinewidth": 0,
              "ticks": ""
             }
            },
            "type": "scatterternary"
           }
          ],
          "surface": [
           {
            "colorbar": {
             "outlinewidth": 0,
             "ticks": ""
            },
            "colorscale": [
             [
              0,
              "#0d0887"
             ],
             [
              0.1111111111111111,
              "#46039f"
             ],
             [
              0.2222222222222222,
              "#7201a8"
             ],
             [
              0.3333333333333333,
              "#9c179e"
             ],
             [
              0.4444444444444444,
              "#bd3786"
             ],
             [
              0.5555555555555556,
              "#d8576b"
             ],
             [
              0.6666666666666666,
              "#ed7953"
             ],
             [
              0.7777777777777778,
              "#fb9f3a"
             ],
             [
              0.8888888888888888,
              "#fdca26"
             ],
             [
              1,
              "#f0f921"
             ]
            ],
            "type": "surface"
           }
          ],
          "table": [
           {
            "cells": {
             "fill": {
              "color": "#EBF0F8"
             },
             "line": {
              "color": "white"
             }
            },
            "header": {
             "fill": {
              "color": "#C8D4E3"
             },
             "line": {
              "color": "white"
             }
            },
            "type": "table"
           }
          ]
         },
         "layout": {
          "annotationdefaults": {
           "arrowcolor": "#2a3f5f",
           "arrowhead": 0,
           "arrowwidth": 1
          },
          "autotypenumbers": "strict",
          "coloraxis": {
           "colorbar": {
            "outlinewidth": 0,
            "ticks": ""
           }
          },
          "colorscale": {
           "diverging": [
            [
             0,
             "#8e0152"
            ],
            [
             0.1,
             "#c51b7d"
            ],
            [
             0.2,
             "#de77ae"
            ],
            [
             0.3,
             "#f1b6da"
            ],
            [
             0.4,
             "#fde0ef"
            ],
            [
             0.5,
             "#f7f7f7"
            ],
            [
             0.6,
             "#e6f5d0"
            ],
            [
             0.7,
             "#b8e186"
            ],
            [
             0.8,
             "#7fbc41"
            ],
            [
             0.9,
             "#4d9221"
            ],
            [
             1,
             "#276419"
            ]
           ],
           "sequential": [
            [
             0,
             "#0d0887"
            ],
            [
             0.1111111111111111,
             "#46039f"
            ],
            [
             0.2222222222222222,
             "#7201a8"
            ],
            [
             0.3333333333333333,
             "#9c179e"
            ],
            [
             0.4444444444444444,
             "#bd3786"
            ],
            [
             0.5555555555555556,
             "#d8576b"
            ],
            [
             0.6666666666666666,
             "#ed7953"
            ],
            [
             0.7777777777777778,
             "#fb9f3a"
            ],
            [
             0.8888888888888888,
             "#fdca26"
            ],
            [
             1,
             "#f0f921"
            ]
           ],
           "sequentialminus": [
            [
             0,
             "#0d0887"
            ],
            [
             0.1111111111111111,
             "#46039f"
            ],
            [
             0.2222222222222222,
             "#7201a8"
            ],
            [
             0.3333333333333333,
             "#9c179e"
            ],
            [
             0.4444444444444444,
             "#bd3786"
            ],
            [
             0.5555555555555556,
             "#d8576b"
            ],
            [
             0.6666666666666666,
             "#ed7953"
            ],
            [
             0.7777777777777778,
             "#fb9f3a"
            ],
            [
             0.8888888888888888,
             "#fdca26"
            ],
            [
             1,
             "#f0f921"
            ]
           ]
          },
          "colorway": [
           "#636efa",
           "#EF553B",
           "#00cc96",
           "#ab63fa",
           "#FFA15A",
           "#19d3f3",
           "#FF6692",
           "#B6E880",
           "#FF97FF",
           "#FECB52"
          ],
          "font": {
           "color": "#2a3f5f"
          },
          "geo": {
           "bgcolor": "white",
           "lakecolor": "white",
           "landcolor": "#E5ECF6",
           "showlakes": true,
           "showland": true,
           "subunitcolor": "white"
          },
          "hoverlabel": {
           "align": "left"
          },
          "hovermode": "closest",
          "mapbox": {
           "style": "light"
          },
          "paper_bgcolor": "white",
          "plot_bgcolor": "#E5ECF6",
          "polar": {
           "angularaxis": {
            "gridcolor": "white",
            "linecolor": "white",
            "ticks": ""
           },
           "bgcolor": "#E5ECF6",
           "radialaxis": {
            "gridcolor": "white",
            "linecolor": "white",
            "ticks": ""
           }
          },
          "scene": {
           "xaxis": {
            "backgroundcolor": "#E5ECF6",
            "gridcolor": "white",
            "gridwidth": 2,
            "linecolor": "white",
            "showbackground": true,
            "ticks": "",
            "zerolinecolor": "white"
           },
           "yaxis": {
            "backgroundcolor": "#E5ECF6",
            "gridcolor": "white",
            "gridwidth": 2,
            "linecolor": "white",
            "showbackground": true,
            "ticks": "",
            "zerolinecolor": "white"
           },
           "zaxis": {
            "backgroundcolor": "#E5ECF6",
            "gridcolor": "white",
            "gridwidth": 2,
            "linecolor": "white",
            "showbackground": true,
            "ticks": "",
            "zerolinecolor": "white"
           }
          },
          "shapedefaults": {
           "line": {
            "color": "#2a3f5f"
           }
          },
          "ternary": {
           "aaxis": {
            "gridcolor": "white",
            "linecolor": "white",
            "ticks": ""
           },
           "baxis": {
            "gridcolor": "white",
            "linecolor": "white",
            "ticks": ""
           },
           "bgcolor": "#E5ECF6",
           "caxis": {
            "gridcolor": "white",
            "linecolor": "white",
            "ticks": ""
           }
          },
          "title": {
           "x": 0.05
          },
          "xaxis": {
           "automargin": true,
           "gridcolor": "white",
           "linecolor": "white",
           "ticks": "",
           "title": {
            "standoff": 15
           },
           "zerolinecolor": "white",
           "zerolinewidth": 2
          },
          "yaxis": {
           "automargin": true,
           "gridcolor": "white",
           "linecolor": "white",
           "ticks": "",
           "title": {
            "standoff": 15
           },
           "zerolinecolor": "white",
           "zerolinewidth": 2
          }
         }
        },
        "xaxis": {
         "anchor": "y",
         "domain": [
          0,
          1
         ],
         "title": {
          "text": "Mean Happiness Score"
         }
        },
        "yaxis": {
         "anchor": "x",
         "domain": [
          0,
          1
         ],
         "title": {
          "text": "Average yearly temperature"
         }
        }
       }
      },
      "text/html": [
       "<div>                            <div id=\"802c1b49-3ac9-4e49-b0b2-0398c059032f\" class=\"plotly-graph-div\" style=\"height:525px; width:100%;\"></div>            <script type=\"text/javascript\">                require([\"plotly\"], function(Plotly) {                    window.PLOTLYENV=window.PLOTLYENV || {};                                    if (document.getElementById(\"802c1b49-3ac9-4e49-b0b2-0398c059032f\")) {                    Plotly.newPlot(                        \"802c1b49-3ac9-4e49-b0b2-0398c059032f\",                        [{\"hovertemplate\":\"Mean Happiness Score=%{x}<br>Average yearly temperature=%{y}<extra></extra>\",\"legendgroup\":\"\",\"line\":{\"color\":\"#636efa\",\"dash\":\"solid\"},\"marker\":{\"symbol\":\"circle\"},\"mode\":\"lines\",\"name\":\"\",\"orientation\":\"h\",\"showlegend\":false,\"x\":[7.62,7.57,7.53,7.53,7.5,7.43,7.34,7.3,7.28,7.24,7.2,7.18,7.14,7.06,7.01,6.99,6.96,6.92,6.9,6.73,6.73,6.67,6.57,6.56,6.54,6.5,6.48,6.45,6.44,6.43,6.42,6.41,6.39,6.36,6.3,6.24,6.22,6.22,6.18,6.16,6.15,6.13,6.11,6.08,6.05,6.03,6.03,5.99,5.94,5.93,5.91,5.89,5.89,5.83,5.8,5.8,5.79,5.78,5.77,5.76,5.76,5.73,5.7,5.69,5.64,5.59,5.56,5.55,5.55,5.5,5.48,5.47,5.46,5.44,5.42,5.41,5.39,5.38,5.33,5.32,5.3,5.29,5.27,5.27,5.26,5.25,5.24,5.21,5.2,5.19,5.14,5.12,5.09,5.09,4.96,4.96,4.96,4.91,4.9,4.86,4.8,4.79,4.78,4.78,4.71,4.7,4.7,4.68,4.66,4.65,4.64,4.62,4.61,4.6,4.56,4.52,4.52,4.5,4.5,4.5,4.46,4.46,4.41,4.41,4.39,4.38,4.38,4.36,4.36,4.35,4.34,4.32,4.26,4.23,4.21,4.18,4.18,4.17,4.08,4.07,4.01,3.91,3.87,3.85,3.83,3.82,3.82,3.76,3.68,3.63,3.5,3.42,3.34,3.31,3.27,3.15],\"xaxis\":\"x\",\"y\":[\"01.55\",\"\\u22123.70\",\"05.10\",\"\\u22120.70\",\"01.50\",\"09.25\",\"01.75\",\"10.55\",\"\\u22125.10\",\"21.65\",\"19.20\",\"06.35\",\"24.80\",\"08.65\",\"09.30\",\"08.55\",\"08.40\",\"08.45\",\"09.55\",\"07.55\",\"26.65\",\"21.00\",\"10.70\",\"24.95\",\"19.20\",\"26.45\",\"08.45\",\"27.15\",27.0,\"25.40\",\"17.55\",\"24.65\",\"13.30\",\"23.45\",\"14.80\",\"24.50\",\"26.80\",\"26.30\",\"25.75\",\"06.80\",\"13.45\",\"27.15\",\"24.45\",\"12.05\",\"08.90\",\"07.85\",\"06.20\",\"24.90\",\"21.85\",\"11.15\",\"05.50\",\"11.50\",\"18.45\",15.0,\"21.55\",\"24.95\",\"08.80\",\"02.00\",\"19.60\",\"09.45\",\"22.40\",\"05.60\",\"\\u22125.35\",\"23.55\",\"25.40\",\"10.90\",\"06.15\",\"10.55\",\"21.80\",\"25.55\",\"15.15\",\"09.75\",\"21.45\",\"23.50\",\"15.10\",\"25.35\",\"22.50\",\"10.55\",\"09.85\",\"02.10\",\"25.85\",\"09.90\",\"15.40\",\"24.55\",\"20.20\",\"24.45\",\"07.50\",\"11.95\",\"01.70\",\"06.40\",\"09.80\",\"07.40\",\"27.00\",\"17.10\",\"18.30\",\"27.05\",\"15.00\",\"08.10\",\"22.80\",\"11.40\",\"10.55\",\"17.75\",\"24.60\",\"27.50\",\"27.20\",\"23.80\",\"25.00\",20,\"17.25\",\"19.20\",\"07.15\",\"21.40\",\"24.55\",\"19.95\",\"27.85\",\"24.75\",\"26.35\",\"08.30\",\"05.65\",\"25.05\",\"21.40\",\"21.40\",\"24.00\",\"13.05\",\"27.15\",\"26.80\",\"22.20\",\"27.65\",\"26.05\",\"26.95\",\"22.10\",\"28.25\",\"28.29\",\"27.55\",\"22.80\",\"25.30\",\"23.65\",\"25.70\",\"26.55\",\"25.30\",\"11.85\",\"21.55\",\"22.65\",\"26.90\",\"24.90\",\"21.90\",\"21.00\",\"21.50\",\"23.85\",\"27.15\",\"22.35\",\"17.85\",\"19.80\",\"17.75\",\"12.60\",\"24.90\"],\"yaxis\":\"y\",\"type\":\"scatter\"}],                        {\"template\":{\"data\":{\"histogram2dcontour\":[{\"type\":\"histogram2dcontour\",\"colorbar\":{\"outlinewidth\":0,\"ticks\":\"\"},\"colorscale\":[[0.0,\"#0d0887\"],[0.1111111111111111,\"#46039f\"],[0.2222222222222222,\"#7201a8\"],[0.3333333333333333,\"#9c179e\"],[0.4444444444444444,\"#bd3786\"],[0.5555555555555556,\"#d8576b\"],[0.6666666666666666,\"#ed7953\"],[0.7777777777777778,\"#fb9f3a\"],[0.8888888888888888,\"#fdca26\"],[1.0,\"#f0f921\"]]}],\"choropleth\":[{\"type\":\"choropleth\",\"colorbar\":{\"outlinewidth\":0,\"ticks\":\"\"}}],\"histogram2d\":[{\"type\":\"histogram2d\",\"colorbar\":{\"outlinewidth\":0,\"ticks\":\"\"},\"colorscale\":[[0.0,\"#0d0887\"],[0.1111111111111111,\"#46039f\"],[0.2222222222222222,\"#7201a8\"],[0.3333333333333333,\"#9c179e\"],[0.4444444444444444,\"#bd3786\"],[0.5555555555555556,\"#d8576b\"],[0.6666666666666666,\"#ed7953\"],[0.7777777777777778,\"#fb9f3a\"],[0.8888888888888888,\"#fdca26\"],[1.0,\"#f0f921\"]]}],\"heatmap\":[{\"type\":\"heatmap\",\"colorbar\":{\"outlinewidth\":0,\"ticks\":\"\"},\"colorscale\":[[0.0,\"#0d0887\"],[0.1111111111111111,\"#46039f\"],[0.2222222222222222,\"#7201a8\"],[0.3333333333333333,\"#9c179e\"],[0.4444444444444444,\"#bd3786\"],[0.5555555555555556,\"#d8576b\"],[0.6666666666666666,\"#ed7953\"],[0.7777777777777778,\"#fb9f3a\"],[0.8888888888888888,\"#fdca26\"],[1.0,\"#f0f921\"]]}],\"heatmapgl\":[{\"type\":\"heatmapgl\",\"colorbar\":{\"outlinewidth\":0,\"ticks\":\"\"},\"colorscale\":[[0.0,\"#0d0887\"],[0.1111111111111111,\"#46039f\"],[0.2222222222222222,\"#7201a8\"],[0.3333333333333333,\"#9c179e\"],[0.4444444444444444,\"#bd3786\"],[0.5555555555555556,\"#d8576b\"],[0.6666666666666666,\"#ed7953\"],[0.7777777777777778,\"#fb9f3a\"],[0.8888888888888888,\"#fdca26\"],[1.0,\"#f0f921\"]]}],\"contourcarpet\":[{\"type\":\"contourcarpet\",\"colorbar\":{\"outlinewidth\":0,\"ticks\":\"\"}}],\"contour\":[{\"type\":\"contour\",\"colorbar\":{\"outlinewidth\":0,\"ticks\":\"\"},\"colorscale\":[[0.0,\"#0d0887\"],[0.1111111111111111,\"#46039f\"],[0.2222222222222222,\"#7201a8\"],[0.3333333333333333,\"#9c179e\"],[0.4444444444444444,\"#bd3786\"],[0.5555555555555556,\"#d8576b\"],[0.6666666666666666,\"#ed7953\"],[0.7777777777777778,\"#fb9f3a\"],[0.8888888888888888,\"#fdca26\"],[1.0,\"#f0f921\"]]}],\"surface\":[{\"type\":\"surface\",\"colorbar\":{\"outlinewidth\":0,\"ticks\":\"\"},\"colorscale\":[[0.0,\"#0d0887\"],[0.1111111111111111,\"#46039f\"],[0.2222222222222222,\"#7201a8\"],[0.3333333333333333,\"#9c179e\"],[0.4444444444444444,\"#bd3786\"],[0.5555555555555556,\"#d8576b\"],[0.6666666666666666,\"#ed7953\"],[0.7777777777777778,\"#fb9f3a\"],[0.8888888888888888,\"#fdca26\"],[1.0,\"#f0f921\"]]}],\"mesh3d\":[{\"type\":\"mesh3d\",\"colorbar\":{\"outlinewidth\":0,\"ticks\":\"\"}}],\"scatter\":[{\"fillpattern\":{\"fillmode\":\"overlay\",\"size\":10,\"solidity\":0.2},\"type\":\"scatter\"}],\"parcoords\":[{\"type\":\"parcoords\",\"line\":{\"colorbar\":{\"outlinewidth\":0,\"ticks\":\"\"}}}],\"scatterpolargl\":[{\"type\":\"scatterpolargl\",\"marker\":{\"colorbar\":{\"outlinewidth\":0,\"ticks\":\"\"}}}],\"bar\":[{\"error_x\":{\"color\":\"#2a3f5f\"},\"error_y\":{\"color\":\"#2a3f5f\"},\"marker\":{\"line\":{\"color\":\"#E5ECF6\",\"width\":0.5},\"pattern\":{\"fillmode\":\"overlay\",\"size\":10,\"solidity\":0.2}},\"type\":\"bar\"}],\"scattergeo\":[{\"type\":\"scattergeo\",\"marker\":{\"colorbar\":{\"outlinewidth\":0,\"ticks\":\"\"}}}],\"scatterpolar\":[{\"type\":\"scatterpolar\",\"marker\":{\"colorbar\":{\"outlinewidth\":0,\"ticks\":\"\"}}}],\"histogram\":[{\"marker\":{\"pattern\":{\"fillmode\":\"overlay\",\"size\":10,\"solidity\":0.2}},\"type\":\"histogram\"}],\"scattergl\":[{\"type\":\"scattergl\",\"marker\":{\"colorbar\":{\"outlinewidth\":0,\"ticks\":\"\"}}}],\"scatter3d\":[{\"type\":\"scatter3d\",\"line\":{\"colorbar\":{\"outlinewidth\":0,\"ticks\":\"\"}},\"marker\":{\"colorbar\":{\"outlinewidth\":0,\"ticks\":\"\"}}}],\"scattermapbox\":[{\"type\":\"scattermapbox\",\"marker\":{\"colorbar\":{\"outlinewidth\":0,\"ticks\":\"\"}}}],\"scatterternary\":[{\"type\":\"scatterternary\",\"marker\":{\"colorbar\":{\"outlinewidth\":0,\"ticks\":\"\"}}}],\"scattercarpet\":[{\"type\":\"scattercarpet\",\"marker\":{\"colorbar\":{\"outlinewidth\":0,\"ticks\":\"\"}}}],\"carpet\":[{\"aaxis\":{\"endlinecolor\":\"#2a3f5f\",\"gridcolor\":\"white\",\"linecolor\":\"white\",\"minorgridcolor\":\"white\",\"startlinecolor\":\"#2a3f5f\"},\"baxis\":{\"endlinecolor\":\"#2a3f5f\",\"gridcolor\":\"white\",\"linecolor\":\"white\",\"minorgridcolor\":\"white\",\"startlinecolor\":\"#2a3f5f\"},\"type\":\"carpet\"}],\"table\":[{\"cells\":{\"fill\":{\"color\":\"#EBF0F8\"},\"line\":{\"color\":\"white\"}},\"header\":{\"fill\":{\"color\":\"#C8D4E3\"},\"line\":{\"color\":\"white\"}},\"type\":\"table\"}],\"barpolar\":[{\"marker\":{\"line\":{\"color\":\"#E5ECF6\",\"width\":0.5},\"pattern\":{\"fillmode\":\"overlay\",\"size\":10,\"solidity\":0.2}},\"type\":\"barpolar\"}],\"pie\":[{\"automargin\":true,\"type\":\"pie\"}]},\"layout\":{\"autotypenumbers\":\"strict\",\"colorway\":[\"#636efa\",\"#EF553B\",\"#00cc96\",\"#ab63fa\",\"#FFA15A\",\"#19d3f3\",\"#FF6692\",\"#B6E880\",\"#FF97FF\",\"#FECB52\"],\"font\":{\"color\":\"#2a3f5f\"},\"hovermode\":\"closest\",\"hoverlabel\":{\"align\":\"left\"},\"paper_bgcolor\":\"white\",\"plot_bgcolor\":\"#E5ECF6\",\"polar\":{\"bgcolor\":\"#E5ECF6\",\"angularaxis\":{\"gridcolor\":\"white\",\"linecolor\":\"white\",\"ticks\":\"\"},\"radialaxis\":{\"gridcolor\":\"white\",\"linecolor\":\"white\",\"ticks\":\"\"}},\"ternary\":{\"bgcolor\":\"#E5ECF6\",\"aaxis\":{\"gridcolor\":\"white\",\"linecolor\":\"white\",\"ticks\":\"\"},\"baxis\":{\"gridcolor\":\"white\",\"linecolor\":\"white\",\"ticks\":\"\"},\"caxis\":{\"gridcolor\":\"white\",\"linecolor\":\"white\",\"ticks\":\"\"}},\"coloraxis\":{\"colorbar\":{\"outlinewidth\":0,\"ticks\":\"\"}},\"colorscale\":{\"sequential\":[[0.0,\"#0d0887\"],[0.1111111111111111,\"#46039f\"],[0.2222222222222222,\"#7201a8\"],[0.3333333333333333,\"#9c179e\"],[0.4444444444444444,\"#bd3786\"],[0.5555555555555556,\"#d8576b\"],[0.6666666666666666,\"#ed7953\"],[0.7777777777777778,\"#fb9f3a\"],[0.8888888888888888,\"#fdca26\"],[1.0,\"#f0f921\"]],\"sequentialminus\":[[0.0,\"#0d0887\"],[0.1111111111111111,\"#46039f\"],[0.2222222222222222,\"#7201a8\"],[0.3333333333333333,\"#9c179e\"],[0.4444444444444444,\"#bd3786\"],[0.5555555555555556,\"#d8576b\"],[0.6666666666666666,\"#ed7953\"],[0.7777777777777778,\"#fb9f3a\"],[0.8888888888888888,\"#fdca26\"],[1.0,\"#f0f921\"]],\"diverging\":[[0,\"#8e0152\"],[0.1,\"#c51b7d\"],[0.2,\"#de77ae\"],[0.3,\"#f1b6da\"],[0.4,\"#fde0ef\"],[0.5,\"#f7f7f7\"],[0.6,\"#e6f5d0\"],[0.7,\"#b8e186\"],[0.8,\"#7fbc41\"],[0.9,\"#4d9221\"],[1,\"#276419\"]]},\"xaxis\":{\"gridcolor\":\"white\",\"linecolor\":\"white\",\"ticks\":\"\",\"title\":{\"standoff\":15},\"zerolinecolor\":\"white\",\"automargin\":true,\"zerolinewidth\":2},\"yaxis\":{\"gridcolor\":\"white\",\"linecolor\":\"white\",\"ticks\":\"\",\"title\":{\"standoff\":15},\"zerolinecolor\":\"white\",\"automargin\":true,\"zerolinewidth\":2},\"scene\":{\"xaxis\":{\"backgroundcolor\":\"#E5ECF6\",\"gridcolor\":\"white\",\"linecolor\":\"white\",\"showbackground\":true,\"ticks\":\"\",\"zerolinecolor\":\"white\",\"gridwidth\":2},\"yaxis\":{\"backgroundcolor\":\"#E5ECF6\",\"gridcolor\":\"white\",\"linecolor\":\"white\",\"showbackground\":true,\"ticks\":\"\",\"zerolinecolor\":\"white\",\"gridwidth\":2},\"zaxis\":{\"backgroundcolor\":\"#E5ECF6\",\"gridcolor\":\"white\",\"linecolor\":\"white\",\"showbackground\":true,\"ticks\":\"\",\"zerolinecolor\":\"white\",\"gridwidth\":2}},\"shapedefaults\":{\"line\":{\"color\":\"#2a3f5f\"}},\"annotationdefaults\":{\"arrowcolor\":\"#2a3f5f\",\"arrowhead\":0,\"arrowwidth\":1},\"geo\":{\"bgcolor\":\"white\",\"landcolor\":\"#E5ECF6\",\"subunitcolor\":\"white\",\"showland\":true,\"showlakes\":true,\"lakecolor\":\"white\"},\"title\":{\"x\":0.05},\"mapbox\":{\"style\":\"light\"}}},\"xaxis\":{\"anchor\":\"y\",\"domain\":[0.0,1.0],\"title\":{\"text\":\"Mean Happiness Score\"}},\"yaxis\":{\"anchor\":\"x\",\"domain\":[0.0,1.0],\"title\":{\"text\":\"Average yearly temperature\"}},\"legend\":{\"tracegroupgap\":0},\"margin\":{\"t\":60}},                        {\"responsive\": true}                    ).then(function(){\n",
       "                            \n",
       "var gd = document.getElementById('802c1b49-3ac9-4e49-b0b2-0398c059032f');\n",
       "var x = new MutationObserver(function (mutations, observer) {{\n",
       "        var display = window.getComputedStyle(gd).display;\n",
       "        if (!display || display === 'none') {{\n",
       "            console.log([gd, 'removed!']);\n",
       "            Plotly.purge(gd);\n",
       "            observer.disconnect();\n",
       "        }}\n",
       "}});\n",
       "\n",
       "// Listen for the removal of the full notebook cells\n",
       "var notebookContainer = gd.closest('#notebook-container');\n",
       "if (notebookContainer) {{\n",
       "    x.observe(notebookContainer, {childList: true});\n",
       "}}\n",
       "\n",
       "// Listen for the clearing of the current output cell\n",
       "var outputEl = gd.closest('.output');\n",
       "if (outputEl) {{\n",
       "    x.observe(outputEl, {childList: true});\n",
       "}}\n",
       "\n",
       "                        })                };                });            </script>        </div>"
      ]
     },
     "metadata": {},
     "output_type": "display_data"
    }
   ],
   "source": [
    "fig = px.line(df, x=\"Mean Happiness Score\", y=\"Average yearly temperature\")\n",
    "fig.show()  "
   ]
  },
  {
   "cell_type": "code",
   "execution_count": 106,
   "id": "076ff591",
   "metadata": {},
   "outputs": [
    {
     "data": {
      "application/vnd.plotly.v1+json": {
       "config": {
        "plotlyServerURL": "https://plot.ly"
       },
       "data": [
        {
         "autocolorscale": false,
         "colorbar": {
          "title": {
           "text": "Happiness Rank"
          }
         },
         "colorscale": [
          [
           0,
           "rgb(247, 254, 174)"
          ],
          [
           0.16666666666666666,
           "rgb(183, 230, 165)"
          ],
          [
           0.3333333333333333,
           "rgb(124, 203, 162)"
          ],
          [
           0.5,
           "rgb(70, 174, 160)"
          ],
          [
           0.6666666666666666,
           "rgb(8, 144, 153)"
          ],
          [
           0.8333333333333334,
           "rgb(0, 113, 139)"
          ],
          [
           1,
           "rgb(4, 82, 117)"
          ]
         ],
         "locationmode": "country names",
         "locations": [
          "Finland",
          "Denmark",
          "Switzerland",
          "Iceland",
          "Norway",
          "Netherlands",
          "Sweden",
          "New Zealand",
          "Canada",
          "Australia",
          "Israel",
          "Austria",
          "Costa Rica",
          "Luxembourg",
          "Ireland",
          "United States",
          "Germany",
          "United Kingdom",
          "Belgium",
          "Czech Republic",
          "United Arab Emirates",
          "Mexico",
          "France",
          "Brazil",
          "Malta",
          "Singapore",
          "Chile",
          "Qatar",
          "Taiwan",
          "Panama",
          "Uruguay",
          "Saudi Arabia",
          "Spain",
          "Guatemala",
          "Argentina",
          "Colombia",
          "Bahrain",
          "Thailand",
          "Trinidad and Tobago",
          "Slovakia",
          "Italy",
          "Kuwait",
          "El Salvador",
          "Uzbekistan",
          "Slovenia",
          "Poland",
          "Lithuania",
          "Nicaragua",
          "Ecuador",
          "Japan",
          "Kazakhstan",
          "South Korea",
          "Cyprus",
          "Kosovo",
          "Bolivia",
          "Jamaica",
          "Romania",
          "Estonia",
          "Peru",
          "Moldova",
          "Mauritius",
          "Latvia",
          "Russia",
          "Paraguay",
          "Malaysia",
          "Croatia",
          "Belarus",
          "Serbia",
          "Libya",
          "Philippines",
          "Portugal",
          "Hungary",
          "Hong Kong",
          "Honduras",
          "Turkmenistan",
          "Venezuela",
          "Algeria",
          "Montenegro",
          "Bosnia and Herzegovina",
          "Kyrgyzstan",
          "Indonesia",
          "Turkey",
          "Greece",
          "Dominican Republic",
          "Pakistan",
          "Vietnam",
          "China",
          "Azerbaijan",
          "Mongolia",
          "Tajikistan",
          "Macedonia",
          "Bhutan",
          "Nigeria",
          "Morocco",
          "Jordan",
          "Somalia",
          "Lebanon",
          "Nepal",
          "Laos",
          "Albania",
          "Bulgaria",
          "South Africa",
          "Cameroon",
          "Gambia",
          "Ghana",
          "Mozambique",
          "Bangladesh",
          "Palestinian Territories",
          "Iran",
          "Tunisia",
          "Armenia",
          "Iraq",
          "Republic of the Congo",
          "Namibia",
          "Senegal",
          "Kenya",
          "Ivory Coast",
          "Ukraine",
          "Georgia",
          "Gabon",
          "Swaziland",
          "Zambia",
          "Democratic Republic of the Congo",
          "Myanmar",
          "Niger",
          "Cambodia",
          "Ethiopia",
          "Mauritania",
          "Sierra Leone",
          "Sri Lanka",
          "Egypt",
          "Mali",
          "Burkina Faso",
          "Benin",
          "Uganda",
          "Liberia",
          "India",
          "Guinea",
          "Chad",
          "Comoros",
          "Lesotho",
          "Angola",
          "Madagascar",
          "Sudan",
          "Haiti",
          "Malawi",
          "Zimbabwe",
          "Botswana",
          "Yemen",
          "Togo",
          "Tanzania",
          "Rwanda",
          "Burundi",
          "Syria",
          "Afghanistan",
          "Central African Republic"
         ],
         "marker": {
          "line": {
           "color": "#efefef",
           "width": 0.5
          }
         },
         "reversescale": false,
         "text": [
          1.38,
          1.42,
          1.49,
          1.41,
          1.53,
          1.43,
          1.42,
          1.34,
          1.4,
          1.41,
          1.31,
          1.42,
          1.06,
          1.67,
          1.5,
          1.48,
          1.42,
          1.37,
          1.4,
          1.29,
          1.53,
          1.09,
          1.36,
          1.03,
          1.32,
          1.62,
          1.18,
          1.75,
          1.39,
          1.19,
          1.14,
          1.44,
          1.32,
          0.82,
          1.12,
          1,
          1.4,
          1.06,
          1.27,
          1.26,
          1.33,
          1.54,
          0.83,
          0.73,
          1.29,
          1.23,
          1.26,
          0.68,
          0.93,
          1.35,
          1.2,
          1.34,
          1.3,
          0.89,
          0.78,
          0.86,
          1.17,
          1.26,
          0.97,
          0.75,
          1.12,
          1.21,
          1.21,
          0.88,
          1.22,
          1.18,
          1.09,
          1.02,
          1.08,
          0.81,
          1.25,
          1.23,
          1.48,
          0.67,
          1.05,
          1,
          0.99,
          1.08,
          0.95,
          0.57,
          0.93,
          1.18,
          1.22,
          1.02,
          0.66,
          0.74,
          1.02,
          1.06,
          0.94,
          0.48,
          1.01,
          0.82,
          0.7,
          0.8,
          0.9,
          0.07,
          1.03,
          0.45,
          0.72,
          0.96,
          1.11,
          0.98,
          0.52,
          0.34,
          0.63,
          0.18,
          0.55,
          0.65,
          1.07,
          0.93,
          0.88,
          1.01,
          0.67,
          0.91,
          0.45,
          0.51,
          0.58,
          0.87,
          0.9,
          1.09,
          0.79,
          0.55,
          0.06,
          0.5,
          0.13,
          0.56,
          0.31,
          0.58,
          0.31,
          0.95,
          0.93,
          0.38,
          0.33,
          0.4,
          0.32,
          0.12,
          0.73,
          0.3,
          0.35,
          0.33,
          0.46,
          0.81,
          0.26,
          0.5,
          0.31,
          0.14,
          0.37,
          1.06,
          0.44,
          0.26,
          0.43,
          0.33,
          0.04,
          0.69,
          0.36,
          0.03
         ],
         "type": "choropleth",
         "z": [
          1,
          2,
          3,
          3,
          4,
          5,
          6,
          7,
          8,
          9,
          10,
          11,
          12,
          13,
          14,
          15,
          16,
          17,
          18,
          19,
          19,
          20,
          21,
          22,
          23,
          24,
          25,
          26,
          27,
          28,
          29,
          30,
          31,
          32,
          33,
          34,
          35,
          35,
          36,
          37,
          38,
          39,
          40,
          41,
          42,
          43,
          43,
          44,
          45,
          46,
          47,
          48,
          48,
          49,
          50,
          50,
          51,
          52,
          53,
          54,
          54,
          55,
          56,
          57,
          58,
          59,
          60,
          61,
          61,
          62,
          63,
          64,
          65,
          66,
          67,
          68,
          69,
          70,
          71,
          72,
          73,
          74,
          75,
          75,
          76,
          77,
          78,
          79,
          80,
          81,
          82,
          83,
          84,
          84,
          85,
          85,
          85,
          86,
          87,
          88,
          89,
          90,
          91,
          91,
          92,
          93,
          93,
          94,
          95,
          96,
          97,
          98,
          99,
          100,
          101,
          102,
          102,
          103,
          103,
          103,
          104,
          104,
          105,
          105,
          106,
          107,
          107,
          108,
          108,
          109,
          110,
          111,
          112,
          113,
          114,
          115,
          115,
          116,
          117,
          118,
          119,
          120,
          121,
          122,
          123,
          124,
          124,
          125,
          126,
          127,
          128,
          129,
          130,
          131,
          132,
          133
         ]
        }
       ],
       "layout": {
        "geo": {
         "coastlinecolor": "#dadada",
         "lakecolor": "#eaeaea",
         "oceancolor": "#eaeaea",
         "projection": {
          "type": "miller"
         },
         "resolution": 50,
         "scope": "world",
         "showcoastlines": true,
         "showcountries": true,
         "showocean": true
        },
        "showlegend": false,
        "template": {
         "data": {
          "bar": [
           {
            "error_x": {
             "color": "#2a3f5f"
            },
            "error_y": {
             "color": "#2a3f5f"
            },
            "marker": {
             "line": {
              "color": "#E5ECF6",
              "width": 0.5
             },
             "pattern": {
              "fillmode": "overlay",
              "size": 10,
              "solidity": 0.2
             }
            },
            "type": "bar"
           }
          ],
          "barpolar": [
           {
            "marker": {
             "line": {
              "color": "#E5ECF6",
              "width": 0.5
             },
             "pattern": {
              "fillmode": "overlay",
              "size": 10,
              "solidity": 0.2
             }
            },
            "type": "barpolar"
           }
          ],
          "carpet": [
           {
            "aaxis": {
             "endlinecolor": "#2a3f5f",
             "gridcolor": "white",
             "linecolor": "white",
             "minorgridcolor": "white",
             "startlinecolor": "#2a3f5f"
            },
            "baxis": {
             "endlinecolor": "#2a3f5f",
             "gridcolor": "white",
             "linecolor": "white",
             "minorgridcolor": "white",
             "startlinecolor": "#2a3f5f"
            },
            "type": "carpet"
           }
          ],
          "choropleth": [
           {
            "colorbar": {
             "outlinewidth": 0,
             "ticks": ""
            },
            "type": "choropleth"
           }
          ],
          "contour": [
           {
            "colorbar": {
             "outlinewidth": 0,
             "ticks": ""
            },
            "colorscale": [
             [
              0,
              "#0d0887"
             ],
             [
              0.1111111111111111,
              "#46039f"
             ],
             [
              0.2222222222222222,
              "#7201a8"
             ],
             [
              0.3333333333333333,
              "#9c179e"
             ],
             [
              0.4444444444444444,
              "#bd3786"
             ],
             [
              0.5555555555555556,
              "#d8576b"
             ],
             [
              0.6666666666666666,
              "#ed7953"
             ],
             [
              0.7777777777777778,
              "#fb9f3a"
             ],
             [
              0.8888888888888888,
              "#fdca26"
             ],
             [
              1,
              "#f0f921"
             ]
            ],
            "type": "contour"
           }
          ],
          "contourcarpet": [
           {
            "colorbar": {
             "outlinewidth": 0,
             "ticks": ""
            },
            "type": "contourcarpet"
           }
          ],
          "heatmap": [
           {
            "colorbar": {
             "outlinewidth": 0,
             "ticks": ""
            },
            "colorscale": [
             [
              0,
              "#0d0887"
             ],
             [
              0.1111111111111111,
              "#46039f"
             ],
             [
              0.2222222222222222,
              "#7201a8"
             ],
             [
              0.3333333333333333,
              "#9c179e"
             ],
             [
              0.4444444444444444,
              "#bd3786"
             ],
             [
              0.5555555555555556,
              "#d8576b"
             ],
             [
              0.6666666666666666,
              "#ed7953"
             ],
             [
              0.7777777777777778,
              "#fb9f3a"
             ],
             [
              0.8888888888888888,
              "#fdca26"
             ],
             [
              1,
              "#f0f921"
             ]
            ],
            "type": "heatmap"
           }
          ],
          "heatmapgl": [
           {
            "colorbar": {
             "outlinewidth": 0,
             "ticks": ""
            },
            "colorscale": [
             [
              0,
              "#0d0887"
             ],
             [
              0.1111111111111111,
              "#46039f"
             ],
             [
              0.2222222222222222,
              "#7201a8"
             ],
             [
              0.3333333333333333,
              "#9c179e"
             ],
             [
              0.4444444444444444,
              "#bd3786"
             ],
             [
              0.5555555555555556,
              "#d8576b"
             ],
             [
              0.6666666666666666,
              "#ed7953"
             ],
             [
              0.7777777777777778,
              "#fb9f3a"
             ],
             [
              0.8888888888888888,
              "#fdca26"
             ],
             [
              1,
              "#f0f921"
             ]
            ],
            "type": "heatmapgl"
           }
          ],
          "histogram": [
           {
            "marker": {
             "pattern": {
              "fillmode": "overlay",
              "size": 10,
              "solidity": 0.2
             }
            },
            "type": "histogram"
           }
          ],
          "histogram2d": [
           {
            "colorbar": {
             "outlinewidth": 0,
             "ticks": ""
            },
            "colorscale": [
             [
              0,
              "#0d0887"
             ],
             [
              0.1111111111111111,
              "#46039f"
             ],
             [
              0.2222222222222222,
              "#7201a8"
             ],
             [
              0.3333333333333333,
              "#9c179e"
             ],
             [
              0.4444444444444444,
              "#bd3786"
             ],
             [
              0.5555555555555556,
              "#d8576b"
             ],
             [
              0.6666666666666666,
              "#ed7953"
             ],
             [
              0.7777777777777778,
              "#fb9f3a"
             ],
             [
              0.8888888888888888,
              "#fdca26"
             ],
             [
              1,
              "#f0f921"
             ]
            ],
            "type": "histogram2d"
           }
          ],
          "histogram2dcontour": [
           {
            "colorbar": {
             "outlinewidth": 0,
             "ticks": ""
            },
            "colorscale": [
             [
              0,
              "#0d0887"
             ],
             [
              0.1111111111111111,
              "#46039f"
             ],
             [
              0.2222222222222222,
              "#7201a8"
             ],
             [
              0.3333333333333333,
              "#9c179e"
             ],
             [
              0.4444444444444444,
              "#bd3786"
             ],
             [
              0.5555555555555556,
              "#d8576b"
             ],
             [
              0.6666666666666666,
              "#ed7953"
             ],
             [
              0.7777777777777778,
              "#fb9f3a"
             ],
             [
              0.8888888888888888,
              "#fdca26"
             ],
             [
              1,
              "#f0f921"
             ]
            ],
            "type": "histogram2dcontour"
           }
          ],
          "mesh3d": [
           {
            "colorbar": {
             "outlinewidth": 0,
             "ticks": ""
            },
            "type": "mesh3d"
           }
          ],
          "parcoords": [
           {
            "line": {
             "colorbar": {
              "outlinewidth": 0,
              "ticks": ""
             }
            },
            "type": "parcoords"
           }
          ],
          "pie": [
           {
            "automargin": true,
            "type": "pie"
           }
          ],
          "scatter": [
           {
            "fillpattern": {
             "fillmode": "overlay",
             "size": 10,
             "solidity": 0.2
            },
            "type": "scatter"
           }
          ],
          "scatter3d": [
           {
            "line": {
             "colorbar": {
              "outlinewidth": 0,
              "ticks": ""
             }
            },
            "marker": {
             "colorbar": {
              "outlinewidth": 0,
              "ticks": ""
             }
            },
            "type": "scatter3d"
           }
          ],
          "scattercarpet": [
           {
            "marker": {
             "colorbar": {
              "outlinewidth": 0,
              "ticks": ""
             }
            },
            "type": "scattercarpet"
           }
          ],
          "scattergeo": [
           {
            "marker": {
             "colorbar": {
              "outlinewidth": 0,
              "ticks": ""
             }
            },
            "type": "scattergeo"
           }
          ],
          "scattergl": [
           {
            "marker": {
             "colorbar": {
              "outlinewidth": 0,
              "ticks": ""
             }
            },
            "type": "scattergl"
           }
          ],
          "scattermapbox": [
           {
            "marker": {
             "colorbar": {
              "outlinewidth": 0,
              "ticks": ""
             }
            },
            "type": "scattermapbox"
           }
          ],
          "scatterpolar": [
           {
            "marker": {
             "colorbar": {
              "outlinewidth": 0,
              "ticks": ""
             }
            },
            "type": "scatterpolar"
           }
          ],
          "scatterpolargl": [
           {
            "marker": {
             "colorbar": {
              "outlinewidth": 0,
              "ticks": ""
             }
            },
            "type": "scatterpolargl"
           }
          ],
          "scatterternary": [
           {
            "marker": {
             "colorbar": {
              "outlinewidth": 0,
              "ticks": ""
             }
            },
            "type": "scatterternary"
           }
          ],
          "surface": [
           {
            "colorbar": {
             "outlinewidth": 0,
             "ticks": ""
            },
            "colorscale": [
             [
              0,
              "#0d0887"
             ],
             [
              0.1111111111111111,
              "#46039f"
             ],
             [
              0.2222222222222222,
              "#7201a8"
             ],
             [
              0.3333333333333333,
              "#9c179e"
             ],
             [
              0.4444444444444444,
              "#bd3786"
             ],
             [
              0.5555555555555556,
              "#d8576b"
             ],
             [
              0.6666666666666666,
              "#ed7953"
             ],
             [
              0.7777777777777778,
              "#fb9f3a"
             ],
             [
              0.8888888888888888,
              "#fdca26"
             ],
             [
              1,
              "#f0f921"
             ]
            ],
            "type": "surface"
           }
          ],
          "table": [
           {
            "cells": {
             "fill": {
              "color": "#EBF0F8"
             },
             "line": {
              "color": "white"
             }
            },
            "header": {
             "fill": {
              "color": "#C8D4E3"
             },
             "line": {
              "color": "white"
             }
            },
            "type": "table"
           }
          ]
         },
         "layout": {
          "annotationdefaults": {
           "arrowcolor": "#2a3f5f",
           "arrowhead": 0,
           "arrowwidth": 1
          },
          "autotypenumbers": "strict",
          "coloraxis": {
           "colorbar": {
            "outlinewidth": 0,
            "ticks": ""
           }
          },
          "colorscale": {
           "diverging": [
            [
             0,
             "#8e0152"
            ],
            [
             0.1,
             "#c51b7d"
            ],
            [
             0.2,
             "#de77ae"
            ],
            [
             0.3,
             "#f1b6da"
            ],
            [
             0.4,
             "#fde0ef"
            ],
            [
             0.5,
             "#f7f7f7"
            ],
            [
             0.6,
             "#e6f5d0"
            ],
            [
             0.7,
             "#b8e186"
            ],
            [
             0.8,
             "#7fbc41"
            ],
            [
             0.9,
             "#4d9221"
            ],
            [
             1,
             "#276419"
            ]
           ],
           "sequential": [
            [
             0,
             "#0d0887"
            ],
            [
             0.1111111111111111,
             "#46039f"
            ],
            [
             0.2222222222222222,
             "#7201a8"
            ],
            [
             0.3333333333333333,
             "#9c179e"
            ],
            [
             0.4444444444444444,
             "#bd3786"
            ],
            [
             0.5555555555555556,
             "#d8576b"
            ],
            [
             0.6666666666666666,
             "#ed7953"
            ],
            [
             0.7777777777777778,
             "#fb9f3a"
            ],
            [
             0.8888888888888888,
             "#fdca26"
            ],
            [
             1,
             "#f0f921"
            ]
           ],
           "sequentialminus": [
            [
             0,
             "#0d0887"
            ],
            [
             0.1111111111111111,
             "#46039f"
            ],
            [
             0.2222222222222222,
             "#7201a8"
            ],
            [
             0.3333333333333333,
             "#9c179e"
            ],
            [
             0.4444444444444444,
             "#bd3786"
            ],
            [
             0.5555555555555556,
             "#d8576b"
            ],
            [
             0.6666666666666666,
             "#ed7953"
            ],
            [
             0.7777777777777778,
             "#fb9f3a"
            ],
            [
             0.8888888888888888,
             "#fdca26"
            ],
            [
             1,
             "#f0f921"
            ]
           ]
          },
          "colorway": [
           "#636efa",
           "#EF553B",
           "#00cc96",
           "#ab63fa",
           "#FFA15A",
           "#19d3f3",
           "#FF6692",
           "#B6E880",
           "#FF97FF",
           "#FECB52"
          ],
          "font": {
           "color": "#2a3f5f"
          },
          "geo": {
           "bgcolor": "white",
           "lakecolor": "white",
           "landcolor": "#E5ECF6",
           "showlakes": true,
           "showland": true,
           "subunitcolor": "white"
          },
          "hoverlabel": {
           "align": "left"
          },
          "hovermode": "closest",
          "mapbox": {
           "style": "light"
          },
          "paper_bgcolor": "white",
          "plot_bgcolor": "#E5ECF6",
          "polar": {
           "angularaxis": {
            "gridcolor": "white",
            "linecolor": "white",
            "ticks": ""
           },
           "bgcolor": "#E5ECF6",
           "radialaxis": {
            "gridcolor": "white",
            "linecolor": "white",
            "ticks": ""
           }
          },
          "scene": {
           "xaxis": {
            "backgroundcolor": "#E5ECF6",
            "gridcolor": "white",
            "gridwidth": 2,
            "linecolor": "white",
            "showbackground": true,
            "ticks": "",
            "zerolinecolor": "white"
           },
           "yaxis": {
            "backgroundcolor": "#E5ECF6",
            "gridcolor": "white",
            "gridwidth": 2,
            "linecolor": "white",
            "showbackground": true,
            "ticks": "",
            "zerolinecolor": "white"
           },
           "zaxis": {
            "backgroundcolor": "#E5ECF6",
            "gridcolor": "white",
            "gridwidth": 2,
            "linecolor": "white",
            "showbackground": true,
            "ticks": "",
            "zerolinecolor": "white"
           }
          },
          "shapedefaults": {
           "line": {
            "color": "#2a3f5f"
           }
          },
          "ternary": {
           "aaxis": {
            "gridcolor": "white",
            "linecolor": "white",
            "ticks": ""
           },
           "baxis": {
            "gridcolor": "white",
            "linecolor": "white",
            "ticks": ""
           },
           "bgcolor": "#E5ECF6",
           "caxis": {
            "gridcolor": "white",
            "linecolor": "white",
            "ticks": ""
           }
          },
          "title": {
           "x": 0.05
          },
          "xaxis": {
           "automargin": true,
           "gridcolor": "white",
           "linecolor": "white",
           "ticks": "",
           "title": {
            "standoff": 15
           },
           "zerolinecolor": "white",
           "zerolinewidth": 2
          },
          "yaxis": {
           "automargin": true,
           "gridcolor": "white",
           "linecolor": "white",
           "ticks": "",
           "title": {
            "standoff": 15
           },
           "zerolinecolor": "white",
           "zerolinewidth": 2
          }
         }
        },
        "title": {
         "text": "Happiness Score and GDP per capita"
        }
       }
      },
      "text/html": [
       "<div>                            <div id=\"555091b4-9a06-4af6-98e6-dedbf1c17040\" class=\"plotly-graph-div\" style=\"height:525px; width:100%;\"></div>            <script type=\"text/javascript\">                require([\"plotly\"], function(Plotly) {                    window.PLOTLYENV=window.PLOTLYENV || {};                                    if (document.getElementById(\"555091b4-9a06-4af6-98e6-dedbf1c17040\")) {                    Plotly.newPlot(                        \"555091b4-9a06-4af6-98e6-dedbf1c17040\",                        [{\"autocolorscale\":false,\"colorbar\":{\"title\":{\"text\":\"Happiness Rank\"}},\"colorscale\":[[0.0,\"rgb(247, 254, 174)\"],[0.16666666666666666,\"rgb(183, 230, 165)\"],[0.3333333333333333,\"rgb(124, 203, 162)\"],[0.5,\"rgb(70, 174, 160)\"],[0.6666666666666666,\"rgb(8, 144, 153)\"],[0.8333333333333334,\"rgb(0, 113, 139)\"],[1.0,\"rgb(4, 82, 117)\"]],\"locationmode\":\"country names\",\"locations\":[\"Finland\",\"Denmark\",\"Switzerland\",\"Iceland\",\"Norway\",\"Netherlands\",\"Sweden\",\"New Zealand\",\"Canada\",\"Australia\",\"Israel\",\"Austria\",\"Costa Rica\",\"Luxembourg\",\"Ireland\",\"United States\",\"Germany\",\"United Kingdom\",\"Belgium\",\"Czech Republic\",\"United Arab Emirates\",\"Mexico\",\"France\",\"Brazil\",\"Malta\",\"Singapore\",\"Chile\",\"Qatar\",\"Taiwan\",\"Panama\",\"Uruguay\",\"Saudi Arabia\",\"Spain\",\"Guatemala\",\"Argentina\",\"Colombia\",\"Bahrain\",\"Thailand\",\"Trinidad and Tobago\",\"Slovakia\",\"Italy\",\"Kuwait\",\"El Salvador\",\"Uzbekistan\",\"Slovenia\",\"Poland\",\"Lithuania\",\"Nicaragua\",\"Ecuador\",\"Japan\",\"Kazakhstan\",\"South Korea\",\"Cyprus\",\"Kosovo\",\"Bolivia\",\"Jamaica\",\"Romania\",\"Estonia\",\"Peru\",\"Moldova\",\"Mauritius\",\"Latvia\",\"Russia\",\"Paraguay\",\"Malaysia\",\"Croatia\",\"Belarus\",\"Serbia\",\"Libya\",\"Philippines\",\"Portugal\",\"Hungary\",\"Hong Kong\",\"Honduras\",\"Turkmenistan\",\"Venezuela\",\"Algeria\",\"Montenegro\",\"Bosnia and Herzegovina\",\"Kyrgyzstan\",\"Indonesia\",\"Turkey\",\"Greece\",\"Dominican Republic\",\"Pakistan\",\"Vietnam\",\"China\",\"Azerbaijan\",\"Mongolia\",\"Tajikistan\",\"Macedonia\",\"Bhutan\",\"Nigeria\",\"Morocco\",\"Jordan\",\"Somalia\",\"Lebanon\",\"Nepal\",\"Laos\",\"Albania\",\"Bulgaria\",\"South Africa\",\"Cameroon\",\"Gambia\",\"Ghana\",\"Mozambique\",\"Bangladesh\",\"Palestinian Territories\",\"Iran\",\"Tunisia\",\"Armenia\",\"Iraq\",\"Republic of the Congo\",\"Namibia\",\"Senegal\",\"Kenya\",\"Ivory Coast\",\"Ukraine\",\"Georgia\",\"Gabon\",\"Swaziland\",\"Zambia\",\"Democratic Republic of the Congo\",\"Myanmar\",\"Niger\",\"Cambodia\",\"Ethiopia\",\"Mauritania\",\"Sierra Leone\",\"Sri Lanka\",\"Egypt\",\"Mali\",\"Burkina Faso\",\"Benin\",\"Uganda\",\"Liberia\",\"India\",\"Guinea\",\"Chad\",\"Comoros\",\"Lesotho\",\"Angola\",\"Madagascar\",\"Sudan\",\"Haiti\",\"Malawi\",\"Zimbabwe\",\"Botswana\",\"Yemen\",\"Togo\",\"Tanzania\",\"Rwanda\",\"Burundi\",\"Syria\",\"Afghanistan\",\"Central African Republic\"],\"marker\":{\"line\":{\"color\":\"#efefef\",\"width\":0.5}},\"reversescale\":false,\"text\":[1.38,1.42,1.49,1.41,1.53,1.43,1.42,1.34,1.4,1.41,1.31,1.42,1.06,1.67,1.5,1.48,1.42,1.37,1.4,1.29,1.53,1.09,1.36,1.03,1.32,1.62,1.18,1.75,1.39,1.19,1.14,1.44,1.32,0.82,1.12,1.0,1.4,1.06,1.27,1.26,1.33,1.54,0.83,0.73,1.29,1.23,1.26,0.68,0.93,1.35,1.2,1.34,1.3,0.89,0.78,0.86,1.17,1.26,0.97,0.75,1.12,1.21,1.21,0.88,1.22,1.18,1.09,1.02,1.08,0.81,1.25,1.23,1.48,0.67,1.05,1.0,0.99,1.08,0.95,0.57,0.93,1.18,1.22,1.02,0.66,0.74,1.02,1.06,0.94,0.48,1.01,0.82,0.7,0.8,0.9,0.07,1.03,0.45,0.72,0.96,1.11,0.98,0.52,0.34,0.63,0.18,0.55,0.65,1.07,0.93,0.88,1.01,0.67,0.91,0.45,0.51,0.58,0.87,0.9,1.09,0.79,0.55,0.06,0.5,0.13,0.56,0.31,0.58,0.31,0.95,0.93,0.38,0.33,0.4,0.32,0.12,0.73,0.3,0.35,0.33,0.46,0.81,0.26,0.5,0.31,0.14,0.37,1.06,0.44,0.26,0.43,0.33,0.04,0.69,0.36,0.03],\"z\":[1,2,3,3,4,5,6,7,8,9,10,11,12,13,14,15,16,17,18,19,19,20,21,22,23,24,25,26,27,28,29,30,31,32,33,34,35,35,36,37,38,39,40,41,42,43,43,44,45,46,47,48,48,49,50,50,51,52,53,54,54,55,56,57,58,59,60,61,61,62,63,64,65,66,67,68,69,70,71,72,73,74,75,75,76,77,78,79,80,81,82,83,84,84,85,85,85,86,87,88,89,90,91,91,92,93,93,94,95,96,97,98,99,100,101,102,102,103,103,103,104,104,105,105,106,107,107,108,108,109,110,111,112,113,114,115,115,116,117,118,119,120,121,122,123,124,124,125,126,127,128,129,130,131,132,133],\"type\":\"choropleth\"}],                        {\"template\":{\"data\":{\"histogram2dcontour\":[{\"type\":\"histogram2dcontour\",\"colorbar\":{\"outlinewidth\":0,\"ticks\":\"\"},\"colorscale\":[[0.0,\"#0d0887\"],[0.1111111111111111,\"#46039f\"],[0.2222222222222222,\"#7201a8\"],[0.3333333333333333,\"#9c179e\"],[0.4444444444444444,\"#bd3786\"],[0.5555555555555556,\"#d8576b\"],[0.6666666666666666,\"#ed7953\"],[0.7777777777777778,\"#fb9f3a\"],[0.8888888888888888,\"#fdca26\"],[1.0,\"#f0f921\"]]}],\"choropleth\":[{\"type\":\"choropleth\",\"colorbar\":{\"outlinewidth\":0,\"ticks\":\"\"}}],\"histogram2d\":[{\"type\":\"histogram2d\",\"colorbar\":{\"outlinewidth\":0,\"ticks\":\"\"},\"colorscale\":[[0.0,\"#0d0887\"],[0.1111111111111111,\"#46039f\"],[0.2222222222222222,\"#7201a8\"],[0.3333333333333333,\"#9c179e\"],[0.4444444444444444,\"#bd3786\"],[0.5555555555555556,\"#d8576b\"],[0.6666666666666666,\"#ed7953\"],[0.7777777777777778,\"#fb9f3a\"],[0.8888888888888888,\"#fdca26\"],[1.0,\"#f0f921\"]]}],\"heatmap\":[{\"type\":\"heatmap\",\"colorbar\":{\"outlinewidth\":0,\"ticks\":\"\"},\"colorscale\":[[0.0,\"#0d0887\"],[0.1111111111111111,\"#46039f\"],[0.2222222222222222,\"#7201a8\"],[0.3333333333333333,\"#9c179e\"],[0.4444444444444444,\"#bd3786\"],[0.5555555555555556,\"#d8576b\"],[0.6666666666666666,\"#ed7953\"],[0.7777777777777778,\"#fb9f3a\"],[0.8888888888888888,\"#fdca26\"],[1.0,\"#f0f921\"]]}],\"heatmapgl\":[{\"type\":\"heatmapgl\",\"colorbar\":{\"outlinewidth\":0,\"ticks\":\"\"},\"colorscale\":[[0.0,\"#0d0887\"],[0.1111111111111111,\"#46039f\"],[0.2222222222222222,\"#7201a8\"],[0.3333333333333333,\"#9c179e\"],[0.4444444444444444,\"#bd3786\"],[0.5555555555555556,\"#d8576b\"],[0.6666666666666666,\"#ed7953\"],[0.7777777777777778,\"#fb9f3a\"],[0.8888888888888888,\"#fdca26\"],[1.0,\"#f0f921\"]]}],\"contourcarpet\":[{\"type\":\"contourcarpet\",\"colorbar\":{\"outlinewidth\":0,\"ticks\":\"\"}}],\"contour\":[{\"type\":\"contour\",\"colorbar\":{\"outlinewidth\":0,\"ticks\":\"\"},\"colorscale\":[[0.0,\"#0d0887\"],[0.1111111111111111,\"#46039f\"],[0.2222222222222222,\"#7201a8\"],[0.3333333333333333,\"#9c179e\"],[0.4444444444444444,\"#bd3786\"],[0.5555555555555556,\"#d8576b\"],[0.6666666666666666,\"#ed7953\"],[0.7777777777777778,\"#fb9f3a\"],[0.8888888888888888,\"#fdca26\"],[1.0,\"#f0f921\"]]}],\"surface\":[{\"type\":\"surface\",\"colorbar\":{\"outlinewidth\":0,\"ticks\":\"\"},\"colorscale\":[[0.0,\"#0d0887\"],[0.1111111111111111,\"#46039f\"],[0.2222222222222222,\"#7201a8\"],[0.3333333333333333,\"#9c179e\"],[0.4444444444444444,\"#bd3786\"],[0.5555555555555556,\"#d8576b\"],[0.6666666666666666,\"#ed7953\"],[0.7777777777777778,\"#fb9f3a\"],[0.8888888888888888,\"#fdca26\"],[1.0,\"#f0f921\"]]}],\"mesh3d\":[{\"type\":\"mesh3d\",\"colorbar\":{\"outlinewidth\":0,\"ticks\":\"\"}}],\"scatter\":[{\"fillpattern\":{\"fillmode\":\"overlay\",\"size\":10,\"solidity\":0.2},\"type\":\"scatter\"}],\"parcoords\":[{\"type\":\"parcoords\",\"line\":{\"colorbar\":{\"outlinewidth\":0,\"ticks\":\"\"}}}],\"scatterpolargl\":[{\"type\":\"scatterpolargl\",\"marker\":{\"colorbar\":{\"outlinewidth\":0,\"ticks\":\"\"}}}],\"bar\":[{\"error_x\":{\"color\":\"#2a3f5f\"},\"error_y\":{\"color\":\"#2a3f5f\"},\"marker\":{\"line\":{\"color\":\"#E5ECF6\",\"width\":0.5},\"pattern\":{\"fillmode\":\"overlay\",\"size\":10,\"solidity\":0.2}},\"type\":\"bar\"}],\"scattergeo\":[{\"type\":\"scattergeo\",\"marker\":{\"colorbar\":{\"outlinewidth\":0,\"ticks\":\"\"}}}],\"scatterpolar\":[{\"type\":\"scatterpolar\",\"marker\":{\"colorbar\":{\"outlinewidth\":0,\"ticks\":\"\"}}}],\"histogram\":[{\"marker\":{\"pattern\":{\"fillmode\":\"overlay\",\"size\":10,\"solidity\":0.2}},\"type\":\"histogram\"}],\"scattergl\":[{\"type\":\"scattergl\",\"marker\":{\"colorbar\":{\"outlinewidth\":0,\"ticks\":\"\"}}}],\"scatter3d\":[{\"type\":\"scatter3d\",\"line\":{\"colorbar\":{\"outlinewidth\":0,\"ticks\":\"\"}},\"marker\":{\"colorbar\":{\"outlinewidth\":0,\"ticks\":\"\"}}}],\"scattermapbox\":[{\"type\":\"scattermapbox\",\"marker\":{\"colorbar\":{\"outlinewidth\":0,\"ticks\":\"\"}}}],\"scatterternary\":[{\"type\":\"scatterternary\",\"marker\":{\"colorbar\":{\"outlinewidth\":0,\"ticks\":\"\"}}}],\"scattercarpet\":[{\"type\":\"scattercarpet\",\"marker\":{\"colorbar\":{\"outlinewidth\":0,\"ticks\":\"\"}}}],\"carpet\":[{\"aaxis\":{\"endlinecolor\":\"#2a3f5f\",\"gridcolor\":\"white\",\"linecolor\":\"white\",\"minorgridcolor\":\"white\",\"startlinecolor\":\"#2a3f5f\"},\"baxis\":{\"endlinecolor\":\"#2a3f5f\",\"gridcolor\":\"white\",\"linecolor\":\"white\",\"minorgridcolor\":\"white\",\"startlinecolor\":\"#2a3f5f\"},\"type\":\"carpet\"}],\"table\":[{\"cells\":{\"fill\":{\"color\":\"#EBF0F8\"},\"line\":{\"color\":\"white\"}},\"header\":{\"fill\":{\"color\":\"#C8D4E3\"},\"line\":{\"color\":\"white\"}},\"type\":\"table\"}],\"barpolar\":[{\"marker\":{\"line\":{\"color\":\"#E5ECF6\",\"width\":0.5},\"pattern\":{\"fillmode\":\"overlay\",\"size\":10,\"solidity\":0.2}},\"type\":\"barpolar\"}],\"pie\":[{\"automargin\":true,\"type\":\"pie\"}]},\"layout\":{\"autotypenumbers\":\"strict\",\"colorway\":[\"#636efa\",\"#EF553B\",\"#00cc96\",\"#ab63fa\",\"#FFA15A\",\"#19d3f3\",\"#FF6692\",\"#B6E880\",\"#FF97FF\",\"#FECB52\"],\"font\":{\"color\":\"#2a3f5f\"},\"hovermode\":\"closest\",\"hoverlabel\":{\"align\":\"left\"},\"paper_bgcolor\":\"white\",\"plot_bgcolor\":\"#E5ECF6\",\"polar\":{\"bgcolor\":\"#E5ECF6\",\"angularaxis\":{\"gridcolor\":\"white\",\"linecolor\":\"white\",\"ticks\":\"\"},\"radialaxis\":{\"gridcolor\":\"white\",\"linecolor\":\"white\",\"ticks\":\"\"}},\"ternary\":{\"bgcolor\":\"#E5ECF6\",\"aaxis\":{\"gridcolor\":\"white\",\"linecolor\":\"white\",\"ticks\":\"\"},\"baxis\":{\"gridcolor\":\"white\",\"linecolor\":\"white\",\"ticks\":\"\"},\"caxis\":{\"gridcolor\":\"white\",\"linecolor\":\"white\",\"ticks\":\"\"}},\"coloraxis\":{\"colorbar\":{\"outlinewidth\":0,\"ticks\":\"\"}},\"colorscale\":{\"sequential\":[[0.0,\"#0d0887\"],[0.1111111111111111,\"#46039f\"],[0.2222222222222222,\"#7201a8\"],[0.3333333333333333,\"#9c179e\"],[0.4444444444444444,\"#bd3786\"],[0.5555555555555556,\"#d8576b\"],[0.6666666666666666,\"#ed7953\"],[0.7777777777777778,\"#fb9f3a\"],[0.8888888888888888,\"#fdca26\"],[1.0,\"#f0f921\"]],\"sequentialminus\":[[0.0,\"#0d0887\"],[0.1111111111111111,\"#46039f\"],[0.2222222222222222,\"#7201a8\"],[0.3333333333333333,\"#9c179e\"],[0.4444444444444444,\"#bd3786\"],[0.5555555555555556,\"#d8576b\"],[0.6666666666666666,\"#ed7953\"],[0.7777777777777778,\"#fb9f3a\"],[0.8888888888888888,\"#fdca26\"],[1.0,\"#f0f921\"]],\"diverging\":[[0,\"#8e0152\"],[0.1,\"#c51b7d\"],[0.2,\"#de77ae\"],[0.3,\"#f1b6da\"],[0.4,\"#fde0ef\"],[0.5,\"#f7f7f7\"],[0.6,\"#e6f5d0\"],[0.7,\"#b8e186\"],[0.8,\"#7fbc41\"],[0.9,\"#4d9221\"],[1,\"#276419\"]]},\"xaxis\":{\"gridcolor\":\"white\",\"linecolor\":\"white\",\"ticks\":\"\",\"title\":{\"standoff\":15},\"zerolinecolor\":\"white\",\"automargin\":true,\"zerolinewidth\":2},\"yaxis\":{\"gridcolor\":\"white\",\"linecolor\":\"white\",\"ticks\":\"\",\"title\":{\"standoff\":15},\"zerolinecolor\":\"white\",\"automargin\":true,\"zerolinewidth\":2},\"scene\":{\"xaxis\":{\"backgroundcolor\":\"#E5ECF6\",\"gridcolor\":\"white\",\"linecolor\":\"white\",\"showbackground\":true,\"ticks\":\"\",\"zerolinecolor\":\"white\",\"gridwidth\":2},\"yaxis\":{\"backgroundcolor\":\"#E5ECF6\",\"gridcolor\":\"white\",\"linecolor\":\"white\",\"showbackground\":true,\"ticks\":\"\",\"zerolinecolor\":\"white\",\"gridwidth\":2},\"zaxis\":{\"backgroundcolor\":\"#E5ECF6\",\"gridcolor\":\"white\",\"linecolor\":\"white\",\"showbackground\":true,\"ticks\":\"\",\"zerolinecolor\":\"white\",\"gridwidth\":2}},\"shapedefaults\":{\"line\":{\"color\":\"#2a3f5f\"}},\"annotationdefaults\":{\"arrowcolor\":\"#2a3f5f\",\"arrowhead\":0,\"arrowwidth\":1},\"geo\":{\"bgcolor\":\"white\",\"landcolor\":\"#E5ECF6\",\"subunitcolor\":\"white\",\"showland\":true,\"showlakes\":true,\"lakecolor\":\"white\"},\"title\":{\"x\":0.05},\"mapbox\":{\"style\":\"light\"}}},\"title\":{\"text\":\"Happiness Score and GDP per capita\"},\"geo\":{\"projection\":{\"type\":\"miller\"},\"scope\":\"world\",\"resolution\":50,\"showcoastlines\":true,\"showocean\":true,\"showcountries\":true,\"oceancolor\":\"#eaeaea\",\"lakecolor\":\"#eaeaea\",\"coastlinecolor\":\"#dadada\"},\"showlegend\":false},                        {\"responsive\": true}                    ).then(function(){\n",
       "                            \n",
       "var gd = document.getElementById('555091b4-9a06-4af6-98e6-dedbf1c17040');\n",
       "var x = new MutationObserver(function (mutations, observer) {{\n",
       "        var display = window.getComputedStyle(gd).display;\n",
       "        if (!display || display === 'none') {{\n",
       "            console.log([gd, 'removed!']);\n",
       "            Plotly.purge(gd);\n",
       "            observer.disconnect();\n",
       "        }}\n",
       "}});\n",
       "\n",
       "// Listen for the removal of the full notebook cells\n",
       "var notebookContainer = gd.closest('#notebook-container');\n",
       "if (notebookContainer) {{\n",
       "    x.observe(notebookContainer, {childList: true});\n",
       "}}\n",
       "\n",
       "// Listen for the clearing of the current output cell\n",
       "var outputEl = gd.closest('.output');\n",
       "if (outputEl) {{\n",
       "    x.observe(outputEl, {childList: true});\n",
       "}}\n",
       "\n",
       "                        })                };                });            </script>        </div>"
      ]
     },
     "metadata": {},
     "output_type": "display_data"
    }
   ],
   "source": [
    "\n",
    "import plotly.graph_objects as go\n",
    "import plotly.offline as opy\n",
    "\n",
    "fig = go.Figure(go.Choropleth(\n",
    "    locations = df['Country'],\n",
    "    locationmode = \"country names\",\n",
    "    z = df['Mean Rank'],\n",
    "    text = df['Mean GDP per Capita'],\n",
    "    colorscale = 'bluyl',\n",
    "    autocolorscale = False,\n",
    "    reversescale = False,\n",
    "    marker_line_color = '#efefef',\n",
    "    marker_line_width = 0.5,\n",
    "    colorbar_title = 'Happiness Rank',       \n",
    "    )\n",
    ")\n",
    "fig.update_layout(\n",
    "    title_text = 'Happiness Score and GDP per capita',\n",
    "    showlegend = False,\n",
    "    geo = dict(\n",
    "        scope = 'world',\n",
    "        resolution = 50,\n",
    "        projection_type = 'miller',\n",
    "        showcoastlines = True,\n",
    "        showocean = True,\n",
    "        showcountries = True,\n",
    "        oceancolor = '#eaeaea',\n",
    "        lakecolor = '#eaeaea',\n",
    "        coastlinecolor = '#dadada'\n",
    "    )\n",
    ")\n",
    "fig.show()"
   ]
  },
  {
   "cell_type": "code",
   "execution_count": null,
   "id": "9f95386c",
   "metadata": {},
   "outputs": [],
   "source": []
  }
 ],
 "metadata": {
  "kernelspec": {
   "display_name": "ironhack",
   "language": "python",
   "name": "ironhack"
  },
  "language_info": {
   "codemirror_mode": {
    "name": "ipython",
    "version": 3
   },
   "file_extension": ".py",
   "mimetype": "text/x-python",
   "name": "python",
   "nbconvert_exporter": "python",
   "pygments_lexer": "ipython3",
   "version": "3.10.9"
  }
 },
 "nbformat": 4,
 "nbformat_minor": 5
}
