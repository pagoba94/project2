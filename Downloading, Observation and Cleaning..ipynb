{
 "cells": [
  {
   "cell_type": "code",
   "execution_count": 1,
   "id": "fe5f91b1",
   "metadata": {},
   "outputs": [],
   "source": [
    "import pandas as pd\n",
    "import re\n",
    "import seaborn as sns\n",
    "import os\n",
    "import matplotlib.pyplot as plt\n",
    "import requests\n",
    "from lxml import html"
   ]
  },
  {
   "cell_type": "markdown",
   "id": "e6d83a43",
   "metadata": {},
   "source": [
    "The World Happiness Report is a landmark survey of the state of global happiness that ranks 156 countries by how happy their citizens perceive themselves to be. The World Happiness Report 2020 for the first time ranks cities around the world by their subjective well-being and digs more deeply into how the social, urban and natural environments combine to affect our happiness."
   ]
  },
  {
   "cell_type": "markdown",
   "id": "c63af4a1",
   "metadata": {},
   "source": [
    "https://www.kaggle.com/datasets/mathurinache/world-happiness-report?resource=download&select=2022.csv\n",
    "\n",
    "https://datosmacro.expansion.com/ipc-paises\n",
    "\n",
    "\n",
    "a136dfe125d4c622d671e5c904689ced    https://fredaccount.stlouisfed.org/apikey"
   ]
  },
  {
   "cell_type": "code",
   "execution_count": 2,
   "id": "2c6d7c85",
   "metadata": {},
   "outputs": [],
   "source": [
    "def downloading(path):\n",
    "    \"\"\"This function downloads from a raw link and saves the dataframe locally.\n",
    "    args:\n",
    "    :url: string. the link\n",
    "    :name: string. name to save the file\n",
    "    \"\"\"\n",
    "    df=pd.read_csv(path, encoding='latin')\n",
    "    return df\n",
    "    pass"
   ]
  },
  {
   "cell_type": "code",
   "execution_count": 3,
   "id": "a85c3bee",
   "metadata": {},
   "outputs": [],
   "source": [
    "df=pd.read_csv('data/happiness-2015.csv', encoding='latin')\n",
    "df2017=pd.read_csv('data/happiness-2017.csv', encoding='latin')\n",
    "df2019=pd.read_csv('data/happiness-2019.csv', encoding='latin')\n",
    "df2021=pd.read_csv('data/happiness-2021.csv', encoding='latin')\n",
    "df2022=pd.read_csv('data/happiness-2022.csv', encoding='latin')"
   ]
  },
  {
   "cell_type": "code",
   "execution_count": 4,
   "id": "7dcfaa92",
   "metadata": {},
   "outputs": [
    {
     "data": {
      "text/html": [
       "<div>\n",
       "<style scoped>\n",
       "    .dataframe tbody tr th:only-of-type {\n",
       "        vertical-align: middle;\n",
       "    }\n",
       "\n",
       "    .dataframe tbody tr th {\n",
       "        vertical-align: top;\n",
       "    }\n",
       "\n",
       "    .dataframe thead th {\n",
       "        text-align: right;\n",
       "    }\n",
       "</style>\n",
       "<table border=\"1\" class=\"dataframe\">\n",
       "  <thead>\n",
       "    <tr style=\"text-align: right;\">\n",
       "      <th></th>\n",
       "      <th>Country</th>\n",
       "      <th>Region</th>\n",
       "      <th>Happiness Rank</th>\n",
       "      <th>Happiness Score</th>\n",
       "      <th>Standard Error</th>\n",
       "      <th>Economy (GDP per Capita)</th>\n",
       "      <th>Family</th>\n",
       "      <th>Health (Life Expectancy)</th>\n",
       "      <th>Freedom</th>\n",
       "      <th>Trust (Government Corruption)</th>\n",
       "      <th>Generosity</th>\n",
       "      <th>Dystopia Residual</th>\n",
       "    </tr>\n",
       "  </thead>\n",
       "  <tbody>\n",
       "    <tr>\n",
       "      <th>94</th>\n",
       "      <td>Albania</td>\n",
       "      <td>Central and Eastern Europe</td>\n",
       "      <td>95</td>\n",
       "      <td>4.959</td>\n",
       "      <td>0.05013</td>\n",
       "      <td>0.87867</td>\n",
       "      <td>0.80434</td>\n",
       "      <td>0.81325</td>\n",
       "      <td>0.35733</td>\n",
       "      <td>0.06413</td>\n",
       "      <td>0.14272</td>\n",
       "      <td>1.89894</td>\n",
       "    </tr>\n",
       "  </tbody>\n",
       "</table>\n",
       "</div>"
      ],
      "text/plain": [
       "    Country                      Region  Happiness Rank  Happiness Score   \n",
       "94  Albania  Central and Eastern Europe              95            4.959  \\\n",
       "\n",
       "    Standard Error  Economy (GDP per Capita)   Family   \n",
       "94         0.05013                   0.87867  0.80434  \\\n",
       "\n",
       "    Health (Life Expectancy)  Freedom  Trust (Government Corruption)   \n",
       "94                   0.81325  0.35733                        0.06413  \\\n",
       "\n",
       "    Generosity  Dystopia Residual  \n",
       "94     0.14272            1.89894  "
      ]
     },
     "execution_count": 4,
     "metadata": {},
     "output_type": "execute_result"
    }
   ],
   "source": [
    "df.sample()"
   ]
  },
  {
   "cell_type": "code",
   "execution_count": 5,
   "id": "5a23a0de",
   "metadata": {},
   "outputs": [
    {
     "name": "stdout",
     "output_type": "stream",
     "text": [
      "<class 'pandas.core.frame.DataFrame'>\n",
      "RangeIndex: 158 entries, 0 to 157\n",
      "Data columns (total 12 columns):\n",
      " #   Column                         Non-Null Count  Dtype  \n",
      "---  ------                         --------------  -----  \n",
      " 0   Country                        158 non-null    object \n",
      " 1   Region                         158 non-null    object \n",
      " 2   Happiness Rank                 158 non-null    int64  \n",
      " 3   Happiness Score                158 non-null    float64\n",
      " 4   Standard Error                 158 non-null    float64\n",
      " 5   Economy (GDP per Capita)       158 non-null    float64\n",
      " 6   Family                         158 non-null    float64\n",
      " 7   Health (Life Expectancy)       158 non-null    float64\n",
      " 8   Freedom                        158 non-null    float64\n",
      " 9   Trust (Government Corruption)  158 non-null    float64\n",
      " 10  Generosity                     158 non-null    float64\n",
      " 11  Dystopia Residual              158 non-null    float64\n",
      "dtypes: float64(9), int64(1), object(2)\n",
      "memory usage: 14.9+ KB\n"
     ]
    }
   ],
   "source": [
    "df.info()"
   ]
  },
  {
   "cell_type": "code",
   "execution_count": 6,
   "id": "02a92538",
   "metadata": {},
   "outputs": [],
   "source": [
    "url = 'https://en.wikipedia.org/wiki/List_of_countries_by_average_yearly_temperature'"
   ]
  },
  {
   "cell_type": "code",
   "execution_count": 7,
   "id": "553a6cc6",
   "metadata": {},
   "outputs": [],
   "source": [
    "headers = {\"User-agent\": 'Mozilla/5.0 (Windows NT 10.0; Win64; x64) AppleWebKit/537.36 (KHTML, like Gecko) Chrome/79.0.3945.130 Safari/537.36'}\n",
    "res = requests.get(url, headers=headers)"
   ]
  },
  {
   "cell_type": "code",
   "execution_count": 8,
   "id": "96eeeb19",
   "metadata": {},
   "outputs": [
    {
     "name": "stdout",
     "output_type": "stream",
     "text": [
      "<Response [200]>\n"
     ]
    }
   ],
   "source": [
    "print(res)"
   ]
  },
  {
   "cell_type": "code",
   "execution_count": 9,
   "id": "c56f59f3",
   "metadata": {},
   "outputs": [],
   "source": [
    "table = pd.read_html(res.content, encoding = 'utf8')"
   ]
  },
  {
   "cell_type": "code",
   "execution_count": 10,
   "id": "9367e7e8",
   "metadata": {},
   "outputs": [],
   "source": [
    "df2 = table[0] "
   ]
  },
  {
   "cell_type": "code",
   "execution_count": 11,
   "id": "e41ac4a0",
   "metadata": {},
   "outputs": [],
   "source": [
    "df2['Average yearly temperature (1961–1990 Celsius)'] = df2['Average yearly temperature (1961–1990 Celsius)'].str.replace('−', '-').astype(float)"
   ]
  },
  {
   "cell_type": "code",
   "execution_count": 12,
   "id": "e7d7aa03",
   "metadata": {},
   "outputs": [
    {
     "data": {
      "text/html": [
       "<div>\n",
       "<style scoped>\n",
       "    .dataframe tbody tr th:only-of-type {\n",
       "        vertical-align: middle;\n",
       "    }\n",
       "\n",
       "    .dataframe tbody tr th {\n",
       "        vertical-align: top;\n",
       "    }\n",
       "\n",
       "    .dataframe thead th {\n",
       "        text-align: right;\n",
       "    }\n",
       "</style>\n",
       "<table border=\"1\" class=\"dataframe\">\n",
       "  <thead>\n",
       "    <tr style=\"text-align: right;\">\n",
       "      <th></th>\n",
       "      <th>Country</th>\n",
       "      <th>Average yearly temperature (1961–1990 Celsius)</th>\n",
       "    </tr>\n",
       "  </thead>\n",
       "  <tbody>\n",
       "    <tr>\n",
       "      <th>7</th>\n",
       "      <td>Tuvalu</td>\n",
       "      <td>27.65</td>\n",
       "    </tr>\n",
       "  </tbody>\n",
       "</table>\n",
       "</div>"
      ],
      "text/plain": [
       "  Country  Average yearly temperature (1961–1990 Celsius)\n",
       "7  Tuvalu                                           27.65"
      ]
     },
     "execution_count": 12,
     "metadata": {},
     "output_type": "execute_result"
    }
   ],
   "source": [
    "df2.sample()"
   ]
  },
  {
   "cell_type": "code",
   "execution_count": 13,
   "id": "7d55315b",
   "metadata": {},
   "outputs": [
    {
     "name": "stdout",
     "output_type": "stream",
     "text": [
      "<class 'pandas.core.frame.DataFrame'>\n",
      "RangeIndex: 192 entries, 0 to 191\n",
      "Data columns (total 2 columns):\n",
      " #   Column                                          Non-Null Count  Dtype  \n",
      "---  ------                                          --------------  -----  \n",
      " 0   Country                                         192 non-null    object \n",
      " 1   Average yearly temperature (1961–1990 Celsius)  192 non-null    float64\n",
      "dtypes: float64(1), object(1)\n",
      "memory usage: 3.1+ KB\n"
     ]
    }
   ],
   "source": [
    "df2.info()"
   ]
  },
  {
   "cell_type": "code",
   "execution_count": 14,
   "id": "f5d1cff5",
   "metadata": {},
   "outputs": [
    {
     "data": {
      "text/html": [
       "<div>\n",
       "<style scoped>\n",
       "    .dataframe tbody tr th:only-of-type {\n",
       "        vertical-align: middle;\n",
       "    }\n",
       "\n",
       "    .dataframe tbody tr th {\n",
       "        vertical-align: top;\n",
       "    }\n",
       "\n",
       "    .dataframe thead th {\n",
       "        text-align: right;\n",
       "    }\n",
       "</style>\n",
       "<table border=\"1\" class=\"dataframe\">\n",
       "  <thead>\n",
       "    <tr style=\"text-align: right;\">\n",
       "      <th></th>\n",
       "      <th>Average yearly temperature (1961–1990 Celsius)</th>\n",
       "    </tr>\n",
       "  </thead>\n",
       "  <tbody>\n",
       "    <tr>\n",
       "      <th>count</th>\n",
       "      <td>192.000000</td>\n",
       "    </tr>\n",
       "    <tr>\n",
       "      <th>mean</th>\n",
       "      <td>18.623125</td>\n",
       "    </tr>\n",
       "    <tr>\n",
       "      <th>std</th>\n",
       "      <td>8.451555</td>\n",
       "    </tr>\n",
       "    <tr>\n",
       "      <th>min</th>\n",
       "      <td>-5.350000</td>\n",
       "    </tr>\n",
       "    <tr>\n",
       "      <th>25%</th>\n",
       "      <td>10.662500</td>\n",
       "    </tr>\n",
       "    <tr>\n",
       "      <th>50%</th>\n",
       "      <td>22.150000</td>\n",
       "    </tr>\n",
       "    <tr>\n",
       "      <th>75%</th>\n",
       "      <td>25.425000</td>\n",
       "    </tr>\n",
       "    <tr>\n",
       "      <th>max</th>\n",
       "      <td>28.290000</td>\n",
       "    </tr>\n",
       "  </tbody>\n",
       "</table>\n",
       "</div>"
      ],
      "text/plain": [
       "       Average yearly temperature (1961–1990 Celsius)\n",
       "count                                      192.000000\n",
       "mean                                        18.623125\n",
       "std                                          8.451555\n",
       "min                                         -5.350000\n",
       "25%                                         10.662500\n",
       "50%                                         22.150000\n",
       "75%                                         25.425000\n",
       "max                                         28.290000"
      ]
     },
     "execution_count": 14,
     "metadata": {},
     "output_type": "execute_result"
    }
   ],
   "source": [
    "df2.describe()"
   ]
  },
  {
   "cell_type": "code",
   "execution_count": null,
   "id": "564c2702",
   "metadata": {},
   "outputs": [],
   "source": []
  },
  {
   "cell_type": "code",
   "execution_count": 15,
   "id": "b924aae3",
   "metadata": {},
   "outputs": [
    {
     "name": "stdout",
     "output_type": "stream",
     "text": [
      "['Switzerland', 'Iceland', 'Denmark', 'Norway', 'Canada', 'Finland', 'Netherlands', 'Sweden', 'New Zealand', 'Australia', 'Israel', 'Costa Rica', 'Austria', 'Mexico', 'United States', 'Brazil', 'Luxembourg', 'Ireland', 'Belgium', 'United Arab Emirates', 'United Kingdom', 'Oman', 'Venezuela', 'Singapore', 'Panama', 'Germany', 'Chile', 'Qatar', 'France', 'Argentina', 'Czech Republic', 'Uruguay', 'Colombia', 'Thailand', 'Saudi Arabia', 'Spain', 'Malta', 'Taiwan', 'Kuwait', 'Suriname', 'Trinidad and Tobago', 'El Salvador', 'Guatemala', 'Uzbekistan', 'Slovakia', 'Japan', 'South Korea', 'Ecuador', 'Bahrain', 'Italy', 'Bolivia', 'Moldova', 'Paraguay', 'Kazakhstan', 'Slovenia', 'Lithuania', 'Nicaragua', 'Peru', 'Belarus', 'Poland', 'Malaysia', 'Croatia', 'Libya', 'Russia', 'Jamaica', 'North Cyprus', 'Cyprus', 'Algeria', 'Kosovo', 'Turkmenistan', 'Mauritius', 'Hong Kong', 'Estonia', 'Indonesia', 'Vietnam', 'Turkey', 'Kyrgyzstan', 'Nigeria', 'Bhutan', 'Azerbaijan', 'Pakistan', 'Jordan', 'Montenegro', 'China', 'Zambia', 'Romania', 'Serbia', 'Portugal', 'Latvia', 'Philippines', 'Somaliland region', 'Morocco', 'Macedonia', 'Mozambique', 'Albania', 'Bosnia and Herzegovina', 'Lesotho', 'Dominican Republic', 'Laos', 'Mongolia', 'Swaziland', 'Greece', 'Lebanon', 'Hungary', 'Honduras', 'Tajikistan', 'Tunisia', 'Palestinian Territories', 'Bangladesh', 'Iran', 'Ukraine', 'Iraq', 'South Africa', 'Ghana', 'Zimbabwe', 'Liberia', 'India', 'Sudan', 'Haiti', 'Congo (Kinshasa)', 'Nepal', 'Ethiopia', 'Sierra Leone', 'Mauritania', 'Kenya', 'Djibouti', 'Armenia', 'Botswana', 'Myanmar', 'Georgia', 'Malawi', 'Sri Lanka', 'Cameroon', 'Bulgaria', 'Egypt', 'Yemen', 'Angola', 'Mali', 'Congo (Brazzaville)', 'Comoros', 'Uganda', 'Senegal', 'Gabon', 'Niger', 'Cambodia', 'Tanzania', 'Madagascar', 'Central African Republic', 'Chad', 'Guinea', 'Ivory Coast', 'Burkina Faso', 'Afghanistan', 'Rwanda', 'Benin', 'Syria', 'Burundi', 'Togo']\n"
     ]
    }
   ],
   "source": [
    "df_countries = list(df['Country'].values)\n",
    "print(df_countries)"
   ]
  },
  {
   "cell_type": "code",
   "execution_count": 16,
   "id": "6f53cb70",
   "metadata": {},
   "outputs": [],
   "source": [
    "df2_countries = list(df2['Country'].values)"
   ]
  },
  {
   "cell_type": "code",
   "execution_count": 17,
   "id": "1b2e95e9",
   "metadata": {},
   "outputs": [
    {
     "name": "stdout",
     "output_type": "stream",
     "text": [
      "['Denmark', 'Norway', 'Taiwan', 'North Cyprus', 'Kosovo', 'Somaliland region', 'Macedonia', 'Swaziland', 'Palestinian Territories', 'Congo (Kinshasa)', 'Congo (Brazzaville)']\n"
     ]
    }
   ],
   "source": [
    "df_remaining_countries=[]\n",
    "df2_remaining_countries=[]\n",
    "\n",
    "for i in df_countries:\n",
    "    if i not in df2_countries:\n",
    "        df_remaining_countries.append(i)\n",
    "        \n",
    "for i in df2_countries:\n",
    "    if i not in df_countries:\n",
    "        df2_remaining_countries.append(i)\n",
    "        \n",
    "print(df_remaining_countries)"
   ]
  },
  {
   "cell_type": "code",
   "execution_count": 18,
   "id": "3a44d1fa",
   "metadata": {},
   "outputs": [
    {
     "name": "stdout",
     "output_type": "stream",
     "text": [
      "['Kiribati', 'Maldives', 'Tuvalu', 'Palau', 'Gambia', 'Marshall Islands', 'Seychelles', 'Somalia', 'Brunei', 'Saint Vincent and the Grenadines', 'Guinea-Bissau', 'Samoa', 'Grenada', 'Barbados', 'Guyana', 'Federated States of Micronesia', 'Antigua and Barbuda', 'Solomon Islands', 'Eritrea', 'Saint Lucia', 'Belize', 'Timor-Leste', 'Papua New Guinea', 'Tonga', 'Cuba', 'Bahamas', 'Republic of the Congo', 'Equatorial Guinea', 'Saint Kitts and Nevis', 'Fiji', 'Democratic Republic of the Congo', 'Vanuatu', 'São Tomé and Príncipe', 'Cape Verde', 'Dominica', 'Eswatini', 'Namibia', 'Monaco', 'San Marino', 'North Macedonia', 'Andorra', 'Liechtenstein', 'North Korea', 'Norway [note 1]', 'Denmark [note 2]']\n"
     ]
    }
   ],
   "source": [
    "print(df2_remaining_countries)"
   ]
  },
  {
   "cell_type": "code",
   "execution_count": 19,
   "id": "c0a24e72",
   "metadata": {},
   "outputs": [],
   "source": [
    "mask_Denmark = df2['Country'].str.contains('Denmark', case=False)\n",
    "\n",
    "df2.loc[mask_Denmark, 'Country'] = 'Denmark'"
   ]
  },
  {
   "cell_type": "code",
   "execution_count": 20,
   "id": "63bd6a3e",
   "metadata": {},
   "outputs": [],
   "source": [
    "mask_Cyprus = df2['Country'].str.contains('Cyprus', case=False)\n",
    "df2.loc[mask_Cyprus, 'Country'] = 'Cyprus'"
   ]
  },
  {
   "cell_type": "code",
   "execution_count": 21,
   "id": "2e18ea7f",
   "metadata": {},
   "outputs": [],
   "source": [
    "mask_Norway = df2['Country'].str.contains('Norway', case=False)\n",
    "df2.loc[mask_Norway, 'Country'] = 'Norway'"
   ]
  },
  {
   "cell_type": "code",
   "execution_count": 22,
   "id": "81eeedd7",
   "metadata": {},
   "outputs": [],
   "source": [
    "mask_Somalia = df2['Country'].str.contains('Somaliland', case=False)\n",
    "df2.loc[mask_Somalia, 'Country'] = 'Somalia'"
   ]
  },
  {
   "cell_type": "code",
   "execution_count": 23,
   "id": "ee07d548",
   "metadata": {},
   "outputs": [],
   "source": [
    "mask_Somalia = df['Country'].str.contains('Somaliland', case=False)\n",
    "df.loc[mask_Somalia, 'Country'] = 'Somalia'"
   ]
  },
  {
   "cell_type": "code",
   "execution_count": 24,
   "id": "7cb95ac4",
   "metadata": {},
   "outputs": [],
   "source": [
    "mask_Macedonia = df2['Country'].str.contains('Macedonia', case=False)\n",
    "df2.loc[mask_Macedonia, 'Country'] = 'Macedonia'"
   ]
  },
  {
   "cell_type": "code",
   "execution_count": 25,
   "id": "e78e471f",
   "metadata": {},
   "outputs": [],
   "source": [
    "mask_Swaziland = df2['Country'].str.contains('Eswatini', case=False)\n",
    "df2.loc[mask_Swaziland, 'Country'] = 'Swaziland'"
   ]
  },
  {
   "cell_type": "code",
   "execution_count": 26,
   "id": "fa1a6ddb",
   "metadata": {},
   "outputs": [],
   "source": [
    "mask_Democratic = df['Country'].str.contains('Kinshasa', case=False)\n",
    "df.loc[mask_Democratic, 'Country'] = 'Democratic Republic of the Congo'"
   ]
  },
  {
   "cell_type": "code",
   "execution_count": 27,
   "id": "c08e2a4b",
   "metadata": {},
   "outputs": [],
   "source": [
    "mask_Congo = df['Country'].str.contains('Brazzaville', case=False)\n",
    "df.loc[mask_Congo, 'Country'] = 'Republic of the Congo'"
   ]
  },
  {
   "cell_type": "code",
   "execution_count": 28,
   "id": "82457a95",
   "metadata": {},
   "outputs": [],
   "source": [
    "df2_countries = list(df2['Country'].values)\n",
    "df_countries = list(df['Country'].values)"
   ]
  },
  {
   "cell_type": "code",
   "execution_count": 29,
   "id": "a976d8c0",
   "metadata": {},
   "outputs": [
    {
     "name": "stdout",
     "output_type": "stream",
     "text": [
      "['Taiwan', 'North Cyprus', 'Kosovo', 'Palestinian Territories']\n"
     ]
    }
   ],
   "source": [
    "df_remaining_countries=[]\n",
    "df2_remaining_countries=[]\n",
    "\n",
    "for i in df_countries:\n",
    "    if i not in df2_countries:\n",
    "        df_remaining_countries.append(i)\n",
    "        \n",
    "for i in df2_countries:\n",
    "    if i not in df_countries:\n",
    "        df2_remaining_countries.append(i)\n",
    "        \n",
    "print(df_remaining_countries)"
   ]
  },
  {
   "cell_type": "code",
   "execution_count": 30,
   "id": "12b88901",
   "metadata": {},
   "outputs": [],
   "source": [
    "df = pd.merge(df, df2, on='Country', how='outer')"
   ]
  },
  {
   "cell_type": "code",
   "execution_count": 31,
   "id": "06e59264",
   "metadata": {
    "scrolled": true
   },
   "outputs": [
    {
     "data": {
      "text/plain": [
       "Country                                            0\n",
       "Region                                            38\n",
       "Happiness Rank                                    38\n",
       "Happiness Score                                   38\n",
       "Standard Error                                    38\n",
       "Economy (GDP per Capita)                          38\n",
       "Family                                            38\n",
       "Health (Life Expectancy)                          38\n",
       "Freedom                                           38\n",
       "Trust (Government Corruption)                     38\n",
       "Generosity                                        38\n",
       "Dystopia Residual                                 38\n",
       "Average yearly temperature (1961–1990 Celsius)     4\n",
       "dtype: int64"
      ]
     },
     "execution_count": 31,
     "metadata": {},
     "output_type": "execute_result"
    }
   ],
   "source": [
    "pd.isna(df).sum()"
   ]
  },
  {
   "cell_type": "code",
   "execution_count": 32,
   "id": "29b5b5d7",
   "metadata": {},
   "outputs": [],
   "source": [
    "df = df.add_suffix(' 2015')\n"
   ]
  },
  {
   "cell_type": "code",
   "execution_count": 33,
   "id": "57f06b9c",
   "metadata": {},
   "outputs": [],
   "source": [
    "df.rename(columns = {\"Economy (GDP per Capita) 2015\":\"GDP per Capita 2015\" , \"Average yearly temperature (1961–1990 Celsius) 2015\": \"Average yearly temperature\", \"Country 2015\": \"Country\", \"Region 2015\": \"Region\"}, inplace=True)"
   ]
  },
  {
   "cell_type": "code",
   "execution_count": null,
   "id": "96b6d9ba",
   "metadata": {},
   "outputs": [],
   "source": []
  },
  {
   "cell_type": "code",
   "execution_count": 34,
   "id": "6da314bc",
   "metadata": {},
   "outputs": [
    {
     "data": {
      "text/html": [
       "<div>\n",
       "<style scoped>\n",
       "    .dataframe tbody tr th:only-of-type {\n",
       "        vertical-align: middle;\n",
       "    }\n",
       "\n",
       "    .dataframe tbody tr th {\n",
       "        vertical-align: top;\n",
       "    }\n",
       "\n",
       "    .dataframe thead th {\n",
       "        text-align: right;\n",
       "    }\n",
       "</style>\n",
       "<table border=\"1\" class=\"dataframe\">\n",
       "  <thead>\n",
       "    <tr style=\"text-align: right;\">\n",
       "      <th></th>\n",
       "      <th>Overall rank</th>\n",
       "      <th>Country or region</th>\n",
       "      <th>Score</th>\n",
       "      <th>GDP per capita</th>\n",
       "      <th>Social support</th>\n",
       "      <th>Healthy life expectancy</th>\n",
       "      <th>Freedom to make life choices</th>\n",
       "      <th>Generosity</th>\n",
       "      <th>Perceptions of corruption</th>\n",
       "    </tr>\n",
       "  </thead>\n",
       "  <tbody>\n",
       "    <tr>\n",
       "      <th>0</th>\n",
       "      <td>1</td>\n",
       "      <td>Finland</td>\n",
       "      <td>7.769</td>\n",
       "      <td>1.340</td>\n",
       "      <td>1.587</td>\n",
       "      <td>0.986</td>\n",
       "      <td>0.596</td>\n",
       "      <td>0.153</td>\n",
       "      <td>0.393</td>\n",
       "    </tr>\n",
       "    <tr>\n",
       "      <th>1</th>\n",
       "      <td>2</td>\n",
       "      <td>Denmark</td>\n",
       "      <td>7.600</td>\n",
       "      <td>1.383</td>\n",
       "      <td>1.573</td>\n",
       "      <td>0.996</td>\n",
       "      <td>0.592</td>\n",
       "      <td>0.252</td>\n",
       "      <td>0.410</td>\n",
       "    </tr>\n",
       "    <tr>\n",
       "      <th>2</th>\n",
       "      <td>3</td>\n",
       "      <td>Norway</td>\n",
       "      <td>7.554</td>\n",
       "      <td>1.488</td>\n",
       "      <td>1.582</td>\n",
       "      <td>1.028</td>\n",
       "      <td>0.603</td>\n",
       "      <td>0.271</td>\n",
       "      <td>0.341</td>\n",
       "    </tr>\n",
       "    <tr>\n",
       "      <th>3</th>\n",
       "      <td>4</td>\n",
       "      <td>Iceland</td>\n",
       "      <td>7.494</td>\n",
       "      <td>1.380</td>\n",
       "      <td>1.624</td>\n",
       "      <td>1.026</td>\n",
       "      <td>0.591</td>\n",
       "      <td>0.354</td>\n",
       "      <td>0.118</td>\n",
       "    </tr>\n",
       "    <tr>\n",
       "      <th>4</th>\n",
       "      <td>5</td>\n",
       "      <td>Netherlands</td>\n",
       "      <td>7.488</td>\n",
       "      <td>1.396</td>\n",
       "      <td>1.522</td>\n",
       "      <td>0.999</td>\n",
       "      <td>0.557</td>\n",
       "      <td>0.322</td>\n",
       "      <td>0.298</td>\n",
       "    </tr>\n",
       "    <tr>\n",
       "      <th>...</th>\n",
       "      <td>...</td>\n",
       "      <td>...</td>\n",
       "      <td>...</td>\n",
       "      <td>...</td>\n",
       "      <td>...</td>\n",
       "      <td>...</td>\n",
       "      <td>...</td>\n",
       "      <td>...</td>\n",
       "      <td>...</td>\n",
       "    </tr>\n",
       "    <tr>\n",
       "      <th>151</th>\n",
       "      <td>152</td>\n",
       "      <td>Rwanda</td>\n",
       "      <td>3.334</td>\n",
       "      <td>0.359</td>\n",
       "      <td>0.711</td>\n",
       "      <td>0.614</td>\n",
       "      <td>0.555</td>\n",
       "      <td>0.217</td>\n",
       "      <td>0.411</td>\n",
       "    </tr>\n",
       "    <tr>\n",
       "      <th>152</th>\n",
       "      <td>153</td>\n",
       "      <td>Tanzania</td>\n",
       "      <td>3.231</td>\n",
       "      <td>0.476</td>\n",
       "      <td>0.885</td>\n",
       "      <td>0.499</td>\n",
       "      <td>0.417</td>\n",
       "      <td>0.276</td>\n",
       "      <td>0.147</td>\n",
       "    </tr>\n",
       "    <tr>\n",
       "      <th>153</th>\n",
       "      <td>154</td>\n",
       "      <td>Afghanistan</td>\n",
       "      <td>3.203</td>\n",
       "      <td>0.350</td>\n",
       "      <td>0.517</td>\n",
       "      <td>0.361</td>\n",
       "      <td>0.000</td>\n",
       "      <td>0.158</td>\n",
       "      <td>0.025</td>\n",
       "    </tr>\n",
       "    <tr>\n",
       "      <th>154</th>\n",
       "      <td>155</td>\n",
       "      <td>Central African Republic</td>\n",
       "      <td>3.083</td>\n",
       "      <td>0.026</td>\n",
       "      <td>0.000</td>\n",
       "      <td>0.105</td>\n",
       "      <td>0.225</td>\n",
       "      <td>0.235</td>\n",
       "      <td>0.035</td>\n",
       "    </tr>\n",
       "    <tr>\n",
       "      <th>155</th>\n",
       "      <td>156</td>\n",
       "      <td>South Sudan</td>\n",
       "      <td>2.853</td>\n",
       "      <td>0.306</td>\n",
       "      <td>0.575</td>\n",
       "      <td>0.295</td>\n",
       "      <td>0.010</td>\n",
       "      <td>0.202</td>\n",
       "      <td>0.091</td>\n",
       "    </tr>\n",
       "  </tbody>\n",
       "</table>\n",
       "<p>156 rows × 9 columns</p>\n",
       "</div>"
      ],
      "text/plain": [
       "     Overall rank         Country or region  Score  GDP per capita   \n",
       "0               1                   Finland  7.769           1.340  \\\n",
       "1               2                   Denmark  7.600           1.383   \n",
       "2               3                    Norway  7.554           1.488   \n",
       "3               4                   Iceland  7.494           1.380   \n",
       "4               5               Netherlands  7.488           1.396   \n",
       "..            ...                       ...    ...             ...   \n",
       "151           152                    Rwanda  3.334           0.359   \n",
       "152           153                  Tanzania  3.231           0.476   \n",
       "153           154               Afghanistan  3.203           0.350   \n",
       "154           155  Central African Republic  3.083           0.026   \n",
       "155           156               South Sudan  2.853           0.306   \n",
       "\n",
       "     Social support  Healthy life expectancy  Freedom to make life choices   \n",
       "0             1.587                    0.986                         0.596  \\\n",
       "1             1.573                    0.996                         0.592   \n",
       "2             1.582                    1.028                         0.603   \n",
       "3             1.624                    1.026                         0.591   \n",
       "4             1.522                    0.999                         0.557   \n",
       "..              ...                      ...                           ...   \n",
       "151           0.711                    0.614                         0.555   \n",
       "152           0.885                    0.499                         0.417   \n",
       "153           0.517                    0.361                         0.000   \n",
       "154           0.000                    0.105                         0.225   \n",
       "155           0.575                    0.295                         0.010   \n",
       "\n",
       "     Generosity  Perceptions of corruption  \n",
       "0         0.153                      0.393  \n",
       "1         0.252                      0.410  \n",
       "2         0.271                      0.341  \n",
       "3         0.354                      0.118  \n",
       "4         0.322                      0.298  \n",
       "..          ...                        ...  \n",
       "151       0.217                      0.411  \n",
       "152       0.276                      0.147  \n",
       "153       0.158                      0.025  \n",
       "154       0.235                      0.035  \n",
       "155       0.202                      0.091  \n",
       "\n",
       "[156 rows x 9 columns]"
      ]
     },
     "execution_count": 34,
     "metadata": {},
     "output_type": "execute_result"
    }
   ],
   "source": [
    "df2019"
   ]
  },
  {
   "cell_type": "code",
   "execution_count": 35,
   "id": "7987b347",
   "metadata": {},
   "outputs": [],
   "source": [
    "df2019 = df2019.add_suffix(' 2019')"
   ]
  },
  {
   "cell_type": "code",
   "execution_count": 36,
   "id": "81f68a67",
   "metadata": {},
   "outputs": [],
   "source": [
    "df2019.rename(columns = {\"Country or region 2019\" : \"Country\", \"Overall rank 2019\":\"Happiness Rank 2019\", \"Score 2019\": \"Happiness Score 2019\", \"GDP per capita 2019\":\"GDP per Capita 2019\" }, inplace=True)"
   ]
  },
  {
   "cell_type": "code",
   "execution_count": 37,
   "id": "22be429c",
   "metadata": {},
   "outputs": [
    {
     "data": {
      "text/html": [
       "<div>\n",
       "<style scoped>\n",
       "    .dataframe tbody tr th:only-of-type {\n",
       "        vertical-align: middle;\n",
       "    }\n",
       "\n",
       "    .dataframe tbody tr th {\n",
       "        vertical-align: top;\n",
       "    }\n",
       "\n",
       "    .dataframe thead th {\n",
       "        text-align: right;\n",
       "    }\n",
       "</style>\n",
       "<table border=\"1\" class=\"dataframe\">\n",
       "  <thead>\n",
       "    <tr style=\"text-align: right;\">\n",
       "      <th></th>\n",
       "      <th>Happiness Rank 2019</th>\n",
       "      <th>Country</th>\n",
       "      <th>Happiness Score 2019</th>\n",
       "      <th>GDP per Capita 2019</th>\n",
       "      <th>Social support 2019</th>\n",
       "      <th>Healthy life expectancy 2019</th>\n",
       "      <th>Freedom to make life choices 2019</th>\n",
       "      <th>Generosity 2019</th>\n",
       "      <th>Perceptions of corruption 2019</th>\n",
       "    </tr>\n",
       "  </thead>\n",
       "  <tbody>\n",
       "    <tr>\n",
       "      <th>0</th>\n",
       "      <td>1</td>\n",
       "      <td>Finland</td>\n",
       "      <td>7.769</td>\n",
       "      <td>1.340</td>\n",
       "      <td>1.587</td>\n",
       "      <td>0.986</td>\n",
       "      <td>0.596</td>\n",
       "      <td>0.153</td>\n",
       "      <td>0.393</td>\n",
       "    </tr>\n",
       "    <tr>\n",
       "      <th>1</th>\n",
       "      <td>2</td>\n",
       "      <td>Denmark</td>\n",
       "      <td>7.600</td>\n",
       "      <td>1.383</td>\n",
       "      <td>1.573</td>\n",
       "      <td>0.996</td>\n",
       "      <td>0.592</td>\n",
       "      <td>0.252</td>\n",
       "      <td>0.410</td>\n",
       "    </tr>\n",
       "    <tr>\n",
       "      <th>2</th>\n",
       "      <td>3</td>\n",
       "      <td>Norway</td>\n",
       "      <td>7.554</td>\n",
       "      <td>1.488</td>\n",
       "      <td>1.582</td>\n",
       "      <td>1.028</td>\n",
       "      <td>0.603</td>\n",
       "      <td>0.271</td>\n",
       "      <td>0.341</td>\n",
       "    </tr>\n",
       "    <tr>\n",
       "      <th>3</th>\n",
       "      <td>4</td>\n",
       "      <td>Iceland</td>\n",
       "      <td>7.494</td>\n",
       "      <td>1.380</td>\n",
       "      <td>1.624</td>\n",
       "      <td>1.026</td>\n",
       "      <td>0.591</td>\n",
       "      <td>0.354</td>\n",
       "      <td>0.118</td>\n",
       "    </tr>\n",
       "    <tr>\n",
       "      <th>4</th>\n",
       "      <td>5</td>\n",
       "      <td>Netherlands</td>\n",
       "      <td>7.488</td>\n",
       "      <td>1.396</td>\n",
       "      <td>1.522</td>\n",
       "      <td>0.999</td>\n",
       "      <td>0.557</td>\n",
       "      <td>0.322</td>\n",
       "      <td>0.298</td>\n",
       "    </tr>\n",
       "    <tr>\n",
       "      <th>...</th>\n",
       "      <td>...</td>\n",
       "      <td>...</td>\n",
       "      <td>...</td>\n",
       "      <td>...</td>\n",
       "      <td>...</td>\n",
       "      <td>...</td>\n",
       "      <td>...</td>\n",
       "      <td>...</td>\n",
       "      <td>...</td>\n",
       "    </tr>\n",
       "    <tr>\n",
       "      <th>151</th>\n",
       "      <td>152</td>\n",
       "      <td>Rwanda</td>\n",
       "      <td>3.334</td>\n",
       "      <td>0.359</td>\n",
       "      <td>0.711</td>\n",
       "      <td>0.614</td>\n",
       "      <td>0.555</td>\n",
       "      <td>0.217</td>\n",
       "      <td>0.411</td>\n",
       "    </tr>\n",
       "    <tr>\n",
       "      <th>152</th>\n",
       "      <td>153</td>\n",
       "      <td>Tanzania</td>\n",
       "      <td>3.231</td>\n",
       "      <td>0.476</td>\n",
       "      <td>0.885</td>\n",
       "      <td>0.499</td>\n",
       "      <td>0.417</td>\n",
       "      <td>0.276</td>\n",
       "      <td>0.147</td>\n",
       "    </tr>\n",
       "    <tr>\n",
       "      <th>153</th>\n",
       "      <td>154</td>\n",
       "      <td>Afghanistan</td>\n",
       "      <td>3.203</td>\n",
       "      <td>0.350</td>\n",
       "      <td>0.517</td>\n",
       "      <td>0.361</td>\n",
       "      <td>0.000</td>\n",
       "      <td>0.158</td>\n",
       "      <td>0.025</td>\n",
       "    </tr>\n",
       "    <tr>\n",
       "      <th>154</th>\n",
       "      <td>155</td>\n",
       "      <td>Central African Republic</td>\n",
       "      <td>3.083</td>\n",
       "      <td>0.026</td>\n",
       "      <td>0.000</td>\n",
       "      <td>0.105</td>\n",
       "      <td>0.225</td>\n",
       "      <td>0.235</td>\n",
       "      <td>0.035</td>\n",
       "    </tr>\n",
       "    <tr>\n",
       "      <th>155</th>\n",
       "      <td>156</td>\n",
       "      <td>South Sudan</td>\n",
       "      <td>2.853</td>\n",
       "      <td>0.306</td>\n",
       "      <td>0.575</td>\n",
       "      <td>0.295</td>\n",
       "      <td>0.010</td>\n",
       "      <td>0.202</td>\n",
       "      <td>0.091</td>\n",
       "    </tr>\n",
       "  </tbody>\n",
       "</table>\n",
       "<p>156 rows × 9 columns</p>\n",
       "</div>"
      ],
      "text/plain": [
       "     Happiness Rank 2019                   Country  Happiness Score 2019   \n",
       "0                      1                   Finland                 7.769  \\\n",
       "1                      2                   Denmark                 7.600   \n",
       "2                      3                    Norway                 7.554   \n",
       "3                      4                   Iceland                 7.494   \n",
       "4                      5               Netherlands                 7.488   \n",
       "..                   ...                       ...                   ...   \n",
       "151                  152                    Rwanda                 3.334   \n",
       "152                  153                  Tanzania                 3.231   \n",
       "153                  154               Afghanistan                 3.203   \n",
       "154                  155  Central African Republic                 3.083   \n",
       "155                  156               South Sudan                 2.853   \n",
       "\n",
       "     GDP per Capita 2019  Social support 2019  Healthy life expectancy 2019   \n",
       "0                  1.340                1.587                         0.986  \\\n",
       "1                  1.383                1.573                         0.996   \n",
       "2                  1.488                1.582                         1.028   \n",
       "3                  1.380                1.624                         1.026   \n",
       "4                  1.396                1.522                         0.999   \n",
       "..                   ...                  ...                           ...   \n",
       "151                0.359                0.711                         0.614   \n",
       "152                0.476                0.885                         0.499   \n",
       "153                0.350                0.517                         0.361   \n",
       "154                0.026                0.000                         0.105   \n",
       "155                0.306                0.575                         0.295   \n",
       "\n",
       "     Freedom to make life choices 2019  Generosity 2019   \n",
       "0                                0.596            0.153  \\\n",
       "1                                0.592            0.252   \n",
       "2                                0.603            0.271   \n",
       "3                                0.591            0.354   \n",
       "4                                0.557            0.322   \n",
       "..                                 ...              ...   \n",
       "151                              0.555            0.217   \n",
       "152                              0.417            0.276   \n",
       "153                              0.000            0.158   \n",
       "154                              0.225            0.235   \n",
       "155                              0.010            0.202   \n",
       "\n",
       "     Perceptions of corruption 2019  \n",
       "0                             0.393  \n",
       "1                             0.410  \n",
       "2                             0.341  \n",
       "3                             0.118  \n",
       "4                             0.298  \n",
       "..                              ...  \n",
       "151                           0.411  \n",
       "152                           0.147  \n",
       "153                           0.025  \n",
       "154                           0.035  \n",
       "155                           0.091  \n",
       "\n",
       "[156 rows x 9 columns]"
      ]
     },
     "execution_count": 37,
     "metadata": {},
     "output_type": "execute_result"
    }
   ],
   "source": [
    "df2019"
   ]
  },
  {
   "cell_type": "code",
   "execution_count": 38,
   "id": "d24451da",
   "metadata": {},
   "outputs": [],
   "source": [
    "df2019_countries = list(df2019['Country'].values)\n",
    "df_countries = list(df['Country'].values)"
   ]
  },
  {
   "cell_type": "code",
   "execution_count": 39,
   "id": "0a2589e5",
   "metadata": {},
   "outputs": [
    {
     "name": "stdout",
     "output_type": "stream",
     "text": [
      "['Oman', 'Suriname', 'Trinidad and Tobago', 'North Cyprus', 'Macedonia', 'Sudan', 'Democratic Republic of the Congo', 'Djibouti', 'Angola', 'Republic of the Congo', 'Kiribati', 'Maldives', 'Tuvalu', 'Palau', 'Marshall Islands', 'Seychelles', 'Brunei', 'Saint Vincent and the Grenadines', 'Guinea-Bissau', 'Samoa', 'Grenada', 'Barbados', 'Guyana', 'Federated States of Micronesia', 'Antigua and Barbuda', 'Solomon Islands', 'Eritrea', 'Saint Lucia', 'Belize', 'Timor-Leste', 'Papua New Guinea', 'Tonga', 'Cuba', 'Bahamas', 'Equatorial Guinea', 'Saint Kitts and Nevis', 'Fiji', 'Vanuatu', 'São Tomé and Príncipe', 'Cape Verde', 'Dominica', 'Monaco', 'San Marino', 'Andorra', 'Liechtenstein', 'North Korea']\n"
     ]
    }
   ],
   "source": [
    "df_remaining_countries=[]\n",
    "df2019_remaining_countries=[]\n",
    "\n",
    "for i in df_countries:\n",
    "    if i not in df2019_countries:\n",
    "        df_remaining_countries.append(i)\n",
    "        \n",
    "for i in df2019_countries:\n",
    "    if i not in df_countries:\n",
    "        df2019_remaining_countries.append(i)\n",
    "        \n",
    "print(df_remaining_countries)"
   ]
  },
  {
   "cell_type": "code",
   "execution_count": 40,
   "id": "1b2d7766",
   "metadata": {},
   "outputs": [
    {
     "name": "stdout",
     "output_type": "stream",
     "text": [
      "['Trinidad & Tobago', 'Northern Cyprus', 'North Macedonia', 'Congo (Brazzaville)', 'Congo (Kinshasa)', 'South Sudan']\n"
     ]
    }
   ],
   "source": [
    "print(df2019_remaining_countries)"
   ]
  },
  {
   "cell_type": "markdown",
   "id": "f07be232",
   "metadata": {},
   "source": [
    "mask_Cyprus = df2019['Country'].str.contains('Northern Cyprus', case=False)\n",
    "df2019.loc[mask_Cyprus, 'Country'] = 'North Cyprus'"
   ]
  },
  {
   "cell_type": "code",
   "execution_count": 41,
   "id": "527f7bd6",
   "metadata": {},
   "outputs": [],
   "source": [
    "mask_Congo = df2019['Country'].str.contains('Brazzaville', case=False)\n",
    "df2019.loc[mask_Congo, 'Country'] = 'Republic of the Congo'"
   ]
  },
  {
   "cell_type": "code",
   "execution_count": 42,
   "id": "4a0e94bb",
   "metadata": {},
   "outputs": [],
   "source": [
    "mask_Sudan = df2019['Country'].str.contains('Sudan', case=False)\n",
    "df2019.loc[mask_Sudan, 'Country'] = 'Sudan'"
   ]
  },
  {
   "cell_type": "code",
   "execution_count": 43,
   "id": "1d7568a8",
   "metadata": {},
   "outputs": [],
   "source": [
    "mask_Democratic = df2019['Country'].str.contains('Kinshasa', case=False)\n",
    "df2019.loc[mask_Democratic, 'Country'] = 'Democratic Republic of the Congo'"
   ]
  },
  {
   "cell_type": "code",
   "execution_count": 44,
   "id": "719a80a1",
   "metadata": {},
   "outputs": [],
   "source": [
    "mask_Trinidad = df2019['Country'].str.contains('Trinidad & Tobago', case=False)\n",
    "df2019.loc[mask_Trinidad, 'Country'] = 'Trinidad and Tobago'"
   ]
  },
  {
   "cell_type": "code",
   "execution_count": 45,
   "id": "805a054c",
   "metadata": {},
   "outputs": [],
   "source": [
    "mask_Macedonia = df2019['Country'].str.contains('Macedonia', case=False)\n",
    "df2019.loc[mask_Macedonia, 'Country'] = 'Macedonia'"
   ]
  },
  {
   "cell_type": "code",
   "execution_count": 46,
   "id": "e43dce57",
   "metadata": {},
   "outputs": [],
   "source": [
    "mask_Somalia = df2019['Country'].str.contains('Somaliland', case=False)\n",
    "df2019.loc[mask_Somalia, 'Country'] = 'Somalia'"
   ]
  },
  {
   "cell_type": "code",
   "execution_count": 47,
   "id": "029d2ff3",
   "metadata": {},
   "outputs": [],
   "source": [
    "mask_Cyprus = df2019['Country'].str.contains('Northern Cyprus', case=False)\n",
    "df2019.loc[mask_Cyprus, 'Country'] = 'North Cyprus'\n"
   ]
  },
  {
   "cell_type": "code",
   "execution_count": 48,
   "id": "e68268e4",
   "metadata": {},
   "outputs": [
    {
     "data": {
      "text/html": [
       "<div>\n",
       "<style scoped>\n",
       "    .dataframe tbody tr th:only-of-type {\n",
       "        vertical-align: middle;\n",
       "    }\n",
       "\n",
       "    .dataframe tbody tr th {\n",
       "        vertical-align: top;\n",
       "    }\n",
       "\n",
       "    .dataframe thead th {\n",
       "        text-align: right;\n",
       "    }\n",
       "</style>\n",
       "<table border=\"1\" class=\"dataframe\">\n",
       "  <thead>\n",
       "    <tr style=\"text-align: right;\">\n",
       "      <th></th>\n",
       "      <th>Country</th>\n",
       "      <th>Happiness.Rank</th>\n",
       "      <th>Happiness.Score</th>\n",
       "      <th>Whisker.high</th>\n",
       "      <th>Whisker.low</th>\n",
       "      <th>Economy..GDP.per.Capita.</th>\n",
       "      <th>Family</th>\n",
       "      <th>Health..Life.Expectancy.</th>\n",
       "      <th>Freedom</th>\n",
       "      <th>Generosity</th>\n",
       "      <th>Trust..Government.Corruption.</th>\n",
       "      <th>Dystopia.Residual</th>\n",
       "    </tr>\n",
       "  </thead>\n",
       "  <tbody>\n",
       "    <tr>\n",
       "      <th>119</th>\n",
       "      <td>Sri Lanka</td>\n",
       "      <td>120</td>\n",
       "      <td>4.44</td>\n",
       "      <td>4.553447</td>\n",
       "      <td>4.326553</td>\n",
       "      <td>1.00985</td>\n",
       "      <td>1.259976</td>\n",
       "      <td>0.625131</td>\n",
       "      <td>0.561213</td>\n",
       "      <td>0.490864</td>\n",
       "      <td>0.073654</td>\n",
       "      <td>0.419389</td>\n",
       "    </tr>\n",
       "  </tbody>\n",
       "</table>\n",
       "</div>"
      ],
      "text/plain": [
       "       Country  Happiness.Rank  Happiness.Score  Whisker.high  Whisker.low   \n",
       "119  Sri Lanka             120             4.44      4.553447     4.326553  \\\n",
       "\n",
       "     Economy..GDP.per.Capita.    Family  Health..Life.Expectancy.   Freedom   \n",
       "119                   1.00985  1.259976                  0.625131  0.561213  \\\n",
       "\n",
       "     Generosity  Trust..Government.Corruption.  Dystopia.Residual  \n",
       "119    0.490864                       0.073654           0.419389  "
      ]
     },
     "execution_count": 48,
     "metadata": {},
     "output_type": "execute_result"
    }
   ],
   "source": [
    "df2017.sample()"
   ]
  },
  {
   "cell_type": "code",
   "execution_count": 49,
   "id": "11a8b7b1",
   "metadata": {},
   "outputs": [],
   "source": [
    "df2017 = df2017.add_suffix(' 2017')"
   ]
  },
  {
   "cell_type": "code",
   "execution_count": 50,
   "id": "a9db7283",
   "metadata": {},
   "outputs": [],
   "source": [
    "df2017.rename(columns = {\"Country 2017\" : \"Country\", \"Happiness.Rank 2017\" :\"Happiness Rank 2017\", \"Happiness.Score 2017\" : \"Happiness Score 2017\", \"Economy..GDP.per.Capita. 2017\": \"GDP per Capita 2017\"}, inplace=True)"
   ]
  },
  {
   "cell_type": "code",
   "execution_count": 51,
   "id": "a5587857",
   "metadata": {},
   "outputs": [],
   "source": [
    "df2017_countries = list(df2017['Country'].values)\n",
    "df_countries = list(df['Country'].values)"
   ]
  },
  {
   "cell_type": "code",
   "execution_count": 52,
   "id": "c1fcb031",
   "metadata": {},
   "outputs": [
    {
     "name": "stdout",
     "output_type": "stream",
     "text": [
      "['Oman', 'Taiwan', 'Suriname', 'Hong Kong', 'Laos', 'Swaziland', 'Democratic Republic of the Congo', 'Djibouti', 'Republic of the Congo', 'Comoros', 'Kiribati', 'Maldives', 'Tuvalu', 'Palau', 'Gambia', 'Marshall Islands', 'Seychelles', 'Brunei', 'Saint Vincent and the Grenadines', 'Guinea-Bissau', 'Samoa', 'Grenada', 'Barbados', 'Guyana', 'Federated States of Micronesia', 'Antigua and Barbuda', 'Solomon Islands', 'Eritrea', 'Saint Lucia', 'Timor-Leste', 'Papua New Guinea', 'Tonga', 'Cuba', 'Bahamas', 'Equatorial Guinea', 'Saint Kitts and Nevis', 'Fiji', 'Vanuatu', 'São Tomé and Príncipe', 'Cape Verde', 'Dominica', 'Monaco', 'San Marino', 'Andorra', 'Liechtenstein', 'North Korea']\n"
     ]
    }
   ],
   "source": [
    "df_remaining_countries=[]\n",
    "df2017_remaining_countries=[]\n",
    "\n",
    "for i in df_countries:\n",
    "    if i not in df2017_countries:\n",
    "        df_remaining_countries.append(i)\n",
    "        \n",
    "for i in df2017_countries:\n",
    "    if i not in df_countries:\n",
    "        df2017_remaining_countries.append(i)\n",
    "        \n",
    "print(df_remaining_countries)"
   ]
  },
  {
   "cell_type": "code",
   "execution_count": 53,
   "id": "73e287cd",
   "metadata": {},
   "outputs": [
    {
     "name": "stdout",
     "output_type": "stream",
     "text": [
      "['Taiwan Province of China', 'Hong Kong S.A.R., China', 'Congo (Brazzaville)', 'Congo (Kinshasa)', 'South Sudan']\n"
     ]
    }
   ],
   "source": [
    "print(df2017_remaining_countries)"
   ]
  },
  {
   "cell_type": "code",
   "execution_count": 54,
   "id": "871f515b",
   "metadata": {},
   "outputs": [],
   "source": [
    "mask_Taiwan = df2017['Country'].str.contains('Taiwan', case=False)\n",
    "df2017.loc[mask_Taiwan, 'Country'] = 'Taiwan'"
   ]
  },
  {
   "cell_type": "code",
   "execution_count": 55,
   "id": "70c89209",
   "metadata": {},
   "outputs": [],
   "source": [
    "mask_HongKong = df2017['Country'].str.contains('Hong Kong', case=False)\n",
    "df2017.loc[mask_HongKong, 'Country'] = 'Hong Kong'"
   ]
  },
  {
   "cell_type": "code",
   "execution_count": 56,
   "id": "5f04ed71",
   "metadata": {},
   "outputs": [],
   "source": [
    "mask_Democratic = df2017['Country'].str.contains('Kinshasa', case=False)\n",
    "df2017.loc[mask_Democratic, 'Country'] = 'Democratic Republic of the Congo'"
   ]
  },
  {
   "cell_type": "code",
   "execution_count": 57,
   "id": "a4e653a9",
   "metadata": {},
   "outputs": [],
   "source": [
    "mask_Congo = df2017['Country'].str.contains('Brazzaville', case=False)\n",
    "df2017.loc[mask_Congo, 'Country'] = 'Republic of the Congo'"
   ]
  },
  {
   "cell_type": "code",
   "execution_count": 58,
   "id": "d6732a35",
   "metadata": {},
   "outputs": [
    {
     "data": {
      "text/html": [
       "<div>\n",
       "<style scoped>\n",
       "    .dataframe tbody tr th:only-of-type {\n",
       "        vertical-align: middle;\n",
       "    }\n",
       "\n",
       "    .dataframe tbody tr th {\n",
       "        vertical-align: top;\n",
       "    }\n",
       "\n",
       "    .dataframe thead th {\n",
       "        text-align: right;\n",
       "    }\n",
       "</style>\n",
       "<table border=\"1\" class=\"dataframe\">\n",
       "  <thead>\n",
       "    <tr style=\"text-align: right;\">\n",
       "      <th></th>\n",
       "      <th>ï»¿Country name</th>\n",
       "      <th>Regional indicator</th>\n",
       "      <th>Ladder score</th>\n",
       "      <th>Standard error of ladder score</th>\n",
       "      <th>upperwhisker</th>\n",
       "      <th>lowerwhisker</th>\n",
       "      <th>Logged GDP per capita</th>\n",
       "      <th>Social support</th>\n",
       "      <th>Healthy life expectancy</th>\n",
       "      <th>Freedom to make life choices</th>\n",
       "      <th>Generosity</th>\n",
       "      <th>Perceptions of corruption</th>\n",
       "      <th>Ladder score in Dystopia</th>\n",
       "      <th>Explained by: Log GDP per capita</th>\n",
       "      <th>Explained by: Social support</th>\n",
       "      <th>Explained by: Healthy life expectancy</th>\n",
       "      <th>Explained by: Freedom to make life choices</th>\n",
       "      <th>Explained by: Generosity</th>\n",
       "      <th>Explained by: Perceptions of corruption</th>\n",
       "      <th>Dystopia + residual</th>\n",
       "    </tr>\n",
       "  </thead>\n",
       "  <tbody>\n",
       "    <tr>\n",
       "      <th>147</th>\n",
       "      <td>Zimbabwe</td>\n",
       "      <td>Sub-Saharan Africa</td>\n",
       "      <td>3.145</td>\n",
       "      <td>0.058</td>\n",
       "      <td>3.259</td>\n",
       "      <td>3.03</td>\n",
       "      <td>7.943</td>\n",
       "      <td>0.75</td>\n",
       "      <td>56.201</td>\n",
       "      <td>0.677</td>\n",
       "      <td>-0.047</td>\n",
       "      <td>0.821</td>\n",
       "      <td>2.43</td>\n",
       "      <td>0.457</td>\n",
       "      <td>0.649</td>\n",
       "      <td>0.243</td>\n",
       "      <td>0.359</td>\n",
       "      <td>0.157</td>\n",
       "      <td>0.075</td>\n",
       "      <td>1.205</td>\n",
       "    </tr>\n",
       "  </tbody>\n",
       "</table>\n",
       "</div>"
      ],
      "text/plain": [
       "    ï»¿Country name  Regional indicator  Ladder score   \n",
       "147        Zimbabwe  Sub-Saharan Africa         3.145  \\\n",
       "\n",
       "     Standard error of ladder score  upperwhisker  lowerwhisker   \n",
       "147                           0.058         3.259          3.03  \\\n",
       "\n",
       "     Logged GDP per capita  Social support  Healthy life expectancy   \n",
       "147                  7.943            0.75                   56.201  \\\n",
       "\n",
       "     Freedom to make life choices  Generosity  Perceptions of corruption   \n",
       "147                         0.677      -0.047                      0.821  \\\n",
       "\n",
       "     Ladder score in Dystopia  Explained by: Log GDP per capita   \n",
       "147                      2.43                             0.457  \\\n",
       "\n",
       "     Explained by: Social support  Explained by: Healthy life expectancy   \n",
       "147                         0.649                                  0.243  \\\n",
       "\n",
       "     Explained by: Freedom to make life choices  Explained by: Generosity   \n",
       "147                                       0.359                     0.157  \\\n",
       "\n",
       "     Explained by: Perceptions of corruption  Dystopia + residual  \n",
       "147                                    0.075                1.205  "
      ]
     },
     "execution_count": 58,
     "metadata": {},
     "output_type": "execute_result"
    }
   ],
   "source": [
    "df2021.sample()"
   ]
  },
  {
   "cell_type": "code",
   "execution_count": null,
   "id": "b58ab5fa",
   "metadata": {},
   "outputs": [],
   "source": []
  },
  {
   "cell_type": "code",
   "execution_count": 59,
   "id": "65e78f29",
   "metadata": {},
   "outputs": [],
   "source": [
    "df2021 = df2021.add_suffix(' 2021')"
   ]
  },
  {
   "cell_type": "code",
   "execution_count": 60,
   "id": "7c2d1f9a",
   "metadata": {},
   "outputs": [
    {
     "data": {
      "text/plain": [
       "Index(['ï»¿Country name 2021', 'Regional indicator 2021', 'Ladder score 2021',\n",
       "       'Standard error of ladder score 2021', 'upperwhisker 2021',\n",
       "       'lowerwhisker 2021', 'Logged GDP per capita 2021',\n",
       "       'Social support 2021', 'Healthy life expectancy 2021',\n",
       "       'Freedom to make life choices 2021', 'Generosity 2021',\n",
       "       'Perceptions of corruption 2021', 'Ladder score in Dystopia 2021',\n",
       "       'Explained by: Log GDP per capita 2021',\n",
       "       'Explained by: Social support 2021',\n",
       "       'Explained by: Healthy life expectancy 2021',\n",
       "       'Explained by: Freedom to make life choices 2021',\n",
       "       'Explained by: Generosity 2021',\n",
       "       'Explained by: Perceptions of corruption 2021',\n",
       "       'Dystopia + residual 2021'],\n",
       "      dtype='object')"
      ]
     },
     "execution_count": 60,
     "metadata": {},
     "output_type": "execute_result"
    }
   ],
   "source": [
    "df2021.columns"
   ]
  },
  {
   "cell_type": "code",
   "execution_count": 61,
   "id": "4ee31ca6",
   "metadata": {},
   "outputs": [],
   "source": [
    "df2021.rename(columns = {\"ï»¿Country name 2021\" : \"Country\", \"Ladder score 2021\": \"Happiness Score 2021\", \"Explained by: Log GDP per capita 2021\":\"GDP per Capita 2021\"}, inplace=True)"
   ]
  },
  {
   "cell_type": "code",
   "execution_count": 62,
   "id": "d28b378d",
   "metadata": {},
   "outputs": [],
   "source": [
    "df2021_countries = list(df2021['Country'].values)\n",
    "df_countries = list(df['Country'].values)"
   ]
  },
  {
   "cell_type": "code",
   "execution_count": 63,
   "id": "55534df2",
   "metadata": {},
   "outputs": [
    {
     "name": "stdout",
     "output_type": "stream",
     "text": [
      "['Oman', 'Qatar', 'Taiwan', 'Suriname', 'Trinidad and Tobago', 'Hong Kong', 'Bhutan', 'Somalia', 'Macedonia', 'Sudan', 'Democratic Republic of the Congo', 'Djibouti', 'Angola', 'Republic of the Congo', 'Central African Republic', 'Syria', 'Kiribati', 'Tuvalu', 'Palau', 'Marshall Islands', 'Seychelles', 'Brunei', 'Saint Vincent and the Grenadines', 'Guinea-Bissau', 'Samoa', 'Grenada', 'Barbados', 'Guyana', 'Federated States of Micronesia', 'Antigua and Barbuda', 'Solomon Islands', 'Eritrea', 'Saint Lucia', 'Belize', 'Timor-Leste', 'Papua New Guinea', 'Tonga', 'Cuba', 'Bahamas', 'Equatorial Guinea', 'Saint Kitts and Nevis', 'Fiji', 'Vanuatu', 'São Tomé and Príncipe', 'Cape Verde', 'Dominica', 'Monaco', 'San Marino', 'Andorra', 'Liechtenstein', 'North Korea']\n"
     ]
    }
   ],
   "source": [
    "df_remaining_countries=[]\n",
    "df2021_remaining_countries=[]\n",
    "\n",
    "for i in df_countries:\n",
    "    if i not in df2021_countries:\n",
    "        df_remaining_countries.append(i)\n",
    "        \n",
    "for i in df2021_countries:\n",
    "    if i not in df_countries:\n",
    "        df2021_remaining_countries.append(i)\n",
    "        \n",
    "print(df_remaining_countries)"
   ]
  },
  {
   "cell_type": "code",
   "execution_count": 64,
   "id": "e8357ca8",
   "metadata": {},
   "outputs": [
    {
     "name": "stdout",
     "output_type": "stream",
     "text": [
      "['Taiwan Province of China', 'Hong Kong S.A.R. of China', 'Congo (Brazzaville)', 'North Macedonia']\n"
     ]
    }
   ],
   "source": [
    "print(df2021_remaining_countries)"
   ]
  },
  {
   "cell_type": "code",
   "execution_count": 65,
   "id": "0849b47f",
   "metadata": {},
   "outputs": [],
   "source": [
    "mask_Taiwan = df2021['Country'].str.contains('Taiwan', case=False)\n",
    "df2021.loc[mask_Taiwan, 'Country'] = 'Taiwan'"
   ]
  },
  {
   "cell_type": "code",
   "execution_count": 66,
   "id": "f23430d3",
   "metadata": {},
   "outputs": [],
   "source": [
    "mask_Congo = df2021['Country'].str.contains('Brazzaville', case=False)\n",
    "df2021.loc[mask_Congo, 'Country'] = 'Republic of the Congo'"
   ]
  },
  {
   "cell_type": "code",
   "execution_count": 67,
   "id": "a0a054ff",
   "metadata": {},
   "outputs": [],
   "source": [
    "mask_HongKong = df2021['Country'].str.contains('Hong Kong', case=False)\n",
    "df2021.loc[mask_HongKong, 'Country'] = 'Hong Kong'"
   ]
  },
  {
   "cell_type": "code",
   "execution_count": 68,
   "id": "1aa3a2d5",
   "metadata": {},
   "outputs": [],
   "source": [
    "mask_Macedonia = df2021['Country'].str.contains('Macedonia', case=False)\n",
    "df2021.loc[mask_Macedonia, 'Country'] = 'Macedonia'"
   ]
  },
  {
   "cell_type": "code",
   "execution_count": 69,
   "id": "c56a5846",
   "metadata": {},
   "outputs": [],
   "source": [
    "df.drop(columns=[\"Region\", \"Standard Error 2015\", \"Family 2015\", \"Health (Life Expectancy) 2015\", \"Freedom 2015\", \"Trust (Government Corruption) 2015\", \"Generosity 2015\", \"Dystopia Residual 2015\"], axis=1, inplace=True)"
   ]
  },
  {
   "cell_type": "code",
   "execution_count": 70,
   "id": "8d5184df",
   "metadata": {},
   "outputs": [
    {
     "data": {
      "text/html": [
       "<div>\n",
       "<style scoped>\n",
       "    .dataframe tbody tr th:only-of-type {\n",
       "        vertical-align: middle;\n",
       "    }\n",
       "\n",
       "    .dataframe tbody tr th {\n",
       "        vertical-align: top;\n",
       "    }\n",
       "\n",
       "    .dataframe thead th {\n",
       "        text-align: right;\n",
       "    }\n",
       "</style>\n",
       "<table border=\"1\" class=\"dataframe\">\n",
       "  <thead>\n",
       "    <tr style=\"text-align: right;\">\n",
       "      <th></th>\n",
       "      <th>Country</th>\n",
       "      <th>Happiness Rank 2015</th>\n",
       "      <th>Happiness Score 2015</th>\n",
       "      <th>GDP per Capita 2015</th>\n",
       "      <th>Average yearly temperature</th>\n",
       "    </tr>\n",
       "  </thead>\n",
       "  <tbody>\n",
       "    <tr>\n",
       "      <th>0</th>\n",
       "      <td>Switzerland</td>\n",
       "      <td>1.0</td>\n",
       "      <td>7.587</td>\n",
       "      <td>1.39651</td>\n",
       "      <td>5.1</td>\n",
       "    </tr>\n",
       "    <tr>\n",
       "      <th>1</th>\n",
       "      <td>Iceland</td>\n",
       "      <td>2.0</td>\n",
       "      <td>7.561</td>\n",
       "      <td>1.30232</td>\n",
       "      <td>-0.7</td>\n",
       "    </tr>\n",
       "    <tr>\n",
       "      <th>2</th>\n",
       "      <td>Denmark</td>\n",
       "      <td>3.0</td>\n",
       "      <td>7.527</td>\n",
       "      <td>1.32548</td>\n",
       "      <td>-3.7</td>\n",
       "    </tr>\n",
       "    <tr>\n",
       "      <th>3</th>\n",
       "      <td>Norway</td>\n",
       "      <td>4.0</td>\n",
       "      <td>7.522</td>\n",
       "      <td>1.45900</td>\n",
       "      <td>1.5</td>\n",
       "    </tr>\n",
       "    <tr>\n",
       "      <th>4</th>\n",
       "      <td>Canada</td>\n",
       "      <td>5.0</td>\n",
       "      <td>7.427</td>\n",
       "      <td>1.32629</td>\n",
       "      <td>-5.1</td>\n",
       "    </tr>\n",
       "  </tbody>\n",
       "</table>\n",
       "</div>"
      ],
      "text/plain": [
       "       Country  Happiness Rank 2015  Happiness Score 2015   \n",
       "0  Switzerland                  1.0                 7.587  \\\n",
       "1      Iceland                  2.0                 7.561   \n",
       "2      Denmark                  3.0                 7.527   \n",
       "3       Norway                  4.0                 7.522   \n",
       "4       Canada                  5.0                 7.427   \n",
       "\n",
       "   GDP per Capita 2015  Average yearly temperature  \n",
       "0              1.39651                         5.1  \n",
       "1              1.30232                        -0.7  \n",
       "2              1.32548                        -3.7  \n",
       "3              1.45900                         1.5  \n",
       "4              1.32629                        -5.1  "
      ]
     },
     "execution_count": 70,
     "metadata": {},
     "output_type": "execute_result"
    }
   ],
   "source": [
    "df.head()"
   ]
  },
  {
   "cell_type": "code",
   "execution_count": 71,
   "id": "215b23ab",
   "metadata": {},
   "outputs": [],
   "source": [
    "df2017.drop(columns=[\"Whisker.high 2017\", \"Whisker.low 2017\", \"Family 2017\", \"Health..Life.Expectancy. 2017\", \"Freedom 2017\", \"Generosity 2017\", \"Trust..Government.Corruption. 2017\", \"Dystopia.Residual 2017\"], axis=1, inplace=True)"
   ]
  },
  {
   "cell_type": "code",
   "execution_count": 72,
   "id": "8d308692",
   "metadata": {},
   "outputs": [
    {
     "data": {
      "text/html": [
       "<div>\n",
       "<style scoped>\n",
       "    .dataframe tbody tr th:only-of-type {\n",
       "        vertical-align: middle;\n",
       "    }\n",
       "\n",
       "    .dataframe tbody tr th {\n",
       "        vertical-align: top;\n",
       "    }\n",
       "\n",
       "    .dataframe thead th {\n",
       "        text-align: right;\n",
       "    }\n",
       "</style>\n",
       "<table border=\"1\" class=\"dataframe\">\n",
       "  <thead>\n",
       "    <tr style=\"text-align: right;\">\n",
       "      <th></th>\n",
       "      <th>Country</th>\n",
       "      <th>Happiness Rank 2017</th>\n",
       "      <th>Happiness Score 2017</th>\n",
       "      <th>GDP per Capita 2017</th>\n",
       "    </tr>\n",
       "  </thead>\n",
       "  <tbody>\n",
       "    <tr>\n",
       "      <th>0</th>\n",
       "      <td>Norway</td>\n",
       "      <td>1</td>\n",
       "      <td>7.537</td>\n",
       "      <td>1.616463</td>\n",
       "    </tr>\n",
       "    <tr>\n",
       "      <th>1</th>\n",
       "      <td>Denmark</td>\n",
       "      <td>2</td>\n",
       "      <td>7.522</td>\n",
       "      <td>1.482383</td>\n",
       "    </tr>\n",
       "    <tr>\n",
       "      <th>2</th>\n",
       "      <td>Iceland</td>\n",
       "      <td>3</td>\n",
       "      <td>7.504</td>\n",
       "      <td>1.480633</td>\n",
       "    </tr>\n",
       "    <tr>\n",
       "      <th>3</th>\n",
       "      <td>Switzerland</td>\n",
       "      <td>4</td>\n",
       "      <td>7.494</td>\n",
       "      <td>1.564980</td>\n",
       "    </tr>\n",
       "    <tr>\n",
       "      <th>4</th>\n",
       "      <td>Finland</td>\n",
       "      <td>5</td>\n",
       "      <td>7.469</td>\n",
       "      <td>1.443572</td>\n",
       "    </tr>\n",
       "  </tbody>\n",
       "</table>\n",
       "</div>"
      ],
      "text/plain": [
       "       Country  Happiness Rank 2017  Happiness Score 2017  GDP per Capita 2017\n",
       "0       Norway                    1                 7.537             1.616463\n",
       "1      Denmark                    2                 7.522             1.482383\n",
       "2      Iceland                    3                 7.504             1.480633\n",
       "3  Switzerland                    4                 7.494             1.564980\n",
       "4      Finland                    5                 7.469             1.443572"
      ]
     },
     "execution_count": 72,
     "metadata": {},
     "output_type": "execute_result"
    }
   ],
   "source": [
    "df2017.head()"
   ]
  },
  {
   "cell_type": "code",
   "execution_count": 73,
   "id": "1b474791",
   "metadata": {},
   "outputs": [],
   "source": [
    "df2019.drop(columns=[\"Social support 2019\", \"Freedom to make life choices 2019\", \"Generosity 2019\", \"Perceptions of corruption 2019\",\"Healthy life expectancy 2019\"], axis=1, inplace=True)"
   ]
  },
  {
   "cell_type": "code",
   "execution_count": 74,
   "id": "2500741d",
   "metadata": {},
   "outputs": [
    {
     "data": {
      "text/html": [
       "<div>\n",
       "<style scoped>\n",
       "    .dataframe tbody tr th:only-of-type {\n",
       "        vertical-align: middle;\n",
       "    }\n",
       "\n",
       "    .dataframe tbody tr th {\n",
       "        vertical-align: top;\n",
       "    }\n",
       "\n",
       "    .dataframe thead th {\n",
       "        text-align: right;\n",
       "    }\n",
       "</style>\n",
       "<table border=\"1\" class=\"dataframe\">\n",
       "  <thead>\n",
       "    <tr style=\"text-align: right;\">\n",
       "      <th></th>\n",
       "      <th>Happiness Rank 2019</th>\n",
       "      <th>Country</th>\n",
       "      <th>Happiness Score 2019</th>\n",
       "      <th>GDP per Capita 2019</th>\n",
       "    </tr>\n",
       "  </thead>\n",
       "  <tbody>\n",
       "    <tr>\n",
       "      <th>0</th>\n",
       "      <td>1</td>\n",
       "      <td>Finland</td>\n",
       "      <td>7.769</td>\n",
       "      <td>1.340</td>\n",
       "    </tr>\n",
       "    <tr>\n",
       "      <th>1</th>\n",
       "      <td>2</td>\n",
       "      <td>Denmark</td>\n",
       "      <td>7.600</td>\n",
       "      <td>1.383</td>\n",
       "    </tr>\n",
       "    <tr>\n",
       "      <th>2</th>\n",
       "      <td>3</td>\n",
       "      <td>Norway</td>\n",
       "      <td>7.554</td>\n",
       "      <td>1.488</td>\n",
       "    </tr>\n",
       "    <tr>\n",
       "      <th>3</th>\n",
       "      <td>4</td>\n",
       "      <td>Iceland</td>\n",
       "      <td>7.494</td>\n",
       "      <td>1.380</td>\n",
       "    </tr>\n",
       "    <tr>\n",
       "      <th>4</th>\n",
       "      <td>5</td>\n",
       "      <td>Netherlands</td>\n",
       "      <td>7.488</td>\n",
       "      <td>1.396</td>\n",
       "    </tr>\n",
       "  </tbody>\n",
       "</table>\n",
       "</div>"
      ],
      "text/plain": [
       "   Happiness Rank 2019      Country  Happiness Score 2019  GDP per Capita 2019\n",
       "0                    1      Finland                 7.769                1.340\n",
       "1                    2      Denmark                 7.600                1.383\n",
       "2                    3       Norway                 7.554                1.488\n",
       "3                    4      Iceland                 7.494                1.380\n",
       "4                    5  Netherlands                 7.488                1.396"
      ]
     },
     "execution_count": 74,
     "metadata": {},
     "output_type": "execute_result"
    }
   ],
   "source": [
    "df2019.head()"
   ]
  },
  {
   "cell_type": "code",
   "execution_count": 75,
   "id": "621c6247",
   "metadata": {},
   "outputs": [],
   "source": [
    "df2021.drop(columns=[\"Regional indicator 2021\", \"Standard error of ladder score 2021\", \"upperwhisker 2021\", \"lowerwhisker 2021\",\"Social support 2021\",\"Healthy life expectancy 2021\", \"Freedom to make life choices 2021\", \"Generosity 2021\", \"Perceptions of corruption 2021\", \"Ladder score in Dystopia 2021\", \"Explained by: Social support 2021\", \"Explained by: Healthy life expectancy 2021\", \"Explained by: Perceptions of corruption 2021\", \"Dystopia + residual 2021\" ], axis=1, inplace=True)"
   ]
  },
  {
   "cell_type": "code",
   "execution_count": 76,
   "id": "14ec197a",
   "metadata": {},
   "outputs": [],
   "source": [
    "df2021.drop(columns=[\"Explained by: Generosity 2021\", \"Explained by: Freedom to make life choices 2021\",\"Logged GDP per capita 2021\" ], axis=1, inplace=True)"
   ]
  },
  {
   "cell_type": "code",
   "execution_count": 77,
   "id": "b7d929ff",
   "metadata": {},
   "outputs": [
    {
     "data": {
      "text/html": [
       "<div>\n",
       "<style scoped>\n",
       "    .dataframe tbody tr th:only-of-type {\n",
       "        vertical-align: middle;\n",
       "    }\n",
       "\n",
       "    .dataframe tbody tr th {\n",
       "        vertical-align: top;\n",
       "    }\n",
       "\n",
       "    .dataframe thead th {\n",
       "        text-align: right;\n",
       "    }\n",
       "</style>\n",
       "<table border=\"1\" class=\"dataframe\">\n",
       "  <thead>\n",
       "    <tr style=\"text-align: right;\">\n",
       "      <th></th>\n",
       "      <th>Country</th>\n",
       "      <th>Happiness Score 2021</th>\n",
       "      <th>GDP per Capita 2021</th>\n",
       "    </tr>\n",
       "  </thead>\n",
       "  <tbody>\n",
       "    <tr>\n",
       "      <th>47</th>\n",
       "      <td>Serbia</td>\n",
       "      <td>6.078</td>\n",
       "      <td>1.101</td>\n",
       "    </tr>\n",
       "  </tbody>\n",
       "</table>\n",
       "</div>"
      ],
      "text/plain": [
       "   Country  Happiness Score 2021  GDP per Capita 2021\n",
       "47  Serbia                 6.078                1.101"
      ]
     },
     "execution_count": 77,
     "metadata": {},
     "output_type": "execute_result"
    }
   ],
   "source": [
    "df2021.sample()"
   ]
  },
  {
   "cell_type": "code",
   "execution_count": 78,
   "id": "fa7c84f8",
   "metadata": {},
   "outputs": [],
   "source": [
    "df2021['Happiness Rank 2021'] = df2021['Happiness Score 2021'].rank(method='dense', ascending=False).astype(int)"
   ]
  },
  {
   "cell_type": "code",
   "execution_count": 79,
   "id": "19428f3f",
   "metadata": {},
   "outputs": [
    {
     "data": {
      "text/html": [
       "<div>\n",
       "<style scoped>\n",
       "    .dataframe tbody tr th:only-of-type {\n",
       "        vertical-align: middle;\n",
       "    }\n",
       "\n",
       "    .dataframe tbody tr th {\n",
       "        vertical-align: top;\n",
       "    }\n",
       "\n",
       "    .dataframe thead th {\n",
       "        text-align: right;\n",
       "    }\n",
       "</style>\n",
       "<table border=\"1\" class=\"dataframe\">\n",
       "  <thead>\n",
       "    <tr style=\"text-align: right;\">\n",
       "      <th></th>\n",
       "      <th>Country</th>\n",
       "      <th>Happiness Score 2021</th>\n",
       "      <th>GDP per Capita 2021</th>\n",
       "      <th>Happiness Rank 2021</th>\n",
       "    </tr>\n",
       "  </thead>\n",
       "  <tbody>\n",
       "    <tr>\n",
       "      <th>0</th>\n",
       "      <td>Finland</td>\n",
       "      <td>7.842</td>\n",
       "      <td>1.446</td>\n",
       "      <td>1</td>\n",
       "    </tr>\n",
       "    <tr>\n",
       "      <th>1</th>\n",
       "      <td>Denmark</td>\n",
       "      <td>7.620</td>\n",
       "      <td>1.502</td>\n",
       "      <td>2</td>\n",
       "    </tr>\n",
       "    <tr>\n",
       "      <th>2</th>\n",
       "      <td>Switzerland</td>\n",
       "      <td>7.571</td>\n",
       "      <td>1.566</td>\n",
       "      <td>3</td>\n",
       "    </tr>\n",
       "    <tr>\n",
       "      <th>3</th>\n",
       "      <td>Iceland</td>\n",
       "      <td>7.554</td>\n",
       "      <td>1.482</td>\n",
       "      <td>4</td>\n",
       "    </tr>\n",
       "    <tr>\n",
       "      <th>4</th>\n",
       "      <td>Netherlands</td>\n",
       "      <td>7.464</td>\n",
       "      <td>1.501</td>\n",
       "      <td>5</td>\n",
       "    </tr>\n",
       "  </tbody>\n",
       "</table>\n",
       "</div>"
      ],
      "text/plain": [
       "       Country  Happiness Score 2021  GDP per Capita 2021  Happiness Rank 2021\n",
       "0      Finland                 7.842                1.446                    1\n",
       "1      Denmark                 7.620                1.502                    2\n",
       "2  Switzerland                 7.571                1.566                    3\n",
       "3      Iceland                 7.554                1.482                    4\n",
       "4  Netherlands                 7.464                1.501                    5"
      ]
     },
     "execution_count": 79,
     "metadata": {},
     "output_type": "execute_result"
    }
   ],
   "source": [
    "df2021.head()"
   ]
  },
  {
   "cell_type": "code",
   "execution_count": null,
   "id": "35913800",
   "metadata": {},
   "outputs": [],
   "source": []
  },
  {
   "cell_type": "code",
   "execution_count": 80,
   "id": "a89c54a1",
   "metadata": {},
   "outputs": [],
   "source": [
    "merged_df = pd.merge(df, df2017, on='Country', how='outer')"
   ]
  },
  {
   "cell_type": "code",
   "execution_count": 81,
   "id": "0b054672",
   "metadata": {},
   "outputs": [],
   "source": [
    "merged_df2 = pd.merge(merged_df, df2019, on='Country', how='outer')"
   ]
  },
  {
   "cell_type": "code",
   "execution_count": 82,
   "id": "93c1d9e7",
   "metadata": {},
   "outputs": [],
   "source": [
    "merged_df3 = pd.merge(merged_df2, df2021, on='Country', how='outer')"
   ]
  },
  {
   "cell_type": "code",
   "execution_count": 83,
   "id": "ed6170d2",
   "metadata": {},
   "outputs": [
    {
     "data": {
      "text/html": [
       "<div>\n",
       "<style scoped>\n",
       "    .dataframe tbody tr th:only-of-type {\n",
       "        vertical-align: middle;\n",
       "    }\n",
       "\n",
       "    .dataframe tbody tr th {\n",
       "        vertical-align: top;\n",
       "    }\n",
       "\n",
       "    .dataframe thead th {\n",
       "        text-align: right;\n",
       "    }\n",
       "</style>\n",
       "<table border=\"1\" class=\"dataframe\">\n",
       "  <thead>\n",
       "    <tr style=\"text-align: right;\">\n",
       "      <th></th>\n",
       "      <th>Country</th>\n",
       "      <th>Happiness Rank 2015</th>\n",
       "      <th>Happiness Score 2015</th>\n",
       "      <th>GDP per Capita 2015</th>\n",
       "      <th>Average yearly temperature</th>\n",
       "      <th>Happiness Rank 2017</th>\n",
       "      <th>Happiness Score 2017</th>\n",
       "      <th>GDP per Capita 2017</th>\n",
       "      <th>Happiness Rank 2019</th>\n",
       "      <th>Happiness Score 2019</th>\n",
       "      <th>GDP per Capita 2019</th>\n",
       "      <th>Happiness Score 2021</th>\n",
       "      <th>GDP per Capita 2021</th>\n",
       "      <th>Happiness Rank 2021</th>\n",
       "    </tr>\n",
       "  </thead>\n",
       "  <tbody>\n",
       "    <tr>\n",
       "      <th>0</th>\n",
       "      <td>Switzerland</td>\n",
       "      <td>1.0</td>\n",
       "      <td>7.587</td>\n",
       "      <td>1.39651</td>\n",
       "      <td>5.10</td>\n",
       "      <td>4.0</td>\n",
       "      <td>7.494</td>\n",
       "      <td>1.564980</td>\n",
       "      <td>6.0</td>\n",
       "      <td>7.480</td>\n",
       "      <td>1.452</td>\n",
       "      <td>7.571</td>\n",
       "      <td>1.566</td>\n",
       "      <td>3.0</td>\n",
       "    </tr>\n",
       "    <tr>\n",
       "      <th>1</th>\n",
       "      <td>Iceland</td>\n",
       "      <td>2.0</td>\n",
       "      <td>7.561</td>\n",
       "      <td>1.30232</td>\n",
       "      <td>-0.70</td>\n",
       "      <td>3.0</td>\n",
       "      <td>7.504</td>\n",
       "      <td>1.480633</td>\n",
       "      <td>4.0</td>\n",
       "      <td>7.494</td>\n",
       "      <td>1.380</td>\n",
       "      <td>7.554</td>\n",
       "      <td>1.482</td>\n",
       "      <td>4.0</td>\n",
       "    </tr>\n",
       "    <tr>\n",
       "      <th>2</th>\n",
       "      <td>Denmark</td>\n",
       "      <td>3.0</td>\n",
       "      <td>7.527</td>\n",
       "      <td>1.32548</td>\n",
       "      <td>-3.70</td>\n",
       "      <td>2.0</td>\n",
       "      <td>7.522</td>\n",
       "      <td>1.482383</td>\n",
       "      <td>2.0</td>\n",
       "      <td>7.600</td>\n",
       "      <td>1.383</td>\n",
       "      <td>7.620</td>\n",
       "      <td>1.502</td>\n",
       "      <td>2.0</td>\n",
       "    </tr>\n",
       "    <tr>\n",
       "      <th>3</th>\n",
       "      <td>Norway</td>\n",
       "      <td>4.0</td>\n",
       "      <td>7.522</td>\n",
       "      <td>1.45900</td>\n",
       "      <td>1.50</td>\n",
       "      <td>1.0</td>\n",
       "      <td>7.537</td>\n",
       "      <td>1.616463</td>\n",
       "      <td>3.0</td>\n",
       "      <td>7.554</td>\n",
       "      <td>1.488</td>\n",
       "      <td>7.392</td>\n",
       "      <td>1.543</td>\n",
       "      <td>6.0</td>\n",
       "    </tr>\n",
       "    <tr>\n",
       "      <th>4</th>\n",
       "      <td>Canada</td>\n",
       "      <td>5.0</td>\n",
       "      <td>7.427</td>\n",
       "      <td>1.32629</td>\n",
       "      <td>-5.10</td>\n",
       "      <td>7.0</td>\n",
       "      <td>7.316</td>\n",
       "      <td>1.479204</td>\n",
       "      <td>9.0</td>\n",
       "      <td>7.278</td>\n",
       "      <td>1.365</td>\n",
       "      <td>7.103</td>\n",
       "      <td>1.447</td>\n",
       "      <td>14.0</td>\n",
       "    </tr>\n",
       "    <tr>\n",
       "      <th>...</th>\n",
       "      <td>...</td>\n",
       "      <td>...</td>\n",
       "      <td>...</td>\n",
       "      <td>...</td>\n",
       "      <td>...</td>\n",
       "      <td>...</td>\n",
       "      <td>...</td>\n",
       "      <td>...</td>\n",
       "      <td>...</td>\n",
       "      <td>...</td>\n",
       "      <td>...</td>\n",
       "      <td>...</td>\n",
       "      <td>...</td>\n",
       "      <td>...</td>\n",
       "    </tr>\n",
       "    <tr>\n",
       "      <th>192</th>\n",
       "      <td>San Marino</td>\n",
       "      <td>NaN</td>\n",
       "      <td>NaN</td>\n",
       "      <td>NaN</td>\n",
       "      <td>11.85</td>\n",
       "      <td>NaN</td>\n",
       "      <td>NaN</td>\n",
       "      <td>NaN</td>\n",
       "      <td>NaN</td>\n",
       "      <td>NaN</td>\n",
       "      <td>NaN</td>\n",
       "      <td>NaN</td>\n",
       "      <td>NaN</td>\n",
       "      <td>NaN</td>\n",
       "    </tr>\n",
       "    <tr>\n",
       "      <th>193</th>\n",
       "      <td>Andorra</td>\n",
       "      <td>NaN</td>\n",
       "      <td>NaN</td>\n",
       "      <td>NaN</td>\n",
       "      <td>7.60</td>\n",
       "      <td>NaN</td>\n",
       "      <td>NaN</td>\n",
       "      <td>NaN</td>\n",
       "      <td>NaN</td>\n",
       "      <td>NaN</td>\n",
       "      <td>NaN</td>\n",
       "      <td>NaN</td>\n",
       "      <td>NaN</td>\n",
       "      <td>NaN</td>\n",
       "    </tr>\n",
       "    <tr>\n",
       "      <th>194</th>\n",
       "      <td>Liechtenstein</td>\n",
       "      <td>NaN</td>\n",
       "      <td>NaN</td>\n",
       "      <td>NaN</td>\n",
       "      <td>5.80</td>\n",
       "      <td>NaN</td>\n",
       "      <td>NaN</td>\n",
       "      <td>NaN</td>\n",
       "      <td>NaN</td>\n",
       "      <td>NaN</td>\n",
       "      <td>NaN</td>\n",
       "      <td>NaN</td>\n",
       "      <td>NaN</td>\n",
       "      <td>NaN</td>\n",
       "    </tr>\n",
       "    <tr>\n",
       "      <th>195</th>\n",
       "      <td>North Korea</td>\n",
       "      <td>NaN</td>\n",
       "      <td>NaN</td>\n",
       "      <td>NaN</td>\n",
       "      <td>5.70</td>\n",
       "      <td>NaN</td>\n",
       "      <td>NaN</td>\n",
       "      <td>NaN</td>\n",
       "      <td>NaN</td>\n",
       "      <td>NaN</td>\n",
       "      <td>NaN</td>\n",
       "      <td>NaN</td>\n",
       "      <td>NaN</td>\n",
       "      <td>NaN</td>\n",
       "    </tr>\n",
       "    <tr>\n",
       "      <th>196</th>\n",
       "      <td>South Sudan</td>\n",
       "      <td>NaN</td>\n",
       "      <td>NaN</td>\n",
       "      <td>NaN</td>\n",
       "      <td>NaN</td>\n",
       "      <td>147.0</td>\n",
       "      <td>3.591</td>\n",
       "      <td>0.397249</td>\n",
       "      <td>NaN</td>\n",
       "      <td>NaN</td>\n",
       "      <td>NaN</td>\n",
       "      <td>NaN</td>\n",
       "      <td>NaN</td>\n",
       "      <td>NaN</td>\n",
       "    </tr>\n",
       "  </tbody>\n",
       "</table>\n",
       "<p>197 rows × 14 columns</p>\n",
       "</div>"
      ],
      "text/plain": [
       "           Country  Happiness Rank 2015  Happiness Score 2015   \n",
       "0      Switzerland                  1.0                 7.587  \\\n",
       "1          Iceland                  2.0                 7.561   \n",
       "2          Denmark                  3.0                 7.527   \n",
       "3           Norway                  4.0                 7.522   \n",
       "4           Canada                  5.0                 7.427   \n",
       "..             ...                  ...                   ...   \n",
       "192     San Marino                  NaN                   NaN   \n",
       "193        Andorra                  NaN                   NaN   \n",
       "194  Liechtenstein                  NaN                   NaN   \n",
       "195    North Korea                  NaN                   NaN   \n",
       "196    South Sudan                  NaN                   NaN   \n",
       "\n",
       "     GDP per Capita 2015  Average yearly temperature  Happiness Rank 2017   \n",
       "0                1.39651                        5.10                  4.0  \\\n",
       "1                1.30232                       -0.70                  3.0   \n",
       "2                1.32548                       -3.70                  2.0   \n",
       "3                1.45900                        1.50                  1.0   \n",
       "4                1.32629                       -5.10                  7.0   \n",
       "..                   ...                         ...                  ...   \n",
       "192                  NaN                       11.85                  NaN   \n",
       "193                  NaN                        7.60                  NaN   \n",
       "194                  NaN                        5.80                  NaN   \n",
       "195                  NaN                        5.70                  NaN   \n",
       "196                  NaN                         NaN                147.0   \n",
       "\n",
       "     Happiness Score 2017  GDP per Capita 2017  Happiness Rank 2019   \n",
       "0                   7.494             1.564980                  6.0  \\\n",
       "1                   7.504             1.480633                  4.0   \n",
       "2                   7.522             1.482383                  2.0   \n",
       "3                   7.537             1.616463                  3.0   \n",
       "4                   7.316             1.479204                  9.0   \n",
       "..                    ...                  ...                  ...   \n",
       "192                   NaN                  NaN                  NaN   \n",
       "193                   NaN                  NaN                  NaN   \n",
       "194                   NaN                  NaN                  NaN   \n",
       "195                   NaN                  NaN                  NaN   \n",
       "196                 3.591             0.397249                  NaN   \n",
       "\n",
       "     Happiness Score 2019  GDP per Capita 2019  Happiness Score 2021   \n",
       "0                   7.480                1.452                 7.571  \\\n",
       "1                   7.494                1.380                 7.554   \n",
       "2                   7.600                1.383                 7.620   \n",
       "3                   7.554                1.488                 7.392   \n",
       "4                   7.278                1.365                 7.103   \n",
       "..                    ...                  ...                   ...   \n",
       "192                   NaN                  NaN                   NaN   \n",
       "193                   NaN                  NaN                   NaN   \n",
       "194                   NaN                  NaN                   NaN   \n",
       "195                   NaN                  NaN                   NaN   \n",
       "196                   NaN                  NaN                   NaN   \n",
       "\n",
       "     GDP per Capita 2021  Happiness Rank 2021  \n",
       "0                  1.566                  3.0  \n",
       "1                  1.482                  4.0  \n",
       "2                  1.502                  2.0  \n",
       "3                  1.543                  6.0  \n",
       "4                  1.447                 14.0  \n",
       "..                   ...                  ...  \n",
       "192                  NaN                  NaN  \n",
       "193                  NaN                  NaN  \n",
       "194                  NaN                  NaN  \n",
       "195                  NaN                  NaN  \n",
       "196                  NaN                  NaN  \n",
       "\n",
       "[197 rows x 14 columns]"
      ]
     },
     "execution_count": 83,
     "metadata": {},
     "output_type": "execute_result"
    }
   ],
   "source": [
    "df=merged_df3\n",
    "df"
   ]
  },
  {
   "cell_type": "code",
   "execution_count": null,
   "id": "4ed924ea",
   "metadata": {},
   "outputs": [],
   "source": []
  },
  {
   "cell_type": "code",
   "execution_count": 84,
   "id": "bd0d7a80",
   "metadata": {},
   "outputs": [],
   "source": [
    "df_rank=df[[\"Country\", \"Happiness Rank 2015\", \"Happiness Rank 2017\", \"Happiness Rank 2019\",\"Happiness Rank 2021\"]]"
   ]
  },
  {
   "cell_type": "code",
   "execution_count": 85,
   "id": "e9303a8b",
   "metadata": {},
   "outputs": [
    {
     "data": {
      "text/html": [
       "<div>\n",
       "<style scoped>\n",
       "    .dataframe tbody tr th:only-of-type {\n",
       "        vertical-align: middle;\n",
       "    }\n",
       "\n",
       "    .dataframe tbody tr th {\n",
       "        vertical-align: top;\n",
       "    }\n",
       "\n",
       "    .dataframe thead th {\n",
       "        text-align: right;\n",
       "    }\n",
       "</style>\n",
       "<table border=\"1\" class=\"dataframe\">\n",
       "  <thead>\n",
       "    <tr style=\"text-align: right;\">\n",
       "      <th></th>\n",
       "      <th>Country</th>\n",
       "      <th>Happiness Score 2015</th>\n",
       "      <th>Happiness Score 2017</th>\n",
       "      <th>Happiness Score 2019</th>\n",
       "      <th>Happiness Score 2021</th>\n",
       "    </tr>\n",
       "  </thead>\n",
       "  <tbody>\n",
       "    <tr>\n",
       "      <th>122</th>\n",
       "      <td>Sierra Leone</td>\n",
       "      <td>4.507</td>\n",
       "      <td>4.709</td>\n",
       "      <td>4.374</td>\n",
       "      <td>3.849</td>\n",
       "    </tr>\n",
       "  </tbody>\n",
       "</table>\n",
       "</div>"
      ],
      "text/plain": [
       "          Country  Happiness Score 2015  Happiness Score 2017   \n",
       "122  Sierra Leone                 4.507                 4.709  \\\n",
       "\n",
       "     Happiness Score 2019  Happiness Score 2021  \n",
       "122                 4.374                 3.849  "
      ]
     },
     "execution_count": 85,
     "metadata": {},
     "output_type": "execute_result"
    }
   ],
   "source": [
    "df_score=df[['Country', 'Happiness Score 2015', 'Happiness Score 2017', 'Happiness Score 2019', 'Happiness Score 2021']]\n",
    "df_score.sample()"
   ]
  },
  {
   "cell_type": "code",
   "execution_count": 86,
   "id": "e1e8df9a",
   "metadata": {},
   "outputs": [],
   "source": [
    "df_mean = df_score.loc[:, ['Happiness Score 2015', 'Happiness Score 2017', 'Happiness Score 2019', 'Happiness Score 2021']].mean(axis=1).round(2)"
   ]
  },
  {
   "cell_type": "code",
   "execution_count": 87,
   "id": "41a9fb3c",
   "metadata": {},
   "outputs": [
    {
     "name": "stderr",
     "output_type": "stream",
     "text": [
      "C:\\Users\\pagob\\AppData\\Local\\Temp\\ipykernel_5428\\522279541.py:1: SettingWithCopyWarning: \n",
      "A value is trying to be set on a copy of a slice from a DataFrame.\n",
      "Try using .loc[row_indexer,col_indexer] = value instead\n",
      "\n",
      "See the caveats in the documentation: https://pandas.pydata.org/pandas-docs/stable/user_guide/indexing.html#returning-a-view-versus-a-copy\n",
      "  df_score[\"Mean Score\"]= df_mean\n"
     ]
    }
   ],
   "source": [
    "df_score[\"Mean Score\"]= df_mean"
   ]
  },
  {
   "cell_type": "code",
   "execution_count": 88,
   "id": "4fba6fdc",
   "metadata": {},
   "outputs": [],
   "source": [
    "df = df.dropna(subset=[\"Happiness Score 2015\",\n",
    "                       \"Happiness Score 2017\",\"Happiness Score 2019\", \n",
    "                       \"Happiness Score 2021\"], how=\"all\")"
   ]
  },
  {
   "cell_type": "code",
   "execution_count": 89,
   "id": "54bd7cfb",
   "metadata": {},
   "outputs": [],
   "source": [
    "eliminated_rows=['North Cyprus','Oman', 'Suriname', 'Belize', 'South Sudan', 'Maldives', 'Djibouti' ]\n",
    "for i in eliminated_rows:\n",
    "    df = df.drop(df.loc[df['Country'] == i].index)\n",
    "    "
   ]
  },
  {
   "cell_type": "code",
   "execution_count": 90,
   "id": "4dd80050",
   "metadata": {},
   "outputs": [],
   "source": [
    "df.loc[df['Country'] == 'Taiwan', 'Average yearly temperature'] = 27.0\n",
    "df.loc[df['Country'] == 'Kosovo', 'Average yearly temperature'] = 15.0\n",
    "df.loc[df['Country'] == 'Palestinian Territories', 'Average yearly temperature'] = 20\n"
   ]
  },
  {
   "cell_type": "code",
   "execution_count": 91,
   "id": "c3e9bc39",
   "metadata": {},
   "outputs": [],
   "source": [
    "df['Mean Happiness Score'] = df[['Happiness Score 2015', 'Happiness Score 2017', 'Happiness Score 2019', 'Happiness Score 2021']].mean(axis=1).round(2)\n"
   ]
  },
  {
   "cell_type": "code",
   "execution_count": 92,
   "id": "9588764c",
   "metadata": {},
   "outputs": [],
   "source": [
    "df['Mean GDP per Capita'] = df[['GDP per Capita 2015', 'GDP per Capita 2017', 'GDP per Capita 2019', 'GDP per Capita 2021']].mean(axis=1).round(2)"
   ]
  },
  {
   "cell_type": "code",
   "execution_count": 93,
   "id": "d176dcbc",
   "metadata": {
    "scrolled": true
   },
   "outputs": [
    {
     "data": {
      "text/html": [
       "<div>\n",
       "<style scoped>\n",
       "    .dataframe tbody tr th:only-of-type {\n",
       "        vertical-align: middle;\n",
       "    }\n",
       "\n",
       "    .dataframe tbody tr th {\n",
       "        vertical-align: top;\n",
       "    }\n",
       "\n",
       "    .dataframe thead th {\n",
       "        text-align: right;\n",
       "    }\n",
       "</style>\n",
       "<table border=\"1\" class=\"dataframe\">\n",
       "  <thead>\n",
       "    <tr style=\"text-align: right;\">\n",
       "      <th></th>\n",
       "      <th>Country</th>\n",
       "      <th>Happiness Rank 2015</th>\n",
       "      <th>Happiness Score 2015</th>\n",
       "      <th>GDP per Capita 2015</th>\n",
       "      <th>Average yearly temperature</th>\n",
       "      <th>Happiness Rank 2017</th>\n",
       "      <th>Happiness Score 2017</th>\n",
       "      <th>GDP per Capita 2017</th>\n",
       "      <th>Happiness Rank 2019</th>\n",
       "      <th>Happiness Score 2019</th>\n",
       "      <th>GDP per Capita 2019</th>\n",
       "      <th>Happiness Score 2021</th>\n",
       "      <th>GDP per Capita 2021</th>\n",
       "      <th>Happiness Rank 2021</th>\n",
       "      <th>Mean Happiness Score</th>\n",
       "      <th>Mean GDP per Capita</th>\n",
       "    </tr>\n",
       "  </thead>\n",
       "  <tbody>\n",
       "    <tr>\n",
       "      <th>27</th>\n",
       "      <td>Qatar</td>\n",
       "      <td>28.0</td>\n",
       "      <td>6.611</td>\n",
       "      <td>1.69042</td>\n",
       "      <td>27.15</td>\n",
       "      <td>35.0</td>\n",
       "      <td>6.375</td>\n",
       "      <td>1.870766</td>\n",
       "      <td>29.0</td>\n",
       "      <td>6.374</td>\n",
       "      <td>1.684</td>\n",
       "      <td>NaN</td>\n",
       "      <td>NaN</td>\n",
       "      <td>NaN</td>\n",
       "      <td>6.45</td>\n",
       "      <td>1.75</td>\n",
       "    </tr>\n",
       "    <tr>\n",
       "      <th>40</th>\n",
       "      <td>Trinidad and Tobago</td>\n",
       "      <td>41.0</td>\n",
       "      <td>6.168</td>\n",
       "      <td>1.21183</td>\n",
       "      <td>25.75</td>\n",
       "      <td>38.0</td>\n",
       "      <td>6.168</td>\n",
       "      <td>1.361356</td>\n",
       "      <td>39.0</td>\n",
       "      <td>6.192</td>\n",
       "      <td>1.231</td>\n",
       "      <td>NaN</td>\n",
       "      <td>NaN</td>\n",
       "      <td>NaN</td>\n",
       "      <td>6.18</td>\n",
       "      <td>1.27</td>\n",
       "    </tr>\n",
       "    <tr>\n",
       "      <th>78</th>\n",
       "      <td>Bhutan</td>\n",
       "      <td>79.0</td>\n",
       "      <td>5.253</td>\n",
       "      <td>0.77042</td>\n",
       "      <td>7.40</td>\n",
       "      <td>97.0</td>\n",
       "      <td>5.011</td>\n",
       "      <td>0.885416</td>\n",
       "      <td>95.0</td>\n",
       "      <td>5.082</td>\n",
       "      <td>0.813</td>\n",
       "      <td>NaN</td>\n",
       "      <td>NaN</td>\n",
       "      <td>NaN</td>\n",
       "      <td>5.12</td>\n",
       "      <td>0.82</td>\n",
       "    </tr>\n",
       "    <tr>\n",
       "      <th>90</th>\n",
       "      <td>Somalia</td>\n",
       "      <td>91.0</td>\n",
       "      <td>5.057</td>\n",
       "      <td>0.18847</td>\n",
       "      <td>27.05</td>\n",
       "      <td>93.0</td>\n",
       "      <td>5.151</td>\n",
       "      <td>0.022643</td>\n",
       "      <td>112.0</td>\n",
       "      <td>4.668</td>\n",
       "      <td>0.000</td>\n",
       "      <td>NaN</td>\n",
       "      <td>NaN</td>\n",
       "      <td>NaN</td>\n",
       "      <td>4.96</td>\n",
       "      <td>0.07</td>\n",
       "    </tr>\n",
       "    <tr>\n",
       "      <th>98</th>\n",
       "      <td>Laos</td>\n",
       "      <td>99.0</td>\n",
       "      <td>4.876</td>\n",
       "      <td>0.59066</td>\n",
       "      <td>22.80</td>\n",
       "      <td>NaN</td>\n",
       "      <td>NaN</td>\n",
       "      <td>NaN</td>\n",
       "      <td>105.0</td>\n",
       "      <td>4.796</td>\n",
       "      <td>0.764</td>\n",
       "      <td>5.030</td>\n",
       "      <td>0.808</td>\n",
       "      <td>98.0</td>\n",
       "      <td>4.90</td>\n",
       "      <td>0.72</td>\n",
       "    </tr>\n",
       "    <tr>\n",
       "      <th>100</th>\n",
       "      <td>Swaziland</td>\n",
       "      <td>101.0</td>\n",
       "      <td>4.867</td>\n",
       "      <td>0.71206</td>\n",
       "      <td>21.40</td>\n",
       "      <td>NaN</td>\n",
       "      <td>NaN</td>\n",
       "      <td>NaN</td>\n",
       "      <td>135.0</td>\n",
       "      <td>4.212</td>\n",
       "      <td>0.811</td>\n",
       "      <td>4.308</td>\n",
       "      <td>0.849</td>\n",
       "      <td>128.0</td>\n",
       "      <td>4.46</td>\n",
       "      <td>0.79</td>\n",
       "    </tr>\n",
       "    <tr>\n",
       "      <th>117</th>\n",
       "      <td>Sudan</td>\n",
       "      <td>118.0</td>\n",
       "      <td>4.550</td>\n",
       "      <td>0.52107</td>\n",
       "      <td>26.90</td>\n",
       "      <td>130.0</td>\n",
       "      <td>4.139</td>\n",
       "      <td>0.659517</td>\n",
       "      <td>156.0</td>\n",
       "      <td>2.853</td>\n",
       "      <td>0.306</td>\n",
       "      <td>NaN</td>\n",
       "      <td>NaN</td>\n",
       "      <td>NaN</td>\n",
       "      <td>3.85</td>\n",
       "      <td>0.50</td>\n",
       "    </tr>\n",
       "    <tr>\n",
       "      <th>119</th>\n",
       "      <td>Democratic Republic of the Congo</td>\n",
       "      <td>120.0</td>\n",
       "      <td>4.517</td>\n",
       "      <td>0.00000</td>\n",
       "      <td>24.00</td>\n",
       "      <td>126.0</td>\n",
       "      <td>4.280</td>\n",
       "      <td>0.092102</td>\n",
       "      <td>127.0</td>\n",
       "      <td>4.418</td>\n",
       "      <td>0.094</td>\n",
       "      <td>NaN</td>\n",
       "      <td>NaN</td>\n",
       "      <td>NaN</td>\n",
       "      <td>4.41</td>\n",
       "      <td>0.06</td>\n",
       "    </tr>\n",
       "    <tr>\n",
       "      <th>136</th>\n",
       "      <td>Angola</td>\n",
       "      <td>137.0</td>\n",
       "      <td>4.033</td>\n",
       "      <td>0.75778</td>\n",
       "      <td>21.55</td>\n",
       "      <td>140.0</td>\n",
       "      <td>3.795</td>\n",
       "      <td>0.858428</td>\n",
       "      <td>NaN</td>\n",
       "      <td>NaN</td>\n",
       "      <td>NaN</td>\n",
       "      <td>NaN</td>\n",
       "      <td>NaN</td>\n",
       "      <td>NaN</td>\n",
       "      <td>3.91</td>\n",
       "      <td>0.81</td>\n",
       "    </tr>\n",
       "    <tr>\n",
       "      <th>139</th>\n",
       "      <td>Comoros</td>\n",
       "      <td>140.0</td>\n",
       "      <td>3.956</td>\n",
       "      <td>0.23906</td>\n",
       "      <td>25.30</td>\n",
       "      <td>NaN</td>\n",
       "      <td>NaN</td>\n",
       "      <td>NaN</td>\n",
       "      <td>142.0</td>\n",
       "      <td>3.973</td>\n",
       "      <td>0.274</td>\n",
       "      <td>4.289</td>\n",
       "      <td>0.488</td>\n",
       "      <td>129.0</td>\n",
       "      <td>4.07</td>\n",
       "      <td>0.33</td>\n",
       "    </tr>\n",
       "    <tr>\n",
       "      <th>147</th>\n",
       "      <td>Central African Republic</td>\n",
       "      <td>148.0</td>\n",
       "      <td>3.678</td>\n",
       "      <td>0.07850</td>\n",
       "      <td>24.90</td>\n",
       "      <td>155.0</td>\n",
       "      <td>2.693</td>\n",
       "      <td>0.000000</td>\n",
       "      <td>155.0</td>\n",
       "      <td>3.083</td>\n",
       "      <td>0.026</td>\n",
       "      <td>NaN</td>\n",
       "      <td>NaN</td>\n",
       "      <td>NaN</td>\n",
       "      <td>3.15</td>\n",
       "      <td>0.03</td>\n",
       "    </tr>\n",
       "    <tr>\n",
       "      <th>155</th>\n",
       "      <td>Syria</td>\n",
       "      <td>156.0</td>\n",
       "      <td>3.006</td>\n",
       "      <td>0.66320</td>\n",
       "      <td>17.75</td>\n",
       "      <td>152.0</td>\n",
       "      <td>3.462</td>\n",
       "      <td>0.777153</td>\n",
       "      <td>149.0</td>\n",
       "      <td>3.462</td>\n",
       "      <td>0.619</td>\n",
       "      <td>NaN</td>\n",
       "      <td>NaN</td>\n",
       "      <td>NaN</td>\n",
       "      <td>3.31</td>\n",
       "      <td>0.69</td>\n",
       "    </tr>\n",
       "    <tr>\n",
       "      <th>162</th>\n",
       "      <td>Gambia</td>\n",
       "      <td>NaN</td>\n",
       "      <td>NaN</td>\n",
       "      <td>NaN</td>\n",
       "      <td>27.50</td>\n",
       "      <td>NaN</td>\n",
       "      <td>NaN</td>\n",
       "      <td>NaN</td>\n",
       "      <td>120.0</td>\n",
       "      <td>4.516</td>\n",
       "      <td>0.308</td>\n",
       "      <td>5.051</td>\n",
       "      <td>0.367</td>\n",
       "      <td>96.0</td>\n",
       "      <td>4.78</td>\n",
       "      <td>0.34</td>\n",
       "    </tr>\n",
       "    <tr>\n",
       "      <th>190</th>\n",
       "      <td>Namibia</td>\n",
       "      <td>NaN</td>\n",
       "      <td>NaN</td>\n",
       "      <td>NaN</td>\n",
       "      <td>19.95</td>\n",
       "      <td>111.0</td>\n",
       "      <td>4.574</td>\n",
       "      <td>0.964434</td>\n",
       "      <td>113.0</td>\n",
       "      <td>4.639</td>\n",
       "      <td>0.879</td>\n",
       "      <td>4.574</td>\n",
       "      <td>0.882</td>\n",
       "      <td>122.0</td>\n",
       "      <td>4.60</td>\n",
       "      <td>0.91</td>\n",
       "    </tr>\n",
       "  </tbody>\n",
       "</table>\n",
       "</div>"
      ],
      "text/plain": [
       "                              Country  Happiness Rank 2015   \n",
       "27                              Qatar                 28.0  \\\n",
       "40                Trinidad and Tobago                 41.0   \n",
       "78                             Bhutan                 79.0   \n",
       "90                            Somalia                 91.0   \n",
       "98                               Laos                 99.0   \n",
       "100                         Swaziland                101.0   \n",
       "117                             Sudan                118.0   \n",
       "119  Democratic Republic of the Congo                120.0   \n",
       "136                            Angola                137.0   \n",
       "139                           Comoros                140.0   \n",
       "147          Central African Republic                148.0   \n",
       "155                             Syria                156.0   \n",
       "162                            Gambia                  NaN   \n",
       "190                           Namibia                  NaN   \n",
       "\n",
       "     Happiness Score 2015  GDP per Capita 2015  Average yearly temperature   \n",
       "27                  6.611              1.69042                       27.15  \\\n",
       "40                  6.168              1.21183                       25.75   \n",
       "78                  5.253              0.77042                        7.40   \n",
       "90                  5.057              0.18847                       27.05   \n",
       "98                  4.876              0.59066                       22.80   \n",
       "100                 4.867              0.71206                       21.40   \n",
       "117                 4.550              0.52107                       26.90   \n",
       "119                 4.517              0.00000                       24.00   \n",
       "136                 4.033              0.75778                       21.55   \n",
       "139                 3.956              0.23906                       25.30   \n",
       "147                 3.678              0.07850                       24.90   \n",
       "155                 3.006              0.66320                       17.75   \n",
       "162                   NaN                  NaN                       27.50   \n",
       "190                   NaN                  NaN                       19.95   \n",
       "\n",
       "     Happiness Rank 2017  Happiness Score 2017  GDP per Capita 2017   \n",
       "27                  35.0                 6.375             1.870766  \\\n",
       "40                  38.0                 6.168             1.361356   \n",
       "78                  97.0                 5.011             0.885416   \n",
       "90                  93.0                 5.151             0.022643   \n",
       "98                   NaN                   NaN                  NaN   \n",
       "100                  NaN                   NaN                  NaN   \n",
       "117                130.0                 4.139             0.659517   \n",
       "119                126.0                 4.280             0.092102   \n",
       "136                140.0                 3.795             0.858428   \n",
       "139                  NaN                   NaN                  NaN   \n",
       "147                155.0                 2.693             0.000000   \n",
       "155                152.0                 3.462             0.777153   \n",
       "162                  NaN                   NaN                  NaN   \n",
       "190                111.0                 4.574             0.964434   \n",
       "\n",
       "     Happiness Rank 2019  Happiness Score 2019  GDP per Capita 2019   \n",
       "27                  29.0                 6.374                1.684  \\\n",
       "40                  39.0                 6.192                1.231   \n",
       "78                  95.0                 5.082                0.813   \n",
       "90                 112.0                 4.668                0.000   \n",
       "98                 105.0                 4.796                0.764   \n",
       "100                135.0                 4.212                0.811   \n",
       "117                156.0                 2.853                0.306   \n",
       "119                127.0                 4.418                0.094   \n",
       "136                  NaN                   NaN                  NaN   \n",
       "139                142.0                 3.973                0.274   \n",
       "147                155.0                 3.083                0.026   \n",
       "155                149.0                 3.462                0.619   \n",
       "162                120.0                 4.516                0.308   \n",
       "190                113.0                 4.639                0.879   \n",
       "\n",
       "     Happiness Score 2021  GDP per Capita 2021  Happiness Rank 2021   \n",
       "27                    NaN                  NaN                  NaN  \\\n",
       "40                    NaN                  NaN                  NaN   \n",
       "78                    NaN                  NaN                  NaN   \n",
       "90                    NaN                  NaN                  NaN   \n",
       "98                  5.030                0.808                 98.0   \n",
       "100                 4.308                0.849                128.0   \n",
       "117                   NaN                  NaN                  NaN   \n",
       "119                   NaN                  NaN                  NaN   \n",
       "136                   NaN                  NaN                  NaN   \n",
       "139                 4.289                0.488                129.0   \n",
       "147                   NaN                  NaN                  NaN   \n",
       "155                   NaN                  NaN                  NaN   \n",
       "162                 5.051                0.367                 96.0   \n",
       "190                 4.574                0.882                122.0   \n",
       "\n",
       "     Mean Happiness Score  Mean GDP per Capita  \n",
       "27                   6.45                 1.75  \n",
       "40                   6.18                 1.27  \n",
       "78                   5.12                 0.82  \n",
       "90                   4.96                 0.07  \n",
       "98                   4.90                 0.72  \n",
       "100                  4.46                 0.79  \n",
       "117                  3.85                 0.50  \n",
       "119                  4.41                 0.06  \n",
       "136                  3.91                 0.81  \n",
       "139                  4.07                 0.33  \n",
       "147                  3.15                 0.03  \n",
       "155                  3.31                 0.69  \n",
       "162                  4.78                 0.34  \n",
       "190                  4.60                 0.91  "
      ]
     },
     "execution_count": 93,
     "metadata": {},
     "output_type": "execute_result"
    }
   ],
   "source": [
    "df[df.isna().any(axis=1)]"
   ]
  },
  {
   "cell_type": "code",
   "execution_count": 94,
   "id": "7a52d623",
   "metadata": {},
   "outputs": [
    {
     "name": "stdout",
     "output_type": "stream",
     "text": [
      "<class 'pandas.core.frame.DataFrame'>\n",
      "Index: 156 entries, 0 to 190\n",
      "Data columns (total 16 columns):\n",
      " #   Column                      Non-Null Count  Dtype  \n",
      "---  ------                      --------------  -----  \n",
      " 0   Country                     156 non-null    object \n",
      " 1   Happiness Rank 2015         154 non-null    float64\n",
      " 2   Happiness Score 2015        154 non-null    float64\n",
      " 3   GDP per Capita 2015         154 non-null    float64\n",
      " 4   Average yearly temperature  156 non-null    float64\n",
      " 5   Happiness Rank 2017         152 non-null    float64\n",
      " 6   Happiness Score 2017        152 non-null    float64\n",
      " 7   GDP per Capita 2017         152 non-null    float64\n",
      " 8   Happiness Rank 2019         155 non-null    float64\n",
      " 9   Happiness Score 2019        155 non-null    float64\n",
      " 10  GDP per Capita 2019         155 non-null    float64\n",
      " 11  Happiness Score 2021        147 non-null    float64\n",
      " 12  GDP per Capita 2021         147 non-null    float64\n",
      " 13  Happiness Rank 2021         147 non-null    float64\n",
      " 14  Mean Happiness Score        156 non-null    float64\n",
      " 15  Mean GDP per Capita         156 non-null    float64\n",
      "dtypes: float64(15), object(1)\n",
      "memory usage: 20.7+ KB\n"
     ]
    }
   ],
   "source": [
    "df.info()"
   ]
  },
  {
   "cell_type": "code",
   "execution_count": 95,
   "id": "6cb50fbf",
   "metadata": {},
   "outputs": [],
   "source": [
    "#df_score['Mean Rank'] = df_score['Mean Score'].rank(method='dense', ascending=False).astype(int)"
   ]
  },
  {
   "cell_type": "code",
   "execution_count": 96,
   "id": "a187cfe6",
   "metadata": {},
   "outputs": [],
   "source": [
    "#df_score = df_score.sort_values(\"Mean Rank\", ascending=True)"
   ]
  },
  {
   "cell_type": "code",
   "execution_count": 97,
   "id": "ca205d1d",
   "metadata": {},
   "outputs": [],
   "source": [
    "#df_score = df_score.set_index(\"Mean Rank\")"
   ]
  },
  {
   "cell_type": "code",
   "execution_count": 98,
   "id": "b91dd91c",
   "metadata": {},
   "outputs": [],
   "source": [
    "#df_mean_score = df_score[[\"Country\", \"Mean score\"]]"
   ]
  },
  {
   "cell_type": "code",
   "execution_count": 99,
   "id": "fc5ee744",
   "metadata": {},
   "outputs": [],
   "source": [
    "#df_mean_score"
   ]
  },
  {
   "cell_type": "code",
   "execution_count": 100,
   "id": "543e3c96",
   "metadata": {},
   "outputs": [],
   "source": [
    "df['Mean Rank'] = df['Mean Happiness Score'].rank(method='dense', ascending=False).astype(int)\n",
    "df= df.sort_values(\"Mean Rank\", ascending=True)"
   ]
  },
  {
   "cell_type": "code",
   "execution_count": 101,
   "id": "da7decb2",
   "metadata": {},
   "outputs": [],
   "source": [
    "df = df.reset_index(drop=True)"
   ]
  },
  {
   "cell_type": "code",
   "execution_count": 102,
   "id": "4b1b958a",
   "metadata": {},
   "outputs": [
    {
     "data": {
      "text/html": [
       "<div>\n",
       "<style scoped>\n",
       "    .dataframe tbody tr th:only-of-type {\n",
       "        vertical-align: middle;\n",
       "    }\n",
       "\n",
       "    .dataframe tbody tr th {\n",
       "        vertical-align: top;\n",
       "    }\n",
       "\n",
       "    .dataframe thead th {\n",
       "        text-align: right;\n",
       "    }\n",
       "</style>\n",
       "<table border=\"1\" class=\"dataframe\">\n",
       "  <thead>\n",
       "    <tr style=\"text-align: right;\">\n",
       "      <th></th>\n",
       "      <th>Country</th>\n",
       "      <th>Mean Rank</th>\n",
       "      <th>Mean Happiness Score</th>\n",
       "      <th>Mean GDP per Capita</th>\n",
       "      <th>Average yearly temperature</th>\n",
       "    </tr>\n",
       "  </thead>\n",
       "  <tbody>\n",
       "    <tr>\n",
       "      <th>0</th>\n",
       "      <td>Finland</td>\n",
       "      <td>1</td>\n",
       "      <td>7.62</td>\n",
       "      <td>1.38</td>\n",
       "      <td>1.55</td>\n",
       "    </tr>\n",
       "    <tr>\n",
       "      <th>1</th>\n",
       "      <td>Denmark</td>\n",
       "      <td>2</td>\n",
       "      <td>7.57</td>\n",
       "      <td>1.42</td>\n",
       "      <td>-3.70</td>\n",
       "    </tr>\n",
       "    <tr>\n",
       "      <th>2</th>\n",
       "      <td>Switzerland</td>\n",
       "      <td>3</td>\n",
       "      <td>7.53</td>\n",
       "      <td>1.49</td>\n",
       "      <td>5.10</td>\n",
       "    </tr>\n",
       "    <tr>\n",
       "      <th>3</th>\n",
       "      <td>Iceland</td>\n",
       "      <td>3</td>\n",
       "      <td>7.53</td>\n",
       "      <td>1.41</td>\n",
       "      <td>-0.70</td>\n",
       "    </tr>\n",
       "    <tr>\n",
       "      <th>4</th>\n",
       "      <td>Norway</td>\n",
       "      <td>4</td>\n",
       "      <td>7.50</td>\n",
       "      <td>1.53</td>\n",
       "      <td>1.50</td>\n",
       "    </tr>\n",
       "  </tbody>\n",
       "</table>\n",
       "</div>"
      ],
      "text/plain": [
       "       Country  Mean Rank  Mean Happiness Score  Mean GDP per Capita   \n",
       "0      Finland          1                  7.62                 1.38  \\\n",
       "1      Denmark          2                  7.57                 1.42   \n",
       "2  Switzerland          3                  7.53                 1.49   \n",
       "3      Iceland          3                  7.53                 1.41   \n",
       "4       Norway          4                  7.50                 1.53   \n",
       "\n",
       "   Average yearly temperature  \n",
       "0                        1.55  \n",
       "1                       -3.70  \n",
       "2                        5.10  \n",
       "3                       -0.70  \n",
       "4                        1.50  "
      ]
     },
     "execution_count": 102,
     "metadata": {},
     "output_type": "execute_result"
    }
   ],
   "source": [
    "df_mean=df[[\"Country\", \"Mean Rank\", \"Mean Happiness Score\", \"Mean GDP per Capita\", \"Average yearly temperature\"]]\n",
    "df_mean.head()"
   ]
  },
  {
   "cell_type": "code",
   "execution_count": 103,
   "id": "bc5e87dc",
   "metadata": {},
   "outputs": [
    {
     "data": {
      "text/html": [
       "<div>\n",
       "<style scoped>\n",
       "    .dataframe tbody tr th:only-of-type {\n",
       "        vertical-align: middle;\n",
       "    }\n",
       "\n",
       "    .dataframe tbody tr th {\n",
       "        vertical-align: top;\n",
       "    }\n",
       "\n",
       "    .dataframe thead th {\n",
       "        text-align: right;\n",
       "    }\n",
       "</style>\n",
       "<table border=\"1\" class=\"dataframe\">\n",
       "  <thead>\n",
       "    <tr style=\"text-align: right;\">\n",
       "      <th></th>\n",
       "      <th>Country</th>\n",
       "      <th>Mean Rank</th>\n",
       "      <th>Mean Happiness Score</th>\n",
       "      <th>Mean GDP per Capita</th>\n",
       "      <th>Average yearly temperature</th>\n",
       "    </tr>\n",
       "  </thead>\n",
       "  <tbody>\n",
       "    <tr>\n",
       "      <th>151</th>\n",
       "      <td>Rwanda</td>\n",
       "      <td>129</td>\n",
       "      <td>3.42</td>\n",
       "      <td>0.33</td>\n",
       "      <td>17.85</td>\n",
       "    </tr>\n",
       "    <tr>\n",
       "      <th>152</th>\n",
       "      <td>Burundi</td>\n",
       "      <td>130</td>\n",
       "      <td>3.34</td>\n",
       "      <td>0.04</td>\n",
       "      <td>19.80</td>\n",
       "    </tr>\n",
       "    <tr>\n",
       "      <th>153</th>\n",
       "      <td>Syria</td>\n",
       "      <td>131</td>\n",
       "      <td>3.31</td>\n",
       "      <td>0.69</td>\n",
       "      <td>17.75</td>\n",
       "    </tr>\n",
       "    <tr>\n",
       "      <th>154</th>\n",
       "      <td>Afghanistan</td>\n",
       "      <td>132</td>\n",
       "      <td>3.27</td>\n",
       "      <td>0.36</td>\n",
       "      <td>12.60</td>\n",
       "    </tr>\n",
       "    <tr>\n",
       "      <th>155</th>\n",
       "      <td>Central African Republic</td>\n",
       "      <td>133</td>\n",
       "      <td>3.15</td>\n",
       "      <td>0.03</td>\n",
       "      <td>24.90</td>\n",
       "    </tr>\n",
       "  </tbody>\n",
       "</table>\n",
       "</div>"
      ],
      "text/plain": [
       "                      Country  Mean Rank  Mean Happiness Score   \n",
       "151                    Rwanda        129                  3.42  \\\n",
       "152                   Burundi        130                  3.34   \n",
       "153                     Syria        131                  3.31   \n",
       "154               Afghanistan        132                  3.27   \n",
       "155  Central African Republic        133                  3.15   \n",
       "\n",
       "     Mean GDP per Capita  Average yearly temperature  \n",
       "151                 0.33                       17.85  \n",
       "152                 0.04                       19.80  \n",
       "153                 0.69                       17.75  \n",
       "154                 0.36                       12.60  \n",
       "155                 0.03                       24.90  "
      ]
     },
     "execution_count": 103,
     "metadata": {},
     "output_type": "execute_result"
    }
   ],
   "source": [
    "df_mean.tail()"
   ]
  },
  {
   "cell_type": "code",
   "execution_count": 104,
   "id": "7927162c",
   "metadata": {},
   "outputs": [
    {
     "data": {
      "text/plain": [
       "array(['Finland', 'Denmark', 'Switzerland', 'Iceland', 'Norway',\n",
       "       'Netherlands', 'Sweden', 'New Zealand', 'Canada', 'Australia',\n",
       "       'Israel', 'Austria', 'Costa Rica', 'Luxembourg', 'Ireland',\n",
       "       'United States', 'Germany', 'United Kingdom', 'Belgium',\n",
       "       'Czech Republic', 'United Arab Emirates', 'Mexico', 'France',\n",
       "       'Brazil', 'Malta', 'Singapore', 'Chile', 'Qatar', 'Taiwan',\n",
       "       'Panama', 'Uruguay', 'Saudi Arabia', 'Spain', 'Guatemala',\n",
       "       'Argentina', 'Colombia', 'Bahrain', 'Thailand',\n",
       "       'Trinidad and Tobago', 'Slovakia', 'Italy', 'Kuwait',\n",
       "       'El Salvador', 'Uzbekistan', 'Slovenia', 'Poland', 'Lithuania',\n",
       "       'Nicaragua', 'Ecuador', 'Japan', 'Kazakhstan', 'South Korea',\n",
       "       'Cyprus', 'Kosovo', 'Bolivia', 'Jamaica', 'Romania', 'Estonia',\n",
       "       'Peru', 'Moldova', 'Mauritius', 'Latvia', 'Russia', 'Paraguay',\n",
       "       'Malaysia', 'Croatia', 'Belarus', 'Serbia', 'Libya', 'Philippines',\n",
       "       'Portugal', 'Hungary', 'Hong Kong', 'Honduras', 'Turkmenistan',\n",
       "       'Venezuela', 'Algeria', 'Montenegro', 'Bosnia and Herzegovina',\n",
       "       'Kyrgyzstan', 'Indonesia', 'Turkey', 'Greece',\n",
       "       'Dominican Republic', 'Pakistan', 'Vietnam', 'China', 'Azerbaijan',\n",
       "       'Mongolia', 'Tajikistan', 'Macedonia', 'Bhutan', 'Nigeria',\n",
       "       'Morocco', 'Jordan', 'Somalia', 'Lebanon', 'Nepal', 'Laos',\n",
       "       'Albania', 'Bulgaria', 'South Africa', 'Cameroon', 'Gambia',\n",
       "       'Ghana', 'Mozambique', 'Bangladesh', 'Palestinian Territories',\n",
       "       'Iran', 'Tunisia', 'Armenia', 'Iraq', 'Republic of the Congo',\n",
       "       'Namibia', 'Senegal', 'Kenya', 'Ivory Coast', 'Ukraine', 'Georgia',\n",
       "       'Gabon', 'Swaziland', 'Zambia', 'Democratic Republic of the Congo',\n",
       "       'Myanmar', 'Niger', 'Cambodia', 'Ethiopia', 'Mauritania',\n",
       "       'Sierra Leone', 'Sri Lanka', 'Egypt', 'Mali', 'Burkina Faso',\n",
       "       'Benin', 'Uganda', 'Liberia', 'India', 'Guinea', 'Chad', 'Comoros',\n",
       "       'Lesotho', 'Angola', 'Madagascar', 'Sudan', 'Haiti', 'Malawi',\n",
       "       'Zimbabwe', 'Botswana', 'Yemen', 'Togo', 'Tanzania', 'Rwanda',\n",
       "       'Burundi', 'Syria', 'Afghanistan', 'Central African Republic'],\n",
       "      dtype=object)"
      ]
     },
     "execution_count": 104,
     "metadata": {},
     "output_type": "execute_result"
    }
   ],
   "source": [
    "df['Country'].values"
   ]
  },
  {
   "cell_type": "code",
   "execution_count": 124,
   "id": "57a74263",
   "metadata": {},
   "outputs": [],
   "source": [
    "import wbdata\n",
    "\n",
    "# Define the indicators we want to retrieve\n",
    "indicators = {\"SP.POP.TOTL\": \"Population\"}\n",
    "\n",
    "# Define the countries we want to retrieve data for\n",
    "countries = ['FI', 'DK', 'CH', 'IS', 'NO', 'NL', 'SE', 'NZ', 'CA', 'AU', 'IL', 'AT', 'CR', 'LU', 'IE', 'US', 'DE', 'GB', \n",
    "             'BE', 'CZ', 'AE', 'MX', 'FR', 'BR', 'MT', 'SG', 'CL', 'QA', 'TW', 'PA', 'UY', 'SA', 'ES', 'GT', 'AR', 'CO', \n",
    "             'BH', 'TH', 'TT', 'SK', 'IT', 'KW', 'SV', 'UZ', 'SI', 'PL', 'LT', 'NI', 'EC', 'JP', 'KZ', 'KR', 'CY', 'XK', \n",
    "             'BO', 'JM', 'RO', 'EE', 'PE', 'MD', 'MU', 'LV', 'RU', 'PY', 'MY', 'HR', 'BY', 'RS', 'LY', 'PH', 'PT', 'HU', \n",
    "             'HK', 'HN', 'TM', 'VE', 'DZ', 'ME', 'BA', 'KG', 'ID', 'TR', 'GR', 'DO', 'PK', 'VN', 'CN', 'AZ', 'MN', 'TJ', \n",
    "             'MK', 'BT', 'NG', 'MA', 'JO', 'SO', 'LB', 'NP', 'LA', 'AL', 'BG', 'ZA', 'CM', 'GM', 'GH', 'MZ', 'BD', 'PS', \n",
    "             'IR', 'TN', 'AM', 'IQ', 'CG', 'NA', 'SN', 'KE', 'CI', 'UA', 'GE', 'GA', 'SZ', 'ZM', 'CD', 'MM', 'NE', 'KH', \n",
    "             'ET', 'MR', 'SL', 'LK', 'EG', 'ML', 'BF', 'BJ', 'UG', 'LR', 'IN', 'GN', 'TD', 'KM', 'LS', 'AO', 'MG', 'SD', \n",
    "             'HT', 'MW', 'ZW', 'BW', 'YE', 'TG', 'TZ', 'RW', 'BI', 'SY', 'AF', 'CF'\n",
    "]\n",
    "\n",
    "# Retrieve the data from the API and store it in a dataframe\n",
    "df_pop = wbdata.get_dataframe(indicators, country=countries)\n",
    "df_pop = df_pop.loc[df_pop.index.get_level_values(\"date\") == \"2019\"]\n",
    "df_pop.reset_index(inplace=True)\n",
    "df_pop=df_pop.drop(columns=['date'])\n",
    "df_pop = df_pop.rename(columns={'country': 'Country'})\n"
   ]
  },
  {
   "cell_type": "code",
   "execution_count": 106,
   "id": "c54b055f",
   "metadata": {},
   "outputs": [],
   "source": [
    "countries_dict={'Czech Republic':'Czechia',\n",
    "                'Slovakia':'Slovak Republic',\n",
    "                'South Korea':'Korea, Rep',\n",
    "                'Russia':'Russian Federation',\n",
    "                'Hong Kong':'Hong Kong SAR, China',\n",
    "                'Venezuela':'Venezuela, RB',\n",
    "                'Kyrgyzstan':'Kyrgyz Republic',\n",
    "                'Turkey':'Turkiye',\n",
    "                'Macedonia':'North Macedonia',\n",
    "                'Laos':'Lao PDR',\n",
    "                'Gambia':'Gambia, The',\n",
    "                'Iran':'Iran, Islamic Rep.',\n",
    "                'Republic of the Congo':'Congo, Rep.',\n",
    "                'Ivory Coast':\"Cote d'Ivoire\" ,\n",
    "                'Swaziland':'Eswatini',\n",
    "                'Democratic Republic of the Congo': 'Congo, Dem. Rep.',\n",
    "                'Egypt':'Egypt',\n",
    "                'Yemen':'Yemen, Rep.',\n",
    "                'Syria':'Syrian Arab Republic',\n",
    "                'Palestinian Territories': 'West Bank and Gaza'\n",
    "}\n",
    "\n",
    "for key, value in countries_dict.items():\n",
    "        mask= df_pop['Country'].str.contains(value, case=False)\n",
    "        df_pop.loc[mask, 'Country'] = key"
   ]
  },
  {
   "cell_type": "code",
   "execution_count": 107,
   "id": "a38784e9",
   "metadata": {},
   "outputs": [],
   "source": [
    "merged_df2 = pd.merge(df, df_pop, on='Country', how='outer')"
   ]
  },
  {
   "cell_type": "code",
   "execution_count": 108,
   "id": "37c6e5a4",
   "metadata": {},
   "outputs": [],
   "source": [
    "merged_df2.loc[merged_df2['Country'] == 'Taiwan', 'Population'] = 23733876"
   ]
  },
  {
   "cell_type": "code",
   "execution_count": 123,
   "id": "e1635721",
   "metadata": {},
   "outputs": [],
   "source": [
    "df=merged_df2\n"
   ]
  },
  {
   "cell_type": "code",
   "execution_count": null,
   "id": "a0695414",
   "metadata": {},
   "outputs": [],
   "source": []
  },
  {
   "cell_type": "code",
   "execution_count": null,
   "id": "eebc271b",
   "metadata": {},
   "outputs": [],
   "source": []
  },
  {
   "cell_type": "code",
   "execution_count": 115,
   "id": "eb1db454",
   "metadata": {},
   "outputs": [],
   "source": [
    "import plotly.express as px"
   ]
  },
  {
   "cell_type": "code",
   "execution_count": 125,
   "id": "e9765f22",
   "metadata": {},
   "outputs": [
    {
     "data": {
      "application/vnd.plotly.v1+json": {
       "config": {
        "plotlyServerURL": "https://plot.ly"
       },
       "data": [
        {
         "hovertemplate": "<b>%{hovertext}</b><br><br>Mean Happiness Score=%{marker.size}<br>Average yearly temperature=%{marker.color}<extra></extra>",
         "hovertext": [
          "Finland",
          "Denmark",
          "Switzerland",
          "Iceland",
          "Norway",
          "Netherlands",
          "Sweden",
          "New Zealand",
          "Canada",
          "Australia",
          "Israel",
          "Austria",
          "Costa Rica",
          "Luxembourg",
          "Ireland",
          "United States",
          "Germany",
          "United Kingdom",
          "Belgium",
          "Czech Republic",
          "United Arab Emirates",
          "Mexico",
          "France",
          "Brazil",
          "Malta",
          "Singapore",
          "Chile",
          "Qatar",
          "Taiwan",
          "Panama",
          "Uruguay",
          "Saudi Arabia",
          "Spain",
          "Guatemala",
          "Argentina",
          "Colombia",
          "Bahrain",
          "Thailand",
          "Trinidad and Tobago",
          "Slovakia",
          "Italy",
          "Kuwait",
          "El Salvador",
          "Uzbekistan",
          "Slovenia",
          "Poland",
          "Lithuania",
          "Nicaragua",
          "Ecuador",
          "Japan",
          "Kazakhstan",
          "South Korea",
          "Cyprus",
          "Kosovo",
          "Bolivia",
          "Jamaica",
          "Romania",
          "Estonia",
          "Peru",
          "Moldova",
          "Mauritius",
          "Latvia",
          "Russia",
          "Paraguay",
          "Malaysia",
          "Croatia",
          "Belarus",
          "Serbia",
          "Libya",
          "Philippines",
          "Portugal",
          "Hungary",
          "Hong Kong",
          "Honduras",
          "Turkmenistan",
          "Venezuela",
          "Algeria",
          "Montenegro",
          "Bosnia and Herzegovina",
          "Kyrgyzstan",
          "Indonesia",
          "Turkey",
          "Greece",
          "Dominican Republic",
          "Pakistan",
          "Vietnam",
          "China",
          "Azerbaijan",
          "Mongolia",
          "Tajikistan",
          "Macedonia",
          "Bhutan",
          "Nigeria",
          "Morocco",
          "Jordan",
          "Somalia",
          "Lebanon",
          "Nepal",
          "Laos",
          "Albania",
          "Bulgaria",
          "South Africa",
          "Cameroon",
          "Gambia",
          "Ghana",
          "Mozambique",
          "Bangladesh",
          "Palestinian Territories",
          "Iran",
          "Tunisia",
          "Armenia",
          "Iraq",
          "Republic of the Congo",
          "Namibia",
          "Senegal",
          "Kenya",
          "Ivory Coast",
          "Ukraine",
          "Georgia",
          "Gabon",
          "Swaziland",
          "Zambia",
          "Democratic Republic of the Congo",
          "Myanmar",
          "Niger",
          "Cambodia",
          "Ethiopia",
          "Mauritania",
          "Sierra Leone",
          "Sri Lanka",
          "Egypt",
          "Mali",
          "Burkina Faso",
          "Benin",
          "Uganda",
          "Liberia",
          "India",
          "Guinea",
          "Chad",
          "Comoros",
          "Lesotho",
          "Angola",
          "Madagascar",
          "Sudan",
          "Haiti",
          "Malawi",
          "Zimbabwe",
          "Botswana",
          "Yemen",
          "Togo",
          "Tanzania",
          "Rwanda",
          "Burundi",
          "Syria",
          "Afghanistan",
          "Central African Republic"
         ],
         "legendgroup": "",
         "marker": {
          "color": [
           1.55,
           -3.7,
           5.1,
           -0.7,
           1.5,
           9.25,
           1.75,
           10.55,
           -5.1,
           21.65,
           19.2,
           6.35,
           24.8,
           8.65,
           9.3,
           8.55,
           8.4,
           8.45,
           9.55,
           7.55,
           26.65,
           21,
           10.7,
           24.95,
           19.2,
           26.45,
           8.45,
           27.15,
           27,
           25.4,
           17.55,
           24.65,
           13.3,
           23.45,
           14.8,
           24.5,
           26.8,
           26.3,
           25.75,
           6.8,
           13.45,
           27.15,
           24.45,
           12.05,
           8.9,
           7.85,
           6.2,
           24.9,
           21.85,
           11.15,
           5.5,
           11.5,
           18.45,
           15,
           21.55,
           24.95,
           8.8,
           2,
           19.6,
           9.45,
           22.4,
           5.6,
           -5.35,
           23.55,
           25.4,
           10.9,
           6.15,
           10.55,
           21.8,
           25.55,
           15.15,
           9.75,
           21.45,
           23.5,
           15.1,
           25.35,
           22.5,
           10.55,
           9.85,
           2.1,
           25.85,
           9.9,
           15.4,
           24.55,
           20.2,
           24.45,
           7.5,
           11.95,
           1.7,
           6.4,
           9.8,
           7.4,
           27,
           17.1,
           18.3,
           27.05,
           15,
           8.1,
           22.8,
           11.4,
           10.55,
           17.75,
           24.6,
           27.5,
           27.2,
           23.8,
           25,
           20,
           17.25,
           19.2,
           7.15,
           21.4,
           24.55,
           19.95,
           27.85,
           24.75,
           26.35,
           8.3,
           5.65,
           25.05,
           21.4,
           21.4,
           24,
           13.05,
           27.15,
           26.8,
           22.2,
           27.65,
           26.05,
           26.95,
           22.1,
           28.25,
           28.29,
           27.55,
           22.8,
           25.3,
           23.65,
           25.7,
           26.55,
           25.3,
           11.85,
           21.55,
           22.65,
           26.9,
           24.9,
           21.9,
           21,
           21.5,
           23.85,
           27.15,
           22.35,
           17.85,
           19.8,
           17.75,
           12.6,
           24.9
          ],
          "coloraxis": "coloraxis",
          "size": [
           7.62,
           7.57,
           7.53,
           7.53,
           7.5,
           7.43,
           7.34,
           7.3,
           7.28,
           7.24,
           7.2,
           7.18,
           7.14,
           7.06,
           7.01,
           6.99,
           6.96,
           6.92,
           6.9,
           6.73,
           6.73,
           6.67,
           6.57,
           6.56,
           6.54,
           6.5,
           6.48,
           6.45,
           6.44,
           6.43,
           6.42,
           6.41,
           6.39,
           6.36,
           6.3,
           6.24,
           6.22,
           6.22,
           6.18,
           6.16,
           6.15,
           6.13,
           6.11,
           6.08,
           6.05,
           6.03,
           6.03,
           5.99,
           5.94,
           5.93,
           5.91,
           5.89,
           5.89,
           5.83,
           5.8,
           5.8,
           5.79,
           5.78,
           5.77,
           5.76,
           5.76,
           5.73,
           5.7,
           5.69,
           5.64,
           5.59,
           5.56,
           5.55,
           5.55,
           5.5,
           5.48,
           5.47,
           5.46,
           5.44,
           5.42,
           5.41,
           5.39,
           5.38,
           5.33,
           5.32,
           5.3,
           5.29,
           5.27,
           5.27,
           5.26,
           5.25,
           5.24,
           5.21,
           5.2,
           5.19,
           5.14,
           5.12,
           5.09,
           5.09,
           4.96,
           4.96,
           4.96,
           4.91,
           4.9,
           4.86,
           4.8,
           4.79,
           4.78,
           4.78,
           4.71,
           4.7,
           4.7,
           4.68,
           4.66,
           4.65,
           4.64,
           4.62,
           4.61,
           4.6,
           4.56,
           4.52,
           4.52,
           4.5,
           4.5,
           4.5,
           4.46,
           4.46,
           4.41,
           4.41,
           4.39,
           4.38,
           4.38,
           4.36,
           4.36,
           4.35,
           4.34,
           4.32,
           4.26,
           4.23,
           4.21,
           4.18,
           4.18,
           4.17,
           4.08,
           4.07,
           4.01,
           3.91,
           3.87,
           3.85,
           3.83,
           3.82,
           3.82,
           3.76,
           3.68,
           3.63,
           3.5,
           3.42,
           3.34,
           3.31,
           3.27,
           3.15
          ],
          "sizemode": "area",
          "sizeref": 0.01905,
          "symbol": "circle"
         },
         "mode": "markers",
         "name": "",
         "orientation": "v",
         "showlegend": false,
         "type": "scatter",
         "x": [
          7.62,
          7.57,
          7.53,
          7.53,
          7.5,
          7.43,
          7.34,
          7.3,
          7.28,
          7.24,
          7.2,
          7.18,
          7.14,
          7.06,
          7.01,
          6.99,
          6.96,
          6.92,
          6.9,
          6.73,
          6.73,
          6.67,
          6.57,
          6.56,
          6.54,
          6.5,
          6.48,
          6.45,
          6.44,
          6.43,
          6.42,
          6.41,
          6.39,
          6.36,
          6.3,
          6.24,
          6.22,
          6.22,
          6.18,
          6.16,
          6.15,
          6.13,
          6.11,
          6.08,
          6.05,
          6.03,
          6.03,
          5.99,
          5.94,
          5.93,
          5.91,
          5.89,
          5.89,
          5.83,
          5.8,
          5.8,
          5.79,
          5.78,
          5.77,
          5.76,
          5.76,
          5.73,
          5.7,
          5.69,
          5.64,
          5.59,
          5.56,
          5.55,
          5.55,
          5.5,
          5.48,
          5.47,
          5.46,
          5.44,
          5.42,
          5.41,
          5.39,
          5.38,
          5.33,
          5.32,
          5.3,
          5.29,
          5.27,
          5.27,
          5.26,
          5.25,
          5.24,
          5.21,
          5.2,
          5.19,
          5.14,
          5.12,
          5.09,
          5.09,
          4.96,
          4.96,
          4.96,
          4.91,
          4.9,
          4.86,
          4.8,
          4.79,
          4.78,
          4.78,
          4.71,
          4.7,
          4.7,
          4.68,
          4.66,
          4.65,
          4.64,
          4.62,
          4.61,
          4.6,
          4.56,
          4.52,
          4.52,
          4.5,
          4.5,
          4.5,
          4.46,
          4.46,
          4.41,
          4.41,
          4.39,
          4.38,
          4.38,
          4.36,
          4.36,
          4.35,
          4.34,
          4.32,
          4.26,
          4.23,
          4.21,
          4.18,
          4.18,
          4.17,
          4.08,
          4.07,
          4.01,
          3.91,
          3.87,
          3.85,
          3.83,
          3.82,
          3.82,
          3.76,
          3.68,
          3.63,
          3.5,
          3.42,
          3.34,
          3.31,
          3.27,
          3.15
         ],
         "xaxis": "x",
         "y": [
          1.55,
          -3.7,
          5.1,
          -0.7,
          1.5,
          9.25,
          1.75,
          10.55,
          -5.1,
          21.65,
          19.2,
          6.35,
          24.8,
          8.65,
          9.3,
          8.55,
          8.4,
          8.45,
          9.55,
          7.55,
          26.65,
          21,
          10.7,
          24.95,
          19.2,
          26.45,
          8.45,
          27.15,
          27,
          25.4,
          17.55,
          24.65,
          13.3,
          23.45,
          14.8,
          24.5,
          26.8,
          26.3,
          25.75,
          6.8,
          13.45,
          27.15,
          24.45,
          12.05,
          8.9,
          7.85,
          6.2,
          24.9,
          21.85,
          11.15,
          5.5,
          11.5,
          18.45,
          15,
          21.55,
          24.95,
          8.8,
          2,
          19.6,
          9.45,
          22.4,
          5.6,
          -5.35,
          23.55,
          25.4,
          10.9,
          6.15,
          10.55,
          21.8,
          25.55,
          15.15,
          9.75,
          21.45,
          23.5,
          15.1,
          25.35,
          22.5,
          10.55,
          9.85,
          2.1,
          25.85,
          9.9,
          15.4,
          24.55,
          20.2,
          24.45,
          7.5,
          11.95,
          1.7,
          6.4,
          9.8,
          7.4,
          27,
          17.1,
          18.3,
          27.05,
          15,
          8.1,
          22.8,
          11.4,
          10.55,
          17.75,
          24.6,
          27.5,
          27.2,
          23.8,
          25,
          20,
          17.25,
          19.2,
          7.15,
          21.4,
          24.55,
          19.95,
          27.85,
          24.75,
          26.35,
          8.3,
          5.65,
          25.05,
          21.4,
          21.4,
          24,
          13.05,
          27.15,
          26.8,
          22.2,
          27.65,
          26.05,
          26.95,
          22.1,
          28.25,
          28.29,
          27.55,
          22.8,
          25.3,
          23.65,
          25.7,
          26.55,
          25.3,
          11.85,
          21.55,
          22.65,
          26.9,
          24.9,
          21.9,
          21,
          21.5,
          23.85,
          27.15,
          22.35,
          17.85,
          19.8,
          17.75,
          12.6,
          24.9
         ],
         "yaxis": "y"
        }
       ],
       "layout": {
        "coloraxis": {
         "colorbar": {
          "title": {
           "text": "Average yearly temperature"
          }
         },
         "colorscale": [
          [
           0,
           "#0d0887"
          ],
          [
           0.1111111111111111,
           "#46039f"
          ],
          [
           0.2222222222222222,
           "#7201a8"
          ],
          [
           0.3333333333333333,
           "#9c179e"
          ],
          [
           0.4444444444444444,
           "#bd3786"
          ],
          [
           0.5555555555555556,
           "#d8576b"
          ],
          [
           0.6666666666666666,
           "#ed7953"
          ],
          [
           0.7777777777777778,
           "#fb9f3a"
          ],
          [
           0.8888888888888888,
           "#fdca26"
          ],
          [
           1,
           "#f0f921"
          ]
         ]
        },
        "legend": {
         "itemsizing": "constant",
         "tracegroupgap": 0
        },
        "template": {
         "data": {
          "bar": [
           {
            "error_x": {
             "color": "#2a3f5f"
            },
            "error_y": {
             "color": "#2a3f5f"
            },
            "marker": {
             "line": {
              "color": "#E5ECF6",
              "width": 0.5
             },
             "pattern": {
              "fillmode": "overlay",
              "size": 10,
              "solidity": 0.2
             }
            },
            "type": "bar"
           }
          ],
          "barpolar": [
           {
            "marker": {
             "line": {
              "color": "#E5ECF6",
              "width": 0.5
             },
             "pattern": {
              "fillmode": "overlay",
              "size": 10,
              "solidity": 0.2
             }
            },
            "type": "barpolar"
           }
          ],
          "carpet": [
           {
            "aaxis": {
             "endlinecolor": "#2a3f5f",
             "gridcolor": "white",
             "linecolor": "white",
             "minorgridcolor": "white",
             "startlinecolor": "#2a3f5f"
            },
            "baxis": {
             "endlinecolor": "#2a3f5f",
             "gridcolor": "white",
             "linecolor": "white",
             "minorgridcolor": "white",
             "startlinecolor": "#2a3f5f"
            },
            "type": "carpet"
           }
          ],
          "choropleth": [
           {
            "colorbar": {
             "outlinewidth": 0,
             "ticks": ""
            },
            "type": "choropleth"
           }
          ],
          "contour": [
           {
            "colorbar": {
             "outlinewidth": 0,
             "ticks": ""
            },
            "colorscale": [
             [
              0,
              "#0d0887"
             ],
             [
              0.1111111111111111,
              "#46039f"
             ],
             [
              0.2222222222222222,
              "#7201a8"
             ],
             [
              0.3333333333333333,
              "#9c179e"
             ],
             [
              0.4444444444444444,
              "#bd3786"
             ],
             [
              0.5555555555555556,
              "#d8576b"
             ],
             [
              0.6666666666666666,
              "#ed7953"
             ],
             [
              0.7777777777777778,
              "#fb9f3a"
             ],
             [
              0.8888888888888888,
              "#fdca26"
             ],
             [
              1,
              "#f0f921"
             ]
            ],
            "type": "contour"
           }
          ],
          "contourcarpet": [
           {
            "colorbar": {
             "outlinewidth": 0,
             "ticks": ""
            },
            "type": "contourcarpet"
           }
          ],
          "heatmap": [
           {
            "colorbar": {
             "outlinewidth": 0,
             "ticks": ""
            },
            "colorscale": [
             [
              0,
              "#0d0887"
             ],
             [
              0.1111111111111111,
              "#46039f"
             ],
             [
              0.2222222222222222,
              "#7201a8"
             ],
             [
              0.3333333333333333,
              "#9c179e"
             ],
             [
              0.4444444444444444,
              "#bd3786"
             ],
             [
              0.5555555555555556,
              "#d8576b"
             ],
             [
              0.6666666666666666,
              "#ed7953"
             ],
             [
              0.7777777777777778,
              "#fb9f3a"
             ],
             [
              0.8888888888888888,
              "#fdca26"
             ],
             [
              1,
              "#f0f921"
             ]
            ],
            "type": "heatmap"
           }
          ],
          "heatmapgl": [
           {
            "colorbar": {
             "outlinewidth": 0,
             "ticks": ""
            },
            "colorscale": [
             [
              0,
              "#0d0887"
             ],
             [
              0.1111111111111111,
              "#46039f"
             ],
             [
              0.2222222222222222,
              "#7201a8"
             ],
             [
              0.3333333333333333,
              "#9c179e"
             ],
             [
              0.4444444444444444,
              "#bd3786"
             ],
             [
              0.5555555555555556,
              "#d8576b"
             ],
             [
              0.6666666666666666,
              "#ed7953"
             ],
             [
              0.7777777777777778,
              "#fb9f3a"
             ],
             [
              0.8888888888888888,
              "#fdca26"
             ],
             [
              1,
              "#f0f921"
             ]
            ],
            "type": "heatmapgl"
           }
          ],
          "histogram": [
           {
            "marker": {
             "pattern": {
              "fillmode": "overlay",
              "size": 10,
              "solidity": 0.2
             }
            },
            "type": "histogram"
           }
          ],
          "histogram2d": [
           {
            "colorbar": {
             "outlinewidth": 0,
             "ticks": ""
            },
            "colorscale": [
             [
              0,
              "#0d0887"
             ],
             [
              0.1111111111111111,
              "#46039f"
             ],
             [
              0.2222222222222222,
              "#7201a8"
             ],
             [
              0.3333333333333333,
              "#9c179e"
             ],
             [
              0.4444444444444444,
              "#bd3786"
             ],
             [
              0.5555555555555556,
              "#d8576b"
             ],
             [
              0.6666666666666666,
              "#ed7953"
             ],
             [
              0.7777777777777778,
              "#fb9f3a"
             ],
             [
              0.8888888888888888,
              "#fdca26"
             ],
             [
              1,
              "#f0f921"
             ]
            ],
            "type": "histogram2d"
           }
          ],
          "histogram2dcontour": [
           {
            "colorbar": {
             "outlinewidth": 0,
             "ticks": ""
            },
            "colorscale": [
             [
              0,
              "#0d0887"
             ],
             [
              0.1111111111111111,
              "#46039f"
             ],
             [
              0.2222222222222222,
              "#7201a8"
             ],
             [
              0.3333333333333333,
              "#9c179e"
             ],
             [
              0.4444444444444444,
              "#bd3786"
             ],
             [
              0.5555555555555556,
              "#d8576b"
             ],
             [
              0.6666666666666666,
              "#ed7953"
             ],
             [
              0.7777777777777778,
              "#fb9f3a"
             ],
             [
              0.8888888888888888,
              "#fdca26"
             ],
             [
              1,
              "#f0f921"
             ]
            ],
            "type": "histogram2dcontour"
           }
          ],
          "mesh3d": [
           {
            "colorbar": {
             "outlinewidth": 0,
             "ticks": ""
            },
            "type": "mesh3d"
           }
          ],
          "parcoords": [
           {
            "line": {
             "colorbar": {
              "outlinewidth": 0,
              "ticks": ""
             }
            },
            "type": "parcoords"
           }
          ],
          "pie": [
           {
            "automargin": true,
            "type": "pie"
           }
          ],
          "scatter": [
           {
            "fillpattern": {
             "fillmode": "overlay",
             "size": 10,
             "solidity": 0.2
            },
            "type": "scatter"
           }
          ],
          "scatter3d": [
           {
            "line": {
             "colorbar": {
              "outlinewidth": 0,
              "ticks": ""
             }
            },
            "marker": {
             "colorbar": {
              "outlinewidth": 0,
              "ticks": ""
             }
            },
            "type": "scatter3d"
           }
          ],
          "scattercarpet": [
           {
            "marker": {
             "colorbar": {
              "outlinewidth": 0,
              "ticks": ""
             }
            },
            "type": "scattercarpet"
           }
          ],
          "scattergeo": [
           {
            "marker": {
             "colorbar": {
              "outlinewidth": 0,
              "ticks": ""
             }
            },
            "type": "scattergeo"
           }
          ],
          "scattergl": [
           {
            "marker": {
             "colorbar": {
              "outlinewidth": 0,
              "ticks": ""
             }
            },
            "type": "scattergl"
           }
          ],
          "scattermapbox": [
           {
            "marker": {
             "colorbar": {
              "outlinewidth": 0,
              "ticks": ""
             }
            },
            "type": "scattermapbox"
           }
          ],
          "scatterpolar": [
           {
            "marker": {
             "colorbar": {
              "outlinewidth": 0,
              "ticks": ""
             }
            },
            "type": "scatterpolar"
           }
          ],
          "scatterpolargl": [
           {
            "marker": {
             "colorbar": {
              "outlinewidth": 0,
              "ticks": ""
             }
            },
            "type": "scatterpolargl"
           }
          ],
          "scatterternary": [
           {
            "marker": {
             "colorbar": {
              "outlinewidth": 0,
              "ticks": ""
             }
            },
            "type": "scatterternary"
           }
          ],
          "surface": [
           {
            "colorbar": {
             "outlinewidth": 0,
             "ticks": ""
            },
            "colorscale": [
             [
              0,
              "#0d0887"
             ],
             [
              0.1111111111111111,
              "#46039f"
             ],
             [
              0.2222222222222222,
              "#7201a8"
             ],
             [
              0.3333333333333333,
              "#9c179e"
             ],
             [
              0.4444444444444444,
              "#bd3786"
             ],
             [
              0.5555555555555556,
              "#d8576b"
             ],
             [
              0.6666666666666666,
              "#ed7953"
             ],
             [
              0.7777777777777778,
              "#fb9f3a"
             ],
             [
              0.8888888888888888,
              "#fdca26"
             ],
             [
              1,
              "#f0f921"
             ]
            ],
            "type": "surface"
           }
          ],
          "table": [
           {
            "cells": {
             "fill": {
              "color": "#EBF0F8"
             },
             "line": {
              "color": "white"
             }
            },
            "header": {
             "fill": {
              "color": "#C8D4E3"
             },
             "line": {
              "color": "white"
             }
            },
            "type": "table"
           }
          ]
         },
         "layout": {
          "annotationdefaults": {
           "arrowcolor": "#2a3f5f",
           "arrowhead": 0,
           "arrowwidth": 1
          },
          "autotypenumbers": "strict",
          "coloraxis": {
           "colorbar": {
            "outlinewidth": 0,
            "ticks": ""
           }
          },
          "colorscale": {
           "diverging": [
            [
             0,
             "#8e0152"
            ],
            [
             0.1,
             "#c51b7d"
            ],
            [
             0.2,
             "#de77ae"
            ],
            [
             0.3,
             "#f1b6da"
            ],
            [
             0.4,
             "#fde0ef"
            ],
            [
             0.5,
             "#f7f7f7"
            ],
            [
             0.6,
             "#e6f5d0"
            ],
            [
             0.7,
             "#b8e186"
            ],
            [
             0.8,
             "#7fbc41"
            ],
            [
             0.9,
             "#4d9221"
            ],
            [
             1,
             "#276419"
            ]
           ],
           "sequential": [
            [
             0,
             "#0d0887"
            ],
            [
             0.1111111111111111,
             "#46039f"
            ],
            [
             0.2222222222222222,
             "#7201a8"
            ],
            [
             0.3333333333333333,
             "#9c179e"
            ],
            [
             0.4444444444444444,
             "#bd3786"
            ],
            [
             0.5555555555555556,
             "#d8576b"
            ],
            [
             0.6666666666666666,
             "#ed7953"
            ],
            [
             0.7777777777777778,
             "#fb9f3a"
            ],
            [
             0.8888888888888888,
             "#fdca26"
            ],
            [
             1,
             "#f0f921"
            ]
           ],
           "sequentialminus": [
            [
             0,
             "#0d0887"
            ],
            [
             0.1111111111111111,
             "#46039f"
            ],
            [
             0.2222222222222222,
             "#7201a8"
            ],
            [
             0.3333333333333333,
             "#9c179e"
            ],
            [
             0.4444444444444444,
             "#bd3786"
            ],
            [
             0.5555555555555556,
             "#d8576b"
            ],
            [
             0.6666666666666666,
             "#ed7953"
            ],
            [
             0.7777777777777778,
             "#fb9f3a"
            ],
            [
             0.8888888888888888,
             "#fdca26"
            ],
            [
             1,
             "#f0f921"
            ]
           ]
          },
          "colorway": [
           "#636efa",
           "#EF553B",
           "#00cc96",
           "#ab63fa",
           "#FFA15A",
           "#19d3f3",
           "#FF6692",
           "#B6E880",
           "#FF97FF",
           "#FECB52"
          ],
          "font": {
           "color": "#2a3f5f"
          },
          "geo": {
           "bgcolor": "white",
           "lakecolor": "white",
           "landcolor": "#E5ECF6",
           "showlakes": true,
           "showland": true,
           "subunitcolor": "white"
          },
          "hoverlabel": {
           "align": "left"
          },
          "hovermode": "closest",
          "mapbox": {
           "style": "light"
          },
          "paper_bgcolor": "white",
          "plot_bgcolor": "#E5ECF6",
          "polar": {
           "angularaxis": {
            "gridcolor": "white",
            "linecolor": "white",
            "ticks": ""
           },
           "bgcolor": "#E5ECF6",
           "radialaxis": {
            "gridcolor": "white",
            "linecolor": "white",
            "ticks": ""
           }
          },
          "scene": {
           "xaxis": {
            "backgroundcolor": "#E5ECF6",
            "gridcolor": "white",
            "gridwidth": 2,
            "linecolor": "white",
            "showbackground": true,
            "ticks": "",
            "zerolinecolor": "white"
           },
           "yaxis": {
            "backgroundcolor": "#E5ECF6",
            "gridcolor": "white",
            "gridwidth": 2,
            "linecolor": "white",
            "showbackground": true,
            "ticks": "",
            "zerolinecolor": "white"
           },
           "zaxis": {
            "backgroundcolor": "#E5ECF6",
            "gridcolor": "white",
            "gridwidth": 2,
            "linecolor": "white",
            "showbackground": true,
            "ticks": "",
            "zerolinecolor": "white"
           }
          },
          "shapedefaults": {
           "line": {
            "color": "#2a3f5f"
           }
          },
          "ternary": {
           "aaxis": {
            "gridcolor": "white",
            "linecolor": "white",
            "ticks": ""
           },
           "baxis": {
            "gridcolor": "white",
            "linecolor": "white",
            "ticks": ""
           },
           "bgcolor": "#E5ECF6",
           "caxis": {
            "gridcolor": "white",
            "linecolor": "white",
            "ticks": ""
           }
          },
          "title": {
           "x": 0.05
          },
          "xaxis": {
           "automargin": true,
           "gridcolor": "white",
           "linecolor": "white",
           "ticks": "",
           "title": {
            "standoff": 15
           },
           "zerolinecolor": "white",
           "zerolinewidth": 2
          },
          "yaxis": {
           "automargin": true,
           "gridcolor": "white",
           "linecolor": "white",
           "ticks": "",
           "title": {
            "standoff": 15
           },
           "zerolinecolor": "white",
           "zerolinewidth": 2
          }
         }
        },
        "title": {
         "text": "Países más felices y su temperatura"
        },
        "xaxis": {
         "anchor": "y",
         "domain": [
          0,
          1
         ],
         "title": {
          "text": "Mean Happiness Score"
         }
        },
        "yaxis": {
         "anchor": "x",
         "domain": [
          0,
          1
         ],
         "title": {
          "text": "Average yearly temperature"
         }
        }
       }
      },
      "text/html": [
       "<div>                            <div id=\"539241ce-8649-468d-bb06-f73ad1edf0b9\" class=\"plotly-graph-div\" style=\"height:525px; width:100%;\"></div>            <script type=\"text/javascript\">                require([\"plotly\"], function(Plotly) {                    window.PLOTLYENV=window.PLOTLYENV || {};                                    if (document.getElementById(\"539241ce-8649-468d-bb06-f73ad1edf0b9\")) {                    Plotly.newPlot(                        \"539241ce-8649-468d-bb06-f73ad1edf0b9\",                        [{\"hovertemplate\":\"<b>%{hovertext}</b><br><br>Mean Happiness Score=%{marker.size}<br>Average yearly temperature=%{marker.color}<extra></extra>\",\"hovertext\":[\"Finland\",\"Denmark\",\"Switzerland\",\"Iceland\",\"Norway\",\"Netherlands\",\"Sweden\",\"New Zealand\",\"Canada\",\"Australia\",\"Israel\",\"Austria\",\"Costa Rica\",\"Luxembourg\",\"Ireland\",\"United States\",\"Germany\",\"United Kingdom\",\"Belgium\",\"Czech Republic\",\"United Arab Emirates\",\"Mexico\",\"France\",\"Brazil\",\"Malta\",\"Singapore\",\"Chile\",\"Qatar\",\"Taiwan\",\"Panama\",\"Uruguay\",\"Saudi Arabia\",\"Spain\",\"Guatemala\",\"Argentina\",\"Colombia\",\"Bahrain\",\"Thailand\",\"Trinidad and Tobago\",\"Slovakia\",\"Italy\",\"Kuwait\",\"El Salvador\",\"Uzbekistan\",\"Slovenia\",\"Poland\",\"Lithuania\",\"Nicaragua\",\"Ecuador\",\"Japan\",\"Kazakhstan\",\"South Korea\",\"Cyprus\",\"Kosovo\",\"Bolivia\",\"Jamaica\",\"Romania\",\"Estonia\",\"Peru\",\"Moldova\",\"Mauritius\",\"Latvia\",\"Russia\",\"Paraguay\",\"Malaysia\",\"Croatia\",\"Belarus\",\"Serbia\",\"Libya\",\"Philippines\",\"Portugal\",\"Hungary\",\"Hong Kong\",\"Honduras\",\"Turkmenistan\",\"Venezuela\",\"Algeria\",\"Montenegro\",\"Bosnia and Herzegovina\",\"Kyrgyzstan\",\"Indonesia\",\"Turkey\",\"Greece\",\"Dominican Republic\",\"Pakistan\",\"Vietnam\",\"China\",\"Azerbaijan\",\"Mongolia\",\"Tajikistan\",\"Macedonia\",\"Bhutan\",\"Nigeria\",\"Morocco\",\"Jordan\",\"Somalia\",\"Lebanon\",\"Nepal\",\"Laos\",\"Albania\",\"Bulgaria\",\"South Africa\",\"Cameroon\",\"Gambia\",\"Ghana\",\"Mozambique\",\"Bangladesh\",\"Palestinian Territories\",\"Iran\",\"Tunisia\",\"Armenia\",\"Iraq\",\"Republic of the Congo\",\"Namibia\",\"Senegal\",\"Kenya\",\"Ivory Coast\",\"Ukraine\",\"Georgia\",\"Gabon\",\"Swaziland\",\"Zambia\",\"Democratic Republic of the Congo\",\"Myanmar\",\"Niger\",\"Cambodia\",\"Ethiopia\",\"Mauritania\",\"Sierra Leone\",\"Sri Lanka\",\"Egypt\",\"Mali\",\"Burkina Faso\",\"Benin\",\"Uganda\",\"Liberia\",\"India\",\"Guinea\",\"Chad\",\"Comoros\",\"Lesotho\",\"Angola\",\"Madagascar\",\"Sudan\",\"Haiti\",\"Malawi\",\"Zimbabwe\",\"Botswana\",\"Yemen\",\"Togo\",\"Tanzania\",\"Rwanda\",\"Burundi\",\"Syria\",\"Afghanistan\",\"Central African Republic\"],\"legendgroup\":\"\",\"marker\":{\"color\":[1.55,-3.7,5.1,-0.7,1.5,9.25,1.75,10.55,-5.1,21.65,19.2,6.35,24.8,8.65,9.3,8.55,8.4,8.45,9.55,7.55,26.65,21.0,10.7,24.95,19.2,26.45,8.45,27.15,27.0,25.4,17.55,24.65,13.3,23.45,14.8,24.5,26.8,26.3,25.75,6.8,13.45,27.15,24.45,12.05,8.9,7.85,6.2,24.9,21.85,11.15,5.5,11.5,18.45,15.0,21.55,24.95,8.8,2.0,19.6,9.45,22.4,5.6,-5.35,23.55,25.4,10.9,6.15,10.55,21.8,25.55,15.15,9.75,21.45,23.5,15.1,25.35,22.5,10.55,9.85,2.1,25.85,9.9,15.4,24.55,20.2,24.45,7.5,11.95,1.7,6.4,9.8,7.4,27.0,17.1,18.3,27.05,15.0,8.1,22.8,11.4,10.55,17.75,24.6,27.5,27.2,23.8,25.0,20.0,17.25,19.2,7.15,21.4,24.55,19.95,27.85,24.75,26.35,8.3,5.65,25.05,21.4,21.4,24.0,13.05,27.15,26.8,22.2,27.65,26.05,26.95,22.1,28.25,28.29,27.55,22.8,25.3,23.65,25.7,26.55,25.3,11.85,21.55,22.65,26.9,24.9,21.9,21.0,21.5,23.85,27.15,22.35,17.85,19.8,17.75,12.6,24.9],\"coloraxis\":\"coloraxis\",\"size\":[7.62,7.57,7.53,7.53,7.5,7.43,7.34,7.3,7.28,7.24,7.2,7.18,7.14,7.06,7.01,6.99,6.96,6.92,6.9,6.73,6.73,6.67,6.57,6.56,6.54,6.5,6.48,6.45,6.44,6.43,6.42,6.41,6.39,6.36,6.3,6.24,6.22,6.22,6.18,6.16,6.15,6.13,6.11,6.08,6.05,6.03,6.03,5.99,5.94,5.93,5.91,5.89,5.89,5.83,5.8,5.8,5.79,5.78,5.77,5.76,5.76,5.73,5.7,5.69,5.64,5.59,5.56,5.55,5.55,5.5,5.48,5.47,5.46,5.44,5.42,5.41,5.39,5.38,5.33,5.32,5.3,5.29,5.27,5.27,5.26,5.25,5.24,5.21,5.2,5.19,5.14,5.12,5.09,5.09,4.96,4.96,4.96,4.91,4.9,4.86,4.8,4.79,4.78,4.78,4.71,4.7,4.7,4.68,4.66,4.65,4.64,4.62,4.61,4.6,4.56,4.52,4.52,4.5,4.5,4.5,4.46,4.46,4.41,4.41,4.39,4.38,4.38,4.36,4.36,4.35,4.34,4.32,4.26,4.23,4.21,4.18,4.18,4.17,4.08,4.07,4.01,3.91,3.87,3.85,3.83,3.82,3.82,3.76,3.68,3.63,3.5,3.42,3.34,3.31,3.27,3.15],\"sizemode\":\"area\",\"sizeref\":0.01905,\"symbol\":\"circle\"},\"mode\":\"markers\",\"name\":\"\",\"orientation\":\"v\",\"showlegend\":false,\"x\":[7.62,7.57,7.53,7.53,7.5,7.43,7.34,7.3,7.28,7.24,7.2,7.18,7.14,7.06,7.01,6.99,6.96,6.92,6.9,6.73,6.73,6.67,6.57,6.56,6.54,6.5,6.48,6.45,6.44,6.43,6.42,6.41,6.39,6.36,6.3,6.24,6.22,6.22,6.18,6.16,6.15,6.13,6.11,6.08,6.05,6.03,6.03,5.99,5.94,5.93,5.91,5.89,5.89,5.83,5.8,5.8,5.79,5.78,5.77,5.76,5.76,5.73,5.7,5.69,5.64,5.59,5.56,5.55,5.55,5.5,5.48,5.47,5.46,5.44,5.42,5.41,5.39,5.38,5.33,5.32,5.3,5.29,5.27,5.27,5.26,5.25,5.24,5.21,5.2,5.19,5.14,5.12,5.09,5.09,4.96,4.96,4.96,4.91,4.9,4.86,4.8,4.79,4.78,4.78,4.71,4.7,4.7,4.68,4.66,4.65,4.64,4.62,4.61,4.6,4.56,4.52,4.52,4.5,4.5,4.5,4.46,4.46,4.41,4.41,4.39,4.38,4.38,4.36,4.36,4.35,4.34,4.32,4.26,4.23,4.21,4.18,4.18,4.17,4.08,4.07,4.01,3.91,3.87,3.85,3.83,3.82,3.82,3.76,3.68,3.63,3.5,3.42,3.34,3.31,3.27,3.15],\"xaxis\":\"x\",\"y\":[1.55,-3.7,5.1,-0.7,1.5,9.25,1.75,10.55,-5.1,21.65,19.2,6.35,24.8,8.65,9.3,8.55,8.4,8.45,9.55,7.55,26.65,21.0,10.7,24.95,19.2,26.45,8.45,27.15,27.0,25.4,17.55,24.65,13.3,23.45,14.8,24.5,26.8,26.3,25.75,6.8,13.45,27.15,24.45,12.05,8.9,7.85,6.2,24.9,21.85,11.15,5.5,11.5,18.45,15.0,21.55,24.95,8.8,2.0,19.6,9.45,22.4,5.6,-5.35,23.55,25.4,10.9,6.15,10.55,21.8,25.55,15.15,9.75,21.45,23.5,15.1,25.35,22.5,10.55,9.85,2.1,25.85,9.9,15.4,24.55,20.2,24.45,7.5,11.95,1.7,6.4,9.8,7.4,27.0,17.1,18.3,27.05,15.0,8.1,22.8,11.4,10.55,17.75,24.6,27.5,27.2,23.8,25.0,20.0,17.25,19.2,7.15,21.4,24.55,19.95,27.85,24.75,26.35,8.3,5.65,25.05,21.4,21.4,24.0,13.05,27.15,26.8,22.2,27.65,26.05,26.95,22.1,28.25,28.29,27.55,22.8,25.3,23.65,25.7,26.55,25.3,11.85,21.55,22.65,26.9,24.9,21.9,21.0,21.5,23.85,27.15,22.35,17.85,19.8,17.75,12.6,24.9],\"yaxis\":\"y\",\"type\":\"scatter\"}],                        {\"template\":{\"data\":{\"histogram2dcontour\":[{\"type\":\"histogram2dcontour\",\"colorbar\":{\"outlinewidth\":0,\"ticks\":\"\"},\"colorscale\":[[0.0,\"#0d0887\"],[0.1111111111111111,\"#46039f\"],[0.2222222222222222,\"#7201a8\"],[0.3333333333333333,\"#9c179e\"],[0.4444444444444444,\"#bd3786\"],[0.5555555555555556,\"#d8576b\"],[0.6666666666666666,\"#ed7953\"],[0.7777777777777778,\"#fb9f3a\"],[0.8888888888888888,\"#fdca26\"],[1.0,\"#f0f921\"]]}],\"choropleth\":[{\"type\":\"choropleth\",\"colorbar\":{\"outlinewidth\":0,\"ticks\":\"\"}}],\"histogram2d\":[{\"type\":\"histogram2d\",\"colorbar\":{\"outlinewidth\":0,\"ticks\":\"\"},\"colorscale\":[[0.0,\"#0d0887\"],[0.1111111111111111,\"#46039f\"],[0.2222222222222222,\"#7201a8\"],[0.3333333333333333,\"#9c179e\"],[0.4444444444444444,\"#bd3786\"],[0.5555555555555556,\"#d8576b\"],[0.6666666666666666,\"#ed7953\"],[0.7777777777777778,\"#fb9f3a\"],[0.8888888888888888,\"#fdca26\"],[1.0,\"#f0f921\"]]}],\"heatmap\":[{\"type\":\"heatmap\",\"colorbar\":{\"outlinewidth\":0,\"ticks\":\"\"},\"colorscale\":[[0.0,\"#0d0887\"],[0.1111111111111111,\"#46039f\"],[0.2222222222222222,\"#7201a8\"],[0.3333333333333333,\"#9c179e\"],[0.4444444444444444,\"#bd3786\"],[0.5555555555555556,\"#d8576b\"],[0.6666666666666666,\"#ed7953\"],[0.7777777777777778,\"#fb9f3a\"],[0.8888888888888888,\"#fdca26\"],[1.0,\"#f0f921\"]]}],\"heatmapgl\":[{\"type\":\"heatmapgl\",\"colorbar\":{\"outlinewidth\":0,\"ticks\":\"\"},\"colorscale\":[[0.0,\"#0d0887\"],[0.1111111111111111,\"#46039f\"],[0.2222222222222222,\"#7201a8\"],[0.3333333333333333,\"#9c179e\"],[0.4444444444444444,\"#bd3786\"],[0.5555555555555556,\"#d8576b\"],[0.6666666666666666,\"#ed7953\"],[0.7777777777777778,\"#fb9f3a\"],[0.8888888888888888,\"#fdca26\"],[1.0,\"#f0f921\"]]}],\"contourcarpet\":[{\"type\":\"contourcarpet\",\"colorbar\":{\"outlinewidth\":0,\"ticks\":\"\"}}],\"contour\":[{\"type\":\"contour\",\"colorbar\":{\"outlinewidth\":0,\"ticks\":\"\"},\"colorscale\":[[0.0,\"#0d0887\"],[0.1111111111111111,\"#46039f\"],[0.2222222222222222,\"#7201a8\"],[0.3333333333333333,\"#9c179e\"],[0.4444444444444444,\"#bd3786\"],[0.5555555555555556,\"#d8576b\"],[0.6666666666666666,\"#ed7953\"],[0.7777777777777778,\"#fb9f3a\"],[0.8888888888888888,\"#fdca26\"],[1.0,\"#f0f921\"]]}],\"surface\":[{\"type\":\"surface\",\"colorbar\":{\"outlinewidth\":0,\"ticks\":\"\"},\"colorscale\":[[0.0,\"#0d0887\"],[0.1111111111111111,\"#46039f\"],[0.2222222222222222,\"#7201a8\"],[0.3333333333333333,\"#9c179e\"],[0.4444444444444444,\"#bd3786\"],[0.5555555555555556,\"#d8576b\"],[0.6666666666666666,\"#ed7953\"],[0.7777777777777778,\"#fb9f3a\"],[0.8888888888888888,\"#fdca26\"],[1.0,\"#f0f921\"]]}],\"mesh3d\":[{\"type\":\"mesh3d\",\"colorbar\":{\"outlinewidth\":0,\"ticks\":\"\"}}],\"scatter\":[{\"fillpattern\":{\"fillmode\":\"overlay\",\"size\":10,\"solidity\":0.2},\"type\":\"scatter\"}],\"parcoords\":[{\"type\":\"parcoords\",\"line\":{\"colorbar\":{\"outlinewidth\":0,\"ticks\":\"\"}}}],\"scatterpolargl\":[{\"type\":\"scatterpolargl\",\"marker\":{\"colorbar\":{\"outlinewidth\":0,\"ticks\":\"\"}}}],\"bar\":[{\"error_x\":{\"color\":\"#2a3f5f\"},\"error_y\":{\"color\":\"#2a3f5f\"},\"marker\":{\"line\":{\"color\":\"#E5ECF6\",\"width\":0.5},\"pattern\":{\"fillmode\":\"overlay\",\"size\":10,\"solidity\":0.2}},\"type\":\"bar\"}],\"scattergeo\":[{\"type\":\"scattergeo\",\"marker\":{\"colorbar\":{\"outlinewidth\":0,\"ticks\":\"\"}}}],\"scatterpolar\":[{\"type\":\"scatterpolar\",\"marker\":{\"colorbar\":{\"outlinewidth\":0,\"ticks\":\"\"}}}],\"histogram\":[{\"marker\":{\"pattern\":{\"fillmode\":\"overlay\",\"size\":10,\"solidity\":0.2}},\"type\":\"histogram\"}],\"scattergl\":[{\"type\":\"scattergl\",\"marker\":{\"colorbar\":{\"outlinewidth\":0,\"ticks\":\"\"}}}],\"scatter3d\":[{\"type\":\"scatter3d\",\"line\":{\"colorbar\":{\"outlinewidth\":0,\"ticks\":\"\"}},\"marker\":{\"colorbar\":{\"outlinewidth\":0,\"ticks\":\"\"}}}],\"scattermapbox\":[{\"type\":\"scattermapbox\",\"marker\":{\"colorbar\":{\"outlinewidth\":0,\"ticks\":\"\"}}}],\"scatterternary\":[{\"type\":\"scatterternary\",\"marker\":{\"colorbar\":{\"outlinewidth\":0,\"ticks\":\"\"}}}],\"scattercarpet\":[{\"type\":\"scattercarpet\",\"marker\":{\"colorbar\":{\"outlinewidth\":0,\"ticks\":\"\"}}}],\"carpet\":[{\"aaxis\":{\"endlinecolor\":\"#2a3f5f\",\"gridcolor\":\"white\",\"linecolor\":\"white\",\"minorgridcolor\":\"white\",\"startlinecolor\":\"#2a3f5f\"},\"baxis\":{\"endlinecolor\":\"#2a3f5f\",\"gridcolor\":\"white\",\"linecolor\":\"white\",\"minorgridcolor\":\"white\",\"startlinecolor\":\"#2a3f5f\"},\"type\":\"carpet\"}],\"table\":[{\"cells\":{\"fill\":{\"color\":\"#EBF0F8\"},\"line\":{\"color\":\"white\"}},\"header\":{\"fill\":{\"color\":\"#C8D4E3\"},\"line\":{\"color\":\"white\"}},\"type\":\"table\"}],\"barpolar\":[{\"marker\":{\"line\":{\"color\":\"#E5ECF6\",\"width\":0.5},\"pattern\":{\"fillmode\":\"overlay\",\"size\":10,\"solidity\":0.2}},\"type\":\"barpolar\"}],\"pie\":[{\"automargin\":true,\"type\":\"pie\"}]},\"layout\":{\"autotypenumbers\":\"strict\",\"colorway\":[\"#636efa\",\"#EF553B\",\"#00cc96\",\"#ab63fa\",\"#FFA15A\",\"#19d3f3\",\"#FF6692\",\"#B6E880\",\"#FF97FF\",\"#FECB52\"],\"font\":{\"color\":\"#2a3f5f\"},\"hovermode\":\"closest\",\"hoverlabel\":{\"align\":\"left\"},\"paper_bgcolor\":\"white\",\"plot_bgcolor\":\"#E5ECF6\",\"polar\":{\"bgcolor\":\"#E5ECF6\",\"angularaxis\":{\"gridcolor\":\"white\",\"linecolor\":\"white\",\"ticks\":\"\"},\"radialaxis\":{\"gridcolor\":\"white\",\"linecolor\":\"white\",\"ticks\":\"\"}},\"ternary\":{\"bgcolor\":\"#E5ECF6\",\"aaxis\":{\"gridcolor\":\"white\",\"linecolor\":\"white\",\"ticks\":\"\"},\"baxis\":{\"gridcolor\":\"white\",\"linecolor\":\"white\",\"ticks\":\"\"},\"caxis\":{\"gridcolor\":\"white\",\"linecolor\":\"white\",\"ticks\":\"\"}},\"coloraxis\":{\"colorbar\":{\"outlinewidth\":0,\"ticks\":\"\"}},\"colorscale\":{\"sequential\":[[0.0,\"#0d0887\"],[0.1111111111111111,\"#46039f\"],[0.2222222222222222,\"#7201a8\"],[0.3333333333333333,\"#9c179e\"],[0.4444444444444444,\"#bd3786\"],[0.5555555555555556,\"#d8576b\"],[0.6666666666666666,\"#ed7953\"],[0.7777777777777778,\"#fb9f3a\"],[0.8888888888888888,\"#fdca26\"],[1.0,\"#f0f921\"]],\"sequentialminus\":[[0.0,\"#0d0887\"],[0.1111111111111111,\"#46039f\"],[0.2222222222222222,\"#7201a8\"],[0.3333333333333333,\"#9c179e\"],[0.4444444444444444,\"#bd3786\"],[0.5555555555555556,\"#d8576b\"],[0.6666666666666666,\"#ed7953\"],[0.7777777777777778,\"#fb9f3a\"],[0.8888888888888888,\"#fdca26\"],[1.0,\"#f0f921\"]],\"diverging\":[[0,\"#8e0152\"],[0.1,\"#c51b7d\"],[0.2,\"#de77ae\"],[0.3,\"#f1b6da\"],[0.4,\"#fde0ef\"],[0.5,\"#f7f7f7\"],[0.6,\"#e6f5d0\"],[0.7,\"#b8e186\"],[0.8,\"#7fbc41\"],[0.9,\"#4d9221\"],[1,\"#276419\"]]},\"xaxis\":{\"gridcolor\":\"white\",\"linecolor\":\"white\",\"ticks\":\"\",\"title\":{\"standoff\":15},\"zerolinecolor\":\"white\",\"automargin\":true,\"zerolinewidth\":2},\"yaxis\":{\"gridcolor\":\"white\",\"linecolor\":\"white\",\"ticks\":\"\",\"title\":{\"standoff\":15},\"zerolinecolor\":\"white\",\"automargin\":true,\"zerolinewidth\":2},\"scene\":{\"xaxis\":{\"backgroundcolor\":\"#E5ECF6\",\"gridcolor\":\"white\",\"linecolor\":\"white\",\"showbackground\":true,\"ticks\":\"\",\"zerolinecolor\":\"white\",\"gridwidth\":2},\"yaxis\":{\"backgroundcolor\":\"#E5ECF6\",\"gridcolor\":\"white\",\"linecolor\":\"white\",\"showbackground\":true,\"ticks\":\"\",\"zerolinecolor\":\"white\",\"gridwidth\":2},\"zaxis\":{\"backgroundcolor\":\"#E5ECF6\",\"gridcolor\":\"white\",\"linecolor\":\"white\",\"showbackground\":true,\"ticks\":\"\",\"zerolinecolor\":\"white\",\"gridwidth\":2}},\"shapedefaults\":{\"line\":{\"color\":\"#2a3f5f\"}},\"annotationdefaults\":{\"arrowcolor\":\"#2a3f5f\",\"arrowhead\":0,\"arrowwidth\":1},\"geo\":{\"bgcolor\":\"white\",\"landcolor\":\"#E5ECF6\",\"subunitcolor\":\"white\",\"showland\":true,\"showlakes\":true,\"lakecolor\":\"white\"},\"title\":{\"x\":0.05},\"mapbox\":{\"style\":\"light\"}}},\"xaxis\":{\"anchor\":\"y\",\"domain\":[0.0,1.0],\"title\":{\"text\":\"Mean Happiness Score\"}},\"yaxis\":{\"anchor\":\"x\",\"domain\":[0.0,1.0],\"title\":{\"text\":\"Average yearly temperature\"}},\"coloraxis\":{\"colorbar\":{\"title\":{\"text\":\"Average yearly temperature\"}},\"colorscale\":[[0.0,\"#0d0887\"],[0.1111111111111111,\"#46039f\"],[0.2222222222222222,\"#7201a8\"],[0.3333333333333333,\"#9c179e\"],[0.4444444444444444,\"#bd3786\"],[0.5555555555555556,\"#d8576b\"],[0.6666666666666666,\"#ed7953\"],[0.7777777777777778,\"#fb9f3a\"],[0.8888888888888888,\"#fdca26\"],[1.0,\"#f0f921\"]]},\"legend\":{\"tracegroupgap\":0,\"itemsizing\":\"constant\"},\"title\":{\"text\":\"Pa\\u00edses m\\u00e1s felices y su temperatura\"}},                        {\"responsive\": true}                    ).then(function(){\n",
       "                            \n",
       "var gd = document.getElementById('539241ce-8649-468d-bb06-f73ad1edf0b9');\n",
       "var x = new MutationObserver(function (mutations, observer) {{\n",
       "        var display = window.getComputedStyle(gd).display;\n",
       "        if (!display || display === 'none') {{\n",
       "            console.log([gd, 'removed!']);\n",
       "            Plotly.purge(gd);\n",
       "            observer.disconnect();\n",
       "        }}\n",
       "}});\n",
       "\n",
       "// Listen for the removal of the full notebook cells\n",
       "var notebookContainer = gd.closest('#notebook-container');\n",
       "if (notebookContainer) {{\n",
       "    x.observe(notebookContainer, {childList: true});\n",
       "}}\n",
       "\n",
       "// Listen for the clearing of the current output cell\n",
       "var outputEl = gd.closest('.output');\n",
       "if (outputEl) {{\n",
       "    x.observe(outputEl, {childList: true});\n",
       "}}\n",
       "\n",
       "                        })                };                });            </script>        </div>"
      ]
     },
     "metadata": {},
     "output_type": "display_data"
    }
   ],
   "source": [
    "fig = px.scatter(df, x=\"Mean Happiness Score\", y=\"Average yearly temperature\", size='Mean Happiness Score', color=\"Average yearly temperature\",\n",
    "                 hover_name=\"Country\", title=\"Países más felices y su temperatura\")\n",
    "\n",
    "fig.show()"
   ]
  },
  {
   "cell_type": "code",
   "execution_count": 117,
   "id": "076ff591",
   "metadata": {},
   "outputs": [
    {
     "data": {
      "application/vnd.plotly.v1+json": {
       "config": {
        "plotlyServerURL": "https://plot.ly"
       },
       "data": [
        {
         "autocolorscale": false,
         "colorbar": {
          "title": {
           "text": "Happiness Rank"
          }
         },
         "colorscale": [
          [
           0,
           "rgb(247, 254, 174)"
          ],
          [
           0.16666666666666666,
           "rgb(183, 230, 165)"
          ],
          [
           0.3333333333333333,
           "rgb(124, 203, 162)"
          ],
          [
           0.5,
           "rgb(70, 174, 160)"
          ],
          [
           0.6666666666666666,
           "rgb(8, 144, 153)"
          ],
          [
           0.8333333333333334,
           "rgb(0, 113, 139)"
          ],
          [
           1,
           "rgb(4, 82, 117)"
          ]
         ],
         "locationmode": "country names",
         "locations": [
          "Finland",
          "Denmark",
          "Switzerland",
          "Iceland",
          "Norway",
          "Netherlands",
          "Sweden",
          "New Zealand",
          "Canada",
          "Australia",
          "Israel",
          "Austria",
          "Costa Rica",
          "Luxembourg",
          "Ireland",
          "United States",
          "Germany",
          "United Kingdom",
          "Belgium",
          "Czech Republic",
          "United Arab Emirates",
          "Mexico",
          "France",
          "Brazil",
          "Malta",
          "Singapore",
          "Chile",
          "Qatar",
          "Taiwan",
          "Panama",
          "Uruguay",
          "Saudi Arabia",
          "Spain",
          "Guatemala",
          "Argentina",
          "Colombia",
          "Bahrain",
          "Thailand",
          "Trinidad and Tobago",
          "Slovakia",
          "Italy",
          "Kuwait",
          "El Salvador",
          "Uzbekistan",
          "Slovenia",
          "Poland",
          "Lithuania",
          "Nicaragua",
          "Ecuador",
          "Japan",
          "Kazakhstan",
          "South Korea",
          "Cyprus",
          "Kosovo",
          "Bolivia",
          "Jamaica",
          "Romania",
          "Estonia",
          "Peru",
          "Moldova",
          "Mauritius",
          "Latvia",
          "Russia",
          "Paraguay",
          "Malaysia",
          "Croatia",
          "Belarus",
          "Serbia",
          "Libya",
          "Philippines",
          "Portugal",
          "Hungary",
          "Hong Kong",
          "Honduras",
          "Turkmenistan",
          "Venezuela",
          "Algeria",
          "Montenegro",
          "Bosnia and Herzegovina",
          "Kyrgyzstan",
          "Indonesia",
          "Turkey",
          "Greece",
          "Dominican Republic",
          "Pakistan",
          "Vietnam",
          "China",
          "Azerbaijan",
          "Mongolia",
          "Tajikistan",
          "Macedonia",
          "Bhutan",
          "Nigeria",
          "Morocco",
          "Jordan",
          "Somalia",
          "Lebanon",
          "Nepal",
          "Laos",
          "Albania",
          "Bulgaria",
          "South Africa",
          "Cameroon",
          "Gambia",
          "Ghana",
          "Mozambique",
          "Bangladesh",
          "Palestinian Territories",
          "Iran",
          "Tunisia",
          "Armenia",
          "Iraq",
          "Republic of the Congo",
          "Namibia",
          "Senegal",
          "Kenya",
          "Ivory Coast",
          "Ukraine",
          "Georgia",
          "Gabon",
          "Swaziland",
          "Zambia",
          "Democratic Republic of the Congo",
          "Myanmar",
          "Niger",
          "Cambodia",
          "Ethiopia",
          "Mauritania",
          "Sierra Leone",
          "Sri Lanka",
          "Egypt",
          "Mali",
          "Burkina Faso",
          "Benin",
          "Uganda",
          "Liberia",
          "India",
          "Guinea",
          "Chad",
          "Comoros",
          "Lesotho",
          "Angola",
          "Madagascar",
          "Sudan",
          "Haiti",
          "Malawi",
          "Zimbabwe",
          "Botswana",
          "Yemen",
          "Togo",
          "Tanzania",
          "Rwanda",
          "Burundi",
          "Syria",
          "Afghanistan",
          "Central African Republic"
         ],
         "marker": {
          "line": {
           "color": "#efefef",
           "width": 0.5
          }
         },
         "reversescale": false,
         "text": [
          1.38,
          1.42,
          1.49,
          1.41,
          1.53,
          1.43,
          1.42,
          1.34,
          1.4,
          1.41,
          1.31,
          1.42,
          1.06,
          1.67,
          1.5,
          1.48,
          1.42,
          1.37,
          1.4,
          1.29,
          1.53,
          1.09,
          1.36,
          1.03,
          1.32,
          1.62,
          1.18,
          1.75,
          1.39,
          1.19,
          1.14,
          1.44,
          1.32,
          0.82,
          1.12,
          1,
          1.4,
          1.06,
          1.27,
          1.26,
          1.33,
          1.54,
          0.83,
          0.73,
          1.29,
          1.23,
          1.26,
          0.68,
          0.93,
          1.35,
          1.2,
          1.34,
          1.3,
          0.89,
          0.78,
          0.86,
          1.17,
          1.26,
          0.97,
          0.75,
          1.12,
          1.21,
          1.21,
          0.88,
          1.22,
          1.18,
          1.09,
          1.02,
          1.08,
          0.81,
          1.25,
          1.23,
          1.48,
          0.67,
          1.05,
          1,
          0.99,
          1.08,
          0.95,
          0.57,
          0.93,
          1.18,
          1.22,
          1.02,
          0.66,
          0.74,
          1.02,
          1.06,
          0.94,
          0.48,
          1.01,
          0.82,
          0.7,
          0.8,
          0.9,
          0.07,
          1.03,
          0.45,
          0.72,
          0.96,
          1.11,
          0.98,
          0.52,
          0.34,
          0.63,
          0.18,
          0.55,
          0.65,
          1.07,
          0.93,
          0.88,
          1.01,
          0.67,
          0.91,
          0.45,
          0.51,
          0.58,
          0.87,
          0.9,
          1.09,
          0.79,
          0.55,
          0.06,
          0.5,
          0.13,
          0.56,
          0.31,
          0.58,
          0.31,
          0.95,
          0.93,
          0.38,
          0.33,
          0.4,
          0.32,
          0.12,
          0.73,
          0.3,
          0.35,
          0.33,
          0.46,
          0.81,
          0.26,
          0.5,
          0.31,
          0.14,
          0.37,
          1.06,
          0.44,
          0.26,
          0.43,
          0.33,
          0.04,
          0.69,
          0.36,
          0.03
         ],
         "type": "choropleth",
         "z": [
          1,
          2,
          3,
          3,
          4,
          5,
          6,
          7,
          8,
          9,
          10,
          11,
          12,
          13,
          14,
          15,
          16,
          17,
          18,
          19,
          19,
          20,
          21,
          22,
          23,
          24,
          25,
          26,
          27,
          28,
          29,
          30,
          31,
          32,
          33,
          34,
          35,
          35,
          36,
          37,
          38,
          39,
          40,
          41,
          42,
          43,
          43,
          44,
          45,
          46,
          47,
          48,
          48,
          49,
          50,
          50,
          51,
          52,
          53,
          54,
          54,
          55,
          56,
          57,
          58,
          59,
          60,
          61,
          61,
          62,
          63,
          64,
          65,
          66,
          67,
          68,
          69,
          70,
          71,
          72,
          73,
          74,
          75,
          75,
          76,
          77,
          78,
          79,
          80,
          81,
          82,
          83,
          84,
          84,
          85,
          85,
          85,
          86,
          87,
          88,
          89,
          90,
          91,
          91,
          92,
          93,
          93,
          94,
          95,
          96,
          97,
          98,
          99,
          100,
          101,
          102,
          102,
          103,
          103,
          103,
          104,
          104,
          105,
          105,
          106,
          107,
          107,
          108,
          108,
          109,
          110,
          111,
          112,
          113,
          114,
          115,
          115,
          116,
          117,
          118,
          119,
          120,
          121,
          122,
          123,
          124,
          124,
          125,
          126,
          127,
          128,
          129,
          130,
          131,
          132,
          133
         ]
        }
       ],
       "layout": {
        "geo": {
         "coastlinecolor": "#dadada",
         "lakecolor": "#eaeaea",
         "oceancolor": "#eaeaea",
         "projection": {
          "type": "miller"
         },
         "resolution": 50,
         "scope": "world",
         "showcoastlines": true,
         "showcountries": true,
         "showocean": true
        },
        "showlegend": false,
        "template": {
         "data": {
          "bar": [
           {
            "error_x": {
             "color": "#2a3f5f"
            },
            "error_y": {
             "color": "#2a3f5f"
            },
            "marker": {
             "line": {
              "color": "#E5ECF6",
              "width": 0.5
             },
             "pattern": {
              "fillmode": "overlay",
              "size": 10,
              "solidity": 0.2
             }
            },
            "type": "bar"
           }
          ],
          "barpolar": [
           {
            "marker": {
             "line": {
              "color": "#E5ECF6",
              "width": 0.5
             },
             "pattern": {
              "fillmode": "overlay",
              "size": 10,
              "solidity": 0.2
             }
            },
            "type": "barpolar"
           }
          ],
          "carpet": [
           {
            "aaxis": {
             "endlinecolor": "#2a3f5f",
             "gridcolor": "white",
             "linecolor": "white",
             "minorgridcolor": "white",
             "startlinecolor": "#2a3f5f"
            },
            "baxis": {
             "endlinecolor": "#2a3f5f",
             "gridcolor": "white",
             "linecolor": "white",
             "minorgridcolor": "white",
             "startlinecolor": "#2a3f5f"
            },
            "type": "carpet"
           }
          ],
          "choropleth": [
           {
            "colorbar": {
             "outlinewidth": 0,
             "ticks": ""
            },
            "type": "choropleth"
           }
          ],
          "contour": [
           {
            "colorbar": {
             "outlinewidth": 0,
             "ticks": ""
            },
            "colorscale": [
             [
              0,
              "#0d0887"
             ],
             [
              0.1111111111111111,
              "#46039f"
             ],
             [
              0.2222222222222222,
              "#7201a8"
             ],
             [
              0.3333333333333333,
              "#9c179e"
             ],
             [
              0.4444444444444444,
              "#bd3786"
             ],
             [
              0.5555555555555556,
              "#d8576b"
             ],
             [
              0.6666666666666666,
              "#ed7953"
             ],
             [
              0.7777777777777778,
              "#fb9f3a"
             ],
             [
              0.8888888888888888,
              "#fdca26"
             ],
             [
              1,
              "#f0f921"
             ]
            ],
            "type": "contour"
           }
          ],
          "contourcarpet": [
           {
            "colorbar": {
             "outlinewidth": 0,
             "ticks": ""
            },
            "type": "contourcarpet"
           }
          ],
          "heatmap": [
           {
            "colorbar": {
             "outlinewidth": 0,
             "ticks": ""
            },
            "colorscale": [
             [
              0,
              "#0d0887"
             ],
             [
              0.1111111111111111,
              "#46039f"
             ],
             [
              0.2222222222222222,
              "#7201a8"
             ],
             [
              0.3333333333333333,
              "#9c179e"
             ],
             [
              0.4444444444444444,
              "#bd3786"
             ],
             [
              0.5555555555555556,
              "#d8576b"
             ],
             [
              0.6666666666666666,
              "#ed7953"
             ],
             [
              0.7777777777777778,
              "#fb9f3a"
             ],
             [
              0.8888888888888888,
              "#fdca26"
             ],
             [
              1,
              "#f0f921"
             ]
            ],
            "type": "heatmap"
           }
          ],
          "heatmapgl": [
           {
            "colorbar": {
             "outlinewidth": 0,
             "ticks": ""
            },
            "colorscale": [
             [
              0,
              "#0d0887"
             ],
             [
              0.1111111111111111,
              "#46039f"
             ],
             [
              0.2222222222222222,
              "#7201a8"
             ],
             [
              0.3333333333333333,
              "#9c179e"
             ],
             [
              0.4444444444444444,
              "#bd3786"
             ],
             [
              0.5555555555555556,
              "#d8576b"
             ],
             [
              0.6666666666666666,
              "#ed7953"
             ],
             [
              0.7777777777777778,
              "#fb9f3a"
             ],
             [
              0.8888888888888888,
              "#fdca26"
             ],
             [
              1,
              "#f0f921"
             ]
            ],
            "type": "heatmapgl"
           }
          ],
          "histogram": [
           {
            "marker": {
             "pattern": {
              "fillmode": "overlay",
              "size": 10,
              "solidity": 0.2
             }
            },
            "type": "histogram"
           }
          ],
          "histogram2d": [
           {
            "colorbar": {
             "outlinewidth": 0,
             "ticks": ""
            },
            "colorscale": [
             [
              0,
              "#0d0887"
             ],
             [
              0.1111111111111111,
              "#46039f"
             ],
             [
              0.2222222222222222,
              "#7201a8"
             ],
             [
              0.3333333333333333,
              "#9c179e"
             ],
             [
              0.4444444444444444,
              "#bd3786"
             ],
             [
              0.5555555555555556,
              "#d8576b"
             ],
             [
              0.6666666666666666,
              "#ed7953"
             ],
             [
              0.7777777777777778,
              "#fb9f3a"
             ],
             [
              0.8888888888888888,
              "#fdca26"
             ],
             [
              1,
              "#f0f921"
             ]
            ],
            "type": "histogram2d"
           }
          ],
          "histogram2dcontour": [
           {
            "colorbar": {
             "outlinewidth": 0,
             "ticks": ""
            },
            "colorscale": [
             [
              0,
              "#0d0887"
             ],
             [
              0.1111111111111111,
              "#46039f"
             ],
             [
              0.2222222222222222,
              "#7201a8"
             ],
             [
              0.3333333333333333,
              "#9c179e"
             ],
             [
              0.4444444444444444,
              "#bd3786"
             ],
             [
              0.5555555555555556,
              "#d8576b"
             ],
             [
              0.6666666666666666,
              "#ed7953"
             ],
             [
              0.7777777777777778,
              "#fb9f3a"
             ],
             [
              0.8888888888888888,
              "#fdca26"
             ],
             [
              1,
              "#f0f921"
             ]
            ],
            "type": "histogram2dcontour"
           }
          ],
          "mesh3d": [
           {
            "colorbar": {
             "outlinewidth": 0,
             "ticks": ""
            },
            "type": "mesh3d"
           }
          ],
          "parcoords": [
           {
            "line": {
             "colorbar": {
              "outlinewidth": 0,
              "ticks": ""
             }
            },
            "type": "parcoords"
           }
          ],
          "pie": [
           {
            "automargin": true,
            "type": "pie"
           }
          ],
          "scatter": [
           {
            "fillpattern": {
             "fillmode": "overlay",
             "size": 10,
             "solidity": 0.2
            },
            "type": "scatter"
           }
          ],
          "scatter3d": [
           {
            "line": {
             "colorbar": {
              "outlinewidth": 0,
              "ticks": ""
             }
            },
            "marker": {
             "colorbar": {
              "outlinewidth": 0,
              "ticks": ""
             }
            },
            "type": "scatter3d"
           }
          ],
          "scattercarpet": [
           {
            "marker": {
             "colorbar": {
              "outlinewidth": 0,
              "ticks": ""
             }
            },
            "type": "scattercarpet"
           }
          ],
          "scattergeo": [
           {
            "marker": {
             "colorbar": {
              "outlinewidth": 0,
              "ticks": ""
             }
            },
            "type": "scattergeo"
           }
          ],
          "scattergl": [
           {
            "marker": {
             "colorbar": {
              "outlinewidth": 0,
              "ticks": ""
             }
            },
            "type": "scattergl"
           }
          ],
          "scattermapbox": [
           {
            "marker": {
             "colorbar": {
              "outlinewidth": 0,
              "ticks": ""
             }
            },
            "type": "scattermapbox"
           }
          ],
          "scatterpolar": [
           {
            "marker": {
             "colorbar": {
              "outlinewidth": 0,
              "ticks": ""
             }
            },
            "type": "scatterpolar"
           }
          ],
          "scatterpolargl": [
           {
            "marker": {
             "colorbar": {
              "outlinewidth": 0,
              "ticks": ""
             }
            },
            "type": "scatterpolargl"
           }
          ],
          "scatterternary": [
           {
            "marker": {
             "colorbar": {
              "outlinewidth": 0,
              "ticks": ""
             }
            },
            "type": "scatterternary"
           }
          ],
          "surface": [
           {
            "colorbar": {
             "outlinewidth": 0,
             "ticks": ""
            },
            "colorscale": [
             [
              0,
              "#0d0887"
             ],
             [
              0.1111111111111111,
              "#46039f"
             ],
             [
              0.2222222222222222,
              "#7201a8"
             ],
             [
              0.3333333333333333,
              "#9c179e"
             ],
             [
              0.4444444444444444,
              "#bd3786"
             ],
             [
              0.5555555555555556,
              "#d8576b"
             ],
             [
              0.6666666666666666,
              "#ed7953"
             ],
             [
              0.7777777777777778,
              "#fb9f3a"
             ],
             [
              0.8888888888888888,
              "#fdca26"
             ],
             [
              1,
              "#f0f921"
             ]
            ],
            "type": "surface"
           }
          ],
          "table": [
           {
            "cells": {
             "fill": {
              "color": "#EBF0F8"
             },
             "line": {
              "color": "white"
             }
            },
            "header": {
             "fill": {
              "color": "#C8D4E3"
             },
             "line": {
              "color": "white"
             }
            },
            "type": "table"
           }
          ]
         },
         "layout": {
          "annotationdefaults": {
           "arrowcolor": "#2a3f5f",
           "arrowhead": 0,
           "arrowwidth": 1
          },
          "autotypenumbers": "strict",
          "coloraxis": {
           "colorbar": {
            "outlinewidth": 0,
            "ticks": ""
           }
          },
          "colorscale": {
           "diverging": [
            [
             0,
             "#8e0152"
            ],
            [
             0.1,
             "#c51b7d"
            ],
            [
             0.2,
             "#de77ae"
            ],
            [
             0.3,
             "#f1b6da"
            ],
            [
             0.4,
             "#fde0ef"
            ],
            [
             0.5,
             "#f7f7f7"
            ],
            [
             0.6,
             "#e6f5d0"
            ],
            [
             0.7,
             "#b8e186"
            ],
            [
             0.8,
             "#7fbc41"
            ],
            [
             0.9,
             "#4d9221"
            ],
            [
             1,
             "#276419"
            ]
           ],
           "sequential": [
            [
             0,
             "#0d0887"
            ],
            [
             0.1111111111111111,
             "#46039f"
            ],
            [
             0.2222222222222222,
             "#7201a8"
            ],
            [
             0.3333333333333333,
             "#9c179e"
            ],
            [
             0.4444444444444444,
             "#bd3786"
            ],
            [
             0.5555555555555556,
             "#d8576b"
            ],
            [
             0.6666666666666666,
             "#ed7953"
            ],
            [
             0.7777777777777778,
             "#fb9f3a"
            ],
            [
             0.8888888888888888,
             "#fdca26"
            ],
            [
             1,
             "#f0f921"
            ]
           ],
           "sequentialminus": [
            [
             0,
             "#0d0887"
            ],
            [
             0.1111111111111111,
             "#46039f"
            ],
            [
             0.2222222222222222,
             "#7201a8"
            ],
            [
             0.3333333333333333,
             "#9c179e"
            ],
            [
             0.4444444444444444,
             "#bd3786"
            ],
            [
             0.5555555555555556,
             "#d8576b"
            ],
            [
             0.6666666666666666,
             "#ed7953"
            ],
            [
             0.7777777777777778,
             "#fb9f3a"
            ],
            [
             0.8888888888888888,
             "#fdca26"
            ],
            [
             1,
             "#f0f921"
            ]
           ]
          },
          "colorway": [
           "#636efa",
           "#EF553B",
           "#00cc96",
           "#ab63fa",
           "#FFA15A",
           "#19d3f3",
           "#FF6692",
           "#B6E880",
           "#FF97FF",
           "#FECB52"
          ],
          "font": {
           "color": "#2a3f5f"
          },
          "geo": {
           "bgcolor": "white",
           "lakecolor": "white",
           "landcolor": "#E5ECF6",
           "showlakes": true,
           "showland": true,
           "subunitcolor": "white"
          },
          "hoverlabel": {
           "align": "left"
          },
          "hovermode": "closest",
          "mapbox": {
           "style": "light"
          },
          "paper_bgcolor": "white",
          "plot_bgcolor": "#E5ECF6",
          "polar": {
           "angularaxis": {
            "gridcolor": "white",
            "linecolor": "white",
            "ticks": ""
           },
           "bgcolor": "#E5ECF6",
           "radialaxis": {
            "gridcolor": "white",
            "linecolor": "white",
            "ticks": ""
           }
          },
          "scene": {
           "xaxis": {
            "backgroundcolor": "#E5ECF6",
            "gridcolor": "white",
            "gridwidth": 2,
            "linecolor": "white",
            "showbackground": true,
            "ticks": "",
            "zerolinecolor": "white"
           },
           "yaxis": {
            "backgroundcolor": "#E5ECF6",
            "gridcolor": "white",
            "gridwidth": 2,
            "linecolor": "white",
            "showbackground": true,
            "ticks": "",
            "zerolinecolor": "white"
           },
           "zaxis": {
            "backgroundcolor": "#E5ECF6",
            "gridcolor": "white",
            "gridwidth": 2,
            "linecolor": "white",
            "showbackground": true,
            "ticks": "",
            "zerolinecolor": "white"
           }
          },
          "shapedefaults": {
           "line": {
            "color": "#2a3f5f"
           }
          },
          "ternary": {
           "aaxis": {
            "gridcolor": "white",
            "linecolor": "white",
            "ticks": ""
           },
           "baxis": {
            "gridcolor": "white",
            "linecolor": "white",
            "ticks": ""
           },
           "bgcolor": "#E5ECF6",
           "caxis": {
            "gridcolor": "white",
            "linecolor": "white",
            "ticks": ""
           }
          },
          "title": {
           "x": 0.05
          },
          "xaxis": {
           "automargin": true,
           "gridcolor": "white",
           "linecolor": "white",
           "ticks": "",
           "title": {
            "standoff": 15
           },
           "zerolinecolor": "white",
           "zerolinewidth": 2
          },
          "yaxis": {
           "automargin": true,
           "gridcolor": "white",
           "linecolor": "white",
           "ticks": "",
           "title": {
            "standoff": 15
           },
           "zerolinecolor": "white",
           "zerolinewidth": 2
          }
         }
        },
        "title": {
         "text": "Happiness Score and GDP per capita"
        }
       }
      },
      "text/html": [
       "<div>                            <div id=\"6092f091-4c9c-4d98-82d5-73cd93204fc5\" class=\"plotly-graph-div\" style=\"height:525px; width:100%;\"></div>            <script type=\"text/javascript\">                require([\"plotly\"], function(Plotly) {                    window.PLOTLYENV=window.PLOTLYENV || {};                                    if (document.getElementById(\"6092f091-4c9c-4d98-82d5-73cd93204fc5\")) {                    Plotly.newPlot(                        \"6092f091-4c9c-4d98-82d5-73cd93204fc5\",                        [{\"autocolorscale\":false,\"colorbar\":{\"title\":{\"text\":\"Happiness Rank\"}},\"colorscale\":[[0.0,\"rgb(247, 254, 174)\"],[0.16666666666666666,\"rgb(183, 230, 165)\"],[0.3333333333333333,\"rgb(124, 203, 162)\"],[0.5,\"rgb(70, 174, 160)\"],[0.6666666666666666,\"rgb(8, 144, 153)\"],[0.8333333333333334,\"rgb(0, 113, 139)\"],[1.0,\"rgb(4, 82, 117)\"]],\"locationmode\":\"country names\",\"locations\":[\"Finland\",\"Denmark\",\"Switzerland\",\"Iceland\",\"Norway\",\"Netherlands\",\"Sweden\",\"New Zealand\",\"Canada\",\"Australia\",\"Israel\",\"Austria\",\"Costa Rica\",\"Luxembourg\",\"Ireland\",\"United States\",\"Germany\",\"United Kingdom\",\"Belgium\",\"Czech Republic\",\"United Arab Emirates\",\"Mexico\",\"France\",\"Brazil\",\"Malta\",\"Singapore\",\"Chile\",\"Qatar\",\"Taiwan\",\"Panama\",\"Uruguay\",\"Saudi Arabia\",\"Spain\",\"Guatemala\",\"Argentina\",\"Colombia\",\"Bahrain\",\"Thailand\",\"Trinidad and Tobago\",\"Slovakia\",\"Italy\",\"Kuwait\",\"El Salvador\",\"Uzbekistan\",\"Slovenia\",\"Poland\",\"Lithuania\",\"Nicaragua\",\"Ecuador\",\"Japan\",\"Kazakhstan\",\"South Korea\",\"Cyprus\",\"Kosovo\",\"Bolivia\",\"Jamaica\",\"Romania\",\"Estonia\",\"Peru\",\"Moldova\",\"Mauritius\",\"Latvia\",\"Russia\",\"Paraguay\",\"Malaysia\",\"Croatia\",\"Belarus\",\"Serbia\",\"Libya\",\"Philippines\",\"Portugal\",\"Hungary\",\"Hong Kong\",\"Honduras\",\"Turkmenistan\",\"Venezuela\",\"Algeria\",\"Montenegro\",\"Bosnia and Herzegovina\",\"Kyrgyzstan\",\"Indonesia\",\"Turkey\",\"Greece\",\"Dominican Republic\",\"Pakistan\",\"Vietnam\",\"China\",\"Azerbaijan\",\"Mongolia\",\"Tajikistan\",\"Macedonia\",\"Bhutan\",\"Nigeria\",\"Morocco\",\"Jordan\",\"Somalia\",\"Lebanon\",\"Nepal\",\"Laos\",\"Albania\",\"Bulgaria\",\"South Africa\",\"Cameroon\",\"Gambia\",\"Ghana\",\"Mozambique\",\"Bangladesh\",\"Palestinian Territories\",\"Iran\",\"Tunisia\",\"Armenia\",\"Iraq\",\"Republic of the Congo\",\"Namibia\",\"Senegal\",\"Kenya\",\"Ivory Coast\",\"Ukraine\",\"Georgia\",\"Gabon\",\"Swaziland\",\"Zambia\",\"Democratic Republic of the Congo\",\"Myanmar\",\"Niger\",\"Cambodia\",\"Ethiopia\",\"Mauritania\",\"Sierra Leone\",\"Sri Lanka\",\"Egypt\",\"Mali\",\"Burkina Faso\",\"Benin\",\"Uganda\",\"Liberia\",\"India\",\"Guinea\",\"Chad\",\"Comoros\",\"Lesotho\",\"Angola\",\"Madagascar\",\"Sudan\",\"Haiti\",\"Malawi\",\"Zimbabwe\",\"Botswana\",\"Yemen\",\"Togo\",\"Tanzania\",\"Rwanda\",\"Burundi\",\"Syria\",\"Afghanistan\",\"Central African Republic\"],\"marker\":{\"line\":{\"color\":\"#efefef\",\"width\":0.5}},\"reversescale\":false,\"text\":[1.38,1.42,1.49,1.41,1.53,1.43,1.42,1.34,1.4,1.41,1.31,1.42,1.06,1.67,1.5,1.48,1.42,1.37,1.4,1.29,1.53,1.09,1.36,1.03,1.32,1.62,1.18,1.75,1.39,1.19,1.14,1.44,1.32,0.82,1.12,1.0,1.4,1.06,1.27,1.26,1.33,1.54,0.83,0.73,1.29,1.23,1.26,0.68,0.93,1.35,1.2,1.34,1.3,0.89,0.78,0.86,1.17,1.26,0.97,0.75,1.12,1.21,1.21,0.88,1.22,1.18,1.09,1.02,1.08,0.81,1.25,1.23,1.48,0.67,1.05,1.0,0.99,1.08,0.95,0.57,0.93,1.18,1.22,1.02,0.66,0.74,1.02,1.06,0.94,0.48,1.01,0.82,0.7,0.8,0.9,0.07,1.03,0.45,0.72,0.96,1.11,0.98,0.52,0.34,0.63,0.18,0.55,0.65,1.07,0.93,0.88,1.01,0.67,0.91,0.45,0.51,0.58,0.87,0.9,1.09,0.79,0.55,0.06,0.5,0.13,0.56,0.31,0.58,0.31,0.95,0.93,0.38,0.33,0.4,0.32,0.12,0.73,0.3,0.35,0.33,0.46,0.81,0.26,0.5,0.31,0.14,0.37,1.06,0.44,0.26,0.43,0.33,0.04,0.69,0.36,0.03],\"z\":[1,2,3,3,4,5,6,7,8,9,10,11,12,13,14,15,16,17,18,19,19,20,21,22,23,24,25,26,27,28,29,30,31,32,33,34,35,35,36,37,38,39,40,41,42,43,43,44,45,46,47,48,48,49,50,50,51,52,53,54,54,55,56,57,58,59,60,61,61,62,63,64,65,66,67,68,69,70,71,72,73,74,75,75,76,77,78,79,80,81,82,83,84,84,85,85,85,86,87,88,89,90,91,91,92,93,93,94,95,96,97,98,99,100,101,102,102,103,103,103,104,104,105,105,106,107,107,108,108,109,110,111,112,113,114,115,115,116,117,118,119,120,121,122,123,124,124,125,126,127,128,129,130,131,132,133],\"type\":\"choropleth\"}],                        {\"template\":{\"data\":{\"histogram2dcontour\":[{\"type\":\"histogram2dcontour\",\"colorbar\":{\"outlinewidth\":0,\"ticks\":\"\"},\"colorscale\":[[0.0,\"#0d0887\"],[0.1111111111111111,\"#46039f\"],[0.2222222222222222,\"#7201a8\"],[0.3333333333333333,\"#9c179e\"],[0.4444444444444444,\"#bd3786\"],[0.5555555555555556,\"#d8576b\"],[0.6666666666666666,\"#ed7953\"],[0.7777777777777778,\"#fb9f3a\"],[0.8888888888888888,\"#fdca26\"],[1.0,\"#f0f921\"]]}],\"choropleth\":[{\"type\":\"choropleth\",\"colorbar\":{\"outlinewidth\":0,\"ticks\":\"\"}}],\"histogram2d\":[{\"type\":\"histogram2d\",\"colorbar\":{\"outlinewidth\":0,\"ticks\":\"\"},\"colorscale\":[[0.0,\"#0d0887\"],[0.1111111111111111,\"#46039f\"],[0.2222222222222222,\"#7201a8\"],[0.3333333333333333,\"#9c179e\"],[0.4444444444444444,\"#bd3786\"],[0.5555555555555556,\"#d8576b\"],[0.6666666666666666,\"#ed7953\"],[0.7777777777777778,\"#fb9f3a\"],[0.8888888888888888,\"#fdca26\"],[1.0,\"#f0f921\"]]}],\"heatmap\":[{\"type\":\"heatmap\",\"colorbar\":{\"outlinewidth\":0,\"ticks\":\"\"},\"colorscale\":[[0.0,\"#0d0887\"],[0.1111111111111111,\"#46039f\"],[0.2222222222222222,\"#7201a8\"],[0.3333333333333333,\"#9c179e\"],[0.4444444444444444,\"#bd3786\"],[0.5555555555555556,\"#d8576b\"],[0.6666666666666666,\"#ed7953\"],[0.7777777777777778,\"#fb9f3a\"],[0.8888888888888888,\"#fdca26\"],[1.0,\"#f0f921\"]]}],\"heatmapgl\":[{\"type\":\"heatmapgl\",\"colorbar\":{\"outlinewidth\":0,\"ticks\":\"\"},\"colorscale\":[[0.0,\"#0d0887\"],[0.1111111111111111,\"#46039f\"],[0.2222222222222222,\"#7201a8\"],[0.3333333333333333,\"#9c179e\"],[0.4444444444444444,\"#bd3786\"],[0.5555555555555556,\"#d8576b\"],[0.6666666666666666,\"#ed7953\"],[0.7777777777777778,\"#fb9f3a\"],[0.8888888888888888,\"#fdca26\"],[1.0,\"#f0f921\"]]}],\"contourcarpet\":[{\"type\":\"contourcarpet\",\"colorbar\":{\"outlinewidth\":0,\"ticks\":\"\"}}],\"contour\":[{\"type\":\"contour\",\"colorbar\":{\"outlinewidth\":0,\"ticks\":\"\"},\"colorscale\":[[0.0,\"#0d0887\"],[0.1111111111111111,\"#46039f\"],[0.2222222222222222,\"#7201a8\"],[0.3333333333333333,\"#9c179e\"],[0.4444444444444444,\"#bd3786\"],[0.5555555555555556,\"#d8576b\"],[0.6666666666666666,\"#ed7953\"],[0.7777777777777778,\"#fb9f3a\"],[0.8888888888888888,\"#fdca26\"],[1.0,\"#f0f921\"]]}],\"surface\":[{\"type\":\"surface\",\"colorbar\":{\"outlinewidth\":0,\"ticks\":\"\"},\"colorscale\":[[0.0,\"#0d0887\"],[0.1111111111111111,\"#46039f\"],[0.2222222222222222,\"#7201a8\"],[0.3333333333333333,\"#9c179e\"],[0.4444444444444444,\"#bd3786\"],[0.5555555555555556,\"#d8576b\"],[0.6666666666666666,\"#ed7953\"],[0.7777777777777778,\"#fb9f3a\"],[0.8888888888888888,\"#fdca26\"],[1.0,\"#f0f921\"]]}],\"mesh3d\":[{\"type\":\"mesh3d\",\"colorbar\":{\"outlinewidth\":0,\"ticks\":\"\"}}],\"scatter\":[{\"fillpattern\":{\"fillmode\":\"overlay\",\"size\":10,\"solidity\":0.2},\"type\":\"scatter\"}],\"parcoords\":[{\"type\":\"parcoords\",\"line\":{\"colorbar\":{\"outlinewidth\":0,\"ticks\":\"\"}}}],\"scatterpolargl\":[{\"type\":\"scatterpolargl\",\"marker\":{\"colorbar\":{\"outlinewidth\":0,\"ticks\":\"\"}}}],\"bar\":[{\"error_x\":{\"color\":\"#2a3f5f\"},\"error_y\":{\"color\":\"#2a3f5f\"},\"marker\":{\"line\":{\"color\":\"#E5ECF6\",\"width\":0.5},\"pattern\":{\"fillmode\":\"overlay\",\"size\":10,\"solidity\":0.2}},\"type\":\"bar\"}],\"scattergeo\":[{\"type\":\"scattergeo\",\"marker\":{\"colorbar\":{\"outlinewidth\":0,\"ticks\":\"\"}}}],\"scatterpolar\":[{\"type\":\"scatterpolar\",\"marker\":{\"colorbar\":{\"outlinewidth\":0,\"ticks\":\"\"}}}],\"histogram\":[{\"marker\":{\"pattern\":{\"fillmode\":\"overlay\",\"size\":10,\"solidity\":0.2}},\"type\":\"histogram\"}],\"scattergl\":[{\"type\":\"scattergl\",\"marker\":{\"colorbar\":{\"outlinewidth\":0,\"ticks\":\"\"}}}],\"scatter3d\":[{\"type\":\"scatter3d\",\"line\":{\"colorbar\":{\"outlinewidth\":0,\"ticks\":\"\"}},\"marker\":{\"colorbar\":{\"outlinewidth\":0,\"ticks\":\"\"}}}],\"scattermapbox\":[{\"type\":\"scattermapbox\",\"marker\":{\"colorbar\":{\"outlinewidth\":0,\"ticks\":\"\"}}}],\"scatterternary\":[{\"type\":\"scatterternary\",\"marker\":{\"colorbar\":{\"outlinewidth\":0,\"ticks\":\"\"}}}],\"scattercarpet\":[{\"type\":\"scattercarpet\",\"marker\":{\"colorbar\":{\"outlinewidth\":0,\"ticks\":\"\"}}}],\"carpet\":[{\"aaxis\":{\"endlinecolor\":\"#2a3f5f\",\"gridcolor\":\"white\",\"linecolor\":\"white\",\"minorgridcolor\":\"white\",\"startlinecolor\":\"#2a3f5f\"},\"baxis\":{\"endlinecolor\":\"#2a3f5f\",\"gridcolor\":\"white\",\"linecolor\":\"white\",\"minorgridcolor\":\"white\",\"startlinecolor\":\"#2a3f5f\"},\"type\":\"carpet\"}],\"table\":[{\"cells\":{\"fill\":{\"color\":\"#EBF0F8\"},\"line\":{\"color\":\"white\"}},\"header\":{\"fill\":{\"color\":\"#C8D4E3\"},\"line\":{\"color\":\"white\"}},\"type\":\"table\"}],\"barpolar\":[{\"marker\":{\"line\":{\"color\":\"#E5ECF6\",\"width\":0.5},\"pattern\":{\"fillmode\":\"overlay\",\"size\":10,\"solidity\":0.2}},\"type\":\"barpolar\"}],\"pie\":[{\"automargin\":true,\"type\":\"pie\"}]},\"layout\":{\"autotypenumbers\":\"strict\",\"colorway\":[\"#636efa\",\"#EF553B\",\"#00cc96\",\"#ab63fa\",\"#FFA15A\",\"#19d3f3\",\"#FF6692\",\"#B6E880\",\"#FF97FF\",\"#FECB52\"],\"font\":{\"color\":\"#2a3f5f\"},\"hovermode\":\"closest\",\"hoverlabel\":{\"align\":\"left\"},\"paper_bgcolor\":\"white\",\"plot_bgcolor\":\"#E5ECF6\",\"polar\":{\"bgcolor\":\"#E5ECF6\",\"angularaxis\":{\"gridcolor\":\"white\",\"linecolor\":\"white\",\"ticks\":\"\"},\"radialaxis\":{\"gridcolor\":\"white\",\"linecolor\":\"white\",\"ticks\":\"\"}},\"ternary\":{\"bgcolor\":\"#E5ECF6\",\"aaxis\":{\"gridcolor\":\"white\",\"linecolor\":\"white\",\"ticks\":\"\"},\"baxis\":{\"gridcolor\":\"white\",\"linecolor\":\"white\",\"ticks\":\"\"},\"caxis\":{\"gridcolor\":\"white\",\"linecolor\":\"white\",\"ticks\":\"\"}},\"coloraxis\":{\"colorbar\":{\"outlinewidth\":0,\"ticks\":\"\"}},\"colorscale\":{\"sequential\":[[0.0,\"#0d0887\"],[0.1111111111111111,\"#46039f\"],[0.2222222222222222,\"#7201a8\"],[0.3333333333333333,\"#9c179e\"],[0.4444444444444444,\"#bd3786\"],[0.5555555555555556,\"#d8576b\"],[0.6666666666666666,\"#ed7953\"],[0.7777777777777778,\"#fb9f3a\"],[0.8888888888888888,\"#fdca26\"],[1.0,\"#f0f921\"]],\"sequentialminus\":[[0.0,\"#0d0887\"],[0.1111111111111111,\"#46039f\"],[0.2222222222222222,\"#7201a8\"],[0.3333333333333333,\"#9c179e\"],[0.4444444444444444,\"#bd3786\"],[0.5555555555555556,\"#d8576b\"],[0.6666666666666666,\"#ed7953\"],[0.7777777777777778,\"#fb9f3a\"],[0.8888888888888888,\"#fdca26\"],[1.0,\"#f0f921\"]],\"diverging\":[[0,\"#8e0152\"],[0.1,\"#c51b7d\"],[0.2,\"#de77ae\"],[0.3,\"#f1b6da\"],[0.4,\"#fde0ef\"],[0.5,\"#f7f7f7\"],[0.6,\"#e6f5d0\"],[0.7,\"#b8e186\"],[0.8,\"#7fbc41\"],[0.9,\"#4d9221\"],[1,\"#276419\"]]},\"xaxis\":{\"gridcolor\":\"white\",\"linecolor\":\"white\",\"ticks\":\"\",\"title\":{\"standoff\":15},\"zerolinecolor\":\"white\",\"automargin\":true,\"zerolinewidth\":2},\"yaxis\":{\"gridcolor\":\"white\",\"linecolor\":\"white\",\"ticks\":\"\",\"title\":{\"standoff\":15},\"zerolinecolor\":\"white\",\"automargin\":true,\"zerolinewidth\":2},\"scene\":{\"xaxis\":{\"backgroundcolor\":\"#E5ECF6\",\"gridcolor\":\"white\",\"linecolor\":\"white\",\"showbackground\":true,\"ticks\":\"\",\"zerolinecolor\":\"white\",\"gridwidth\":2},\"yaxis\":{\"backgroundcolor\":\"#E5ECF6\",\"gridcolor\":\"white\",\"linecolor\":\"white\",\"showbackground\":true,\"ticks\":\"\",\"zerolinecolor\":\"white\",\"gridwidth\":2},\"zaxis\":{\"backgroundcolor\":\"#E5ECF6\",\"gridcolor\":\"white\",\"linecolor\":\"white\",\"showbackground\":true,\"ticks\":\"\",\"zerolinecolor\":\"white\",\"gridwidth\":2}},\"shapedefaults\":{\"line\":{\"color\":\"#2a3f5f\"}},\"annotationdefaults\":{\"arrowcolor\":\"#2a3f5f\",\"arrowhead\":0,\"arrowwidth\":1},\"geo\":{\"bgcolor\":\"white\",\"landcolor\":\"#E5ECF6\",\"subunitcolor\":\"white\",\"showland\":true,\"showlakes\":true,\"lakecolor\":\"white\"},\"title\":{\"x\":0.05},\"mapbox\":{\"style\":\"light\"}}},\"title\":{\"text\":\"Happiness Score and GDP per capita\"},\"geo\":{\"projection\":{\"type\":\"miller\"},\"scope\":\"world\",\"resolution\":50,\"showcoastlines\":true,\"showocean\":true,\"showcountries\":true,\"oceancolor\":\"#eaeaea\",\"lakecolor\":\"#eaeaea\",\"coastlinecolor\":\"#dadada\"},\"showlegend\":false},                        {\"responsive\": true}                    ).then(function(){\n",
       "                            \n",
       "var gd = document.getElementById('6092f091-4c9c-4d98-82d5-73cd93204fc5');\n",
       "var x = new MutationObserver(function (mutations, observer) {{\n",
       "        var display = window.getComputedStyle(gd).display;\n",
       "        if (!display || display === 'none') {{\n",
       "            console.log([gd, 'removed!']);\n",
       "            Plotly.purge(gd);\n",
       "            observer.disconnect();\n",
       "        }}\n",
       "}});\n",
       "\n",
       "// Listen for the removal of the full notebook cells\n",
       "var notebookContainer = gd.closest('#notebook-container');\n",
       "if (notebookContainer) {{\n",
       "    x.observe(notebookContainer, {childList: true});\n",
       "}}\n",
       "\n",
       "// Listen for the clearing of the current output cell\n",
       "var outputEl = gd.closest('.output');\n",
       "if (outputEl) {{\n",
       "    x.observe(outputEl, {childList: true});\n",
       "}}\n",
       "\n",
       "                        })                };                });            </script>        </div>"
      ]
     },
     "metadata": {},
     "output_type": "display_data"
    }
   ],
   "source": [
    "\n",
    "import plotly.graph_objects as go\n",
    "import plotly.offline as opy\n",
    "\n",
    "fig = go.Figure(go.Choropleth(\n",
    "    locations = df['Country'],\n",
    "    locationmode = \"country names\",\n",
    "    z = df['Mean Rank'],\n",
    "    text = df['Mean GDP per Capita'],\n",
    "    colorscale = 'bluyl',\n",
    "    autocolorscale = False,\n",
    "    reversescale = False,\n",
    "    marker_line_color = '#efefef',\n",
    "    marker_line_width = 0.5,\n",
    "    colorbar_title = 'Happiness Rank',       \n",
    "    )\n",
    ")\n",
    "fig.update_layout(\n",
    "    title_text = 'Happiness Score and GDP per capita',\n",
    "    showlegend = False,\n",
    "    geo = dict(\n",
    "        scope = 'world',\n",
    "        resolution = 50,\n",
    "        projection_type = 'miller',\n",
    "        showcoastlines = True,\n",
    "        showocean = True,\n",
    "        showcountries = True,\n",
    "        oceancolor = '#eaeaea',\n",
    "        lakecolor = '#eaeaea',\n",
    "        coastlinecolor = '#dadada'\n",
    "    )\n",
    ")\n",
    "fig.show()"
   ]
  },
  {
   "cell_type": "code",
   "execution_count": 118,
   "id": "9f95386c",
   "metadata": {},
   "outputs": [],
   "source": [
    "def happiness_GDP(df):\n",
    "    fig = px.scatter(df, x='Mean GDP per Capita', y='Mean Happiness Score', size='Population',\n",
    "                 color='Country', hover_name='Population', log_x=True, size_max=60)\n",
    "\n",
    "    fig.update_layout(title='Comparación de la Felicidad y el PIB per cápita por País',\n",
    "                  xaxis_title='PIB per cápita (USD)',\n",
    "                  yaxis_title='Puntuación de Felicidad',\n",
    "                  legend_title='Country')\n",
    "\n",
    "    fig.show()"
   ]
  },
  {
   "cell_type": "code",
   "execution_count": 119,
   "id": "f61dcfe4",
   "metadata": {},
   "outputs": [
    {
     "data": {
      "application/vnd.plotly.v1+json": {
       "config": {
        "plotlyServerURL": "https://plot.ly"
       },
       "data": [
        {
         "hovertemplate": "<b>%{hovertext}</b><br><br>Country=Finland<br>Mean GDP per Capita=%{x}<br>Mean Happiness Score=%{y}<br>Population=%{marker.size}<extra></extra>",
         "hovertext": [
          5521606
         ],
         "legendgroup": "Finland",
         "marker": {
          "color": "#636efa",
          "size": [
           5521606
          ],
          "sizemode": "area",
          "sizeref": 391040.27777777775,
          "symbol": "circle"
         },
         "mode": "markers",
         "name": "Finland",
         "orientation": "v",
         "showlegend": true,
         "type": "scatter",
         "x": [
          1.38
         ],
         "xaxis": "x",
         "y": [
          7.62
         ],
         "yaxis": "y"
        },
        {
         "hovertemplate": "<b>%{hovertext}</b><br><br>Country=Denmark<br>Mean GDP per Capita=%{x}<br>Mean Happiness Score=%{y}<br>Population=%{marker.size}<extra></extra>",
         "hovertext": [
          5814422
         ],
         "legendgroup": "Denmark",
         "marker": {
          "color": "#EF553B",
          "size": [
           5814422
          ],
          "sizemode": "area",
          "sizeref": 391040.27777777775,
          "symbol": "circle"
         },
         "mode": "markers",
         "name": "Denmark",
         "orientation": "v",
         "showlegend": true,
         "type": "scatter",
         "x": [
          1.42
         ],
         "xaxis": "x",
         "y": [
          7.57
         ],
         "yaxis": "y"
        },
        {
         "hovertemplate": "<b>%{hovertext}</b><br><br>Country=Switzerland<br>Mean GDP per Capita=%{x}<br>Mean Happiness Score=%{y}<br>Population=%{marker.size}<extra></extra>",
         "hovertext": [
          8575280
         ],
         "legendgroup": "Switzerland",
         "marker": {
          "color": "#00cc96",
          "size": [
           8575280
          ],
          "sizemode": "area",
          "sizeref": 391040.27777777775,
          "symbol": "circle"
         },
         "mode": "markers",
         "name": "Switzerland",
         "orientation": "v",
         "showlegend": true,
         "type": "scatter",
         "x": [
          1.49
         ],
         "xaxis": "x",
         "y": [
          7.53
         ],
         "yaxis": "y"
        },
        {
         "hovertemplate": "<b>%{hovertext}</b><br><br>Country=Iceland<br>Mean GDP per Capita=%{x}<br>Mean Happiness Score=%{y}<br>Population=%{marker.size}<extra></extra>",
         "hovertext": [
          360563
         ],
         "legendgroup": "Iceland",
         "marker": {
          "color": "#ab63fa",
          "size": [
           360563
          ],
          "sizemode": "area",
          "sizeref": 391040.27777777775,
          "symbol": "circle"
         },
         "mode": "markers",
         "name": "Iceland",
         "orientation": "v",
         "showlegend": true,
         "type": "scatter",
         "x": [
          1.41
         ],
         "xaxis": "x",
         "y": [
          7.53
         ],
         "yaxis": "y"
        },
        {
         "hovertemplate": "<b>%{hovertext}</b><br><br>Country=Norway<br>Mean GDP per Capita=%{x}<br>Mean Happiness Score=%{y}<br>Population=%{marker.size}<extra></extra>",
         "hovertext": [
          5347896
         ],
         "legendgroup": "Norway",
         "marker": {
          "color": "#FFA15A",
          "size": [
           5347896
          ],
          "sizemode": "area",
          "sizeref": 391040.27777777775,
          "symbol": "circle"
         },
         "mode": "markers",
         "name": "Norway",
         "orientation": "v",
         "showlegend": true,
         "type": "scatter",
         "x": [
          1.53
         ],
         "xaxis": "x",
         "y": [
          7.5
         ],
         "yaxis": "y"
        },
        {
         "hovertemplate": "<b>%{hovertext}</b><br><br>Country=Netherlands<br>Mean GDP per Capita=%{x}<br>Mean Happiness Score=%{y}<br>Population=%{marker.size}<extra></extra>",
         "hovertext": [
          17344874
         ],
         "legendgroup": "Netherlands",
         "marker": {
          "color": "#19d3f3",
          "size": [
           17344874
          ],
          "sizemode": "area",
          "sizeref": 391040.27777777775,
          "symbol": "circle"
         },
         "mode": "markers",
         "name": "Netherlands",
         "orientation": "v",
         "showlegend": true,
         "type": "scatter",
         "x": [
          1.43
         ],
         "xaxis": "x",
         "y": [
          7.43
         ],
         "yaxis": "y"
        },
        {
         "hovertemplate": "<b>%{hovertext}</b><br><br>Country=Sweden<br>Mean GDP per Capita=%{x}<br>Mean Happiness Score=%{y}<br>Population=%{marker.size}<extra></extra>",
         "hovertext": [
          10278887
         ],
         "legendgroup": "Sweden",
         "marker": {
          "color": "#FF6692",
          "size": [
           10278887
          ],
          "sizemode": "area",
          "sizeref": 391040.27777777775,
          "symbol": "circle"
         },
         "mode": "markers",
         "name": "Sweden",
         "orientation": "v",
         "showlegend": true,
         "type": "scatter",
         "x": [
          1.42
         ],
         "xaxis": "x",
         "y": [
          7.34
         ],
         "yaxis": "y"
        },
        {
         "hovertemplate": "<b>%{hovertext}</b><br><br>Country=New Zealand<br>Mean GDP per Capita=%{x}<br>Mean Happiness Score=%{y}<br>Population=%{marker.size}<extra></extra>",
         "hovertext": [
          4979200
         ],
         "legendgroup": "New Zealand",
         "marker": {
          "color": "#B6E880",
          "size": [
           4979200
          ],
          "sizemode": "area",
          "sizeref": 391040.27777777775,
          "symbol": "circle"
         },
         "mode": "markers",
         "name": "New Zealand",
         "orientation": "v",
         "showlegend": true,
         "type": "scatter",
         "x": [
          1.34
         ],
         "xaxis": "x",
         "y": [
          7.3
         ],
         "yaxis": "y"
        },
        {
         "hovertemplate": "<b>%{hovertext}</b><br><br>Country=Canada<br>Mean GDP per Capita=%{x}<br>Mean Happiness Score=%{y}<br>Population=%{marker.size}<extra></extra>",
         "hovertext": [
          37601230
         ],
         "legendgroup": "Canada",
         "marker": {
          "color": "#FF97FF",
          "size": [
           37601230
          ],
          "sizemode": "area",
          "sizeref": 391040.27777777775,
          "symbol": "circle"
         },
         "mode": "markers",
         "name": "Canada",
         "orientation": "v",
         "showlegend": true,
         "type": "scatter",
         "x": [
          1.4
         ],
         "xaxis": "x",
         "y": [
          7.28
         ],
         "yaxis": "y"
        },
        {
         "hovertemplate": "<b>%{hovertext}</b><br><br>Country=Australia<br>Mean GDP per Capita=%{x}<br>Mean Happiness Score=%{y}<br>Population=%{marker.size}<extra></extra>",
         "hovertext": [
          25340217
         ],
         "legendgroup": "Australia",
         "marker": {
          "color": "#FECB52",
          "size": [
           25340217
          ],
          "sizemode": "area",
          "sizeref": 391040.27777777775,
          "symbol": "circle"
         },
         "mode": "markers",
         "name": "Australia",
         "orientation": "v",
         "showlegend": true,
         "type": "scatter",
         "x": [
          1.41
         ],
         "xaxis": "x",
         "y": [
          7.24
         ],
         "yaxis": "y"
        },
        {
         "hovertemplate": "<b>%{hovertext}</b><br><br>Country=Israel<br>Mean GDP per Capita=%{x}<br>Mean Happiness Score=%{y}<br>Population=%{marker.size}<extra></extra>",
         "hovertext": [
          9054000
         ],
         "legendgroup": "Israel",
         "marker": {
          "color": "#636efa",
          "size": [
           9054000
          ],
          "sizemode": "area",
          "sizeref": 391040.27777777775,
          "symbol": "circle"
         },
         "mode": "markers",
         "name": "Israel",
         "orientation": "v",
         "showlegend": true,
         "type": "scatter",
         "x": [
          1.31
         ],
         "xaxis": "x",
         "y": [
          7.2
         ],
         "yaxis": "y"
        },
        {
         "hovertemplate": "<b>%{hovertext}</b><br><br>Country=Austria<br>Mean GDP per Capita=%{x}<br>Mean Happiness Score=%{y}<br>Population=%{marker.size}<extra></extra>",
         "hovertext": [
          8879920
         ],
         "legendgroup": "Austria",
         "marker": {
          "color": "#EF553B",
          "size": [
           8879920
          ],
          "sizemode": "area",
          "sizeref": 391040.27777777775,
          "symbol": "circle"
         },
         "mode": "markers",
         "name": "Austria",
         "orientation": "v",
         "showlegend": true,
         "type": "scatter",
         "x": [
          1.42
         ],
         "xaxis": "x",
         "y": [
          7.18
         ],
         "yaxis": "y"
        },
        {
         "hovertemplate": "<b>%{hovertext}</b><br><br>Country=Costa Rica<br>Mean GDP per Capita=%{x}<br>Mean Happiness Score=%{y}<br>Population=%{marker.size}<extra></extra>",
         "hovertext": [
          5084532
         ],
         "legendgroup": "Costa Rica",
         "marker": {
          "color": "#00cc96",
          "size": [
           5084532
          ],
          "sizemode": "area",
          "sizeref": 391040.27777777775,
          "symbol": "circle"
         },
         "mode": "markers",
         "name": "Costa Rica",
         "orientation": "v",
         "showlegend": true,
         "type": "scatter",
         "x": [
          1.06
         ],
         "xaxis": "x",
         "y": [
          7.14
         ],
         "yaxis": "y"
        },
        {
         "hovertemplate": "<b>%{hovertext}</b><br><br>Country=Luxembourg<br>Mean GDP per Capita=%{x}<br>Mean Happiness Score=%{y}<br>Population=%{marker.size}<extra></extra>",
         "hovertext": [
          620001
         ],
         "legendgroup": "Luxembourg",
         "marker": {
          "color": "#ab63fa",
          "size": [
           620001
          ],
          "sizemode": "area",
          "sizeref": 391040.27777777775,
          "symbol": "circle"
         },
         "mode": "markers",
         "name": "Luxembourg",
         "orientation": "v",
         "showlegend": true,
         "type": "scatter",
         "x": [
          1.67
         ],
         "xaxis": "x",
         "y": [
          7.06
         ],
         "yaxis": "y"
        },
        {
         "hovertemplate": "<b>%{hovertext}</b><br><br>Country=Ireland<br>Mean GDP per Capita=%{x}<br>Mean Happiness Score=%{y}<br>Population=%{marker.size}<extra></extra>",
         "hovertext": [
          4934340
         ],
         "legendgroup": "Ireland",
         "marker": {
          "color": "#FFA15A",
          "size": [
           4934340
          ],
          "sizemode": "area",
          "sizeref": 391040.27777777775,
          "symbol": "circle"
         },
         "mode": "markers",
         "name": "Ireland",
         "orientation": "v",
         "showlegend": true,
         "type": "scatter",
         "x": [
          1.5
         ],
         "xaxis": "x",
         "y": [
          7.01
         ],
         "yaxis": "y"
        },
        {
         "hovertemplate": "<b>%{hovertext}</b><br><br>Country=United States<br>Mean GDP per Capita=%{x}<br>Mean Happiness Score=%{y}<br>Population=%{marker.size}<extra></extra>",
         "hovertext": [
          328329953
         ],
         "legendgroup": "United States",
         "marker": {
          "color": "#19d3f3",
          "size": [
           328329953
          ],
          "sizemode": "area",
          "sizeref": 391040.27777777775,
          "symbol": "circle"
         },
         "mode": "markers",
         "name": "United States",
         "orientation": "v",
         "showlegend": true,
         "type": "scatter",
         "x": [
          1.48
         ],
         "xaxis": "x",
         "y": [
          6.99
         ],
         "yaxis": "y"
        },
        {
         "hovertemplate": "<b>%{hovertext}</b><br><br>Country=Germany<br>Mean GDP per Capita=%{x}<br>Mean Happiness Score=%{y}<br>Population=%{marker.size}<extra></extra>",
         "hovertext": [
          83092962
         ],
         "legendgroup": "Germany",
         "marker": {
          "color": "#FF6692",
          "size": [
           83092962
          ],
          "sizemode": "area",
          "sizeref": 391040.27777777775,
          "symbol": "circle"
         },
         "mode": "markers",
         "name": "Germany",
         "orientation": "v",
         "showlegend": true,
         "type": "scatter",
         "x": [
          1.42
         ],
         "xaxis": "x",
         "y": [
          6.96
         ],
         "yaxis": "y"
        },
        {
         "hovertemplate": "<b>%{hovertext}</b><br><br>Country=United Kingdom<br>Mean GDP per Capita=%{x}<br>Mean Happiness Score=%{y}<br>Population=%{marker.size}<extra></extra>",
         "hovertext": [
          66836327
         ],
         "legendgroup": "United Kingdom",
         "marker": {
          "color": "#B6E880",
          "size": [
           66836327
          ],
          "sizemode": "area",
          "sizeref": 391040.27777777775,
          "symbol": "circle"
         },
         "mode": "markers",
         "name": "United Kingdom",
         "orientation": "v",
         "showlegend": true,
         "type": "scatter",
         "x": [
          1.37
         ],
         "xaxis": "x",
         "y": [
          6.92
         ],
         "yaxis": "y"
        },
        {
         "hovertemplate": "<b>%{hovertext}</b><br><br>Country=Belgium<br>Mean GDP per Capita=%{x}<br>Mean Happiness Score=%{y}<br>Population=%{marker.size}<extra></extra>",
         "hovertext": [
          11488980
         ],
         "legendgroup": "Belgium",
         "marker": {
          "color": "#FF97FF",
          "size": [
           11488980
          ],
          "sizemode": "area",
          "sizeref": 391040.27777777775,
          "symbol": "circle"
         },
         "mode": "markers",
         "name": "Belgium",
         "orientation": "v",
         "showlegend": true,
         "type": "scatter",
         "x": [
          1.4
         ],
         "xaxis": "x",
         "y": [
          6.9
         ],
         "yaxis": "y"
        },
        {
         "hovertemplate": "<b>%{hovertext}</b><br><br>Country=Czech Republic<br>Mean GDP per Capita=%{x}<br>Mean Happiness Score=%{y}<br>Population=%{marker.size}<extra></extra>",
         "hovertext": [
          10671870
         ],
         "legendgroup": "Czech Republic",
         "marker": {
          "color": "#FECB52",
          "size": [
           10671870
          ],
          "sizemode": "area",
          "sizeref": 391040.27777777775,
          "symbol": "circle"
         },
         "mode": "markers",
         "name": "Czech Republic",
         "orientation": "v",
         "showlegend": true,
         "type": "scatter",
         "x": [
          1.29
         ],
         "xaxis": "x",
         "y": [
          6.73
         ],
         "yaxis": "y"
        },
        {
         "hovertemplate": "<b>%{hovertext}</b><br><br>Country=United Arab Emirates<br>Mean GDP per Capita=%{x}<br>Mean Happiness Score=%{y}<br>Population=%{marker.size}<extra></extra>",
         "hovertext": [
          9211657
         ],
         "legendgroup": "United Arab Emirates",
         "marker": {
          "color": "#636efa",
          "size": [
           9211657
          ],
          "sizemode": "area",
          "sizeref": 391040.27777777775,
          "symbol": "circle"
         },
         "mode": "markers",
         "name": "United Arab Emirates",
         "orientation": "v",
         "showlegend": true,
         "type": "scatter",
         "x": [
          1.53
         ],
         "xaxis": "x",
         "y": [
          6.73
         ],
         "yaxis": "y"
        },
        {
         "hovertemplate": "<b>%{hovertext}</b><br><br>Country=Mexico<br>Mean GDP per Capita=%{x}<br>Mean Happiness Score=%{y}<br>Population=%{marker.size}<extra></extra>",
         "hovertext": [
          125085311
         ],
         "legendgroup": "Mexico",
         "marker": {
          "color": "#EF553B",
          "size": [
           125085311
          ],
          "sizemode": "area",
          "sizeref": 391040.27777777775,
          "symbol": "circle"
         },
         "mode": "markers",
         "name": "Mexico",
         "orientation": "v",
         "showlegend": true,
         "type": "scatter",
         "x": [
          1.09
         ],
         "xaxis": "x",
         "y": [
          6.67
         ],
         "yaxis": "y"
        },
        {
         "hovertemplate": "<b>%{hovertext}</b><br><br>Country=France<br>Mean GDP per Capita=%{x}<br>Mean Happiness Score=%{y}<br>Population=%{marker.size}<extra></extra>",
         "hovertext": [
          67388001
         ],
         "legendgroup": "France",
         "marker": {
          "color": "#00cc96",
          "size": [
           67388001
          ],
          "sizemode": "area",
          "sizeref": 391040.27777777775,
          "symbol": "circle"
         },
         "mode": "markers",
         "name": "France",
         "orientation": "v",
         "showlegend": true,
         "type": "scatter",
         "x": [
          1.36
         ],
         "xaxis": "x",
         "y": [
          6.57
         ],
         "yaxis": "y"
        },
        {
         "hovertemplate": "<b>%{hovertext}</b><br><br>Country=Brazil<br>Mean GDP per Capita=%{x}<br>Mean Happiness Score=%{y}<br>Population=%{marker.size}<extra></extra>",
         "hovertext": [
          211782878
         ],
         "legendgroup": "Brazil",
         "marker": {
          "color": "#ab63fa",
          "size": [
           211782878
          ],
          "sizemode": "area",
          "sizeref": 391040.27777777775,
          "symbol": "circle"
         },
         "mode": "markers",
         "name": "Brazil",
         "orientation": "v",
         "showlegend": true,
         "type": "scatter",
         "x": [
          1.03
         ],
         "xaxis": "x",
         "y": [
          6.56
         ],
         "yaxis": "y"
        },
        {
         "hovertemplate": "<b>%{hovertext}</b><br><br>Country=Malta<br>Mean GDP per Capita=%{x}<br>Mean Happiness Score=%{y}<br>Population=%{marker.size}<extra></extra>",
         "hovertext": [
          504062
         ],
         "legendgroup": "Malta",
         "marker": {
          "color": "#FFA15A",
          "size": [
           504062
          ],
          "sizemode": "area",
          "sizeref": 391040.27777777775,
          "symbol": "circle"
         },
         "mode": "markers",
         "name": "Malta",
         "orientation": "v",
         "showlegend": true,
         "type": "scatter",
         "x": [
          1.32
         ],
         "xaxis": "x",
         "y": [
          6.54
         ],
         "yaxis": "y"
        },
        {
         "hovertemplate": "<b>%{hovertext}</b><br><br>Country=Singapore<br>Mean GDP per Capita=%{x}<br>Mean Happiness Score=%{y}<br>Population=%{marker.size}<extra></extra>",
         "hovertext": [
          5703569
         ],
         "legendgroup": "Singapore",
         "marker": {
          "color": "#19d3f3",
          "size": [
           5703569
          ],
          "sizemode": "area",
          "sizeref": 391040.27777777775,
          "symbol": "circle"
         },
         "mode": "markers",
         "name": "Singapore",
         "orientation": "v",
         "showlegend": true,
         "type": "scatter",
         "x": [
          1.62
         ],
         "xaxis": "x",
         "y": [
          6.5
         ],
         "yaxis": "y"
        },
        {
         "hovertemplate": "<b>%{hovertext}</b><br><br>Country=Chile<br>Mean GDP per Capita=%{x}<br>Mean Happiness Score=%{y}<br>Population=%{marker.size}<extra></extra>",
         "hovertext": [
          19039485
         ],
         "legendgroup": "Chile",
         "marker": {
          "color": "#FF6692",
          "size": [
           19039485
          ],
          "sizemode": "area",
          "sizeref": 391040.27777777775,
          "symbol": "circle"
         },
         "mode": "markers",
         "name": "Chile",
         "orientation": "v",
         "showlegend": true,
         "type": "scatter",
         "x": [
          1.18
         ],
         "xaxis": "x",
         "y": [
          6.48
         ],
         "yaxis": "y"
        },
        {
         "hovertemplate": "<b>%{hovertext}</b><br><br>Country=Qatar<br>Mean GDP per Capita=%{x}<br>Mean Happiness Score=%{y}<br>Population=%{marker.size}<extra></extra>",
         "hovertext": [
          2807235
         ],
         "legendgroup": "Qatar",
         "marker": {
          "color": "#B6E880",
          "size": [
           2807235
          ],
          "sizemode": "area",
          "sizeref": 391040.27777777775,
          "symbol": "circle"
         },
         "mode": "markers",
         "name": "Qatar",
         "orientation": "v",
         "showlegend": true,
         "type": "scatter",
         "x": [
          1.75
         ],
         "xaxis": "x",
         "y": [
          6.45
         ],
         "yaxis": "y"
        },
        {
         "hovertemplate": "<b>%{hovertext}</b><br><br>Country=Taiwan<br>Mean GDP per Capita=%{x}<br>Mean Happiness Score=%{y}<br>Population=%{marker.size}<extra></extra>",
         "hovertext": [
          23733876
         ],
         "legendgroup": "Taiwan",
         "marker": {
          "color": "#FF97FF",
          "size": [
           23733876
          ],
          "sizemode": "area",
          "sizeref": 391040.27777777775,
          "symbol": "circle"
         },
         "mode": "markers",
         "name": "Taiwan",
         "orientation": "v",
         "showlegend": true,
         "type": "scatter",
         "x": [
          1.39
         ],
         "xaxis": "x",
         "y": [
          6.44
         ],
         "yaxis": "y"
        },
        {
         "hovertemplate": "<b>%{hovertext}</b><br><br>Country=Panama<br>Mean GDP per Capita=%{x}<br>Mean Happiness Score=%{y}<br>Population=%{marker.size}<extra></extra>",
         "hovertext": [
          4232532
         ],
         "legendgroup": "Panama",
         "marker": {
          "color": "#FECB52",
          "size": [
           4232532
          ],
          "sizemode": "area",
          "sizeref": 391040.27777777775,
          "symbol": "circle"
         },
         "mode": "markers",
         "name": "Panama",
         "orientation": "v",
         "showlegend": true,
         "type": "scatter",
         "x": [
          1.19
         ],
         "xaxis": "x",
         "y": [
          6.43
         ],
         "yaxis": "y"
        },
        {
         "hovertemplate": "<b>%{hovertext}</b><br><br>Country=Uruguay<br>Mean GDP per Capita=%{x}<br>Mean Happiness Score=%{y}<br>Population=%{marker.size}<extra></extra>",
         "hovertext": [
          3428409
         ],
         "legendgroup": "Uruguay",
         "marker": {
          "color": "#636efa",
          "size": [
           3428409
          ],
          "sizemode": "area",
          "sizeref": 391040.27777777775,
          "symbol": "circle"
         },
         "mode": "markers",
         "name": "Uruguay",
         "orientation": "v",
         "showlegend": true,
         "type": "scatter",
         "x": [
          1.14
         ],
         "xaxis": "x",
         "y": [
          6.42
         ],
         "yaxis": "y"
        },
        {
         "hovertemplate": "<b>%{hovertext}</b><br><br>Country=Saudi Arabia<br>Mean GDP per Capita=%{x}<br>Mean Happiness Score=%{y}<br>Population=%{marker.size}<extra></extra>",
         "hovertext": [
          35827362
         ],
         "legendgroup": "Saudi Arabia",
         "marker": {
          "color": "#EF553B",
          "size": [
           35827362
          ],
          "sizemode": "area",
          "sizeref": 391040.27777777775,
          "symbol": "circle"
         },
         "mode": "markers",
         "name": "Saudi Arabia",
         "orientation": "v",
         "showlegend": true,
         "type": "scatter",
         "x": [
          1.44
         ],
         "xaxis": "x",
         "y": [
          6.41
         ],
         "yaxis": "y"
        },
        {
         "hovertemplate": "<b>%{hovertext}</b><br><br>Country=Spain<br>Mean GDP per Capita=%{x}<br>Mean Happiness Score=%{y}<br>Population=%{marker.size}<extra></extra>",
         "hovertext": [
          47134837
         ],
         "legendgroup": "Spain",
         "marker": {
          "color": "#00cc96",
          "size": [
           47134837
          ],
          "sizemode": "area",
          "sizeref": 391040.27777777775,
          "symbol": "circle"
         },
         "mode": "markers",
         "name": "Spain",
         "orientation": "v",
         "showlegend": true,
         "type": "scatter",
         "x": [
          1.32
         ],
         "xaxis": "x",
         "y": [
          6.39
         ],
         "yaxis": "y"
        },
        {
         "hovertemplate": "<b>%{hovertext}</b><br><br>Country=Guatemala<br>Mean GDP per Capita=%{x}<br>Mean Happiness Score=%{y}<br>Population=%{marker.size}<extra></extra>",
         "hovertext": [
          16604026
         ],
         "legendgroup": "Guatemala",
         "marker": {
          "color": "#ab63fa",
          "size": [
           16604026
          ],
          "sizemode": "area",
          "sizeref": 391040.27777777775,
          "symbol": "circle"
         },
         "mode": "markers",
         "name": "Guatemala",
         "orientation": "v",
         "showlegend": true,
         "type": "scatter",
         "x": [
          0.82
         ],
         "xaxis": "x",
         "y": [
          6.36
         ],
         "yaxis": "y"
        },
        {
         "hovertemplate": "<b>%{hovertext}</b><br><br>Country=Argentina<br>Mean GDP per Capita=%{x}<br>Mean Happiness Score=%{y}<br>Population=%{marker.size}<extra></extra>",
         "hovertext": [
          44938712
         ],
         "legendgroup": "Argentina",
         "marker": {
          "color": "#FFA15A",
          "size": [
           44938712
          ],
          "sizemode": "area",
          "sizeref": 391040.27777777775,
          "symbol": "circle"
         },
         "mode": "markers",
         "name": "Argentina",
         "orientation": "v",
         "showlegend": true,
         "type": "scatter",
         "x": [
          1.12
         ],
         "xaxis": "x",
         "y": [
          6.3
         ],
         "yaxis": "y"
        },
        {
         "hovertemplate": "<b>%{hovertext}</b><br><br>Country=Colombia<br>Mean GDP per Capita=%{x}<br>Mean Happiness Score=%{y}<br>Population=%{marker.size}<extra></extra>",
         "hovertext": [
          50187406
         ],
         "legendgroup": "Colombia",
         "marker": {
          "color": "#19d3f3",
          "size": [
           50187406
          ],
          "sizemode": "area",
          "sizeref": 391040.27777777775,
          "symbol": "circle"
         },
         "mode": "markers",
         "name": "Colombia",
         "orientation": "v",
         "showlegend": true,
         "type": "scatter",
         "x": [
          1
         ],
         "xaxis": "x",
         "y": [
          6.24
         ],
         "yaxis": "y"
        },
        {
         "hovertemplate": "<b>%{hovertext}</b><br><br>Country=Bahrain<br>Mean GDP per Capita=%{x}<br>Mean Happiness Score=%{y}<br>Population=%{marker.size}<extra></extra>",
         "hovertext": [
          1494188
         ],
         "legendgroup": "Bahrain",
         "marker": {
          "color": "#FF6692",
          "size": [
           1494188
          ],
          "sizemode": "area",
          "sizeref": 391040.27777777775,
          "symbol": "circle"
         },
         "mode": "markers",
         "name": "Bahrain",
         "orientation": "v",
         "showlegend": true,
         "type": "scatter",
         "x": [
          1.4
         ],
         "xaxis": "x",
         "y": [
          6.22
         ],
         "yaxis": "y"
        },
        {
         "hovertemplate": "<b>%{hovertext}</b><br><br>Country=Thailand<br>Mean GDP per Capita=%{x}<br>Mean Happiness Score=%{y}<br>Population=%{marker.size}<extra></extra>",
         "hovertext": [
          71307763
         ],
         "legendgroup": "Thailand",
         "marker": {
          "color": "#B6E880",
          "size": [
           71307763
          ],
          "sizemode": "area",
          "sizeref": 391040.27777777775,
          "symbol": "circle"
         },
         "mode": "markers",
         "name": "Thailand",
         "orientation": "v",
         "showlegend": true,
         "type": "scatter",
         "x": [
          1.06
         ],
         "xaxis": "x",
         "y": [
          6.22
         ],
         "yaxis": "y"
        },
        {
         "hovertemplate": "<b>%{hovertext}</b><br><br>Country=Trinidad and Tobago<br>Mean GDP per Capita=%{x}<br>Mean Happiness Score=%{y}<br>Population=%{marker.size}<extra></extra>",
         "hovertext": [
          1519955
         ],
         "legendgroup": "Trinidad and Tobago",
         "marker": {
          "color": "#FF97FF",
          "size": [
           1519955
          ],
          "sizemode": "area",
          "sizeref": 391040.27777777775,
          "symbol": "circle"
         },
         "mode": "markers",
         "name": "Trinidad and Tobago",
         "orientation": "v",
         "showlegend": true,
         "type": "scatter",
         "x": [
          1.27
         ],
         "xaxis": "x",
         "y": [
          6.18
         ],
         "yaxis": "y"
        },
        {
         "hovertemplate": "<b>%{hovertext}</b><br><br>Country=Slovakia<br>Mean GDP per Capita=%{x}<br>Mean Happiness Score=%{y}<br>Population=%{marker.size}<extra></extra>",
         "hovertext": [
          5454147
         ],
         "legendgroup": "Slovakia",
         "marker": {
          "color": "#FECB52",
          "size": [
           5454147
          ],
          "sizemode": "area",
          "sizeref": 391040.27777777775,
          "symbol": "circle"
         },
         "mode": "markers",
         "name": "Slovakia",
         "orientation": "v",
         "showlegend": true,
         "type": "scatter",
         "x": [
          1.26
         ],
         "xaxis": "x",
         "y": [
          6.16
         ],
         "yaxis": "y"
        },
        {
         "hovertemplate": "<b>%{hovertext}</b><br><br>Country=Italy<br>Mean GDP per Capita=%{x}<br>Mean Happiness Score=%{y}<br>Population=%{marker.size}<extra></extra>",
         "hovertext": [
          59729081
         ],
         "legendgroup": "Italy",
         "marker": {
          "color": "#636efa",
          "size": [
           59729081
          ],
          "sizemode": "area",
          "sizeref": 391040.27777777775,
          "symbol": "circle"
         },
         "mode": "markers",
         "name": "Italy",
         "orientation": "v",
         "showlegend": true,
         "type": "scatter",
         "x": [
          1.33
         ],
         "xaxis": "x",
         "y": [
          6.15
         ],
         "yaxis": "y"
        },
        {
         "hovertemplate": "<b>%{hovertext}</b><br><br>Country=Kuwait<br>Mean GDP per Capita=%{x}<br>Mean Happiness Score=%{y}<br>Population=%{marker.size}<extra></extra>",
         "hovertext": [
          4441100
         ],
         "legendgroup": "Kuwait",
         "marker": {
          "color": "#EF553B",
          "size": [
           4441100
          ],
          "sizemode": "area",
          "sizeref": 391040.27777777775,
          "symbol": "circle"
         },
         "mode": "markers",
         "name": "Kuwait",
         "orientation": "v",
         "showlegend": true,
         "type": "scatter",
         "x": [
          1.54
         ],
         "xaxis": "x",
         "y": [
          6.13
         ],
         "yaxis": "y"
        },
        {
         "hovertemplate": "<b>%{hovertext}</b><br><br>Country=El Salvador<br>Mean GDP per Capita=%{x}<br>Mean Happiness Score=%{y}<br>Population=%{marker.size}<extra></extra>",
         "hovertext": [
          6280217
         ],
         "legendgroup": "El Salvador",
         "marker": {
          "color": "#00cc96",
          "size": [
           6280217
          ],
          "sizemode": "area",
          "sizeref": 391040.27777777775,
          "symbol": "circle"
         },
         "mode": "markers",
         "name": "El Salvador",
         "orientation": "v",
         "showlegend": true,
         "type": "scatter",
         "x": [
          0.83
         ],
         "xaxis": "x",
         "y": [
          6.11
         ],
         "yaxis": "y"
        },
        {
         "hovertemplate": "<b>%{hovertext}</b><br><br>Country=Uzbekistan<br>Mean GDP per Capita=%{x}<br>Mean Happiness Score=%{y}<br>Population=%{marker.size}<extra></extra>",
         "hovertext": [
          33580350
         ],
         "legendgroup": "Uzbekistan",
         "marker": {
          "color": "#ab63fa",
          "size": [
           33580350
          ],
          "sizemode": "area",
          "sizeref": 391040.27777777775,
          "symbol": "circle"
         },
         "mode": "markers",
         "name": "Uzbekistan",
         "orientation": "v",
         "showlegend": true,
         "type": "scatter",
         "x": [
          0.73
         ],
         "xaxis": "x",
         "y": [
          6.08
         ],
         "yaxis": "y"
        },
        {
         "hovertemplate": "<b>%{hovertext}</b><br><br>Country=Slovenia<br>Mean GDP per Capita=%{x}<br>Mean Happiness Score=%{y}<br>Population=%{marker.size}<extra></extra>",
         "hovertext": [
          2088385
         ],
         "legendgroup": "Slovenia",
         "marker": {
          "color": "#FFA15A",
          "size": [
           2088385
          ],
          "sizemode": "area",
          "sizeref": 391040.27777777775,
          "symbol": "circle"
         },
         "mode": "markers",
         "name": "Slovenia",
         "orientation": "v",
         "showlegend": true,
         "type": "scatter",
         "x": [
          1.29
         ],
         "xaxis": "x",
         "y": [
          6.05
         ],
         "yaxis": "y"
        },
        {
         "hovertemplate": "<b>%{hovertext}</b><br><br>Country=Poland<br>Mean GDP per Capita=%{x}<br>Mean Happiness Score=%{y}<br>Population=%{marker.size}<extra></extra>",
         "hovertext": [
          37965475
         ],
         "legendgroup": "Poland",
         "marker": {
          "color": "#19d3f3",
          "size": [
           37965475
          ],
          "sizemode": "area",
          "sizeref": 391040.27777777775,
          "symbol": "circle"
         },
         "mode": "markers",
         "name": "Poland",
         "orientation": "v",
         "showlegend": true,
         "type": "scatter",
         "x": [
          1.23
         ],
         "xaxis": "x",
         "y": [
          6.03
         ],
         "yaxis": "y"
        },
        {
         "hovertemplate": "<b>%{hovertext}</b><br><br>Country=Lithuania<br>Mean GDP per Capita=%{x}<br>Mean Happiness Score=%{y}<br>Population=%{marker.size}<extra></extra>",
         "hovertext": [
          2794137
         ],
         "legendgroup": "Lithuania",
         "marker": {
          "color": "#FF6692",
          "size": [
           2794137
          ],
          "sizemode": "area",
          "sizeref": 391040.27777777775,
          "symbol": "circle"
         },
         "mode": "markers",
         "name": "Lithuania",
         "orientation": "v",
         "showlegend": true,
         "type": "scatter",
         "x": [
          1.26
         ],
         "xaxis": "x",
         "y": [
          6.03
         ],
         "yaxis": "y"
        },
        {
         "hovertemplate": "<b>%{hovertext}</b><br><br>Country=Nicaragua<br>Mean GDP per Capita=%{x}<br>Mean Happiness Score=%{y}<br>Population=%{marker.size}<extra></extra>",
         "hovertext": [
          6663924
         ],
         "legendgroup": "Nicaragua",
         "marker": {
          "color": "#B6E880",
          "size": [
           6663924
          ],
          "sizemode": "area",
          "sizeref": 391040.27777777775,
          "symbol": "circle"
         },
         "mode": "markers",
         "name": "Nicaragua",
         "orientation": "v",
         "showlegend": true,
         "type": "scatter",
         "x": [
          0.68
         ],
         "xaxis": "x",
         "y": [
          5.99
         ],
         "yaxis": "y"
        },
        {
         "hovertemplate": "<b>%{hovertext}</b><br><br>Country=Ecuador<br>Mean GDP per Capita=%{x}<br>Mean Happiness Score=%{y}<br>Population=%{marker.size}<extra></extra>",
         "hovertext": [
          17343740
         ],
         "legendgroup": "Ecuador",
         "marker": {
          "color": "#FF97FF",
          "size": [
           17343740
          ],
          "sizemode": "area",
          "sizeref": 391040.27777777775,
          "symbol": "circle"
         },
         "mode": "markers",
         "name": "Ecuador",
         "orientation": "v",
         "showlegend": true,
         "type": "scatter",
         "x": [
          0.93
         ],
         "xaxis": "x",
         "y": [
          5.94
         ],
         "yaxis": "y"
        },
        {
         "hovertemplate": "<b>%{hovertext}</b><br><br>Country=Japan<br>Mean GDP per Capita=%{x}<br>Mean Happiness Score=%{y}<br>Population=%{marker.size}<extra></extra>",
         "hovertext": [
          126633000
         ],
         "legendgroup": "Japan",
         "marker": {
          "color": "#FECB52",
          "size": [
           126633000
          ],
          "sizemode": "area",
          "sizeref": 391040.27777777775,
          "symbol": "circle"
         },
         "mode": "markers",
         "name": "Japan",
         "orientation": "v",
         "showlegend": true,
         "type": "scatter",
         "x": [
          1.35
         ],
         "xaxis": "x",
         "y": [
          5.93
         ],
         "yaxis": "y"
        },
        {
         "hovertemplate": "<b>%{hovertext}</b><br><br>Country=Kazakhstan<br>Mean GDP per Capita=%{x}<br>Mean Happiness Score=%{y}<br>Population=%{marker.size}<extra></extra>",
         "hovertext": [
          18513673
         ],
         "legendgroup": "Kazakhstan",
         "marker": {
          "color": "#636efa",
          "size": [
           18513673
          ],
          "sizemode": "area",
          "sizeref": 391040.27777777775,
          "symbol": "circle"
         },
         "mode": "markers",
         "name": "Kazakhstan",
         "orientation": "v",
         "showlegend": true,
         "type": "scatter",
         "x": [
          1.2
         ],
         "xaxis": "x",
         "y": [
          5.91
         ],
         "yaxis": "y"
        },
        {
         "hovertemplate": "<b>%{hovertext}</b><br><br>Country=South Korea<br>Mean GDP per Capita=%{x}<br>Mean Happiness Score=%{y}<br>Population=%{marker.size}<extra></extra>",
         "hovertext": [
          51764822
         ],
         "legendgroup": "South Korea",
         "marker": {
          "color": "#EF553B",
          "size": [
           51764822
          ],
          "sizemode": "area",
          "sizeref": 391040.27777777775,
          "symbol": "circle"
         },
         "mode": "markers",
         "name": "South Korea",
         "orientation": "v",
         "showlegend": true,
         "type": "scatter",
         "x": [
          1.34
         ],
         "xaxis": "x",
         "y": [
          5.89
         ],
         "yaxis": "y"
        },
        {
         "hovertemplate": "<b>%{hovertext}</b><br><br>Country=Cyprus<br>Mean GDP per Capita=%{x}<br>Mean Happiness Score=%{y}<br>Population=%{marker.size}<extra></extra>",
         "hovertext": [
          1228836
         ],
         "legendgroup": "Cyprus",
         "marker": {
          "color": "#00cc96",
          "size": [
           1228836
          ],
          "sizemode": "area",
          "sizeref": 391040.27777777775,
          "symbol": "circle"
         },
         "mode": "markers",
         "name": "Cyprus",
         "orientation": "v",
         "showlegend": true,
         "type": "scatter",
         "x": [
          1.3
         ],
         "xaxis": "x",
         "y": [
          5.89
         ],
         "yaxis": "y"
        },
        {
         "hovertemplate": "<b>%{hovertext}</b><br><br>Country=Kosovo<br>Mean GDP per Capita=%{x}<br>Mean Happiness Score=%{y}<br>Population=%{marker.size}<extra></extra>",
         "hovertext": [
          1788878
         ],
         "legendgroup": "Kosovo",
         "marker": {
          "color": "#ab63fa",
          "size": [
           1788878
          ],
          "sizemode": "area",
          "sizeref": 391040.27777777775,
          "symbol": "circle"
         },
         "mode": "markers",
         "name": "Kosovo",
         "orientation": "v",
         "showlegend": true,
         "type": "scatter",
         "x": [
          0.89
         ],
         "xaxis": "x",
         "y": [
          5.83
         ],
         "yaxis": "y"
        },
        {
         "hovertemplate": "<b>%{hovertext}</b><br><br>Country=Bolivia<br>Mean GDP per Capita=%{x}<br>Mean Happiness Score=%{y}<br>Population=%{marker.size}<extra></extra>",
         "hovertext": [
          11777315
         ],
         "legendgroup": "Bolivia",
         "marker": {
          "color": "#FFA15A",
          "size": [
           11777315
          ],
          "sizemode": "area",
          "sizeref": 391040.27777777775,
          "symbol": "circle"
         },
         "mode": "markers",
         "name": "Bolivia",
         "orientation": "v",
         "showlegend": true,
         "type": "scatter",
         "x": [
          0.78
         ],
         "xaxis": "x",
         "y": [
          5.8
         ],
         "yaxis": "y"
        },
        {
         "hovertemplate": "<b>%{hovertext}</b><br><br>Country=Jamaica<br>Mean GDP per Capita=%{x}<br>Mean Happiness Score=%{y}<br>Population=%{marker.size}<extra></extra>",
         "hovertext": [
          2813773
         ],
         "legendgroup": "Jamaica",
         "marker": {
          "color": "#19d3f3",
          "size": [
           2813773
          ],
          "sizemode": "area",
          "sizeref": 391040.27777777775,
          "symbol": "circle"
         },
         "mode": "markers",
         "name": "Jamaica",
         "orientation": "v",
         "showlegend": true,
         "type": "scatter",
         "x": [
          0.86
         ],
         "xaxis": "x",
         "y": [
          5.8
         ],
         "yaxis": "y"
        },
        {
         "hovertemplate": "<b>%{hovertext}</b><br><br>Country=Romania<br>Mean GDP per Capita=%{x}<br>Mean Happiness Score=%{y}<br>Population=%{marker.size}<extra></extra>",
         "hovertext": [
          19371648
         ],
         "legendgroup": "Romania",
         "marker": {
          "color": "#FF6692",
          "size": [
           19371648
          ],
          "sizemode": "area",
          "sizeref": 391040.27777777775,
          "symbol": "circle"
         },
         "mode": "markers",
         "name": "Romania",
         "orientation": "v",
         "showlegend": true,
         "type": "scatter",
         "x": [
          1.17
         ],
         "xaxis": "x",
         "y": [
          5.79
         ],
         "yaxis": "y"
        },
        {
         "hovertemplate": "<b>%{hovertext}</b><br><br>Country=Estonia<br>Mean GDP per Capita=%{x}<br>Mean Happiness Score=%{y}<br>Population=%{marker.size}<extra></extra>",
         "hovertext": [
          1326898
         ],
         "legendgroup": "Estonia",
         "marker": {
          "color": "#B6E880",
          "size": [
           1326898
          ],
          "sizemode": "area",
          "sizeref": 391040.27777777775,
          "symbol": "circle"
         },
         "mode": "markers",
         "name": "Estonia",
         "orientation": "v",
         "showlegend": true,
         "type": "scatter",
         "x": [
          1.26
         ],
         "xaxis": "x",
         "y": [
          5.78
         ],
         "yaxis": "y"
        },
        {
         "hovertemplate": "<b>%{hovertext}</b><br><br>Country=Peru<br>Mean GDP per Capita=%{x}<br>Mean Happiness Score=%{y}<br>Population=%{marker.size}<extra></extra>",
         "hovertext": [
          32824861
         ],
         "legendgroup": "Peru",
         "marker": {
          "color": "#FF97FF",
          "size": [
           32824861
          ],
          "sizemode": "area",
          "sizeref": 391040.27777777775,
          "symbol": "circle"
         },
         "mode": "markers",
         "name": "Peru",
         "orientation": "v",
         "showlegend": true,
         "type": "scatter",
         "x": [
          0.97
         ],
         "xaxis": "x",
         "y": [
          5.77
         ],
         "yaxis": "y"
        },
        {
         "hovertemplate": "<b>%{hovertext}</b><br><br>Country=Moldova<br>Mean GDP per Capita=%{x}<br>Mean Happiness Score=%{y}<br>Population=%{marker.size}<extra></extra>",
         "hovertext": [
          2664224
         ],
         "legendgroup": "Moldova",
         "marker": {
          "color": "#FECB52",
          "size": [
           2664224
          ],
          "sizemode": "area",
          "sizeref": 391040.27777777775,
          "symbol": "circle"
         },
         "mode": "markers",
         "name": "Moldova",
         "orientation": "v",
         "showlegend": true,
         "type": "scatter",
         "x": [
          0.75
         ],
         "xaxis": "x",
         "y": [
          5.76
         ],
         "yaxis": "y"
        },
        {
         "hovertemplate": "<b>%{hovertext}</b><br><br>Country=Mauritius<br>Mean GDP per Capita=%{x}<br>Mean Happiness Score=%{y}<br>Population=%{marker.size}<extra></extra>",
         "hovertext": [
          1265711
         ],
         "legendgroup": "Mauritius",
         "marker": {
          "color": "#636efa",
          "size": [
           1265711
          ],
          "sizemode": "area",
          "sizeref": 391040.27777777775,
          "symbol": "circle"
         },
         "mode": "markers",
         "name": "Mauritius",
         "orientation": "v",
         "showlegend": true,
         "type": "scatter",
         "x": [
          1.12
         ],
         "xaxis": "x",
         "y": [
          5.76
         ],
         "yaxis": "y"
        },
        {
         "hovertemplate": "<b>%{hovertext}</b><br><br>Country=Latvia<br>Mean GDP per Capita=%{x}<br>Mean Happiness Score=%{y}<br>Population=%{marker.size}<extra></extra>",
         "hovertext": [
          1913822
         ],
         "legendgroup": "Latvia",
         "marker": {
          "color": "#EF553B",
          "size": [
           1913822
          ],
          "sizemode": "area",
          "sizeref": 391040.27777777775,
          "symbol": "circle"
         },
         "mode": "markers",
         "name": "Latvia",
         "orientation": "v",
         "showlegend": true,
         "type": "scatter",
         "x": [
          1.21
         ],
         "xaxis": "x",
         "y": [
          5.73
         ],
         "yaxis": "y"
        },
        {
         "hovertemplate": "<b>%{hovertext}</b><br><br>Country=Russia<br>Mean GDP per Capita=%{x}<br>Mean Happiness Score=%{y}<br>Population=%{marker.size}<extra></extra>",
         "hovertext": [
          144406261
         ],
         "legendgroup": "Russia",
         "marker": {
          "color": "#00cc96",
          "size": [
           144406261
          ],
          "sizemode": "area",
          "sizeref": 391040.27777777775,
          "symbol": "circle"
         },
         "mode": "markers",
         "name": "Russia",
         "orientation": "v",
         "showlegend": true,
         "type": "scatter",
         "x": [
          1.21
         ],
         "xaxis": "x",
         "y": [
          5.7
         ],
         "yaxis": "y"
        },
        {
         "hovertemplate": "<b>%{hovertext}</b><br><br>Country=Paraguay<br>Mean GDP per Capita=%{x}<br>Mean Happiness Score=%{y}<br>Population=%{marker.size}<extra></extra>",
         "hovertext": [
          6530026
         ],
         "legendgroup": "Paraguay",
         "marker": {
          "color": "#ab63fa",
          "size": [
           6530026
          ],
          "sizemode": "area",
          "sizeref": 391040.27777777775,
          "symbol": "circle"
         },
         "mode": "markers",
         "name": "Paraguay",
         "orientation": "v",
         "showlegend": true,
         "type": "scatter",
         "x": [
          0.88
         ],
         "xaxis": "x",
         "y": [
          5.69
         ],
         "yaxis": "y"
        },
        {
         "hovertemplate": "<b>%{hovertext}</b><br><br>Country=Malaysia<br>Mean GDP per Capita=%{x}<br>Mean Happiness Score=%{y}<br>Population=%{marker.size}<extra></extra>",
         "hovertext": [
          32804020
         ],
         "legendgroup": "Malaysia",
         "marker": {
          "color": "#FFA15A",
          "size": [
           32804020
          ],
          "sizemode": "area",
          "sizeref": 391040.27777777775,
          "symbol": "circle"
         },
         "mode": "markers",
         "name": "Malaysia",
         "orientation": "v",
         "showlegend": true,
         "type": "scatter",
         "x": [
          1.22
         ],
         "xaxis": "x",
         "y": [
          5.64
         ],
         "yaxis": "y"
        },
        {
         "hovertemplate": "<b>%{hovertext}</b><br><br>Country=Croatia<br>Mean GDP per Capita=%{x}<br>Mean Happiness Score=%{y}<br>Population=%{marker.size}<extra></extra>",
         "hovertext": [
          4065253
         ],
         "legendgroup": "Croatia",
         "marker": {
          "color": "#19d3f3",
          "size": [
           4065253
          ],
          "sizemode": "area",
          "sizeref": 391040.27777777775,
          "symbol": "circle"
         },
         "mode": "markers",
         "name": "Croatia",
         "orientation": "v",
         "showlegend": true,
         "type": "scatter",
         "x": [
          1.18
         ],
         "xaxis": "x",
         "y": [
          5.59
         ],
         "yaxis": "y"
        },
        {
         "hovertemplate": "<b>%{hovertext}</b><br><br>Country=Belarus<br>Mean GDP per Capita=%{x}<br>Mean Happiness Score=%{y}<br>Population=%{marker.size}<extra></extra>",
         "hovertext": [
          9419758
         ],
         "legendgroup": "Belarus",
         "marker": {
          "color": "#FF6692",
          "size": [
           9419758
          ],
          "sizemode": "area",
          "sizeref": 391040.27777777775,
          "symbol": "circle"
         },
         "mode": "markers",
         "name": "Belarus",
         "orientation": "v",
         "showlegend": true,
         "type": "scatter",
         "x": [
          1.09
         ],
         "xaxis": "x",
         "y": [
          5.56
         ],
         "yaxis": "y"
        },
        {
         "hovertemplate": "<b>%{hovertext}</b><br><br>Country=Serbia<br>Mean GDP per Capita=%{x}<br>Mean Happiness Score=%{y}<br>Population=%{marker.size}<extra></extra>",
         "hovertext": [
          6945235
         ],
         "legendgroup": "Serbia",
         "marker": {
          "color": "#B6E880",
          "size": [
           6945235
          ],
          "sizemode": "area",
          "sizeref": 391040.27777777775,
          "symbol": "circle"
         },
         "mode": "markers",
         "name": "Serbia",
         "orientation": "v",
         "showlegend": true,
         "type": "scatter",
         "x": [
          1.02
         ],
         "xaxis": "x",
         "y": [
          5.55
         ],
         "yaxis": "y"
        },
        {
         "hovertemplate": "<b>%{hovertext}</b><br><br>Country=Libya<br>Mean GDP per Capita=%{x}<br>Mean Happiness Score=%{y}<br>Population=%{marker.size}<extra></extra>",
         "hovertext": [
          6569088
         ],
         "legendgroup": "Libya",
         "marker": {
          "color": "#FF97FF",
          "size": [
           6569088
          ],
          "sizemode": "area",
          "sizeref": 391040.27777777775,
          "symbol": "circle"
         },
         "mode": "markers",
         "name": "Libya",
         "orientation": "v",
         "showlegend": true,
         "type": "scatter",
         "x": [
          1.08
         ],
         "xaxis": "x",
         "y": [
          5.55
         ],
         "yaxis": "y"
        },
        {
         "hovertemplate": "<b>%{hovertext}</b><br><br>Country=Philippines<br>Mean GDP per Capita=%{x}<br>Mean Happiness Score=%{y}<br>Population=%{marker.size}<extra></extra>",
         "hovertext": [
          110380804
         ],
         "legendgroup": "Philippines",
         "marker": {
          "color": "#FECB52",
          "size": [
           110380804
          ],
          "sizemode": "area",
          "sizeref": 391040.27777777775,
          "symbol": "circle"
         },
         "mode": "markers",
         "name": "Philippines",
         "orientation": "v",
         "showlegend": true,
         "type": "scatter",
         "x": [
          0.81
         ],
         "xaxis": "x",
         "y": [
          5.5
         ],
         "yaxis": "y"
        },
        {
         "hovertemplate": "<b>%{hovertext}</b><br><br>Country=Portugal<br>Mean GDP per Capita=%{x}<br>Mean Happiness Score=%{y}<br>Population=%{marker.size}<extra></extra>",
         "hovertext": [
          10286263
         ],
         "legendgroup": "Portugal",
         "marker": {
          "color": "#636efa",
          "size": [
           10286263
          ],
          "sizemode": "area",
          "sizeref": 391040.27777777775,
          "symbol": "circle"
         },
         "mode": "markers",
         "name": "Portugal",
         "orientation": "v",
         "showlegend": true,
         "type": "scatter",
         "x": [
          1.25
         ],
         "xaxis": "x",
         "y": [
          5.48
         ],
         "yaxis": "y"
        },
        {
         "hovertemplate": "<b>%{hovertext}</b><br><br>Country=Hungary<br>Mean GDP per Capita=%{x}<br>Mean Happiness Score=%{y}<br>Population=%{marker.size}<extra></extra>",
         "hovertext": [
          9771141
         ],
         "legendgroup": "Hungary",
         "marker": {
          "color": "#EF553B",
          "size": [
           9771141
          ],
          "sizemode": "area",
          "sizeref": 391040.27777777775,
          "symbol": "circle"
         },
         "mode": "markers",
         "name": "Hungary",
         "orientation": "v",
         "showlegend": true,
         "type": "scatter",
         "x": [
          1.23
         ],
         "xaxis": "x",
         "y": [
          5.47
         ],
         "yaxis": "y"
        },
        {
         "hovertemplate": "<b>%{hovertext}</b><br><br>Country=Hong Kong<br>Mean GDP per Capita=%{x}<br>Mean Happiness Score=%{y}<br>Population=%{marker.size}<extra></extra>",
         "hovertext": [
          7507900
         ],
         "legendgroup": "Hong Kong",
         "marker": {
          "color": "#00cc96",
          "size": [
           7507900
          ],
          "sizemode": "area",
          "sizeref": 391040.27777777775,
          "symbol": "circle"
         },
         "mode": "markers",
         "name": "Hong Kong",
         "orientation": "v",
         "showlegend": true,
         "type": "scatter",
         "x": [
          1.48
         ],
         "xaxis": "x",
         "y": [
          5.46
         ],
         "yaxis": "y"
        },
        {
         "hovertemplate": "<b>%{hovertext}</b><br><br>Country=Honduras<br>Mean GDP per Capita=%{x}<br>Mean Happiness Score=%{y}<br>Population=%{marker.size}<extra></extra>",
         "hovertext": [
          9958829
         ],
         "legendgroup": "Honduras",
         "marker": {
          "color": "#ab63fa",
          "size": [
           9958829
          ],
          "sizemode": "area",
          "sizeref": 391040.27777777775,
          "symbol": "circle"
         },
         "mode": "markers",
         "name": "Honduras",
         "orientation": "v",
         "showlegend": true,
         "type": "scatter",
         "x": [
          0.67
         ],
         "xaxis": "x",
         "y": [
          5.44
         ],
         "yaxis": "y"
        },
        {
         "hovertemplate": "<b>%{hovertext}</b><br><br>Country=Turkmenistan<br>Mean GDP per Capita=%{x}<br>Mean Happiness Score=%{y}<br>Population=%{marker.size}<extra></extra>",
         "hovertext": [
          6158420
         ],
         "legendgroup": "Turkmenistan",
         "marker": {
          "color": "#FFA15A",
          "size": [
           6158420
          ],
          "sizemode": "area",
          "sizeref": 391040.27777777775,
          "symbol": "circle"
         },
         "mode": "markers",
         "name": "Turkmenistan",
         "orientation": "v",
         "showlegend": true,
         "type": "scatter",
         "x": [
          1.05
         ],
         "xaxis": "x",
         "y": [
          5.42
         ],
         "yaxis": "y"
        },
        {
         "hovertemplate": "<b>%{hovertext}</b><br><br>Country=Venezuela<br>Mean GDP per Capita=%{x}<br>Mean Happiness Score=%{y}<br>Population=%{marker.size}<extra></extra>",
         "hovertext": [
          28971683
         ],
         "legendgroup": "Venezuela",
         "marker": {
          "color": "#19d3f3",
          "size": [
           28971683
          ],
          "sizemode": "area",
          "sizeref": 391040.27777777775,
          "symbol": "circle"
         },
         "mode": "markers",
         "name": "Venezuela",
         "orientation": "v",
         "showlegend": true,
         "type": "scatter",
         "x": [
          1
         ],
         "xaxis": "x",
         "y": [
          5.41
         ],
         "yaxis": "y"
        },
        {
         "hovertemplate": "<b>%{hovertext}</b><br><br>Country=Algeria<br>Mean GDP per Capita=%{x}<br>Mean Happiness Score=%{y}<br>Population=%{marker.size}<extra></extra>",
         "hovertext": [
          42705368
         ],
         "legendgroup": "Algeria",
         "marker": {
          "color": "#FF6692",
          "size": [
           42705368
          ],
          "sizemode": "area",
          "sizeref": 391040.27777777775,
          "symbol": "circle"
         },
         "mode": "markers",
         "name": "Algeria",
         "orientation": "v",
         "showlegend": true,
         "type": "scatter",
         "x": [
          0.99
         ],
         "xaxis": "x",
         "y": [
          5.39
         ],
         "yaxis": "y"
        },
        {
         "hovertemplate": "<b>%{hovertext}</b><br><br>Country=Montenegro<br>Mean GDP per Capita=%{x}<br>Mean Happiness Score=%{y}<br>Population=%{marker.size}<extra></extra>",
         "hovertext": [
          622028
         ],
         "legendgroup": "Montenegro",
         "marker": {
          "color": "#B6E880",
          "size": [
           622028
          ],
          "sizemode": "area",
          "sizeref": 391040.27777777775,
          "symbol": "circle"
         },
         "mode": "markers",
         "name": "Montenegro",
         "orientation": "v",
         "showlegend": true,
         "type": "scatter",
         "x": [
          1.08
         ],
         "xaxis": "x",
         "y": [
          5.38
         ],
         "yaxis": "y"
        },
        {
         "hovertemplate": "<b>%{hovertext}</b><br><br>Country=Bosnia and Herzegovina<br>Mean GDP per Capita=%{x}<br>Mean Happiness Score=%{y}<br>Population=%{marker.size}<extra></extra>",
         "hovertext": [
          3360711
         ],
         "legendgroup": "Bosnia and Herzegovina",
         "marker": {
          "color": "#FF97FF",
          "size": [
           3360711
          ],
          "sizemode": "area",
          "sizeref": 391040.27777777775,
          "symbol": "circle"
         },
         "mode": "markers",
         "name": "Bosnia and Herzegovina",
         "orientation": "v",
         "showlegend": true,
         "type": "scatter",
         "x": [
          0.95
         ],
         "xaxis": "x",
         "y": [
          5.33
         ],
         "yaxis": "y"
        },
        {
         "hovertemplate": "<b>%{hovertext}</b><br><br>Country=Kyrgyzstan<br>Mean GDP per Capita=%{x}<br>Mean Happiness Score=%{y}<br>Population=%{marker.size}<extra></extra>",
         "hovertext": [
          6456200
         ],
         "legendgroup": "Kyrgyzstan",
         "marker": {
          "color": "#FECB52",
          "size": [
           6456200
          ],
          "sizemode": "area",
          "sizeref": 391040.27777777775,
          "symbol": "circle"
         },
         "mode": "markers",
         "name": "Kyrgyzstan",
         "orientation": "v",
         "showlegend": true,
         "type": "scatter",
         "x": [
          0.57
         ],
         "xaxis": "x",
         "y": [
          5.32
         ],
         "yaxis": "y"
        },
        {
         "hovertemplate": "<b>%{hovertext}</b><br><br>Country=Indonesia<br>Mean GDP per Capita=%{x}<br>Mean Happiness Score=%{y}<br>Population=%{marker.size}<extra></extra>",
         "hovertext": [
          269582878
         ],
         "legendgroup": "Indonesia",
         "marker": {
          "color": "#636efa",
          "size": [
           269582878
          ],
          "sizemode": "area",
          "sizeref": 391040.27777777775,
          "symbol": "circle"
         },
         "mode": "markers",
         "name": "Indonesia",
         "orientation": "v",
         "showlegend": true,
         "type": "scatter",
         "x": [
          0.93
         ],
         "xaxis": "x",
         "y": [
          5.3
         ],
         "yaxis": "y"
        },
        {
         "hovertemplate": "<b>%{hovertext}</b><br><br>Country=Turkey<br>Mean GDP per Capita=%{x}<br>Mean Happiness Score=%{y}<br>Population=%{marker.size}<extra></extra>",
         "hovertext": [
          83481684
         ],
         "legendgroup": "Turkey",
         "marker": {
          "color": "#EF553B",
          "size": [
           83481684
          ],
          "sizemode": "area",
          "sizeref": 391040.27777777775,
          "symbol": "circle"
         },
         "mode": "markers",
         "name": "Turkey",
         "orientation": "v",
         "showlegend": true,
         "type": "scatter",
         "x": [
          1.18
         ],
         "xaxis": "x",
         "y": [
          5.29
         ],
         "yaxis": "y"
        },
        {
         "hovertemplate": "<b>%{hovertext}</b><br><br>Country=Greece<br>Mean GDP per Capita=%{x}<br>Mean Happiness Score=%{y}<br>Population=%{marker.size}<extra></extra>",
         "hovertext": [
          10721582
         ],
         "legendgroup": "Greece",
         "marker": {
          "color": "#00cc96",
          "size": [
           10721582
          ],
          "sizemode": "area",
          "sizeref": 391040.27777777775,
          "symbol": "circle"
         },
         "mode": "markers",
         "name": "Greece",
         "orientation": "v",
         "showlegend": true,
         "type": "scatter",
         "x": [
          1.22
         ],
         "xaxis": "x",
         "y": [
          5.27
         ],
         "yaxis": "y"
        },
        {
         "hovertemplate": "<b>%{hovertext}</b><br><br>Country=Dominican Republic<br>Mean GDP per Capita=%{x}<br>Mean Happiness Score=%{y}<br>Population=%{marker.size}<extra></extra>",
         "hovertext": [
          10881882
         ],
         "legendgroup": "Dominican Republic",
         "marker": {
          "color": "#ab63fa",
          "size": [
           10881882
          ],
          "sizemode": "area",
          "sizeref": 391040.27777777775,
          "symbol": "circle"
         },
         "mode": "markers",
         "name": "Dominican Republic",
         "orientation": "v",
         "showlegend": true,
         "type": "scatter",
         "x": [
          1.02
         ],
         "xaxis": "x",
         "y": [
          5.27
         ],
         "yaxis": "y"
        },
        {
         "hovertemplate": "<b>%{hovertext}</b><br><br>Country=Pakistan<br>Mean GDP per Capita=%{x}<br>Mean Happiness Score=%{y}<br>Population=%{marker.size}<extra></extra>",
         "hovertext": [
          223293280
         ],
         "legendgroup": "Pakistan",
         "marker": {
          "color": "#FFA15A",
          "size": [
           223293280
          ],
          "sizemode": "area",
          "sizeref": 391040.27777777775,
          "symbol": "circle"
         },
         "mode": "markers",
         "name": "Pakistan",
         "orientation": "v",
         "showlegend": true,
         "type": "scatter",
         "x": [
          0.66
         ],
         "xaxis": "x",
         "y": [
          5.26
         ],
         "yaxis": "y"
        },
        {
         "hovertemplate": "<b>%{hovertext}</b><br><br>Country=Vietnam<br>Mean GDP per Capita=%{x}<br>Mean Happiness Score=%{y}<br>Population=%{marker.size}<extra></extra>",
         "hovertext": [
          95776716
         ],
         "legendgroup": "Vietnam",
         "marker": {
          "color": "#19d3f3",
          "size": [
           95776716
          ],
          "sizemode": "area",
          "sizeref": 391040.27777777775,
          "symbol": "circle"
         },
         "mode": "markers",
         "name": "Vietnam",
         "orientation": "v",
         "showlegend": true,
         "type": "scatter",
         "x": [
          0.74
         ],
         "xaxis": "x",
         "y": [
          5.25
         ],
         "yaxis": "y"
        },
        {
         "hovertemplate": "<b>%{hovertext}</b><br><br>Country=China<br>Mean GDP per Capita=%{x}<br>Mean Happiness Score=%{y}<br>Population=%{marker.size}<extra></extra>",
         "hovertext": [
          1407745000
         ],
         "legendgroup": "China",
         "marker": {
          "color": "#FF6692",
          "size": [
           1407745000
          ],
          "sizemode": "area",
          "sizeref": 391040.27777777775,
          "symbol": "circle"
         },
         "mode": "markers",
         "name": "China",
         "orientation": "v",
         "showlegend": true,
         "type": "scatter",
         "x": [
          1.02
         ],
         "xaxis": "x",
         "y": [
          5.24
         ],
         "yaxis": "y"
        },
        {
         "hovertemplate": "<b>%{hovertext}</b><br><br>Country=Azerbaijan<br>Mean GDP per Capita=%{x}<br>Mean Happiness Score=%{y}<br>Population=%{marker.size}<extra></extra>",
         "hovertext": [
          10024283
         ],
         "legendgroup": "Azerbaijan",
         "marker": {
          "color": "#B6E880",
          "size": [
           10024283
          ],
          "sizemode": "area",
          "sizeref": 391040.27777777775,
          "symbol": "circle"
         },
         "mode": "markers",
         "name": "Azerbaijan",
         "orientation": "v",
         "showlegend": true,
         "type": "scatter",
         "x": [
          1.06
         ],
         "xaxis": "x",
         "y": [
          5.21
         ],
         "yaxis": "y"
        },
        {
         "hovertemplate": "<b>%{hovertext}</b><br><br>Country=Mongolia<br>Mean GDP per Capita=%{x}<br>Mean Happiness Score=%{y}<br>Population=%{marker.size}<extra></extra>",
         "hovertext": [
          3232430
         ],
         "legendgroup": "Mongolia",
         "marker": {
          "color": "#FF97FF",
          "size": [
           3232430
          ],
          "sizemode": "area",
          "sizeref": 391040.27777777775,
          "symbol": "circle"
         },
         "mode": "markers",
         "name": "Mongolia",
         "orientation": "v",
         "showlegend": true,
         "type": "scatter",
         "x": [
          0.94
         ],
         "xaxis": "x",
         "y": [
          5.2
         ],
         "yaxis": "y"
        },
        {
         "hovertemplate": "<b>%{hovertext}</b><br><br>Country=Tajikistan<br>Mean GDP per Capita=%{x}<br>Mean Happiness Score=%{y}<br>Population=%{marker.size}<extra></extra>",
         "hovertext": [
          9337003
         ],
         "legendgroup": "Tajikistan",
         "marker": {
          "color": "#FECB52",
          "size": [
           9337003
          ],
          "sizemode": "area",
          "sizeref": 391040.27777777775,
          "symbol": "circle"
         },
         "mode": "markers",
         "name": "Tajikistan",
         "orientation": "v",
         "showlegend": true,
         "type": "scatter",
         "x": [
          0.48
         ],
         "xaxis": "x",
         "y": [
          5.19
         ],
         "yaxis": "y"
        },
        {
         "hovertemplate": "<b>%{hovertext}</b><br><br>Country=Macedonia<br>Mean GDP per Capita=%{x}<br>Mean Happiness Score=%{y}<br>Population=%{marker.size}<extra></extra>",
         "hovertext": [
          2076694
         ],
         "legendgroup": "Macedonia",
         "marker": {
          "color": "#636efa",
          "size": [
           2076694
          ],
          "sizemode": "area",
          "sizeref": 391040.27777777775,
          "symbol": "circle"
         },
         "mode": "markers",
         "name": "Macedonia",
         "orientation": "v",
         "showlegend": true,
         "type": "scatter",
         "x": [
          1.01
         ],
         "xaxis": "x",
         "y": [
          5.14
         ],
         "yaxis": "y"
        },
        {
         "hovertemplate": "<b>%{hovertext}</b><br><br>Country=Bhutan<br>Mean GDP per Capita=%{x}<br>Mean Happiness Score=%{y}<br>Population=%{marker.size}<extra></extra>",
         "hovertext": [
          767459
         ],
         "legendgroup": "Bhutan",
         "marker": {
          "color": "#EF553B",
          "size": [
           767459
          ],
          "sizemode": "area",
          "sizeref": 391040.27777777775,
          "symbol": "circle"
         },
         "mode": "markers",
         "name": "Bhutan",
         "orientation": "v",
         "showlegend": true,
         "type": "scatter",
         "x": [
          0.82
         ],
         "xaxis": "x",
         "y": [
          5.12
         ],
         "yaxis": "y"
        },
        {
         "hovertemplate": "<b>%{hovertext}</b><br><br>Country=Nigeria<br>Mean GDP per Capita=%{x}<br>Mean Happiness Score=%{y}<br>Population=%{marker.size}<extra></extra>",
         "hovertext": [
          203304492
         ],
         "legendgroup": "Nigeria",
         "marker": {
          "color": "#00cc96",
          "size": [
           203304492
          ],
          "sizemode": "area",
          "sizeref": 391040.27777777775,
          "symbol": "circle"
         },
         "mode": "markers",
         "name": "Nigeria",
         "orientation": "v",
         "showlegend": true,
         "type": "scatter",
         "x": [
          0.7
         ],
         "xaxis": "x",
         "y": [
          5.09
         ],
         "yaxis": "y"
        },
        {
         "hovertemplate": "<b>%{hovertext}</b><br><br>Country=Morocco<br>Mean GDP per Capita=%{x}<br>Mean Happiness Score=%{y}<br>Population=%{marker.size}<extra></extra>",
         "hovertext": [
          36304408
         ],
         "legendgroup": "Morocco",
         "marker": {
          "color": "#ab63fa",
          "size": [
           36304408
          ],
          "sizemode": "area",
          "sizeref": 391040.27777777775,
          "symbol": "circle"
         },
         "mode": "markers",
         "name": "Morocco",
         "orientation": "v",
         "showlegend": true,
         "type": "scatter",
         "x": [
          0.8
         ],
         "xaxis": "x",
         "y": [
          5.09
         ],
         "yaxis": "y"
        },
        {
         "hovertemplate": "<b>%{hovertext}</b><br><br>Country=Jordan<br>Mean GDP per Capita=%{x}<br>Mean Happiness Score=%{y}<br>Population=%{marker.size}<extra></extra>",
         "hovertext": [
          10698683
         ],
         "legendgroup": "Jordan",
         "marker": {
          "color": "#FFA15A",
          "size": [
           10698683
          ],
          "sizemode": "area",
          "sizeref": 391040.27777777775,
          "symbol": "circle"
         },
         "mode": "markers",
         "name": "Jordan",
         "orientation": "v",
         "showlegend": true,
         "type": "scatter",
         "x": [
          0.9
         ],
         "xaxis": "x",
         "y": [
          4.96
         ],
         "yaxis": "y"
        },
        {
         "hovertemplate": "<b>%{hovertext}</b><br><br>Country=Somalia<br>Mean GDP per Capita=%{x}<br>Mean Happiness Score=%{y}<br>Population=%{marker.size}<extra></extra>",
         "hovertext": [
          15981300
         ],
         "legendgroup": "Somalia",
         "marker": {
          "color": "#19d3f3",
          "size": [
           15981300
          ],
          "sizemode": "area",
          "sizeref": 391040.27777777775,
          "symbol": "circle"
         },
         "mode": "markers",
         "name": "Somalia",
         "orientation": "v",
         "showlegend": true,
         "type": "scatter",
         "x": [
          0.07
         ],
         "xaxis": "x",
         "y": [
          4.96
         ],
         "yaxis": "y"
        },
        {
         "hovertemplate": "<b>%{hovertext}</b><br><br>Country=Lebanon<br>Mean GDP per Capita=%{x}<br>Mean Happiness Score=%{y}<br>Population=%{marker.size}<extra></extra>",
         "hovertext": [
          5781907
         ],
         "legendgroup": "Lebanon",
         "marker": {
          "color": "#FF6692",
          "size": [
           5781907
          ],
          "sizemode": "area",
          "sizeref": 391040.27777777775,
          "symbol": "circle"
         },
         "mode": "markers",
         "name": "Lebanon",
         "orientation": "v",
         "showlegend": true,
         "type": "scatter",
         "x": [
          1.03
         ],
         "xaxis": "x",
         "y": [
          4.96
         ],
         "yaxis": "y"
        },
        {
         "hovertemplate": "<b>%{hovertext}</b><br><br>Country=Nepal<br>Mean GDP per Capita=%{x}<br>Mean Happiness Score=%{y}<br>Population=%{marker.size}<extra></extra>",
         "hovertext": [
          28832496
         ],
         "legendgroup": "Nepal",
         "marker": {
          "color": "#B6E880",
          "size": [
           28832496
          ],
          "sizemode": "area",
          "sizeref": 391040.27777777775,
          "symbol": "circle"
         },
         "mode": "markers",
         "name": "Nepal",
         "orientation": "v",
         "showlegend": true,
         "type": "scatter",
         "x": [
          0.45
         ],
         "xaxis": "x",
         "y": [
          4.91
         ],
         "yaxis": "y"
        },
        {
         "hovertemplate": "<b>%{hovertext}</b><br><br>Country=Laos<br>Mean GDP per Capita=%{x}<br>Mean Happiness Score=%{y}<br>Population=%{marker.size}<extra></extra>",
         "hovertext": [
          7212053
         ],
         "legendgroup": "Laos",
         "marker": {
          "color": "#FF97FF",
          "size": [
           7212053
          ],
          "sizemode": "area",
          "sizeref": 391040.27777777775,
          "symbol": "circle"
         },
         "mode": "markers",
         "name": "Laos",
         "orientation": "v",
         "showlegend": true,
         "type": "scatter",
         "x": [
          0.72
         ],
         "xaxis": "x",
         "y": [
          4.9
         ],
         "yaxis": "y"
        },
        {
         "hovertemplate": "<b>%{hovertext}</b><br><br>Country=Albania<br>Mean GDP per Capita=%{x}<br>Mean Happiness Score=%{y}<br>Population=%{marker.size}<extra></extra>",
         "hovertext": [
          2854191
         ],
         "legendgroup": "Albania",
         "marker": {
          "color": "#FECB52",
          "size": [
           2854191
          ],
          "sizemode": "area",
          "sizeref": 391040.27777777775,
          "symbol": "circle"
         },
         "mode": "markers",
         "name": "Albania",
         "orientation": "v",
         "showlegend": true,
         "type": "scatter",
         "x": [
          0.96
         ],
         "xaxis": "x",
         "y": [
          4.86
         ],
         "yaxis": "y"
        },
        {
         "hovertemplate": "<b>%{hovertext}</b><br><br>Country=Bulgaria<br>Mean GDP per Capita=%{x}<br>Mean Happiness Score=%{y}<br>Population=%{marker.size}<extra></extra>",
         "hovertext": [
          6975761
         ],
         "legendgroup": "Bulgaria",
         "marker": {
          "color": "#636efa",
          "size": [
           6975761
          ],
          "sizemode": "area",
          "sizeref": 391040.27777777775,
          "symbol": "circle"
         },
         "mode": "markers",
         "name": "Bulgaria",
         "orientation": "v",
         "showlegend": true,
         "type": "scatter",
         "x": [
          1.11
         ],
         "xaxis": "x",
         "y": [
          4.8
         ],
         "yaxis": "y"
        },
        {
         "hovertemplate": "<b>%{hovertext}</b><br><br>Country=South Africa<br>Mean GDP per Capita=%{x}<br>Mean Happiness Score=%{y}<br>Population=%{marker.size}<extra></extra>",
         "hovertext": [
          58087055
         ],
         "legendgroup": "South Africa",
         "marker": {
          "color": "#EF553B",
          "size": [
           58087055
          ],
          "sizemode": "area",
          "sizeref": 391040.27777777775,
          "symbol": "circle"
         },
         "mode": "markers",
         "name": "South Africa",
         "orientation": "v",
         "showlegend": true,
         "type": "scatter",
         "x": [
          0.98
         ],
         "xaxis": "x",
         "y": [
          4.79
         ],
         "yaxis": "y"
        },
        {
         "hovertemplate": "<b>%{hovertext}</b><br><br>Country=Cameroon<br>Mean GDP per Capita=%{x}<br>Mean Happiness Score=%{y}<br>Population=%{marker.size}<extra></extra>",
         "hovertext": [
          25782341
         ],
         "legendgroup": "Cameroon",
         "marker": {
          "color": "#00cc96",
          "size": [
           25782341
          ],
          "sizemode": "area",
          "sizeref": 391040.27777777775,
          "symbol": "circle"
         },
         "mode": "markers",
         "name": "Cameroon",
         "orientation": "v",
         "showlegend": true,
         "type": "scatter",
         "x": [
          0.52
         ],
         "xaxis": "x",
         "y": [
          4.78
         ],
         "yaxis": "y"
        },
        {
         "hovertemplate": "<b>%{hovertext}</b><br><br>Country=Gambia<br>Mean GDP per Capita=%{x}<br>Mean Happiness Score=%{y}<br>Population=%{marker.size}<extra></extra>",
         "hovertext": [
          2508883
         ],
         "legendgroup": "Gambia",
         "marker": {
          "color": "#ab63fa",
          "size": [
           2508883
          ],
          "sizemode": "area",
          "sizeref": 391040.27777777775,
          "symbol": "circle"
         },
         "mode": "markers",
         "name": "Gambia",
         "orientation": "v",
         "showlegend": true,
         "type": "scatter",
         "x": [
          0.34
         ],
         "xaxis": "x",
         "y": [
          4.78
         ],
         "yaxis": "y"
        },
        {
         "hovertemplate": "<b>%{hovertext}</b><br><br>Country=Ghana<br>Mean GDP per Capita=%{x}<br>Mean Happiness Score=%{y}<br>Population=%{marker.size}<extra></extra>",
         "hovertext": [
          31522290
         ],
         "legendgroup": "Ghana",
         "marker": {
          "color": "#FFA15A",
          "size": [
           31522290
          ],
          "sizemode": "area",
          "sizeref": 391040.27777777775,
          "symbol": "circle"
         },
         "mode": "markers",
         "name": "Ghana",
         "orientation": "v",
         "showlegend": true,
         "type": "scatter",
         "x": [
          0.63
         ],
         "xaxis": "x",
         "y": [
          4.71
         ],
         "yaxis": "y"
        },
        {
         "hovertemplate": "<b>%{hovertext}</b><br><br>Country=Mozambique<br>Mean GDP per Capita=%{x}<br>Mean Happiness Score=%{y}<br>Population=%{marker.size}<extra></extra>",
         "hovertext": [
          30285595
         ],
         "legendgroup": "Mozambique",
         "marker": {
          "color": "#19d3f3",
          "size": [
           30285595
          ],
          "sizemode": "area",
          "sizeref": 391040.27777777775,
          "symbol": "circle"
         },
         "mode": "markers",
         "name": "Mozambique",
         "orientation": "v",
         "showlegend": true,
         "type": "scatter",
         "x": [
          0.18
         ],
         "xaxis": "x",
         "y": [
          4.7
         ],
         "yaxis": "y"
        },
        {
         "hovertemplate": "<b>%{hovertext}</b><br><br>Country=Bangladesh<br>Mean GDP per Capita=%{x}<br>Mean Happiness Score=%{y}<br>Population=%{marker.size}<extra></extra>",
         "hovertext": [
          165516222
         ],
         "legendgroup": "Bangladesh",
         "marker": {
          "color": "#FF6692",
          "size": [
           165516222
          ],
          "sizemode": "area",
          "sizeref": 391040.27777777775,
          "symbol": "circle"
         },
         "mode": "markers",
         "name": "Bangladesh",
         "orientation": "v",
         "showlegend": true,
         "type": "scatter",
         "x": [
          0.55
         ],
         "xaxis": "x",
         "y": [
          4.7
         ],
         "yaxis": "y"
        },
        {
         "hovertemplate": "<b>%{hovertext}</b><br><br>Country=Palestinian Territories<br>Mean GDP per Capita=%{x}<br>Mean Happiness Score=%{y}<br>Population=%{marker.size}<extra></extra>",
         "hovertext": [
          4685306
         ],
         "legendgroup": "Palestinian Territories",
         "marker": {
          "color": "#B6E880",
          "size": [
           4685306
          ],
          "sizemode": "area",
          "sizeref": 391040.27777777775,
          "symbol": "circle"
         },
         "mode": "markers",
         "name": "Palestinian Territories",
         "orientation": "v",
         "showlegend": true,
         "type": "scatter",
         "x": [
          0.65
         ],
         "xaxis": "x",
         "y": [
          4.68
         ],
         "yaxis": "y"
        },
        {
         "hovertemplate": "<b>%{hovertext}</b><br><br>Country=Iran<br>Mean GDP per Capita=%{x}<br>Mean Happiness Score=%{y}<br>Population=%{marker.size}<extra></extra>",
         "hovertext": [
          86564202
         ],
         "legendgroup": "Iran",
         "marker": {
          "color": "#FF97FF",
          "size": [
           86564202
          ],
          "sizemode": "area",
          "sizeref": 391040.27777777775,
          "symbol": "circle"
         },
         "mode": "markers",
         "name": "Iran",
         "orientation": "v",
         "showlegend": true,
         "type": "scatter",
         "x": [
          1.07
         ],
         "xaxis": "x",
         "y": [
          4.66
         ],
         "yaxis": "y"
        },
        {
         "hovertemplate": "<b>%{hovertext}</b><br><br>Country=Tunisia<br>Mean GDP per Capita=%{x}<br>Mean Happiness Score=%{y}<br>Population=%{marker.size}<extra></extra>",
         "hovertext": [
          12049314
         ],
         "legendgroup": "Tunisia",
         "marker": {
          "color": "#FECB52",
          "size": [
           12049314
          ],
          "sizemode": "area",
          "sizeref": 391040.27777777775,
          "symbol": "circle"
         },
         "mode": "markers",
         "name": "Tunisia",
         "orientation": "v",
         "showlegend": true,
         "type": "scatter",
         "x": [
          0.93
         ],
         "xaxis": "x",
         "y": [
          4.65
         ],
         "yaxis": "y"
        },
        {
         "hovertemplate": "<b>%{hovertext}</b><br><br>Country=Armenia<br>Mean GDP per Capita=%{x}<br>Mean Happiness Score=%{y}<br>Population=%{marker.size}<extra></extra>",
         "hovertext": [
          2820602
         ],
         "legendgroup": "Armenia",
         "marker": {
          "color": "#636efa",
          "size": [
           2820602
          ],
          "sizemode": "area",
          "sizeref": 391040.27777777775,
          "symbol": "circle"
         },
         "mode": "markers",
         "name": "Armenia",
         "orientation": "v",
         "showlegend": true,
         "type": "scatter",
         "x": [
          0.88
         ],
         "xaxis": "x",
         "y": [
          4.64
         ],
         "yaxis": "y"
        },
        {
         "hovertemplate": "<b>%{hovertext}</b><br><br>Country=Iraq<br>Mean GDP per Capita=%{x}<br>Mean Happiness Score=%{y}<br>Population=%{marker.size}<extra></extra>",
         "hovertext": [
          41563520
         ],
         "legendgroup": "Iraq",
         "marker": {
          "color": "#EF553B",
          "size": [
           41563520
          ],
          "sizemode": "area",
          "sizeref": 391040.27777777775,
          "symbol": "circle"
         },
         "mode": "markers",
         "name": "Iraq",
         "orientation": "v",
         "showlegend": true,
         "type": "scatter",
         "x": [
          1.01
         ],
         "xaxis": "x",
         "y": [
          4.62
         ],
         "yaxis": "y"
        },
        {
         "hovertemplate": "<b>%{hovertext}</b><br><br>Country=Republic of the Congo<br>Mean GDP per Capita=%{x}<br>Mean Happiness Score=%{y}<br>Population=%{marker.size}<extra></extra>",
         "hovertext": [
          5570733
         ],
         "legendgroup": "Republic of the Congo",
         "marker": {
          "color": "#00cc96",
          "size": [
           5570733
          ],
          "sizemode": "area",
          "sizeref": 391040.27777777775,
          "symbol": "circle"
         },
         "mode": "markers",
         "name": "Republic of the Congo",
         "orientation": "v",
         "showlegend": true,
         "type": "scatter",
         "x": [
          0.67
         ],
         "xaxis": "x",
         "y": [
          4.61
         ],
         "yaxis": "y"
        },
        {
         "hovertemplate": "<b>%{hovertext}</b><br><br>Country=Namibia<br>Mean GDP per Capita=%{x}<br>Mean Happiness Score=%{y}<br>Population=%{marker.size}<extra></extra>",
         "hovertext": [
          2446644
         ],
         "legendgroup": "Namibia",
         "marker": {
          "color": "#ab63fa",
          "size": [
           2446644
          ],
          "sizemode": "area",
          "sizeref": 391040.27777777775,
          "symbol": "circle"
         },
         "mode": "markers",
         "name": "Namibia",
         "orientation": "v",
         "showlegend": true,
         "type": "scatter",
         "x": [
          0.91
         ],
         "xaxis": "x",
         "y": [
          4.6
         ],
         "yaxis": "y"
        },
        {
         "hovertemplate": "<b>%{hovertext}</b><br><br>Country=Senegal<br>Mean GDP per Capita=%{x}<br>Mean Happiness Score=%{y}<br>Population=%{marker.size}<extra></extra>",
         "hovertext": [
          16000781
         ],
         "legendgroup": "Senegal",
         "marker": {
          "color": "#FFA15A",
          "size": [
           16000781
          ],
          "sizemode": "area",
          "sizeref": 391040.27777777775,
          "symbol": "circle"
         },
         "mode": "markers",
         "name": "Senegal",
         "orientation": "v",
         "showlegend": true,
         "type": "scatter",
         "x": [
          0.45
         ],
         "xaxis": "x",
         "y": [
          4.56
         ],
         "yaxis": "y"
        },
        {
         "hovertemplate": "<b>%{hovertext}</b><br><br>Country=Kenya<br>Mean GDP per Capita=%{x}<br>Mean Happiness Score=%{y}<br>Population=%{marker.size}<extra></extra>",
         "hovertext": [
          50951450
         ],
         "legendgroup": "Kenya",
         "marker": {
          "color": "#19d3f3",
          "size": [
           50951450
          ],
          "sizemode": "area",
          "sizeref": 391040.27777777775,
          "symbol": "circle"
         },
         "mode": "markers",
         "name": "Kenya",
         "orientation": "v",
         "showlegend": true,
         "type": "scatter",
         "x": [
          0.51
         ],
         "xaxis": "x",
         "y": [
          4.52
         ],
         "yaxis": "y"
        },
        {
         "hovertemplate": "<b>%{hovertext}</b><br><br>Country=Ivory Coast<br>Mean GDP per Capita=%{x}<br>Mean Happiness Score=%{y}<br>Population=%{marker.size}<extra></extra>",
         "hovertext": [
          26147551
         ],
         "legendgroup": "Ivory Coast",
         "marker": {
          "color": "#FF6692",
          "size": [
           26147551
          ],
          "sizemode": "area",
          "sizeref": 391040.27777777775,
          "symbol": "circle"
         },
         "mode": "markers",
         "name": "Ivory Coast",
         "orientation": "v",
         "showlegend": true,
         "type": "scatter",
         "x": [
          0.58
         ],
         "xaxis": "x",
         "y": [
          4.52
         ],
         "yaxis": "y"
        },
        {
         "hovertemplate": "<b>%{hovertext}</b><br><br>Country=Ukraine<br>Mean GDP per Capita=%{x}<br>Mean Happiness Score=%{y}<br>Population=%{marker.size}<extra></extra>",
         "hovertext": [
          44386203
         ],
         "legendgroup": "Ukraine",
         "marker": {
          "color": "#B6E880",
          "size": [
           44386203
          ],
          "sizemode": "area",
          "sizeref": 391040.27777777775,
          "symbol": "circle"
         },
         "mode": "markers",
         "name": "Ukraine",
         "orientation": "v",
         "showlegend": true,
         "type": "scatter",
         "x": [
          0.87
         ],
         "xaxis": "x",
         "y": [
          4.5
         ],
         "yaxis": "y"
        },
        {
         "hovertemplate": "<b>%{hovertext}</b><br><br>Country=Georgia<br>Mean GDP per Capita=%{x}<br>Mean Happiness Score=%{y}<br>Population=%{marker.size}<extra></extra>",
         "hovertext": [
          3720161
         ],
         "legendgroup": "Georgia",
         "marker": {
          "color": "#FF97FF",
          "size": [
           3720161
          ],
          "sizemode": "area",
          "sizeref": 391040.27777777775,
          "symbol": "circle"
         },
         "mode": "markers",
         "name": "Georgia",
         "orientation": "v",
         "showlegend": true,
         "type": "scatter",
         "x": [
          0.9
         ],
         "xaxis": "x",
         "y": [
          4.5
         ],
         "yaxis": "y"
        },
        {
         "hovertemplate": "<b>%{hovertext}</b><br><br>Country=Gabon<br>Mean GDP per Capita=%{x}<br>Mean Happiness Score=%{y}<br>Population=%{marker.size}<extra></extra>",
         "hovertext": [
          2242785
         ],
         "legendgroup": "Gabon",
         "marker": {
          "color": "#FECB52",
          "size": [
           2242785
          ],
          "sizemode": "area",
          "sizeref": 391040.27777777775,
          "symbol": "circle"
         },
         "mode": "markers",
         "name": "Gabon",
         "orientation": "v",
         "showlegend": true,
         "type": "scatter",
         "x": [
          1.09
         ],
         "xaxis": "x",
         "y": [
          4.5
         ],
         "yaxis": "y"
        },
        {
         "hovertemplate": "<b>%{hovertext}</b><br><br>Country=Swaziland<br>Mean GDP per Capita=%{x}<br>Mean Happiness Score=%{y}<br>Population=%{marker.size}<extra></extra>",
         "hovertext": [
          1169613
         ],
         "legendgroup": "Swaziland",
         "marker": {
          "color": "#636efa",
          "size": [
           1169613
          ],
          "sizemode": "area",
          "sizeref": 391040.27777777775,
          "symbol": "circle"
         },
         "mode": "markers",
         "name": "Swaziland",
         "orientation": "v",
         "showlegend": true,
         "type": "scatter",
         "x": [
          0.79
         ],
         "xaxis": "x",
         "y": [
          4.46
         ],
         "yaxis": "y"
        },
        {
         "hovertemplate": "<b>%{hovertext}</b><br><br>Country=Zambia<br>Mean GDP per Capita=%{x}<br>Mean Happiness Score=%{y}<br>Population=%{marker.size}<extra></extra>",
         "hovertext": [
          18380477
         ],
         "legendgroup": "Zambia",
         "marker": {
          "color": "#EF553B",
          "size": [
           18380477
          ],
          "sizemode": "area",
          "sizeref": 391040.27777777775,
          "symbol": "circle"
         },
         "mode": "markers",
         "name": "Zambia",
         "orientation": "v",
         "showlegend": true,
         "type": "scatter",
         "x": [
          0.55
         ],
         "xaxis": "x",
         "y": [
          4.46
         ],
         "yaxis": "y"
        },
        {
         "hovertemplate": "<b>%{hovertext}</b><br><br>Country=Democratic Republic of the Congo<br>Mean GDP per Capita=%{x}<br>Mean Happiness Score=%{y}<br>Population=%{marker.size}<extra></extra>",
         "hovertext": [
          89906890
         ],
         "legendgroup": "Democratic Republic of the Congo",
         "marker": {
          "color": "#00cc96",
          "size": [
           89906890
          ],
          "sizemode": "area",
          "sizeref": 391040.27777777775,
          "symbol": "circle"
         },
         "mode": "markers",
         "name": "Democratic Republic of the Congo",
         "orientation": "v",
         "showlegend": true,
         "type": "scatter",
         "x": [
          0.06
         ],
         "xaxis": "x",
         "y": [
          4.41
         ],
         "yaxis": "y"
        },
        {
         "hovertemplate": "<b>%{hovertext}</b><br><br>Country=Myanmar<br>Mean GDP per Capita=%{x}<br>Mean Happiness Score=%{y}<br>Population=%{marker.size}<extra></extra>",
         "hovertext": [
          53040212
         ],
         "legendgroup": "Myanmar",
         "marker": {
          "color": "#ab63fa",
          "size": [
           53040212
          ],
          "sizemode": "area",
          "sizeref": 391040.27777777775,
          "symbol": "circle"
         },
         "mode": "markers",
         "name": "Myanmar",
         "orientation": "v",
         "showlegend": true,
         "type": "scatter",
         "x": [
          0.5
         ],
         "xaxis": "x",
         "y": [
          4.41
         ],
         "yaxis": "y"
        },
        {
         "hovertemplate": "<b>%{hovertext}</b><br><br>Country=Niger<br>Mean GDP per Capita=%{x}<br>Mean Happiness Score=%{y}<br>Population=%{marker.size}<extra></extra>",
         "hovertext": [
          23443393
         ],
         "legendgroup": "Niger",
         "marker": {
          "color": "#FFA15A",
          "size": [
           23443393
          ],
          "sizemode": "area",
          "sizeref": 391040.27777777775,
          "symbol": "circle"
         },
         "mode": "markers",
         "name": "Niger",
         "orientation": "v",
         "showlegend": true,
         "type": "scatter",
         "x": [
          0.13
         ],
         "xaxis": "x",
         "y": [
          4.39
         ],
         "yaxis": "y"
        },
        {
         "hovertemplate": "<b>%{hovertext}</b><br><br>Country=Cambodia<br>Mean GDP per Capita=%{x}<br>Mean Happiness Score=%{y}<br>Population=%{marker.size}<extra></extra>",
         "hovertext": [
          16207746
         ],
         "legendgroup": "Cambodia",
         "marker": {
          "color": "#19d3f3",
          "size": [
           16207746
          ],
          "sizemode": "area",
          "sizeref": 391040.27777777775,
          "symbol": "circle"
         },
         "mode": "markers",
         "name": "Cambodia",
         "orientation": "v",
         "showlegend": true,
         "type": "scatter",
         "x": [
          0.56
         ],
         "xaxis": "x",
         "y": [
          4.38
         ],
         "yaxis": "y"
        },
        {
         "hovertemplate": "<b>%{hovertext}</b><br><br>Country=Ethiopia<br>Mean GDP per Capita=%{x}<br>Mean Happiness Score=%{y}<br>Population=%{marker.size}<extra></extra>",
         "hovertext": [
          114120594
         ],
         "legendgroup": "Ethiopia",
         "marker": {
          "color": "#FF6692",
          "size": [
           114120594
          ],
          "sizemode": "area",
          "sizeref": 391040.27777777775,
          "symbol": "circle"
         },
         "mode": "markers",
         "name": "Ethiopia",
         "orientation": "v",
         "showlegend": true,
         "type": "scatter",
         "x": [
          0.31
         ],
         "xaxis": "x",
         "y": [
          4.38
         ],
         "yaxis": "y"
        },
        {
         "hovertemplate": "<b>%{hovertext}</b><br><br>Country=Mauritania<br>Mean GDP per Capita=%{x}<br>Mean Happiness Score=%{y}<br>Population=%{marker.size}<extra></extra>",
         "hovertext": [
          4383849
         ],
         "legendgroup": "Mauritania",
         "marker": {
          "color": "#B6E880",
          "size": [
           4383849
          ],
          "sizemode": "area",
          "sizeref": 391040.27777777775,
          "symbol": "circle"
         },
         "mode": "markers",
         "name": "Mauritania",
         "orientation": "v",
         "showlegend": true,
         "type": "scatter",
         "x": [
          0.58
         ],
         "xaxis": "x",
         "y": [
          4.36
         ],
         "yaxis": "y"
        },
        {
         "hovertemplate": "<b>%{hovertext}</b><br><br>Country=Sierra Leone<br>Mean GDP per Capita=%{x}<br>Mean Happiness Score=%{y}<br>Population=%{marker.size}<extra></extra>",
         "hovertext": [
          8046828
         ],
         "legendgroup": "Sierra Leone",
         "marker": {
          "color": "#FF97FF",
          "size": [
           8046828
          ],
          "sizemode": "area",
          "sizeref": 391040.27777777775,
          "symbol": "circle"
         },
         "mode": "markers",
         "name": "Sierra Leone",
         "orientation": "v",
         "showlegend": true,
         "type": "scatter",
         "x": [
          0.31
         ],
         "xaxis": "x",
         "y": [
          4.36
         ],
         "yaxis": "y"
        },
        {
         "hovertemplate": "<b>%{hovertext}</b><br><br>Country=Sri Lanka<br>Mean GDP per Capita=%{x}<br>Mean Happiness Score=%{y}<br>Population=%{marker.size}<extra></extra>",
         "hovertext": [
          21803000
         ],
         "legendgroup": "Sri Lanka",
         "marker": {
          "color": "#FECB52",
          "size": [
           21803000
          ],
          "sizemode": "area",
          "sizeref": 391040.27777777775,
          "symbol": "circle"
         },
         "mode": "markers",
         "name": "Sri Lanka",
         "orientation": "v",
         "showlegend": true,
         "type": "scatter",
         "x": [
          0.95
         ],
         "xaxis": "x",
         "y": [
          4.35
         ],
         "yaxis": "y"
        },
        {
         "hovertemplate": "<b>%{hovertext}</b><br><br>Country=Egypt<br>Mean GDP per Capita=%{x}<br>Mean Happiness Score=%{y}<br>Population=%{marker.size}<extra></extra>",
         "hovertext": [
          105618671
         ],
         "legendgroup": "Egypt",
         "marker": {
          "color": "#636efa",
          "size": [
           105618671
          ],
          "sizemode": "area",
          "sizeref": 391040.27777777775,
          "symbol": "circle"
         },
         "mode": "markers",
         "name": "Egypt",
         "orientation": "v",
         "showlegend": true,
         "type": "scatter",
         "x": [
          0.93
         ],
         "xaxis": "x",
         "y": [
          4.34
         ],
         "yaxis": "y"
        },
        {
         "hovertemplate": "<b>%{hovertext}</b><br><br>Country=Mali<br>Mean GDP per Capita=%{x}<br>Mean Happiness Score=%{y}<br>Population=%{marker.size}<extra></extra>",
         "hovertext": [
          20567424
         ],
         "legendgroup": "Mali",
         "marker": {
          "color": "#EF553B",
          "size": [
           20567424
          ],
          "sizemode": "area",
          "sizeref": 391040.27777777775,
          "symbol": "circle"
         },
         "mode": "markers",
         "name": "Mali",
         "orientation": "v",
         "showlegend": true,
         "type": "scatter",
         "x": [
          0.38
         ],
         "xaxis": "x",
         "y": [
          4.32
         ],
         "yaxis": "y"
        },
        {
         "hovertemplate": "<b>%{hovertext}</b><br><br>Country=Burkina Faso<br>Mean GDP per Capita=%{x}<br>Mean Happiness Score=%{y}<br>Population=%{marker.size}<extra></extra>",
         "hovertext": [
          20951639
         ],
         "legendgroup": "Burkina Faso",
         "marker": {
          "color": "#00cc96",
          "size": [
           20951639
          ],
          "sizemode": "area",
          "sizeref": 391040.27777777775,
          "symbol": "circle"
         },
         "mode": "markers",
         "name": "Burkina Faso",
         "orientation": "v",
         "showlegend": true,
         "type": "scatter",
         "x": [
          0.33
         ],
         "xaxis": "x",
         "y": [
          4.26
         ],
         "yaxis": "y"
        },
        {
         "hovertemplate": "<b>%{hovertext}</b><br><br>Country=Benin<br>Mean GDP per Capita=%{x}<br>Mean Happiness Score=%{y}<br>Population=%{marker.size}<extra></extra>",
         "hovertext": [
          12290444
         ],
         "legendgroup": "Benin",
         "marker": {
          "color": "#ab63fa",
          "size": [
           12290444
          ],
          "sizemode": "area",
          "sizeref": 391040.27777777775,
          "symbol": "circle"
         },
         "mode": "markers",
         "name": "Benin",
         "orientation": "v",
         "showlegend": true,
         "type": "scatter",
         "x": [
          0.4
         ],
         "xaxis": "x",
         "y": [
          4.23
         ],
         "yaxis": "y"
        },
        {
         "hovertemplate": "<b>%{hovertext}</b><br><br>Country=Uganda<br>Mean GDP per Capita=%{x}<br>Mean Happiness Score=%{y}<br>Population=%{marker.size}<extra></extra>",
         "hovertext": [
          42949080
         ],
         "legendgroup": "Uganda",
         "marker": {
          "color": "#FFA15A",
          "size": [
           42949080
          ],
          "sizemode": "area",
          "sizeref": 391040.27777777775,
          "symbol": "circle"
         },
         "mode": "markers",
         "name": "Uganda",
         "orientation": "v",
         "showlegend": true,
         "type": "scatter",
         "x": [
          0.32
         ],
         "xaxis": "x",
         "y": [
          4.21
         ],
         "yaxis": "y"
        },
        {
         "hovertemplate": "<b>%{hovertext}</b><br><br>Country=Liberia<br>Mean GDP per Capita=%{x}<br>Mean Happiness Score=%{y}<br>Population=%{marker.size}<extra></extra>",
         "hovertext": [
          4985289
         ],
         "legendgroup": "Liberia",
         "marker": {
          "color": "#19d3f3",
          "size": [
           4985289
          ],
          "sizemode": "area",
          "sizeref": 391040.27777777775,
          "symbol": "circle"
         },
         "mode": "markers",
         "name": "Liberia",
         "orientation": "v",
         "showlegend": true,
         "type": "scatter",
         "x": [
          0.12
         ],
         "xaxis": "x",
         "y": [
          4.18
         ],
         "yaxis": "y"
        },
        {
         "hovertemplate": "<b>%{hovertext}</b><br><br>Country=India<br>Mean GDP per Capita=%{x}<br>Mean Happiness Score=%{y}<br>Population=%{marker.size}<extra></extra>",
         "hovertext": [
          1383112050
         ],
         "legendgroup": "India",
         "marker": {
          "color": "#FF6692",
          "size": [
           1383112050
          ],
          "sizemode": "area",
          "sizeref": 391040.27777777775,
          "symbol": "circle"
         },
         "mode": "markers",
         "name": "India",
         "orientation": "v",
         "showlegend": true,
         "type": "scatter",
         "x": [
          0.73
         ],
         "xaxis": "x",
         "y": [
          4.18
         ],
         "yaxis": "y"
        },
        {
         "hovertemplate": "<b>%{hovertext}</b><br><br>Country=Guinea<br>Mean GDP per Capita=%{x}<br>Mean Happiness Score=%{y}<br>Population=%{marker.size}<extra></extra>",
         "hovertext": [
          12877539
         ],
         "legendgroup": "Guinea",
         "marker": {
          "color": "#B6E880",
          "size": [
           12877539
          ],
          "sizemode": "area",
          "sizeref": 391040.27777777775,
          "symbol": "circle"
         },
         "mode": "markers",
         "name": "Guinea",
         "orientation": "v",
         "showlegend": true,
         "type": "scatter",
         "x": [
          0.3
         ],
         "xaxis": "x",
         "y": [
          4.17
         ],
         "yaxis": "y"
        },
        {
         "hovertemplate": "<b>%{hovertext}</b><br><br>Country=Chad<br>Mean GDP per Capita=%{x}<br>Mean Happiness Score=%{y}<br>Population=%{marker.size}<extra></extra>",
         "hovertext": [
          16126866
         ],
         "legendgroup": "Chad",
         "marker": {
          "color": "#FF97FF",
          "size": [
           16126866
          ],
          "sizemode": "area",
          "sizeref": 391040.27777777775,
          "symbol": "circle"
         },
         "mode": "markers",
         "name": "Chad",
         "orientation": "v",
         "showlegend": true,
         "type": "scatter",
         "x": [
          0.35
         ],
         "xaxis": "x",
         "y": [
          4.08
         ],
         "yaxis": "y"
        },
        {
         "hovertemplate": "<b>%{hovertext}</b><br><br>Country=Comoros<br>Mean GDP per Capita=%{x}<br>Mean Happiness Score=%{y}<br>Population=%{marker.size}<extra></extra>",
         "hovertext": [
          790986
         ],
         "legendgroup": "Comoros",
         "marker": {
          "color": "#FECB52",
          "size": [
           790986
          ],
          "sizemode": "area",
          "sizeref": 391040.27777777775,
          "symbol": "circle"
         },
         "mode": "markers",
         "name": "Comoros",
         "orientation": "v",
         "showlegend": true,
         "type": "scatter",
         "x": [
          0.33
         ],
         "xaxis": "x",
         "y": [
          4.07
         ],
         "yaxis": "y"
        },
        {
         "hovertemplate": "<b>%{hovertext}</b><br><br>Country=Lesotho<br>Mean GDP per Capita=%{x}<br>Mean Happiness Score=%{y}<br>Population=%{marker.size}<extra></extra>",
         "hovertext": [
          2225702
         ],
         "legendgroup": "Lesotho",
         "marker": {
          "color": "#636efa",
          "size": [
           2225702
          ],
          "sizemode": "area",
          "sizeref": 391040.27777777775,
          "symbol": "circle"
         },
         "mode": "markers",
         "name": "Lesotho",
         "orientation": "v",
         "showlegend": true,
         "type": "scatter",
         "x": [
          0.46
         ],
         "xaxis": "x",
         "y": [
          4.01
         ],
         "yaxis": "y"
        },
        {
         "hovertemplate": "<b>%{hovertext}</b><br><br>Country=Angola<br>Mean GDP per Capita=%{x}<br>Mean Happiness Score=%{y}<br>Population=%{marker.size}<extra></extra>",
         "hovertext": [
          32353588
         ],
         "legendgroup": "Angola",
         "marker": {
          "color": "#EF553B",
          "size": [
           32353588
          ],
          "sizemode": "area",
          "sizeref": 391040.27777777775,
          "symbol": "circle"
         },
         "mode": "markers",
         "name": "Angola",
         "orientation": "v",
         "showlegend": true,
         "type": "scatter",
         "x": [
          0.81
         ],
         "xaxis": "x",
         "y": [
          3.91
         ],
         "yaxis": "y"
        },
        {
         "hovertemplate": "<b>%{hovertext}</b><br><br>Country=Madagascar<br>Mean GDP per Capita=%{x}<br>Mean Happiness Score=%{y}<br>Population=%{marker.size}<extra></extra>",
         "hovertext": [
          27533134
         ],
         "legendgroup": "Madagascar",
         "marker": {
          "color": "#00cc96",
          "size": [
           27533134
          ],
          "sizemode": "area",
          "sizeref": 391040.27777777775,
          "symbol": "circle"
         },
         "mode": "markers",
         "name": "Madagascar",
         "orientation": "v",
         "showlegend": true,
         "type": "scatter",
         "x": [
          0.26
         ],
         "xaxis": "x",
         "y": [
          3.87
         ],
         "yaxis": "y"
        },
        {
         "hovertemplate": "<b>%{hovertext}</b><br><br>Country=Sudan<br>Mean GDP per Capita=%{x}<br>Mean Happiness Score=%{y}<br>Population=%{marker.size}<extra></extra>",
         "hovertext": [
          43232093
         ],
         "legendgroup": "Sudan",
         "marker": {
          "color": "#ab63fa",
          "size": [
           43232093
          ],
          "sizemode": "area",
          "sizeref": 391040.27777777775,
          "symbol": "circle"
         },
         "mode": "markers",
         "name": "Sudan",
         "orientation": "v",
         "showlegend": true,
         "type": "scatter",
         "x": [
          0.5
         ],
         "xaxis": "x",
         "y": [
          3.85
         ],
         "yaxis": "y"
        },
        {
         "hovertemplate": "<b>%{hovertext}</b><br><br>Country=Haiti<br>Mean GDP per Capita=%{x}<br>Mean Happiness Score=%{y}<br>Population=%{marker.size}<extra></extra>",
         "hovertext": [
          11160438
         ],
         "legendgroup": "Haiti",
         "marker": {
          "color": "#FFA15A",
          "size": [
           11160438
          ],
          "sizemode": "area",
          "sizeref": 391040.27777777775,
          "symbol": "circle"
         },
         "mode": "markers",
         "name": "Haiti",
         "orientation": "v",
         "showlegend": true,
         "type": "scatter",
         "x": [
          0.31
         ],
         "xaxis": "x",
         "y": [
          3.83
         ],
         "yaxis": "y"
        },
        {
         "hovertemplate": "<b>%{hovertext}</b><br><br>Country=Malawi<br>Mean GDP per Capita=%{x}<br>Mean Happiness Score=%{y}<br>Population=%{marker.size}<extra></extra>",
         "hovertext": [
          18867337
         ],
         "legendgroup": "Malawi",
         "marker": {
          "color": "#19d3f3",
          "size": [
           18867337
          ],
          "sizemode": "area",
          "sizeref": 391040.27777777775,
          "symbol": "circle"
         },
         "mode": "markers",
         "name": "Malawi",
         "orientation": "v",
         "showlegend": true,
         "type": "scatter",
         "x": [
          0.14
         ],
         "xaxis": "x",
         "y": [
          3.82
         ],
         "yaxis": "y"
        },
        {
         "hovertemplate": "<b>%{hovertext}</b><br><br>Country=Zimbabwe<br>Mean GDP per Capita=%{x}<br>Mean Happiness Score=%{y}<br>Population=%{marker.size}<extra></extra>",
         "hovertext": [
          15354608
         ],
         "legendgroup": "Zimbabwe",
         "marker": {
          "color": "#FF6692",
          "size": [
           15354608
          ],
          "sizemode": "area",
          "sizeref": 391040.27777777775,
          "symbol": "circle"
         },
         "mode": "markers",
         "name": "Zimbabwe",
         "orientation": "v",
         "showlegend": true,
         "type": "scatter",
         "x": [
          0.37
         ],
         "xaxis": "x",
         "y": [
          3.82
         ],
         "yaxis": "y"
        },
        {
         "hovertemplate": "<b>%{hovertext}</b><br><br>Country=Botswana<br>Mean GDP per Capita=%{x}<br>Mean Happiness Score=%{y}<br>Population=%{marker.size}<extra></extra>",
         "hovertext": [
          2499702
         ],
         "legendgroup": "Botswana",
         "marker": {
          "color": "#B6E880",
          "size": [
           2499702
          ],
          "sizemode": "area",
          "sizeref": 391040.27777777775,
          "symbol": "circle"
         },
         "mode": "markers",
         "name": "Botswana",
         "orientation": "v",
         "showlegend": true,
         "type": "scatter",
         "x": [
          1.06
         ],
         "xaxis": "x",
         "y": [
          3.76
         ],
         "yaxis": "y"
        },
        {
         "hovertemplate": "<b>%{hovertext}</b><br><br>Country=Yemen<br>Mean GDP per Capita=%{x}<br>Mean Happiness Score=%{y}<br>Population=%{marker.size}<extra></extra>",
         "hovertext": [
          31546691
         ],
         "legendgroup": "Yemen",
         "marker": {
          "color": "#FF97FF",
          "size": [
           31546691
          ],
          "sizemode": "area",
          "sizeref": 391040.27777777775,
          "symbol": "circle"
         },
         "mode": "markers",
         "name": "Yemen",
         "orientation": "v",
         "showlegend": true,
         "type": "scatter",
         "x": [
          0.44
         ],
         "xaxis": "x",
         "y": [
          3.68
         ],
         "yaxis": "y"
        },
        {
         "hovertemplate": "<b>%{hovertext}</b><br><br>Country=Togo<br>Mean GDP per Capita=%{x}<br>Mean Happiness Score=%{y}<br>Population=%{marker.size}<extra></extra>",
         "hovertext": [
          8243094
         ],
         "legendgroup": "Togo",
         "marker": {
          "color": "#FECB52",
          "size": [
           8243094
          ],
          "sizemode": "area",
          "sizeref": 391040.27777777775,
          "symbol": "circle"
         },
         "mode": "markers",
         "name": "Togo",
         "orientation": "v",
         "showlegend": true,
         "type": "scatter",
         "x": [
          0.26
         ],
         "xaxis": "x",
         "y": [
          3.63
         ],
         "yaxis": "y"
        },
        {
         "hovertemplate": "<b>%{hovertext}</b><br><br>Country=Tanzania<br>Mean GDP per Capita=%{x}<br>Mean Happiness Score=%{y}<br>Population=%{marker.size}<extra></extra>",
         "hovertext": [
          59872579
         ],
         "legendgroup": "Tanzania",
         "marker": {
          "color": "#636efa",
          "size": [
           59872579
          ],
          "sizemode": "area",
          "sizeref": 391040.27777777775,
          "symbol": "circle"
         },
         "mode": "markers",
         "name": "Tanzania",
         "orientation": "v",
         "showlegend": true,
         "type": "scatter",
         "x": [
          0.43
         ],
         "xaxis": "x",
         "y": [
          3.5
         ],
         "yaxis": "y"
        },
        {
         "hovertemplate": "<b>%{hovertext}</b><br><br>Country=Rwanda<br>Mean GDP per Capita=%{x}<br>Mean Happiness Score=%{y}<br>Population=%{marker.size}<extra></extra>",
         "hovertext": [
          12835028
         ],
         "legendgroup": "Rwanda",
         "marker": {
          "color": "#EF553B",
          "size": [
           12835028
          ],
          "sizemode": "area",
          "sizeref": 391040.27777777775,
          "symbol": "circle"
         },
         "mode": "markers",
         "name": "Rwanda",
         "orientation": "v",
         "showlegend": true,
         "type": "scatter",
         "x": [
          0.33
         ],
         "xaxis": "x",
         "y": [
          3.42
         ],
         "yaxis": "y"
        },
        {
         "hovertemplate": "<b>%{hovertext}</b><br><br>Country=Burundi<br>Mean GDP per Capita=%{x}<br>Mean Happiness Score=%{y}<br>Population=%{marker.size}<extra></extra>",
         "hovertext": [
          11874838
         ],
         "legendgroup": "Burundi",
         "marker": {
          "color": "#00cc96",
          "size": [
           11874838
          ],
          "sizemode": "area",
          "sizeref": 391040.27777777775,
          "symbol": "circle"
         },
         "mode": "markers",
         "name": "Burundi",
         "orientation": "v",
         "showlegend": true,
         "type": "scatter",
         "x": [
          0.04
         ],
         "xaxis": "x",
         "y": [
          3.34
         ],
         "yaxis": "y"
        },
        {
         "hovertemplate": "<b>%{hovertext}</b><br><br>Country=Syria<br>Mean GDP per Capita=%{x}<br>Mean Happiness Score=%{y}<br>Population=%{marker.size}<extra></extra>",
         "hovertext": [
          20098251
         ],
         "legendgroup": "Syria",
         "marker": {
          "color": "#ab63fa",
          "size": [
           20098251
          ],
          "sizemode": "area",
          "sizeref": 391040.27777777775,
          "symbol": "circle"
         },
         "mode": "markers",
         "name": "Syria",
         "orientation": "v",
         "showlegend": true,
         "type": "scatter",
         "x": [
          0.69
         ],
         "xaxis": "x",
         "y": [
          3.31
         ],
         "yaxis": "y"
        },
        {
         "hovertemplate": "<b>%{hovertext}</b><br><br>Country=Afghanistan<br>Mean GDP per Capita=%{x}<br>Mean Happiness Score=%{y}<br>Population=%{marker.size}<extra></extra>",
         "hovertext": [
          37769499
         ],
         "legendgroup": "Afghanistan",
         "marker": {
          "color": "#FFA15A",
          "size": [
           37769499
          ],
          "sizemode": "area",
          "sizeref": 391040.27777777775,
          "symbol": "circle"
         },
         "mode": "markers",
         "name": "Afghanistan",
         "orientation": "v",
         "showlegend": true,
         "type": "scatter",
         "x": [
          0.36
         ],
         "xaxis": "x",
         "y": [
          3.27
         ],
         "yaxis": "y"
        },
        {
         "hovertemplate": "<b>%{hovertext}</b><br><br>Country=Central African Republic<br>Mean GDP per Capita=%{x}<br>Mean Happiness Score=%{y}<br>Population=%{marker.size}<extra></extra>",
         "hovertext": [
          5209324
         ],
         "legendgroup": "Central African Republic",
         "marker": {
          "color": "#19d3f3",
          "size": [
           5209324
          ],
          "sizemode": "area",
          "sizeref": 391040.27777777775,
          "symbol": "circle"
         },
         "mode": "markers",
         "name": "Central African Republic",
         "orientation": "v",
         "showlegend": true,
         "type": "scatter",
         "x": [
          0.03
         ],
         "xaxis": "x",
         "y": [
          3.15
         ],
         "yaxis": "y"
        }
       ],
       "layout": {
        "legend": {
         "itemsizing": "constant",
         "title": {
          "text": "Región"
         },
         "tracegroupgap": 0
        },
        "margin": {
         "t": 60
        },
        "template": {
         "data": {
          "bar": [
           {
            "error_x": {
             "color": "#2a3f5f"
            },
            "error_y": {
             "color": "#2a3f5f"
            },
            "marker": {
             "line": {
              "color": "#E5ECF6",
              "width": 0.5
             },
             "pattern": {
              "fillmode": "overlay",
              "size": 10,
              "solidity": 0.2
             }
            },
            "type": "bar"
           }
          ],
          "barpolar": [
           {
            "marker": {
             "line": {
              "color": "#E5ECF6",
              "width": 0.5
             },
             "pattern": {
              "fillmode": "overlay",
              "size": 10,
              "solidity": 0.2
             }
            },
            "type": "barpolar"
           }
          ],
          "carpet": [
           {
            "aaxis": {
             "endlinecolor": "#2a3f5f",
             "gridcolor": "white",
             "linecolor": "white",
             "minorgridcolor": "white",
             "startlinecolor": "#2a3f5f"
            },
            "baxis": {
             "endlinecolor": "#2a3f5f",
             "gridcolor": "white",
             "linecolor": "white",
             "minorgridcolor": "white",
             "startlinecolor": "#2a3f5f"
            },
            "type": "carpet"
           }
          ],
          "choropleth": [
           {
            "colorbar": {
             "outlinewidth": 0,
             "ticks": ""
            },
            "type": "choropleth"
           }
          ],
          "contour": [
           {
            "colorbar": {
             "outlinewidth": 0,
             "ticks": ""
            },
            "colorscale": [
             [
              0,
              "#0d0887"
             ],
             [
              0.1111111111111111,
              "#46039f"
             ],
             [
              0.2222222222222222,
              "#7201a8"
             ],
             [
              0.3333333333333333,
              "#9c179e"
             ],
             [
              0.4444444444444444,
              "#bd3786"
             ],
             [
              0.5555555555555556,
              "#d8576b"
             ],
             [
              0.6666666666666666,
              "#ed7953"
             ],
             [
              0.7777777777777778,
              "#fb9f3a"
             ],
             [
              0.8888888888888888,
              "#fdca26"
             ],
             [
              1,
              "#f0f921"
             ]
            ],
            "type": "contour"
           }
          ],
          "contourcarpet": [
           {
            "colorbar": {
             "outlinewidth": 0,
             "ticks": ""
            },
            "type": "contourcarpet"
           }
          ],
          "heatmap": [
           {
            "colorbar": {
             "outlinewidth": 0,
             "ticks": ""
            },
            "colorscale": [
             [
              0,
              "#0d0887"
             ],
             [
              0.1111111111111111,
              "#46039f"
             ],
             [
              0.2222222222222222,
              "#7201a8"
             ],
             [
              0.3333333333333333,
              "#9c179e"
             ],
             [
              0.4444444444444444,
              "#bd3786"
             ],
             [
              0.5555555555555556,
              "#d8576b"
             ],
             [
              0.6666666666666666,
              "#ed7953"
             ],
             [
              0.7777777777777778,
              "#fb9f3a"
             ],
             [
              0.8888888888888888,
              "#fdca26"
             ],
             [
              1,
              "#f0f921"
             ]
            ],
            "type": "heatmap"
           }
          ],
          "heatmapgl": [
           {
            "colorbar": {
             "outlinewidth": 0,
             "ticks": ""
            },
            "colorscale": [
             [
              0,
              "#0d0887"
             ],
             [
              0.1111111111111111,
              "#46039f"
             ],
             [
              0.2222222222222222,
              "#7201a8"
             ],
             [
              0.3333333333333333,
              "#9c179e"
             ],
             [
              0.4444444444444444,
              "#bd3786"
             ],
             [
              0.5555555555555556,
              "#d8576b"
             ],
             [
              0.6666666666666666,
              "#ed7953"
             ],
             [
              0.7777777777777778,
              "#fb9f3a"
             ],
             [
              0.8888888888888888,
              "#fdca26"
             ],
             [
              1,
              "#f0f921"
             ]
            ],
            "type": "heatmapgl"
           }
          ],
          "histogram": [
           {
            "marker": {
             "pattern": {
              "fillmode": "overlay",
              "size": 10,
              "solidity": 0.2
             }
            },
            "type": "histogram"
           }
          ],
          "histogram2d": [
           {
            "colorbar": {
             "outlinewidth": 0,
             "ticks": ""
            },
            "colorscale": [
             [
              0,
              "#0d0887"
             ],
             [
              0.1111111111111111,
              "#46039f"
             ],
             [
              0.2222222222222222,
              "#7201a8"
             ],
             [
              0.3333333333333333,
              "#9c179e"
             ],
             [
              0.4444444444444444,
              "#bd3786"
             ],
             [
              0.5555555555555556,
              "#d8576b"
             ],
             [
              0.6666666666666666,
              "#ed7953"
             ],
             [
              0.7777777777777778,
              "#fb9f3a"
             ],
             [
              0.8888888888888888,
              "#fdca26"
             ],
             [
              1,
              "#f0f921"
             ]
            ],
            "type": "histogram2d"
           }
          ],
          "histogram2dcontour": [
           {
            "colorbar": {
             "outlinewidth": 0,
             "ticks": ""
            },
            "colorscale": [
             [
              0,
              "#0d0887"
             ],
             [
              0.1111111111111111,
              "#46039f"
             ],
             [
              0.2222222222222222,
              "#7201a8"
             ],
             [
              0.3333333333333333,
              "#9c179e"
             ],
             [
              0.4444444444444444,
              "#bd3786"
             ],
             [
              0.5555555555555556,
              "#d8576b"
             ],
             [
              0.6666666666666666,
              "#ed7953"
             ],
             [
              0.7777777777777778,
              "#fb9f3a"
             ],
             [
              0.8888888888888888,
              "#fdca26"
             ],
             [
              1,
              "#f0f921"
             ]
            ],
            "type": "histogram2dcontour"
           }
          ],
          "mesh3d": [
           {
            "colorbar": {
             "outlinewidth": 0,
             "ticks": ""
            },
            "type": "mesh3d"
           }
          ],
          "parcoords": [
           {
            "line": {
             "colorbar": {
              "outlinewidth": 0,
              "ticks": ""
             }
            },
            "type": "parcoords"
           }
          ],
          "pie": [
           {
            "automargin": true,
            "type": "pie"
           }
          ],
          "scatter": [
           {
            "fillpattern": {
             "fillmode": "overlay",
             "size": 10,
             "solidity": 0.2
            },
            "type": "scatter"
           }
          ],
          "scatter3d": [
           {
            "line": {
             "colorbar": {
              "outlinewidth": 0,
              "ticks": ""
             }
            },
            "marker": {
             "colorbar": {
              "outlinewidth": 0,
              "ticks": ""
             }
            },
            "type": "scatter3d"
           }
          ],
          "scattercarpet": [
           {
            "marker": {
             "colorbar": {
              "outlinewidth": 0,
              "ticks": ""
             }
            },
            "type": "scattercarpet"
           }
          ],
          "scattergeo": [
           {
            "marker": {
             "colorbar": {
              "outlinewidth": 0,
              "ticks": ""
             }
            },
            "type": "scattergeo"
           }
          ],
          "scattergl": [
           {
            "marker": {
             "colorbar": {
              "outlinewidth": 0,
              "ticks": ""
             }
            },
            "type": "scattergl"
           }
          ],
          "scattermapbox": [
           {
            "marker": {
             "colorbar": {
              "outlinewidth": 0,
              "ticks": ""
             }
            },
            "type": "scattermapbox"
           }
          ],
          "scatterpolar": [
           {
            "marker": {
             "colorbar": {
              "outlinewidth": 0,
              "ticks": ""
             }
            },
            "type": "scatterpolar"
           }
          ],
          "scatterpolargl": [
           {
            "marker": {
             "colorbar": {
              "outlinewidth": 0,
              "ticks": ""
             }
            },
            "type": "scatterpolargl"
           }
          ],
          "scatterternary": [
           {
            "marker": {
             "colorbar": {
              "outlinewidth": 0,
              "ticks": ""
             }
            },
            "type": "scatterternary"
           }
          ],
          "surface": [
           {
            "colorbar": {
             "outlinewidth": 0,
             "ticks": ""
            },
            "colorscale": [
             [
              0,
              "#0d0887"
             ],
             [
              0.1111111111111111,
              "#46039f"
             ],
             [
              0.2222222222222222,
              "#7201a8"
             ],
             [
              0.3333333333333333,
              "#9c179e"
             ],
             [
              0.4444444444444444,
              "#bd3786"
             ],
             [
              0.5555555555555556,
              "#d8576b"
             ],
             [
              0.6666666666666666,
              "#ed7953"
             ],
             [
              0.7777777777777778,
              "#fb9f3a"
             ],
             [
              0.8888888888888888,
              "#fdca26"
             ],
             [
              1,
              "#f0f921"
             ]
            ],
            "type": "surface"
           }
          ],
          "table": [
           {
            "cells": {
             "fill": {
              "color": "#EBF0F8"
             },
             "line": {
              "color": "white"
             }
            },
            "header": {
             "fill": {
              "color": "#C8D4E3"
             },
             "line": {
              "color": "white"
             }
            },
            "type": "table"
           }
          ]
         },
         "layout": {
          "annotationdefaults": {
           "arrowcolor": "#2a3f5f",
           "arrowhead": 0,
           "arrowwidth": 1
          },
          "autotypenumbers": "strict",
          "coloraxis": {
           "colorbar": {
            "outlinewidth": 0,
            "ticks": ""
           }
          },
          "colorscale": {
           "diverging": [
            [
             0,
             "#8e0152"
            ],
            [
             0.1,
             "#c51b7d"
            ],
            [
             0.2,
             "#de77ae"
            ],
            [
             0.3,
             "#f1b6da"
            ],
            [
             0.4,
             "#fde0ef"
            ],
            [
             0.5,
             "#f7f7f7"
            ],
            [
             0.6,
             "#e6f5d0"
            ],
            [
             0.7,
             "#b8e186"
            ],
            [
             0.8,
             "#7fbc41"
            ],
            [
             0.9,
             "#4d9221"
            ],
            [
             1,
             "#276419"
            ]
           ],
           "sequential": [
            [
             0,
             "#0d0887"
            ],
            [
             0.1111111111111111,
             "#46039f"
            ],
            [
             0.2222222222222222,
             "#7201a8"
            ],
            [
             0.3333333333333333,
             "#9c179e"
            ],
            [
             0.4444444444444444,
             "#bd3786"
            ],
            [
             0.5555555555555556,
             "#d8576b"
            ],
            [
             0.6666666666666666,
             "#ed7953"
            ],
            [
             0.7777777777777778,
             "#fb9f3a"
            ],
            [
             0.8888888888888888,
             "#fdca26"
            ],
            [
             1,
             "#f0f921"
            ]
           ],
           "sequentialminus": [
            [
             0,
             "#0d0887"
            ],
            [
             0.1111111111111111,
             "#46039f"
            ],
            [
             0.2222222222222222,
             "#7201a8"
            ],
            [
             0.3333333333333333,
             "#9c179e"
            ],
            [
             0.4444444444444444,
             "#bd3786"
            ],
            [
             0.5555555555555556,
             "#d8576b"
            ],
            [
             0.6666666666666666,
             "#ed7953"
            ],
            [
             0.7777777777777778,
             "#fb9f3a"
            ],
            [
             0.8888888888888888,
             "#fdca26"
            ],
            [
             1,
             "#f0f921"
            ]
           ]
          },
          "colorway": [
           "#636efa",
           "#EF553B",
           "#00cc96",
           "#ab63fa",
           "#FFA15A",
           "#19d3f3",
           "#FF6692",
           "#B6E880",
           "#FF97FF",
           "#FECB52"
          ],
          "font": {
           "color": "#2a3f5f"
          },
          "geo": {
           "bgcolor": "white",
           "lakecolor": "white",
           "landcolor": "#E5ECF6",
           "showlakes": true,
           "showland": true,
           "subunitcolor": "white"
          },
          "hoverlabel": {
           "align": "left"
          },
          "hovermode": "closest",
          "mapbox": {
           "style": "light"
          },
          "paper_bgcolor": "white",
          "plot_bgcolor": "#E5ECF6",
          "polar": {
           "angularaxis": {
            "gridcolor": "white",
            "linecolor": "white",
            "ticks": ""
           },
           "bgcolor": "#E5ECF6",
           "radialaxis": {
            "gridcolor": "white",
            "linecolor": "white",
            "ticks": ""
           }
          },
          "scene": {
           "xaxis": {
            "backgroundcolor": "#E5ECF6",
            "gridcolor": "white",
            "gridwidth": 2,
            "linecolor": "white",
            "showbackground": true,
            "ticks": "",
            "zerolinecolor": "white"
           },
           "yaxis": {
            "backgroundcolor": "#E5ECF6",
            "gridcolor": "white",
            "gridwidth": 2,
            "linecolor": "white",
            "showbackground": true,
            "ticks": "",
            "zerolinecolor": "white"
           },
           "zaxis": {
            "backgroundcolor": "#E5ECF6",
            "gridcolor": "white",
            "gridwidth": 2,
            "linecolor": "white",
            "showbackground": true,
            "ticks": "",
            "zerolinecolor": "white"
           }
          },
          "shapedefaults": {
           "line": {
            "color": "#2a3f5f"
           }
          },
          "ternary": {
           "aaxis": {
            "gridcolor": "white",
            "linecolor": "white",
            "ticks": ""
           },
           "baxis": {
            "gridcolor": "white",
            "linecolor": "white",
            "ticks": ""
           },
           "bgcolor": "#E5ECF6",
           "caxis": {
            "gridcolor": "white",
            "linecolor": "white",
            "ticks": ""
           }
          },
          "title": {
           "x": 0.05
          },
          "xaxis": {
           "automargin": true,
           "gridcolor": "white",
           "linecolor": "white",
           "ticks": "",
           "title": {
            "standoff": 15
           },
           "zerolinecolor": "white",
           "zerolinewidth": 2
          },
          "yaxis": {
           "automargin": true,
           "gridcolor": "white",
           "linecolor": "white",
           "ticks": "",
           "title": {
            "standoff": 15
           },
           "zerolinecolor": "white",
           "zerolinewidth": 2
          }
         }
        },
        "title": {
         "text": "Comparación de la Felicidad y el PIB per cápita por País"
        },
        "xaxis": {
         "anchor": "y",
         "domain": [
          0,
          1
         ],
         "title": {
          "text": "PIB per cápita (USD)"
         },
         "type": "log"
        },
        "yaxis": {
         "anchor": "x",
         "domain": [
          0,
          1
         ],
         "title": {
          "text": "Puntuación de Felicidad"
         }
        }
       }
      },
      "text/html": [
       "<div>                            <div id=\"15bbef38-3fd3-46c9-beca-5d959a3e963d\" class=\"plotly-graph-div\" style=\"height:525px; width:100%;\"></div>            <script type=\"text/javascript\">                require([\"plotly\"], function(Plotly) {                    window.PLOTLYENV=window.PLOTLYENV || {};                                    if (document.getElementById(\"15bbef38-3fd3-46c9-beca-5d959a3e963d\")) {                    Plotly.newPlot(                        \"15bbef38-3fd3-46c9-beca-5d959a3e963d\",                        [{\"hovertemplate\":\"<b>%{hovertext}</b><br><br>Country=Finland<br>Mean GDP per Capita=%{x}<br>Mean Happiness Score=%{y}<br>Population=%{marker.size}<extra></extra>\",\"hovertext\":[5521606.0],\"legendgroup\":\"Finland\",\"marker\":{\"color\":\"#636efa\",\"size\":[5521606.0],\"sizemode\":\"area\",\"sizeref\":391040.27777777775,\"symbol\":\"circle\"},\"mode\":\"markers\",\"name\":\"Finland\",\"orientation\":\"v\",\"showlegend\":true,\"x\":[1.38],\"xaxis\":\"x\",\"y\":[7.62],\"yaxis\":\"y\",\"type\":\"scatter\"},{\"hovertemplate\":\"<b>%{hovertext}</b><br><br>Country=Denmark<br>Mean GDP per Capita=%{x}<br>Mean Happiness Score=%{y}<br>Population=%{marker.size}<extra></extra>\",\"hovertext\":[5814422.0],\"legendgroup\":\"Denmark\",\"marker\":{\"color\":\"#EF553B\",\"size\":[5814422.0],\"sizemode\":\"area\",\"sizeref\":391040.27777777775,\"symbol\":\"circle\"},\"mode\":\"markers\",\"name\":\"Denmark\",\"orientation\":\"v\",\"showlegend\":true,\"x\":[1.42],\"xaxis\":\"x\",\"y\":[7.57],\"yaxis\":\"y\",\"type\":\"scatter\"},{\"hovertemplate\":\"<b>%{hovertext}</b><br><br>Country=Switzerland<br>Mean GDP per Capita=%{x}<br>Mean Happiness Score=%{y}<br>Population=%{marker.size}<extra></extra>\",\"hovertext\":[8575280.0],\"legendgroup\":\"Switzerland\",\"marker\":{\"color\":\"#00cc96\",\"size\":[8575280.0],\"sizemode\":\"area\",\"sizeref\":391040.27777777775,\"symbol\":\"circle\"},\"mode\":\"markers\",\"name\":\"Switzerland\",\"orientation\":\"v\",\"showlegend\":true,\"x\":[1.49],\"xaxis\":\"x\",\"y\":[7.53],\"yaxis\":\"y\",\"type\":\"scatter\"},{\"hovertemplate\":\"<b>%{hovertext}</b><br><br>Country=Iceland<br>Mean GDP per Capita=%{x}<br>Mean Happiness Score=%{y}<br>Population=%{marker.size}<extra></extra>\",\"hovertext\":[360563.0],\"legendgroup\":\"Iceland\",\"marker\":{\"color\":\"#ab63fa\",\"size\":[360563.0],\"sizemode\":\"area\",\"sizeref\":391040.27777777775,\"symbol\":\"circle\"},\"mode\":\"markers\",\"name\":\"Iceland\",\"orientation\":\"v\",\"showlegend\":true,\"x\":[1.41],\"xaxis\":\"x\",\"y\":[7.53],\"yaxis\":\"y\",\"type\":\"scatter\"},{\"hovertemplate\":\"<b>%{hovertext}</b><br><br>Country=Norway<br>Mean GDP per Capita=%{x}<br>Mean Happiness Score=%{y}<br>Population=%{marker.size}<extra></extra>\",\"hovertext\":[5347896.0],\"legendgroup\":\"Norway\",\"marker\":{\"color\":\"#FFA15A\",\"size\":[5347896.0],\"sizemode\":\"area\",\"sizeref\":391040.27777777775,\"symbol\":\"circle\"},\"mode\":\"markers\",\"name\":\"Norway\",\"orientation\":\"v\",\"showlegend\":true,\"x\":[1.53],\"xaxis\":\"x\",\"y\":[7.5],\"yaxis\":\"y\",\"type\":\"scatter\"},{\"hovertemplate\":\"<b>%{hovertext}</b><br><br>Country=Netherlands<br>Mean GDP per Capita=%{x}<br>Mean Happiness Score=%{y}<br>Population=%{marker.size}<extra></extra>\",\"hovertext\":[17344874.0],\"legendgroup\":\"Netherlands\",\"marker\":{\"color\":\"#19d3f3\",\"size\":[17344874.0],\"sizemode\":\"area\",\"sizeref\":391040.27777777775,\"symbol\":\"circle\"},\"mode\":\"markers\",\"name\":\"Netherlands\",\"orientation\":\"v\",\"showlegend\":true,\"x\":[1.43],\"xaxis\":\"x\",\"y\":[7.43],\"yaxis\":\"y\",\"type\":\"scatter\"},{\"hovertemplate\":\"<b>%{hovertext}</b><br><br>Country=Sweden<br>Mean GDP per Capita=%{x}<br>Mean Happiness Score=%{y}<br>Population=%{marker.size}<extra></extra>\",\"hovertext\":[10278887.0],\"legendgroup\":\"Sweden\",\"marker\":{\"color\":\"#FF6692\",\"size\":[10278887.0],\"sizemode\":\"area\",\"sizeref\":391040.27777777775,\"symbol\":\"circle\"},\"mode\":\"markers\",\"name\":\"Sweden\",\"orientation\":\"v\",\"showlegend\":true,\"x\":[1.42],\"xaxis\":\"x\",\"y\":[7.34],\"yaxis\":\"y\",\"type\":\"scatter\"},{\"hovertemplate\":\"<b>%{hovertext}</b><br><br>Country=New Zealand<br>Mean GDP per Capita=%{x}<br>Mean Happiness Score=%{y}<br>Population=%{marker.size}<extra></extra>\",\"hovertext\":[4979200.0],\"legendgroup\":\"New Zealand\",\"marker\":{\"color\":\"#B6E880\",\"size\":[4979200.0],\"sizemode\":\"area\",\"sizeref\":391040.27777777775,\"symbol\":\"circle\"},\"mode\":\"markers\",\"name\":\"New Zealand\",\"orientation\":\"v\",\"showlegend\":true,\"x\":[1.34],\"xaxis\":\"x\",\"y\":[7.3],\"yaxis\":\"y\",\"type\":\"scatter\"},{\"hovertemplate\":\"<b>%{hovertext}</b><br><br>Country=Canada<br>Mean GDP per Capita=%{x}<br>Mean Happiness Score=%{y}<br>Population=%{marker.size}<extra></extra>\",\"hovertext\":[37601230.0],\"legendgroup\":\"Canada\",\"marker\":{\"color\":\"#FF97FF\",\"size\":[37601230.0],\"sizemode\":\"area\",\"sizeref\":391040.27777777775,\"symbol\":\"circle\"},\"mode\":\"markers\",\"name\":\"Canada\",\"orientation\":\"v\",\"showlegend\":true,\"x\":[1.4],\"xaxis\":\"x\",\"y\":[7.28],\"yaxis\":\"y\",\"type\":\"scatter\"},{\"hovertemplate\":\"<b>%{hovertext}</b><br><br>Country=Australia<br>Mean GDP per Capita=%{x}<br>Mean Happiness Score=%{y}<br>Population=%{marker.size}<extra></extra>\",\"hovertext\":[25340217.0],\"legendgroup\":\"Australia\",\"marker\":{\"color\":\"#FECB52\",\"size\":[25340217.0],\"sizemode\":\"area\",\"sizeref\":391040.27777777775,\"symbol\":\"circle\"},\"mode\":\"markers\",\"name\":\"Australia\",\"orientation\":\"v\",\"showlegend\":true,\"x\":[1.41],\"xaxis\":\"x\",\"y\":[7.24],\"yaxis\":\"y\",\"type\":\"scatter\"},{\"hovertemplate\":\"<b>%{hovertext}</b><br><br>Country=Israel<br>Mean GDP per Capita=%{x}<br>Mean Happiness Score=%{y}<br>Population=%{marker.size}<extra></extra>\",\"hovertext\":[9054000.0],\"legendgroup\":\"Israel\",\"marker\":{\"color\":\"#636efa\",\"size\":[9054000.0],\"sizemode\":\"area\",\"sizeref\":391040.27777777775,\"symbol\":\"circle\"},\"mode\":\"markers\",\"name\":\"Israel\",\"orientation\":\"v\",\"showlegend\":true,\"x\":[1.31],\"xaxis\":\"x\",\"y\":[7.2],\"yaxis\":\"y\",\"type\":\"scatter\"},{\"hovertemplate\":\"<b>%{hovertext}</b><br><br>Country=Austria<br>Mean GDP per Capita=%{x}<br>Mean Happiness Score=%{y}<br>Population=%{marker.size}<extra></extra>\",\"hovertext\":[8879920.0],\"legendgroup\":\"Austria\",\"marker\":{\"color\":\"#EF553B\",\"size\":[8879920.0],\"sizemode\":\"area\",\"sizeref\":391040.27777777775,\"symbol\":\"circle\"},\"mode\":\"markers\",\"name\":\"Austria\",\"orientation\":\"v\",\"showlegend\":true,\"x\":[1.42],\"xaxis\":\"x\",\"y\":[7.18],\"yaxis\":\"y\",\"type\":\"scatter\"},{\"hovertemplate\":\"<b>%{hovertext}</b><br><br>Country=Costa Rica<br>Mean GDP per Capita=%{x}<br>Mean Happiness Score=%{y}<br>Population=%{marker.size}<extra></extra>\",\"hovertext\":[5084532.0],\"legendgroup\":\"Costa Rica\",\"marker\":{\"color\":\"#00cc96\",\"size\":[5084532.0],\"sizemode\":\"area\",\"sizeref\":391040.27777777775,\"symbol\":\"circle\"},\"mode\":\"markers\",\"name\":\"Costa Rica\",\"orientation\":\"v\",\"showlegend\":true,\"x\":[1.06],\"xaxis\":\"x\",\"y\":[7.14],\"yaxis\":\"y\",\"type\":\"scatter\"},{\"hovertemplate\":\"<b>%{hovertext}</b><br><br>Country=Luxembourg<br>Mean GDP per Capita=%{x}<br>Mean Happiness Score=%{y}<br>Population=%{marker.size}<extra></extra>\",\"hovertext\":[620001.0],\"legendgroup\":\"Luxembourg\",\"marker\":{\"color\":\"#ab63fa\",\"size\":[620001.0],\"sizemode\":\"area\",\"sizeref\":391040.27777777775,\"symbol\":\"circle\"},\"mode\":\"markers\",\"name\":\"Luxembourg\",\"orientation\":\"v\",\"showlegend\":true,\"x\":[1.67],\"xaxis\":\"x\",\"y\":[7.06],\"yaxis\":\"y\",\"type\":\"scatter\"},{\"hovertemplate\":\"<b>%{hovertext}</b><br><br>Country=Ireland<br>Mean GDP per Capita=%{x}<br>Mean Happiness Score=%{y}<br>Population=%{marker.size}<extra></extra>\",\"hovertext\":[4934340.0],\"legendgroup\":\"Ireland\",\"marker\":{\"color\":\"#FFA15A\",\"size\":[4934340.0],\"sizemode\":\"area\",\"sizeref\":391040.27777777775,\"symbol\":\"circle\"},\"mode\":\"markers\",\"name\":\"Ireland\",\"orientation\":\"v\",\"showlegend\":true,\"x\":[1.5],\"xaxis\":\"x\",\"y\":[7.01],\"yaxis\":\"y\",\"type\":\"scatter\"},{\"hovertemplate\":\"<b>%{hovertext}</b><br><br>Country=United States<br>Mean GDP per Capita=%{x}<br>Mean Happiness Score=%{y}<br>Population=%{marker.size}<extra></extra>\",\"hovertext\":[328329953.0],\"legendgroup\":\"United States\",\"marker\":{\"color\":\"#19d3f3\",\"size\":[328329953.0],\"sizemode\":\"area\",\"sizeref\":391040.27777777775,\"symbol\":\"circle\"},\"mode\":\"markers\",\"name\":\"United States\",\"orientation\":\"v\",\"showlegend\":true,\"x\":[1.48],\"xaxis\":\"x\",\"y\":[6.99],\"yaxis\":\"y\",\"type\":\"scatter\"},{\"hovertemplate\":\"<b>%{hovertext}</b><br><br>Country=Germany<br>Mean GDP per Capita=%{x}<br>Mean Happiness Score=%{y}<br>Population=%{marker.size}<extra></extra>\",\"hovertext\":[83092962.0],\"legendgroup\":\"Germany\",\"marker\":{\"color\":\"#FF6692\",\"size\":[83092962.0],\"sizemode\":\"area\",\"sizeref\":391040.27777777775,\"symbol\":\"circle\"},\"mode\":\"markers\",\"name\":\"Germany\",\"orientation\":\"v\",\"showlegend\":true,\"x\":[1.42],\"xaxis\":\"x\",\"y\":[6.96],\"yaxis\":\"y\",\"type\":\"scatter\"},{\"hovertemplate\":\"<b>%{hovertext}</b><br><br>Country=United Kingdom<br>Mean GDP per Capita=%{x}<br>Mean Happiness Score=%{y}<br>Population=%{marker.size}<extra></extra>\",\"hovertext\":[66836327.0],\"legendgroup\":\"United Kingdom\",\"marker\":{\"color\":\"#B6E880\",\"size\":[66836327.0],\"sizemode\":\"area\",\"sizeref\":391040.27777777775,\"symbol\":\"circle\"},\"mode\":\"markers\",\"name\":\"United Kingdom\",\"orientation\":\"v\",\"showlegend\":true,\"x\":[1.37],\"xaxis\":\"x\",\"y\":[6.92],\"yaxis\":\"y\",\"type\":\"scatter\"},{\"hovertemplate\":\"<b>%{hovertext}</b><br><br>Country=Belgium<br>Mean GDP per Capita=%{x}<br>Mean Happiness Score=%{y}<br>Population=%{marker.size}<extra></extra>\",\"hovertext\":[11488980.0],\"legendgroup\":\"Belgium\",\"marker\":{\"color\":\"#FF97FF\",\"size\":[11488980.0],\"sizemode\":\"area\",\"sizeref\":391040.27777777775,\"symbol\":\"circle\"},\"mode\":\"markers\",\"name\":\"Belgium\",\"orientation\":\"v\",\"showlegend\":true,\"x\":[1.4],\"xaxis\":\"x\",\"y\":[6.9],\"yaxis\":\"y\",\"type\":\"scatter\"},{\"hovertemplate\":\"<b>%{hovertext}</b><br><br>Country=Czech Republic<br>Mean GDP per Capita=%{x}<br>Mean Happiness Score=%{y}<br>Population=%{marker.size}<extra></extra>\",\"hovertext\":[10671870.0],\"legendgroup\":\"Czech Republic\",\"marker\":{\"color\":\"#FECB52\",\"size\":[10671870.0],\"sizemode\":\"area\",\"sizeref\":391040.27777777775,\"symbol\":\"circle\"},\"mode\":\"markers\",\"name\":\"Czech Republic\",\"orientation\":\"v\",\"showlegend\":true,\"x\":[1.29],\"xaxis\":\"x\",\"y\":[6.73],\"yaxis\":\"y\",\"type\":\"scatter\"},{\"hovertemplate\":\"<b>%{hovertext}</b><br><br>Country=United Arab Emirates<br>Mean GDP per Capita=%{x}<br>Mean Happiness Score=%{y}<br>Population=%{marker.size}<extra></extra>\",\"hovertext\":[9211657.0],\"legendgroup\":\"United Arab Emirates\",\"marker\":{\"color\":\"#636efa\",\"size\":[9211657.0],\"sizemode\":\"area\",\"sizeref\":391040.27777777775,\"symbol\":\"circle\"},\"mode\":\"markers\",\"name\":\"United Arab Emirates\",\"orientation\":\"v\",\"showlegend\":true,\"x\":[1.53],\"xaxis\":\"x\",\"y\":[6.73],\"yaxis\":\"y\",\"type\":\"scatter\"},{\"hovertemplate\":\"<b>%{hovertext}</b><br><br>Country=Mexico<br>Mean GDP per Capita=%{x}<br>Mean Happiness Score=%{y}<br>Population=%{marker.size}<extra></extra>\",\"hovertext\":[125085311.0],\"legendgroup\":\"Mexico\",\"marker\":{\"color\":\"#EF553B\",\"size\":[125085311.0],\"sizemode\":\"area\",\"sizeref\":391040.27777777775,\"symbol\":\"circle\"},\"mode\":\"markers\",\"name\":\"Mexico\",\"orientation\":\"v\",\"showlegend\":true,\"x\":[1.09],\"xaxis\":\"x\",\"y\":[6.67],\"yaxis\":\"y\",\"type\":\"scatter\"},{\"hovertemplate\":\"<b>%{hovertext}</b><br><br>Country=France<br>Mean GDP per Capita=%{x}<br>Mean Happiness Score=%{y}<br>Population=%{marker.size}<extra></extra>\",\"hovertext\":[67388001.0],\"legendgroup\":\"France\",\"marker\":{\"color\":\"#00cc96\",\"size\":[67388001.0],\"sizemode\":\"area\",\"sizeref\":391040.27777777775,\"symbol\":\"circle\"},\"mode\":\"markers\",\"name\":\"France\",\"orientation\":\"v\",\"showlegend\":true,\"x\":[1.36],\"xaxis\":\"x\",\"y\":[6.57],\"yaxis\":\"y\",\"type\":\"scatter\"},{\"hovertemplate\":\"<b>%{hovertext}</b><br><br>Country=Brazil<br>Mean GDP per Capita=%{x}<br>Mean Happiness Score=%{y}<br>Population=%{marker.size}<extra></extra>\",\"hovertext\":[211782878.0],\"legendgroup\":\"Brazil\",\"marker\":{\"color\":\"#ab63fa\",\"size\":[211782878.0],\"sizemode\":\"area\",\"sizeref\":391040.27777777775,\"symbol\":\"circle\"},\"mode\":\"markers\",\"name\":\"Brazil\",\"orientation\":\"v\",\"showlegend\":true,\"x\":[1.03],\"xaxis\":\"x\",\"y\":[6.56],\"yaxis\":\"y\",\"type\":\"scatter\"},{\"hovertemplate\":\"<b>%{hovertext}</b><br><br>Country=Malta<br>Mean GDP per Capita=%{x}<br>Mean Happiness Score=%{y}<br>Population=%{marker.size}<extra></extra>\",\"hovertext\":[504062.0],\"legendgroup\":\"Malta\",\"marker\":{\"color\":\"#FFA15A\",\"size\":[504062.0],\"sizemode\":\"area\",\"sizeref\":391040.27777777775,\"symbol\":\"circle\"},\"mode\":\"markers\",\"name\":\"Malta\",\"orientation\":\"v\",\"showlegend\":true,\"x\":[1.32],\"xaxis\":\"x\",\"y\":[6.54],\"yaxis\":\"y\",\"type\":\"scatter\"},{\"hovertemplate\":\"<b>%{hovertext}</b><br><br>Country=Singapore<br>Mean GDP per Capita=%{x}<br>Mean Happiness Score=%{y}<br>Population=%{marker.size}<extra></extra>\",\"hovertext\":[5703569.0],\"legendgroup\":\"Singapore\",\"marker\":{\"color\":\"#19d3f3\",\"size\":[5703569.0],\"sizemode\":\"area\",\"sizeref\":391040.27777777775,\"symbol\":\"circle\"},\"mode\":\"markers\",\"name\":\"Singapore\",\"orientation\":\"v\",\"showlegend\":true,\"x\":[1.62],\"xaxis\":\"x\",\"y\":[6.5],\"yaxis\":\"y\",\"type\":\"scatter\"},{\"hovertemplate\":\"<b>%{hovertext}</b><br><br>Country=Chile<br>Mean GDP per Capita=%{x}<br>Mean Happiness Score=%{y}<br>Population=%{marker.size}<extra></extra>\",\"hovertext\":[19039485.0],\"legendgroup\":\"Chile\",\"marker\":{\"color\":\"#FF6692\",\"size\":[19039485.0],\"sizemode\":\"area\",\"sizeref\":391040.27777777775,\"symbol\":\"circle\"},\"mode\":\"markers\",\"name\":\"Chile\",\"orientation\":\"v\",\"showlegend\":true,\"x\":[1.18],\"xaxis\":\"x\",\"y\":[6.48],\"yaxis\":\"y\",\"type\":\"scatter\"},{\"hovertemplate\":\"<b>%{hovertext}</b><br><br>Country=Qatar<br>Mean GDP per Capita=%{x}<br>Mean Happiness Score=%{y}<br>Population=%{marker.size}<extra></extra>\",\"hovertext\":[2807235.0],\"legendgroup\":\"Qatar\",\"marker\":{\"color\":\"#B6E880\",\"size\":[2807235.0],\"sizemode\":\"area\",\"sizeref\":391040.27777777775,\"symbol\":\"circle\"},\"mode\":\"markers\",\"name\":\"Qatar\",\"orientation\":\"v\",\"showlegend\":true,\"x\":[1.75],\"xaxis\":\"x\",\"y\":[6.45],\"yaxis\":\"y\",\"type\":\"scatter\"},{\"hovertemplate\":\"<b>%{hovertext}</b><br><br>Country=Taiwan<br>Mean GDP per Capita=%{x}<br>Mean Happiness Score=%{y}<br>Population=%{marker.size}<extra></extra>\",\"hovertext\":[23733876.0],\"legendgroup\":\"Taiwan\",\"marker\":{\"color\":\"#FF97FF\",\"size\":[23733876.0],\"sizemode\":\"area\",\"sizeref\":391040.27777777775,\"symbol\":\"circle\"},\"mode\":\"markers\",\"name\":\"Taiwan\",\"orientation\":\"v\",\"showlegend\":true,\"x\":[1.39],\"xaxis\":\"x\",\"y\":[6.44],\"yaxis\":\"y\",\"type\":\"scatter\"},{\"hovertemplate\":\"<b>%{hovertext}</b><br><br>Country=Panama<br>Mean GDP per Capita=%{x}<br>Mean Happiness Score=%{y}<br>Population=%{marker.size}<extra></extra>\",\"hovertext\":[4232532.0],\"legendgroup\":\"Panama\",\"marker\":{\"color\":\"#FECB52\",\"size\":[4232532.0],\"sizemode\":\"area\",\"sizeref\":391040.27777777775,\"symbol\":\"circle\"},\"mode\":\"markers\",\"name\":\"Panama\",\"orientation\":\"v\",\"showlegend\":true,\"x\":[1.19],\"xaxis\":\"x\",\"y\":[6.43],\"yaxis\":\"y\",\"type\":\"scatter\"},{\"hovertemplate\":\"<b>%{hovertext}</b><br><br>Country=Uruguay<br>Mean GDP per Capita=%{x}<br>Mean Happiness Score=%{y}<br>Population=%{marker.size}<extra></extra>\",\"hovertext\":[3428409.0],\"legendgroup\":\"Uruguay\",\"marker\":{\"color\":\"#636efa\",\"size\":[3428409.0],\"sizemode\":\"area\",\"sizeref\":391040.27777777775,\"symbol\":\"circle\"},\"mode\":\"markers\",\"name\":\"Uruguay\",\"orientation\":\"v\",\"showlegend\":true,\"x\":[1.14],\"xaxis\":\"x\",\"y\":[6.42],\"yaxis\":\"y\",\"type\":\"scatter\"},{\"hovertemplate\":\"<b>%{hovertext}</b><br><br>Country=Saudi Arabia<br>Mean GDP per Capita=%{x}<br>Mean Happiness Score=%{y}<br>Population=%{marker.size}<extra></extra>\",\"hovertext\":[35827362.0],\"legendgroup\":\"Saudi Arabia\",\"marker\":{\"color\":\"#EF553B\",\"size\":[35827362.0],\"sizemode\":\"area\",\"sizeref\":391040.27777777775,\"symbol\":\"circle\"},\"mode\":\"markers\",\"name\":\"Saudi Arabia\",\"orientation\":\"v\",\"showlegend\":true,\"x\":[1.44],\"xaxis\":\"x\",\"y\":[6.41],\"yaxis\":\"y\",\"type\":\"scatter\"},{\"hovertemplate\":\"<b>%{hovertext}</b><br><br>Country=Spain<br>Mean GDP per Capita=%{x}<br>Mean Happiness Score=%{y}<br>Population=%{marker.size}<extra></extra>\",\"hovertext\":[47134837.0],\"legendgroup\":\"Spain\",\"marker\":{\"color\":\"#00cc96\",\"size\":[47134837.0],\"sizemode\":\"area\",\"sizeref\":391040.27777777775,\"symbol\":\"circle\"},\"mode\":\"markers\",\"name\":\"Spain\",\"orientation\":\"v\",\"showlegend\":true,\"x\":[1.32],\"xaxis\":\"x\",\"y\":[6.39],\"yaxis\":\"y\",\"type\":\"scatter\"},{\"hovertemplate\":\"<b>%{hovertext}</b><br><br>Country=Guatemala<br>Mean GDP per Capita=%{x}<br>Mean Happiness Score=%{y}<br>Population=%{marker.size}<extra></extra>\",\"hovertext\":[16604026.0],\"legendgroup\":\"Guatemala\",\"marker\":{\"color\":\"#ab63fa\",\"size\":[16604026.0],\"sizemode\":\"area\",\"sizeref\":391040.27777777775,\"symbol\":\"circle\"},\"mode\":\"markers\",\"name\":\"Guatemala\",\"orientation\":\"v\",\"showlegend\":true,\"x\":[0.82],\"xaxis\":\"x\",\"y\":[6.36],\"yaxis\":\"y\",\"type\":\"scatter\"},{\"hovertemplate\":\"<b>%{hovertext}</b><br><br>Country=Argentina<br>Mean GDP per Capita=%{x}<br>Mean Happiness Score=%{y}<br>Population=%{marker.size}<extra></extra>\",\"hovertext\":[44938712.0],\"legendgroup\":\"Argentina\",\"marker\":{\"color\":\"#FFA15A\",\"size\":[44938712.0],\"sizemode\":\"area\",\"sizeref\":391040.27777777775,\"symbol\":\"circle\"},\"mode\":\"markers\",\"name\":\"Argentina\",\"orientation\":\"v\",\"showlegend\":true,\"x\":[1.12],\"xaxis\":\"x\",\"y\":[6.3],\"yaxis\":\"y\",\"type\":\"scatter\"},{\"hovertemplate\":\"<b>%{hovertext}</b><br><br>Country=Colombia<br>Mean GDP per Capita=%{x}<br>Mean Happiness Score=%{y}<br>Population=%{marker.size}<extra></extra>\",\"hovertext\":[50187406.0],\"legendgroup\":\"Colombia\",\"marker\":{\"color\":\"#19d3f3\",\"size\":[50187406.0],\"sizemode\":\"area\",\"sizeref\":391040.27777777775,\"symbol\":\"circle\"},\"mode\":\"markers\",\"name\":\"Colombia\",\"orientation\":\"v\",\"showlegend\":true,\"x\":[1.0],\"xaxis\":\"x\",\"y\":[6.24],\"yaxis\":\"y\",\"type\":\"scatter\"},{\"hovertemplate\":\"<b>%{hovertext}</b><br><br>Country=Bahrain<br>Mean GDP per Capita=%{x}<br>Mean Happiness Score=%{y}<br>Population=%{marker.size}<extra></extra>\",\"hovertext\":[1494188.0],\"legendgroup\":\"Bahrain\",\"marker\":{\"color\":\"#FF6692\",\"size\":[1494188.0],\"sizemode\":\"area\",\"sizeref\":391040.27777777775,\"symbol\":\"circle\"},\"mode\":\"markers\",\"name\":\"Bahrain\",\"orientation\":\"v\",\"showlegend\":true,\"x\":[1.4],\"xaxis\":\"x\",\"y\":[6.22],\"yaxis\":\"y\",\"type\":\"scatter\"},{\"hovertemplate\":\"<b>%{hovertext}</b><br><br>Country=Thailand<br>Mean GDP per Capita=%{x}<br>Mean Happiness Score=%{y}<br>Population=%{marker.size}<extra></extra>\",\"hovertext\":[71307763.0],\"legendgroup\":\"Thailand\",\"marker\":{\"color\":\"#B6E880\",\"size\":[71307763.0],\"sizemode\":\"area\",\"sizeref\":391040.27777777775,\"symbol\":\"circle\"},\"mode\":\"markers\",\"name\":\"Thailand\",\"orientation\":\"v\",\"showlegend\":true,\"x\":[1.06],\"xaxis\":\"x\",\"y\":[6.22],\"yaxis\":\"y\",\"type\":\"scatter\"},{\"hovertemplate\":\"<b>%{hovertext}</b><br><br>Country=Trinidad and Tobago<br>Mean GDP per Capita=%{x}<br>Mean Happiness Score=%{y}<br>Population=%{marker.size}<extra></extra>\",\"hovertext\":[1519955.0],\"legendgroup\":\"Trinidad and Tobago\",\"marker\":{\"color\":\"#FF97FF\",\"size\":[1519955.0],\"sizemode\":\"area\",\"sizeref\":391040.27777777775,\"symbol\":\"circle\"},\"mode\":\"markers\",\"name\":\"Trinidad and Tobago\",\"orientation\":\"v\",\"showlegend\":true,\"x\":[1.27],\"xaxis\":\"x\",\"y\":[6.18],\"yaxis\":\"y\",\"type\":\"scatter\"},{\"hovertemplate\":\"<b>%{hovertext}</b><br><br>Country=Slovakia<br>Mean GDP per Capita=%{x}<br>Mean Happiness Score=%{y}<br>Population=%{marker.size}<extra></extra>\",\"hovertext\":[5454147.0],\"legendgroup\":\"Slovakia\",\"marker\":{\"color\":\"#FECB52\",\"size\":[5454147.0],\"sizemode\":\"area\",\"sizeref\":391040.27777777775,\"symbol\":\"circle\"},\"mode\":\"markers\",\"name\":\"Slovakia\",\"orientation\":\"v\",\"showlegend\":true,\"x\":[1.26],\"xaxis\":\"x\",\"y\":[6.16],\"yaxis\":\"y\",\"type\":\"scatter\"},{\"hovertemplate\":\"<b>%{hovertext}</b><br><br>Country=Italy<br>Mean GDP per Capita=%{x}<br>Mean Happiness Score=%{y}<br>Population=%{marker.size}<extra></extra>\",\"hovertext\":[59729081.0],\"legendgroup\":\"Italy\",\"marker\":{\"color\":\"#636efa\",\"size\":[59729081.0],\"sizemode\":\"area\",\"sizeref\":391040.27777777775,\"symbol\":\"circle\"},\"mode\":\"markers\",\"name\":\"Italy\",\"orientation\":\"v\",\"showlegend\":true,\"x\":[1.33],\"xaxis\":\"x\",\"y\":[6.15],\"yaxis\":\"y\",\"type\":\"scatter\"},{\"hovertemplate\":\"<b>%{hovertext}</b><br><br>Country=Kuwait<br>Mean GDP per Capita=%{x}<br>Mean Happiness Score=%{y}<br>Population=%{marker.size}<extra></extra>\",\"hovertext\":[4441100.0],\"legendgroup\":\"Kuwait\",\"marker\":{\"color\":\"#EF553B\",\"size\":[4441100.0],\"sizemode\":\"area\",\"sizeref\":391040.27777777775,\"symbol\":\"circle\"},\"mode\":\"markers\",\"name\":\"Kuwait\",\"orientation\":\"v\",\"showlegend\":true,\"x\":[1.54],\"xaxis\":\"x\",\"y\":[6.13],\"yaxis\":\"y\",\"type\":\"scatter\"},{\"hovertemplate\":\"<b>%{hovertext}</b><br><br>Country=El Salvador<br>Mean GDP per Capita=%{x}<br>Mean Happiness Score=%{y}<br>Population=%{marker.size}<extra></extra>\",\"hovertext\":[6280217.0],\"legendgroup\":\"El Salvador\",\"marker\":{\"color\":\"#00cc96\",\"size\":[6280217.0],\"sizemode\":\"area\",\"sizeref\":391040.27777777775,\"symbol\":\"circle\"},\"mode\":\"markers\",\"name\":\"El Salvador\",\"orientation\":\"v\",\"showlegend\":true,\"x\":[0.83],\"xaxis\":\"x\",\"y\":[6.11],\"yaxis\":\"y\",\"type\":\"scatter\"},{\"hovertemplate\":\"<b>%{hovertext}</b><br><br>Country=Uzbekistan<br>Mean GDP per Capita=%{x}<br>Mean Happiness Score=%{y}<br>Population=%{marker.size}<extra></extra>\",\"hovertext\":[33580350.0],\"legendgroup\":\"Uzbekistan\",\"marker\":{\"color\":\"#ab63fa\",\"size\":[33580350.0],\"sizemode\":\"area\",\"sizeref\":391040.27777777775,\"symbol\":\"circle\"},\"mode\":\"markers\",\"name\":\"Uzbekistan\",\"orientation\":\"v\",\"showlegend\":true,\"x\":[0.73],\"xaxis\":\"x\",\"y\":[6.08],\"yaxis\":\"y\",\"type\":\"scatter\"},{\"hovertemplate\":\"<b>%{hovertext}</b><br><br>Country=Slovenia<br>Mean GDP per Capita=%{x}<br>Mean Happiness Score=%{y}<br>Population=%{marker.size}<extra></extra>\",\"hovertext\":[2088385.0],\"legendgroup\":\"Slovenia\",\"marker\":{\"color\":\"#FFA15A\",\"size\":[2088385.0],\"sizemode\":\"area\",\"sizeref\":391040.27777777775,\"symbol\":\"circle\"},\"mode\":\"markers\",\"name\":\"Slovenia\",\"orientation\":\"v\",\"showlegend\":true,\"x\":[1.29],\"xaxis\":\"x\",\"y\":[6.05],\"yaxis\":\"y\",\"type\":\"scatter\"},{\"hovertemplate\":\"<b>%{hovertext}</b><br><br>Country=Poland<br>Mean GDP per Capita=%{x}<br>Mean Happiness Score=%{y}<br>Population=%{marker.size}<extra></extra>\",\"hovertext\":[37965475.0],\"legendgroup\":\"Poland\",\"marker\":{\"color\":\"#19d3f3\",\"size\":[37965475.0],\"sizemode\":\"area\",\"sizeref\":391040.27777777775,\"symbol\":\"circle\"},\"mode\":\"markers\",\"name\":\"Poland\",\"orientation\":\"v\",\"showlegend\":true,\"x\":[1.23],\"xaxis\":\"x\",\"y\":[6.03],\"yaxis\":\"y\",\"type\":\"scatter\"},{\"hovertemplate\":\"<b>%{hovertext}</b><br><br>Country=Lithuania<br>Mean GDP per Capita=%{x}<br>Mean Happiness Score=%{y}<br>Population=%{marker.size}<extra></extra>\",\"hovertext\":[2794137.0],\"legendgroup\":\"Lithuania\",\"marker\":{\"color\":\"#FF6692\",\"size\":[2794137.0],\"sizemode\":\"area\",\"sizeref\":391040.27777777775,\"symbol\":\"circle\"},\"mode\":\"markers\",\"name\":\"Lithuania\",\"orientation\":\"v\",\"showlegend\":true,\"x\":[1.26],\"xaxis\":\"x\",\"y\":[6.03],\"yaxis\":\"y\",\"type\":\"scatter\"},{\"hovertemplate\":\"<b>%{hovertext}</b><br><br>Country=Nicaragua<br>Mean GDP per Capita=%{x}<br>Mean Happiness Score=%{y}<br>Population=%{marker.size}<extra></extra>\",\"hovertext\":[6663924.0],\"legendgroup\":\"Nicaragua\",\"marker\":{\"color\":\"#B6E880\",\"size\":[6663924.0],\"sizemode\":\"area\",\"sizeref\":391040.27777777775,\"symbol\":\"circle\"},\"mode\":\"markers\",\"name\":\"Nicaragua\",\"orientation\":\"v\",\"showlegend\":true,\"x\":[0.68],\"xaxis\":\"x\",\"y\":[5.99],\"yaxis\":\"y\",\"type\":\"scatter\"},{\"hovertemplate\":\"<b>%{hovertext}</b><br><br>Country=Ecuador<br>Mean GDP per Capita=%{x}<br>Mean Happiness Score=%{y}<br>Population=%{marker.size}<extra></extra>\",\"hovertext\":[17343740.0],\"legendgroup\":\"Ecuador\",\"marker\":{\"color\":\"#FF97FF\",\"size\":[17343740.0],\"sizemode\":\"area\",\"sizeref\":391040.27777777775,\"symbol\":\"circle\"},\"mode\":\"markers\",\"name\":\"Ecuador\",\"orientation\":\"v\",\"showlegend\":true,\"x\":[0.93],\"xaxis\":\"x\",\"y\":[5.94],\"yaxis\":\"y\",\"type\":\"scatter\"},{\"hovertemplate\":\"<b>%{hovertext}</b><br><br>Country=Japan<br>Mean GDP per Capita=%{x}<br>Mean Happiness Score=%{y}<br>Population=%{marker.size}<extra></extra>\",\"hovertext\":[126633000.0],\"legendgroup\":\"Japan\",\"marker\":{\"color\":\"#FECB52\",\"size\":[126633000.0],\"sizemode\":\"area\",\"sizeref\":391040.27777777775,\"symbol\":\"circle\"},\"mode\":\"markers\",\"name\":\"Japan\",\"orientation\":\"v\",\"showlegend\":true,\"x\":[1.35],\"xaxis\":\"x\",\"y\":[5.93],\"yaxis\":\"y\",\"type\":\"scatter\"},{\"hovertemplate\":\"<b>%{hovertext}</b><br><br>Country=Kazakhstan<br>Mean GDP per Capita=%{x}<br>Mean Happiness Score=%{y}<br>Population=%{marker.size}<extra></extra>\",\"hovertext\":[18513673.0],\"legendgroup\":\"Kazakhstan\",\"marker\":{\"color\":\"#636efa\",\"size\":[18513673.0],\"sizemode\":\"area\",\"sizeref\":391040.27777777775,\"symbol\":\"circle\"},\"mode\":\"markers\",\"name\":\"Kazakhstan\",\"orientation\":\"v\",\"showlegend\":true,\"x\":[1.2],\"xaxis\":\"x\",\"y\":[5.91],\"yaxis\":\"y\",\"type\":\"scatter\"},{\"hovertemplate\":\"<b>%{hovertext}</b><br><br>Country=South Korea<br>Mean GDP per Capita=%{x}<br>Mean Happiness Score=%{y}<br>Population=%{marker.size}<extra></extra>\",\"hovertext\":[51764822.0],\"legendgroup\":\"South Korea\",\"marker\":{\"color\":\"#EF553B\",\"size\":[51764822.0],\"sizemode\":\"area\",\"sizeref\":391040.27777777775,\"symbol\":\"circle\"},\"mode\":\"markers\",\"name\":\"South Korea\",\"orientation\":\"v\",\"showlegend\":true,\"x\":[1.34],\"xaxis\":\"x\",\"y\":[5.89],\"yaxis\":\"y\",\"type\":\"scatter\"},{\"hovertemplate\":\"<b>%{hovertext}</b><br><br>Country=Cyprus<br>Mean GDP per Capita=%{x}<br>Mean Happiness Score=%{y}<br>Population=%{marker.size}<extra></extra>\",\"hovertext\":[1228836.0],\"legendgroup\":\"Cyprus\",\"marker\":{\"color\":\"#00cc96\",\"size\":[1228836.0],\"sizemode\":\"area\",\"sizeref\":391040.27777777775,\"symbol\":\"circle\"},\"mode\":\"markers\",\"name\":\"Cyprus\",\"orientation\":\"v\",\"showlegend\":true,\"x\":[1.3],\"xaxis\":\"x\",\"y\":[5.89],\"yaxis\":\"y\",\"type\":\"scatter\"},{\"hovertemplate\":\"<b>%{hovertext}</b><br><br>Country=Kosovo<br>Mean GDP per Capita=%{x}<br>Mean Happiness Score=%{y}<br>Population=%{marker.size}<extra></extra>\",\"hovertext\":[1788878.0],\"legendgroup\":\"Kosovo\",\"marker\":{\"color\":\"#ab63fa\",\"size\":[1788878.0],\"sizemode\":\"area\",\"sizeref\":391040.27777777775,\"symbol\":\"circle\"},\"mode\":\"markers\",\"name\":\"Kosovo\",\"orientation\":\"v\",\"showlegend\":true,\"x\":[0.89],\"xaxis\":\"x\",\"y\":[5.83],\"yaxis\":\"y\",\"type\":\"scatter\"},{\"hovertemplate\":\"<b>%{hovertext}</b><br><br>Country=Bolivia<br>Mean GDP per Capita=%{x}<br>Mean Happiness Score=%{y}<br>Population=%{marker.size}<extra></extra>\",\"hovertext\":[11777315.0],\"legendgroup\":\"Bolivia\",\"marker\":{\"color\":\"#FFA15A\",\"size\":[11777315.0],\"sizemode\":\"area\",\"sizeref\":391040.27777777775,\"symbol\":\"circle\"},\"mode\":\"markers\",\"name\":\"Bolivia\",\"orientation\":\"v\",\"showlegend\":true,\"x\":[0.78],\"xaxis\":\"x\",\"y\":[5.8],\"yaxis\":\"y\",\"type\":\"scatter\"},{\"hovertemplate\":\"<b>%{hovertext}</b><br><br>Country=Jamaica<br>Mean GDP per Capita=%{x}<br>Mean Happiness Score=%{y}<br>Population=%{marker.size}<extra></extra>\",\"hovertext\":[2813773.0],\"legendgroup\":\"Jamaica\",\"marker\":{\"color\":\"#19d3f3\",\"size\":[2813773.0],\"sizemode\":\"area\",\"sizeref\":391040.27777777775,\"symbol\":\"circle\"},\"mode\":\"markers\",\"name\":\"Jamaica\",\"orientation\":\"v\",\"showlegend\":true,\"x\":[0.86],\"xaxis\":\"x\",\"y\":[5.8],\"yaxis\":\"y\",\"type\":\"scatter\"},{\"hovertemplate\":\"<b>%{hovertext}</b><br><br>Country=Romania<br>Mean GDP per Capita=%{x}<br>Mean Happiness Score=%{y}<br>Population=%{marker.size}<extra></extra>\",\"hovertext\":[19371648.0],\"legendgroup\":\"Romania\",\"marker\":{\"color\":\"#FF6692\",\"size\":[19371648.0],\"sizemode\":\"area\",\"sizeref\":391040.27777777775,\"symbol\":\"circle\"},\"mode\":\"markers\",\"name\":\"Romania\",\"orientation\":\"v\",\"showlegend\":true,\"x\":[1.17],\"xaxis\":\"x\",\"y\":[5.79],\"yaxis\":\"y\",\"type\":\"scatter\"},{\"hovertemplate\":\"<b>%{hovertext}</b><br><br>Country=Estonia<br>Mean GDP per Capita=%{x}<br>Mean Happiness Score=%{y}<br>Population=%{marker.size}<extra></extra>\",\"hovertext\":[1326898.0],\"legendgroup\":\"Estonia\",\"marker\":{\"color\":\"#B6E880\",\"size\":[1326898.0],\"sizemode\":\"area\",\"sizeref\":391040.27777777775,\"symbol\":\"circle\"},\"mode\":\"markers\",\"name\":\"Estonia\",\"orientation\":\"v\",\"showlegend\":true,\"x\":[1.26],\"xaxis\":\"x\",\"y\":[5.78],\"yaxis\":\"y\",\"type\":\"scatter\"},{\"hovertemplate\":\"<b>%{hovertext}</b><br><br>Country=Peru<br>Mean GDP per Capita=%{x}<br>Mean Happiness Score=%{y}<br>Population=%{marker.size}<extra></extra>\",\"hovertext\":[32824861.0],\"legendgroup\":\"Peru\",\"marker\":{\"color\":\"#FF97FF\",\"size\":[32824861.0],\"sizemode\":\"area\",\"sizeref\":391040.27777777775,\"symbol\":\"circle\"},\"mode\":\"markers\",\"name\":\"Peru\",\"orientation\":\"v\",\"showlegend\":true,\"x\":[0.97],\"xaxis\":\"x\",\"y\":[5.77],\"yaxis\":\"y\",\"type\":\"scatter\"},{\"hovertemplate\":\"<b>%{hovertext}</b><br><br>Country=Moldova<br>Mean GDP per Capita=%{x}<br>Mean Happiness Score=%{y}<br>Population=%{marker.size}<extra></extra>\",\"hovertext\":[2664224.0],\"legendgroup\":\"Moldova\",\"marker\":{\"color\":\"#FECB52\",\"size\":[2664224.0],\"sizemode\":\"area\",\"sizeref\":391040.27777777775,\"symbol\":\"circle\"},\"mode\":\"markers\",\"name\":\"Moldova\",\"orientation\":\"v\",\"showlegend\":true,\"x\":[0.75],\"xaxis\":\"x\",\"y\":[5.76],\"yaxis\":\"y\",\"type\":\"scatter\"},{\"hovertemplate\":\"<b>%{hovertext}</b><br><br>Country=Mauritius<br>Mean GDP per Capita=%{x}<br>Mean Happiness Score=%{y}<br>Population=%{marker.size}<extra></extra>\",\"hovertext\":[1265711.0],\"legendgroup\":\"Mauritius\",\"marker\":{\"color\":\"#636efa\",\"size\":[1265711.0],\"sizemode\":\"area\",\"sizeref\":391040.27777777775,\"symbol\":\"circle\"},\"mode\":\"markers\",\"name\":\"Mauritius\",\"orientation\":\"v\",\"showlegend\":true,\"x\":[1.12],\"xaxis\":\"x\",\"y\":[5.76],\"yaxis\":\"y\",\"type\":\"scatter\"},{\"hovertemplate\":\"<b>%{hovertext}</b><br><br>Country=Latvia<br>Mean GDP per Capita=%{x}<br>Mean Happiness Score=%{y}<br>Population=%{marker.size}<extra></extra>\",\"hovertext\":[1913822.0],\"legendgroup\":\"Latvia\",\"marker\":{\"color\":\"#EF553B\",\"size\":[1913822.0],\"sizemode\":\"area\",\"sizeref\":391040.27777777775,\"symbol\":\"circle\"},\"mode\":\"markers\",\"name\":\"Latvia\",\"orientation\":\"v\",\"showlegend\":true,\"x\":[1.21],\"xaxis\":\"x\",\"y\":[5.73],\"yaxis\":\"y\",\"type\":\"scatter\"},{\"hovertemplate\":\"<b>%{hovertext}</b><br><br>Country=Russia<br>Mean GDP per Capita=%{x}<br>Mean Happiness Score=%{y}<br>Population=%{marker.size}<extra></extra>\",\"hovertext\":[144406261.0],\"legendgroup\":\"Russia\",\"marker\":{\"color\":\"#00cc96\",\"size\":[144406261.0],\"sizemode\":\"area\",\"sizeref\":391040.27777777775,\"symbol\":\"circle\"},\"mode\":\"markers\",\"name\":\"Russia\",\"orientation\":\"v\",\"showlegend\":true,\"x\":[1.21],\"xaxis\":\"x\",\"y\":[5.7],\"yaxis\":\"y\",\"type\":\"scatter\"},{\"hovertemplate\":\"<b>%{hovertext}</b><br><br>Country=Paraguay<br>Mean GDP per Capita=%{x}<br>Mean Happiness Score=%{y}<br>Population=%{marker.size}<extra></extra>\",\"hovertext\":[6530026.0],\"legendgroup\":\"Paraguay\",\"marker\":{\"color\":\"#ab63fa\",\"size\":[6530026.0],\"sizemode\":\"area\",\"sizeref\":391040.27777777775,\"symbol\":\"circle\"},\"mode\":\"markers\",\"name\":\"Paraguay\",\"orientation\":\"v\",\"showlegend\":true,\"x\":[0.88],\"xaxis\":\"x\",\"y\":[5.69],\"yaxis\":\"y\",\"type\":\"scatter\"},{\"hovertemplate\":\"<b>%{hovertext}</b><br><br>Country=Malaysia<br>Mean GDP per Capita=%{x}<br>Mean Happiness Score=%{y}<br>Population=%{marker.size}<extra></extra>\",\"hovertext\":[32804020.0],\"legendgroup\":\"Malaysia\",\"marker\":{\"color\":\"#FFA15A\",\"size\":[32804020.0],\"sizemode\":\"area\",\"sizeref\":391040.27777777775,\"symbol\":\"circle\"},\"mode\":\"markers\",\"name\":\"Malaysia\",\"orientation\":\"v\",\"showlegend\":true,\"x\":[1.22],\"xaxis\":\"x\",\"y\":[5.64],\"yaxis\":\"y\",\"type\":\"scatter\"},{\"hovertemplate\":\"<b>%{hovertext}</b><br><br>Country=Croatia<br>Mean GDP per Capita=%{x}<br>Mean Happiness Score=%{y}<br>Population=%{marker.size}<extra></extra>\",\"hovertext\":[4065253.0],\"legendgroup\":\"Croatia\",\"marker\":{\"color\":\"#19d3f3\",\"size\":[4065253.0],\"sizemode\":\"area\",\"sizeref\":391040.27777777775,\"symbol\":\"circle\"},\"mode\":\"markers\",\"name\":\"Croatia\",\"orientation\":\"v\",\"showlegend\":true,\"x\":[1.18],\"xaxis\":\"x\",\"y\":[5.59],\"yaxis\":\"y\",\"type\":\"scatter\"},{\"hovertemplate\":\"<b>%{hovertext}</b><br><br>Country=Belarus<br>Mean GDP per Capita=%{x}<br>Mean Happiness Score=%{y}<br>Population=%{marker.size}<extra></extra>\",\"hovertext\":[9419758.0],\"legendgroup\":\"Belarus\",\"marker\":{\"color\":\"#FF6692\",\"size\":[9419758.0],\"sizemode\":\"area\",\"sizeref\":391040.27777777775,\"symbol\":\"circle\"},\"mode\":\"markers\",\"name\":\"Belarus\",\"orientation\":\"v\",\"showlegend\":true,\"x\":[1.09],\"xaxis\":\"x\",\"y\":[5.56],\"yaxis\":\"y\",\"type\":\"scatter\"},{\"hovertemplate\":\"<b>%{hovertext}</b><br><br>Country=Serbia<br>Mean GDP per Capita=%{x}<br>Mean Happiness Score=%{y}<br>Population=%{marker.size}<extra></extra>\",\"hovertext\":[6945235.0],\"legendgroup\":\"Serbia\",\"marker\":{\"color\":\"#B6E880\",\"size\":[6945235.0],\"sizemode\":\"area\",\"sizeref\":391040.27777777775,\"symbol\":\"circle\"},\"mode\":\"markers\",\"name\":\"Serbia\",\"orientation\":\"v\",\"showlegend\":true,\"x\":[1.02],\"xaxis\":\"x\",\"y\":[5.55],\"yaxis\":\"y\",\"type\":\"scatter\"},{\"hovertemplate\":\"<b>%{hovertext}</b><br><br>Country=Libya<br>Mean GDP per Capita=%{x}<br>Mean Happiness Score=%{y}<br>Population=%{marker.size}<extra></extra>\",\"hovertext\":[6569088.0],\"legendgroup\":\"Libya\",\"marker\":{\"color\":\"#FF97FF\",\"size\":[6569088.0],\"sizemode\":\"area\",\"sizeref\":391040.27777777775,\"symbol\":\"circle\"},\"mode\":\"markers\",\"name\":\"Libya\",\"orientation\":\"v\",\"showlegend\":true,\"x\":[1.08],\"xaxis\":\"x\",\"y\":[5.55],\"yaxis\":\"y\",\"type\":\"scatter\"},{\"hovertemplate\":\"<b>%{hovertext}</b><br><br>Country=Philippines<br>Mean GDP per Capita=%{x}<br>Mean Happiness Score=%{y}<br>Population=%{marker.size}<extra></extra>\",\"hovertext\":[110380804.0],\"legendgroup\":\"Philippines\",\"marker\":{\"color\":\"#FECB52\",\"size\":[110380804.0],\"sizemode\":\"area\",\"sizeref\":391040.27777777775,\"symbol\":\"circle\"},\"mode\":\"markers\",\"name\":\"Philippines\",\"orientation\":\"v\",\"showlegend\":true,\"x\":[0.81],\"xaxis\":\"x\",\"y\":[5.5],\"yaxis\":\"y\",\"type\":\"scatter\"},{\"hovertemplate\":\"<b>%{hovertext}</b><br><br>Country=Portugal<br>Mean GDP per Capita=%{x}<br>Mean Happiness Score=%{y}<br>Population=%{marker.size}<extra></extra>\",\"hovertext\":[10286263.0],\"legendgroup\":\"Portugal\",\"marker\":{\"color\":\"#636efa\",\"size\":[10286263.0],\"sizemode\":\"area\",\"sizeref\":391040.27777777775,\"symbol\":\"circle\"},\"mode\":\"markers\",\"name\":\"Portugal\",\"orientation\":\"v\",\"showlegend\":true,\"x\":[1.25],\"xaxis\":\"x\",\"y\":[5.48],\"yaxis\":\"y\",\"type\":\"scatter\"},{\"hovertemplate\":\"<b>%{hovertext}</b><br><br>Country=Hungary<br>Mean GDP per Capita=%{x}<br>Mean Happiness Score=%{y}<br>Population=%{marker.size}<extra></extra>\",\"hovertext\":[9771141.0],\"legendgroup\":\"Hungary\",\"marker\":{\"color\":\"#EF553B\",\"size\":[9771141.0],\"sizemode\":\"area\",\"sizeref\":391040.27777777775,\"symbol\":\"circle\"},\"mode\":\"markers\",\"name\":\"Hungary\",\"orientation\":\"v\",\"showlegend\":true,\"x\":[1.23],\"xaxis\":\"x\",\"y\":[5.47],\"yaxis\":\"y\",\"type\":\"scatter\"},{\"hovertemplate\":\"<b>%{hovertext}</b><br><br>Country=Hong Kong<br>Mean GDP per Capita=%{x}<br>Mean Happiness Score=%{y}<br>Population=%{marker.size}<extra></extra>\",\"hovertext\":[7507900.0],\"legendgroup\":\"Hong Kong\",\"marker\":{\"color\":\"#00cc96\",\"size\":[7507900.0],\"sizemode\":\"area\",\"sizeref\":391040.27777777775,\"symbol\":\"circle\"},\"mode\":\"markers\",\"name\":\"Hong Kong\",\"orientation\":\"v\",\"showlegend\":true,\"x\":[1.48],\"xaxis\":\"x\",\"y\":[5.46],\"yaxis\":\"y\",\"type\":\"scatter\"},{\"hovertemplate\":\"<b>%{hovertext}</b><br><br>Country=Honduras<br>Mean GDP per Capita=%{x}<br>Mean Happiness Score=%{y}<br>Population=%{marker.size}<extra></extra>\",\"hovertext\":[9958829.0],\"legendgroup\":\"Honduras\",\"marker\":{\"color\":\"#ab63fa\",\"size\":[9958829.0],\"sizemode\":\"area\",\"sizeref\":391040.27777777775,\"symbol\":\"circle\"},\"mode\":\"markers\",\"name\":\"Honduras\",\"orientation\":\"v\",\"showlegend\":true,\"x\":[0.67],\"xaxis\":\"x\",\"y\":[5.44],\"yaxis\":\"y\",\"type\":\"scatter\"},{\"hovertemplate\":\"<b>%{hovertext}</b><br><br>Country=Turkmenistan<br>Mean GDP per Capita=%{x}<br>Mean Happiness Score=%{y}<br>Population=%{marker.size}<extra></extra>\",\"hovertext\":[6158420.0],\"legendgroup\":\"Turkmenistan\",\"marker\":{\"color\":\"#FFA15A\",\"size\":[6158420.0],\"sizemode\":\"area\",\"sizeref\":391040.27777777775,\"symbol\":\"circle\"},\"mode\":\"markers\",\"name\":\"Turkmenistan\",\"orientation\":\"v\",\"showlegend\":true,\"x\":[1.05],\"xaxis\":\"x\",\"y\":[5.42],\"yaxis\":\"y\",\"type\":\"scatter\"},{\"hovertemplate\":\"<b>%{hovertext}</b><br><br>Country=Venezuela<br>Mean GDP per Capita=%{x}<br>Mean Happiness Score=%{y}<br>Population=%{marker.size}<extra></extra>\",\"hovertext\":[28971683.0],\"legendgroup\":\"Venezuela\",\"marker\":{\"color\":\"#19d3f3\",\"size\":[28971683.0],\"sizemode\":\"area\",\"sizeref\":391040.27777777775,\"symbol\":\"circle\"},\"mode\":\"markers\",\"name\":\"Venezuela\",\"orientation\":\"v\",\"showlegend\":true,\"x\":[1.0],\"xaxis\":\"x\",\"y\":[5.41],\"yaxis\":\"y\",\"type\":\"scatter\"},{\"hovertemplate\":\"<b>%{hovertext}</b><br><br>Country=Algeria<br>Mean GDP per Capita=%{x}<br>Mean Happiness Score=%{y}<br>Population=%{marker.size}<extra></extra>\",\"hovertext\":[42705368.0],\"legendgroup\":\"Algeria\",\"marker\":{\"color\":\"#FF6692\",\"size\":[42705368.0],\"sizemode\":\"area\",\"sizeref\":391040.27777777775,\"symbol\":\"circle\"},\"mode\":\"markers\",\"name\":\"Algeria\",\"orientation\":\"v\",\"showlegend\":true,\"x\":[0.99],\"xaxis\":\"x\",\"y\":[5.39],\"yaxis\":\"y\",\"type\":\"scatter\"},{\"hovertemplate\":\"<b>%{hovertext}</b><br><br>Country=Montenegro<br>Mean GDP per Capita=%{x}<br>Mean Happiness Score=%{y}<br>Population=%{marker.size}<extra></extra>\",\"hovertext\":[622028.0],\"legendgroup\":\"Montenegro\",\"marker\":{\"color\":\"#B6E880\",\"size\":[622028.0],\"sizemode\":\"area\",\"sizeref\":391040.27777777775,\"symbol\":\"circle\"},\"mode\":\"markers\",\"name\":\"Montenegro\",\"orientation\":\"v\",\"showlegend\":true,\"x\":[1.08],\"xaxis\":\"x\",\"y\":[5.38],\"yaxis\":\"y\",\"type\":\"scatter\"},{\"hovertemplate\":\"<b>%{hovertext}</b><br><br>Country=Bosnia and Herzegovina<br>Mean GDP per Capita=%{x}<br>Mean Happiness Score=%{y}<br>Population=%{marker.size}<extra></extra>\",\"hovertext\":[3360711.0],\"legendgroup\":\"Bosnia and Herzegovina\",\"marker\":{\"color\":\"#FF97FF\",\"size\":[3360711.0],\"sizemode\":\"area\",\"sizeref\":391040.27777777775,\"symbol\":\"circle\"},\"mode\":\"markers\",\"name\":\"Bosnia and Herzegovina\",\"orientation\":\"v\",\"showlegend\":true,\"x\":[0.95],\"xaxis\":\"x\",\"y\":[5.33],\"yaxis\":\"y\",\"type\":\"scatter\"},{\"hovertemplate\":\"<b>%{hovertext}</b><br><br>Country=Kyrgyzstan<br>Mean GDP per Capita=%{x}<br>Mean Happiness Score=%{y}<br>Population=%{marker.size}<extra></extra>\",\"hovertext\":[6456200.0],\"legendgroup\":\"Kyrgyzstan\",\"marker\":{\"color\":\"#FECB52\",\"size\":[6456200.0],\"sizemode\":\"area\",\"sizeref\":391040.27777777775,\"symbol\":\"circle\"},\"mode\":\"markers\",\"name\":\"Kyrgyzstan\",\"orientation\":\"v\",\"showlegend\":true,\"x\":[0.57],\"xaxis\":\"x\",\"y\":[5.32],\"yaxis\":\"y\",\"type\":\"scatter\"},{\"hovertemplate\":\"<b>%{hovertext}</b><br><br>Country=Indonesia<br>Mean GDP per Capita=%{x}<br>Mean Happiness Score=%{y}<br>Population=%{marker.size}<extra></extra>\",\"hovertext\":[269582878.0],\"legendgroup\":\"Indonesia\",\"marker\":{\"color\":\"#636efa\",\"size\":[269582878.0],\"sizemode\":\"area\",\"sizeref\":391040.27777777775,\"symbol\":\"circle\"},\"mode\":\"markers\",\"name\":\"Indonesia\",\"orientation\":\"v\",\"showlegend\":true,\"x\":[0.93],\"xaxis\":\"x\",\"y\":[5.3],\"yaxis\":\"y\",\"type\":\"scatter\"},{\"hovertemplate\":\"<b>%{hovertext}</b><br><br>Country=Turkey<br>Mean GDP per Capita=%{x}<br>Mean Happiness Score=%{y}<br>Population=%{marker.size}<extra></extra>\",\"hovertext\":[83481684.0],\"legendgroup\":\"Turkey\",\"marker\":{\"color\":\"#EF553B\",\"size\":[83481684.0],\"sizemode\":\"area\",\"sizeref\":391040.27777777775,\"symbol\":\"circle\"},\"mode\":\"markers\",\"name\":\"Turkey\",\"orientation\":\"v\",\"showlegend\":true,\"x\":[1.18],\"xaxis\":\"x\",\"y\":[5.29],\"yaxis\":\"y\",\"type\":\"scatter\"},{\"hovertemplate\":\"<b>%{hovertext}</b><br><br>Country=Greece<br>Mean GDP per Capita=%{x}<br>Mean Happiness Score=%{y}<br>Population=%{marker.size}<extra></extra>\",\"hovertext\":[10721582.0],\"legendgroup\":\"Greece\",\"marker\":{\"color\":\"#00cc96\",\"size\":[10721582.0],\"sizemode\":\"area\",\"sizeref\":391040.27777777775,\"symbol\":\"circle\"},\"mode\":\"markers\",\"name\":\"Greece\",\"orientation\":\"v\",\"showlegend\":true,\"x\":[1.22],\"xaxis\":\"x\",\"y\":[5.27],\"yaxis\":\"y\",\"type\":\"scatter\"},{\"hovertemplate\":\"<b>%{hovertext}</b><br><br>Country=Dominican Republic<br>Mean GDP per Capita=%{x}<br>Mean Happiness Score=%{y}<br>Population=%{marker.size}<extra></extra>\",\"hovertext\":[10881882.0],\"legendgroup\":\"Dominican Republic\",\"marker\":{\"color\":\"#ab63fa\",\"size\":[10881882.0],\"sizemode\":\"area\",\"sizeref\":391040.27777777775,\"symbol\":\"circle\"},\"mode\":\"markers\",\"name\":\"Dominican Republic\",\"orientation\":\"v\",\"showlegend\":true,\"x\":[1.02],\"xaxis\":\"x\",\"y\":[5.27],\"yaxis\":\"y\",\"type\":\"scatter\"},{\"hovertemplate\":\"<b>%{hovertext}</b><br><br>Country=Pakistan<br>Mean GDP per Capita=%{x}<br>Mean Happiness Score=%{y}<br>Population=%{marker.size}<extra></extra>\",\"hovertext\":[223293280.0],\"legendgroup\":\"Pakistan\",\"marker\":{\"color\":\"#FFA15A\",\"size\":[223293280.0],\"sizemode\":\"area\",\"sizeref\":391040.27777777775,\"symbol\":\"circle\"},\"mode\":\"markers\",\"name\":\"Pakistan\",\"orientation\":\"v\",\"showlegend\":true,\"x\":[0.66],\"xaxis\":\"x\",\"y\":[5.26],\"yaxis\":\"y\",\"type\":\"scatter\"},{\"hovertemplate\":\"<b>%{hovertext}</b><br><br>Country=Vietnam<br>Mean GDP per Capita=%{x}<br>Mean Happiness Score=%{y}<br>Population=%{marker.size}<extra></extra>\",\"hovertext\":[95776716.0],\"legendgroup\":\"Vietnam\",\"marker\":{\"color\":\"#19d3f3\",\"size\":[95776716.0],\"sizemode\":\"area\",\"sizeref\":391040.27777777775,\"symbol\":\"circle\"},\"mode\":\"markers\",\"name\":\"Vietnam\",\"orientation\":\"v\",\"showlegend\":true,\"x\":[0.74],\"xaxis\":\"x\",\"y\":[5.25],\"yaxis\":\"y\",\"type\":\"scatter\"},{\"hovertemplate\":\"<b>%{hovertext}</b><br><br>Country=China<br>Mean GDP per Capita=%{x}<br>Mean Happiness Score=%{y}<br>Population=%{marker.size}<extra></extra>\",\"hovertext\":[1407745000.0],\"legendgroup\":\"China\",\"marker\":{\"color\":\"#FF6692\",\"size\":[1407745000.0],\"sizemode\":\"area\",\"sizeref\":391040.27777777775,\"symbol\":\"circle\"},\"mode\":\"markers\",\"name\":\"China\",\"orientation\":\"v\",\"showlegend\":true,\"x\":[1.02],\"xaxis\":\"x\",\"y\":[5.24],\"yaxis\":\"y\",\"type\":\"scatter\"},{\"hovertemplate\":\"<b>%{hovertext}</b><br><br>Country=Azerbaijan<br>Mean GDP per Capita=%{x}<br>Mean Happiness Score=%{y}<br>Population=%{marker.size}<extra></extra>\",\"hovertext\":[10024283.0],\"legendgroup\":\"Azerbaijan\",\"marker\":{\"color\":\"#B6E880\",\"size\":[10024283.0],\"sizemode\":\"area\",\"sizeref\":391040.27777777775,\"symbol\":\"circle\"},\"mode\":\"markers\",\"name\":\"Azerbaijan\",\"orientation\":\"v\",\"showlegend\":true,\"x\":[1.06],\"xaxis\":\"x\",\"y\":[5.21],\"yaxis\":\"y\",\"type\":\"scatter\"},{\"hovertemplate\":\"<b>%{hovertext}</b><br><br>Country=Mongolia<br>Mean GDP per Capita=%{x}<br>Mean Happiness Score=%{y}<br>Population=%{marker.size}<extra></extra>\",\"hovertext\":[3232430.0],\"legendgroup\":\"Mongolia\",\"marker\":{\"color\":\"#FF97FF\",\"size\":[3232430.0],\"sizemode\":\"area\",\"sizeref\":391040.27777777775,\"symbol\":\"circle\"},\"mode\":\"markers\",\"name\":\"Mongolia\",\"orientation\":\"v\",\"showlegend\":true,\"x\":[0.94],\"xaxis\":\"x\",\"y\":[5.2],\"yaxis\":\"y\",\"type\":\"scatter\"},{\"hovertemplate\":\"<b>%{hovertext}</b><br><br>Country=Tajikistan<br>Mean GDP per Capita=%{x}<br>Mean Happiness Score=%{y}<br>Population=%{marker.size}<extra></extra>\",\"hovertext\":[9337003.0],\"legendgroup\":\"Tajikistan\",\"marker\":{\"color\":\"#FECB52\",\"size\":[9337003.0],\"sizemode\":\"area\",\"sizeref\":391040.27777777775,\"symbol\":\"circle\"},\"mode\":\"markers\",\"name\":\"Tajikistan\",\"orientation\":\"v\",\"showlegend\":true,\"x\":[0.48],\"xaxis\":\"x\",\"y\":[5.19],\"yaxis\":\"y\",\"type\":\"scatter\"},{\"hovertemplate\":\"<b>%{hovertext}</b><br><br>Country=Macedonia<br>Mean GDP per Capita=%{x}<br>Mean Happiness Score=%{y}<br>Population=%{marker.size}<extra></extra>\",\"hovertext\":[2076694.0],\"legendgroup\":\"Macedonia\",\"marker\":{\"color\":\"#636efa\",\"size\":[2076694.0],\"sizemode\":\"area\",\"sizeref\":391040.27777777775,\"symbol\":\"circle\"},\"mode\":\"markers\",\"name\":\"Macedonia\",\"orientation\":\"v\",\"showlegend\":true,\"x\":[1.01],\"xaxis\":\"x\",\"y\":[5.14],\"yaxis\":\"y\",\"type\":\"scatter\"},{\"hovertemplate\":\"<b>%{hovertext}</b><br><br>Country=Bhutan<br>Mean GDP per Capita=%{x}<br>Mean Happiness Score=%{y}<br>Population=%{marker.size}<extra></extra>\",\"hovertext\":[767459.0],\"legendgroup\":\"Bhutan\",\"marker\":{\"color\":\"#EF553B\",\"size\":[767459.0],\"sizemode\":\"area\",\"sizeref\":391040.27777777775,\"symbol\":\"circle\"},\"mode\":\"markers\",\"name\":\"Bhutan\",\"orientation\":\"v\",\"showlegend\":true,\"x\":[0.82],\"xaxis\":\"x\",\"y\":[5.12],\"yaxis\":\"y\",\"type\":\"scatter\"},{\"hovertemplate\":\"<b>%{hovertext}</b><br><br>Country=Nigeria<br>Mean GDP per Capita=%{x}<br>Mean Happiness Score=%{y}<br>Population=%{marker.size}<extra></extra>\",\"hovertext\":[203304492.0],\"legendgroup\":\"Nigeria\",\"marker\":{\"color\":\"#00cc96\",\"size\":[203304492.0],\"sizemode\":\"area\",\"sizeref\":391040.27777777775,\"symbol\":\"circle\"},\"mode\":\"markers\",\"name\":\"Nigeria\",\"orientation\":\"v\",\"showlegend\":true,\"x\":[0.7],\"xaxis\":\"x\",\"y\":[5.09],\"yaxis\":\"y\",\"type\":\"scatter\"},{\"hovertemplate\":\"<b>%{hovertext}</b><br><br>Country=Morocco<br>Mean GDP per Capita=%{x}<br>Mean Happiness Score=%{y}<br>Population=%{marker.size}<extra></extra>\",\"hovertext\":[36304408.0],\"legendgroup\":\"Morocco\",\"marker\":{\"color\":\"#ab63fa\",\"size\":[36304408.0],\"sizemode\":\"area\",\"sizeref\":391040.27777777775,\"symbol\":\"circle\"},\"mode\":\"markers\",\"name\":\"Morocco\",\"orientation\":\"v\",\"showlegend\":true,\"x\":[0.8],\"xaxis\":\"x\",\"y\":[5.09],\"yaxis\":\"y\",\"type\":\"scatter\"},{\"hovertemplate\":\"<b>%{hovertext}</b><br><br>Country=Jordan<br>Mean GDP per Capita=%{x}<br>Mean Happiness Score=%{y}<br>Population=%{marker.size}<extra></extra>\",\"hovertext\":[10698683.0],\"legendgroup\":\"Jordan\",\"marker\":{\"color\":\"#FFA15A\",\"size\":[10698683.0],\"sizemode\":\"area\",\"sizeref\":391040.27777777775,\"symbol\":\"circle\"},\"mode\":\"markers\",\"name\":\"Jordan\",\"orientation\":\"v\",\"showlegend\":true,\"x\":[0.9],\"xaxis\":\"x\",\"y\":[4.96],\"yaxis\":\"y\",\"type\":\"scatter\"},{\"hovertemplate\":\"<b>%{hovertext}</b><br><br>Country=Somalia<br>Mean GDP per Capita=%{x}<br>Mean Happiness Score=%{y}<br>Population=%{marker.size}<extra></extra>\",\"hovertext\":[15981300.0],\"legendgroup\":\"Somalia\",\"marker\":{\"color\":\"#19d3f3\",\"size\":[15981300.0],\"sizemode\":\"area\",\"sizeref\":391040.27777777775,\"symbol\":\"circle\"},\"mode\":\"markers\",\"name\":\"Somalia\",\"orientation\":\"v\",\"showlegend\":true,\"x\":[0.07],\"xaxis\":\"x\",\"y\":[4.96],\"yaxis\":\"y\",\"type\":\"scatter\"},{\"hovertemplate\":\"<b>%{hovertext}</b><br><br>Country=Lebanon<br>Mean GDP per Capita=%{x}<br>Mean Happiness Score=%{y}<br>Population=%{marker.size}<extra></extra>\",\"hovertext\":[5781907.0],\"legendgroup\":\"Lebanon\",\"marker\":{\"color\":\"#FF6692\",\"size\":[5781907.0],\"sizemode\":\"area\",\"sizeref\":391040.27777777775,\"symbol\":\"circle\"},\"mode\":\"markers\",\"name\":\"Lebanon\",\"orientation\":\"v\",\"showlegend\":true,\"x\":[1.03],\"xaxis\":\"x\",\"y\":[4.96],\"yaxis\":\"y\",\"type\":\"scatter\"},{\"hovertemplate\":\"<b>%{hovertext}</b><br><br>Country=Nepal<br>Mean GDP per Capita=%{x}<br>Mean Happiness Score=%{y}<br>Population=%{marker.size}<extra></extra>\",\"hovertext\":[28832496.0],\"legendgroup\":\"Nepal\",\"marker\":{\"color\":\"#B6E880\",\"size\":[28832496.0],\"sizemode\":\"area\",\"sizeref\":391040.27777777775,\"symbol\":\"circle\"},\"mode\":\"markers\",\"name\":\"Nepal\",\"orientation\":\"v\",\"showlegend\":true,\"x\":[0.45],\"xaxis\":\"x\",\"y\":[4.91],\"yaxis\":\"y\",\"type\":\"scatter\"},{\"hovertemplate\":\"<b>%{hovertext}</b><br><br>Country=Laos<br>Mean GDP per Capita=%{x}<br>Mean Happiness Score=%{y}<br>Population=%{marker.size}<extra></extra>\",\"hovertext\":[7212053.0],\"legendgroup\":\"Laos\",\"marker\":{\"color\":\"#FF97FF\",\"size\":[7212053.0],\"sizemode\":\"area\",\"sizeref\":391040.27777777775,\"symbol\":\"circle\"},\"mode\":\"markers\",\"name\":\"Laos\",\"orientation\":\"v\",\"showlegend\":true,\"x\":[0.72],\"xaxis\":\"x\",\"y\":[4.9],\"yaxis\":\"y\",\"type\":\"scatter\"},{\"hovertemplate\":\"<b>%{hovertext}</b><br><br>Country=Albania<br>Mean GDP per Capita=%{x}<br>Mean Happiness Score=%{y}<br>Population=%{marker.size}<extra></extra>\",\"hovertext\":[2854191.0],\"legendgroup\":\"Albania\",\"marker\":{\"color\":\"#FECB52\",\"size\":[2854191.0],\"sizemode\":\"area\",\"sizeref\":391040.27777777775,\"symbol\":\"circle\"},\"mode\":\"markers\",\"name\":\"Albania\",\"orientation\":\"v\",\"showlegend\":true,\"x\":[0.96],\"xaxis\":\"x\",\"y\":[4.86],\"yaxis\":\"y\",\"type\":\"scatter\"},{\"hovertemplate\":\"<b>%{hovertext}</b><br><br>Country=Bulgaria<br>Mean GDP per Capita=%{x}<br>Mean Happiness Score=%{y}<br>Population=%{marker.size}<extra></extra>\",\"hovertext\":[6975761.0],\"legendgroup\":\"Bulgaria\",\"marker\":{\"color\":\"#636efa\",\"size\":[6975761.0],\"sizemode\":\"area\",\"sizeref\":391040.27777777775,\"symbol\":\"circle\"},\"mode\":\"markers\",\"name\":\"Bulgaria\",\"orientation\":\"v\",\"showlegend\":true,\"x\":[1.11],\"xaxis\":\"x\",\"y\":[4.8],\"yaxis\":\"y\",\"type\":\"scatter\"},{\"hovertemplate\":\"<b>%{hovertext}</b><br><br>Country=South Africa<br>Mean GDP per Capita=%{x}<br>Mean Happiness Score=%{y}<br>Population=%{marker.size}<extra></extra>\",\"hovertext\":[58087055.0],\"legendgroup\":\"South Africa\",\"marker\":{\"color\":\"#EF553B\",\"size\":[58087055.0],\"sizemode\":\"area\",\"sizeref\":391040.27777777775,\"symbol\":\"circle\"},\"mode\":\"markers\",\"name\":\"South Africa\",\"orientation\":\"v\",\"showlegend\":true,\"x\":[0.98],\"xaxis\":\"x\",\"y\":[4.79],\"yaxis\":\"y\",\"type\":\"scatter\"},{\"hovertemplate\":\"<b>%{hovertext}</b><br><br>Country=Cameroon<br>Mean GDP per Capita=%{x}<br>Mean Happiness Score=%{y}<br>Population=%{marker.size}<extra></extra>\",\"hovertext\":[25782341.0],\"legendgroup\":\"Cameroon\",\"marker\":{\"color\":\"#00cc96\",\"size\":[25782341.0],\"sizemode\":\"area\",\"sizeref\":391040.27777777775,\"symbol\":\"circle\"},\"mode\":\"markers\",\"name\":\"Cameroon\",\"orientation\":\"v\",\"showlegend\":true,\"x\":[0.52],\"xaxis\":\"x\",\"y\":[4.78],\"yaxis\":\"y\",\"type\":\"scatter\"},{\"hovertemplate\":\"<b>%{hovertext}</b><br><br>Country=Gambia<br>Mean GDP per Capita=%{x}<br>Mean Happiness Score=%{y}<br>Population=%{marker.size}<extra></extra>\",\"hovertext\":[2508883.0],\"legendgroup\":\"Gambia\",\"marker\":{\"color\":\"#ab63fa\",\"size\":[2508883.0],\"sizemode\":\"area\",\"sizeref\":391040.27777777775,\"symbol\":\"circle\"},\"mode\":\"markers\",\"name\":\"Gambia\",\"orientation\":\"v\",\"showlegend\":true,\"x\":[0.34],\"xaxis\":\"x\",\"y\":[4.78],\"yaxis\":\"y\",\"type\":\"scatter\"},{\"hovertemplate\":\"<b>%{hovertext}</b><br><br>Country=Ghana<br>Mean GDP per Capita=%{x}<br>Mean Happiness Score=%{y}<br>Population=%{marker.size}<extra></extra>\",\"hovertext\":[31522290.0],\"legendgroup\":\"Ghana\",\"marker\":{\"color\":\"#FFA15A\",\"size\":[31522290.0],\"sizemode\":\"area\",\"sizeref\":391040.27777777775,\"symbol\":\"circle\"},\"mode\":\"markers\",\"name\":\"Ghana\",\"orientation\":\"v\",\"showlegend\":true,\"x\":[0.63],\"xaxis\":\"x\",\"y\":[4.71],\"yaxis\":\"y\",\"type\":\"scatter\"},{\"hovertemplate\":\"<b>%{hovertext}</b><br><br>Country=Mozambique<br>Mean GDP per Capita=%{x}<br>Mean Happiness Score=%{y}<br>Population=%{marker.size}<extra></extra>\",\"hovertext\":[30285595.0],\"legendgroup\":\"Mozambique\",\"marker\":{\"color\":\"#19d3f3\",\"size\":[30285595.0],\"sizemode\":\"area\",\"sizeref\":391040.27777777775,\"symbol\":\"circle\"},\"mode\":\"markers\",\"name\":\"Mozambique\",\"orientation\":\"v\",\"showlegend\":true,\"x\":[0.18],\"xaxis\":\"x\",\"y\":[4.7],\"yaxis\":\"y\",\"type\":\"scatter\"},{\"hovertemplate\":\"<b>%{hovertext}</b><br><br>Country=Bangladesh<br>Mean GDP per Capita=%{x}<br>Mean Happiness Score=%{y}<br>Population=%{marker.size}<extra></extra>\",\"hovertext\":[165516222.0],\"legendgroup\":\"Bangladesh\",\"marker\":{\"color\":\"#FF6692\",\"size\":[165516222.0],\"sizemode\":\"area\",\"sizeref\":391040.27777777775,\"symbol\":\"circle\"},\"mode\":\"markers\",\"name\":\"Bangladesh\",\"orientation\":\"v\",\"showlegend\":true,\"x\":[0.55],\"xaxis\":\"x\",\"y\":[4.7],\"yaxis\":\"y\",\"type\":\"scatter\"},{\"hovertemplate\":\"<b>%{hovertext}</b><br><br>Country=Palestinian Territories<br>Mean GDP per Capita=%{x}<br>Mean Happiness Score=%{y}<br>Population=%{marker.size}<extra></extra>\",\"hovertext\":[4685306.0],\"legendgroup\":\"Palestinian Territories\",\"marker\":{\"color\":\"#B6E880\",\"size\":[4685306.0],\"sizemode\":\"area\",\"sizeref\":391040.27777777775,\"symbol\":\"circle\"},\"mode\":\"markers\",\"name\":\"Palestinian Territories\",\"orientation\":\"v\",\"showlegend\":true,\"x\":[0.65],\"xaxis\":\"x\",\"y\":[4.68],\"yaxis\":\"y\",\"type\":\"scatter\"},{\"hovertemplate\":\"<b>%{hovertext}</b><br><br>Country=Iran<br>Mean GDP per Capita=%{x}<br>Mean Happiness Score=%{y}<br>Population=%{marker.size}<extra></extra>\",\"hovertext\":[86564202.0],\"legendgroup\":\"Iran\",\"marker\":{\"color\":\"#FF97FF\",\"size\":[86564202.0],\"sizemode\":\"area\",\"sizeref\":391040.27777777775,\"symbol\":\"circle\"},\"mode\":\"markers\",\"name\":\"Iran\",\"orientation\":\"v\",\"showlegend\":true,\"x\":[1.07],\"xaxis\":\"x\",\"y\":[4.66],\"yaxis\":\"y\",\"type\":\"scatter\"},{\"hovertemplate\":\"<b>%{hovertext}</b><br><br>Country=Tunisia<br>Mean GDP per Capita=%{x}<br>Mean Happiness Score=%{y}<br>Population=%{marker.size}<extra></extra>\",\"hovertext\":[12049314.0],\"legendgroup\":\"Tunisia\",\"marker\":{\"color\":\"#FECB52\",\"size\":[12049314.0],\"sizemode\":\"area\",\"sizeref\":391040.27777777775,\"symbol\":\"circle\"},\"mode\":\"markers\",\"name\":\"Tunisia\",\"orientation\":\"v\",\"showlegend\":true,\"x\":[0.93],\"xaxis\":\"x\",\"y\":[4.65],\"yaxis\":\"y\",\"type\":\"scatter\"},{\"hovertemplate\":\"<b>%{hovertext}</b><br><br>Country=Armenia<br>Mean GDP per Capita=%{x}<br>Mean Happiness Score=%{y}<br>Population=%{marker.size}<extra></extra>\",\"hovertext\":[2820602.0],\"legendgroup\":\"Armenia\",\"marker\":{\"color\":\"#636efa\",\"size\":[2820602.0],\"sizemode\":\"area\",\"sizeref\":391040.27777777775,\"symbol\":\"circle\"},\"mode\":\"markers\",\"name\":\"Armenia\",\"orientation\":\"v\",\"showlegend\":true,\"x\":[0.88],\"xaxis\":\"x\",\"y\":[4.64],\"yaxis\":\"y\",\"type\":\"scatter\"},{\"hovertemplate\":\"<b>%{hovertext}</b><br><br>Country=Iraq<br>Mean GDP per Capita=%{x}<br>Mean Happiness Score=%{y}<br>Population=%{marker.size}<extra></extra>\",\"hovertext\":[41563520.0],\"legendgroup\":\"Iraq\",\"marker\":{\"color\":\"#EF553B\",\"size\":[41563520.0],\"sizemode\":\"area\",\"sizeref\":391040.27777777775,\"symbol\":\"circle\"},\"mode\":\"markers\",\"name\":\"Iraq\",\"orientation\":\"v\",\"showlegend\":true,\"x\":[1.01],\"xaxis\":\"x\",\"y\":[4.62],\"yaxis\":\"y\",\"type\":\"scatter\"},{\"hovertemplate\":\"<b>%{hovertext}</b><br><br>Country=Republic of the Congo<br>Mean GDP per Capita=%{x}<br>Mean Happiness Score=%{y}<br>Population=%{marker.size}<extra></extra>\",\"hovertext\":[5570733.0],\"legendgroup\":\"Republic of the Congo\",\"marker\":{\"color\":\"#00cc96\",\"size\":[5570733.0],\"sizemode\":\"area\",\"sizeref\":391040.27777777775,\"symbol\":\"circle\"},\"mode\":\"markers\",\"name\":\"Republic of the Congo\",\"orientation\":\"v\",\"showlegend\":true,\"x\":[0.67],\"xaxis\":\"x\",\"y\":[4.61],\"yaxis\":\"y\",\"type\":\"scatter\"},{\"hovertemplate\":\"<b>%{hovertext}</b><br><br>Country=Namibia<br>Mean GDP per Capita=%{x}<br>Mean Happiness Score=%{y}<br>Population=%{marker.size}<extra></extra>\",\"hovertext\":[2446644.0],\"legendgroup\":\"Namibia\",\"marker\":{\"color\":\"#ab63fa\",\"size\":[2446644.0],\"sizemode\":\"area\",\"sizeref\":391040.27777777775,\"symbol\":\"circle\"},\"mode\":\"markers\",\"name\":\"Namibia\",\"orientation\":\"v\",\"showlegend\":true,\"x\":[0.91],\"xaxis\":\"x\",\"y\":[4.6],\"yaxis\":\"y\",\"type\":\"scatter\"},{\"hovertemplate\":\"<b>%{hovertext}</b><br><br>Country=Senegal<br>Mean GDP per Capita=%{x}<br>Mean Happiness Score=%{y}<br>Population=%{marker.size}<extra></extra>\",\"hovertext\":[16000781.0],\"legendgroup\":\"Senegal\",\"marker\":{\"color\":\"#FFA15A\",\"size\":[16000781.0],\"sizemode\":\"area\",\"sizeref\":391040.27777777775,\"symbol\":\"circle\"},\"mode\":\"markers\",\"name\":\"Senegal\",\"orientation\":\"v\",\"showlegend\":true,\"x\":[0.45],\"xaxis\":\"x\",\"y\":[4.56],\"yaxis\":\"y\",\"type\":\"scatter\"},{\"hovertemplate\":\"<b>%{hovertext}</b><br><br>Country=Kenya<br>Mean GDP per Capita=%{x}<br>Mean Happiness Score=%{y}<br>Population=%{marker.size}<extra></extra>\",\"hovertext\":[50951450.0],\"legendgroup\":\"Kenya\",\"marker\":{\"color\":\"#19d3f3\",\"size\":[50951450.0],\"sizemode\":\"area\",\"sizeref\":391040.27777777775,\"symbol\":\"circle\"},\"mode\":\"markers\",\"name\":\"Kenya\",\"orientation\":\"v\",\"showlegend\":true,\"x\":[0.51],\"xaxis\":\"x\",\"y\":[4.52],\"yaxis\":\"y\",\"type\":\"scatter\"},{\"hovertemplate\":\"<b>%{hovertext}</b><br><br>Country=Ivory Coast<br>Mean GDP per Capita=%{x}<br>Mean Happiness Score=%{y}<br>Population=%{marker.size}<extra></extra>\",\"hovertext\":[26147551.0],\"legendgroup\":\"Ivory Coast\",\"marker\":{\"color\":\"#FF6692\",\"size\":[26147551.0],\"sizemode\":\"area\",\"sizeref\":391040.27777777775,\"symbol\":\"circle\"},\"mode\":\"markers\",\"name\":\"Ivory Coast\",\"orientation\":\"v\",\"showlegend\":true,\"x\":[0.58],\"xaxis\":\"x\",\"y\":[4.52],\"yaxis\":\"y\",\"type\":\"scatter\"},{\"hovertemplate\":\"<b>%{hovertext}</b><br><br>Country=Ukraine<br>Mean GDP per Capita=%{x}<br>Mean Happiness Score=%{y}<br>Population=%{marker.size}<extra></extra>\",\"hovertext\":[44386203.0],\"legendgroup\":\"Ukraine\",\"marker\":{\"color\":\"#B6E880\",\"size\":[44386203.0],\"sizemode\":\"area\",\"sizeref\":391040.27777777775,\"symbol\":\"circle\"},\"mode\":\"markers\",\"name\":\"Ukraine\",\"orientation\":\"v\",\"showlegend\":true,\"x\":[0.87],\"xaxis\":\"x\",\"y\":[4.5],\"yaxis\":\"y\",\"type\":\"scatter\"},{\"hovertemplate\":\"<b>%{hovertext}</b><br><br>Country=Georgia<br>Mean GDP per Capita=%{x}<br>Mean Happiness Score=%{y}<br>Population=%{marker.size}<extra></extra>\",\"hovertext\":[3720161.0],\"legendgroup\":\"Georgia\",\"marker\":{\"color\":\"#FF97FF\",\"size\":[3720161.0],\"sizemode\":\"area\",\"sizeref\":391040.27777777775,\"symbol\":\"circle\"},\"mode\":\"markers\",\"name\":\"Georgia\",\"orientation\":\"v\",\"showlegend\":true,\"x\":[0.9],\"xaxis\":\"x\",\"y\":[4.5],\"yaxis\":\"y\",\"type\":\"scatter\"},{\"hovertemplate\":\"<b>%{hovertext}</b><br><br>Country=Gabon<br>Mean GDP per Capita=%{x}<br>Mean Happiness Score=%{y}<br>Population=%{marker.size}<extra></extra>\",\"hovertext\":[2242785.0],\"legendgroup\":\"Gabon\",\"marker\":{\"color\":\"#FECB52\",\"size\":[2242785.0],\"sizemode\":\"area\",\"sizeref\":391040.27777777775,\"symbol\":\"circle\"},\"mode\":\"markers\",\"name\":\"Gabon\",\"orientation\":\"v\",\"showlegend\":true,\"x\":[1.09],\"xaxis\":\"x\",\"y\":[4.5],\"yaxis\":\"y\",\"type\":\"scatter\"},{\"hovertemplate\":\"<b>%{hovertext}</b><br><br>Country=Swaziland<br>Mean GDP per Capita=%{x}<br>Mean Happiness Score=%{y}<br>Population=%{marker.size}<extra></extra>\",\"hovertext\":[1169613.0],\"legendgroup\":\"Swaziland\",\"marker\":{\"color\":\"#636efa\",\"size\":[1169613.0],\"sizemode\":\"area\",\"sizeref\":391040.27777777775,\"symbol\":\"circle\"},\"mode\":\"markers\",\"name\":\"Swaziland\",\"orientation\":\"v\",\"showlegend\":true,\"x\":[0.79],\"xaxis\":\"x\",\"y\":[4.46],\"yaxis\":\"y\",\"type\":\"scatter\"},{\"hovertemplate\":\"<b>%{hovertext}</b><br><br>Country=Zambia<br>Mean GDP per Capita=%{x}<br>Mean Happiness Score=%{y}<br>Population=%{marker.size}<extra></extra>\",\"hovertext\":[18380477.0],\"legendgroup\":\"Zambia\",\"marker\":{\"color\":\"#EF553B\",\"size\":[18380477.0],\"sizemode\":\"area\",\"sizeref\":391040.27777777775,\"symbol\":\"circle\"},\"mode\":\"markers\",\"name\":\"Zambia\",\"orientation\":\"v\",\"showlegend\":true,\"x\":[0.55],\"xaxis\":\"x\",\"y\":[4.46],\"yaxis\":\"y\",\"type\":\"scatter\"},{\"hovertemplate\":\"<b>%{hovertext}</b><br><br>Country=Democratic Republic of the Congo<br>Mean GDP per Capita=%{x}<br>Mean Happiness Score=%{y}<br>Population=%{marker.size}<extra></extra>\",\"hovertext\":[89906890.0],\"legendgroup\":\"Democratic Republic of the Congo\",\"marker\":{\"color\":\"#00cc96\",\"size\":[89906890.0],\"sizemode\":\"area\",\"sizeref\":391040.27777777775,\"symbol\":\"circle\"},\"mode\":\"markers\",\"name\":\"Democratic Republic of the Congo\",\"orientation\":\"v\",\"showlegend\":true,\"x\":[0.06],\"xaxis\":\"x\",\"y\":[4.41],\"yaxis\":\"y\",\"type\":\"scatter\"},{\"hovertemplate\":\"<b>%{hovertext}</b><br><br>Country=Myanmar<br>Mean GDP per Capita=%{x}<br>Mean Happiness Score=%{y}<br>Population=%{marker.size}<extra></extra>\",\"hovertext\":[53040212.0],\"legendgroup\":\"Myanmar\",\"marker\":{\"color\":\"#ab63fa\",\"size\":[53040212.0],\"sizemode\":\"area\",\"sizeref\":391040.27777777775,\"symbol\":\"circle\"},\"mode\":\"markers\",\"name\":\"Myanmar\",\"orientation\":\"v\",\"showlegend\":true,\"x\":[0.5],\"xaxis\":\"x\",\"y\":[4.41],\"yaxis\":\"y\",\"type\":\"scatter\"},{\"hovertemplate\":\"<b>%{hovertext}</b><br><br>Country=Niger<br>Mean GDP per Capita=%{x}<br>Mean Happiness Score=%{y}<br>Population=%{marker.size}<extra></extra>\",\"hovertext\":[23443393.0],\"legendgroup\":\"Niger\",\"marker\":{\"color\":\"#FFA15A\",\"size\":[23443393.0],\"sizemode\":\"area\",\"sizeref\":391040.27777777775,\"symbol\":\"circle\"},\"mode\":\"markers\",\"name\":\"Niger\",\"orientation\":\"v\",\"showlegend\":true,\"x\":[0.13],\"xaxis\":\"x\",\"y\":[4.39],\"yaxis\":\"y\",\"type\":\"scatter\"},{\"hovertemplate\":\"<b>%{hovertext}</b><br><br>Country=Cambodia<br>Mean GDP per Capita=%{x}<br>Mean Happiness Score=%{y}<br>Population=%{marker.size}<extra></extra>\",\"hovertext\":[16207746.0],\"legendgroup\":\"Cambodia\",\"marker\":{\"color\":\"#19d3f3\",\"size\":[16207746.0],\"sizemode\":\"area\",\"sizeref\":391040.27777777775,\"symbol\":\"circle\"},\"mode\":\"markers\",\"name\":\"Cambodia\",\"orientation\":\"v\",\"showlegend\":true,\"x\":[0.56],\"xaxis\":\"x\",\"y\":[4.38],\"yaxis\":\"y\",\"type\":\"scatter\"},{\"hovertemplate\":\"<b>%{hovertext}</b><br><br>Country=Ethiopia<br>Mean GDP per Capita=%{x}<br>Mean Happiness Score=%{y}<br>Population=%{marker.size}<extra></extra>\",\"hovertext\":[114120594.0],\"legendgroup\":\"Ethiopia\",\"marker\":{\"color\":\"#FF6692\",\"size\":[114120594.0],\"sizemode\":\"area\",\"sizeref\":391040.27777777775,\"symbol\":\"circle\"},\"mode\":\"markers\",\"name\":\"Ethiopia\",\"orientation\":\"v\",\"showlegend\":true,\"x\":[0.31],\"xaxis\":\"x\",\"y\":[4.38],\"yaxis\":\"y\",\"type\":\"scatter\"},{\"hovertemplate\":\"<b>%{hovertext}</b><br><br>Country=Mauritania<br>Mean GDP per Capita=%{x}<br>Mean Happiness Score=%{y}<br>Population=%{marker.size}<extra></extra>\",\"hovertext\":[4383849.0],\"legendgroup\":\"Mauritania\",\"marker\":{\"color\":\"#B6E880\",\"size\":[4383849.0],\"sizemode\":\"area\",\"sizeref\":391040.27777777775,\"symbol\":\"circle\"},\"mode\":\"markers\",\"name\":\"Mauritania\",\"orientation\":\"v\",\"showlegend\":true,\"x\":[0.58],\"xaxis\":\"x\",\"y\":[4.36],\"yaxis\":\"y\",\"type\":\"scatter\"},{\"hovertemplate\":\"<b>%{hovertext}</b><br><br>Country=Sierra Leone<br>Mean GDP per Capita=%{x}<br>Mean Happiness Score=%{y}<br>Population=%{marker.size}<extra></extra>\",\"hovertext\":[8046828.0],\"legendgroup\":\"Sierra Leone\",\"marker\":{\"color\":\"#FF97FF\",\"size\":[8046828.0],\"sizemode\":\"area\",\"sizeref\":391040.27777777775,\"symbol\":\"circle\"},\"mode\":\"markers\",\"name\":\"Sierra Leone\",\"orientation\":\"v\",\"showlegend\":true,\"x\":[0.31],\"xaxis\":\"x\",\"y\":[4.36],\"yaxis\":\"y\",\"type\":\"scatter\"},{\"hovertemplate\":\"<b>%{hovertext}</b><br><br>Country=Sri Lanka<br>Mean GDP per Capita=%{x}<br>Mean Happiness Score=%{y}<br>Population=%{marker.size}<extra></extra>\",\"hovertext\":[21803000.0],\"legendgroup\":\"Sri Lanka\",\"marker\":{\"color\":\"#FECB52\",\"size\":[21803000.0],\"sizemode\":\"area\",\"sizeref\":391040.27777777775,\"symbol\":\"circle\"},\"mode\":\"markers\",\"name\":\"Sri Lanka\",\"orientation\":\"v\",\"showlegend\":true,\"x\":[0.95],\"xaxis\":\"x\",\"y\":[4.35],\"yaxis\":\"y\",\"type\":\"scatter\"},{\"hovertemplate\":\"<b>%{hovertext}</b><br><br>Country=Egypt<br>Mean GDP per Capita=%{x}<br>Mean Happiness Score=%{y}<br>Population=%{marker.size}<extra></extra>\",\"hovertext\":[105618671.0],\"legendgroup\":\"Egypt\",\"marker\":{\"color\":\"#636efa\",\"size\":[105618671.0],\"sizemode\":\"area\",\"sizeref\":391040.27777777775,\"symbol\":\"circle\"},\"mode\":\"markers\",\"name\":\"Egypt\",\"orientation\":\"v\",\"showlegend\":true,\"x\":[0.93],\"xaxis\":\"x\",\"y\":[4.34],\"yaxis\":\"y\",\"type\":\"scatter\"},{\"hovertemplate\":\"<b>%{hovertext}</b><br><br>Country=Mali<br>Mean GDP per Capita=%{x}<br>Mean Happiness Score=%{y}<br>Population=%{marker.size}<extra></extra>\",\"hovertext\":[20567424.0],\"legendgroup\":\"Mali\",\"marker\":{\"color\":\"#EF553B\",\"size\":[20567424.0],\"sizemode\":\"area\",\"sizeref\":391040.27777777775,\"symbol\":\"circle\"},\"mode\":\"markers\",\"name\":\"Mali\",\"orientation\":\"v\",\"showlegend\":true,\"x\":[0.38],\"xaxis\":\"x\",\"y\":[4.32],\"yaxis\":\"y\",\"type\":\"scatter\"},{\"hovertemplate\":\"<b>%{hovertext}</b><br><br>Country=Burkina Faso<br>Mean GDP per Capita=%{x}<br>Mean Happiness Score=%{y}<br>Population=%{marker.size}<extra></extra>\",\"hovertext\":[20951639.0],\"legendgroup\":\"Burkina Faso\",\"marker\":{\"color\":\"#00cc96\",\"size\":[20951639.0],\"sizemode\":\"area\",\"sizeref\":391040.27777777775,\"symbol\":\"circle\"},\"mode\":\"markers\",\"name\":\"Burkina Faso\",\"orientation\":\"v\",\"showlegend\":true,\"x\":[0.33],\"xaxis\":\"x\",\"y\":[4.26],\"yaxis\":\"y\",\"type\":\"scatter\"},{\"hovertemplate\":\"<b>%{hovertext}</b><br><br>Country=Benin<br>Mean GDP per Capita=%{x}<br>Mean Happiness Score=%{y}<br>Population=%{marker.size}<extra></extra>\",\"hovertext\":[12290444.0],\"legendgroup\":\"Benin\",\"marker\":{\"color\":\"#ab63fa\",\"size\":[12290444.0],\"sizemode\":\"area\",\"sizeref\":391040.27777777775,\"symbol\":\"circle\"},\"mode\":\"markers\",\"name\":\"Benin\",\"orientation\":\"v\",\"showlegend\":true,\"x\":[0.4],\"xaxis\":\"x\",\"y\":[4.23],\"yaxis\":\"y\",\"type\":\"scatter\"},{\"hovertemplate\":\"<b>%{hovertext}</b><br><br>Country=Uganda<br>Mean GDP per Capita=%{x}<br>Mean Happiness Score=%{y}<br>Population=%{marker.size}<extra></extra>\",\"hovertext\":[42949080.0],\"legendgroup\":\"Uganda\",\"marker\":{\"color\":\"#FFA15A\",\"size\":[42949080.0],\"sizemode\":\"area\",\"sizeref\":391040.27777777775,\"symbol\":\"circle\"},\"mode\":\"markers\",\"name\":\"Uganda\",\"orientation\":\"v\",\"showlegend\":true,\"x\":[0.32],\"xaxis\":\"x\",\"y\":[4.21],\"yaxis\":\"y\",\"type\":\"scatter\"},{\"hovertemplate\":\"<b>%{hovertext}</b><br><br>Country=Liberia<br>Mean GDP per Capita=%{x}<br>Mean Happiness Score=%{y}<br>Population=%{marker.size}<extra></extra>\",\"hovertext\":[4985289.0],\"legendgroup\":\"Liberia\",\"marker\":{\"color\":\"#19d3f3\",\"size\":[4985289.0],\"sizemode\":\"area\",\"sizeref\":391040.27777777775,\"symbol\":\"circle\"},\"mode\":\"markers\",\"name\":\"Liberia\",\"orientation\":\"v\",\"showlegend\":true,\"x\":[0.12],\"xaxis\":\"x\",\"y\":[4.18],\"yaxis\":\"y\",\"type\":\"scatter\"},{\"hovertemplate\":\"<b>%{hovertext}</b><br><br>Country=India<br>Mean GDP per Capita=%{x}<br>Mean Happiness Score=%{y}<br>Population=%{marker.size}<extra></extra>\",\"hovertext\":[1383112050.0],\"legendgroup\":\"India\",\"marker\":{\"color\":\"#FF6692\",\"size\":[1383112050.0],\"sizemode\":\"area\",\"sizeref\":391040.27777777775,\"symbol\":\"circle\"},\"mode\":\"markers\",\"name\":\"India\",\"orientation\":\"v\",\"showlegend\":true,\"x\":[0.73],\"xaxis\":\"x\",\"y\":[4.18],\"yaxis\":\"y\",\"type\":\"scatter\"},{\"hovertemplate\":\"<b>%{hovertext}</b><br><br>Country=Guinea<br>Mean GDP per Capita=%{x}<br>Mean Happiness Score=%{y}<br>Population=%{marker.size}<extra></extra>\",\"hovertext\":[12877539.0],\"legendgroup\":\"Guinea\",\"marker\":{\"color\":\"#B6E880\",\"size\":[12877539.0],\"sizemode\":\"area\",\"sizeref\":391040.27777777775,\"symbol\":\"circle\"},\"mode\":\"markers\",\"name\":\"Guinea\",\"orientation\":\"v\",\"showlegend\":true,\"x\":[0.3],\"xaxis\":\"x\",\"y\":[4.17],\"yaxis\":\"y\",\"type\":\"scatter\"},{\"hovertemplate\":\"<b>%{hovertext}</b><br><br>Country=Chad<br>Mean GDP per Capita=%{x}<br>Mean Happiness Score=%{y}<br>Population=%{marker.size}<extra></extra>\",\"hovertext\":[16126866.0],\"legendgroup\":\"Chad\",\"marker\":{\"color\":\"#FF97FF\",\"size\":[16126866.0],\"sizemode\":\"area\",\"sizeref\":391040.27777777775,\"symbol\":\"circle\"},\"mode\":\"markers\",\"name\":\"Chad\",\"orientation\":\"v\",\"showlegend\":true,\"x\":[0.35],\"xaxis\":\"x\",\"y\":[4.08],\"yaxis\":\"y\",\"type\":\"scatter\"},{\"hovertemplate\":\"<b>%{hovertext}</b><br><br>Country=Comoros<br>Mean GDP per Capita=%{x}<br>Mean Happiness Score=%{y}<br>Population=%{marker.size}<extra></extra>\",\"hovertext\":[790986.0],\"legendgroup\":\"Comoros\",\"marker\":{\"color\":\"#FECB52\",\"size\":[790986.0],\"sizemode\":\"area\",\"sizeref\":391040.27777777775,\"symbol\":\"circle\"},\"mode\":\"markers\",\"name\":\"Comoros\",\"orientation\":\"v\",\"showlegend\":true,\"x\":[0.33],\"xaxis\":\"x\",\"y\":[4.07],\"yaxis\":\"y\",\"type\":\"scatter\"},{\"hovertemplate\":\"<b>%{hovertext}</b><br><br>Country=Lesotho<br>Mean GDP per Capita=%{x}<br>Mean Happiness Score=%{y}<br>Population=%{marker.size}<extra></extra>\",\"hovertext\":[2225702.0],\"legendgroup\":\"Lesotho\",\"marker\":{\"color\":\"#636efa\",\"size\":[2225702.0],\"sizemode\":\"area\",\"sizeref\":391040.27777777775,\"symbol\":\"circle\"},\"mode\":\"markers\",\"name\":\"Lesotho\",\"orientation\":\"v\",\"showlegend\":true,\"x\":[0.46],\"xaxis\":\"x\",\"y\":[4.01],\"yaxis\":\"y\",\"type\":\"scatter\"},{\"hovertemplate\":\"<b>%{hovertext}</b><br><br>Country=Angola<br>Mean GDP per Capita=%{x}<br>Mean Happiness Score=%{y}<br>Population=%{marker.size}<extra></extra>\",\"hovertext\":[32353588.0],\"legendgroup\":\"Angola\",\"marker\":{\"color\":\"#EF553B\",\"size\":[32353588.0],\"sizemode\":\"area\",\"sizeref\":391040.27777777775,\"symbol\":\"circle\"},\"mode\":\"markers\",\"name\":\"Angola\",\"orientation\":\"v\",\"showlegend\":true,\"x\":[0.81],\"xaxis\":\"x\",\"y\":[3.91],\"yaxis\":\"y\",\"type\":\"scatter\"},{\"hovertemplate\":\"<b>%{hovertext}</b><br><br>Country=Madagascar<br>Mean GDP per Capita=%{x}<br>Mean Happiness Score=%{y}<br>Population=%{marker.size}<extra></extra>\",\"hovertext\":[27533134.0],\"legendgroup\":\"Madagascar\",\"marker\":{\"color\":\"#00cc96\",\"size\":[27533134.0],\"sizemode\":\"area\",\"sizeref\":391040.27777777775,\"symbol\":\"circle\"},\"mode\":\"markers\",\"name\":\"Madagascar\",\"orientation\":\"v\",\"showlegend\":true,\"x\":[0.26],\"xaxis\":\"x\",\"y\":[3.87],\"yaxis\":\"y\",\"type\":\"scatter\"},{\"hovertemplate\":\"<b>%{hovertext}</b><br><br>Country=Sudan<br>Mean GDP per Capita=%{x}<br>Mean Happiness Score=%{y}<br>Population=%{marker.size}<extra></extra>\",\"hovertext\":[43232093.0],\"legendgroup\":\"Sudan\",\"marker\":{\"color\":\"#ab63fa\",\"size\":[43232093.0],\"sizemode\":\"area\",\"sizeref\":391040.27777777775,\"symbol\":\"circle\"},\"mode\":\"markers\",\"name\":\"Sudan\",\"orientation\":\"v\",\"showlegend\":true,\"x\":[0.5],\"xaxis\":\"x\",\"y\":[3.85],\"yaxis\":\"y\",\"type\":\"scatter\"},{\"hovertemplate\":\"<b>%{hovertext}</b><br><br>Country=Haiti<br>Mean GDP per Capita=%{x}<br>Mean Happiness Score=%{y}<br>Population=%{marker.size}<extra></extra>\",\"hovertext\":[11160438.0],\"legendgroup\":\"Haiti\",\"marker\":{\"color\":\"#FFA15A\",\"size\":[11160438.0],\"sizemode\":\"area\",\"sizeref\":391040.27777777775,\"symbol\":\"circle\"},\"mode\":\"markers\",\"name\":\"Haiti\",\"orientation\":\"v\",\"showlegend\":true,\"x\":[0.31],\"xaxis\":\"x\",\"y\":[3.83],\"yaxis\":\"y\",\"type\":\"scatter\"},{\"hovertemplate\":\"<b>%{hovertext}</b><br><br>Country=Malawi<br>Mean GDP per Capita=%{x}<br>Mean Happiness Score=%{y}<br>Population=%{marker.size}<extra></extra>\",\"hovertext\":[18867337.0],\"legendgroup\":\"Malawi\",\"marker\":{\"color\":\"#19d3f3\",\"size\":[18867337.0],\"sizemode\":\"area\",\"sizeref\":391040.27777777775,\"symbol\":\"circle\"},\"mode\":\"markers\",\"name\":\"Malawi\",\"orientation\":\"v\",\"showlegend\":true,\"x\":[0.14],\"xaxis\":\"x\",\"y\":[3.82],\"yaxis\":\"y\",\"type\":\"scatter\"},{\"hovertemplate\":\"<b>%{hovertext}</b><br><br>Country=Zimbabwe<br>Mean GDP per Capita=%{x}<br>Mean Happiness Score=%{y}<br>Population=%{marker.size}<extra></extra>\",\"hovertext\":[15354608.0],\"legendgroup\":\"Zimbabwe\",\"marker\":{\"color\":\"#FF6692\",\"size\":[15354608.0],\"sizemode\":\"area\",\"sizeref\":391040.27777777775,\"symbol\":\"circle\"},\"mode\":\"markers\",\"name\":\"Zimbabwe\",\"orientation\":\"v\",\"showlegend\":true,\"x\":[0.37],\"xaxis\":\"x\",\"y\":[3.82],\"yaxis\":\"y\",\"type\":\"scatter\"},{\"hovertemplate\":\"<b>%{hovertext}</b><br><br>Country=Botswana<br>Mean GDP per Capita=%{x}<br>Mean Happiness Score=%{y}<br>Population=%{marker.size}<extra></extra>\",\"hovertext\":[2499702.0],\"legendgroup\":\"Botswana\",\"marker\":{\"color\":\"#B6E880\",\"size\":[2499702.0],\"sizemode\":\"area\",\"sizeref\":391040.27777777775,\"symbol\":\"circle\"},\"mode\":\"markers\",\"name\":\"Botswana\",\"orientation\":\"v\",\"showlegend\":true,\"x\":[1.06],\"xaxis\":\"x\",\"y\":[3.76],\"yaxis\":\"y\",\"type\":\"scatter\"},{\"hovertemplate\":\"<b>%{hovertext}</b><br><br>Country=Yemen<br>Mean GDP per Capita=%{x}<br>Mean Happiness Score=%{y}<br>Population=%{marker.size}<extra></extra>\",\"hovertext\":[31546691.0],\"legendgroup\":\"Yemen\",\"marker\":{\"color\":\"#FF97FF\",\"size\":[31546691.0],\"sizemode\":\"area\",\"sizeref\":391040.27777777775,\"symbol\":\"circle\"},\"mode\":\"markers\",\"name\":\"Yemen\",\"orientation\":\"v\",\"showlegend\":true,\"x\":[0.44],\"xaxis\":\"x\",\"y\":[3.68],\"yaxis\":\"y\",\"type\":\"scatter\"},{\"hovertemplate\":\"<b>%{hovertext}</b><br><br>Country=Togo<br>Mean GDP per Capita=%{x}<br>Mean Happiness Score=%{y}<br>Population=%{marker.size}<extra></extra>\",\"hovertext\":[8243094.0],\"legendgroup\":\"Togo\",\"marker\":{\"color\":\"#FECB52\",\"size\":[8243094.0],\"sizemode\":\"area\",\"sizeref\":391040.27777777775,\"symbol\":\"circle\"},\"mode\":\"markers\",\"name\":\"Togo\",\"orientation\":\"v\",\"showlegend\":true,\"x\":[0.26],\"xaxis\":\"x\",\"y\":[3.63],\"yaxis\":\"y\",\"type\":\"scatter\"},{\"hovertemplate\":\"<b>%{hovertext}</b><br><br>Country=Tanzania<br>Mean GDP per Capita=%{x}<br>Mean Happiness Score=%{y}<br>Population=%{marker.size}<extra></extra>\",\"hovertext\":[59872579.0],\"legendgroup\":\"Tanzania\",\"marker\":{\"color\":\"#636efa\",\"size\":[59872579.0],\"sizemode\":\"area\",\"sizeref\":391040.27777777775,\"symbol\":\"circle\"},\"mode\":\"markers\",\"name\":\"Tanzania\",\"orientation\":\"v\",\"showlegend\":true,\"x\":[0.43],\"xaxis\":\"x\",\"y\":[3.5],\"yaxis\":\"y\",\"type\":\"scatter\"},{\"hovertemplate\":\"<b>%{hovertext}</b><br><br>Country=Rwanda<br>Mean GDP per Capita=%{x}<br>Mean Happiness Score=%{y}<br>Population=%{marker.size}<extra></extra>\",\"hovertext\":[12835028.0],\"legendgroup\":\"Rwanda\",\"marker\":{\"color\":\"#EF553B\",\"size\":[12835028.0],\"sizemode\":\"area\",\"sizeref\":391040.27777777775,\"symbol\":\"circle\"},\"mode\":\"markers\",\"name\":\"Rwanda\",\"orientation\":\"v\",\"showlegend\":true,\"x\":[0.33],\"xaxis\":\"x\",\"y\":[3.42],\"yaxis\":\"y\",\"type\":\"scatter\"},{\"hovertemplate\":\"<b>%{hovertext}</b><br><br>Country=Burundi<br>Mean GDP per Capita=%{x}<br>Mean Happiness Score=%{y}<br>Population=%{marker.size}<extra></extra>\",\"hovertext\":[11874838.0],\"legendgroup\":\"Burundi\",\"marker\":{\"color\":\"#00cc96\",\"size\":[11874838.0],\"sizemode\":\"area\",\"sizeref\":391040.27777777775,\"symbol\":\"circle\"},\"mode\":\"markers\",\"name\":\"Burundi\",\"orientation\":\"v\",\"showlegend\":true,\"x\":[0.04],\"xaxis\":\"x\",\"y\":[3.34],\"yaxis\":\"y\",\"type\":\"scatter\"},{\"hovertemplate\":\"<b>%{hovertext}</b><br><br>Country=Syria<br>Mean GDP per Capita=%{x}<br>Mean Happiness Score=%{y}<br>Population=%{marker.size}<extra></extra>\",\"hovertext\":[20098251.0],\"legendgroup\":\"Syria\",\"marker\":{\"color\":\"#ab63fa\",\"size\":[20098251.0],\"sizemode\":\"area\",\"sizeref\":391040.27777777775,\"symbol\":\"circle\"},\"mode\":\"markers\",\"name\":\"Syria\",\"orientation\":\"v\",\"showlegend\":true,\"x\":[0.69],\"xaxis\":\"x\",\"y\":[3.31],\"yaxis\":\"y\",\"type\":\"scatter\"},{\"hovertemplate\":\"<b>%{hovertext}</b><br><br>Country=Afghanistan<br>Mean GDP per Capita=%{x}<br>Mean Happiness Score=%{y}<br>Population=%{marker.size}<extra></extra>\",\"hovertext\":[37769499.0],\"legendgroup\":\"Afghanistan\",\"marker\":{\"color\":\"#FFA15A\",\"size\":[37769499.0],\"sizemode\":\"area\",\"sizeref\":391040.27777777775,\"symbol\":\"circle\"},\"mode\":\"markers\",\"name\":\"Afghanistan\",\"orientation\":\"v\",\"showlegend\":true,\"x\":[0.36],\"xaxis\":\"x\",\"y\":[3.27],\"yaxis\":\"y\",\"type\":\"scatter\"},{\"hovertemplate\":\"<b>%{hovertext}</b><br><br>Country=Central African Republic<br>Mean GDP per Capita=%{x}<br>Mean Happiness Score=%{y}<br>Population=%{marker.size}<extra></extra>\",\"hovertext\":[5209324.0],\"legendgroup\":\"Central African Republic\",\"marker\":{\"color\":\"#19d3f3\",\"size\":[5209324.0],\"sizemode\":\"area\",\"sizeref\":391040.27777777775,\"symbol\":\"circle\"},\"mode\":\"markers\",\"name\":\"Central African Republic\",\"orientation\":\"v\",\"showlegend\":true,\"x\":[0.03],\"xaxis\":\"x\",\"y\":[3.15],\"yaxis\":\"y\",\"type\":\"scatter\"}],                        {\"template\":{\"data\":{\"histogram2dcontour\":[{\"type\":\"histogram2dcontour\",\"colorbar\":{\"outlinewidth\":0,\"ticks\":\"\"},\"colorscale\":[[0.0,\"#0d0887\"],[0.1111111111111111,\"#46039f\"],[0.2222222222222222,\"#7201a8\"],[0.3333333333333333,\"#9c179e\"],[0.4444444444444444,\"#bd3786\"],[0.5555555555555556,\"#d8576b\"],[0.6666666666666666,\"#ed7953\"],[0.7777777777777778,\"#fb9f3a\"],[0.8888888888888888,\"#fdca26\"],[1.0,\"#f0f921\"]]}],\"choropleth\":[{\"type\":\"choropleth\",\"colorbar\":{\"outlinewidth\":0,\"ticks\":\"\"}}],\"histogram2d\":[{\"type\":\"histogram2d\",\"colorbar\":{\"outlinewidth\":0,\"ticks\":\"\"},\"colorscale\":[[0.0,\"#0d0887\"],[0.1111111111111111,\"#46039f\"],[0.2222222222222222,\"#7201a8\"],[0.3333333333333333,\"#9c179e\"],[0.4444444444444444,\"#bd3786\"],[0.5555555555555556,\"#d8576b\"],[0.6666666666666666,\"#ed7953\"],[0.7777777777777778,\"#fb9f3a\"],[0.8888888888888888,\"#fdca26\"],[1.0,\"#f0f921\"]]}],\"heatmap\":[{\"type\":\"heatmap\",\"colorbar\":{\"outlinewidth\":0,\"ticks\":\"\"},\"colorscale\":[[0.0,\"#0d0887\"],[0.1111111111111111,\"#46039f\"],[0.2222222222222222,\"#7201a8\"],[0.3333333333333333,\"#9c179e\"],[0.4444444444444444,\"#bd3786\"],[0.5555555555555556,\"#d8576b\"],[0.6666666666666666,\"#ed7953\"],[0.7777777777777778,\"#fb9f3a\"],[0.8888888888888888,\"#fdca26\"],[1.0,\"#f0f921\"]]}],\"heatmapgl\":[{\"type\":\"heatmapgl\",\"colorbar\":{\"outlinewidth\":0,\"ticks\":\"\"},\"colorscale\":[[0.0,\"#0d0887\"],[0.1111111111111111,\"#46039f\"],[0.2222222222222222,\"#7201a8\"],[0.3333333333333333,\"#9c179e\"],[0.4444444444444444,\"#bd3786\"],[0.5555555555555556,\"#d8576b\"],[0.6666666666666666,\"#ed7953\"],[0.7777777777777778,\"#fb9f3a\"],[0.8888888888888888,\"#fdca26\"],[1.0,\"#f0f921\"]]}],\"contourcarpet\":[{\"type\":\"contourcarpet\",\"colorbar\":{\"outlinewidth\":0,\"ticks\":\"\"}}],\"contour\":[{\"type\":\"contour\",\"colorbar\":{\"outlinewidth\":0,\"ticks\":\"\"},\"colorscale\":[[0.0,\"#0d0887\"],[0.1111111111111111,\"#46039f\"],[0.2222222222222222,\"#7201a8\"],[0.3333333333333333,\"#9c179e\"],[0.4444444444444444,\"#bd3786\"],[0.5555555555555556,\"#d8576b\"],[0.6666666666666666,\"#ed7953\"],[0.7777777777777778,\"#fb9f3a\"],[0.8888888888888888,\"#fdca26\"],[1.0,\"#f0f921\"]]}],\"surface\":[{\"type\":\"surface\",\"colorbar\":{\"outlinewidth\":0,\"ticks\":\"\"},\"colorscale\":[[0.0,\"#0d0887\"],[0.1111111111111111,\"#46039f\"],[0.2222222222222222,\"#7201a8\"],[0.3333333333333333,\"#9c179e\"],[0.4444444444444444,\"#bd3786\"],[0.5555555555555556,\"#d8576b\"],[0.6666666666666666,\"#ed7953\"],[0.7777777777777778,\"#fb9f3a\"],[0.8888888888888888,\"#fdca26\"],[1.0,\"#f0f921\"]]}],\"mesh3d\":[{\"type\":\"mesh3d\",\"colorbar\":{\"outlinewidth\":0,\"ticks\":\"\"}}],\"scatter\":[{\"fillpattern\":{\"fillmode\":\"overlay\",\"size\":10,\"solidity\":0.2},\"type\":\"scatter\"}],\"parcoords\":[{\"type\":\"parcoords\",\"line\":{\"colorbar\":{\"outlinewidth\":0,\"ticks\":\"\"}}}],\"scatterpolargl\":[{\"type\":\"scatterpolargl\",\"marker\":{\"colorbar\":{\"outlinewidth\":0,\"ticks\":\"\"}}}],\"bar\":[{\"error_x\":{\"color\":\"#2a3f5f\"},\"error_y\":{\"color\":\"#2a3f5f\"},\"marker\":{\"line\":{\"color\":\"#E5ECF6\",\"width\":0.5},\"pattern\":{\"fillmode\":\"overlay\",\"size\":10,\"solidity\":0.2}},\"type\":\"bar\"}],\"scattergeo\":[{\"type\":\"scattergeo\",\"marker\":{\"colorbar\":{\"outlinewidth\":0,\"ticks\":\"\"}}}],\"scatterpolar\":[{\"type\":\"scatterpolar\",\"marker\":{\"colorbar\":{\"outlinewidth\":0,\"ticks\":\"\"}}}],\"histogram\":[{\"marker\":{\"pattern\":{\"fillmode\":\"overlay\",\"size\":10,\"solidity\":0.2}},\"type\":\"histogram\"}],\"scattergl\":[{\"type\":\"scattergl\",\"marker\":{\"colorbar\":{\"outlinewidth\":0,\"ticks\":\"\"}}}],\"scatter3d\":[{\"type\":\"scatter3d\",\"line\":{\"colorbar\":{\"outlinewidth\":0,\"ticks\":\"\"}},\"marker\":{\"colorbar\":{\"outlinewidth\":0,\"ticks\":\"\"}}}],\"scattermapbox\":[{\"type\":\"scattermapbox\",\"marker\":{\"colorbar\":{\"outlinewidth\":0,\"ticks\":\"\"}}}],\"scatterternary\":[{\"type\":\"scatterternary\",\"marker\":{\"colorbar\":{\"outlinewidth\":0,\"ticks\":\"\"}}}],\"scattercarpet\":[{\"type\":\"scattercarpet\",\"marker\":{\"colorbar\":{\"outlinewidth\":0,\"ticks\":\"\"}}}],\"carpet\":[{\"aaxis\":{\"endlinecolor\":\"#2a3f5f\",\"gridcolor\":\"white\",\"linecolor\":\"white\",\"minorgridcolor\":\"white\",\"startlinecolor\":\"#2a3f5f\"},\"baxis\":{\"endlinecolor\":\"#2a3f5f\",\"gridcolor\":\"white\",\"linecolor\":\"white\",\"minorgridcolor\":\"white\",\"startlinecolor\":\"#2a3f5f\"},\"type\":\"carpet\"}],\"table\":[{\"cells\":{\"fill\":{\"color\":\"#EBF0F8\"},\"line\":{\"color\":\"white\"}},\"header\":{\"fill\":{\"color\":\"#C8D4E3\"},\"line\":{\"color\":\"white\"}},\"type\":\"table\"}],\"barpolar\":[{\"marker\":{\"line\":{\"color\":\"#E5ECF6\",\"width\":0.5},\"pattern\":{\"fillmode\":\"overlay\",\"size\":10,\"solidity\":0.2}},\"type\":\"barpolar\"}],\"pie\":[{\"automargin\":true,\"type\":\"pie\"}]},\"layout\":{\"autotypenumbers\":\"strict\",\"colorway\":[\"#636efa\",\"#EF553B\",\"#00cc96\",\"#ab63fa\",\"#FFA15A\",\"#19d3f3\",\"#FF6692\",\"#B6E880\",\"#FF97FF\",\"#FECB52\"],\"font\":{\"color\":\"#2a3f5f\"},\"hovermode\":\"closest\",\"hoverlabel\":{\"align\":\"left\"},\"paper_bgcolor\":\"white\",\"plot_bgcolor\":\"#E5ECF6\",\"polar\":{\"bgcolor\":\"#E5ECF6\",\"angularaxis\":{\"gridcolor\":\"white\",\"linecolor\":\"white\",\"ticks\":\"\"},\"radialaxis\":{\"gridcolor\":\"white\",\"linecolor\":\"white\",\"ticks\":\"\"}},\"ternary\":{\"bgcolor\":\"#E5ECF6\",\"aaxis\":{\"gridcolor\":\"white\",\"linecolor\":\"white\",\"ticks\":\"\"},\"baxis\":{\"gridcolor\":\"white\",\"linecolor\":\"white\",\"ticks\":\"\"},\"caxis\":{\"gridcolor\":\"white\",\"linecolor\":\"white\",\"ticks\":\"\"}},\"coloraxis\":{\"colorbar\":{\"outlinewidth\":0,\"ticks\":\"\"}},\"colorscale\":{\"sequential\":[[0.0,\"#0d0887\"],[0.1111111111111111,\"#46039f\"],[0.2222222222222222,\"#7201a8\"],[0.3333333333333333,\"#9c179e\"],[0.4444444444444444,\"#bd3786\"],[0.5555555555555556,\"#d8576b\"],[0.6666666666666666,\"#ed7953\"],[0.7777777777777778,\"#fb9f3a\"],[0.8888888888888888,\"#fdca26\"],[1.0,\"#f0f921\"]],\"sequentialminus\":[[0.0,\"#0d0887\"],[0.1111111111111111,\"#46039f\"],[0.2222222222222222,\"#7201a8\"],[0.3333333333333333,\"#9c179e\"],[0.4444444444444444,\"#bd3786\"],[0.5555555555555556,\"#d8576b\"],[0.6666666666666666,\"#ed7953\"],[0.7777777777777778,\"#fb9f3a\"],[0.8888888888888888,\"#fdca26\"],[1.0,\"#f0f921\"]],\"diverging\":[[0,\"#8e0152\"],[0.1,\"#c51b7d\"],[0.2,\"#de77ae\"],[0.3,\"#f1b6da\"],[0.4,\"#fde0ef\"],[0.5,\"#f7f7f7\"],[0.6,\"#e6f5d0\"],[0.7,\"#b8e186\"],[0.8,\"#7fbc41\"],[0.9,\"#4d9221\"],[1,\"#276419\"]]},\"xaxis\":{\"gridcolor\":\"white\",\"linecolor\":\"white\",\"ticks\":\"\",\"title\":{\"standoff\":15},\"zerolinecolor\":\"white\",\"automargin\":true,\"zerolinewidth\":2},\"yaxis\":{\"gridcolor\":\"white\",\"linecolor\":\"white\",\"ticks\":\"\",\"title\":{\"standoff\":15},\"zerolinecolor\":\"white\",\"automargin\":true,\"zerolinewidth\":2},\"scene\":{\"xaxis\":{\"backgroundcolor\":\"#E5ECF6\",\"gridcolor\":\"white\",\"linecolor\":\"white\",\"showbackground\":true,\"ticks\":\"\",\"zerolinecolor\":\"white\",\"gridwidth\":2},\"yaxis\":{\"backgroundcolor\":\"#E5ECF6\",\"gridcolor\":\"white\",\"linecolor\":\"white\",\"showbackground\":true,\"ticks\":\"\",\"zerolinecolor\":\"white\",\"gridwidth\":2},\"zaxis\":{\"backgroundcolor\":\"#E5ECF6\",\"gridcolor\":\"white\",\"linecolor\":\"white\",\"showbackground\":true,\"ticks\":\"\",\"zerolinecolor\":\"white\",\"gridwidth\":2}},\"shapedefaults\":{\"line\":{\"color\":\"#2a3f5f\"}},\"annotationdefaults\":{\"arrowcolor\":\"#2a3f5f\",\"arrowhead\":0,\"arrowwidth\":1},\"geo\":{\"bgcolor\":\"white\",\"landcolor\":\"#E5ECF6\",\"subunitcolor\":\"white\",\"showland\":true,\"showlakes\":true,\"lakecolor\":\"white\"},\"title\":{\"x\":0.05},\"mapbox\":{\"style\":\"light\"}}},\"xaxis\":{\"anchor\":\"y\",\"domain\":[0.0,1.0],\"title\":{\"text\":\"PIB per c\\u00e1pita (USD)\"},\"type\":\"log\"},\"yaxis\":{\"anchor\":\"x\",\"domain\":[0.0,1.0],\"title\":{\"text\":\"Puntuaci\\u00f3n de Felicidad\"}},\"legend\":{\"title\":{\"text\":\"Regi\\u00f3n\"},\"tracegroupgap\":0,\"itemsizing\":\"constant\"},\"margin\":{\"t\":60},\"title\":{\"text\":\"Comparaci\\u00f3n de la Felicidad y el PIB per c\\u00e1pita por Pa\\u00eds\"}},                        {\"responsive\": true}                    ).then(function(){\n",
       "                            \n",
       "var gd = document.getElementById('15bbef38-3fd3-46c9-beca-5d959a3e963d');\n",
       "var x = new MutationObserver(function (mutations, observer) {{\n",
       "        var display = window.getComputedStyle(gd).display;\n",
       "        if (!display || display === 'none') {{\n",
       "            console.log([gd, 'removed!']);\n",
       "            Plotly.purge(gd);\n",
       "            observer.disconnect();\n",
       "        }}\n",
       "}});\n",
       "\n",
       "// Listen for the removal of the full notebook cells\n",
       "var notebookContainer = gd.closest('#notebook-container');\n",
       "if (notebookContainer) {{\n",
       "    x.observe(notebookContainer, {childList: true});\n",
       "}}\n",
       "\n",
       "// Listen for the clearing of the current output cell\n",
       "var outputEl = gd.closest('.output');\n",
       "if (outputEl) {{\n",
       "    x.observe(outputEl, {childList: true});\n",
       "}}\n",
       "\n",
       "                        })                };                });            </script>        </div>"
      ]
     },
     "metadata": {},
     "output_type": "display_data"
    }
   ],
   "source": [
    "happiness_GDP(df)"
   ]
  },
  {
   "cell_type": "code",
   "execution_count": null,
   "id": "9579f1a3",
   "metadata": {},
   "outputs": [],
   "source": []
  }
 ],
 "metadata": {
  "kernelspec": {
   "display_name": "ironhack",
   "language": "python",
   "name": "ironhack"
  },
  "language_info": {
   "codemirror_mode": {
    "name": "ipython",
    "version": 3
   },
   "file_extension": ".py",
   "mimetype": "text/x-python",
   "name": "python",
   "nbconvert_exporter": "python",
   "pygments_lexer": "ipython3",
   "version": "3.10.9"
  }
 },
 "nbformat": 4,
 "nbformat_minor": 5
}
