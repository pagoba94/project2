{
 "cells": [
  {
   "cell_type": "code",
   "execution_count": 1,
   "id": "93239031",
   "metadata": {},
   "outputs": [],
   "source": [
    "import pandas as pd\n",
    "import re\n",
    "import seaborn as sns\n",
    "import os\n",
    "import matplotlib.pyplot as plt\n",
    "import requests\n",
    "from lxml import html"
   ]
  },
  {
   "cell_type": "code",
   "execution_count": 2,
   "id": "4e6440d7",
   "metadata": {},
   "outputs": [],
   "source": [
    "def downloading_csv(path):\n",
    "    \"\"\"This function downloads from a raw link and saves the dataframe locally.\n",
    "    args:\n",
    "    :url: string. the link\n",
    "    :name: string. name to save the file\n",
    "    \"\"\"\n",
    "    df=pd.read_csv(path, encoding='latin')\n",
    "    return df"
   ]
  },
  {
   "cell_type": "code",
   "execution_count": 3,
   "id": "90b208d3",
   "metadata": {},
   "outputs": [],
   "source": [
    "path1= 'data/happiness-2015.csv'\n",
    "path2='data/happiness-2017.csv'\n",
    "path3='data/happiness-2019.csv'\n",
    "path4='data/happiness-2021.csv'"
   ]
  },
  {
   "cell_type": "code",
   "execution_count": 4,
   "id": "f9b1c03c",
   "metadata": {},
   "outputs": [
    {
     "data": {
      "text/html": [
       "<div>\n",
       "<style scoped>\n",
       "    .dataframe tbody tr th:only-of-type {\n",
       "        vertical-align: middle;\n",
       "    }\n",
       "\n",
       "    .dataframe tbody tr th {\n",
       "        vertical-align: top;\n",
       "    }\n",
       "\n",
       "    .dataframe thead th {\n",
       "        text-align: right;\n",
       "    }\n",
       "</style>\n",
       "<table border=\"1\" class=\"dataframe\">\n",
       "  <thead>\n",
       "    <tr style=\"text-align: right;\">\n",
       "      <th></th>\n",
       "      <th>Country</th>\n",
       "      <th>Region</th>\n",
       "      <th>Happiness Rank</th>\n",
       "      <th>Happiness Score</th>\n",
       "      <th>Standard Error</th>\n",
       "      <th>Economy (GDP per Capita)</th>\n",
       "      <th>Family</th>\n",
       "      <th>Health (Life Expectancy)</th>\n",
       "      <th>Freedom</th>\n",
       "      <th>Trust (Government Corruption)</th>\n",
       "      <th>Generosity</th>\n",
       "      <th>Dystopia Residual</th>\n",
       "    </tr>\n",
       "  </thead>\n",
       "  <tbody>\n",
       "    <tr>\n",
       "      <th>16</th>\n",
       "      <td>Luxembourg</td>\n",
       "      <td>Western Europe</td>\n",
       "      <td>17</td>\n",
       "      <td>6.946</td>\n",
       "      <td>0.03499</td>\n",
       "      <td>1.56391</td>\n",
       "      <td>1.21963</td>\n",
       "      <td>0.91894</td>\n",
       "      <td>0.61583</td>\n",
       "      <td>0.37798</td>\n",
       "      <td>0.28034</td>\n",
       "      <td>1.96961</td>\n",
       "    </tr>\n",
       "  </tbody>\n",
       "</table>\n",
       "</div>"
      ],
      "text/plain": [
       "       Country          Region  Happiness Rank  Happiness Score   \n",
       "16  Luxembourg  Western Europe              17            6.946  \\\n",
       "\n",
       "    Standard Error  Economy (GDP per Capita)   Family   \n",
       "16         0.03499                   1.56391  1.21963  \\\n",
       "\n",
       "    Health (Life Expectancy)  Freedom  Trust (Government Corruption)   \n",
       "16                   0.91894  0.61583                        0.37798  \\\n",
       "\n",
       "    Generosity  Dystopia Residual  \n",
       "16     0.28034            1.96961  "
      ]
     },
     "execution_count": 4,
     "metadata": {},
     "output_type": "execute_result"
    }
   ],
   "source": [
    "df= downloading_csv(path1)\n",
    "df.sample()"
   ]
  },
  {
   "cell_type": "code",
   "execution_count": 5,
   "id": "9ed4fa4e",
   "metadata": {},
   "outputs": [
    {
     "data": {
      "text/html": [
       "<div>\n",
       "<style scoped>\n",
       "    .dataframe tbody tr th:only-of-type {\n",
       "        vertical-align: middle;\n",
       "    }\n",
       "\n",
       "    .dataframe tbody tr th {\n",
       "        vertical-align: top;\n",
       "    }\n",
       "\n",
       "    .dataframe thead th {\n",
       "        text-align: right;\n",
       "    }\n",
       "</style>\n",
       "<table border=\"1\" class=\"dataframe\">\n",
       "  <thead>\n",
       "    <tr style=\"text-align: right;\">\n",
       "      <th></th>\n",
       "      <th>Country</th>\n",
       "      <th>Region</th>\n",
       "      <th>Happiness Rank</th>\n",
       "      <th>Happiness Score</th>\n",
       "      <th>Standard Error</th>\n",
       "      <th>Economy (GDP per Capita)</th>\n",
       "      <th>Family</th>\n",
       "      <th>Health (Life Expectancy)</th>\n",
       "      <th>Freedom</th>\n",
       "      <th>Trust (Government Corruption)</th>\n",
       "      <th>Generosity</th>\n",
       "      <th>Dystopia Residual</th>\n",
       "    </tr>\n",
       "  </thead>\n",
       "  <tbody>\n",
       "    <tr>\n",
       "      <th>139</th>\n",
       "      <td>Comoros</td>\n",
       "      <td>Sub-Saharan Africa</td>\n",
       "      <td>140</td>\n",
       "      <td>3.956</td>\n",
       "      <td>0.04797</td>\n",
       "      <td>0.23906</td>\n",
       "      <td>0.79273</td>\n",
       "      <td>0.36315</td>\n",
       "      <td>0.22917</td>\n",
       "      <td>0.199</td>\n",
       "      <td>0.17441</td>\n",
       "      <td>1.95812</td>\n",
       "    </tr>\n",
       "  </tbody>\n",
       "</table>\n",
       "</div>"
      ],
      "text/plain": [
       "     Country              Region  Happiness Rank  Happiness Score   \n",
       "139  Comoros  Sub-Saharan Africa             140            3.956  \\\n",
       "\n",
       "     Standard Error  Economy (GDP per Capita)   Family   \n",
       "139         0.04797                   0.23906  0.79273  \\\n",
       "\n",
       "     Health (Life Expectancy)  Freedom  Trust (Government Corruption)   \n",
       "139                   0.36315  0.22917                          0.199  \\\n",
       "\n",
       "     Generosity  Dystopia Residual  \n",
       "139     0.17441            1.95812  "
      ]
     },
     "execution_count": 5,
     "metadata": {},
     "output_type": "execute_result"
    }
   ],
   "source": [
    "df2017= downloading_csv(path2)\n",
    "df.sample()"
   ]
  },
  {
   "cell_type": "code",
   "execution_count": 6,
   "id": "f934d84d",
   "metadata": {},
   "outputs": [
    {
     "data": {
      "text/html": [
       "<div>\n",
       "<style scoped>\n",
       "    .dataframe tbody tr th:only-of-type {\n",
       "        vertical-align: middle;\n",
       "    }\n",
       "\n",
       "    .dataframe tbody tr th {\n",
       "        vertical-align: top;\n",
       "    }\n",
       "\n",
       "    .dataframe thead th {\n",
       "        text-align: right;\n",
       "    }\n",
       "</style>\n",
       "<table border=\"1\" class=\"dataframe\">\n",
       "  <thead>\n",
       "    <tr style=\"text-align: right;\">\n",
       "      <th></th>\n",
       "      <th>Country</th>\n",
       "      <th>Region</th>\n",
       "      <th>Happiness Rank</th>\n",
       "      <th>Happiness Score</th>\n",
       "      <th>Standard Error</th>\n",
       "      <th>Economy (GDP per Capita)</th>\n",
       "      <th>Family</th>\n",
       "      <th>Health (Life Expectancy)</th>\n",
       "      <th>Freedom</th>\n",
       "      <th>Trust (Government Corruption)</th>\n",
       "      <th>Generosity</th>\n",
       "      <th>Dystopia Residual</th>\n",
       "    </tr>\n",
       "  </thead>\n",
       "  <tbody>\n",
       "    <tr>\n",
       "      <th>50</th>\n",
       "      <td>Bolivia</td>\n",
       "      <td>Latin America and Caribbean</td>\n",
       "      <td>51</td>\n",
       "      <td>5.89</td>\n",
       "      <td>0.05642</td>\n",
       "      <td>0.68133</td>\n",
       "      <td>0.97841</td>\n",
       "      <td>0.5392</td>\n",
       "      <td>0.57414</td>\n",
       "      <td>0.088</td>\n",
       "      <td>0.20536</td>\n",
       "      <td>2.82334</td>\n",
       "    </tr>\n",
       "  </tbody>\n",
       "</table>\n",
       "</div>"
      ],
      "text/plain": [
       "    Country                       Region  Happiness Rank  Happiness Score   \n",
       "50  Bolivia  Latin America and Caribbean              51             5.89  \\\n",
       "\n",
       "    Standard Error  Economy (GDP per Capita)   Family   \n",
       "50         0.05642                   0.68133  0.97841  \\\n",
       "\n",
       "    Health (Life Expectancy)  Freedom  Trust (Government Corruption)   \n",
       "50                    0.5392  0.57414                          0.088  \\\n",
       "\n",
       "    Generosity  Dystopia Residual  \n",
       "50     0.20536            2.82334  "
      ]
     },
     "execution_count": 6,
     "metadata": {},
     "output_type": "execute_result"
    }
   ],
   "source": [
    "df2019= downloading_csv(path3)\n",
    "df.sample()"
   ]
  },
  {
   "cell_type": "code",
   "execution_count": 7,
   "id": "f9e11e7e",
   "metadata": {},
   "outputs": [
    {
     "data": {
      "text/html": [
       "<div>\n",
       "<style scoped>\n",
       "    .dataframe tbody tr th:only-of-type {\n",
       "        vertical-align: middle;\n",
       "    }\n",
       "\n",
       "    .dataframe tbody tr th {\n",
       "        vertical-align: top;\n",
       "    }\n",
       "\n",
       "    .dataframe thead th {\n",
       "        text-align: right;\n",
       "    }\n",
       "</style>\n",
       "<table border=\"1\" class=\"dataframe\">\n",
       "  <thead>\n",
       "    <tr style=\"text-align: right;\">\n",
       "      <th></th>\n",
       "      <th>Country</th>\n",
       "      <th>Region</th>\n",
       "      <th>Happiness Rank</th>\n",
       "      <th>Happiness Score</th>\n",
       "      <th>Standard Error</th>\n",
       "      <th>Economy (GDP per Capita)</th>\n",
       "      <th>Family</th>\n",
       "      <th>Health (Life Expectancy)</th>\n",
       "      <th>Freedom</th>\n",
       "      <th>Trust (Government Corruption)</th>\n",
       "      <th>Generosity</th>\n",
       "      <th>Dystopia Residual</th>\n",
       "    </tr>\n",
       "  </thead>\n",
       "  <tbody>\n",
       "    <tr>\n",
       "      <th>104</th>\n",
       "      <td>Honduras</td>\n",
       "      <td>Latin America and Caribbean</td>\n",
       "      <td>105</td>\n",
       "      <td>4.788</td>\n",
       "      <td>0.05648</td>\n",
       "      <td>0.59532</td>\n",
       "      <td>0.95348</td>\n",
       "      <td>0.6951</td>\n",
       "      <td>0.40148</td>\n",
       "      <td>0.06825</td>\n",
       "      <td>0.23027</td>\n",
       "      <td>1.84408</td>\n",
       "    </tr>\n",
       "  </tbody>\n",
       "</table>\n",
       "</div>"
      ],
      "text/plain": [
       "      Country                       Region  Happiness Rank  Happiness Score   \n",
       "104  Honduras  Latin America and Caribbean             105            4.788  \\\n",
       "\n",
       "     Standard Error  Economy (GDP per Capita)   Family   \n",
       "104         0.05648                   0.59532  0.95348  \\\n",
       "\n",
       "     Health (Life Expectancy)  Freedom  Trust (Government Corruption)   \n",
       "104                    0.6951  0.40148                        0.06825  \\\n",
       "\n",
       "     Generosity  Dystopia Residual  \n",
       "104     0.23027            1.84408  "
      ]
     },
     "execution_count": 7,
     "metadata": {},
     "output_type": "execute_result"
    }
   ],
   "source": [
    "df2021= downloading_csv(path4)\n",
    "df.sample()"
   ]
  },
  {
   "cell_type": "code",
   "execution_count": 8,
   "id": "ce5eae1c",
   "metadata": {},
   "outputs": [],
   "source": [
    "def downloading_html(path): \n",
    "    headers = {\"User-agent\": 'Mozilla/5.0 (Windows NT 10.0; Win64; x64) AppleWebKit/537.36 (KHTML, like Gecko) Chrome/79.0.3945.130 Safari/537.36'}\n",
    "    res = requests.get(path, headers=headers)\n",
    "    table = pd.read_html(res.content, encoding = 'utf8')\n",
    "    df = table[0]\n",
    "    return df"
   ]
  },
  {
   "cell_type": "code",
   "execution_count": 9,
   "id": "0fba8907",
   "metadata": {},
   "outputs": [
    {
     "data": {
      "text/html": [
       "<div>\n",
       "<style scoped>\n",
       "    .dataframe tbody tr th:only-of-type {\n",
       "        vertical-align: middle;\n",
       "    }\n",
       "\n",
       "    .dataframe tbody tr th {\n",
       "        vertical-align: top;\n",
       "    }\n",
       "\n",
       "    .dataframe thead th {\n",
       "        text-align: right;\n",
       "    }\n",
       "</style>\n",
       "<table border=\"1\" class=\"dataframe\">\n",
       "  <thead>\n",
       "    <tr style=\"text-align: right;\">\n",
       "      <th></th>\n",
       "      <th>Country</th>\n",
       "      <th>Average yearly temperature (1961–1990 Celsius)</th>\n",
       "    </tr>\n",
       "  </thead>\n",
       "  <tbody>\n",
       "    <tr>\n",
       "      <th>166</th>\n",
       "      <td>Andorra</td>\n",
       "      <td>07.60</td>\n",
       "    </tr>\n",
       "  </tbody>\n",
       "</table>\n",
       "</div>"
      ],
      "text/plain": [
       "     Country Average yearly temperature (1961–1990 Celsius)\n",
       "166  Andorra                                          07.60"
      ]
     },
     "execution_count": 9,
     "metadata": {},
     "output_type": "execute_result"
    }
   ],
   "source": [
    "df2=downloading_html('https://en.wikipedia.org/wiki/List_of_countries_by_average_yearly_temperature')\n",
    "df2.sample()"
   ]
  },
  {
   "cell_type": "code",
   "execution_count": 10,
   "id": "c954c134",
   "metadata": {},
   "outputs": [],
   "source": [
    "def cleaning_df2015(df, df2):\n",
    "    countries_dict={'Denmark':'Denmark',\n",
    "                    'Cyprus': 'Cyprus',\n",
    "                    'Norway': 'Norway',\n",
    "                    'Somaliland': 'Somalia',\n",
    "                    'Macedonia':'Macedonia',\n",
    "                    'Eswatini': 'Swaziland',\n",
    "                    'Kinshasa': 'Democratic Republic of the Congo',\n",
    "                    'Brazzaville':'Republic of the Congo'             \n",
    "    }\n",
    "    \n",
    "    # Iterate over each element of the species2 column of the dataframe and replace the values for the keys\n",
    "    for key, value in countries_dict.items():\n",
    "        mask= df['Country'].str.contains(value, case=False)\n",
    "        df.loc[mask, 'Country'] = key\n",
    "        \n",
    "    mask_Somalia = df['Country'].str.contains('Somaliland', case=False)\n",
    "    df.loc[mask_Somalia, 'Country'] = 'Somalia'\n",
    "    \n",
    "    df = pd.merge(df, df2, on='Country', how='outer')\n",
    "    df = df.add_suffix(' 2015')\n",
    "    df.rename(columns = {\"Economy (GDP per Capita) 2015\":\"GDP per Capita 2015\" ,\n",
    "                         \"Average yearly temperature (1961–1990 Celsius) 2015\": \"Average yearly temperature\", \n",
    "                         \"Country 2015\": \"Country\", \"Region 2015\": \"Region\"}, inplace=True)\n",
    "    \n",
    "    df.drop(columns=[\"Region\", \"Standard Error 2015\", \"Family 2015\", \"Health (Life Expectancy) 2015\", \"Freedom 2015\", \n",
    "                     \"Trust (Government Corruption) 2015\", \"Generosity 2015\", \"Dystopia Residual 2015\"], axis=1, inplace=True)\n",
    "    \n",
    "    \n",
    "    return df\n",
    "    "
   ]
  },
  {
   "cell_type": "code",
   "execution_count": 11,
   "id": "3f32f3ec",
   "metadata": {},
   "outputs": [
    {
     "data": {
      "text/html": [
       "<div>\n",
       "<style scoped>\n",
       "    .dataframe tbody tr th:only-of-type {\n",
       "        vertical-align: middle;\n",
       "    }\n",
       "\n",
       "    .dataframe tbody tr th {\n",
       "        vertical-align: top;\n",
       "    }\n",
       "\n",
       "    .dataframe thead th {\n",
       "        text-align: right;\n",
       "    }\n",
       "</style>\n",
       "<table border=\"1\" class=\"dataframe\">\n",
       "  <thead>\n",
       "    <tr style=\"text-align: right;\">\n",
       "      <th></th>\n",
       "      <th>Country</th>\n",
       "      <th>Happiness Rank 2015</th>\n",
       "      <th>Happiness Score 2015</th>\n",
       "      <th>GDP per Capita 2015</th>\n",
       "      <th>Average yearly temperature</th>\n",
       "    </tr>\n",
       "  </thead>\n",
       "  <tbody>\n",
       "    <tr>\n",
       "      <th>4</th>\n",
       "      <td>Canada</td>\n",
       "      <td>5.0</td>\n",
       "      <td>7.427</td>\n",
       "      <td>1.32629</td>\n",
       "      <td>−5.10</td>\n",
       "    </tr>\n",
       "  </tbody>\n",
       "</table>\n",
       "</div>"
      ],
      "text/plain": [
       "  Country  Happiness Rank 2015  Happiness Score 2015  GDP per Capita 2015   \n",
       "4  Canada                  5.0                 7.427              1.32629  \\\n",
       "\n",
       "  Average yearly temperature  \n",
       "4                      −5.10  "
      ]
     },
     "execution_count": 11,
     "metadata": {},
     "output_type": "execute_result"
    }
   ],
   "source": [
    "df = cleaning_df2015(df, df2)\n",
    "df.sample()"
   ]
  },
  {
   "cell_type": "code",
   "execution_count": 12,
   "id": "832a075e",
   "metadata": {},
   "outputs": [],
   "source": [
    "def cleaning_df2017(df2017):\n",
    "    df2017 = df2017.add_suffix(' 2017')\n",
    "    df2017.rename(columns = {\"Country 2017\" : \"Country\", \n",
    "                             \"Happiness.Rank 2017\" :\"Happiness Rank 2017\", \n",
    "                             \"Happiness.Score 2017\" : \"Happiness Score 2017\", \n",
    "                             \"Economy..GDP.per.Capita. 2017\": \"GDP per Capita 2017\"}, inplace=True)\n",
    "    \n",
    "    df2017.drop(columns=[\"Whisker.high 2017\", \"Whisker.low 2017\", \"Family 2017\", \"Health..Life.Expectancy. 2017\", \"Freedom 2017\", \n",
    "                         \"Generosity 2017\", \"Trust..Government.Corruption. 2017\", \"Dystopia.Residual 2017\"], axis=1, inplace=True)\n",
    "    \n",
    "    mask_Taiwan = df2017['Country'].str.contains('Taiwan', case=False)\n",
    "    df2017.loc[mask_Taiwan, 'Country'] = 'Taiwan'\n",
    "\n",
    "    mask_HongKong = df2017['Country'].str.contains('Hong Kong', case=False)\n",
    "    df2017.loc[mask_HongKong, 'Country'] = 'Hong Kong'\n",
    "\n",
    "    mask_Democratic = df2017['Country'].str.contains('Kinshasa', case=False)\n",
    "    df2017.loc[mask_Democratic, 'Country'] = 'Democratic Republic of the Congo'\n",
    "\n",
    "    mask_Congo = df2017['Country'].str.contains('Brazzaville', case=False)\n",
    "    df2017.loc[mask_Congo, 'Country'] = 'Republic of the Congo'\n",
    "\n",
    "    return df2017\n",
    "    "
   ]
  },
  {
   "cell_type": "code",
   "execution_count": 13,
   "id": "f2718458",
   "metadata": {},
   "outputs": [
    {
     "data": {
      "text/html": [
       "<div>\n",
       "<style scoped>\n",
       "    .dataframe tbody tr th:only-of-type {\n",
       "        vertical-align: middle;\n",
       "    }\n",
       "\n",
       "    .dataframe tbody tr th {\n",
       "        vertical-align: top;\n",
       "    }\n",
       "\n",
       "    .dataframe thead th {\n",
       "        text-align: right;\n",
       "    }\n",
       "</style>\n",
       "<table border=\"1\" class=\"dataframe\">\n",
       "  <thead>\n",
       "    <tr style=\"text-align: right;\">\n",
       "      <th></th>\n",
       "      <th>Country</th>\n",
       "      <th>Happiness Rank 2017</th>\n",
       "      <th>Happiness Score 2017</th>\n",
       "      <th>GDP per Capita 2017</th>\n",
       "    </tr>\n",
       "  </thead>\n",
       "  <tbody>\n",
       "    <tr>\n",
       "      <th>127</th>\n",
       "      <td>Ivory Coast</td>\n",
       "      <td>128</td>\n",
       "      <td>4.18</td>\n",
       "      <td>0.603049</td>\n",
       "    </tr>\n",
       "  </tbody>\n",
       "</table>\n",
       "</div>"
      ],
      "text/plain": [
       "         Country  Happiness Rank 2017  Happiness Score 2017   \n",
       "127  Ivory Coast                  128                  4.18  \\\n",
       "\n",
       "     GDP per Capita 2017  \n",
       "127             0.603049  "
      ]
     },
     "execution_count": 13,
     "metadata": {},
     "output_type": "execute_result"
    }
   ],
   "source": [
    "df2017=cleaning_df2017(df2017)\n",
    "df2017.sample()"
   ]
  },
  {
   "cell_type": "code",
   "execution_count": 14,
   "id": "a4391901",
   "metadata": {},
   "outputs": [],
   "source": [
    "def cleaning_df2019(df2019):\n",
    "    df2019 = df2019.add_suffix(' 2019')\n",
    "    df2019.rename(columns = {\"Country or region 2019\" : \"Country\", \n",
    "                             \"Overall rank 2019\":\"Happiness Rank 2019\", \n",
    "                             \"Score 2019\": \"Happiness Score 2019\", \n",
    "                             \"GDP per capita 2019\":\"GDP per Capita 2019\" }, inplace=True)\n",
    "    \n",
    "    df2019.drop(columns=[\"Social support 2019\", \"Freedom to make life choices 2019\", \"Generosity 2019\", \n",
    "                         \"Perceptions of corruption 2019\",\"Healthy life expectancy 2019\"], axis=1, inplace=True)\n",
    "    \n",
    "    mask_Congo = df2019['Country'].str.contains('Brazzaville', case=False)\n",
    "    df2019.loc[mask_Congo, 'Country'] = 'Republic of the Congo'\n",
    "\n",
    "    mask_Sudan = df2019['Country'].str.contains('Sudan', case=False)\n",
    "    df2019.loc[mask_Sudan, 'Country'] = 'Sudan'\n",
    "\n",
    "    mask_Democratic = df2019['Country'].str.contains('Kinshasa', case=False)\n",
    "    df2019.loc[mask_Democratic, 'Country'] = 'Democratic Republic of the Congo'\n",
    "\n",
    "    mask_Trinidad = df2019['Country'].str.contains('Trinidad & Tobago', case=False)\n",
    "    df2019.loc[mask_Trinidad, 'Country'] = 'Trinidad and Tobago'\n",
    "\n",
    "    mask_Macedonia = df2019['Country'].str.contains('Macedonia', case=False)\n",
    "    df2019.loc[mask_Macedonia, 'Country'] = 'Macedonia'\n",
    "\n",
    "    mask_Somalia = df2019['Country'].str.contains('Somaliland', case=False)\n",
    "    df2019.loc[mask_Somalia, 'Country'] = 'Somalia'\n",
    "\n",
    "    mask_Cyprus = df2019['Country'].str.contains('Northern Cyprus', case=False)\n",
    "    df2019.loc[mask_Cyprus, 'Country'] = 'North Cyprus'\n",
    "    \n",
    "    return df2019"
   ]
  },
  {
   "cell_type": "code",
   "execution_count": 15,
   "id": "1946b80d",
   "metadata": {},
   "outputs": [
    {
     "data": {
      "text/html": [
       "<div>\n",
       "<style scoped>\n",
       "    .dataframe tbody tr th:only-of-type {\n",
       "        vertical-align: middle;\n",
       "    }\n",
       "\n",
       "    .dataframe tbody tr th {\n",
       "        vertical-align: top;\n",
       "    }\n",
       "\n",
       "    .dataframe thead th {\n",
       "        text-align: right;\n",
       "    }\n",
       "</style>\n",
       "<table border=\"1\" class=\"dataframe\">\n",
       "  <thead>\n",
       "    <tr style=\"text-align: right;\">\n",
       "      <th></th>\n",
       "      <th>Happiness Rank 2019</th>\n",
       "      <th>Country</th>\n",
       "      <th>Happiness Score 2019</th>\n",
       "      <th>GDP per Capita 2019</th>\n",
       "    </tr>\n",
       "  </thead>\n",
       "  <tbody>\n",
       "    <tr>\n",
       "      <th>44</th>\n",
       "      <td>45</td>\n",
       "      <td>Nicaragua</td>\n",
       "      <td>6.105</td>\n",
       "      <td>0.694</td>\n",
       "    </tr>\n",
       "  </tbody>\n",
       "</table>\n",
       "</div>"
      ],
      "text/plain": [
       "    Happiness Rank 2019    Country  Happiness Score 2019  GDP per Capita 2019\n",
       "44                   45  Nicaragua                 6.105                0.694"
      ]
     },
     "execution_count": 15,
     "metadata": {},
     "output_type": "execute_result"
    }
   ],
   "source": [
    "df2019=cleaning_df2019(df2019)\n",
    "df2019.sample()"
   ]
  },
  {
   "cell_type": "code",
   "execution_count": 16,
   "id": "493f589b",
   "metadata": {},
   "outputs": [],
   "source": [
    "def cleaning_df2021(df2021):\n",
    "    df2021 = df2021.add_suffix(' 2021')\n",
    "    df2021.rename(columns = {\"ï»¿Country name 2021\" : \"Country\", \n",
    "                             \"Ladder score 2021\": \"Happiness Score 2021\", \n",
    "                             \"Explained by: Log GDP per capita 2021\":\"GDP per Capita 2021\"}, inplace=True)\n",
    "    \n",
    "    df2021.drop(columns=[\"Regional indicator 2021\", \"Standard error of ladder score 2021\", \"upperwhisker 2021\", \n",
    "                         \"lowerwhisker 2021\",\"Social support 2021\",\"Healthy life expectancy 2021\", \"Freedom to make life choices 2021\", \n",
    "                         \"Generosity 2021\", \"Perceptions of corruption 2021\", \"Ladder score in Dystopia 2021\", \n",
    "                         \"Explained by: Social support 2021\", \"Explained by: Healthy life expectancy 2021\", \n",
    "                         \"Explained by: Perceptions of corruption 2021\", \"Dystopia + residual 2021\", \"Explained by: Generosity 2021\", \n",
    "                         \"Explained by: Freedom to make life choices 2021\",\"Logged GDP per capita 2021\"  ], axis=1, inplace=True)\n",
    "    \n",
    "    mask_Taiwan = df2021['Country'].str.contains('Taiwan', case=False)\n",
    "    df2021.loc[mask_Taiwan, 'Country'] = 'Taiwan'\n",
    "\n",
    "    mask_Congo = df2021['Country'].str.contains('Brazzaville', case=False)\n",
    "    df2021.loc[mask_Congo, 'Country'] = 'Republic of the Congo'\n",
    "\n",
    "    mask_HongKong = df2021['Country'].str.contains('Hong Kong', case=False)\n",
    "    df2021.loc[mask_HongKong, 'Country'] = 'Hong Kong'\n",
    "\n",
    "    mask_Macedonia = df2021['Country'].str.contains('Macedonia', case=False)\n",
    "    df2021.loc[mask_Macedonia, 'Country'] = 'Macedonia'\n",
    "    \n",
    "    df2021['Happiness Rank 2021'] = df2021['Happiness Score 2021'].rank(method='dense', ascending=False).astype(int)\n",
    "    \n",
    "    return df2021"
   ]
  },
  {
   "cell_type": "code",
   "execution_count": 17,
   "id": "69b8b405",
   "metadata": {},
   "outputs": [
    {
     "data": {
      "text/html": [
       "<div>\n",
       "<style scoped>\n",
       "    .dataframe tbody tr th:only-of-type {\n",
       "        vertical-align: middle;\n",
       "    }\n",
       "\n",
       "    .dataframe tbody tr th {\n",
       "        vertical-align: top;\n",
       "    }\n",
       "\n",
       "    .dataframe thead th {\n",
       "        text-align: right;\n",
       "    }\n",
       "</style>\n",
       "<table border=\"1\" class=\"dataframe\">\n",
       "  <thead>\n",
       "    <tr style=\"text-align: right;\">\n",
       "      <th></th>\n",
       "      <th>Country</th>\n",
       "      <th>Happiness Score 2021</th>\n",
       "      <th>GDP per Capita 2021</th>\n",
       "      <th>Happiness Rank 2021</th>\n",
       "    </tr>\n",
       "  </thead>\n",
       "  <tbody>\n",
       "    <tr>\n",
       "      <th>59</th>\n",
       "      <td>Croatia</td>\n",
       "      <td>5.882</td>\n",
       "      <td>1.251</td>\n",
       "      <td>59</td>\n",
       "    </tr>\n",
       "  </tbody>\n",
       "</table>\n",
       "</div>"
      ],
      "text/plain": [
       "    Country  Happiness Score 2021  GDP per Capita 2021  Happiness Rank 2021\n",
       "59  Croatia                 5.882                1.251                   59"
      ]
     },
     "execution_count": 17,
     "metadata": {},
     "output_type": "execute_result"
    }
   ],
   "source": [
    "df2021=cleaning_df2021(df2021)\n",
    "df2021.sample()"
   ]
  },
  {
   "cell_type": "code",
   "execution_count": 18,
   "id": "bdef13eb",
   "metadata": {},
   "outputs": [],
   "source": [
    "def merging(df,df1,df2,df3):\n",
    "    merged_df = pd.merge(df, df1, on='Country', how='outer')\n",
    "    merged_df2 = pd.merge(merged_df, df2, on='Country', how='outer')\n",
    "    merged_df3 = pd.merge(merged_df2, df3, on='Country', how='outer')\n",
    "    df=merged_df3\n",
    "    \n",
    "    return df"
   ]
  },
  {
   "cell_type": "code",
   "execution_count": 19,
   "id": "29f6b663",
   "metadata": {},
   "outputs": [
    {
     "data": {
      "text/html": [
       "<div>\n",
       "<style scoped>\n",
       "    .dataframe tbody tr th:only-of-type {\n",
       "        vertical-align: middle;\n",
       "    }\n",
       "\n",
       "    .dataframe tbody tr th {\n",
       "        vertical-align: top;\n",
       "    }\n",
       "\n",
       "    .dataframe thead th {\n",
       "        text-align: right;\n",
       "    }\n",
       "</style>\n",
       "<table border=\"1\" class=\"dataframe\">\n",
       "  <thead>\n",
       "    <tr style=\"text-align: right;\">\n",
       "      <th></th>\n",
       "      <th>Country</th>\n",
       "      <th>Happiness Rank 2015</th>\n",
       "      <th>Happiness Score 2015</th>\n",
       "      <th>GDP per Capita 2015</th>\n",
       "      <th>Average yearly temperature</th>\n",
       "      <th>Happiness Rank 2017</th>\n",
       "      <th>Happiness Score 2017</th>\n",
       "      <th>GDP per Capita 2017</th>\n",
       "      <th>Happiness Rank 2019</th>\n",
       "      <th>Happiness Score 2019</th>\n",
       "      <th>GDP per Capita 2019</th>\n",
       "      <th>Happiness Score 2021</th>\n",
       "      <th>GDP per Capita 2021</th>\n",
       "      <th>Happiness Rank 2021</th>\n",
       "    </tr>\n",
       "  </thead>\n",
       "  <tbody>\n",
       "    <tr>\n",
       "      <th>125</th>\n",
       "      <td>Djibouti</td>\n",
       "      <td>126.0</td>\n",
       "      <td>4.369</td>\n",
       "      <td>0.44025</td>\n",
       "      <td>28.00</td>\n",
       "      <td>NaN</td>\n",
       "      <td>NaN</td>\n",
       "      <td>NaN</td>\n",
       "      <td>NaN</td>\n",
       "      <td>NaN</td>\n",
       "      <td>NaN</td>\n",
       "      <td>NaN</td>\n",
       "      <td>NaN</td>\n",
       "      <td>NaN</td>\n",
       "    </tr>\n",
       "  </tbody>\n",
       "</table>\n",
       "</div>"
      ],
      "text/plain": [
       "      Country  Happiness Rank 2015  Happiness Score 2015  GDP per Capita 2015   \n",
       "125  Djibouti                126.0                 4.369              0.44025  \\\n",
       "\n",
       "    Average yearly temperature  Happiness Rank 2017  Happiness Score 2017   \n",
       "125                      28.00                  NaN                   NaN  \\\n",
       "\n",
       "     GDP per Capita 2017  Happiness Rank 2019  Happiness Score 2019   \n",
       "125                  NaN                  NaN                   NaN  \\\n",
       "\n",
       "     GDP per Capita 2019  Happiness Score 2021  GDP per Capita 2021   \n",
       "125                  NaN                   NaN                  NaN  \\\n",
       "\n",
       "     Happiness Rank 2021  \n",
       "125                  NaN  "
      ]
     },
     "execution_count": 19,
     "metadata": {},
     "output_type": "execute_result"
    }
   ],
   "source": [
    "df=merging(df,df2017,df2019,df2021)\n",
    "df.sample()"
   ]
  },
  {
   "cell_type": "code",
   "execution_count": 20,
   "id": "81b5e8fc",
   "metadata": {},
   "outputs": [],
   "source": [
    "def finaldf(df):\n",
    "    df_score=df[['Country', 'Happiness Score 2015', 'Happiness Score 2017', 'Happiness Score 2019', 'Happiness Score 2021']]\n",
    "    df_mean = df_score.loc[:, ['Happiness Score 2015', 'Happiness Score 2017', 'Happiness Score 2019', 'Happiness Score 2021']].mean(axis=1).round(2)\n",
    "    df_score[\"Mean Score\"]= df_mean\n",
    "    df = df.dropna(subset=[\"Happiness Score 2015\",\n",
    "                       \"Happiness Score 2017\",\"Happiness Score 2019\", \n",
    "                       \"Happiness Score 2021\"], how=\"all\")\n",
    "    \n",
    "    eliminated_rows=['North Cyprus','Oman', 'Suriname', 'Belize', 'South Sudan', 'Maldives', 'Djibouti' ]\n",
    "    for i in eliminated_rows:\n",
    "        df = df.drop(df.loc[df['Country'] == i].index)\n",
    "        \n",
    "    df.loc[df['Country'] == 'Taiwan', 'Average yearly temperature'] = 27.0\n",
    "    df.loc[df['Country'] == 'Kosovo', 'Average yearly temperature'] = 15.0\n",
    "    df.loc[df['Country'] == 'Palestinian Territories', 'Average yearly temperature'] = 20\n",
    "    \n",
    "    df['Mean Happiness Score'] = df[['Happiness Score 2015', 'Happiness Score 2017', 'Happiness Score 2019', \n",
    "                                     'Happiness Score 2021']].mean(axis=1).round(2)\n",
    "    \n",
    "    df['Mean GDP per Capita'] = df[['GDP per Capita 2015', 'GDP per Capita 2017', 'GDP per Capita 2019', \n",
    "                                    'GDP per Capita 2021']].mean(axis=1).round(2)\n",
    "    \n",
    "    df['Mean Rank'] = df['Mean Happiness Score'].rank(method='dense', ascending=False).astype(int)\n",
    "    df= df.sort_values(\"Mean Rank\", ascending=True)\n",
    "    df = df.reset_index(drop=True)\n",
    "    \n",
    "    return df"
   ]
  },
  {
   "cell_type": "code",
   "execution_count": 21,
   "id": "e80b94b1",
   "metadata": {},
   "outputs": [
    {
     "name": "stderr",
     "output_type": "stream",
     "text": [
      "C:\\Users\\pagob\\AppData\\Local\\Temp\\ipykernel_7768\\3629197916.py:4: SettingWithCopyWarning: \n",
      "A value is trying to be set on a copy of a slice from a DataFrame.\n",
      "Try using .loc[row_indexer,col_indexer] = value instead\n",
      "\n",
      "See the caveats in the documentation: https://pandas.pydata.org/pandas-docs/stable/user_guide/indexing.html#returning-a-view-versus-a-copy\n",
      "  df_score[\"Mean Score\"]= df_mean\n"
     ]
    },
    {
     "data": {
      "text/html": [
       "<div>\n",
       "<style scoped>\n",
       "    .dataframe tbody tr th:only-of-type {\n",
       "        vertical-align: middle;\n",
       "    }\n",
       "\n",
       "    .dataframe tbody tr th {\n",
       "        vertical-align: top;\n",
       "    }\n",
       "\n",
       "    .dataframe thead th {\n",
       "        text-align: right;\n",
       "    }\n",
       "</style>\n",
       "<table border=\"1\" class=\"dataframe\">\n",
       "  <thead>\n",
       "    <tr style=\"text-align: right;\">\n",
       "      <th></th>\n",
       "      <th>Country</th>\n",
       "      <th>Happiness Rank 2015</th>\n",
       "      <th>Happiness Score 2015</th>\n",
       "      <th>GDP per Capita 2015</th>\n",
       "      <th>Average yearly temperature</th>\n",
       "      <th>Happiness Rank 2017</th>\n",
       "      <th>Happiness Score 2017</th>\n",
       "      <th>GDP per Capita 2017</th>\n",
       "      <th>Happiness Rank 2019</th>\n",
       "      <th>Happiness Score 2019</th>\n",
       "      <th>GDP per Capita 2019</th>\n",
       "      <th>Happiness Score 2021</th>\n",
       "      <th>GDP per Capita 2021</th>\n",
       "      <th>Happiness Rank 2021</th>\n",
       "      <th>Mean Happiness Score</th>\n",
       "      <th>Mean GDP per Capita</th>\n",
       "      <th>Mean Rank</th>\n",
       "    </tr>\n",
       "  </thead>\n",
       "  <tbody>\n",
       "    <tr>\n",
       "      <th>82</th>\n",
       "      <td>Turkey</td>\n",
       "      <td>76.0</td>\n",
       "      <td>5.332</td>\n",
       "      <td>1.06098</td>\n",
       "      <td>09.90</td>\n",
       "      <td>69.0</td>\n",
       "      <td>5.5</td>\n",
       "      <td>1.198274</td>\n",
       "      <td>79.0</td>\n",
       "      <td>5.373</td>\n",
       "      <td>1.183</td>\n",
       "      <td>4.948</td>\n",
       "      <td>1.26</td>\n",
       "      <td>102.0</td>\n",
       "      <td>5.29</td>\n",
       "      <td>1.18</td>\n",
       "      <td>75</td>\n",
       "    </tr>\n",
       "  </tbody>\n",
       "</table>\n",
       "</div>"
      ],
      "text/plain": [
       "   Country  Happiness Rank 2015  Happiness Score 2015  GDP per Capita 2015   \n",
       "82  Turkey                 76.0                 5.332              1.06098  \\\n",
       "\n",
       "   Average yearly temperature  Happiness Rank 2017  Happiness Score 2017   \n",
       "82                      09.90                 69.0                   5.5  \\\n",
       "\n",
       "    GDP per Capita 2017  Happiness Rank 2019  Happiness Score 2019   \n",
       "82             1.198274                 79.0                 5.373  \\\n",
       "\n",
       "    GDP per Capita 2019  Happiness Score 2021  GDP per Capita 2021   \n",
       "82                1.183                 4.948                 1.26  \\\n",
       "\n",
       "    Happiness Rank 2021  Mean Happiness Score  Mean GDP per Capita  Mean Rank  \n",
       "82                102.0                  5.29                 1.18         75  "
      ]
     },
     "execution_count": 21,
     "metadata": {},
     "output_type": "execute_result"
    }
   ],
   "source": [
    "df= finaldf(df)\n",
    "df.sample()"
   ]
  },
  {
   "cell_type": "code",
   "execution_count": 22,
   "id": "3170ccd8",
   "metadata": {},
   "outputs": [],
   "source": [
    "import plotly.graph_objects as go\n",
    "import plotly.offline as opy\n",
    "import plotly.express as px"
   ]
  },
  {
   "cell_type": "code",
   "execution_count": 29,
   "id": "2db473bc",
   "metadata": {},
   "outputs": [],
   "source": [
    "def happiness_temperature(df):\n",
    "    fig = px.line(df, x=\"Mean Rank\", y=\"Average yearly temperature\")\n",
    "    fig.show()  "
   ]
  },
  {
   "cell_type": "code",
   "execution_count": 30,
   "id": "704610d7",
   "metadata": {},
   "outputs": [
    {
     "data": {
      "application/vnd.plotly.v1+json": {
       "config": {
        "plotlyServerURL": "https://plot.ly"
       },
       "data": [
        {
         "hovertemplate": "Mean Rank=%{x}<br>Average yearly temperature=%{y}<extra></extra>",
         "legendgroup": "",
         "line": {
          "color": "#636efa",
          "dash": "solid"
         },
         "marker": {
          "symbol": "circle"
         },
         "mode": "lines",
         "name": "",
         "orientation": "h",
         "showlegend": false,
         "type": "scatter",
         "x": [
          1,
          2,
          3,
          3,
          4,
          5,
          6,
          7,
          8,
          9,
          10,
          11,
          12,
          13,
          14,
          15,
          16,
          17,
          18,
          19,
          19,
          20,
          21,
          22,
          23,
          24,
          25,
          26,
          27,
          28,
          29,
          30,
          31,
          32,
          33,
          34,
          35,
          35,
          36,
          37,
          38,
          39,
          40,
          41,
          42,
          43,
          43,
          44,
          45,
          46,
          47,
          48,
          49,
          49,
          50,
          51,
          51,
          52,
          53,
          54,
          55,
          55,
          56,
          57,
          58,
          59,
          60,
          61,
          62,
          62,
          63,
          64,
          65,
          66,
          67,
          68,
          69,
          70,
          71,
          72,
          73,
          74,
          75,
          76,
          76,
          77,
          78,
          79,
          80,
          81,
          82,
          83,
          84,
          85,
          85,
          86,
          86,
          86,
          87,
          88,
          89,
          90,
          91,
          92,
          93,
          94,
          94,
          95,
          96,
          96,
          97,
          98,
          99,
          100,
          101,
          102,
          103,
          104,
          104,
          104,
          105,
          105,
          105,
          106,
          107,
          108,
          109,
          109,
          110,
          110,
          111,
          111,
          112,
          113,
          114,
          114,
          115,
          116,
          117,
          117,
          118,
          119,
          120,
          121,
          122,
          123,
          124,
          125,
          126,
          127,
          127,
          128,
          129,
          130,
          131,
          132,
          133,
          134,
          135,
          136
         ],
         "xaxis": "x",
         "y": [
          "01.55",
          null,
          "05.10",
          "−0.70",
          null,
          "09.25",
          "01.75",
          "10.55",
          "−5.10",
          "21.65",
          "19.20",
          "06.35",
          "24.80",
          "08.65",
          "09.30",
          "08.55",
          "08.40",
          "08.45",
          "09.55",
          "07.55",
          "26.65",
          "21.00",
          "10.70",
          "24.95",
          "19.20",
          "26.45",
          "08.45",
          "27.15",
          27,
          "25.40",
          "17.55",
          "24.65",
          "13.30",
          "23.45",
          "14.80",
          "24.50",
          "26.30",
          "26.80",
          "25.75",
          "06.80",
          "13.45",
          "27.15",
          "24.45",
          "12.05",
          "08.90",
          "07.85",
          "06.20",
          "24.90",
          "21.85",
          "11.15",
          "05.50",
          "18.45",
          "11.50",
          "18.45",
          15,
          "21.55",
          "24.95",
          "08.80",
          "02.00",
          "19.60",
          "22.40",
          "09.45",
          "05.60",
          "−5.35",
          "23.55",
          "25.40",
          "10.90",
          "06.15",
          "10.55",
          "21.80",
          "25.55",
          "15.15",
          "09.75",
          "21.45",
          "23.50",
          "15.10",
          "25.35",
          "22.50",
          "10.55",
          "09.85",
          "02.10",
          "25.85",
          "09.90",
          "15.40",
          "24.55",
          "20.20",
          "24.45",
          "07.50",
          "11.95",
          "01.70",
          "06.40",
          null,
          "07.40",
          "27.00",
          "17.10",
          "15.00",
          "18.30",
          "27.05",
          "08.10",
          "22.80",
          "21.40",
          "11.40",
          "24.55",
          "10.55",
          "17.75",
          "27.50",
          "24.60",
          "27.20",
          "23.80",
          "25.00",
          20,
          "17.25",
          "19.20",
          "07.15",
          "21.40",
          "19.95",
          "27.85",
          "26.35",
          null,
          "24.75",
          "05.65",
          "25.05",
          "08.30",
          "21.40",
          "13.05",
          "27.15",
          "22.20",
          "26.80",
          "26.05",
          "27.65",
          "24.00",
          "26.95",
          "22.10",
          "28.25",
          "28.29",
          null,
          "27.55",
          "22.80",
          "25.30",
          "23.65",
          "25.70",
          "26.55",
          "25.30",
          "11.85",
          null,
          "21.55",
          "22.65",
          "26.90",
          "24.90",
          "21.90",
          "21.00",
          "21.50",
          "23.85",
          "27.15",
          "22.35",
          "17.85",
          "19.80",
          "17.75",
          "12.60",
          "24.90"
         ],
         "yaxis": "y"
        }
       ],
       "layout": {
        "legend": {
         "tracegroupgap": 0
        },
        "margin": {
         "t": 60
        },
        "template": {
         "data": {
          "bar": [
           {
            "error_x": {
             "color": "#2a3f5f"
            },
            "error_y": {
             "color": "#2a3f5f"
            },
            "marker": {
             "line": {
              "color": "#E5ECF6",
              "width": 0.5
             },
             "pattern": {
              "fillmode": "overlay",
              "size": 10,
              "solidity": 0.2
             }
            },
            "type": "bar"
           }
          ],
          "barpolar": [
           {
            "marker": {
             "line": {
              "color": "#E5ECF6",
              "width": 0.5
             },
             "pattern": {
              "fillmode": "overlay",
              "size": 10,
              "solidity": 0.2
             }
            },
            "type": "barpolar"
           }
          ],
          "carpet": [
           {
            "aaxis": {
             "endlinecolor": "#2a3f5f",
             "gridcolor": "white",
             "linecolor": "white",
             "minorgridcolor": "white",
             "startlinecolor": "#2a3f5f"
            },
            "baxis": {
             "endlinecolor": "#2a3f5f",
             "gridcolor": "white",
             "linecolor": "white",
             "minorgridcolor": "white",
             "startlinecolor": "#2a3f5f"
            },
            "type": "carpet"
           }
          ],
          "choropleth": [
           {
            "colorbar": {
             "outlinewidth": 0,
             "ticks": ""
            },
            "type": "choropleth"
           }
          ],
          "contour": [
           {
            "colorbar": {
             "outlinewidth": 0,
             "ticks": ""
            },
            "colorscale": [
             [
              0,
              "#0d0887"
             ],
             [
              0.1111111111111111,
              "#46039f"
             ],
             [
              0.2222222222222222,
              "#7201a8"
             ],
             [
              0.3333333333333333,
              "#9c179e"
             ],
             [
              0.4444444444444444,
              "#bd3786"
             ],
             [
              0.5555555555555556,
              "#d8576b"
             ],
             [
              0.6666666666666666,
              "#ed7953"
             ],
             [
              0.7777777777777778,
              "#fb9f3a"
             ],
             [
              0.8888888888888888,
              "#fdca26"
             ],
             [
              1,
              "#f0f921"
             ]
            ],
            "type": "contour"
           }
          ],
          "contourcarpet": [
           {
            "colorbar": {
             "outlinewidth": 0,
             "ticks": ""
            },
            "type": "contourcarpet"
           }
          ],
          "heatmap": [
           {
            "colorbar": {
             "outlinewidth": 0,
             "ticks": ""
            },
            "colorscale": [
             [
              0,
              "#0d0887"
             ],
             [
              0.1111111111111111,
              "#46039f"
             ],
             [
              0.2222222222222222,
              "#7201a8"
             ],
             [
              0.3333333333333333,
              "#9c179e"
             ],
             [
              0.4444444444444444,
              "#bd3786"
             ],
             [
              0.5555555555555556,
              "#d8576b"
             ],
             [
              0.6666666666666666,
              "#ed7953"
             ],
             [
              0.7777777777777778,
              "#fb9f3a"
             ],
             [
              0.8888888888888888,
              "#fdca26"
             ],
             [
              1,
              "#f0f921"
             ]
            ],
            "type": "heatmap"
           }
          ],
          "heatmapgl": [
           {
            "colorbar": {
             "outlinewidth": 0,
             "ticks": ""
            },
            "colorscale": [
             [
              0,
              "#0d0887"
             ],
             [
              0.1111111111111111,
              "#46039f"
             ],
             [
              0.2222222222222222,
              "#7201a8"
             ],
             [
              0.3333333333333333,
              "#9c179e"
             ],
             [
              0.4444444444444444,
              "#bd3786"
             ],
             [
              0.5555555555555556,
              "#d8576b"
             ],
             [
              0.6666666666666666,
              "#ed7953"
             ],
             [
              0.7777777777777778,
              "#fb9f3a"
             ],
             [
              0.8888888888888888,
              "#fdca26"
             ],
             [
              1,
              "#f0f921"
             ]
            ],
            "type": "heatmapgl"
           }
          ],
          "histogram": [
           {
            "marker": {
             "pattern": {
              "fillmode": "overlay",
              "size": 10,
              "solidity": 0.2
             }
            },
            "type": "histogram"
           }
          ],
          "histogram2d": [
           {
            "colorbar": {
             "outlinewidth": 0,
             "ticks": ""
            },
            "colorscale": [
             [
              0,
              "#0d0887"
             ],
             [
              0.1111111111111111,
              "#46039f"
             ],
             [
              0.2222222222222222,
              "#7201a8"
             ],
             [
              0.3333333333333333,
              "#9c179e"
             ],
             [
              0.4444444444444444,
              "#bd3786"
             ],
             [
              0.5555555555555556,
              "#d8576b"
             ],
             [
              0.6666666666666666,
              "#ed7953"
             ],
             [
              0.7777777777777778,
              "#fb9f3a"
             ],
             [
              0.8888888888888888,
              "#fdca26"
             ],
             [
              1,
              "#f0f921"
             ]
            ],
            "type": "histogram2d"
           }
          ],
          "histogram2dcontour": [
           {
            "colorbar": {
             "outlinewidth": 0,
             "ticks": ""
            },
            "colorscale": [
             [
              0,
              "#0d0887"
             ],
             [
              0.1111111111111111,
              "#46039f"
             ],
             [
              0.2222222222222222,
              "#7201a8"
             ],
             [
              0.3333333333333333,
              "#9c179e"
             ],
             [
              0.4444444444444444,
              "#bd3786"
             ],
             [
              0.5555555555555556,
              "#d8576b"
             ],
             [
              0.6666666666666666,
              "#ed7953"
             ],
             [
              0.7777777777777778,
              "#fb9f3a"
             ],
             [
              0.8888888888888888,
              "#fdca26"
             ],
             [
              1,
              "#f0f921"
             ]
            ],
            "type": "histogram2dcontour"
           }
          ],
          "mesh3d": [
           {
            "colorbar": {
             "outlinewidth": 0,
             "ticks": ""
            },
            "type": "mesh3d"
           }
          ],
          "parcoords": [
           {
            "line": {
             "colorbar": {
              "outlinewidth": 0,
              "ticks": ""
             }
            },
            "type": "parcoords"
           }
          ],
          "pie": [
           {
            "automargin": true,
            "type": "pie"
           }
          ],
          "scatter": [
           {
            "fillpattern": {
             "fillmode": "overlay",
             "size": 10,
             "solidity": 0.2
            },
            "type": "scatter"
           }
          ],
          "scatter3d": [
           {
            "line": {
             "colorbar": {
              "outlinewidth": 0,
              "ticks": ""
             }
            },
            "marker": {
             "colorbar": {
              "outlinewidth": 0,
              "ticks": ""
             }
            },
            "type": "scatter3d"
           }
          ],
          "scattercarpet": [
           {
            "marker": {
             "colorbar": {
              "outlinewidth": 0,
              "ticks": ""
             }
            },
            "type": "scattercarpet"
           }
          ],
          "scattergeo": [
           {
            "marker": {
             "colorbar": {
              "outlinewidth": 0,
              "ticks": ""
             }
            },
            "type": "scattergeo"
           }
          ],
          "scattergl": [
           {
            "marker": {
             "colorbar": {
              "outlinewidth": 0,
              "ticks": ""
             }
            },
            "type": "scattergl"
           }
          ],
          "scattermapbox": [
           {
            "marker": {
             "colorbar": {
              "outlinewidth": 0,
              "ticks": ""
             }
            },
            "type": "scattermapbox"
           }
          ],
          "scatterpolar": [
           {
            "marker": {
             "colorbar": {
              "outlinewidth": 0,
              "ticks": ""
             }
            },
            "type": "scatterpolar"
           }
          ],
          "scatterpolargl": [
           {
            "marker": {
             "colorbar": {
              "outlinewidth": 0,
              "ticks": ""
             }
            },
            "type": "scatterpolargl"
           }
          ],
          "scatterternary": [
           {
            "marker": {
             "colorbar": {
              "outlinewidth": 0,
              "ticks": ""
             }
            },
            "type": "scatterternary"
           }
          ],
          "surface": [
           {
            "colorbar": {
             "outlinewidth": 0,
             "ticks": ""
            },
            "colorscale": [
             [
              0,
              "#0d0887"
             ],
             [
              0.1111111111111111,
              "#46039f"
             ],
             [
              0.2222222222222222,
              "#7201a8"
             ],
             [
              0.3333333333333333,
              "#9c179e"
             ],
             [
              0.4444444444444444,
              "#bd3786"
             ],
             [
              0.5555555555555556,
              "#d8576b"
             ],
             [
              0.6666666666666666,
              "#ed7953"
             ],
             [
              0.7777777777777778,
              "#fb9f3a"
             ],
             [
              0.8888888888888888,
              "#fdca26"
             ],
             [
              1,
              "#f0f921"
             ]
            ],
            "type": "surface"
           }
          ],
          "table": [
           {
            "cells": {
             "fill": {
              "color": "#EBF0F8"
             },
             "line": {
              "color": "white"
             }
            },
            "header": {
             "fill": {
              "color": "#C8D4E3"
             },
             "line": {
              "color": "white"
             }
            },
            "type": "table"
           }
          ]
         },
         "layout": {
          "annotationdefaults": {
           "arrowcolor": "#2a3f5f",
           "arrowhead": 0,
           "arrowwidth": 1
          },
          "autotypenumbers": "strict",
          "coloraxis": {
           "colorbar": {
            "outlinewidth": 0,
            "ticks": ""
           }
          },
          "colorscale": {
           "diverging": [
            [
             0,
             "#8e0152"
            ],
            [
             0.1,
             "#c51b7d"
            ],
            [
             0.2,
             "#de77ae"
            ],
            [
             0.3,
             "#f1b6da"
            ],
            [
             0.4,
             "#fde0ef"
            ],
            [
             0.5,
             "#f7f7f7"
            ],
            [
             0.6,
             "#e6f5d0"
            ],
            [
             0.7,
             "#b8e186"
            ],
            [
             0.8,
             "#7fbc41"
            ],
            [
             0.9,
             "#4d9221"
            ],
            [
             1,
             "#276419"
            ]
           ],
           "sequential": [
            [
             0,
             "#0d0887"
            ],
            [
             0.1111111111111111,
             "#46039f"
            ],
            [
             0.2222222222222222,
             "#7201a8"
            ],
            [
             0.3333333333333333,
             "#9c179e"
            ],
            [
             0.4444444444444444,
             "#bd3786"
            ],
            [
             0.5555555555555556,
             "#d8576b"
            ],
            [
             0.6666666666666666,
             "#ed7953"
            ],
            [
             0.7777777777777778,
             "#fb9f3a"
            ],
            [
             0.8888888888888888,
             "#fdca26"
            ],
            [
             1,
             "#f0f921"
            ]
           ],
           "sequentialminus": [
            [
             0,
             "#0d0887"
            ],
            [
             0.1111111111111111,
             "#46039f"
            ],
            [
             0.2222222222222222,
             "#7201a8"
            ],
            [
             0.3333333333333333,
             "#9c179e"
            ],
            [
             0.4444444444444444,
             "#bd3786"
            ],
            [
             0.5555555555555556,
             "#d8576b"
            ],
            [
             0.6666666666666666,
             "#ed7953"
            ],
            [
             0.7777777777777778,
             "#fb9f3a"
            ],
            [
             0.8888888888888888,
             "#fdca26"
            ],
            [
             1,
             "#f0f921"
            ]
           ]
          },
          "colorway": [
           "#636efa",
           "#EF553B",
           "#00cc96",
           "#ab63fa",
           "#FFA15A",
           "#19d3f3",
           "#FF6692",
           "#B6E880",
           "#FF97FF",
           "#FECB52"
          ],
          "font": {
           "color": "#2a3f5f"
          },
          "geo": {
           "bgcolor": "white",
           "lakecolor": "white",
           "landcolor": "#E5ECF6",
           "showlakes": true,
           "showland": true,
           "subunitcolor": "white"
          },
          "hoverlabel": {
           "align": "left"
          },
          "hovermode": "closest",
          "mapbox": {
           "style": "light"
          },
          "paper_bgcolor": "white",
          "plot_bgcolor": "#E5ECF6",
          "polar": {
           "angularaxis": {
            "gridcolor": "white",
            "linecolor": "white",
            "ticks": ""
           },
           "bgcolor": "#E5ECF6",
           "radialaxis": {
            "gridcolor": "white",
            "linecolor": "white",
            "ticks": ""
           }
          },
          "scene": {
           "xaxis": {
            "backgroundcolor": "#E5ECF6",
            "gridcolor": "white",
            "gridwidth": 2,
            "linecolor": "white",
            "showbackground": true,
            "ticks": "",
            "zerolinecolor": "white"
           },
           "yaxis": {
            "backgroundcolor": "#E5ECF6",
            "gridcolor": "white",
            "gridwidth": 2,
            "linecolor": "white",
            "showbackground": true,
            "ticks": "",
            "zerolinecolor": "white"
           },
           "zaxis": {
            "backgroundcolor": "#E5ECF6",
            "gridcolor": "white",
            "gridwidth": 2,
            "linecolor": "white",
            "showbackground": true,
            "ticks": "",
            "zerolinecolor": "white"
           }
          },
          "shapedefaults": {
           "line": {
            "color": "#2a3f5f"
           }
          },
          "ternary": {
           "aaxis": {
            "gridcolor": "white",
            "linecolor": "white",
            "ticks": ""
           },
           "baxis": {
            "gridcolor": "white",
            "linecolor": "white",
            "ticks": ""
           },
           "bgcolor": "#E5ECF6",
           "caxis": {
            "gridcolor": "white",
            "linecolor": "white",
            "ticks": ""
           }
          },
          "title": {
           "x": 0.05
          },
          "xaxis": {
           "automargin": true,
           "gridcolor": "white",
           "linecolor": "white",
           "ticks": "",
           "title": {
            "standoff": 15
           },
           "zerolinecolor": "white",
           "zerolinewidth": 2
          },
          "yaxis": {
           "automargin": true,
           "gridcolor": "white",
           "linecolor": "white",
           "ticks": "",
           "title": {
            "standoff": 15
           },
           "zerolinecolor": "white",
           "zerolinewidth": 2
          }
         }
        },
        "xaxis": {
         "anchor": "y",
         "domain": [
          0,
          1
         ],
         "title": {
          "text": "Mean Rank"
         }
        },
        "yaxis": {
         "anchor": "x",
         "domain": [
          0,
          1
         ],
         "title": {
          "text": "Average yearly temperature"
         }
        }
       }
      },
      "text/html": [
       "<div>                            <div id=\"5e5b2496-877c-4d99-a2f8-7c52833c938e\" class=\"plotly-graph-div\" style=\"height:525px; width:100%;\"></div>            <script type=\"text/javascript\">                require([\"plotly\"], function(Plotly) {                    window.PLOTLYENV=window.PLOTLYENV || {};                                    if (document.getElementById(\"5e5b2496-877c-4d99-a2f8-7c52833c938e\")) {                    Plotly.newPlot(                        \"5e5b2496-877c-4d99-a2f8-7c52833c938e\",                        [{\"hovertemplate\":\"Mean Rank=%{x}<br>Average yearly temperature=%{y}<extra></extra>\",\"legendgroup\":\"\",\"line\":{\"color\":\"#636efa\",\"dash\":\"solid\"},\"marker\":{\"symbol\":\"circle\"},\"mode\":\"lines\",\"name\":\"\",\"orientation\":\"h\",\"showlegend\":false,\"x\":[1,2,3,3,4,5,6,7,8,9,10,11,12,13,14,15,16,17,18,19,19,20,21,22,23,24,25,26,27,28,29,30,31,32,33,34,35,35,36,37,38,39,40,41,42,43,43,44,45,46,47,48,49,49,50,51,51,52,53,54,55,55,56,57,58,59,60,61,62,62,63,64,65,66,67,68,69,70,71,72,73,74,75,76,76,77,78,79,80,81,82,83,84,85,85,86,86,86,87,88,89,90,91,92,93,94,94,95,96,96,97,98,99,100,101,102,103,104,104,104,105,105,105,106,107,108,109,109,110,110,111,111,112,113,114,114,115,116,117,117,118,119,120,121,122,123,124,125,126,127,127,128,129,130,131,132,133,134,135,136],\"xaxis\":\"x\",\"y\":[\"01.55\",null,\"05.10\",\"\\u22120.70\",null,\"09.25\",\"01.75\",\"10.55\",\"\\u22125.10\",\"21.65\",\"19.20\",\"06.35\",\"24.80\",\"08.65\",\"09.30\",\"08.55\",\"08.40\",\"08.45\",\"09.55\",\"07.55\",\"26.65\",\"21.00\",\"10.70\",\"24.95\",\"19.20\",\"26.45\",\"08.45\",\"27.15\",27.0,\"25.40\",\"17.55\",\"24.65\",\"13.30\",\"23.45\",\"14.80\",\"24.50\",\"26.30\",\"26.80\",\"25.75\",\"06.80\",\"13.45\",\"27.15\",\"24.45\",\"12.05\",\"08.90\",\"07.85\",\"06.20\",\"24.90\",\"21.85\",\"11.15\",\"05.50\",\"18.45\",\"11.50\",\"18.45\",15.0,\"21.55\",\"24.95\",\"08.80\",\"02.00\",\"19.60\",\"22.40\",\"09.45\",\"05.60\",\"\\u22125.35\",\"23.55\",\"25.40\",\"10.90\",\"06.15\",\"10.55\",\"21.80\",\"25.55\",\"15.15\",\"09.75\",\"21.45\",\"23.50\",\"15.10\",\"25.35\",\"22.50\",\"10.55\",\"09.85\",\"02.10\",\"25.85\",\"09.90\",\"15.40\",\"24.55\",\"20.20\",\"24.45\",\"07.50\",\"11.95\",\"01.70\",\"06.40\",null,\"07.40\",\"27.00\",\"17.10\",\"15.00\",\"18.30\",\"27.05\",\"08.10\",\"22.80\",\"21.40\",\"11.40\",\"24.55\",\"10.55\",\"17.75\",\"27.50\",\"24.60\",\"27.20\",\"23.80\",\"25.00\",20,\"17.25\",\"19.20\",\"07.15\",\"21.40\",\"19.95\",\"27.85\",\"26.35\",null,\"24.75\",\"05.65\",\"25.05\",\"08.30\",\"21.40\",\"13.05\",\"27.15\",\"22.20\",\"26.80\",\"26.05\",\"27.65\",\"24.00\",\"26.95\",\"22.10\",\"28.25\",\"28.29\",null,\"27.55\",\"22.80\",\"25.30\",\"23.65\",\"25.70\",\"26.55\",\"25.30\",\"11.85\",null,\"21.55\",\"22.65\",\"26.90\",\"24.90\",\"21.90\",\"21.00\",\"21.50\",\"23.85\",\"27.15\",\"22.35\",\"17.85\",\"19.80\",\"17.75\",\"12.60\",\"24.90\"],\"yaxis\":\"y\",\"type\":\"scatter\"}],                        {\"template\":{\"data\":{\"histogram2dcontour\":[{\"type\":\"histogram2dcontour\",\"colorbar\":{\"outlinewidth\":0,\"ticks\":\"\"},\"colorscale\":[[0.0,\"#0d0887\"],[0.1111111111111111,\"#46039f\"],[0.2222222222222222,\"#7201a8\"],[0.3333333333333333,\"#9c179e\"],[0.4444444444444444,\"#bd3786\"],[0.5555555555555556,\"#d8576b\"],[0.6666666666666666,\"#ed7953\"],[0.7777777777777778,\"#fb9f3a\"],[0.8888888888888888,\"#fdca26\"],[1.0,\"#f0f921\"]]}],\"choropleth\":[{\"type\":\"choropleth\",\"colorbar\":{\"outlinewidth\":0,\"ticks\":\"\"}}],\"histogram2d\":[{\"type\":\"histogram2d\",\"colorbar\":{\"outlinewidth\":0,\"ticks\":\"\"},\"colorscale\":[[0.0,\"#0d0887\"],[0.1111111111111111,\"#46039f\"],[0.2222222222222222,\"#7201a8\"],[0.3333333333333333,\"#9c179e\"],[0.4444444444444444,\"#bd3786\"],[0.5555555555555556,\"#d8576b\"],[0.6666666666666666,\"#ed7953\"],[0.7777777777777778,\"#fb9f3a\"],[0.8888888888888888,\"#fdca26\"],[1.0,\"#f0f921\"]]}],\"heatmap\":[{\"type\":\"heatmap\",\"colorbar\":{\"outlinewidth\":0,\"ticks\":\"\"},\"colorscale\":[[0.0,\"#0d0887\"],[0.1111111111111111,\"#46039f\"],[0.2222222222222222,\"#7201a8\"],[0.3333333333333333,\"#9c179e\"],[0.4444444444444444,\"#bd3786\"],[0.5555555555555556,\"#d8576b\"],[0.6666666666666666,\"#ed7953\"],[0.7777777777777778,\"#fb9f3a\"],[0.8888888888888888,\"#fdca26\"],[1.0,\"#f0f921\"]]}],\"heatmapgl\":[{\"type\":\"heatmapgl\",\"colorbar\":{\"outlinewidth\":0,\"ticks\":\"\"},\"colorscale\":[[0.0,\"#0d0887\"],[0.1111111111111111,\"#46039f\"],[0.2222222222222222,\"#7201a8\"],[0.3333333333333333,\"#9c179e\"],[0.4444444444444444,\"#bd3786\"],[0.5555555555555556,\"#d8576b\"],[0.6666666666666666,\"#ed7953\"],[0.7777777777777778,\"#fb9f3a\"],[0.8888888888888888,\"#fdca26\"],[1.0,\"#f0f921\"]]}],\"contourcarpet\":[{\"type\":\"contourcarpet\",\"colorbar\":{\"outlinewidth\":0,\"ticks\":\"\"}}],\"contour\":[{\"type\":\"contour\",\"colorbar\":{\"outlinewidth\":0,\"ticks\":\"\"},\"colorscale\":[[0.0,\"#0d0887\"],[0.1111111111111111,\"#46039f\"],[0.2222222222222222,\"#7201a8\"],[0.3333333333333333,\"#9c179e\"],[0.4444444444444444,\"#bd3786\"],[0.5555555555555556,\"#d8576b\"],[0.6666666666666666,\"#ed7953\"],[0.7777777777777778,\"#fb9f3a\"],[0.8888888888888888,\"#fdca26\"],[1.0,\"#f0f921\"]]}],\"surface\":[{\"type\":\"surface\",\"colorbar\":{\"outlinewidth\":0,\"ticks\":\"\"},\"colorscale\":[[0.0,\"#0d0887\"],[0.1111111111111111,\"#46039f\"],[0.2222222222222222,\"#7201a8\"],[0.3333333333333333,\"#9c179e\"],[0.4444444444444444,\"#bd3786\"],[0.5555555555555556,\"#d8576b\"],[0.6666666666666666,\"#ed7953\"],[0.7777777777777778,\"#fb9f3a\"],[0.8888888888888888,\"#fdca26\"],[1.0,\"#f0f921\"]]}],\"mesh3d\":[{\"type\":\"mesh3d\",\"colorbar\":{\"outlinewidth\":0,\"ticks\":\"\"}}],\"scatter\":[{\"fillpattern\":{\"fillmode\":\"overlay\",\"size\":10,\"solidity\":0.2},\"type\":\"scatter\"}],\"parcoords\":[{\"type\":\"parcoords\",\"line\":{\"colorbar\":{\"outlinewidth\":0,\"ticks\":\"\"}}}],\"scatterpolargl\":[{\"type\":\"scatterpolargl\",\"marker\":{\"colorbar\":{\"outlinewidth\":0,\"ticks\":\"\"}}}],\"bar\":[{\"error_x\":{\"color\":\"#2a3f5f\"},\"error_y\":{\"color\":\"#2a3f5f\"},\"marker\":{\"line\":{\"color\":\"#E5ECF6\",\"width\":0.5},\"pattern\":{\"fillmode\":\"overlay\",\"size\":10,\"solidity\":0.2}},\"type\":\"bar\"}],\"scattergeo\":[{\"type\":\"scattergeo\",\"marker\":{\"colorbar\":{\"outlinewidth\":0,\"ticks\":\"\"}}}],\"scatterpolar\":[{\"type\":\"scatterpolar\",\"marker\":{\"colorbar\":{\"outlinewidth\":0,\"ticks\":\"\"}}}],\"histogram\":[{\"marker\":{\"pattern\":{\"fillmode\":\"overlay\",\"size\":10,\"solidity\":0.2}},\"type\":\"histogram\"}],\"scattergl\":[{\"type\":\"scattergl\",\"marker\":{\"colorbar\":{\"outlinewidth\":0,\"ticks\":\"\"}}}],\"scatter3d\":[{\"type\":\"scatter3d\",\"line\":{\"colorbar\":{\"outlinewidth\":0,\"ticks\":\"\"}},\"marker\":{\"colorbar\":{\"outlinewidth\":0,\"ticks\":\"\"}}}],\"scattermapbox\":[{\"type\":\"scattermapbox\",\"marker\":{\"colorbar\":{\"outlinewidth\":0,\"ticks\":\"\"}}}],\"scatterternary\":[{\"type\":\"scatterternary\",\"marker\":{\"colorbar\":{\"outlinewidth\":0,\"ticks\":\"\"}}}],\"scattercarpet\":[{\"type\":\"scattercarpet\",\"marker\":{\"colorbar\":{\"outlinewidth\":0,\"ticks\":\"\"}}}],\"carpet\":[{\"aaxis\":{\"endlinecolor\":\"#2a3f5f\",\"gridcolor\":\"white\",\"linecolor\":\"white\",\"minorgridcolor\":\"white\",\"startlinecolor\":\"#2a3f5f\"},\"baxis\":{\"endlinecolor\":\"#2a3f5f\",\"gridcolor\":\"white\",\"linecolor\":\"white\",\"minorgridcolor\":\"white\",\"startlinecolor\":\"#2a3f5f\"},\"type\":\"carpet\"}],\"table\":[{\"cells\":{\"fill\":{\"color\":\"#EBF0F8\"},\"line\":{\"color\":\"white\"}},\"header\":{\"fill\":{\"color\":\"#C8D4E3\"},\"line\":{\"color\":\"white\"}},\"type\":\"table\"}],\"barpolar\":[{\"marker\":{\"line\":{\"color\":\"#E5ECF6\",\"width\":0.5},\"pattern\":{\"fillmode\":\"overlay\",\"size\":10,\"solidity\":0.2}},\"type\":\"barpolar\"}],\"pie\":[{\"automargin\":true,\"type\":\"pie\"}]},\"layout\":{\"autotypenumbers\":\"strict\",\"colorway\":[\"#636efa\",\"#EF553B\",\"#00cc96\",\"#ab63fa\",\"#FFA15A\",\"#19d3f3\",\"#FF6692\",\"#B6E880\",\"#FF97FF\",\"#FECB52\"],\"font\":{\"color\":\"#2a3f5f\"},\"hovermode\":\"closest\",\"hoverlabel\":{\"align\":\"left\"},\"paper_bgcolor\":\"white\",\"plot_bgcolor\":\"#E5ECF6\",\"polar\":{\"bgcolor\":\"#E5ECF6\",\"angularaxis\":{\"gridcolor\":\"white\",\"linecolor\":\"white\",\"ticks\":\"\"},\"radialaxis\":{\"gridcolor\":\"white\",\"linecolor\":\"white\",\"ticks\":\"\"}},\"ternary\":{\"bgcolor\":\"#E5ECF6\",\"aaxis\":{\"gridcolor\":\"white\",\"linecolor\":\"white\",\"ticks\":\"\"},\"baxis\":{\"gridcolor\":\"white\",\"linecolor\":\"white\",\"ticks\":\"\"},\"caxis\":{\"gridcolor\":\"white\",\"linecolor\":\"white\",\"ticks\":\"\"}},\"coloraxis\":{\"colorbar\":{\"outlinewidth\":0,\"ticks\":\"\"}},\"colorscale\":{\"sequential\":[[0.0,\"#0d0887\"],[0.1111111111111111,\"#46039f\"],[0.2222222222222222,\"#7201a8\"],[0.3333333333333333,\"#9c179e\"],[0.4444444444444444,\"#bd3786\"],[0.5555555555555556,\"#d8576b\"],[0.6666666666666666,\"#ed7953\"],[0.7777777777777778,\"#fb9f3a\"],[0.8888888888888888,\"#fdca26\"],[1.0,\"#f0f921\"]],\"sequentialminus\":[[0.0,\"#0d0887\"],[0.1111111111111111,\"#46039f\"],[0.2222222222222222,\"#7201a8\"],[0.3333333333333333,\"#9c179e\"],[0.4444444444444444,\"#bd3786\"],[0.5555555555555556,\"#d8576b\"],[0.6666666666666666,\"#ed7953\"],[0.7777777777777778,\"#fb9f3a\"],[0.8888888888888888,\"#fdca26\"],[1.0,\"#f0f921\"]],\"diverging\":[[0,\"#8e0152\"],[0.1,\"#c51b7d\"],[0.2,\"#de77ae\"],[0.3,\"#f1b6da\"],[0.4,\"#fde0ef\"],[0.5,\"#f7f7f7\"],[0.6,\"#e6f5d0\"],[0.7,\"#b8e186\"],[0.8,\"#7fbc41\"],[0.9,\"#4d9221\"],[1,\"#276419\"]]},\"xaxis\":{\"gridcolor\":\"white\",\"linecolor\":\"white\",\"ticks\":\"\",\"title\":{\"standoff\":15},\"zerolinecolor\":\"white\",\"automargin\":true,\"zerolinewidth\":2},\"yaxis\":{\"gridcolor\":\"white\",\"linecolor\":\"white\",\"ticks\":\"\",\"title\":{\"standoff\":15},\"zerolinecolor\":\"white\",\"automargin\":true,\"zerolinewidth\":2},\"scene\":{\"xaxis\":{\"backgroundcolor\":\"#E5ECF6\",\"gridcolor\":\"white\",\"linecolor\":\"white\",\"showbackground\":true,\"ticks\":\"\",\"zerolinecolor\":\"white\",\"gridwidth\":2},\"yaxis\":{\"backgroundcolor\":\"#E5ECF6\",\"gridcolor\":\"white\",\"linecolor\":\"white\",\"showbackground\":true,\"ticks\":\"\",\"zerolinecolor\":\"white\",\"gridwidth\":2},\"zaxis\":{\"backgroundcolor\":\"#E5ECF6\",\"gridcolor\":\"white\",\"linecolor\":\"white\",\"showbackground\":true,\"ticks\":\"\",\"zerolinecolor\":\"white\",\"gridwidth\":2}},\"shapedefaults\":{\"line\":{\"color\":\"#2a3f5f\"}},\"annotationdefaults\":{\"arrowcolor\":\"#2a3f5f\",\"arrowhead\":0,\"arrowwidth\":1},\"geo\":{\"bgcolor\":\"white\",\"landcolor\":\"#E5ECF6\",\"subunitcolor\":\"white\",\"showland\":true,\"showlakes\":true,\"lakecolor\":\"white\"},\"title\":{\"x\":0.05},\"mapbox\":{\"style\":\"light\"}}},\"xaxis\":{\"anchor\":\"y\",\"domain\":[0.0,1.0],\"title\":{\"text\":\"Mean Rank\"}},\"yaxis\":{\"anchor\":\"x\",\"domain\":[0.0,1.0],\"title\":{\"text\":\"Average yearly temperature\"}},\"legend\":{\"tracegroupgap\":0},\"margin\":{\"t\":60}},                        {\"responsive\": true}                    ).then(function(){\n",
       "                            \n",
       "var gd = document.getElementById('5e5b2496-877c-4d99-a2f8-7c52833c938e');\n",
       "var x = new MutationObserver(function (mutations, observer) {{\n",
       "        var display = window.getComputedStyle(gd).display;\n",
       "        if (!display || display === 'none') {{\n",
       "            console.log([gd, 'removed!']);\n",
       "            Plotly.purge(gd);\n",
       "            observer.disconnect();\n",
       "        }}\n",
       "}});\n",
       "\n",
       "// Listen for the removal of the full notebook cells\n",
       "var notebookContainer = gd.closest('#notebook-container');\n",
       "if (notebookContainer) {{\n",
       "    x.observe(notebookContainer, {childList: true});\n",
       "}}\n",
       "\n",
       "// Listen for the clearing of the current output cell\n",
       "var outputEl = gd.closest('.output');\n",
       "if (outputEl) {{\n",
       "    x.observe(outputEl, {childList: true});\n",
       "}}\n",
       "\n",
       "                        })                };                });            </script>        </div>"
      ]
     },
     "metadata": {},
     "output_type": "display_data"
    }
   ],
   "source": [
    "happiness_temperature(df)"
   ]
  },
  {
   "cell_type": "code",
   "execution_count": 25,
   "id": "906412ad",
   "metadata": {},
   "outputs": [],
   "source": [
    "def happiness_worldmap(df):\n",
    "    \n",
    "    import plotly.graph_objects as go\n",
    "    import plotly.offline as opy\n",
    "\n",
    "    fig = go.Figure(go.Choropleth(\n",
    "        locations = df['Country'],\n",
    "        locationmode = \"country names\",\n",
    "        z = df['Mean Rank'],\n",
    "        text = df['Mean GDP per Capita'],\n",
    "        colorscale = 'bluyl',\n",
    "        autocolorscale = False,\n",
    "        reversescale = False,\n",
    "        marker_line_color = '#efefef',\n",
    "        marker_line_width = 0.5,\n",
    "        colorbar_title = 'Happiness Rank',       \n",
    "        )\n",
    "    )\n",
    "    fig.update_layout(\n",
    "        title_text = 'Happiness Score and GDP per capita',\n",
    "        showlegend = False,\n",
    "        geo = dict(\n",
    "            scope = 'world',\n",
    "            resolution = 50,\n",
    "            projection_type = 'miller',\n",
    "            showcoastlines = True,\n",
    "            showocean = True,\n",
    "            showcountries = True,\n",
    "            oceancolor = '#eaeaea',\n",
    "            lakecolor = '#eaeaea',\n",
    "            coastlinecolor = '#dadada'\n",
    "        )\n",
    "    )\n",
    "    fig.show()"
   ]
  },
  {
   "cell_type": "code",
   "execution_count": 26,
   "id": "e53b86fb",
   "metadata": {},
   "outputs": [
    {
     "data": {
      "application/vnd.plotly.v1+json": {
       "config": {
        "plotlyServerURL": "https://plot.ly"
       },
       "data": [
        {
         "autocolorscale": false,
         "colorbar": {
          "title": {
           "text": "Happiness Rank"
          }
         },
         "colorscale": [
          [
           0,
           "rgb(247, 254, 174)"
          ],
          [
           0.16666666666666666,
           "rgb(183, 230, 165)"
          ],
          [
           0.3333333333333333,
           "rgb(124, 203, 162)"
          ],
          [
           0.5,
           "rgb(70, 174, 160)"
          ],
          [
           0.6666666666666666,
           "rgb(8, 144, 153)"
          ],
          [
           0.8333333333333334,
           "rgb(0, 113, 139)"
          ],
          [
           1,
           "rgb(4, 82, 117)"
          ]
         ],
         "locationmode": "country names",
         "locations": [
          "Finland",
          "Denmark",
          "Switzerland",
          "Iceland",
          "Norway",
          "Netherlands",
          "Sweden",
          "New Zealand",
          "Canada",
          "Australia",
          "Israel",
          "Austria",
          "Costa Rica",
          "Luxembourg",
          "Ireland",
          "United States",
          "Germany",
          "United Kingdom",
          "Belgium",
          "Czech Republic",
          "United Arab Emirates",
          "Mexico",
          "France",
          "Brazil",
          "Malta",
          "Singapore",
          "Chile",
          "Qatar",
          "Taiwan",
          "Panama",
          "Uruguay",
          "Saudi Arabia",
          "Spain",
          "Guatemala",
          "Argentina",
          "Colombia",
          "Thailand",
          "Bahrain",
          "Trinidad and Tobago",
          "Slovakia",
          "Italy",
          "Kuwait",
          "El Salvador",
          "Uzbekistan",
          "Slovenia",
          "Poland",
          "Lithuania",
          "Nicaragua",
          "Ecuador",
          "Japan",
          "Kazakhstan",
          "Cyprus",
          "South Korea",
          "Cyprus",
          "Kosovo",
          "Bolivia",
          "Jamaica",
          "Romania",
          "Estonia",
          "Peru",
          "Mauritius",
          "Moldova",
          "Latvia",
          "Russia",
          "Paraguay",
          "Malaysia",
          "Croatia",
          "Belarus",
          "Serbia",
          "Libya",
          "Philippines",
          "Portugal",
          "Hungary",
          "Hong Kong",
          "Honduras",
          "Turkmenistan",
          "Venezuela",
          "Algeria",
          "Montenegro",
          "Bosnia and Herzegovina",
          "Kyrgyzstan",
          "Indonesia",
          "Turkey",
          "Greece",
          "Dominican Republic",
          "Pakistan",
          "Vietnam",
          "China",
          "Azerbaijan",
          "Mongolia",
          "Tajikistan",
          "Macedonia",
          "Bhutan",
          "Nigeria",
          "Morocco",
          "Lebanon",
          "Jordan",
          "Somalia",
          "Nepal",
          "Laos",
          "Eswatini",
          "Albania",
          "Republic of the Congo",
          "Bulgaria",
          "South Africa",
          "Gambia",
          "Cameroon",
          "Ghana",
          "Mozambique",
          "Bangladesh",
          "Palestinian Territories",
          "Iran",
          "Tunisia",
          "Armenia",
          "Iraq",
          "Namibia",
          "Senegal",
          "Ivory Coast",
          "Congo (Kinshasa)",
          "Kenya",
          "Georgia",
          "Gabon",
          "Ukraine",
          "Zambia",
          "Myanmar",
          "Niger",
          "Ethiopia",
          "Cambodia",
          "Sierra Leone",
          "Mauritania",
          "Democratic Republic of the Congo",
          "Sri Lanka",
          "Egypt",
          "Mali",
          "Burkina Faso",
          "Swaziland",
          "Benin",
          "Uganda",
          "Liberia",
          "India",
          "Guinea",
          "Chad",
          "Comoros",
          "Lesotho",
          "Congo (Brazzaville)",
          "Angola",
          "Madagascar",
          "Sudan",
          "Haiti",
          "Malawi",
          "Zimbabwe",
          "Botswana",
          "Yemen",
          "Togo",
          "Tanzania",
          "Rwanda",
          "Burundi",
          "Syria",
          "Afghanistan",
          "Central African Republic"
         ],
         "marker": {
          "line": {
           "color": "#efefef",
           "width": 0.5
          }
         },
         "reversescale": false,
         "text": [
          1.38,
          1.42,
          1.49,
          1.41,
          1.53,
          1.43,
          1.42,
          1.34,
          1.4,
          1.41,
          1.31,
          1.42,
          1.06,
          1.67,
          1.5,
          1.48,
          1.42,
          1.37,
          1.4,
          1.29,
          1.53,
          1.09,
          1.36,
          1.03,
          1.32,
          1.62,
          1.18,
          1.75,
          1.39,
          1.19,
          1.14,
          1.44,
          1.32,
          0.82,
          1.12,
          1,
          1.06,
          1.4,
          1.27,
          1.26,
          1.33,
          1.54,
          0.83,
          0.73,
          1.29,
          1.23,
          1.26,
          0.68,
          0.93,
          1.35,
          1.2,
          1.3,
          1.34,
          1.3,
          0.89,
          0.78,
          0.86,
          1.17,
          1.26,
          0.97,
          1.12,
          0.75,
          1.21,
          1.21,
          0.88,
          1.22,
          1.18,
          1.09,
          1.02,
          1.08,
          0.81,
          1.25,
          1.23,
          1.48,
          0.67,
          1.05,
          1,
          0.99,
          1.08,
          0.95,
          0.57,
          0.93,
          1.18,
          1.22,
          1.02,
          0.66,
          0.74,
          1.02,
          1.06,
          0.94,
          0.48,
          1.01,
          0.82,
          0.7,
          0.8,
          1.03,
          0.9,
          0.07,
          0.45,
          0.72,
          0.71,
          0.96,
          0.67,
          1.11,
          0.98,
          0.34,
          0.52,
          0.63,
          0.18,
          0.55,
          0.65,
          1.07,
          0.93,
          0.88,
          1.01,
          0.91,
          0.45,
          0.58,
          0,
          0.51,
          0.9,
          1.09,
          0.87,
          0.55,
          0.5,
          0.13,
          0.31,
          0.56,
          0.31,
          0.58,
          0.09,
          0.95,
          0.93,
          0.38,
          0.33,
          0.83,
          0.4,
          0.32,
          0.12,
          0.73,
          0.3,
          0.35,
          0.33,
          0.46,
          0.68,
          0.81,
          0.26,
          0.5,
          0.31,
          0.14,
          0.37,
          1.06,
          0.44,
          0.26,
          0.43,
          0.33,
          0.04,
          0.69,
          0.36,
          0.03
         ],
         "type": "choropleth",
         "z": [
          1,
          2,
          3,
          3,
          4,
          5,
          6,
          7,
          8,
          9,
          10,
          11,
          12,
          13,
          14,
          15,
          16,
          17,
          18,
          19,
          19,
          20,
          21,
          22,
          23,
          24,
          25,
          26,
          27,
          28,
          29,
          30,
          31,
          32,
          33,
          34,
          35,
          35,
          36,
          37,
          38,
          39,
          40,
          41,
          42,
          43,
          43,
          44,
          45,
          46,
          47,
          48,
          49,
          49,
          50,
          51,
          51,
          52,
          53,
          54,
          55,
          55,
          56,
          57,
          58,
          59,
          60,
          61,
          62,
          62,
          63,
          64,
          65,
          66,
          67,
          68,
          69,
          70,
          71,
          72,
          73,
          74,
          75,
          76,
          76,
          77,
          78,
          79,
          80,
          81,
          82,
          83,
          84,
          85,
          85,
          86,
          86,
          86,
          87,
          88,
          89,
          90,
          91,
          92,
          93,
          94,
          94,
          95,
          96,
          96,
          97,
          98,
          99,
          100,
          101,
          102,
          103,
          104,
          104,
          104,
          105,
          105,
          105,
          106,
          107,
          108,
          109,
          109,
          110,
          110,
          111,
          111,
          112,
          113,
          114,
          114,
          115,
          116,
          117,
          117,
          118,
          119,
          120,
          121,
          122,
          123,
          124,
          125,
          126,
          127,
          127,
          128,
          129,
          130,
          131,
          132,
          133,
          134,
          135,
          136
         ]
        }
       ],
       "layout": {
        "geo": {
         "coastlinecolor": "#dadada",
         "lakecolor": "#eaeaea",
         "oceancolor": "#eaeaea",
         "projection": {
          "type": "miller"
         },
         "resolution": 50,
         "scope": "world",
         "showcoastlines": true,
         "showcountries": true,
         "showocean": true
        },
        "showlegend": false,
        "template": {
         "data": {
          "bar": [
           {
            "error_x": {
             "color": "#2a3f5f"
            },
            "error_y": {
             "color": "#2a3f5f"
            },
            "marker": {
             "line": {
              "color": "#E5ECF6",
              "width": 0.5
             },
             "pattern": {
              "fillmode": "overlay",
              "size": 10,
              "solidity": 0.2
             }
            },
            "type": "bar"
           }
          ],
          "barpolar": [
           {
            "marker": {
             "line": {
              "color": "#E5ECF6",
              "width": 0.5
             },
             "pattern": {
              "fillmode": "overlay",
              "size": 10,
              "solidity": 0.2
             }
            },
            "type": "barpolar"
           }
          ],
          "carpet": [
           {
            "aaxis": {
             "endlinecolor": "#2a3f5f",
             "gridcolor": "white",
             "linecolor": "white",
             "minorgridcolor": "white",
             "startlinecolor": "#2a3f5f"
            },
            "baxis": {
             "endlinecolor": "#2a3f5f",
             "gridcolor": "white",
             "linecolor": "white",
             "minorgridcolor": "white",
             "startlinecolor": "#2a3f5f"
            },
            "type": "carpet"
           }
          ],
          "choropleth": [
           {
            "colorbar": {
             "outlinewidth": 0,
             "ticks": ""
            },
            "type": "choropleth"
           }
          ],
          "contour": [
           {
            "colorbar": {
             "outlinewidth": 0,
             "ticks": ""
            },
            "colorscale": [
             [
              0,
              "#0d0887"
             ],
             [
              0.1111111111111111,
              "#46039f"
             ],
             [
              0.2222222222222222,
              "#7201a8"
             ],
             [
              0.3333333333333333,
              "#9c179e"
             ],
             [
              0.4444444444444444,
              "#bd3786"
             ],
             [
              0.5555555555555556,
              "#d8576b"
             ],
             [
              0.6666666666666666,
              "#ed7953"
             ],
             [
              0.7777777777777778,
              "#fb9f3a"
             ],
             [
              0.8888888888888888,
              "#fdca26"
             ],
             [
              1,
              "#f0f921"
             ]
            ],
            "type": "contour"
           }
          ],
          "contourcarpet": [
           {
            "colorbar": {
             "outlinewidth": 0,
             "ticks": ""
            },
            "type": "contourcarpet"
           }
          ],
          "heatmap": [
           {
            "colorbar": {
             "outlinewidth": 0,
             "ticks": ""
            },
            "colorscale": [
             [
              0,
              "#0d0887"
             ],
             [
              0.1111111111111111,
              "#46039f"
             ],
             [
              0.2222222222222222,
              "#7201a8"
             ],
             [
              0.3333333333333333,
              "#9c179e"
             ],
             [
              0.4444444444444444,
              "#bd3786"
             ],
             [
              0.5555555555555556,
              "#d8576b"
             ],
             [
              0.6666666666666666,
              "#ed7953"
             ],
             [
              0.7777777777777778,
              "#fb9f3a"
             ],
             [
              0.8888888888888888,
              "#fdca26"
             ],
             [
              1,
              "#f0f921"
             ]
            ],
            "type": "heatmap"
           }
          ],
          "heatmapgl": [
           {
            "colorbar": {
             "outlinewidth": 0,
             "ticks": ""
            },
            "colorscale": [
             [
              0,
              "#0d0887"
             ],
             [
              0.1111111111111111,
              "#46039f"
             ],
             [
              0.2222222222222222,
              "#7201a8"
             ],
             [
              0.3333333333333333,
              "#9c179e"
             ],
             [
              0.4444444444444444,
              "#bd3786"
             ],
             [
              0.5555555555555556,
              "#d8576b"
             ],
             [
              0.6666666666666666,
              "#ed7953"
             ],
             [
              0.7777777777777778,
              "#fb9f3a"
             ],
             [
              0.8888888888888888,
              "#fdca26"
             ],
             [
              1,
              "#f0f921"
             ]
            ],
            "type": "heatmapgl"
           }
          ],
          "histogram": [
           {
            "marker": {
             "pattern": {
              "fillmode": "overlay",
              "size": 10,
              "solidity": 0.2
             }
            },
            "type": "histogram"
           }
          ],
          "histogram2d": [
           {
            "colorbar": {
             "outlinewidth": 0,
             "ticks": ""
            },
            "colorscale": [
             [
              0,
              "#0d0887"
             ],
             [
              0.1111111111111111,
              "#46039f"
             ],
             [
              0.2222222222222222,
              "#7201a8"
             ],
             [
              0.3333333333333333,
              "#9c179e"
             ],
             [
              0.4444444444444444,
              "#bd3786"
             ],
             [
              0.5555555555555556,
              "#d8576b"
             ],
             [
              0.6666666666666666,
              "#ed7953"
             ],
             [
              0.7777777777777778,
              "#fb9f3a"
             ],
             [
              0.8888888888888888,
              "#fdca26"
             ],
             [
              1,
              "#f0f921"
             ]
            ],
            "type": "histogram2d"
           }
          ],
          "histogram2dcontour": [
           {
            "colorbar": {
             "outlinewidth": 0,
             "ticks": ""
            },
            "colorscale": [
             [
              0,
              "#0d0887"
             ],
             [
              0.1111111111111111,
              "#46039f"
             ],
             [
              0.2222222222222222,
              "#7201a8"
             ],
             [
              0.3333333333333333,
              "#9c179e"
             ],
             [
              0.4444444444444444,
              "#bd3786"
             ],
             [
              0.5555555555555556,
              "#d8576b"
             ],
             [
              0.6666666666666666,
              "#ed7953"
             ],
             [
              0.7777777777777778,
              "#fb9f3a"
             ],
             [
              0.8888888888888888,
              "#fdca26"
             ],
             [
              1,
              "#f0f921"
             ]
            ],
            "type": "histogram2dcontour"
           }
          ],
          "mesh3d": [
           {
            "colorbar": {
             "outlinewidth": 0,
             "ticks": ""
            },
            "type": "mesh3d"
           }
          ],
          "parcoords": [
           {
            "line": {
             "colorbar": {
              "outlinewidth": 0,
              "ticks": ""
             }
            },
            "type": "parcoords"
           }
          ],
          "pie": [
           {
            "automargin": true,
            "type": "pie"
           }
          ],
          "scatter": [
           {
            "fillpattern": {
             "fillmode": "overlay",
             "size": 10,
             "solidity": 0.2
            },
            "type": "scatter"
           }
          ],
          "scatter3d": [
           {
            "line": {
             "colorbar": {
              "outlinewidth": 0,
              "ticks": ""
             }
            },
            "marker": {
             "colorbar": {
              "outlinewidth": 0,
              "ticks": ""
             }
            },
            "type": "scatter3d"
           }
          ],
          "scattercarpet": [
           {
            "marker": {
             "colorbar": {
              "outlinewidth": 0,
              "ticks": ""
             }
            },
            "type": "scattercarpet"
           }
          ],
          "scattergeo": [
           {
            "marker": {
             "colorbar": {
              "outlinewidth": 0,
              "ticks": ""
             }
            },
            "type": "scattergeo"
           }
          ],
          "scattergl": [
           {
            "marker": {
             "colorbar": {
              "outlinewidth": 0,
              "ticks": ""
             }
            },
            "type": "scattergl"
           }
          ],
          "scattermapbox": [
           {
            "marker": {
             "colorbar": {
              "outlinewidth": 0,
              "ticks": ""
             }
            },
            "type": "scattermapbox"
           }
          ],
          "scatterpolar": [
           {
            "marker": {
             "colorbar": {
              "outlinewidth": 0,
              "ticks": ""
             }
            },
            "type": "scatterpolar"
           }
          ],
          "scatterpolargl": [
           {
            "marker": {
             "colorbar": {
              "outlinewidth": 0,
              "ticks": ""
             }
            },
            "type": "scatterpolargl"
           }
          ],
          "scatterternary": [
           {
            "marker": {
             "colorbar": {
              "outlinewidth": 0,
              "ticks": ""
             }
            },
            "type": "scatterternary"
           }
          ],
          "surface": [
           {
            "colorbar": {
             "outlinewidth": 0,
             "ticks": ""
            },
            "colorscale": [
             [
              0,
              "#0d0887"
             ],
             [
              0.1111111111111111,
              "#46039f"
             ],
             [
              0.2222222222222222,
              "#7201a8"
             ],
             [
              0.3333333333333333,
              "#9c179e"
             ],
             [
              0.4444444444444444,
              "#bd3786"
             ],
             [
              0.5555555555555556,
              "#d8576b"
             ],
             [
              0.6666666666666666,
              "#ed7953"
             ],
             [
              0.7777777777777778,
              "#fb9f3a"
             ],
             [
              0.8888888888888888,
              "#fdca26"
             ],
             [
              1,
              "#f0f921"
             ]
            ],
            "type": "surface"
           }
          ],
          "table": [
           {
            "cells": {
             "fill": {
              "color": "#EBF0F8"
             },
             "line": {
              "color": "white"
             }
            },
            "header": {
             "fill": {
              "color": "#C8D4E3"
             },
             "line": {
              "color": "white"
             }
            },
            "type": "table"
           }
          ]
         },
         "layout": {
          "annotationdefaults": {
           "arrowcolor": "#2a3f5f",
           "arrowhead": 0,
           "arrowwidth": 1
          },
          "autotypenumbers": "strict",
          "coloraxis": {
           "colorbar": {
            "outlinewidth": 0,
            "ticks": ""
           }
          },
          "colorscale": {
           "diverging": [
            [
             0,
             "#8e0152"
            ],
            [
             0.1,
             "#c51b7d"
            ],
            [
             0.2,
             "#de77ae"
            ],
            [
             0.3,
             "#f1b6da"
            ],
            [
             0.4,
             "#fde0ef"
            ],
            [
             0.5,
             "#f7f7f7"
            ],
            [
             0.6,
             "#e6f5d0"
            ],
            [
             0.7,
             "#b8e186"
            ],
            [
             0.8,
             "#7fbc41"
            ],
            [
             0.9,
             "#4d9221"
            ],
            [
             1,
             "#276419"
            ]
           ],
           "sequential": [
            [
             0,
             "#0d0887"
            ],
            [
             0.1111111111111111,
             "#46039f"
            ],
            [
             0.2222222222222222,
             "#7201a8"
            ],
            [
             0.3333333333333333,
             "#9c179e"
            ],
            [
             0.4444444444444444,
             "#bd3786"
            ],
            [
             0.5555555555555556,
             "#d8576b"
            ],
            [
             0.6666666666666666,
             "#ed7953"
            ],
            [
             0.7777777777777778,
             "#fb9f3a"
            ],
            [
             0.8888888888888888,
             "#fdca26"
            ],
            [
             1,
             "#f0f921"
            ]
           ],
           "sequentialminus": [
            [
             0,
             "#0d0887"
            ],
            [
             0.1111111111111111,
             "#46039f"
            ],
            [
             0.2222222222222222,
             "#7201a8"
            ],
            [
             0.3333333333333333,
             "#9c179e"
            ],
            [
             0.4444444444444444,
             "#bd3786"
            ],
            [
             0.5555555555555556,
             "#d8576b"
            ],
            [
             0.6666666666666666,
             "#ed7953"
            ],
            [
             0.7777777777777778,
             "#fb9f3a"
            ],
            [
             0.8888888888888888,
             "#fdca26"
            ],
            [
             1,
             "#f0f921"
            ]
           ]
          },
          "colorway": [
           "#636efa",
           "#EF553B",
           "#00cc96",
           "#ab63fa",
           "#FFA15A",
           "#19d3f3",
           "#FF6692",
           "#B6E880",
           "#FF97FF",
           "#FECB52"
          ],
          "font": {
           "color": "#2a3f5f"
          },
          "geo": {
           "bgcolor": "white",
           "lakecolor": "white",
           "landcolor": "#E5ECF6",
           "showlakes": true,
           "showland": true,
           "subunitcolor": "white"
          },
          "hoverlabel": {
           "align": "left"
          },
          "hovermode": "closest",
          "mapbox": {
           "style": "light"
          },
          "paper_bgcolor": "white",
          "plot_bgcolor": "#E5ECF6",
          "polar": {
           "angularaxis": {
            "gridcolor": "white",
            "linecolor": "white",
            "ticks": ""
           },
           "bgcolor": "#E5ECF6",
           "radialaxis": {
            "gridcolor": "white",
            "linecolor": "white",
            "ticks": ""
           }
          },
          "scene": {
           "xaxis": {
            "backgroundcolor": "#E5ECF6",
            "gridcolor": "white",
            "gridwidth": 2,
            "linecolor": "white",
            "showbackground": true,
            "ticks": "",
            "zerolinecolor": "white"
           },
           "yaxis": {
            "backgroundcolor": "#E5ECF6",
            "gridcolor": "white",
            "gridwidth": 2,
            "linecolor": "white",
            "showbackground": true,
            "ticks": "",
            "zerolinecolor": "white"
           },
           "zaxis": {
            "backgroundcolor": "#E5ECF6",
            "gridcolor": "white",
            "gridwidth": 2,
            "linecolor": "white",
            "showbackground": true,
            "ticks": "",
            "zerolinecolor": "white"
           }
          },
          "shapedefaults": {
           "line": {
            "color": "#2a3f5f"
           }
          },
          "ternary": {
           "aaxis": {
            "gridcolor": "white",
            "linecolor": "white",
            "ticks": ""
           },
           "baxis": {
            "gridcolor": "white",
            "linecolor": "white",
            "ticks": ""
           },
           "bgcolor": "#E5ECF6",
           "caxis": {
            "gridcolor": "white",
            "linecolor": "white",
            "ticks": ""
           }
          },
          "title": {
           "x": 0.05
          },
          "xaxis": {
           "automargin": true,
           "gridcolor": "white",
           "linecolor": "white",
           "ticks": "",
           "title": {
            "standoff": 15
           },
           "zerolinecolor": "white",
           "zerolinewidth": 2
          },
          "yaxis": {
           "automargin": true,
           "gridcolor": "white",
           "linecolor": "white",
           "ticks": "",
           "title": {
            "standoff": 15
           },
           "zerolinecolor": "white",
           "zerolinewidth": 2
          }
         }
        },
        "title": {
         "text": "Happiness Score and GDP per capita"
        }
       }
      },
      "text/html": [
       "<div>                            <div id=\"439ee201-9356-4380-aafd-fe5fbbaa99ec\" class=\"plotly-graph-div\" style=\"height:525px; width:100%;\"></div>            <script type=\"text/javascript\">                require([\"plotly\"], function(Plotly) {                    window.PLOTLYENV=window.PLOTLYENV || {};                                    if (document.getElementById(\"439ee201-9356-4380-aafd-fe5fbbaa99ec\")) {                    Plotly.newPlot(                        \"439ee201-9356-4380-aafd-fe5fbbaa99ec\",                        [{\"autocolorscale\":false,\"colorbar\":{\"title\":{\"text\":\"Happiness Rank\"}},\"colorscale\":[[0.0,\"rgb(247, 254, 174)\"],[0.16666666666666666,\"rgb(183, 230, 165)\"],[0.3333333333333333,\"rgb(124, 203, 162)\"],[0.5,\"rgb(70, 174, 160)\"],[0.6666666666666666,\"rgb(8, 144, 153)\"],[0.8333333333333334,\"rgb(0, 113, 139)\"],[1.0,\"rgb(4, 82, 117)\"]],\"locationmode\":\"country names\",\"locations\":[\"Finland\",\"Denmark\",\"Switzerland\",\"Iceland\",\"Norway\",\"Netherlands\",\"Sweden\",\"New Zealand\",\"Canada\",\"Australia\",\"Israel\",\"Austria\",\"Costa Rica\",\"Luxembourg\",\"Ireland\",\"United States\",\"Germany\",\"United Kingdom\",\"Belgium\",\"Czech Republic\",\"United Arab Emirates\",\"Mexico\",\"France\",\"Brazil\",\"Malta\",\"Singapore\",\"Chile\",\"Qatar\",\"Taiwan\",\"Panama\",\"Uruguay\",\"Saudi Arabia\",\"Spain\",\"Guatemala\",\"Argentina\",\"Colombia\",\"Thailand\",\"Bahrain\",\"Trinidad and Tobago\",\"Slovakia\",\"Italy\",\"Kuwait\",\"El Salvador\",\"Uzbekistan\",\"Slovenia\",\"Poland\",\"Lithuania\",\"Nicaragua\",\"Ecuador\",\"Japan\",\"Kazakhstan\",\"Cyprus\",\"South Korea\",\"Cyprus\",\"Kosovo\",\"Bolivia\",\"Jamaica\",\"Romania\",\"Estonia\",\"Peru\",\"Mauritius\",\"Moldova\",\"Latvia\",\"Russia\",\"Paraguay\",\"Malaysia\",\"Croatia\",\"Belarus\",\"Serbia\",\"Libya\",\"Philippines\",\"Portugal\",\"Hungary\",\"Hong Kong\",\"Honduras\",\"Turkmenistan\",\"Venezuela\",\"Algeria\",\"Montenegro\",\"Bosnia and Herzegovina\",\"Kyrgyzstan\",\"Indonesia\",\"Turkey\",\"Greece\",\"Dominican Republic\",\"Pakistan\",\"Vietnam\",\"China\",\"Azerbaijan\",\"Mongolia\",\"Tajikistan\",\"Macedonia\",\"Bhutan\",\"Nigeria\",\"Morocco\",\"Lebanon\",\"Jordan\",\"Somalia\",\"Nepal\",\"Laos\",\"Eswatini\",\"Albania\",\"Republic of the Congo\",\"Bulgaria\",\"South Africa\",\"Gambia\",\"Cameroon\",\"Ghana\",\"Mozambique\",\"Bangladesh\",\"Palestinian Territories\",\"Iran\",\"Tunisia\",\"Armenia\",\"Iraq\",\"Namibia\",\"Senegal\",\"Ivory Coast\",\"Congo (Kinshasa)\",\"Kenya\",\"Georgia\",\"Gabon\",\"Ukraine\",\"Zambia\",\"Myanmar\",\"Niger\",\"Ethiopia\",\"Cambodia\",\"Sierra Leone\",\"Mauritania\",\"Democratic Republic of the Congo\",\"Sri Lanka\",\"Egypt\",\"Mali\",\"Burkina Faso\",\"Swaziland\",\"Benin\",\"Uganda\",\"Liberia\",\"India\",\"Guinea\",\"Chad\",\"Comoros\",\"Lesotho\",\"Congo (Brazzaville)\",\"Angola\",\"Madagascar\",\"Sudan\",\"Haiti\",\"Malawi\",\"Zimbabwe\",\"Botswana\",\"Yemen\",\"Togo\",\"Tanzania\",\"Rwanda\",\"Burundi\",\"Syria\",\"Afghanistan\",\"Central African Republic\"],\"marker\":{\"line\":{\"color\":\"#efefef\",\"width\":0.5}},\"reversescale\":false,\"text\":[1.38,1.42,1.49,1.41,1.53,1.43,1.42,1.34,1.4,1.41,1.31,1.42,1.06,1.67,1.5,1.48,1.42,1.37,1.4,1.29,1.53,1.09,1.36,1.03,1.32,1.62,1.18,1.75,1.39,1.19,1.14,1.44,1.32,0.82,1.12,1.0,1.06,1.4,1.27,1.26,1.33,1.54,0.83,0.73,1.29,1.23,1.26,0.68,0.93,1.35,1.2,1.3,1.34,1.3,0.89,0.78,0.86,1.17,1.26,0.97,1.12,0.75,1.21,1.21,0.88,1.22,1.18,1.09,1.02,1.08,0.81,1.25,1.23,1.48,0.67,1.05,1.0,0.99,1.08,0.95,0.57,0.93,1.18,1.22,1.02,0.66,0.74,1.02,1.06,0.94,0.48,1.01,0.82,0.7,0.8,1.03,0.9,0.07,0.45,0.72,0.71,0.96,0.67,1.11,0.98,0.34,0.52,0.63,0.18,0.55,0.65,1.07,0.93,0.88,1.01,0.91,0.45,0.58,0.0,0.51,0.9,1.09,0.87,0.55,0.5,0.13,0.31,0.56,0.31,0.58,0.09,0.95,0.93,0.38,0.33,0.83,0.4,0.32,0.12,0.73,0.3,0.35,0.33,0.46,0.68,0.81,0.26,0.5,0.31,0.14,0.37,1.06,0.44,0.26,0.43,0.33,0.04,0.69,0.36,0.03],\"z\":[1,2,3,3,4,5,6,7,8,9,10,11,12,13,14,15,16,17,18,19,19,20,21,22,23,24,25,26,27,28,29,30,31,32,33,34,35,35,36,37,38,39,40,41,42,43,43,44,45,46,47,48,49,49,50,51,51,52,53,54,55,55,56,57,58,59,60,61,62,62,63,64,65,66,67,68,69,70,71,72,73,74,75,76,76,77,78,79,80,81,82,83,84,85,85,86,86,86,87,88,89,90,91,92,93,94,94,95,96,96,97,98,99,100,101,102,103,104,104,104,105,105,105,106,107,108,109,109,110,110,111,111,112,113,114,114,115,116,117,117,118,119,120,121,122,123,124,125,126,127,127,128,129,130,131,132,133,134,135,136],\"type\":\"choropleth\"}],                        {\"template\":{\"data\":{\"histogram2dcontour\":[{\"type\":\"histogram2dcontour\",\"colorbar\":{\"outlinewidth\":0,\"ticks\":\"\"},\"colorscale\":[[0.0,\"#0d0887\"],[0.1111111111111111,\"#46039f\"],[0.2222222222222222,\"#7201a8\"],[0.3333333333333333,\"#9c179e\"],[0.4444444444444444,\"#bd3786\"],[0.5555555555555556,\"#d8576b\"],[0.6666666666666666,\"#ed7953\"],[0.7777777777777778,\"#fb9f3a\"],[0.8888888888888888,\"#fdca26\"],[1.0,\"#f0f921\"]]}],\"choropleth\":[{\"type\":\"choropleth\",\"colorbar\":{\"outlinewidth\":0,\"ticks\":\"\"}}],\"histogram2d\":[{\"type\":\"histogram2d\",\"colorbar\":{\"outlinewidth\":0,\"ticks\":\"\"},\"colorscale\":[[0.0,\"#0d0887\"],[0.1111111111111111,\"#46039f\"],[0.2222222222222222,\"#7201a8\"],[0.3333333333333333,\"#9c179e\"],[0.4444444444444444,\"#bd3786\"],[0.5555555555555556,\"#d8576b\"],[0.6666666666666666,\"#ed7953\"],[0.7777777777777778,\"#fb9f3a\"],[0.8888888888888888,\"#fdca26\"],[1.0,\"#f0f921\"]]}],\"heatmap\":[{\"type\":\"heatmap\",\"colorbar\":{\"outlinewidth\":0,\"ticks\":\"\"},\"colorscale\":[[0.0,\"#0d0887\"],[0.1111111111111111,\"#46039f\"],[0.2222222222222222,\"#7201a8\"],[0.3333333333333333,\"#9c179e\"],[0.4444444444444444,\"#bd3786\"],[0.5555555555555556,\"#d8576b\"],[0.6666666666666666,\"#ed7953\"],[0.7777777777777778,\"#fb9f3a\"],[0.8888888888888888,\"#fdca26\"],[1.0,\"#f0f921\"]]}],\"heatmapgl\":[{\"type\":\"heatmapgl\",\"colorbar\":{\"outlinewidth\":0,\"ticks\":\"\"},\"colorscale\":[[0.0,\"#0d0887\"],[0.1111111111111111,\"#46039f\"],[0.2222222222222222,\"#7201a8\"],[0.3333333333333333,\"#9c179e\"],[0.4444444444444444,\"#bd3786\"],[0.5555555555555556,\"#d8576b\"],[0.6666666666666666,\"#ed7953\"],[0.7777777777777778,\"#fb9f3a\"],[0.8888888888888888,\"#fdca26\"],[1.0,\"#f0f921\"]]}],\"contourcarpet\":[{\"type\":\"contourcarpet\",\"colorbar\":{\"outlinewidth\":0,\"ticks\":\"\"}}],\"contour\":[{\"type\":\"contour\",\"colorbar\":{\"outlinewidth\":0,\"ticks\":\"\"},\"colorscale\":[[0.0,\"#0d0887\"],[0.1111111111111111,\"#46039f\"],[0.2222222222222222,\"#7201a8\"],[0.3333333333333333,\"#9c179e\"],[0.4444444444444444,\"#bd3786\"],[0.5555555555555556,\"#d8576b\"],[0.6666666666666666,\"#ed7953\"],[0.7777777777777778,\"#fb9f3a\"],[0.8888888888888888,\"#fdca26\"],[1.0,\"#f0f921\"]]}],\"surface\":[{\"type\":\"surface\",\"colorbar\":{\"outlinewidth\":0,\"ticks\":\"\"},\"colorscale\":[[0.0,\"#0d0887\"],[0.1111111111111111,\"#46039f\"],[0.2222222222222222,\"#7201a8\"],[0.3333333333333333,\"#9c179e\"],[0.4444444444444444,\"#bd3786\"],[0.5555555555555556,\"#d8576b\"],[0.6666666666666666,\"#ed7953\"],[0.7777777777777778,\"#fb9f3a\"],[0.8888888888888888,\"#fdca26\"],[1.0,\"#f0f921\"]]}],\"mesh3d\":[{\"type\":\"mesh3d\",\"colorbar\":{\"outlinewidth\":0,\"ticks\":\"\"}}],\"scatter\":[{\"fillpattern\":{\"fillmode\":\"overlay\",\"size\":10,\"solidity\":0.2},\"type\":\"scatter\"}],\"parcoords\":[{\"type\":\"parcoords\",\"line\":{\"colorbar\":{\"outlinewidth\":0,\"ticks\":\"\"}}}],\"scatterpolargl\":[{\"type\":\"scatterpolargl\",\"marker\":{\"colorbar\":{\"outlinewidth\":0,\"ticks\":\"\"}}}],\"bar\":[{\"error_x\":{\"color\":\"#2a3f5f\"},\"error_y\":{\"color\":\"#2a3f5f\"},\"marker\":{\"line\":{\"color\":\"#E5ECF6\",\"width\":0.5},\"pattern\":{\"fillmode\":\"overlay\",\"size\":10,\"solidity\":0.2}},\"type\":\"bar\"}],\"scattergeo\":[{\"type\":\"scattergeo\",\"marker\":{\"colorbar\":{\"outlinewidth\":0,\"ticks\":\"\"}}}],\"scatterpolar\":[{\"type\":\"scatterpolar\",\"marker\":{\"colorbar\":{\"outlinewidth\":0,\"ticks\":\"\"}}}],\"histogram\":[{\"marker\":{\"pattern\":{\"fillmode\":\"overlay\",\"size\":10,\"solidity\":0.2}},\"type\":\"histogram\"}],\"scattergl\":[{\"type\":\"scattergl\",\"marker\":{\"colorbar\":{\"outlinewidth\":0,\"ticks\":\"\"}}}],\"scatter3d\":[{\"type\":\"scatter3d\",\"line\":{\"colorbar\":{\"outlinewidth\":0,\"ticks\":\"\"}},\"marker\":{\"colorbar\":{\"outlinewidth\":0,\"ticks\":\"\"}}}],\"scattermapbox\":[{\"type\":\"scattermapbox\",\"marker\":{\"colorbar\":{\"outlinewidth\":0,\"ticks\":\"\"}}}],\"scatterternary\":[{\"type\":\"scatterternary\",\"marker\":{\"colorbar\":{\"outlinewidth\":0,\"ticks\":\"\"}}}],\"scattercarpet\":[{\"type\":\"scattercarpet\",\"marker\":{\"colorbar\":{\"outlinewidth\":0,\"ticks\":\"\"}}}],\"carpet\":[{\"aaxis\":{\"endlinecolor\":\"#2a3f5f\",\"gridcolor\":\"white\",\"linecolor\":\"white\",\"minorgridcolor\":\"white\",\"startlinecolor\":\"#2a3f5f\"},\"baxis\":{\"endlinecolor\":\"#2a3f5f\",\"gridcolor\":\"white\",\"linecolor\":\"white\",\"minorgridcolor\":\"white\",\"startlinecolor\":\"#2a3f5f\"},\"type\":\"carpet\"}],\"table\":[{\"cells\":{\"fill\":{\"color\":\"#EBF0F8\"},\"line\":{\"color\":\"white\"}},\"header\":{\"fill\":{\"color\":\"#C8D4E3\"},\"line\":{\"color\":\"white\"}},\"type\":\"table\"}],\"barpolar\":[{\"marker\":{\"line\":{\"color\":\"#E5ECF6\",\"width\":0.5},\"pattern\":{\"fillmode\":\"overlay\",\"size\":10,\"solidity\":0.2}},\"type\":\"barpolar\"}],\"pie\":[{\"automargin\":true,\"type\":\"pie\"}]},\"layout\":{\"autotypenumbers\":\"strict\",\"colorway\":[\"#636efa\",\"#EF553B\",\"#00cc96\",\"#ab63fa\",\"#FFA15A\",\"#19d3f3\",\"#FF6692\",\"#B6E880\",\"#FF97FF\",\"#FECB52\"],\"font\":{\"color\":\"#2a3f5f\"},\"hovermode\":\"closest\",\"hoverlabel\":{\"align\":\"left\"},\"paper_bgcolor\":\"white\",\"plot_bgcolor\":\"#E5ECF6\",\"polar\":{\"bgcolor\":\"#E5ECF6\",\"angularaxis\":{\"gridcolor\":\"white\",\"linecolor\":\"white\",\"ticks\":\"\"},\"radialaxis\":{\"gridcolor\":\"white\",\"linecolor\":\"white\",\"ticks\":\"\"}},\"ternary\":{\"bgcolor\":\"#E5ECF6\",\"aaxis\":{\"gridcolor\":\"white\",\"linecolor\":\"white\",\"ticks\":\"\"},\"baxis\":{\"gridcolor\":\"white\",\"linecolor\":\"white\",\"ticks\":\"\"},\"caxis\":{\"gridcolor\":\"white\",\"linecolor\":\"white\",\"ticks\":\"\"}},\"coloraxis\":{\"colorbar\":{\"outlinewidth\":0,\"ticks\":\"\"}},\"colorscale\":{\"sequential\":[[0.0,\"#0d0887\"],[0.1111111111111111,\"#46039f\"],[0.2222222222222222,\"#7201a8\"],[0.3333333333333333,\"#9c179e\"],[0.4444444444444444,\"#bd3786\"],[0.5555555555555556,\"#d8576b\"],[0.6666666666666666,\"#ed7953\"],[0.7777777777777778,\"#fb9f3a\"],[0.8888888888888888,\"#fdca26\"],[1.0,\"#f0f921\"]],\"sequentialminus\":[[0.0,\"#0d0887\"],[0.1111111111111111,\"#46039f\"],[0.2222222222222222,\"#7201a8\"],[0.3333333333333333,\"#9c179e\"],[0.4444444444444444,\"#bd3786\"],[0.5555555555555556,\"#d8576b\"],[0.6666666666666666,\"#ed7953\"],[0.7777777777777778,\"#fb9f3a\"],[0.8888888888888888,\"#fdca26\"],[1.0,\"#f0f921\"]],\"diverging\":[[0,\"#8e0152\"],[0.1,\"#c51b7d\"],[0.2,\"#de77ae\"],[0.3,\"#f1b6da\"],[0.4,\"#fde0ef\"],[0.5,\"#f7f7f7\"],[0.6,\"#e6f5d0\"],[0.7,\"#b8e186\"],[0.8,\"#7fbc41\"],[0.9,\"#4d9221\"],[1,\"#276419\"]]},\"xaxis\":{\"gridcolor\":\"white\",\"linecolor\":\"white\",\"ticks\":\"\",\"title\":{\"standoff\":15},\"zerolinecolor\":\"white\",\"automargin\":true,\"zerolinewidth\":2},\"yaxis\":{\"gridcolor\":\"white\",\"linecolor\":\"white\",\"ticks\":\"\",\"title\":{\"standoff\":15},\"zerolinecolor\":\"white\",\"automargin\":true,\"zerolinewidth\":2},\"scene\":{\"xaxis\":{\"backgroundcolor\":\"#E5ECF6\",\"gridcolor\":\"white\",\"linecolor\":\"white\",\"showbackground\":true,\"ticks\":\"\",\"zerolinecolor\":\"white\",\"gridwidth\":2},\"yaxis\":{\"backgroundcolor\":\"#E5ECF6\",\"gridcolor\":\"white\",\"linecolor\":\"white\",\"showbackground\":true,\"ticks\":\"\",\"zerolinecolor\":\"white\",\"gridwidth\":2},\"zaxis\":{\"backgroundcolor\":\"#E5ECF6\",\"gridcolor\":\"white\",\"linecolor\":\"white\",\"showbackground\":true,\"ticks\":\"\",\"zerolinecolor\":\"white\",\"gridwidth\":2}},\"shapedefaults\":{\"line\":{\"color\":\"#2a3f5f\"}},\"annotationdefaults\":{\"arrowcolor\":\"#2a3f5f\",\"arrowhead\":0,\"arrowwidth\":1},\"geo\":{\"bgcolor\":\"white\",\"landcolor\":\"#E5ECF6\",\"subunitcolor\":\"white\",\"showland\":true,\"showlakes\":true,\"lakecolor\":\"white\"},\"title\":{\"x\":0.05},\"mapbox\":{\"style\":\"light\"}}},\"title\":{\"text\":\"Happiness Score and GDP per capita\"},\"geo\":{\"projection\":{\"type\":\"miller\"},\"scope\":\"world\",\"resolution\":50,\"showcoastlines\":true,\"showocean\":true,\"showcountries\":true,\"oceancolor\":\"#eaeaea\",\"lakecolor\":\"#eaeaea\",\"coastlinecolor\":\"#dadada\"},\"showlegend\":false},                        {\"responsive\": true}                    ).then(function(){\n",
       "                            \n",
       "var gd = document.getElementById('439ee201-9356-4380-aafd-fe5fbbaa99ec');\n",
       "var x = new MutationObserver(function (mutations, observer) {{\n",
       "        var display = window.getComputedStyle(gd).display;\n",
       "        if (!display || display === 'none') {{\n",
       "            console.log([gd, 'removed!']);\n",
       "            Plotly.purge(gd);\n",
       "            observer.disconnect();\n",
       "        }}\n",
       "}});\n",
       "\n",
       "// Listen for the removal of the full notebook cells\n",
       "var notebookContainer = gd.closest('#notebook-container');\n",
       "if (notebookContainer) {{\n",
       "    x.observe(notebookContainer, {childList: true});\n",
       "}}\n",
       "\n",
       "// Listen for the clearing of the current output cell\n",
       "var outputEl = gd.closest('.output');\n",
       "if (outputEl) {{\n",
       "    x.observe(outputEl, {childList: true});\n",
       "}}\n",
       "\n",
       "                        })                };                });            </script>        </div>"
      ]
     },
     "metadata": {},
     "output_type": "display_data"
    }
   ],
   "source": [
    "happiness_worldmap(df)"
   ]
  },
  {
   "cell_type": "code",
   "execution_count": null,
   "id": "5899d385",
   "metadata": {},
   "outputs": [],
   "source": [
    "\n"
   ]
  },
  {
   "cell_type": "code",
   "execution_count": null,
   "id": "5f8f8356",
   "metadata": {},
   "outputs": [],
   "source": []
  },
  {
   "cell_type": "code",
   "execution_count": null,
   "id": "b76a39c7",
   "metadata": {},
   "outputs": [],
   "source": []
  },
  {
   "cell_type": "code",
   "execution_count": 27,
   "id": "bc2ed6bc",
   "metadata": {},
   "outputs": [
    {
     "data": {
      "text/plain": [
       "\" mask_Somalia = df['Country'].str.contains('Somaliland', case=False)\\ndf.loc[mask_Somalia, 'Country'] = 'Somalia'  \""
      ]
     },
     "execution_count": 27,
     "metadata": {},
     "output_type": "execute_result"
    }
   ],
   "source": [
    "    \"\"\" mask_Somalia = df['Country'].str.contains('Somaliland', case=False)\n",
    "    df.loc[mask_Somalia, 'Country'] = 'Somalia'  \"\"\""
   ]
  },
  {
   "cell_type": "code",
   "execution_count": 28,
   "id": "e130cc2f",
   "metadata": {},
   "outputs": [
    {
     "data": {
      "text/plain": [
       "\" mask_Denmark = df2['Country'].str.contains('Denmark', case=False)\\ndf2.loc[mask_Denmark, 'Country'] = 'Denmark'\\n\\nmask_Cyprus = df2['Country'].str.contains('Cyprus', case=False)\\ndf2.loc[mask_Cyprus, 'Country'] = 'Cyprus'\\n\\nmask_Norway = df2['Country'].str.contains('Norway', case=False)\\ndf2.loc[mask_Norway, 'Country'] = 'Norway'\\n\\nmask_Somalia = df2['Country'].str.contains('Somaliland', case=False)\\ndf2.loc[mask_Somalia, 'Country'] = 'Somalia'\\n\\nmask_Macedonia = df2['Country'].str.contains('Macedonia', case=False)\\ndf2.loc[mask_Macedonia, 'Country'] = 'Macedonia'\\n\\nmask_Swaziland = df2['Country'].str.contains('Eswatini', case=False)\\ndf2.loc[mask_Swaziland, 'Country'] = 'Swaziland'\\n\\nmask_Democratic = df['Country'].str.contains('Kinshasa', case=False)\\ndf.loc[mask_Democratic, 'Country'] = 'Democratic Republic of the Congo'\\n\\nmask_Congo = df['Country'].str.contains('Brazzaville', case=False)\\ndf.loc[mask_Congo, 'Country'] = 'Republic of the Congo'  \""
      ]
     },
     "execution_count": 28,
     "metadata": {},
     "output_type": "execute_result"
    }
   ],
   "source": [
    "    \"\"\" mask_Denmark = df2['Country'].str.contains('Denmark', case=False)\n",
    "    df2.loc[mask_Denmark, 'Country'] = 'Denmark'\n",
    "    \n",
    "    mask_Cyprus = df2['Country'].str.contains('Cyprus', case=False)\n",
    "    df2.loc[mask_Cyprus, 'Country'] = 'Cyprus'\n",
    "    \n",
    "    mask_Norway = df2['Country'].str.contains('Norway', case=False)\n",
    "    df2.loc[mask_Norway, 'Country'] = 'Norway'\n",
    "    \n",
    "    mask_Somalia = df2['Country'].str.contains('Somaliland', case=False)\n",
    "    df2.loc[mask_Somalia, 'Country'] = 'Somalia'\n",
    "    \n",
    "    mask_Macedonia = df2['Country'].str.contains('Macedonia', case=False)\n",
    "    df2.loc[mask_Macedonia, 'Country'] = 'Macedonia'\n",
    "    \n",
    "    mask_Swaziland = df2['Country'].str.contains('Eswatini', case=False)\n",
    "    df2.loc[mask_Swaziland, 'Country'] = 'Swaziland'\n",
    "    \n",
    "    mask_Democratic = df['Country'].str.contains('Kinshasa', case=False)\n",
    "    df.loc[mask_Democratic, 'Country'] = 'Democratic Republic of the Congo'\n",
    "    \n",
    "    mask_Congo = df['Country'].str.contains('Brazzaville', case=False)\n",
    "    df.loc[mask_Congo, 'Country'] = 'Republic of the Congo'  \"\"\""
   ]
  },
  {
   "cell_type": "code",
   "execution_count": null,
   "id": "ced60a50",
   "metadata": {},
   "outputs": [],
   "source": []
  }
 ],
 "metadata": {
  "kernelspec": {
   "display_name": "ironhack",
   "language": "python",
   "name": "ironhack"
  },
  "language_info": {
   "codemirror_mode": {
    "name": "ipython",
    "version": 3
   },
   "file_extension": ".py",
   "mimetype": "text/x-python",
   "name": "python",
   "nbconvert_exporter": "python",
   "pygments_lexer": "ipython3",
   "version": "3.10.9"
  }
 },
 "nbformat": 4,
 "nbformat_minor": 5
}
